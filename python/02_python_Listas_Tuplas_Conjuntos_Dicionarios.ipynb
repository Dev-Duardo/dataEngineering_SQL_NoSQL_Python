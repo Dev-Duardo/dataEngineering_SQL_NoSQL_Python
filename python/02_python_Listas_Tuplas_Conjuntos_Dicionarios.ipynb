{
  "cells": [
    {
      "cell_type": "markdown",
      "source": [
        "\n",
        "---\n",
        "\n",
        "**Estudo Detalhado sobre Listas, Tuplas, Conjuntos e Dicionários em Python**\n",
        "\n",
        "**1. Introdução às Estruturas de Dados em Python**\n",
        "\n",
        "Na vasta paisagem da programação, as estruturas de dados emergem como os pilares fundamentais sobre os quais a organização e o gerenciamento eficiente de informações são construídos. Elas são essenciais para otimizar o desempenho e aprimorar a legibilidade do código, permitindo que os programadores manipulem os dados de maneira lógica e eficaz.¹ Dentre as diversas linguagens de programação, Python se destaca por oferecer um conjunto rico de estruturas de dados embutidas, cada uma projetada com características distintas e otimizada para casos de uso específicos.²\n",
        "\n",
        "Este estudo se aprofundará nos tipos de sequência e mapeamento fornecidos nativamente pelo Python. Os tipos de sequência, como listas, tuplas e strings, são caracterizados pela manutenção de uma ordem inerente dos elementos, permitindo o acesso e a manipulação com base em sua posição.³ Por outro lado, os tipos de mapeamento, representados principalmente pelos dicionários, empregam uma abordagem diferente, armazenando dados em pares de chave-valor. Essa organização facilita a recuperação eficiente de valores com base em suas chaves associadas.⁹ Adicionalmente, Python oferece conjuntos (sets), que são coleções não ordenadas de elementos únicos. Os conjuntos são particularmente úteis para realizar operações matemáticas de conjuntos, como união, interseção e diferença, bem como para eliminar duplicatas de coleções.¹⁷\n",
        "\n",
        "O escopo deste estudo abrange uma análise exaustiva das listas, tuplas, conjuntos e dicionários em Python. Serão detalhadas suas definições, características intrínsecas, métodos de criação e manipulação, funções comumente associadas e, no caso de listas e tuplas, uma comparação direta para elucidar suas diferenças e os cenários de programação mais adequados para cada uma. O objetivo principal é fornecer um entendimento profundo e detalhado dessas estruturas de dados fundamentais, capacitando os leitores a utilizá-las com proficiência em seus próprios projetos de programação.\n",
        "\n",
        "**2. Listas em Python: Sequências Dinâmicas e Versáteis**\n",
        "\n",
        "As listas em Python representam um dos tipos de dados mais flexíveis e amplamente utilizados na linguagem. Elas são definidas como sequências ordenadas de itens, o que implica que a ordem na qual os elementos são inseridos é mantida e pode ser acessada por meio de sua posição.²⁹ Uma característica fundamental das listas é a sua mutabilidade, o que significa que elas podem ser modificadas após a sua criação. Essa propriedade permite adicionar, remover ou alterar elementos conforme a necessidade, tornando-as ideais para trabalhar com coleções de dados que podem evoluir ao longo do tempo.²⁹ Além disso, as listas em Python são capazes de armazenar duplicatas, permitindo que o mesmo valor apareça múltiplas vezes dentro da mesma lista.²⁹ Sua natureza heterogênea possibilita a inclusão de itens de diferentes tipos de dados — inteiros, strings, números de ponto flutuante e até mesmo outras listas — dentro de uma única estrutura.⁵\n",
        "\n",
        "A combinação dessas características — ordenação e mutabilidade — confere às listas uma versatilidade excepcional para uma ampla gama de tarefas de programação, especialmente aquelas que envolvem o gerenciamento de coleções de itens que podem precisar ser alteradas dinamicamente.²⁹ Essa flexibilidade é crucial em cenários como processamento de dados, onde as coleções podem precisar ser filtradas, classificadas ou modificadas para atender aos requisitos específicos.\n",
        "\n",
        "As listas em Python podem ser criadas de diversas maneiras, cada uma adequada a diferentes situações:\n",
        "\n",
        "* **Literais:** A forma mais direta de criar uma lista é usando colchetes `[]` para envolver uma sequência de elementos separados por vírgulas.³⁰"
      ],
      "metadata": {
        "id": "AqxWC5DO1UlR"
      }
    },
    {
      "cell_type": "code",
      "source": [
        "# Criação com literal\n",
        "lista_literal = [1, 'hello', 3.14, True, 1] # Contém inteiro, string, float, booleano, inteiro repetido\n",
        "lista_vazia_literal = []\n",
        "print(f\"Lista Literal: {lista_literal}\")\n",
        "print(f\"Lista Vazia Literal: {lista_vazia_literal}\")"
      ],
      "outputs": [
        {
          "output_type": "stream",
          "name": "stdout",
          "text": [
            "Lista Literal: [1, 'hello', 3.14, True, 1]\n",
            "Lista Vazia Literal: []\n"
          ]
        }
      ],
      "execution_count": 41,
      "metadata": {
        "id": "Rtn8_zO71UlY",
        "colab": {
          "base_uri": "https://localhost:8080/"
        },
        "outputId": "3b5715ab-cf0e-443d-d948-330e1f82b6cc"
      }
    },
    {
      "cell_type": "markdown",
      "source": [
        "* **Construtor `list()`:** Uma lista também pode ser instanciada usando o construtor `list()`. Este construtor pode receber um iterável (como uma tupla, string, range ou outra lista) como argumento.⁵"
      ],
      "metadata": {
        "id": "Z2E6BbH01Ulb"
      }
    },
    {
      "cell_type": "code",
      "source": [
        "# Criação com construtor list()\n",
        "tupla_exemplo = ('a', 'b', 'c')\n",
        "lista_da_tupla = list(tupla_exemplo)\n",
        "print(f\"Lista da Tupla: {lista_da_tupla}\") # Saída: ['a', 'b', 'c']\n",
        "\n",
        "string_exemplo = \"Python\"\n",
        "lista_da_string = list(string_exemplo)\n",
        "print(f\"Lista da String: {lista_da_string}\") # Saída: ['P', 'y', 't', 'h', 'o', 'n']\n",
        "\n",
        "range_exemplo = range(3)\n",
        "lista_do_range = list(range_exemplo)\n",
        "print(f\"Lista do Range: {lista_do_range}\") # Saída: [0, 1, 2]\n",
        "\n",
        "lista_vazia_construtor = list()\n",
        "print(f\"Lista Vazia Construtor: {lista_vazia_construtor}\")"
      ],
      "outputs": [
        {
          "output_type": "stream",
          "name": "stdout",
          "text": [
            "Lista da Tupla: ['a', 'b', 'c']\n",
            "Lista da String: ['P', 'y', 't', 'h', 'o', 'n']\n",
            "Lista do Range: [0, 1, 2]\n",
            "Lista Vazia Construtor: []\n"
          ]
        }
      ],
      "execution_count": 42,
      "metadata": {
        "id": "OixNK9wp1Ulb",
        "colab": {
          "base_uri": "https://localhost:8080/"
        },
        "outputId": "a91b2ca4-bcea-454f-f86d-41c62a05e61e"
      }
    },
    {
      "cell_type": "markdown",
      "source": [
        "* **List comprehensions:** Sintaxe concisa para criar listas com base em iteráveis existentes, aplicando expressões e filtros.³⁰,⁴³"
      ],
      "metadata": {
        "id": "AKDtuFbh1Ulc"
      }
    },
    {
      "cell_type": "code",
      "source": [
        "# Criação com List Comprehension\n",
        "quadrados = [x*x for x in range(6)] # Quadrados dos números de 0 a 5\n",
        "print(f\"Quadrados: {quadrados}\") # Saída: [0, 1, 4, 9, 16, 25]\n",
        "\n",
        "pares = [num for num in range(10) if num % 2 == 0] # Números pares de 0 a 9\n",
        "print(f\"Pares: {pares}\") # Saída: [0, 2, 4, 6, 8]\n",
        "\n",
        "palavras = [\"maçã\", \"banana\", \"laranja\"]\n",
        "maiusculas = [fruta.upper() for fruta in palavras] # Lista de frutas em maiúsculas\n",
        "print(f\"Maiúsculas: {maiusculas}\") # Saída: ['MAÇÃ', 'BANANA', 'LARANJA']"
      ],
      "outputs": [
        {
          "output_type": "stream",
          "name": "stdout",
          "text": [
            "Quadrados: [0, 1, 4, 9, 16, 25]\n",
            "Pares: [0, 2, 4, 6, 8]\n",
            "Maiúsculas: ['MAÇÃ', 'BANANA', 'LARANJA']\n"
          ]
        }
      ],
      "execution_count": 43,
      "metadata": {
        "id": "6Gl7Zppq1Uld",
        "colab": {
          "base_uri": "https://localhost:8080/"
        },
        "outputId": "d8cb05ca-0cf4-41dd-a2cd-a9b321766d75"
      }
    },
    {
      "cell_type": "markdown",
      "source": [
        "A escolha do método de criação de listas depende do contexto específico. Literais são ideais para inicializar listas com um pequeno número de elementos conhecidos. O construtor `list()` é útil para converter outros tipos de iteráveis em listas. As list comprehensions são eficazes para criar novas listas aplicando transformações ou filtros de maneira concisa e eficiente.\n",
        "\n",
        "O acesso e a manipulação de elementos em listas são realizados por meio de indexação e slicing.\n",
        "\n",
        "* **Indexação:** Acessa elementos individuais pelo índice (posição), começando em 0. Índices negativos acessam a partir do final (-1 é o último).³⁰"
      ],
      "metadata": {
        "id": "2bViNWeG1Uld"
      }
    },
    {
      "cell_type": "code",
      "source": [
        "# Acesso por Indexação\n",
        "minha_lista = ['a', 'b', 'c', 'd', 'e']\n",
        "primeiro_elemento = minha_lista[0]\n",
        "terceiro_elemento = minha_lista[2]\n",
        "ultimo_elemento = minha_lista[-1]\n",
        "penultimo_elemento = minha_lista[-2]\n",
        "\n",
        "print(f\"Primeiro: {primeiro_elemento}\") # Saída: a\n",
        "print(f\"Terceiro: {terceiro_elemento}\") # Saída: c\n",
        "print(f\"Último: {ultimo_elemento}\")     # Saída: e\n",
        "print(f\"Penúltimo: {penultimo_elemento}\") # Saída: d\n",
        "\n",
        "# Modificação usando índice (listas são mutáveis)\n",
        "minha_lista[1] = 'X'\n",
        "print(f\"Lista modificada: {minha_lista}\") # Saída: ['a', 'X', 'c', 'd', 'e']"
      ],
      "outputs": [
        {
          "output_type": "stream",
          "name": "stdout",
          "text": [
            "Primeiro: a\n",
            "Terceiro: c\n",
            "Último: e\n",
            "Penúltimo: d\n",
            "Lista modificada: ['a', 'X', 'c', 'd', 'e']\n"
          ]
        }
      ],
      "execution_count": 44,
      "metadata": {
        "id": "xq_HFWQz1Uld",
        "colab": {
          "base_uri": "https://localhost:8080/"
        },
        "outputId": "09a8f83b-e565-44d4-c4aa-7da2deaa16fc"
      }
    },
    {
      "cell_type": "markdown",
      "source": [
        "* **Slicing (Fatiamento):** Extrai uma sublista usando a sintaxe `[start:stop:step]`. `start` é inclusivo, `stop` é exclusivo, `step` é opcional.³⁰"
      ],
      "metadata": {
        "id": "-Y7XieDS1Ule"
      }
    },
    {
      "cell_type": "code",
      "source": [
        "# Acesso por Slicing\n",
        "minha_lista = ['a', 'b', 'c', 'd', 'e', 'f', 'g']\n",
        "\n",
        "sublista1 = minha_lista[1:4] # Do índice 1 até (não incluindo) 4\n",
        "print(f\"Slice [1:4]: {sublista1}\") # Saída: ['b', 'c', 'd']\n",
        "\n",
        "primeiros_tres = minha_lista[:3] # Do início até (não incluindo) 3\n",
        "print(f\"Slice [:3]: {primeiros_tres}\") # Saída: ['a', 'b', 'c']\n",
        "\n",
        "ultimos_dois = minha_lista[-2:] # Do penúltimo até o final\n",
        "print(f\"Slice [-2:]: {ultimos_dois}\") # Saída: ['f', 'g']\n",
        "\n",
        "todos_exceto_primeiro_ultimo = minha_lista[1:-1]\n",
        "print(f\"Slice [1:-1]: {todos_exceto_primeiro_ultimo}\") # Saída: ['b', 'c', 'd', 'e', 'f']\n",
        "\n",
        "passo_dois = minha_lista[::2] # Todos os elementos, com passo 2\n",
        "print(f\"Slice [::2]: {passo_dois}\") # Saída: ['a', 'c', 'e', 'g']\n",
        "\n",
        "invertida = minha_lista[::-1] # Lista invertida\n",
        "print(f\"Slice [::-1]: {invertida}\") # Saída: ['g', 'f', 'e', 'd', 'c', 'b', 'a']"
      ],
      "outputs": [
        {
          "output_type": "stream",
          "name": "stdout",
          "text": [
            "Slice [1:4]: ['b', 'c', 'd']\n",
            "Slice [:3]: ['a', 'b', 'c']\n",
            "Slice [-2:]: ['f', 'g']\n",
            "Slice [1:-1]: ['b', 'c', 'd', 'e', 'f']\n",
            "Slice [::2]: ['a', 'c', 'e', 'g']\n",
            "Slice [::-1]: ['g', 'f', 'e', 'd', 'c', 'b', 'a']\n"
          ]
        }
      ],
      "execution_count": 45,
      "metadata": {
        "id": "5fQaIN7K1Ulf",
        "colab": {
          "base_uri": "https://localhost:8080/"
        },
        "outputId": "74a516fb-613c-481a-8794-2315e8829ba8"
      }
    },
    {
      "cell_type": "markdown",
      "source": [
        "Python oferece uma rica variedade de métodos para manipular listas:\n",
        "\n",
        "* **Adicionando elementos:**\n",
        "    * `append(x)`: Adiciona `x` ao final. \\[105], \\[106], \\[55], \\[56], \\[39], \\[107], \\[41], \\[38], \\[36], \\[29], \\[57], \\[40]"
      ],
      "metadata": {
        "id": "GQ9iBaIA1Ulf"
      }
    },
    {
      "cell_type": "code",
      "source": [
        "frutas = ['maçã', 'banana']\n",
        "frutas.append('laranja')\n",
        "print(frutas)  # Saída: ['maçã', 'banana', 'laranja']"
      ],
      "outputs": [
        {
          "output_type": "stream",
          "name": "stdout",
          "text": [
            "['maçã', 'banana', 'laranja']\n"
          ]
        }
      ],
      "execution_count": 46,
      "metadata": {
        "id": "S3VAD6Hj1Ulg",
        "colab": {
          "base_uri": "https://localhost:8080/"
        },
        "outputId": "04cb38de-511b-4c87-e0dc-d0869386e56d"
      }
    },
    {
      "cell_type": "markdown",
      "source": [
        "* `insert(i, x)`: Insere `x` na posição `i`. \\[105], \\[108], \\[55], \\[56], \\[39], \\[107], \\[41], \\[38], \\[36], \\[29], \\[57], \\[40]"
      ],
      "metadata": {
        "id": "E3ygb-e_1Ulg"
      }
    },
    {
      "cell_type": "code",
      "source": [
        "frutas = ['maçã', 'banana']\n",
        "frutas.insert(1, 'cereja')\n",
        "print(frutas)  # Saída: ['maçã', 'cereja', 'banana']"
      ],
      "outputs": [
        {
          "output_type": "stream",
          "name": "stdout",
          "text": [
            "['maçã', 'cereja', 'banana']\n"
          ]
        }
      ],
      "execution_count": 47,
      "metadata": {
        "id": "IDrK25o51Ulg",
        "colab": {
          "base_uri": "https://localhost:8080/"
        },
        "outputId": "4dfe26b0-42a2-4257-83ae-72a8c2585b28"
      }
    },
    {
      "cell_type": "markdown",
      "source": [
        "* `extend(iterable)`: Adiciona todos os elementos do `iterable` ao final. \\[105], \\[109], \\[55], \\[56], \\[39], \\[107], \\[41], \\[38], \\[36], \\[29], \\[57], \\[40]"
      ],
      "metadata": {
        "id": "PlVL-Tx01Ulh"
      }
    },
    {
      "cell_type": "code",
      "source": [
        "frutas = ['maçã', 'banana']\n",
        "mais_frutas = ['manga', 'uva']\n",
        "frutas.extend(mais_frutas)\n",
        "print(frutas)  # Saída: ['maçã', 'banana', 'manga', 'uva']\n",
        "\n",
        "# Também funciona com outros iteráveis\n",
        "frutas.extend(\"ab\")\n",
        "print(frutas) # Saída: ['maçã', 'banana', 'manga', 'uva', 'a', 'b']"
      ],
      "outputs": [
        {
          "output_type": "stream",
          "name": "stdout",
          "text": [
            "['maçã', 'banana', 'manga', 'uva']\n",
            "['maçã', 'banana', 'manga', 'uva', 'a', 'b']\n"
          ]
        }
      ],
      "execution_count": 48,
      "metadata": {
        "id": "vmoH_YJ-1Ulh",
        "colab": {
          "base_uri": "https://localhost:8080/"
        },
        "outputId": "6d0189f3-4024-4a1b-a3b6-60a29c489678"
      }
    },
    {
      "cell_type": "markdown",
      "source": [
        "* **Removendo elementos:**\n",
        "    * `remove(x)`: Remove a primeira ocorrência de `x`. Gera `ValueError` se `x` não existir. \\[105], \\[110], \\[55], \\[56], \\[39], \\[107], \\[41], \\[38], \\[36], \\[29], \\[111], \\[40]"
      ],
      "metadata": {
        "id": "CRMxM0gy1Ulh"
      }
    },
    {
      "cell_type": "code",
      "source": [
        "frutas = ['maçã', 'banana', 'cereja', 'banana']\n",
        "frutas.remove('banana') # Remove a primeira 'banana'\n",
        "print(frutas)  # Saída: ['maçã', 'cereja', 'banana']\n",
        "# frutas.remove('pera') # Geraria ValueError"
      ],
      "outputs": [
        {
          "output_type": "stream",
          "name": "stdout",
          "text": [
            "['maçã', 'cereja', 'banana']\n"
          ]
        }
      ],
      "execution_count": 49,
      "metadata": {
        "id": "ga3MWKaj1Ulh",
        "colab": {
          "base_uri": "https://localhost:8080/"
        },
        "outputId": "f7d3e119-643a-4c2a-a2aa-1ce7c42cf6f3"
      }
    },
    {
      "cell_type": "markdown",
      "source": [
        "* `pop([i])`: Remove e retorna o elemento na posição `i` (ou o último se `i` não for especificado). Gera `IndexError` se `i` for inválido. \\[105], \\[112], \\[55], \\[56], \\[39], \\[107], \\[41], \\[38], \\[36], \\[29], \\[57], \\[40]"
      ],
      "metadata": {
        "id": "XoR0w3P-1Uli"
      }
    },
    {
      "cell_type": "code",
      "source": [
        "frutas = ['maçã', 'banana', 'cereja']\n",
        "elemento_removido_indice = frutas.pop(1) # Remove e retorna 'banana'\n",
        "print(f\"Removido do índice 1: {elemento_removido_indice}\")  # Saída: banana\n",
        "print(f\"Lista após pop(1): {frutas}\")  # Saída: ['maçã', 'cereja']\n",
        "\n",
        "ultimo_removido = frutas.pop() # Remove e retorna o último ('cereja')\n",
        "print(f\"Removido o último: {ultimo_removido}\") # Saída: cereja\n",
        "print(f\"Lista após pop(): {frutas}\") # Saída: ['maçã']"
      ],
      "outputs": [
        {
          "output_type": "stream",
          "name": "stdout",
          "text": [
            "Removido do índice 1: banana\n",
            "Lista após pop(1): ['maçã', 'cereja']\n",
            "Removido o último: cereja\n",
            "Lista após pop(): ['maçã']\n"
          ]
        }
      ],
      "execution_count": 50,
      "metadata": {
        "id": "vDttU97O1Uli",
        "colab": {
          "base_uri": "https://localhost:8080/"
        },
        "outputId": "d4508ebe-6938-47b6-a89d-6e7d698cc154"
      }
    },
    {
      "cell_type": "markdown",
      "source": [
        "* `clear()`: Remove todos os elementos da lista. \\[105], \\[113], \\[55], \\[56], \\[39], \\[107], \\[41], \\[38], \\[36], \\[29], \\[57], \\[40]"
      ],
      "metadata": {
        "id": "KbpwzvB21Uli"
      }
    },
    {
      "cell_type": "code",
      "source": [
        "frutas = ['maçã', 'banana', 'cereja']\n",
        "frutas.clear()\n",
        "print(frutas)  # Saída: []"
      ],
      "outputs": [
        {
          "output_type": "stream",
          "name": "stdout",
          "text": [
            "[]\n"
          ]
        }
      ],
      "execution_count": 51,
      "metadata": {
        "id": "9uLblt-C1Ulj",
        "colab": {
          "base_uri": "https://localhost:8080/"
        },
        "outputId": "fffbc625-d949-4245-f015-c4b82831a52c"
      }
    },
    {
      "cell_type": "markdown",
      "source": [
        "* **Acessando informações:**\n",
        "    * `index(x[, start[, end]])`: Retorna o índice da primeira ocorrência de `x` (opcionalmente dentro de um intervalo). Gera `ValueError` se `x` não for encontrado. \\[105], \\[114], \\[55], \\[56], \\[39], \\[41], \\[38], \\[36], \\[29], \\[57], \\[40]"
      ],
      "metadata": {
        "id": "jPZJAuwB1Ulj"
      }
    },
    {
      "cell_type": "code",
      "source": [
        "frutas = ['maçã', 'banana', 'cereja', 'banana']\n",
        "indice_banana = frutas.index('banana') # Encontra a primeira ocorrência\n",
        "print(f\"Índice da primeira banana: {indice_banana}\")  # Saída: 1\n",
        "\n",
        "indice_segunda_banana = frutas.index('banana', 2) # Busca a partir do índice 2\n",
        "print(f\"Índice da segunda banana: {indice_segunda_banana}\") # Saída: 3"
      ],
      "outputs": [
        {
          "output_type": "stream",
          "name": "stdout",
          "text": [
            "Índice da primeira banana: 1\n",
            "Índice da segunda banana: 3\n"
          ]
        }
      ],
      "execution_count": 52,
      "metadata": {
        "id": "xw359IQM1Ulj",
        "colab": {
          "base_uri": "https://localhost:8080/"
        },
        "outputId": "35e0c261-4338-42e3-ec5e-30b2af289344"
      }
    },
    {
      "cell_type": "markdown",
      "source": [
        "* `count(x)`: Retorna o número de vezes que `x` aparece na lista. \\[105], \\[115], \\[55], \\[56], \\[39], \\[41], \\[38], \\[36], \\[29], \\[57], \\[40]"
      ],
      "metadata": {
        "id": "JKycDMav1Ulj"
      }
    },
    {
      "cell_type": "code",
      "source": [
        "numeros = [1, 2, 2, 3, 2, 4]\n",
        "ocorrencias_de_2 = numeros.count(2)\n",
        "print(f\"Número de ocorrências de 2: {ocorrencias_de_2}\")  # Saída: 3"
      ],
      "outputs": [
        {
          "output_type": "stream",
          "name": "stdout",
          "text": [
            "Número de ocorrências de 2: 3\n"
          ]
        }
      ],
      "execution_count": 53,
      "metadata": {
        "id": "8JSC9oQC1Ulk",
        "colab": {
          "base_uri": "https://localhost:8080/"
        },
        "outputId": "ed70b0b5-607c-4b53-f6dd-50d622cb68f1"
      }
    },
    {
      "cell_type": "markdown",
      "source": [
        "* **Ordenação e cópia:**\n",
        "    * `sort(*, key=None, reverse=False)`: Ordena a lista *no local* (modifica a lista original). `key` especifica uma função para extrair uma chave de comparação, `reverse=True` para ordem decrescente. \\[105], \\[116], \\[55], \\[56], \\[39], \\[41], \\[38], \\[36], \\[29], \\[57], \\[40]"
      ],
      "metadata": {
        "id": "flPkHy6p1Ulk"
      }
    },
    {
      "cell_type": "code",
      "source": [
        "numeros = [3, 1, 4, 1, 5, 9, 2, 6]\n",
        "numeros.sort() # Ordena in-place\n",
        "print(f\"Ordenada crescente: {numeros}\")  # Saída: [1, 1, 2, 3, 4, 5, 6, 9]\n",
        "\n",
        "numeros.sort(reverse=True) # Ordena decrescente in-place\n",
        "print(f\"Ordenada decrescente: {numeros}\")  # Saída: [9, 6, 5, 4, 3, 2, 1, 1]\n",
        "\n",
        "# Ordenando por chave (comprimento da string)\n",
        "palavras = [\"gato\", \"cachorro\", \"elefante\", \"rato\"]\n",
        "palavras.sort(key=len) # Ordena pelo comprimento da palavra\n",
        "print(f\"Ordenada por comprimento: {palavras}\") # Saída: ['rato', 'gato', 'cachorro', 'elefante']"
      ],
      "outputs": [
        {
          "output_type": "stream",
          "name": "stdout",
          "text": [
            "Ordenada crescente: [1, 1, 2, 3, 4, 5, 6, 9]\n",
            "Ordenada decrescente: [9, 6, 5, 4, 3, 2, 1, 1]\n",
            "Ordenada por comprimento: ['gato', 'rato', 'cachorro', 'elefante']\n"
          ]
        }
      ],
      "execution_count": 54,
      "metadata": {
        "id": "tIR7EiIp1Ulk",
        "colab": {
          "base_uri": "https://localhost:8080/"
        },
        "outputId": "9473fde2-c399-47cc-a6a6-23c6adfe8474"
      }
    },
    {
      "cell_type": "markdown",
      "source": [
        "* `reverse()`: Inverte a ordem dos elementos *no local*. \\[105], \\[117], \\[55], \\[56], \\[39], \\[41], \\[38], \\[36], \\[29], \\[57], \\[40]"
      ],
      "metadata": {
        "id": "iC9-lqKP1Ulk"
      }
    },
    {
      "cell_type": "code",
      "source": [
        "frutas = ['maçã', 'banana', 'cereja']\n",
        "frutas.reverse() # Inverte in-place\n",
        "print(f\"Invertida: {frutas}\")  # Saída: ['cereja', 'banana', 'maçã']"
      ],
      "outputs": [
        {
          "output_type": "stream",
          "name": "stdout",
          "text": [
            "Invertida: ['cereja', 'banana', 'maçã']\n"
          ]
        }
      ],
      "execution_count": 55,
      "metadata": {
        "id": "yJ8gh3M71Ull",
        "colab": {
          "base_uri": "https://localhost:8080/"
        },
        "outputId": "284e04cf-92d4-4180-a87a-ae0a33fff03d"
      }
    },
    {
      "cell_type": "markdown",
      "source": [
        "* `copy()`: Retorna uma cópia *superficial* (shallow copy) da lista. Alterações na cópia não afetam a original, *exceto* se os elementos forem objetos mutáveis. \\[105], \\[118], \\[55], \\[56], \\[39], \\[41], \\[38], \\[36], \\[29], \\[57], \\[40]"
      ],
      "metadata": {
        "id": "4l3zeP0C1Ull"
      }
    },
    {
      "cell_type": "code",
      "source": [
        "frutas = ['maçã', 'banana', 'cereja']\n",
        "copia_frutas = frutas.copy()\n",
        "copia_frutas.append('laranja') # Modifica a cópia\n",
        "\n",
        "print(f\"Original: {frutas}\")  # Saída: ['maçã', 'banana', 'cereja']\n",
        "print(f\"Cópia: {copia_frutas}\")  # Saída: ['maçã', 'banana', 'cereja', 'laranja']\n",
        "\n",
        "# Exemplo de Shallow Copy com objeto mutável interno\n",
        "lista_aninhada = [1, [10, 20]]\n",
        "copia_aninhada = lista_aninhada.copy()\n",
        "copia_aninhada[1].append(30) # Modifica a lista interna NA CÓPIA\n",
        "\n",
        "print(f\"Original aninhada: {lista_aninhada}\") # Saída: [1, [10, 20, 30]] <- foi afetada!\n",
        "print(f\"Cópia aninhada: {copia_aninhada}\")   # Saída: [1, [10, 20, 30]]\n",
        "# Para evitar isso, use copy.deepcopy() do módulo 'copy'"
      ],
      "outputs": [
        {
          "output_type": "stream",
          "name": "stdout",
          "text": [
            "Original: ['maçã', 'banana', 'cereja']\n",
            "Cópia: ['maçã', 'banana', 'cereja', 'laranja']\n",
            "Original aninhada: [1, [10, 20, 30]]\n",
            "Cópia aninhada: [1, [10, 20, 30]]\n"
          ]
        }
      ],
      "execution_count": 56,
      "metadata": {
        "id": "sEkbQeJM1Ull",
        "colab": {
          "base_uri": "https://localhost:8080/"
        },
        "outputId": "c819f7b5-c970-48d2-ad12-5af9cfd636bc"
      }
    },
    {
      "cell_type": "markdown",
      "source": [
        "As listas em Python também podem ser usadas para implementar estruturas de dados como pilhas (usando `append()` e `pop()`) e filas (embora `collections.deque` seja mais eficiente para filas devido ao desempenho das operações no início da lista).²⁹\n",
        "\n",
        "Além dos métodos, várias funções embutidas do Python são comumente usadas com listas:\n",
        "\n",
        "* `len(lista)`: Retorna o número de itens.¹\n",
        "* `min(lista)`, `max(lista)`: Retorna o menor/maior item.¹\n",
        "* `sum(lista)`: Retorna a soma dos itens (se numéricos).¹\n",
        "* `sorted(iterável, ...)`: Retorna uma *nova* lista ordenada.¹\n",
        "* `enumerate(iterável, ...)`: Retorna pares (índice, elemento).¹\n",
        "* `zip(*iteráveis)`: Combina elementos de vários iteráveis.¹"
      ],
      "metadata": {
        "id": "6ItmkM2V1Ulm"
      }
    },
    {
      "cell_type": "code",
      "source": [
        "# Funções embutidas com listas\n",
        "numeros = [5, 2, 8, 1, 9]\n",
        "nomes = [\"Ana\", \"Carlos\", \"Bia\"]\n",
        "\n",
        "print(f\"Tamanho da lista 'numeros': {len(numeros)}\") # Saída: 5\n",
        "print(f\"Menor número: {min(numeros)}\")     # Saída: 1\n",
        "print(f\"Maior número: {max(numeros)}\")     # Saída: 9\n",
        "print(f\"Soma dos números: {sum(numeros)}\") # Saída: 25\n",
        "\n",
        "# sorted() retorna uma NOVA lista ordenada, não modifica a original\n",
        "numeros_ordenados = sorted(numeros)\n",
        "print(f\"Lista original 'numeros': {numeros}\") # Saída: [5, 2, 8, 1, 9]\n",
        "print(f\"Nova lista ordenada: {numeros_ordenados}\") # Saída: [1, 2, 5, 8, 9]\n",
        "\n",
        "# enumerate()\n",
        "print(\"Enumerando nomes:\")\n",
        "for indice, nome in enumerate(nomes):\n",
        "    print(f\"Índice {indice}: {nome}\")\n",
        "# Saída:\n",
        "# Índice 0: Ana\n",
        "# Índice 1: Carlos\n",
        "# Índice 2: Bia\n",
        "\n",
        "# zip()\n",
        "idades = [30, 25, 35]\n",
        "print(\"Combinando nomes e idades com zip:\")\n",
        "for nome, idade in zip(nomes, idades):\n",
        "    print(f\"{nome} tem {idade} anos.\")\n",
        "# Saída:\n",
        "# Ana tem 30 anos.\n",
        "# Carlos tem 25 anos.\n",
        "# Bia tem 35 anos."
      ],
      "outputs": [
        {
          "output_type": "stream",
          "name": "stdout",
          "text": [
            "Tamanho da lista 'numeros': 5\n",
            "Menor número: 1\n",
            "Maior número: 9\n",
            "Soma dos números: 25\n",
            "Lista original 'numeros': [5, 2, 8, 1, 9]\n",
            "Nova lista ordenada: [1, 2, 5, 8, 9]\n",
            "Enumerando nomes:\n",
            "Índice 0: Ana\n",
            "Índice 1: Carlos\n",
            "Índice 2: Bia\n",
            "Combinando nomes e idades com zip:\n",
            "Ana tem 30 anos.\n",
            "Carlos tem 25 anos.\n",
            "Bia tem 35 anos.\n"
          ]
        }
      ],
      "execution_count": 57,
      "metadata": {
        "id": "L5OUoo6q1Uln",
        "colab": {
          "base_uri": "https://localhost:8080/"
        },
        "outputId": "0d1cca7a-e019-49ab-ad52-2e53eabf4902"
      }
    },
    {
      "cell_type": "markdown",
      "source": [
        "**3. Tuplas em Python: Sequências Imutáveis para Dados Fixos**\n",
        "\n",
        "As tuplas em Python são semelhantes às listas, pois também são sequências ordenadas de itens.³ No entanto, a principal distinção reside na sua **imutabilidade**; uma vez criada, os elementos de uma tupla não podem ser modificados.³ Apesar dessa restrição, as tuplas permitem duplicatas³ e podem conter elementos heterogêneos.³ Uma propriedade importante é que elas são *hashable* se todos os seus elementos forem hashable, o que as torna adequadas para serem usadas como chaves em dicionários.³\n",
        "\n",
        "A imutabilidade torna as tuplas ideais para representar coleções de dados fixos, oferecendo segurança e permitindo seu uso como chaves de dicionários ou elementos de conjuntos.\n",
        "\n",
        "As tuplas em Python podem ser criadas de várias maneiras:\n",
        "\n",
        "* **Literais:** Usando parênteses `()` envolvendo elementos separados por vírgula. Uma vírgula final é necessária para tuplas com um único elemento.³"
      ],
      "metadata": {
        "id": "e5kv4Ihw1Uln"
      }
    },
    {
      "cell_type": "code",
      "source": [
        "# Criação com literal\n",
        "tupla_literal = (1, 'dois', 3.0, True, 1)\n",
        "ponto_xy = (10, 20)\n",
        "tupla_um_elemento = (5,) # A vírgula é essencial! (5) seria apenas o inteiro 5.\n",
        "tupla_vazia = ()\n",
        "\n",
        "print(f\"Tupla Literal: {tupla_literal}\")\n",
        "print(f\"Ponto XY: {ponto_xy}\")\n",
        "print(f\"Tupla de um elemento: {tupla_um_elemento}\")\n",
        "print(f\"Tupla Vazia: {tupla_vazia}\")"
      ],
      "outputs": [
        {
          "output_type": "stream",
          "name": "stdout",
          "text": [
            "Tupla Literal: (1, 'dois', 3.0, True, 1)\n",
            "Ponto XY: (10, 20)\n",
            "Tupla de um elemento: (5,)\n",
            "Tupla Vazia: ()\n"
          ]
        }
      ],
      "execution_count": 58,
      "metadata": {
        "id": "W1WSUn8V1Ulo",
        "colab": {
          "base_uri": "https://localhost:8080/"
        },
        "outputId": "bcf26bea-4175-48d8-9351-895e9b063e5f"
      }
    },
    {
      "cell_type": "markdown",
      "source": [
        "* **Construtor `tuple()`:** Recebe um iterável como argumento.³"
      ],
      "metadata": {
        "id": "8soL-vYO1Ulo"
      }
    },
    {
      "cell_type": "code",
      "source": [
        "# Criação com construtor tuple()\n",
        "lista_exemplo = [1, 2, 3]\n",
        "tupla_da_lista = tuple(lista_exemplo)\n",
        "print(f\"Tupla da Lista: {tupla_da_lista}\") # Saída: (1, 2, 3)\n",
        "\n",
        "string_exemplo = \"abc\"\n",
        "tupla_da_string = tuple(string_exemplo)\n",
        "print(f\"Tupla da String: {tupla_da_string}\") # Saída: ('a', 'b', 'c')"
      ],
      "outputs": [
        {
          "output_type": "stream",
          "name": "stdout",
          "text": [
            "Tupla da Lista: (1, 2, 3)\n",
            "Tupla da String: ('a', 'b', 'c')\n"
          ]
        }
      ],
      "execution_count": 59,
      "metadata": {
        "id": "PQMWSq7O1Ulo",
        "colab": {
          "base_uri": "https://localhost:8080/"
        },
        "outputId": "65d1b4b3-bba5-43f8-b00f-f67c75b697bb"
      }
    },
    {
      "cell_type": "markdown",
      "source": [
        "* **Tuple packing:** Atribuir múltiplos valores separados por vírgula a uma variável.⁵"
      ],
      "metadata": {
        "id": "-Rc-ubkE1Ulp"
      }
    },
    {
      "cell_type": "code",
      "source": [
        "# Criação com Tuple Packing\n",
        "dados_empacotados = 10, \"Nome\", True # Python cria uma tupla automaticamente\n",
        "print(f\"Dados Empacotados: {dados_empacotados}\") # Saída: (10, 'Nome', True)\n",
        "print(f\"Tipo: {type(dados_empacotados)}\") # Saída: <class 'tuple'>"
      ],
      "outputs": [
        {
          "output_type": "stream",
          "name": "stdout",
          "text": [
            "Dados Empacotados: (10, 'Nome', True)\n",
            "Tipo: <class 'tuple'>\n"
          ]
        }
      ],
      "execution_count": 60,
      "metadata": {
        "id": "5-h-amOL1Ulw",
        "colab": {
          "base_uri": "https://localhost:8080/"
        },
        "outputId": "4e025cda-b07d-4928-9459-81a8f13283bc"
      }
    },
    {
      "cell_type": "markdown",
      "source": [
        "O acesso aos elementos de uma tupla é semelhante às listas:\n",
        "\n",
        "* **Indexação:** Acessa elementos pelo índice.³"
      ],
      "metadata": {
        "id": "ZdrJhBgq1Ulx"
      }
    },
    {
      "cell_type": "code",
      "source": [
        "# Acesso por Indexação\n",
        "minha_tupla = ('a', 'b', 'c', 'd', 'e')\n",
        "print(f\"Elemento índice 0: {minha_tupla[0]}\") # Saída: a\n",
        "print(f\"Último elemento: {minha_tupla[-1]}\") # Saída: e\n",
        "# minha_tupla[0] = 'X' # Erro! TypeError: 'tuple' object does not support item assignment"
      ],
      "outputs": [
        {
          "output_type": "stream",
          "name": "stdout",
          "text": [
            "Elemento índice 0: a\n",
            "Último elemento: e\n"
          ]
        }
      ],
      "execution_count": 61,
      "metadata": {
        "id": "1qLtQBDq1Ulx",
        "colab": {
          "base_uri": "https://localhost:8080/"
        },
        "outputId": "b8f24146-0a07-43ae-a61b-599ea3ddd22b"
      }
    },
    {
      "cell_type": "markdown",
      "source": [
        "* **Slicing:** Extrai sub-tuplas.³"
      ],
      "metadata": {
        "id": "qPAAuvb61Ulx"
      }
    },
    {
      "cell_type": "code",
      "source": [
        "# Acesso por Slicing\n",
        "minha_tupla = ('a', 'b', 'c', 'd', 'e')\n",
        "sub_tupla = minha_tupla[1:3] # Do índice 1 até (não incluindo) 3\n",
        "print(f\"Slice [1:3]: {sub_tupla}\") # Saída: ('b', 'c')"
      ],
      "outputs": [
        {
          "output_type": "stream",
          "name": "stdout",
          "text": [
            "Slice [1:3]: ('b', 'c')\n"
          ]
        }
      ],
      "execution_count": 62,
      "metadata": {
        "id": "rtBVVsPy1Ulx",
        "colab": {
          "base_uri": "https://localhost:8080/"
        },
        "outputId": "e66cb667-4a6e-462d-b370-d46aa1899a59"
      }
    },
    {
      "cell_type": "markdown",
      "source": [
        "* **Unpacking:** Atribui elementos da tupla a variáveis individuais. O número de variáveis deve corresponder ao número de elementos.⁵"
      ],
      "metadata": {
        "id": "uozQv_jO1Uly"
      }
    },
    {
      "cell_type": "code",
      "source": [
        "# Unpacking de Tupla\n",
        "coordenadas = (15, 45)\n",
        "x, y = coordenadas # Desempacotamento\n",
        "print(f\"X: {x}, Y: {y}\") # Saída: X: 15, Y: 45\n",
        "\n",
        "# Unpacking em loops for\n",
        "lista_de_tuplas = [('Ana', 30), ('Bia', 25)]\n",
        "for nome, idade in lista_de_tuplas:\n",
        "  print(f\"{nome} - {idade} anos\")"
      ],
      "outputs": [
        {
          "output_type": "stream",
          "name": "stdout",
          "text": [
            "X: 15, Y: 45\n",
            "Ana - 30 anos\n",
            "Bia - 25 anos\n"
          ]
        }
      ],
      "execution_count": 63,
      "metadata": {
        "id": "lTSiLOnP1Uly",
        "colab": {
          "base_uri": "https://localhost:8080/"
        },
        "outputId": "c909701c-b6ce-4999-f6d8-dcd863db79c2"
      }
    },
    {
      "cell_type": "markdown",
      "source": [
        "Devido à imutabilidade, as tuplas possuem poucos métodos:\n",
        "\n",
        "* `count(x)`: Retorna o número de ocorrências de `x`.³³"
      ],
      "metadata": {
        "id": "2I0HTSia1Uly"
      }
    },
    {
      "cell_type": "code",
      "source": [
        "minha_tupla = (1, 2, 2, 3, 2, 4)\n",
        "ocorrencias_de_2 = minha_tupla.count(2)\n",
        "print(f\"Contagem de 2 na tupla: {ocorrencias_de_2}\")  # Saída: 3"
      ],
      "outputs": [
        {
          "output_type": "stream",
          "name": "stdout",
          "text": [
            "Contagem de 2 na tupla: 3\n"
          ]
        }
      ],
      "execution_count": 64,
      "metadata": {
        "id": "U66syYHw1Uly",
        "colab": {
          "base_uri": "https://localhost:8080/"
        },
        "outputId": "5c46d44d-7969-4bd8-dca4-923c3c1f8339"
      }
    },
    {
      "cell_type": "markdown",
      "source": [
        "* `index(x[, start[, end]])`: Retorna o índice da primeira ocorrência de `x` (opcionalmente em um intervalo). Gera `ValueError` se não encontrado.³³"
      ],
      "metadata": {
        "id": "oAi_Ojfn1Uly"
      }
    },
    {
      "cell_type": "code",
      "source": [
        "minha_tupla = (10, 20, 30, 20, 40, 20)\n",
        "indice_de_20 = minha_tupla.index(20) # Primeira ocorrência\n",
        "print(f\"Índice do primeiro 20: {indice_de_20}\")  # Saída: 1\n",
        "\n",
        "indice_segundo_20 = minha_tupla.index(20, 2) # Busca a partir do índice 2\n",
        "print(f\"Índice do segundo 20: {indice_segundo_20}\") # Saída: 3"
      ],
      "outputs": [
        {
          "output_type": "stream",
          "name": "stdout",
          "text": [
            "Índice do primeiro 20: 1\n",
            "Índice do segundo 20: 3\n"
          ]
        }
      ],
      "execution_count": 65,
      "metadata": {
        "id": "FVb24Ahq1Ulz",
        "colab": {
          "base_uri": "https://localhost:8080/"
        },
        "outputId": "fe69d740-b3f3-4afa-9bab-a2d188a5819e"
      }
    },
    {
      "cell_type": "markdown",
      "source": [
        "Tuple packing e unpacking são recursos poderosos para código conciso e legível, especialmente com múltiplos retornos de funções.⁵\n",
        "\n",
        "As funções embutidas `len()`, `min()`, `max()`, `sum()`, `sorted()`, `enumerate()`, `zip()` também funcionam com tuplas:"
      ],
      "metadata": {
        "id": "t2_h3sEg1Ulz"
      }
    },
    {
      "cell_type": "code",
      "source": [
        "# Funções embutidas com tuplas\n",
        "numeros_tupla = (5, 2, 8, 1, 9)\n",
        "nomes_tupla = (\"Leo\", \"Mara\", \"Gil\")\n",
        "\n",
        "print(f\"Tamanho da tupla 'numeros_tupla': {len(numeros_tupla)}\") # Saída: 5\n",
        "print(f\"Menor número na tupla: {min(numeros_tupla)}\")     # Saída: 1\n",
        "print(f\"Maior número na tupla: {max(numeros_tupla)}\")     # Saída: 9\n",
        "print(f\"Soma dos números na tupla: {sum(numeros_tupla)}\") # Saída: 25\n",
        "\n",
        "# sorted() com tupla retorna uma NOVA LISTA ordenada\n",
        "numeros_ordenados_lista = sorted(numeros_tupla)\n",
        "print(f\"Tupla original 'numeros_tupla': {numeros_tupla}\") # Saída: (5, 2, 8, 1, 9)\n",
        "print(f\"Nova lista ordenada: {numeros_ordenados_lista}\") # Saída: [1, 2, 5, 8, 9]\n",
        "\n",
        "# enumerate()\n",
        "print(\"Enumerando nomes_tupla:\")\n",
        "for indice, nome in enumerate(nomes_tupla):\n",
        "    print(f\"Índice {indice}: {nome}\")\n",
        "\n",
        "# zip()\n",
        "cidades_tupla = (\"Rio\", \"SP\", \"BH\")\n",
        "print(\"Combinando nomes e cidades com zip:\")\n",
        "for nome, cidade in zip(nomes_tupla, cidades_tupla):\n",
        "    print(f\"{nome} mora em {cidade}.\")"
      ],
      "outputs": [
        {
          "output_type": "stream",
          "name": "stdout",
          "text": [
            "Tamanho da tupla 'numeros_tupla': 5\n",
            "Menor número na tupla: 1\n",
            "Maior número na tupla: 9\n",
            "Soma dos números na tupla: 25\n",
            "Tupla original 'numeros_tupla': (5, 2, 8, 1, 9)\n",
            "Nova lista ordenada: [1, 2, 5, 8, 9]\n",
            "Enumerando nomes_tupla:\n",
            "Índice 0: Leo\n",
            "Índice 1: Mara\n",
            "Índice 2: Gil\n",
            "Combinando nomes e cidades com zip:\n",
            "Leo mora em Rio.\n",
            "Mara mora em SP.\n",
            "Gil mora em BH.\n"
          ]
        }
      ],
      "execution_count": 66,
      "metadata": {
        "id": "_PnuxFKe1Ulz",
        "colab": {
          "base_uri": "https://localhost:8080/"
        },
        "outputId": "a250e57f-98e4-44ca-f9c1-414ecd4cf91f"
      }
    },
    {
      "cell_type": "markdown",
      "source": [
        "**4. Conjuntos (Sets) em Python: Coleções Não Ordenadas de Elementos Únicos**\n",
        "\n",
        "Conjuntos são coleções **não ordenadas** de elementos **únicos** e **hasháveis** (imutáveis).¹⁷ São **mutáveis** (elementos podem ser adicionados/removidos).¹⁷ Ótimos para remover duplicatas e realizar operações matemáticas de conjuntos.\n",
        "\n",
        "Conjuntos podem ser criados de três maneiras:\n",
        "\n",
        "* **Literais:** Usando chaves `{}` com elementos separados por vírgula. `{}` cria um dicionário vazio, use `set()` para conjunto vazio.¹⁷"
      ],
      "metadata": {
        "id": "KBmkwx921Ulz"
      }
    },
    {
      "cell_type": "code",
      "source": [
        "# Criação com literal\n",
        "set_literal = {1, 2, 3, 2, 1} # Duplicatas são ignoradas\n",
        "print(f\"Set Literal: {set_literal}\") # Saída: {1, 2, 3} (ordem não garantida)"
      ],
      "outputs": [
        {
          "output_type": "stream",
          "name": "stdout",
          "text": [
            "Set Literal: {1, 2, 3}\n"
          ]
        }
      ],
      "execution_count": 67,
      "metadata": {
        "id": "cfTxKFZf1Ul0",
        "colab": {
          "base_uri": "https://localhost:8080/"
        },
        "outputId": "fbc24f9b-b70c-443c-baa9-c0fdc1eaf4b0"
      }
    },
    {
      "cell_type": "markdown",
      "source": [
        "* **Construtor `set()`:** Recebe um iterável.¹⁷"
      ],
      "metadata": {
        "id": "zMna-NLo1Ul0"
      }
    },
    {
      "cell_type": "code",
      "source": [
        "# Criação com construtor set()\n",
        "lista_com_duplicatas = [1, 'a', 1, 'b', 'a']\n",
        "set_da_lista = set(lista_com_duplicatas)\n",
        "print(f\"Set da Lista: {set_da_lista}\") # Saída: {1, 'a', 'b'} ou outra ordem\n",
        "\n",
        "set_vazio = set()\n",
        "print(f\"Set Vazio: {set_vazio}\") # Saída: set()"
      ],
      "outputs": [
        {
          "output_type": "stream",
          "name": "stdout",
          "text": [
            "Set da Lista: {'b', 1, 'a'}\n",
            "Set Vazio: set()\n"
          ]
        }
      ],
      "execution_count": 68,
      "metadata": {
        "id": "UfMuoYDI1Ul0",
        "colab": {
          "base_uri": "https://localhost:8080/"
        },
        "outputId": "ee7b607e-60c1-4b9d-9b31-47595d2e3a14"
      }
    },
    {
      "cell_type": "markdown",
      "source": [
        "* **Set comprehensions:** Sintaxe concisa para criar conjuntos a partir de iteráveis.¹⁷"
      ],
      "metadata": {
        "id": "mwJtT7Js1Ul0"
      }
    },
    {
      "cell_type": "code",
      "source": [
        "# Criação com Set Comprehension\n",
        "quadrados_set = {x*x for x in [-1, 0, 1, 2, -1]}\n",
        "print(f\"Quadrados (set): {quadrados_set}\") # Saída: {0, 1, 4}\n",
        "\n",
        "letras_unicas = {letra for letra in \"paralelepipedo\"}\n",
        "print(f\"Letras únicas: {letras_unicas}\") # Saída: {'o', 'd', 'p', 'i', 'a', 'l', 'e', 'r'} (ou outra ordem)"
      ],
      "outputs": [
        {
          "output_type": "stream",
          "name": "stdout",
          "text": [
            "Quadrados (set): {0, 1, 4}\n",
            "Letras únicas: {'r', 'd', 'o', 'e', 'i', 'l', 'a', 'p'}\n"
          ]
        }
      ],
      "execution_count": 69,
      "metadata": {
        "id": "IJ2_CPek1Ul1",
        "colab": {
          "base_uri": "https://localhost:8080/"
        },
        "outputId": "b3d84e57-7720-47b1-96e1-63f489c5ed74"
      }
    },
    {
      "cell_type": "markdown",
      "source": [
        "Métodos para adicionar e remover elementos:\n",
        "\n",
        "* `add(x)`: Adiciona `x`.¹⁷"
      ],
      "metadata": {
        "id": "WE-H77Pu1Ul1"
      }
    },
    {
      "cell_type": "code",
      "source": [
        "meu_conjunto = {1, 2, 3}\n",
        "meu_conjunto.add(4)\n",
        "meu_conjunto.add(1) # Não faz nada, 1 já existe\n",
        "print(f\"Após add: {meu_conjunto}\")  # Saída: {1, 2, 3, 4}"
      ],
      "outputs": [
        {
          "output_type": "stream",
          "name": "stdout",
          "text": [
            "Após add: {1, 2, 3, 4}\n"
          ]
        }
      ],
      "execution_count": 70,
      "metadata": {
        "id": "f4K4bx8N1Ul1",
        "colab": {
          "base_uri": "https://localhost:8080/"
        },
        "outputId": "0b81e4cf-a36c-4293-a097-218c368ac88b"
      }
    },
    {
      "cell_type": "markdown",
      "source": [
        "* `update(iterável)`: Adiciona elementos do iterável.¹⁷"
      ],
      "metadata": {
        "id": "SjHOZh6B1Ul1"
      }
    },
    {
      "cell_type": "code",
      "source": [
        "meu_conjunto = {1, 2, 3}\n",
        "meu_conjunto.update([3, 4, 5], \"ab\") # Adiciona 3, 4, 5, 'a', 'b' (3 já existe)\n",
        "print(f\"Após update: {meu_conjunto}\")  # Saída: {1, 2, 3, 4, 5, 'a', 'b'}"
      ],
      "outputs": [
        {
          "output_type": "stream",
          "name": "stdout",
          "text": [
            "Após update: {1, 2, 3, 4, 5, 'b', 'a'}\n"
          ]
        }
      ],
      "execution_count": 71,
      "metadata": {
        "id": "O_BzcADg1Ul2",
        "colab": {
          "base_uri": "https://localhost:8080/"
        },
        "outputId": "b1a37c1a-8701-4c87-e004-814c387bc2e6"
      }
    },
    {
      "cell_type": "markdown",
      "source": [
        "* `remove(x)`: Remove `x`. Gera `KeyError` se não existir.¹⁷"
      ],
      "metadata": {
        "id": "Uk60VFFy1Ul2"
      }
    },
    {
      "cell_type": "code",
      "source": [
        "meu_conjunto = {1, 2, 3}\n",
        "meu_conjunto.remove(2)\n",
        "print(f\"Após remove(2): {meu_conjunto}\")  # Saída: {1, 3}\n",
        "# meu_conjunto.remove(5) # Geraria KeyError"
      ],
      "outputs": [
        {
          "output_type": "stream",
          "name": "stdout",
          "text": [
            "Após remove(2): {1, 3}\n"
          ]
        }
      ],
      "execution_count": 72,
      "metadata": {
        "id": "rcjngEX31Ul2",
        "colab": {
          "base_uri": "https://localhost:8080/"
        },
        "outputId": "95f0d356-de6d-4805-9543-71836f427cbb"
      }
    },
    {
      "cell_type": "markdown",
      "source": [
        "* `discard(x)`: Remove `x` se existir, sem erro caso contrário.¹⁷"
      ],
      "metadata": {
        "id": "PFN92Zlt1Ul2"
      }
    },
    {
      "cell_type": "code",
      "source": [
        "meu_conjunto = {1, 2, 3}\n",
        "meu_conjunto.discard(2)\n",
        "print(f\"Após discard(2): {meu_conjunto}\") # Saída: {1, 3}\n",
        "meu_conjunto.discard(5) # Não faz nada, sem erro\n",
        "print(f\"Após discard(5): {meu_conjunto}\") # Saída: {1, 3}"
      ],
      "outputs": [
        {
          "output_type": "stream",
          "name": "stdout",
          "text": [
            "Após discard(2): {1, 3}\n",
            "Após discard(5): {1, 3}\n"
          ]
        }
      ],
      "execution_count": 73,
      "metadata": {
        "id": "WK7KZW2e1Ul3",
        "colab": {
          "base_uri": "https://localhost:8080/"
        },
        "outputId": "a2b7f464-c780-4790-ac9a-26db3bfa1a07"
      }
    },
    {
      "cell_type": "markdown",
      "source": [
        "* `pop()`: Remove e retorna um elemento *arbitrário*. Gera `KeyError` se vazio.¹⁷"
      ],
      "metadata": {
        "id": "C2O8gA0L1Ul3"
      }
    },
    {
      "cell_type": "code",
      "source": [
        "meu_conjunto = {'a', 'b', 'c'}\n",
        "elemento = meu_conjunto.pop()\n",
        "print(f\"Elemento removido por pop: {elemento}\") # Saída: 'a', 'b' ou 'c'\n",
        "print(f\"Conjunto após pop: {meu_conjunto}\")"
      ],
      "outputs": [
        {
          "output_type": "stream",
          "name": "stdout",
          "text": [
            "Elemento removido por pop: b\n",
            "Conjunto após pop: {'c', 'a'}\n"
          ]
        }
      ],
      "execution_count": 74,
      "metadata": {
        "id": "o1ha59QK1Ul3",
        "colab": {
          "base_uri": "https://localhost:8080/"
        },
        "outputId": "7bae7eec-5ce8-4b60-861a-3c5dafcc8371"
      }
    },
    {
      "cell_type": "markdown",
      "source": [
        "* `clear()`: Remove todos os elementos.¹⁷"
      ],
      "metadata": {
        "id": "awcp4p571Ul3"
      }
    },
    {
      "cell_type": "code",
      "source": [
        "meu_conjunto = {1, 2, 3}\n",
        "meu_conjunto.clear()\n",
        "print(f\"Após clear: {meu_conjunto}\")  # Saída: set()"
      ],
      "outputs": [
        {
          "output_type": "stream",
          "name": "stdout",
          "text": [
            "Após clear: set()\n"
          ]
        }
      ],
      "execution_count": 75,
      "metadata": {
        "id": "GEOxQ_ls1Ul4",
        "colab": {
          "base_uri": "https://localhost:8080/"
        },
        "outputId": "2fdf8540-6ad8-4172-aac9-70684406edff"
      }
    },
    {
      "cell_type": "markdown",
      "source": [
        "Operações de conjunto:\n",
        "\n",
        "* União (`|` ou `union()`): Elementos em um ou ambos.¹⁷"
      ],
      "metadata": {
        "id": "AuOm9FJV1Ul4"
      }
    },
    {
      "cell_type": "code",
      "source": [
        "conjunto1 = {1, 2, 3}\n",
        "conjunto2 = {3, 4, 5}\n",
        "uniao = conjunto1 | conjunto2\n",
        "print(f\"União (|): {uniao}\")  # Saída: {1, 2, 3, 4, 5}\n",
        "uniao_metodo = conjunto1.union(conjunto2)\n",
        "print(f\"União (método): {uniao_metodo}\")  # Saída: {1, 2, 3, 4, 5}"
      ],
      "outputs": [
        {
          "output_type": "stream",
          "name": "stdout",
          "text": [
            "União (|): {1, 2, 3, 4, 5}\n",
            "União (método): {1, 2, 3, 4, 5}\n"
          ]
        }
      ],
      "execution_count": 76,
      "metadata": {
        "id": "4Uq_cXFc1Ul4",
        "colab": {
          "base_uri": "https://localhost:8080/"
        },
        "outputId": "7ce9feae-e358-4766-cc00-474cdfe05eff"
      }
    },
    {
      "cell_type": "markdown",
      "source": [
        "* Interseção (`&` ou `intersection()`): Elementos comuns a ambos.¹⁷"
      ],
      "metadata": {
        "id": "ZJexJISt1Ul4"
      }
    },
    {
      "cell_type": "code",
      "source": [
        "conjunto1 = {1, 2, 3}\n",
        "conjunto2 = {3, 4, 5}\n",
        "intersecao = conjunto1 & conjunto2\n",
        "print(f\"Interseção (&): {intersecao}\")  # Saída: {3}\n",
        "intersecao_metodo = conjunto1.intersection(conjunto2)\n",
        "print(f\"Interseção (método): {intersecao_metodo}\")  # Saída: {3}"
      ],
      "outputs": [
        {
          "output_type": "stream",
          "name": "stdout",
          "text": [
            "Interseção (&): {3}\n",
            "Interseção (método): {3}\n"
          ]
        }
      ],
      "execution_count": 77,
      "metadata": {
        "id": "_BF5xSGt1Ul5",
        "colab": {
          "base_uri": "https://localhost:8080/"
        },
        "outputId": "30702811-7719-4236-96da-3a9a06fda4d3"
      }
    },
    {
      "cell_type": "markdown",
      "source": [
        "* Diferença (`-` ou `difference()`): Elementos no primeiro, mas não no segundo.¹⁷"
      ],
      "metadata": {
        "id": "gF12M3_c1Ul5"
      }
    },
    {
      "cell_type": "code",
      "source": [
        "conjunto1 = {1, 2, 3}\n",
        "conjunto2 = {3, 4, 5}\n",
        "diferenca = conjunto1 - conjunto2\n",
        "print(f\"Diferença (-): {diferenca}\")  # Saída: {1, 2}\n",
        "diferenca_metodo = conjunto1.difference(conjunto2)\n",
        "print(f\"Diferença (método): {diferenca_metodo}\")  # Saída: {1, 2}"
      ],
      "outputs": [
        {
          "output_type": "stream",
          "name": "stdout",
          "text": [
            "Diferença (-): {1, 2}\n",
            "Diferença (método): {1, 2}\n"
          ]
        }
      ],
      "execution_count": 78,
      "metadata": {
        "id": "okGB5uoQ1Ul5",
        "colab": {
          "base_uri": "https://localhost:8080/"
        },
        "outputId": "660640e3-9b0b-4094-9065-a18b4c530bad"
      }
    },
    {
      "cell_type": "markdown",
      "source": [
        "* Diferença Simétrica (`^` ou `symmetric_difference()`): Elementos em exatamente um dos conjuntos.¹⁷"
      ],
      "metadata": {
        "id": "ZtHp3o9h1Ul5"
      }
    },
    {
      "cell_type": "code",
      "source": [
        "conjunto1 = {1, 2, 3}\n",
        "conjunto2 = {3, 4, 5}\n",
        "diferenca_simetrica = conjunto1 ^ conjunto2\n",
        "print(f\"Diferença Simétrica (^): {diferenca_simetrica}\")  # Saída: {1, 2, 4, 5}\n",
        "diferenca_sim_metodo = conjunto1.symmetric_difference(conjunto2)\n",
        "print(f\"Diferença Simétrica (método): {diferenca_sim_metodo}\")  # Saída: {1, 2, 4, 5}"
      ],
      "outputs": [
        {
          "output_type": "stream",
          "name": "stdout",
          "text": [
            "Diferença Simétrica (^): {1, 2, 4, 5}\n",
            "Diferença Simétrica (método): {1, 2, 4, 5}\n"
          ]
        }
      ],
      "execution_count": 79,
      "metadata": {
        "id": "y7HylxnL1Ul6",
        "colab": {
          "base_uri": "https://localhost:8080/"
        },
        "outputId": "65a4e30d-7485-4e21-bedb-731312d30a7a"
      }
    },
    {
      "cell_type": "markdown",
      "source": [
        "Verificações de subconjunto/superconjunto/disjunção:"
      ],
      "metadata": {
        "id": "UTscSnGd1Ul6"
      }
    },
    {
      "cell_type": "code",
      "source": [
        "# Verificações de subconjunto, superconjunto, disjunção\n",
        "a = {1, 2}\n",
        "b = {1, 2, 3}\n",
        "c = {4, 5}\n",
        "\n",
        "# issubset() ou <=\n",
        "print(f\"a é subconjunto de b? {a.issubset(b)}\") # Saída: True\n",
        "print(f\"a <= b? {a <= b}\")                   # Saída: True\n",
        "\n",
        "# issuperset() ou >=\n",
        "print(f\"b é superconjunto de a? {b.issuperset(a)}\") # Saída: True\n",
        "print(f\"b >= a? {b >= a}\")                     # Saída: True\n",
        "\n",
        "# isdisjoint()\n",
        "print(f\"a e b são disjuntos? {a.isdisjoint(b)}\") # Saída: False\n",
        "print(f\"a e c são disjuntos? {a.isdisjoint(c)}\") # Saída: True"
      ],
      "outputs": [
        {
          "output_type": "stream",
          "name": "stdout",
          "text": [
            "a é subconjunto de b? True\n",
            "a <= b? True\n",
            "b é superconjunto de a? True\n",
            "b >= a? True\n",
            "a e b são disjuntos? False\n",
            "a e c são disjuntos? True\n"
          ]
        }
      ],
      "execution_count": 80,
      "metadata": {
        "id": "gWS6k5Lt1Ul6",
        "colab": {
          "base_uri": "https://localhost:8080/"
        },
        "outputId": "d6fe339d-9aeb-4651-e736-af6cd8983b38"
      }
    },
    {
      "cell_type": "markdown",
      "source": [
        "As funções `len()`, `min()`, `max()`, `sum()` (se aplicável), `sorted()`, `enumerate()`, `zip()` também podem ser usadas com conjuntos.¹⁷"
      ],
      "metadata": {
        "id": "85_17XcX1Ul6"
      }
    },
    {
      "cell_type": "code",
      "source": [
        "# Funções embutidas com sets\n",
        "meu_set = {5, 1, 9, 3}\n",
        "print(f\"Tamanho do set: {len(meu_set)}\") # Saída: 4\n",
        "print(f\"Mínimo do set: {min(meu_set)}\") # Saída: 1\n",
        "print(f\"Máximo do set: {max(meu_set)}\") # Saída: 9\n",
        "print(f\"Soma do set: {sum(meu_set)}\") # Saída: 18\n",
        "\n",
        "# sorted() com set retorna uma NOVA LISTA ordenada\n",
        "set_ordenado_lista = sorted(meu_set)\n",
        "print(f\"Set original: {meu_set}\")\n",
        "print(f\"Nova lista ordenada: {set_ordenado_lista}\") # Saída: [1, 3, 5, 9]"
      ],
      "outputs": [
        {
          "output_type": "stream",
          "name": "stdout",
          "text": [
            "Tamanho do set: 4\n",
            "Mínimo do set: 1\n",
            "Máximo do set: 9\n",
            "Soma do set: 18\n",
            "Set original: {1, 3, 5, 9}\n",
            "Nova lista ordenada: [1, 3, 5, 9]\n"
          ]
        }
      ],
      "execution_count": 81,
      "metadata": {
        "id": "XGvysrNA1Ul7",
        "colab": {
          "base_uri": "https://localhost:8080/"
        },
        "outputId": "d819d695-7d35-454f-c88a-4a1f1520fbaf"
      }
    },
    {
      "cell_type": "markdown",
      "source": [
        "**5. Dicionários em Python: Mapeamentos de Pares Chave-Valor**\n",
        "\n",
        "Dicionários armazenam pares **chave-valor**. Chaves devem ser **únicas** e **hasháveis** (imutáveis). Valores podem ser de qualquer tipo.¹⁰ São **mutáveis**. Mantêm a **ordem de inserção** (Python 3.7+).¹⁰\n",
        "\n",
        "Dicionários podem ser criados de várias formas:\n",
        "\n",
        "* **Literais:** Usando chaves `{}` com pares `chave: valor` separados por vírgula.¹⁰"
      ],
      "metadata": {
        "id": "Ua-vzBEv1Ul7"
      }
    },
    {
      "cell_type": "code",
      "source": [
        "# Criação com literal\n",
        "pessoa = {'nome': 'João', 'idade': 30, 'cidade': 'São Paulo'}\n",
        "dicio_vazio = {}\n",
        "print(f\"Dicionário Pessoa: {pessoa}\")\n",
        "print(f\"Dicionário Vazio: {dicio_vazio}\")\n",
        "print(f\"Tipo: {type(pessoa)}\") # Saída: <class 'dict'>"
      ],
      "outputs": [
        {
          "output_type": "stream",
          "name": "stdout",
          "text": [
            "Dicionário Pessoa: {'nome': 'João', 'idade': 30, 'cidade': 'São Paulo'}\n",
            "Dicionário Vazio: {}\n",
            "Tipo: <class 'dict'>\n"
          ]
        }
      ],
      "execution_count": 82,
      "metadata": {
        "id": "YG5rXxkd1Ul7",
        "colab": {
          "base_uri": "https://localhost:8080/"
        },
        "outputId": "0ec61221-26ad-40c6-9e7a-d46a2c57e09c"
      }
    },
    {
      "cell_type": "markdown",
      "source": [
        "* **Construtor `dict()`:** Com argumentos nomeados, mapeamento ou iterável de pares.¹⁰"
      ],
      "metadata": {
        "id": "LsWabX-T1Ul7"
      }
    },
    {
      "cell_type": "code",
      "source": [
        "# Criação com construtor dict()\n",
        "d1 = dict(nome='Maria', idade=25) # Argumentos nomeados\n",
        "print(f\"dict(kwargs): {d1}\") # Saída: {'nome': 'Maria', 'idade': 25}\n",
        "\n",
        "d2 = dict([('a', 1), ('b', 2)]) # Iterável de pares (lista de tuplas)\n",
        "print(f\"dict(iterable): {d2}\") # Saída: {'a': 1, 'b': 2}\n",
        "\n",
        "d3 = dict(d1) # A partir de outro dicionário (cópia superficial)\n",
        "print(f\"dict(mapping): {d3}\") # Saída: {'nome': 'Maria', 'idade': 25}"
      ],
      "outputs": [
        {
          "output_type": "stream",
          "name": "stdout",
          "text": [
            "dict(kwargs): {'nome': 'Maria', 'idade': 25}\n",
            "dict(iterable): {'a': 1, 'b': 2}\n",
            "dict(mapping): {'nome': 'Maria', 'idade': 25}\n"
          ]
        }
      ],
      "execution_count": 83,
      "metadata": {
        "id": "Hc5cAsAu1Ul8",
        "colab": {
          "base_uri": "https://localhost:8080/"
        },
        "outputId": "742e2ea1-0153-423d-c83b-909b85af73f7"
      }
    },
    {
      "cell_type": "markdown",
      "source": [
        "* **Dictionary comprehensions:** Sintaxe concisa para criar dicionários.¹⁰"
      ],
      "metadata": {
        "id": "6rImgxdB1Ul8"
      }
    },
    {
      "cell_type": "code",
      "source": [
        "# Criação com Dictionary Comprehension\n",
        "quadrados_dict = {x: x**2 for x in range(5)}\n",
        "print(f\"Quadrados (dict): {quadrados_dict}\") # Saída: {0: 0, 1: 1, 2: 4, 3: 9, 4: 16}\n",
        "\n",
        "nomes = ['Ana', 'Bia', 'Carlos']\n",
        "letras_iniciais = {nome: nome[0] for nome in nomes}\n",
        "print(f\"Letras Iniciais: {letras_iniciais}\") # Saída: {'Ana': 'A', 'Bia': 'B', 'Carlos': 'C'}"
      ],
      "outputs": [
        {
          "output_type": "stream",
          "name": "stdout",
          "text": [
            "Quadrados (dict): {0: 0, 1: 1, 2: 4, 3: 9, 4: 16}\n",
            "Letras Iniciais: {'Ana': 'A', 'Bia': 'B', 'Carlos': 'C'}\n"
          ]
        }
      ],
      "execution_count": 84,
      "metadata": {
        "id": "eyIp9HCp1Ul8",
        "colab": {
          "base_uri": "https://localhost:8080/"
        },
        "outputId": "c994c6ed-53f2-47e3-f4ed-d364aa7716bb"
      }
    },
    {
      "cell_type": "markdown",
      "source": [
        "* **`fromkeys(iterável, valor=None)`:** Cria dicionário com chaves do iterável e um valor padrão.¹⁰"
      ],
      "metadata": {
        "id": "kXaRPitO1Ul8"
      }
    },
    {
      "cell_type": "code",
      "source": [
        "# Criação com fromkeys\n",
        "chaves = ['a', 'b', 'c']\n",
        "dicio_fromkeys = dict.fromkeys(chaves, 0) # Todas as chaves com valor 0\n",
        "print(f\"fromkeys com valor: {dicio_fromkeys}\") # Saída: {'a': 0, 'b': 0, 'c': 0}\n",
        "\n",
        "dicio_fromkeys_none = dict.fromkeys(chaves) # Valor padrão é None\n",
        "print(f\"fromkeys sem valor: {dicio_fromkeys_none}\") # Saída: {'a': None, 'b': None, 'c': None}"
      ],
      "outputs": [
        {
          "output_type": "stream",
          "name": "stdout",
          "text": [
            "fromkeys com valor: {'a': 0, 'b': 0, 'c': 0}\n",
            "fromkeys sem valor: {'a': None, 'b': None, 'c': None}\n"
          ]
        }
      ],
      "execution_count": 85,
      "metadata": {
        "id": "NetFM-Hv1Ul8",
        "colab": {
          "base_uri": "https://localhost:8080/"
        },
        "outputId": "d391290e-21b9-4f0b-d813-d786cc7a1640"
      }
    },
    {
      "cell_type": "markdown",
      "source": [
        "Acesso aos valores:\n",
        "\n",
        "* **Lookup por chave `[]`:** Acesso direto. Gera `KeyError` se a chave não existe.¹⁰"
      ],
      "metadata": {
        "id": "zcYwu9Kp1Ul9"
      }
    },
    {
      "cell_type": "code",
      "source": [
        "# Acesso por chave []\n",
        "pessoa = {'nome': 'João', 'idade': 30}\n",
        "print(f\"Nome: {pessoa['nome']}\") # Saída: João\n",
        "# print(pessoa['profissao']) # Geraria KeyError"
      ],
      "outputs": [
        {
          "output_type": "stream",
          "name": "stdout",
          "text": [
            "Nome: João\n"
          ]
        }
      ],
      "execution_count": 86,
      "metadata": {
        "id": "rSU4VRxH1Ul9",
        "colab": {
          "base_uri": "https://localhost:8080/"
        },
        "outputId": "7f1388c4-a508-4a44-9cbb-d82bda3f32a1"
      }
    },
    {
      "cell_type": "markdown",
      "source": [
        "* **`get(chave, padrão=None)`:** Acesso seguro. Retorna `padrão` (ou `None`) se a chave não existe.¹⁰"
      ],
      "metadata": {
        "id": "rmgI23cD1Ul9"
      }
    },
    {
      "cell_type": "code",
      "source": [
        "# Acesso com get()\n",
        "pessoa = {'nome': 'João', 'idade': 30}\n",
        "idade = pessoa.get('idade')\n",
        "profissao = pessoa.get('profissao', 'Não informada')\n",
        "\n",
        "print(f\"Idade (get): {idade}\") # Saída: 30\n",
        "print(f\"Profissão (get): {profissao}\") # Saída: Não informada"
      ],
      "outputs": [
        {
          "output_type": "stream",
          "name": "stdout",
          "text": [
            "Idade (get): 30\n",
            "Profissão (get): Não informada\n"
          ]
        }
      ],
      "execution_count": 87,
      "metadata": {
        "id": "luxbLsjM1Ul9",
        "colab": {
          "base_uri": "https://localhost:8080/"
        },
        "outputId": "1a1889e8-dcb6-422d-a744-4aedf940f7d9"
      }
    },
    {
      "cell_type": "markdown",
      "source": [
        "Modificando dicionários:\n",
        "\n",
        "* **Adicionando/Atualizando:** Atribuição direta `dicionario[chave] = valor`.¹¹"
      ],
      "metadata": {
        "id": "uVS6o5cT1Ul-"
      }
    },
    {
      "cell_type": "code",
      "source": [
        "# Adicionando e Atualizando\n",
        "pessoa = {'nome': 'João'}\n",
        "pessoa['idade'] = 30 # Adiciona nova chave-valor\n",
        "print(f\"Após adicionar idade: {pessoa}\") # Saída: {'nome': 'João', 'idade': 30}\n",
        "\n",
        "pessoa['nome'] = 'João Silva' # Atualiza valor da chave existente\n",
        "print(f\"Após atualizar nome: {pessoa}\") # Saída: {'nome': 'João Silva', 'idade': 30}"
      ],
      "outputs": [
        {
          "output_type": "stream",
          "name": "stdout",
          "text": [
            "Após adicionar idade: {'nome': 'João', 'idade': 30}\n",
            "Após atualizar nome: {'nome': 'João Silva', 'idade': 30}\n"
          ]
        }
      ],
      "execution_count": 88,
      "metadata": {
        "id": "A8_TA0Dw1Ul-",
        "colab": {
          "base_uri": "https://localhost:8080/"
        },
        "outputId": "08ba5cf8-338c-46a3-d27a-f49970b0c08b"
      }
    },
    {
      "cell_type": "markdown",
      "source": [
        "* **Removendo:**\n",
        "    * `del dicionario[chave]`: Remove a chave. Gera `KeyError` se não existir.¹¹"
      ],
      "metadata": {
        "id": "65kjpMCI1Ul-"
      }
    },
    {
      "cell_type": "code",
      "source": [
        "# Removendo com del\n",
        "pessoa = {'nome': 'João Silva', 'idade': 30}\n",
        "del pessoa['idade']\n",
        "print(f\"Após del idade: {pessoa}\") # Saída: {'nome': 'João Silva'}\n",
        "# del pessoa['idade'] # Geraria KeyError agora"
      ],
      "outputs": [
        {
          "output_type": "stream",
          "name": "stdout",
          "text": [
            "Após del idade: {'nome': 'João Silva'}\n"
          ]
        }
      ],
      "execution_count": 89,
      "metadata": {
        "id": "nU_7W6Un1Ul-",
        "colab": {
          "base_uri": "https://localhost:8080/"
        },
        "outputId": "a3b959df-2e9f-4b4c-fbe4-d24929e43679"
      }
    },
    {
      "cell_type": "markdown",
      "source": [
        "* `pop(chave[, padrão])`: Remove a chave e retorna o valor. Gera `KeyError` se não existir e `padrão` não for fornecido.¹⁰"
      ],
      "metadata": {
        "id": "xHFNnW0V1Ul-"
      }
    },
    {
      "cell_type": "code",
      "source": [
        "# Removendo com pop()\n",
        "pessoa = {'nome': 'Maria', 'idade': 25, 'cidade': 'SP'}\n",
        "cidade_removida = pessoa.pop('cidade')\n",
        "print(f\"Cidade removida: {cidade_removida}\") # Saída: SP\n",
        "print(f\"Pessoa após pop cidade: {pessoa}\") # Saída: {'nome': 'Maria', 'idade': 25}\n",
        "\n",
        "# Usando pop com valor padrão\n",
        "pais_removido = pessoa.pop('pais', 'Não encontrado')\n",
        "print(f\"País removido: {pais_removido}\") # Saída: Não encontrado\n",
        "print(f\"Pessoa após pop pais: {pessoa}\") # Saída: {'nome': 'Maria', 'idade': 25}"
      ],
      "outputs": [
        {
          "output_type": "stream",
          "name": "stdout",
          "text": [
            "Cidade removida: SP\n",
            "Pessoa após pop cidade: {'nome': 'Maria', 'idade': 25}\n",
            "País removido: Não encontrado\n",
            "Pessoa após pop pais: {'nome': 'Maria', 'idade': 25}\n"
          ]
        }
      ],
      "execution_count": 90,
      "metadata": {
        "id": "5peDQsVg1Ul_",
        "colab": {
          "base_uri": "https://localhost:8080/"
        },
        "outputId": "139ad617-c882-40ad-b640-3840a705c767"
      }
    },
    {
      "cell_type": "markdown",
      "source": [
        "* `popitem()`: Remove e retorna o último par chave-valor inserido (LIFO). Gera `KeyError` se vazio.¹⁰"
      ],
      "metadata": {
        "id": "lk6yFlTU1Ul_"
      }
    },
    {
      "cell_type": "code",
      "source": [
        "# Removendo com popitem() (último item inserido)\n",
        "pessoa = {'nome': 'Carlos', 'idade': 40, 'profissao': 'Engenheiro'}\n",
        "chave, valor = pessoa.popitem()\n",
        "print(f\"Item removido (popitem): {chave}={valor}\") # Saída: profissao=Engenheiro\n",
        "print(f\"Pessoa após popitem: {pessoa}\") # Saída: {'nome': 'Carlos', 'idade': 40}"
      ],
      "outputs": [
        {
          "output_type": "stream",
          "name": "stdout",
          "text": [
            "Item removido (popitem): profissao=Engenheiro\n",
            "Pessoa após popitem: {'nome': 'Carlos', 'idade': 40}\n"
          ]
        }
      ],
      "execution_count": 91,
      "metadata": {
        "id": "_0zwlz0P1Ul_",
        "colab": {
          "base_uri": "https://localhost:8080/"
        },
        "outputId": "010ef5a3-127d-42ef-f9d8-44037386b1ba"
      }
    },
    {
      "cell_type": "markdown",
      "source": [
        "* `clear()`: Remove todos os itens.¹⁰"
      ],
      "metadata": {
        "id": "ZqQlZZ_E1Ul_"
      }
    },
    {
      "cell_type": "code",
      "source": [
        "# Removendo com clear()\n",
        "pessoa = {'a': 1, 'b': 2}\n",
        "pessoa.clear()\n",
        "print(f\"Após clear: {pessoa}\") # Saída: {}"
      ],
      "outputs": [
        {
          "output_type": "stream",
          "name": "stdout",
          "text": [
            "Após clear: {}\n"
          ]
        }
      ],
      "execution_count": 92,
      "metadata": {
        "id": "xkur3PPi1UmA",
        "colab": {
          "base_uri": "https://localhost:8080/"
        },
        "outputId": "ad2e0991-e7c4-4130-f8ea-995db2261327"
      }
    },
    {
      "cell_type": "markdown",
      "source": [
        "Métodos úteis para dicionários:\n",
        "\n",
        "* **Acessando informações:**\n",
        "    * `keys()`: Retorna uma visualização das chaves.¹⁰\n",
        "    * `values()`: Retorna uma visualização dos valores.¹⁰\n",
        "    * `items()`: Retorna uma visualização dos pares (chave, valor).¹⁰"
      ],
      "metadata": {
        "id": "CPpFEVOj1UmA"
      }
    },
    {
      "cell_type": "code",
      "source": [
        "# Métodos keys(), values(), items()\n",
        "pessoa = {'nome': 'Ana', 'idade': 28}\n",
        "\n",
        "print(f\"Chaves: {pessoa.keys()}\")     # Saída: dict_keys(['nome', 'idade'])\n",
        "print(f\"Valores: {pessoa.values()}\")   # Saída: dict_values(['Ana', 28])\n",
        "print(f\"Itens: {pessoa.items()}\")     # Saída: dict_items([('nome', 'Ana'), ('idade', 28)])\n",
        "\n",
        "# Podem ser usados em loops\n",
        "print(\"Iterando sobre chaves:\")\n",
        "for k in pessoa.keys():\n",
        "    print(k)\n",
        "\n",
        "print(\"Iterando sobre valores:\")\n",
        "for v in pessoa.values():\n",
        "    print(v)\n",
        "\n",
        "print(\"Iterando sobre itens:\")\n",
        "for k, v in pessoa.items():\n",
        "    print(f\"{k} -> {v}\")"
      ],
      "outputs": [
        {
          "output_type": "stream",
          "name": "stdout",
          "text": [
            "Chaves: dict_keys(['nome', 'idade'])\n",
            "Valores: dict_values(['Ana', 28])\n",
            "Itens: dict_items([('nome', 'Ana'), ('idade', 28)])\n",
            "Iterando sobre chaves:\n",
            "nome\n",
            "idade\n",
            "Iterando sobre valores:\n",
            "Ana\n",
            "28\n",
            "Iterando sobre itens:\n",
            "nome -> Ana\n",
            "idade -> 28\n"
          ]
        }
      ],
      "execution_count": 93,
      "metadata": {
        "id": "99iFP_rs1UmA",
        "colab": {
          "base_uri": "https://localhost:8080/"
        },
        "outputId": "65c83795-7f04-4f33-9a58-814b753de36b"
      }
    },
    {
      "cell_type": "markdown",
      "source": [
        "* **Adicionando e atualizando:**\n",
        "    * `update([outro])`: Mescla outro dicionário ou iterável de pares.¹⁰"
      ],
      "metadata": {
        "id": "AC9wnTHq1UmA"
      }
    },
    {
      "cell_type": "code",
      "source": [
        "# Método update()\n",
        "contato = {'email': 'ana@exemplo.com'}\n",
        "info_pessoal = {'cidade': 'Recife', 'estado': 'PE'}\n",
        "contato.update(info_pessoal) # Mescla info_pessoal em contato\n",
        "print(f\"Contato atualizado: {contato}\")\n",
        "# Saída: {'email': 'ana@exemplo.com', 'cidade': 'Recife', 'estado': 'PE'}\n",
        "\n",
        "contato.update(cidade='Salvador', telefone='9999-8888') # Atualiza cidade, adiciona telefone\n",
        "print(f\"Contato re-atualizado: {contato}\")\n",
        "# Saída: {'email': 'ana@exemplo.com', 'cidade': 'Salvador', 'estado': 'PE', 'telefone': '9999-8888'}"
      ],
      "outputs": [
        {
          "output_type": "stream",
          "name": "stdout",
          "text": [
            "Contato atualizado: {'email': 'ana@exemplo.com', 'cidade': 'Recife', 'estado': 'PE'}\n",
            "Contato re-atualizado: {'email': 'ana@exemplo.com', 'cidade': 'Salvador', 'estado': 'PE', 'telefone': '9999-8888'}\n"
          ]
        }
      ],
      "execution_count": 94,
      "metadata": {
        "id": "eaLeHqf41UmA",
        "colab": {
          "base_uri": "https://localhost:8080/"
        },
        "outputId": "afa1a5f0-d6ad-4381-880b-47cfdaf9b518"
      }
    },
    {
      "cell_type": "markdown",
      "source": [
        "* `setdefault(chave, padrão=None)`: Retorna valor se chave existe; senão, insere chave com valor `padrão` e retorna `padrão`.¹⁰"
      ],
      "metadata": {
        "id": "lg34ypP91UmB"
      }
    },
    {
      "cell_type": "code",
      "source": [
        "# Método setdefault()\n",
        "config = {'user': 'admin'}\n",
        "\n",
        "# Chave 'user' existe, retorna seu valor\n",
        "usuario = config.setdefault('user', 'guest')\n",
        "print(f\"Usuário (existente): {usuario}\") # Saída: admin\n",
        "print(f\"Config após get user: {config}\") # Saída: {'user': 'admin'}\n",
        "\n",
        "# Chave 'theme' não existe, insere com valor padrão 'light' e retorna 'light'\n",
        "tema = config.setdefault('theme', 'light')\n",
        "print(f\"Tema (não existente): {tema}\") # Saída: light\n",
        "print(f\"Config após set theme: {config}\") # Saída: {'user': 'admin', 'theme': 'light'}"
      ],
      "outputs": [
        {
          "output_type": "stream",
          "name": "stdout",
          "text": [
            "Usuário (existente): admin\n",
            "Config após get user: {'user': 'admin'}\n",
            "Tema (não existente): light\n",
            "Config após set theme: {'user': 'admin', 'theme': 'light'}\n"
          ]
        }
      ],
      "execution_count": 95,
      "metadata": {
        "id": "xT_e7hZM1UmB",
        "colab": {
          "base_uri": "https://localhost:8080/"
        },
        "outputId": "1ad3a9af-e5e9-49ce-b007-8117f75a1ad3"
      }
    },
    {
      "cell_type": "markdown",
      "source": [
        "* **Copiando:**\n",
        "    * `copy()`: Retorna uma cópia *superficial* (shallow copy).¹⁰"
      ],
      "metadata": {
        "id": "DDu01JqA1UmB"
      }
    },
    {
      "cell_type": "code",
      "source": [
        "# Método copy()\n",
        "original = {'a': 1, 'b': [10, 20]}\n",
        "copia = original.copy()\n",
        "\n",
        "copia['a'] = 100       # Modifica valor imutável na cópia\n",
        "copia['b'].append(30) # Modifica objeto mutável interno NA CÓPIA\n",
        "\n",
        "print(f\"Original: {original}\") # Saída: {'a': 1, 'b': [10, 20, 30]} <- lista interna foi afetada!\n",
        "print(f\"Cópia: {copia}\")     # Saída: {'a': 100, 'b': [10, 20, 30]}"
      ],
      "outputs": [
        {
          "output_type": "stream",
          "name": "stdout",
          "text": [
            "Original: {'a': 1, 'b': [10, 20, 30]}\n",
            "Cópia: {'a': 100, 'b': [10, 20, 30]}\n"
          ]
        }
      ],
      "execution_count": 96,
      "metadata": {
        "id": "0Ut3PThZ1UmB",
        "colab": {
          "base_uri": "https://localhost:8080/"
        },
        "outputId": "47346e72-a589-4ed0-8538-06886bcfe698"
      }
    },
    {
      "cell_type": "markdown",
      "source": [
        "Funções embutidas com dicionários:"
      ],
      "metadata": {
        "id": "qE0H1qJ_1UmC"
      }
    },
    {
      "cell_type": "code",
      "source": [
        "# Funções embutidas com dicionários\n",
        "idades = {'Ana': 30, 'Bia': 25, 'Carlos': 35}\n",
        "\n",
        "print(f\"Número de pessoas: {len(idades)}\") # Saída: 3\n",
        "\n",
        "# min(), max(), sorted() operam nas CHAVES por padrão\n",
        "print(f\"Menor chave (nome): {min(idades)}\")     # Saída: Ana\n",
        "print(f\"Maior chave (nome): {max(idades)}\")     # Saída: Carlos\n",
        "print(f\"Chaves ordenadas: {sorted(idades)}\") # Saída: ['Ana', 'Bia', 'Carlos'] (lista)\n",
        "\n",
        "# Para operar nos valores:\n",
        "print(f\"Menor idade: {min(idades.values())}\") # Saída: 25\n",
        "print(f\"Maior idade: {max(idades.values())}\") # Saída: 35\n",
        "print(f\"Idades ordenadas: {sorted(idades.values())}\") # Saída: [25, 30, 35] (lista)\n",
        "\n",
        "# enumerate() itera sobre as chaves (por padrão)\n",
        "print(\"Enumerando chaves:\")\n",
        "for i, nome in enumerate(idades): # ou enumerate(idades.keys())\n",
        "    print(f\"{i}: {nome}\")\n",
        "\n",
        "# zip() para criar dicionários\n",
        "chaves = ['x', 'y', 'z']\n",
        "valores = [10, 20, 30]\n",
        "dicio_zip = dict(zip(chaves, valores))\n",
        "print(f\"Dicionário criado com zip: {dicio_zip}\") # Saída: {'x': 10, 'y': 20, 'z': 30}"
      ],
      "outputs": [
        {
          "output_type": "stream",
          "name": "stdout",
          "text": [
            "Número de pessoas: 3\n",
            "Menor chave (nome): Ana\n",
            "Maior chave (nome): Carlos\n",
            "Chaves ordenadas: ['Ana', 'Bia', 'Carlos']\n",
            "Menor idade: 25\n",
            "Maior idade: 35\n",
            "Idades ordenadas: [25, 30, 35]\n",
            "Enumerando chaves:\n",
            "0: Ana\n",
            "1: Bia\n",
            "2: Carlos\n",
            "Dicionário criado com zip: {'x': 10, 'y': 20, 'z': 30}\n"
          ]
        }
      ],
      "execution_count": 97,
      "metadata": {
        "id": "b665-_V91UmC",
        "colab": {
          "base_uri": "https://localhost:8080/"
        },
        "outputId": "4659501b-c0ac-4cc5-bed2-be446e83f797"
      }
    },
    {
      "cell_type": "markdown",
      "source": [
        "Dictionary comprehension: ` {chave: valor for item in iterável if condição} `.¹⁰"
      ],
      "metadata": {
        "id": "pFKj1_ws1UmC"
      }
    },
    {
      "cell_type": "code",
      "source": [
        "# Exemplo avançado de Dictionary Comprehension\n",
        "precos = {'banana': 2.5, 'maçã': 3.0, 'laranja': 2.0}\n",
        "# Criar dicionário com preços acima de 2.2\n",
        "caros = {fruta: preco for fruta, preco in precos.items() if preco > 2.2}\n",
        "print(f\"Frutas caras: {caros}\") # Saída: {'banana': 2.5, 'maçã': 3.0}"
      ],
      "outputs": [
        {
          "output_type": "stream",
          "name": "stdout",
          "text": [
            "Frutas caras: {'banana': 2.5, 'maçã': 3.0}\n"
          ]
        }
      ],
      "execution_count": 98,
      "metadata": {
        "id": "ZEMxPrhg1UmC",
        "colab": {
          "base_uri": "https://localhost:8080/"
        },
        "outputId": "5473b4cd-2a95-4b1a-9cb4-c4d0c165837f"
      }
    },
    {
      "cell_type": "markdown",
      "source": [
        "**6. Comparação entre Listas e Tuplas: Diferenças e Casos de Uso**\n",
        "\n",
        "Listas e tuplas são sequências ordenadas, mas a diferença chave é a **mutabilidade**: listas são mutáveis, tuplas são imutáveis.³⁷\n",
        "\n",
        "* **Sintaxe:** Listas `[]`, Tuplas `()`.³⁷\n",
        "* **Mutabilidade:** Listas podem ser alteradas, tuplas não.³⁷\n",
        "* **Desempenho:** Tuplas geralmente são mais rápidas e usam menos memória.³⁷\n",
        "* **Casos de Uso:**\n",
        "    * **Listas:** Coleções dinâmicas, dados que mudam, itens homogêneos (geralmente).\n",
        "    * **Tuplas:** Dados fixos, representação de registros, retorno de múltiplos valores de funções, chaves de dicionário (se hashable), itens heterogêneos (geralmente).³⁷\n",
        "* **Hashable:** Listas não são hashable. Tuplas são hashable *se* todos os seus elementos forem hashable.³⁷\n",
        "* **Métodos:** Listas têm mais métodos (modificação), tuplas têm poucos.\n",
        "\n",
        "A tabela resume as diferenças:\n",
        "\n",
        "| Característica | Lista                                       | Tupla                                                         |\n",
        "| :------------- | :------------------------------------------ | :------------------------------------------------------------ |\n",
        "| Mutabilidade   | Mutável                                     | Imutável                                                      |\n",
        "| Sintaxe        | `[]`                                        | `()`                                                          |\n",
        "| Desempenho     | Geralmente mais lenta e usa mais memória    | Geralmente mais rápida e usa menos memória                    |\n",
        "| Casos de Uso   | Coleções dinâmicas, itens homogêneos        | Dados fixos, itens heterogêneos, chaves de dicionários          |\n",
        "| Hashable       | Não                                         | Sim (se elementos forem hashable)                           |\n",
        "| Métodos        | Mais métodos (append, remove, sort, etc.) | Menos métodos (count, index)                                  |\n",
        "\n",
        "Escolha listas para coleções que precisam mudar; escolha tuplas para dados fixos, segurança ou quando precisar de um objeto hashable.\n",
        "\n",
        "**7. Conclusão**\n",
        "\n",
        "Este estudo detalhado explorou as quatro estruturas de dados fundamentais em Python: listas, tuplas, conjuntos e dicionários. Cada uma possui características únicas para diferentes cenários. Listas oferecem flexibilidade ordenada e mutável. Tuplas garantem imutabilidade e eficiência para dados fixos, podendo ser chaves. Conjuntos são coleções não ordenadas e únicas, ótimas para operações de conjunto e remoção de duplicatas. Dicionários fornecem mapeamentos chave-valor eficientes e ordenados por inserção (Python 3.7+).\n",
        "\n",
        "A escolha correta (mutabilidade, ordem, unicidade, hashability) é crucial para código eficiente e legível. Compreender listas, tuplas, conjuntos e dicionários permite ao programador selecionar a ferramenta certa, otimizando o desenvolvimento."
      ],
      "metadata": {
        "id": "2QHIYBBi1UmC"
      }
    }
  ],
  "metadata": {
    "colab": {
      "provenance": []
    },
    "kernelspec": {
      "display_name": "Python 3",
      "name": "python3"
    }
  },
  "nbformat": 4,
  "nbformat_minor": 0
}