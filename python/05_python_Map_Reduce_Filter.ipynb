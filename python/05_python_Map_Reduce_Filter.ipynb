{
  "cells": [
    {
      "cell_type": "markdown",
      "source": [
        "**Estudo Detalhado das Funções `map()`, `reduce()` e `filter()` em Python**\n",
        "\n",
        "**1. Introdução às Funções `map()`, `reduce()` e `filter()` em Python**\n",
        "\n",
        "A programação funcional representa um paradigma de programação que enfatiza a aplicação de funções para processar dados, contrastando com a abordagem imperativa que se concentra em sequências de comandos para alterar o estado do programa. No cerne da programação funcional está o conceito de **funções puras**, que produzem o mesmo resultado para as mesmas entradas e não causam efeitos colaterais observáveis fora da função.¹ Além disso, linguagens que suportam programação funcional frequentemente tratam funções como **cidadãs de primeira classe**, permitindo que sejam atribuídas a variáveis, passadas como argumentos para outras funções e retornadas como valores.¹ Embora Python seja primariamente uma linguagem orientada a objetos, ela incorpora diversos recursos que facilitam a programação funcional, tornando-a uma ferramenta versátil para diferentes estilos de codificação.¹"
      ],
      "metadata": {
        "id": "Sa6mVd4DKzoJ"
      }
    },
    {
      "cell_type": "code",
      "source": [
        "# Exemplo: Função como cidadã de primeira classe\n",
        "def saudacao(nome):\n",
        "    return f\"Olá, {nome}!\"\n",
        "\n",
        "def aplicar_funcao(func, valor): # Recebe outra função como argumento\n",
        "    return func(valor)\n",
        "\n",
        "minha_saudacao = saudacao # Função atribuída a uma variável\n",
        "resultado = aplicar_funcao(minha_saudacao, \"Mundo\") # Função passada como argumento\n",
        "print(resultado) # Saída: Olá, Mundo!"
      ],
      "outputs": [
        {
          "output_type": "stream",
          "name": "stdout",
          "text": [
            "Olá, Mundo!\n"
          ]
        }
      ],
      "execution_count": 1,
      "metadata": {
        "id": "iXdQevBKKzoO",
        "colab": {
          "base_uri": "https://localhost:8080/"
        },
        "outputId": "e6142a84-b320-41b3-8d57-fd096cc78c34"
      }
    },
    {
      "cell_type": "markdown",
      "source": [
        "Dentro do conjunto de ferramentas funcionais do Python, as funções `map()`, `reduce()` e `filter()` se destacam por sua capacidade de operar sobre sequências de dados de maneira concisa e expressiva.⁵ Estas funções permitem que o programador aplique transformações, selecione elementos ou agregue valores em coleções de dados sem a necessidade de escrever loops explícitos, resultando em um código mais limpo e, muitas vezes, mais legível.⁵ É importante notar que `map()` e `filter()` são funções *built-in* do Python, estando sempre disponíveis para uso, enquanto `reduce()` reside no módulo `functools` e precisa ser importada antes de ser utilizada.⁵\n",
        "\n",
        "**2. Análise Detalhada da Função `map()`**\n",
        "\n",
        "A função `map()` em Python serve ao propósito de aplicar uma determinada função a cada item de um ou mais iteráveis, retornando um **iterador** que produz os resultados dessas aplicações.⁸ Sua sintaxe formal é definida como `map(function, iterable, ...)`.⁹ O primeiro argumento, `function`, é um objeto *callable* (como uma função definida com `def` ou uma função `lambda`) que define a transformação a ser aplicada. Os argumentos subsequentes são um ou mais objetos iteráveis (listas, tuplas, strings, etc.) que serão processados.⁹ A função passada para `map()` deve ser capaz de aceitar tantos argumentos quantos iteráveis forem fornecidos.⁹"
      ],
      "metadata": {
        "id": "w5OAaqQZKzoR"
      }
    },
    {
      "cell_type": "code",
      "source": [
        "# Sintaxe básica de map()\n",
        "numeros = [1, 2, 3, 4]\n",
        "\n",
        "# 1. Usando uma função definida\n",
        "def quadrado(n):\n",
        "  return n * n\n",
        "\n",
        "map_objeto_func = map(quadrado, numeros)\n",
        "print(f\"\\nTipo do objeto retornado por map(): {type(map_objeto_func)}\") # Saída: <class 'map'>\n",
        "# Para ver os resultados, precisamos converter o iterador (ex: para lista)\n",
        "lista_quadrados_func = list(map_objeto_func)\n",
        "print(f\"Quadrados (usando função definida): {lista_quadrados_func}\") # Saída: [1, 4, 9, 16]\n",
        "\n",
        "# 2. Usando uma função lambda (mais conciso para operações simples)\n",
        "map_objeto_lambda = map(lambda x: x * x, numeros)\n",
        "lista_quadrados_lambda = list(map_objeto_lambda)\n",
        "print(f\"Quadrados (usando lambda): {lista_quadrados_lambda}\") # Saída: [1, 4, 9, 16]"
      ],
      "outputs": [
        {
          "output_type": "stream",
          "name": "stdout",
          "text": [
            "\n",
            "Tipo do objeto retornado por map(): <class 'map'>\n",
            "Quadrados (usando função definida): [1, 4, 9, 16]\n",
            "Quadrados (usando lambda): [1, 4, 9, 16]\n"
          ]
        }
      ],
      "execution_count": 2,
      "metadata": {
        "id": "aMcq6TAnKzoU",
        "colab": {
          "base_uri": "https://localhost:8080/"
        },
        "outputId": "6604c2bd-ec5c-4492-c3b4-75b1adafbd79"
      }
    },
    {
      "cell_type": "markdown",
      "source": [
        "A flexibilidade de `map()` se estende ao processamento de múltiplos iteráveis simultaneamente.⁹ Nesse caso, a função fornecida deve aceitar um argumento para cada iterável. `map()` itera sobre os iteráveis em paralelo, parando quando o iterável mais curto termina.⁹"
      ],
      "metadata": {
        "id": "qUcA1PEUKzoV"
      }
    },
    {
      "cell_type": "code",
      "source": [
        "# map() com múltiplos iteráveis\n",
        "lista1 = [1, 2, 3]\n",
        "lista2 = [10, 20, 30]\n",
        "tupla1 = (100, 200) # Mais curta que as listas\n",
        "\n",
        "map_soma = map(lambda x, y: x + y, lista1, lista2)\n",
        "print(f\"\\nSoma de elementos correspondentes de duas listas: {list(map_soma)}\") # Saída: [11, 22, 33]\n",
        "\n",
        "map_soma_tres = map(lambda x, y, z: x + y + z, lista1, lista2, tupla1)\n",
        "# Itera apenas 2 vezes, pois tupla1 é a mais curta\n",
        "print(f\"Soma de elementos de três iteráveis (para no mais curto): {list(map_soma_tres)}\") # Saída: [111, 222]"
      ],
      "outputs": [
        {
          "output_type": "stream",
          "name": "stdout",
          "text": [
            "\n",
            "Soma de elementos correspondentes de duas listas: [11, 22, 33]\n",
            "Soma de elementos de três iteráveis (para no mais curto): [111, 222]\n"
          ]
        }
      ],
      "execution_count": 3,
      "metadata": {
        "id": "wtw37JLwKzoW",
        "colab": {
          "base_uri": "https://localhost:8080/"
        },
        "outputId": "e66a7cd3-2ade-4dae-94fc-bcc8bcdd2abe"
      }
    },
    {
      "cell_type": "markdown",
      "source": [
        "Em Python 3, `map()` retorna um objeto `map` (um iterador).⁵ Para obter uma lista, tupla, etc., é necessária a conversão explícita.¹⁰"
      ],
      "metadata": {
        "id": "CfFkMKlaKzoX"
      }
    },
    {
      "cell_type": "code",
      "source": [
        "# Conversão explícita do resultado de map()\n",
        "nomes = [\"ana\", \"carlos\", \"bia\"]\n",
        "map_maiusculas = map(str.upper, nomes) # str.upper é uma função callable\n",
        "\n",
        "# Convertendo para diferentes tipos\n",
        "lista_maiusculas = list(map_maiusculas)\n",
        "# map_maiusculas já foi consumido ao criar a lista! Criar novo para a tupla:\n",
        "map_maiusculas_tupla = map(str.upper, nomes)\n",
        "tupla_maiusculas = tuple(map_maiusculas_tupla)\n",
        "\n",
        "print(f\"\\nResultado de map() convertido para lista: {lista_maiusculas}\") # Saída: ['ANA', 'CARLOS', 'BIA']\n",
        "print(f\"Resultado de map() convertido para tupla: {tupla_maiusculas}\") # Saída: ('ANA', 'CARLOS', 'BIA')"
      ],
      "outputs": [
        {
          "output_type": "stream",
          "name": "stdout",
          "text": [
            "\n",
            "Resultado de map() convertido para lista: ['ANA', 'CARLOS', 'BIA']\n",
            "Resultado de map() convertido para tupla: ('ANA', 'CARLOS', 'BIA')\n"
          ]
        }
      ],
      "execution_count": 4,
      "metadata": {
        "id": "T1g-uExPKzoX",
        "colab": {
          "base_uri": "https://localhost:8080/"
        },
        "outputId": "d2b01902-400a-4089-d317-268852c34578"
      }
    },
    {
      "cell_type": "markdown",
      "source": [
        "Aplicações práticas de `map()` incluem transformações de dados, como converter strings para inteiros, aplicar formatação ou realizar cálculos em cada elemento de uma coleção.¹⁰,¹¹"
      ],
      "metadata": {
        "id": "ZAv5fA3tKzoY"
      }
    },
    {
      "cell_type": "code",
      "source": [
        "# Exemplo complexo: Processar lista de dicionários\n",
        "lista_produtos = [\n",
        "    {'nome': 'Camisa', 'preco': 50.00},\n",
        "    {'nome': 'Calça', 'preco': 100.00},\n",
        "    {'nome': 'Meia', 'preco': 15.00}\n",
        "]\n",
        "\n",
        "# Aplicar 10% de desconto e adicionar nova chave 'preco_com_desconto'\n",
        "def aplicar_desconto(produto):\n",
        "    preco_original = produto['preco']\n",
        "    desconto = preco_original * 0.10\n",
        "    produto['preco_com_desconto'] = round(preco_original - desconto, 2)\n",
        "    return produto # Retorna o dicionário modificado\n",
        "\n",
        "produtos_com_desconto_map = map(aplicar_desconto, lista_produtos)\n",
        "print(\"\\nProdutos com desconto (map processando dicionários):\")\n",
        "print(list(produtos_com_desconto_map))\n",
        "# Saída: [{'nome': 'Camisa', 'preco': 50.0, 'preco_com_desconto': 45.0}, {'nome': 'Calça', 'preco': 100.0, 'preco_com_desconto': 90.0}, {'nome': 'Meia', 'preco': 15.0, 'preco_com_desconto': 13.5}]\n",
        "# Nota: map modificou os dicionários originais neste caso, pois dicionários são mutáveis.\n",
        "# Para evitar isso, a função deveria criar e retornar um NOVO dicionário."
      ],
      "outputs": [
        {
          "output_type": "stream",
          "name": "stdout",
          "text": [
            "\n",
            "Produtos com desconto (map processando dicionários):\n",
            "[{'nome': 'Camisa', 'preco': 50.0, 'preco_com_desconto': 45.0}, {'nome': 'Calça', 'preco': 100.0, 'preco_com_desconto': 90.0}, {'nome': 'Meia', 'preco': 15.0, 'preco_com_desconto': 13.5}]\n"
          ]
        }
      ],
      "execution_count": 5,
      "metadata": {
        "id": "8r_yvKm-KzoZ",
        "colab": {
          "base_uri": "https://localhost:8080/"
        },
        "outputId": "b13c9e94-3afb-4c56-dec1-b7df1f67256f"
      }
    },
    {
      "cell_type": "markdown",
      "source": [
        "**3. Análise Detalhada da Função `filter()`**\n",
        "\n",
        "A função `filter()` constrói um **iterador** a partir dos elementos de um iterável para os quais uma função retorna `True`.⁵ Sua sintaxe é `filter(function, iterable)`.¹³ A `function` deve ser uma função de teste que retorna um valor booleano.⁵"
      ],
      "metadata": {
        "id": "v3P7QzW0Kzoa"
      }
    },
    {
      "cell_type": "code",
      "source": [
        "# Sintaxe básica de filter()\n",
        "numeros = [-2, -1, 0, 1, 2, 3, 4]\n",
        "\n",
        "# 1. Usando uma função definida\n",
        "def eh_positivo(n):\n",
        "    return n > 0\n",
        "\n",
        "filter_objeto_func = filter(eh_positivo, numeros)\n",
        "print(f\"\\nTipo do objeto retornado por filter(): {type(filter_objeto_func)}\") # Saída: <class 'filter'>\n",
        "# Convertendo para lista para ver os resultados\n",
        "lista_positivos_func = list(filter_objeto_func)\n",
        "print(f\"Números positivos (usando função definida): {lista_positivos_func}\") # Saída: [1, 2, 3, 4]\n",
        "\n",
        "# 2. Usando uma função lambda\n",
        "filter_objeto_lambda = filter(lambda x: x > 0, numeros)\n",
        "lista_positivos_lambda = list(filter_objeto_lambda)\n",
        "print(f\"Números positivos (usando lambda): {lista_positivos_lambda}\") # Saída: [1, 2, 3, 4]\n",
        "\n",
        "# Caso especial: filter(None, iterable) remove itens \"falsy\" (False, None, 0, \"\", [], {}, etc.)\n",
        "lista_misturada = [0, 1, \"\", \"Olá\", None, [1], [], False, True]\n",
        "filter_none = filter(None, lista_misturada)\n",
        "print(f\"Filtrando valores 'falsy' com filter(None, ...): {list(filter_none)}\")\n",
        "# Saída: [1, 'Olá', [1], True]"
      ],
      "outputs": [
        {
          "output_type": "stream",
          "name": "stdout",
          "text": [
            "\n",
            "Tipo do objeto retornado por filter(): <class 'filter'>\n",
            "Números positivos (usando função definida): [1, 2, 3, 4]\n",
            "Números positivos (usando lambda): [1, 2, 3, 4]\n",
            "Filtrando valores 'falsy' com filter(None, ...): [1, 'Olá', [1], True]\n"
          ]
        }
      ],
      "execution_count": 6,
      "metadata": {
        "id": "Fmp8YZ03Kzoa",
        "colab": {
          "base_uri": "https://localhost:8080/"
        },
        "outputId": "4f84bfd8-b01e-43a1-af8f-72be0f0a666b"
      }
    },
    {
      "cell_type": "markdown",
      "source": [
        "Em Python 3, `filter()` retorna um objeto `filter` (um iterador).⁵ É necessária conversão explícita (`list()`, `tuple()`, `set()`) para obter a coleção filtrada.¹⁵\n",
        "\n",
        "`filter()` é ideal para selecionar subconjuntos com base em critérios.¹⁶ Condições complexas podem ser criadas na função de teste usando `and`, `or`, `not`.¹⁶"
      ],
      "metadata": {
        "id": "fLG6CY_BKzob"
      }
    },
    {
      "cell_type": "code",
      "source": [
        "# Exemplo complexo: Filtrar dicionários com múltiplas condições\n",
        "alunos = [\n",
        "    {'nome': 'Ana', 'nota': 8, 'faltas': 2},\n",
        "    {'nome': 'Bia', 'nota': 6, 'faltas': 5},\n",
        "    {'nome': 'Carlos', 'nota': 9, 'faltas': 1},\n",
        "    {'nome': 'Daniel', 'nota': 7, 'faltas': 3},\n",
        "    {'nome': 'Elisa', 'nota': 5, 'faltas': 0},\n",
        "]\n",
        "\n",
        "# Filtrar alunos aprovados (nota >= 7) E com poucas faltas (< 3)\n",
        "def criterio_aprovacao(aluno):\n",
        "    nota_suficiente = aluno['nota'] >= 7\n",
        "    poucas_faltas = aluno['faltas'] < 3\n",
        "    return nota_suficiente and poucas_faltas\n",
        "\n",
        "alunos_aprovados_filter = filter(criterio_aprovacao, alunos)\n",
        "\n",
        "print(\"\\nAlunos aprovados e com poucas faltas (filter com múltiplas condições):\")\n",
        "print(list(alunos_aprovados_filter))\n",
        "# Saída: [{'nome': 'Ana', 'nota': 8, 'faltas': 2}, {'nome': 'Carlos', 'nota': 9, 'faltas': 1}]"
      ],
      "outputs": [
        {
          "output_type": "stream",
          "name": "stdout",
          "text": [
            "\n",
            "Alunos aprovados e com poucas faltas (filter com múltiplas condições):\n",
            "[{'nome': 'Ana', 'nota': 8, 'faltas': 2}, {'nome': 'Carlos', 'nota': 9, 'faltas': 1}]\n"
          ]
        }
      ],
      "execution_count": 7,
      "metadata": {
        "id": "LltwWouTKzob",
        "colab": {
          "base_uri": "https://localhost:8080/"
        },
        "outputId": "cf52aa63-1ff0-4d4e-cec5-82c5799e541e"
      }
    },
    {
      "cell_type": "markdown",
      "source": [
        "**4. Análise Detalhada da Função `reduce()`**\n",
        "\n",
        "A função `reduce()` (do módulo `functools`) aplica uma função de dois argumentos cumulativamente aos itens de um iterável, reduzindo-o a um único valor.⁵ Requer importação: `from functools import reduce`.⁵ Sintaxe: `reduce(function, iterable[, initializer])`.¹⁹ A `function` recebe `(acumulador, elemento_atual)`. O `initializer` opcional é o valor inicial do acumulador.¹⁹"
      ],
      "metadata": {
        "id": "yC18IZppKzoc"
      }
    },
    {
      "cell_type": "code",
      "source": [
        "# Import necessário\n",
        "from functools import reduce\n",
        "\n",
        "# Sintaxe básica de reduce() (calculando soma)\n",
        "numeros = [1, 2, 3, 4, 5]\n",
        "\n",
        "# 1. Usando uma função definida\n",
        "def somar(acumulador, item):\n",
        "    print(f\"  Acumulador: {acumulador}, Item: {item} -> Soma: {acumulador + item}\")\n",
        "    return acumulador + item\n",
        "\n",
        "print(\"\\nCalculando soma com reduce() e função definida:\")\n",
        "soma_total_func = reduce(somar, numeros)\n",
        "print(f\"Soma total (função definida): {soma_total_func}\") # Saída: 15\n",
        "\n",
        "# 2. Usando uma função lambda\n",
        "print(\"\\nCalculando produto com reduce() e lambda:\")\n",
        "produto_total_lambda = reduce(lambda acc, x: acc * x, numeros)\n",
        "print(f\"Produto total (lambda): {produto_total_lambda}\") # Saída: 120"
      ],
      "outputs": [
        {
          "output_type": "stream",
          "name": "stdout",
          "text": [
            "\n",
            "Calculando soma com reduce() e função definida:\n",
            "  Acumulador: 1, Item: 2 -> Soma: 3\n",
            "  Acumulador: 3, Item: 3 -> Soma: 6\n",
            "  Acumulador: 6, Item: 4 -> Soma: 10\n",
            "  Acumulador: 10, Item: 5 -> Soma: 15\n",
            "Soma total (função definida): 15\n",
            "\n",
            "Calculando produto com reduce() e lambda:\n",
            "Produto total (lambda): 120\n"
          ]
        }
      ],
      "execution_count": 8,
      "metadata": {
        "id": "hkY2qcgrKzoc",
        "colab": {
          "base_uri": "https://localhost:8080/"
        },
        "outputId": "3c25d5d7-d975-410c-f4ef-e48e206a8718"
      }
    },
    {
      "cell_type": "markdown",
      "source": [
        "O `initializer` opcional define o valor inicial do acumulador.¹⁹ É útil com iteráveis vazios.²⁰"
      ],
      "metadata": {
        "id": "Vd3g9IaWKzoc"
      }
    },
    {
      "cell_type": "code",
      "source": [
        "# reduce() com initializer\n",
        "numeros = [1, 2, 3]\n",
        "valor_inicial = 100\n",
        "\n",
        "# Soma começando de 100\n",
        "soma_com_init = reduce(lambda acc, x: acc + x, numeros, valor_inicial)\n",
        "print(f\"\\nSoma com inicializador {valor_inicial}: {soma_com_init}\") # Saída: 106 (100+1+2+3)\n",
        "\n",
        "# Com lista vazia e inicializador\n",
        "lista_vazia = []\n",
        "soma_vazia_com_init = reduce(lambda acc, x: acc + x, lista_vazia, 1000)\n",
        "print(f\"Reduce em lista vazia com inicializador: {soma_vazia_com_init}\") # Saída: 1000\n",
        "\n",
        "# Com lista vazia SEM inicializador (gera TypeError)\n",
        "try:\n",
        "    reduce(lambda acc, x: acc + x, lista_vazia)\n",
        "except TypeError as e:\n",
        "    print(f\"Erro ao usar reduce em lista vazia sem inicializador: {e}\")"
      ],
      "outputs": [
        {
          "output_type": "stream",
          "name": "stdout",
          "text": [
            "\n",
            "Soma com inicializador 100: 106\n",
            "Reduce em lista vazia com inicializador: 1000\n",
            "Erro ao usar reduce em lista vazia sem inicializador: reduce() of empty iterable with no initial value\n"
          ]
        }
      ],
      "execution_count": 9,
      "metadata": {
        "id": "aW3FW8p0Kzod",
        "colab": {
          "base_uri": "https://localhost:8080/"
        },
        "outputId": "ea5d69e0-adca-4186-af47-1f12aee75744"
      }
    },
    {
      "cell_type": "markdown",
      "source": [
        "`reduce()` pode substituir loops para certas agregações,²² mas loops podem ser mais legíveis para lógica complexa.²² Funções como `sum()` são preferíveis para somas.²¹"
      ],
      "metadata": {
        "id": "ZOQ3wreLKzod"
      }
    },
    {
      "cell_type": "code",
      "source": [
        "# Comparação: reduce vs loop vs sum() para soma\n",
        "numeros = [1, 2, 3, 4, 5]\n",
        "\n",
        "# Com reduce\n",
        "soma_r = reduce(lambda a, b: a + b, numeros)\n",
        "\n",
        "# Com loop for\n",
        "soma_l = 0\n",
        "for n in numeros:\n",
        "    soma_l += n\n",
        "\n",
        "# Com sum()\n",
        "soma_s = sum(numeros)\n",
        "\n",
        "print(f\"\\nComparação de Soma: Reduce={soma_r}, Loop={soma_l}, sum()={soma_s}\")\n",
        "# Saída: Comparação de Soma: Reduce=15, Loop=15, sum()=15"
      ],
      "outputs": [
        {
          "output_type": "stream",
          "name": "stdout",
          "text": [
            "\n",
            "Comparação de Soma: Reduce=15, Loop=15, sum()=15\n"
          ]
        }
      ],
      "execution_count": 10,
      "metadata": {
        "id": "rbFS1rJjKzod",
        "colab": {
          "base_uri": "https://localhost:8080/"
        },
        "outputId": "097fbce7-f1a0-401b-91e2-9e0637260d2c"
      }
    },
    {
      "cell_type": "markdown",
      "source": [
        "`reduce()` pode ser usado para tarefas mais complexas, como \"achatar\" (flatten) uma lista de listas.¹²"
      ],
      "metadata": {
        "id": "syx5pJrwKzoe"
      }
    },
    {
      "cell_type": "code",
      "source": [
        "# Exemplo complexo: Achatar lista de listas com reduce()\n",
        "lista_de_listas = [[1, 2], [3, 4, 5], [], [6]]\n",
        "\n",
        "# A função lambda concatena a lista acumulada com a sublista atual\n",
        "lista_achatada_reduce = reduce(lambda acumulador, sublista: acumulador + sublista, lista_de_listas, []) # [] é o inicializador (lista vazia)\n",
        "\n",
        "print(f\"\\nLista de listas original: {lista_de_listas}\")\n",
        "print(f\"Lista achatada com reduce: {lista_achatada_reduce}\") # Saída: [1, 2, 3, 4, 5, 6]"
      ],
      "outputs": [
        {
          "output_type": "stream",
          "name": "stdout",
          "text": [
            "\n",
            "Lista de listas original: [[1, 2], [3, 4, 5], [], [6]]\n",
            "Lista achatada com reduce: [1, 2, 3, 4, 5, 6]\n"
          ]
        }
      ],
      "execution_count": 11,
      "metadata": {
        "id": "GspMh8YyKzoe",
        "colab": {
          "base_uri": "https://localhost:8080/"
        },
        "outputId": "bedf46c0-f775-43e6-a077-3122c32a70bd"
      }
    },
    {
      "cell_type": "markdown",
      "source": [
        "**5. Comparação e Contraste entre `map()`, `filter()` e `reduce()`**\n",
        "\n",
        "Todas são funções de ordem superior¹ operando sobre iteráveis.⁵ `map()` e `filter()` retornam iteradores (lazy);⁵ `reduce()` retorna um valor único.⁵\n",
        "\n",
        "* **Propósito:**\n",
        "    * `map()`: **Transformar** cada elemento.⁵\n",
        "    * `filter()`: **Selecionar** elementos baseados em condição.⁵\n",
        "    * `reduce()`: **Agregar/reduzir** elementos a um único valor.⁵\n",
        "* **Função de Entrada:**\n",
        "    * `map()`: 1 argumento por iterável.⁵\n",
        "    * `filter()`: 1 argumento, retorna booleano.⁵\n",
        "    * `reduce()`: 2 argumentos (acumulador, item).⁵\n",
        "* **Importação:** `map()`, `filter()` são built-in. `reduce()` requer `from functools import reduce`.⁵\n",
        "\n",
        "A tabela resume:\n",
        "\n",
        "| Característica   | `map()`                             | `filter()`                          | `reduce()`                              |\n",
        "| :--------------- | :---------------------------------- | :---------------------------------- | :-------------------------------------- |\n",
        "| **Propósito** | Transformar elementos               | Selecionar elementos                | Aggregar elementos                      |\n",
        "| **Função** | Um argumento por iterável           | Um argumento (retorna booleano)     | Dois argumentos (acumulador, item)      |\n",
        "| **Retorno (Py3)**| Objeto `map` (iterador)             | Objeto `filter` (iterador)          | Valor único                             |\n",
        "| **Importação** | Não necessária                      | Não necessária                      | `from functools import reduce`          |\n",
        "| **Uso Principal**| Aplicar operação a cada item        | Escolher itens (condição)           | Combinar itens em um único resultado    |\n",
        "\n",
        "**6. Vantagens e Desvantagens do Uso de `map()`, `reduce()` e `filter()`**\n",
        "\n",
        "**Vantagens:**\n",
        "* **Conciso:** Pode ser mais curto que loops para operações simples.⁵\n",
        "* **Legibilidade:** Claro para operações diretas.⁵\n",
        "* **Estilo Funcional:** Promove código sem efeitos colaterais.\n",
        "* **Eficiência de Memória (map/filter):** Iteradores são lazy (Python 3).⁵\n",
        "\n",
        "**Desvantagens:**\n",
        "* **Legibilidade (Complexidade):** Pode diminuir com lógica complexa ou lambdas aninhadas.⁶\n",
        "* **Intuitividade (`reduce()`):** Pode ser menos intuitivo que loops para alguns.⁶\n",
        "* **Alternativas Pythonicas:** List/generator comprehensions são muitas vezes preferíveis para `map`/`filter` pela legibilidade.²⁵ Funções como `sum()` são melhores para agregações comuns.²¹\n",
        "\n",
        "**Comparação com List Comprehensions:**\n",
        "Comprehensions são geralmente consideradas mais legíveis e flexíveis para tarefas que combinam mapeamento e filtragem.²⁵"
      ],
      "metadata": {
        "id": "5RFxIzshKzof"
      }
    },
    {
      "cell_type": "code",
      "source": [
        "# Comparação: map/filter vs List Comprehension\n",
        "numeros = range(10)\n",
        "\n",
        "# Tarefa: Obter o quadrado dos números pares\n",
        "\n",
        "# Usando map e filter\n",
        "pares = filter(lambda x: x % 2 == 0, numeros)\n",
        "quadrados_map_filter = map(lambda x: x * x, pares)\n",
        "resultado_mf = list(quadrados_map_filter)\n",
        "print(f\"\\nResultado com map/filter: {resultado_mf}\") # Saída: [0, 4, 16, 36, 64]\n",
        "\n",
        "# Usando List Comprehension (mais conciso e legível)\n",
        "quadrados_comp = [x * x for x in numeros if x % 2 == 0]\n",
        "print(f\"Resultado com List Comprehension: {quadrados_comp}\") # Saída: [0, 4, 16, 36, 64]"
      ],
      "outputs": [
        {
          "output_type": "stream",
          "name": "stdout",
          "text": [
            "\n",
            "Resultado com map/filter: [0, 4, 16, 36, 64]\n",
            "Resultado com List Comprehension: [0, 4, 16, 36, 64]\n"
          ]
        }
      ],
      "execution_count": 12,
      "metadata": {
        "id": "DeJOlKRkKzof",
        "colab": {
          "base_uri": "https://localhost:8080/"
        },
        "outputId": "0bb268b6-3210-4e30-cd91-dc490bc232ef"
      }
    },
    {
      "cell_type": "markdown",
      "source": [
        "**Comparação com Loops `for`:**\n",
        "Funções funcionais evitam gerenciamento explícito de acumuladores/listas resultado. Loops `for` são mais flexíveis para lógica complexa dentro da iteração.⁵ A escolha depende da clareza para o problema específico.²⁶\n",
        "\n",
        "**7. Conclusão**\n",
        "\n",
        "As funções `map()`, `reduce()` e `filter()` são ferramentas funcionais poderosas em Python para processar iteráveis. `map()` transforma, `filter()` seleciona e `reduce()` agrega. A escolha entre elas e alternativas como list comprehensions ou loops `for` depende da clareza, desempenho e complexidade da tarefa. Comprehensions são frequentemente preferidas para mapeamentos e filtros combinados. Funções built-in como `sum()` são melhores para agregações comuns. Dominar estas funções enriquece o arsenal do programador Python, permitindo soluções elegantes e eficientes em certos contextos, mas sempre priorizando a legibilidade do código."
      ],
      "metadata": {
        "id": "rJ2LL5SmKzog"
      }
    }
  ],
  "metadata": {
    "colab": {
      "provenance": []
    },
    "kernelspec": {
      "display_name": "Python 3",
      "name": "python3"
    }
  },
  "nbformat": 4,
  "nbformat_minor": 0
}