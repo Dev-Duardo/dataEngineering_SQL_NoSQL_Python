{
  "cells": [
    {
      "cell_type": "markdown",
      "source": [
        "---\n",
        "\n",
        "**Estudo Detalhado sobre Funções em Python**\n",
        "\n",
        "**1. Introdução**\n",
        "\n",
        "Na vasta tapeçaria da programação, as funções emergem como blocos de construção fundamentais, servindo como pilares para a criação de código organizado, eficiente e reutilizável. Elas encapsulam lógica específica, permitindo aos programadores decompor problemas complexos em unidades menores e mais gerenciáveis. No contexto da linguagem Python, as funções definidas pelo usuário, introduzidas pela palavra-chave `def`, desempenham um papel crucial na estruturação de programas, promovendo a modularidade e facilitando a manutenção do código.¹ Este estudo tem como objetivo fornecer uma análise profunda e detalhada das funções em Python, abordando desde sua definição e sintaxe até conceitos mais avançados como escopo de variáveis, funções de ordem superior e anotações de tipo. O escopo deste relatório abrange todos os tópicos especificados, com ênfase em explicações detalhadas e exemplos práticos que ilustram as diversas maneiras de utilizar as funcionalidades das funções definidas pelo usuário em Python. Em consonância com os requisitos estabelecidos, este estudo se esforça para oferecer profundidade, clareza, precisão e uma rica variedade de exemplos de código, detalhando minuciosamente os múltiplos modos de emprego das funções em Python.\n",
        "\n",
        "**2. Definição e Sintaxe de Funções Definidas pelo Usuário**\n",
        "\n",
        "No cerne da programação modular reside o conceito de funções, que podem ser concebidas como blocos de código organizados e reutilizáveis, projetados para executar tarefas específicas dentro de um programa.¹ Em diversas linguagens de programação, conceitos análogos podem ser encontrados sob as denominações de métodos, sub-rotinas ou procedimentos.¹ A utilização de funções em Python é fundamental para a **modularização** do código, um processo que envolve a divisão de um programa em módulos ou componentes independentes, cada um responsável por uma parte da funcionalidade geral.² Essa abordagem não apenas simplifica a estrutura do código, mas também promove a **reutilização** de blocos de código, evitando a redundância e facilitando a manutenção e a escalabilidade de projetos de software. A reutilização de código através de funções é um princípio fundamental que contribui significativamente para a eficiência e a clareza do desenvolvimento de software. Ao invés de repetir o mesmo bloco de código em diferentes partes de um programa, define-se uma função uma única vez e a invoca-se conforme a necessidade. Essa prática não só economiza tempo e esforço, mas também torna o código mais fácil de ler, entender e modificar, uma vez que as alterações necessárias podem ser centralizadas em um único ponto.²\n",
        "\n",
        "Em Python, a declaração de uma função definida pelo usuário inicia-se com a palavra-chave `def`, seguida pelo nome da função e por parênteses `()` que podem conter parâmetros opcionais.¹ O nome da função deve ser único dentro do seu escopo e seguir as convenções de nomenclatura (geralmente `snake_case`).¹ Os parênteses são utilizados para definir os parâmetros que a função pode receber como entrada.¹ Após o cabeçalho da função, marcado por dois pontos `:`, segue-se um bloco de código **indentado**. Essa indentação é um elemento sintático crucial em Python, pois define o corpo da função.¹,²"
      ],
      "metadata": {
        "id": "-13upLfGIGNn"
      }
    },
    {
      "cell_type": "code",
      "source": [
        "# Exemplo básico de definição e chamada de função\n",
        "def saudacao():\n",
        "    \"\"\"Esta função imprime uma saudação simples.\"\"\" # Docstring explicando a função\n",
        "    nome = \"Mundo\"\n",
        "    print(f\"Olá, {nome}!\") # Corpo da função (indentado)\n",
        "\n",
        "# Chamando (invocando) a função\n",
        "print(\"Chamando a função saudacao:\")\n",
        "saudacao()\n",
        "# Saída: Olá, Mundo!"
      ],
      "outputs": [
        {
          "output_type": "stream",
          "name": "stdout",
          "text": [
            "Chamando a função saudacao:\n",
            "Olá, Mundo!\n"
          ]
        }
      ],
      "execution_count": 8,
      "metadata": {
        "id": "cDUKAA-oIGNt",
        "colab": {
          "base_uri": "https://localhost:8080/"
        },
        "outputId": "d50856b8-0a2b-4de2-8448-cf5d3b097f7d"
      }
    },
    {
      "cell_type": "markdown",
      "source": [
        "A importância das funções transcende a mera organização. Elas permitem **abstração**, simplificam o desenvolvimento, promovem reutilização, melhoram a clareza, facilitam **teste e depuração**, e possibilitam a **divisão de problemas** complexos.¹,²\n",
        "\n",
        "**3. Definindo Funções com Parâmetros e Retorno de Valores**\n",
        "\n",
        "Funções ganham flexibilidade ao receber informações (via **parâmetros**) e produzir resultados (via **retorno de valores**). Parâmetros são variáveis na definição da função.¹ Podem ser obrigatórios ou opcionais (com valores padrão).²,⁶\n",
        "\n",
        "* **Valores Padrão:** Definidos com `=` na assinatura. Tornam o parâmetro opcional.⁴,⁶"
      ],
      "metadata": {
        "id": "0KqlSQ2SIGNv"
      }
    },
    {
      "cell_type": "code",
      "source": [
        "# Exemplo com parâmetro obrigatório e opcional (com valor padrão)\n",
        "def cumprimentar_pessoa(nome, saudacao=\"Oi\"): # 'saudacao' é opcional\n",
        "    \"\"\"Cumprimenta uma pessoa com uma saudação específica.\"\"\"\n",
        "    print(f\"{saudacao}, {nome}!\")\n",
        "\n",
        "print(\"\\nChamando função com valor padrão:\")\n",
        "cumprimentar_pessoa(\"Ana\") # Usa o padrão \"Oi\"\n",
        "# Saída: Oi, Ana!\n",
        "\n",
        "print(\"\\nChamando função fornecendo o argumento opcional:\")\n",
        "cumprimentar_pessoa(\"Carlos\", \"Bom dia\") # Fornece \"Bom dia\" para saudacao\n",
        "# Saída: Bom dia, Carlos!"
      ],
      "outputs": [
        {
          "output_type": "stream",
          "name": "stdout",
          "text": [
            "\n",
            "Chamando função com valor padrão:\n",
            "Oi, Ana!\n",
            "\n",
            "Chamando função fornecendo o argumento opcional:\n",
            "Bom dia, Carlos!\n"
          ]
        }
      ],
      "execution_count": 9,
      "metadata": {
        "id": "MREPgZi7IGNw",
        "colab": {
          "base_uri": "https://localhost:8080/"
        },
        "outputId": "b04f0826-3bb6-42a4-c638-a7ecba716c2c"
      }
    },
    {
      "cell_type": "markdown",
      "source": [
        "* **Número Variável de Argumentos:**\n",
        "    * `*args`: Coleta argumentos posicionais extras em uma **tupla**.⁴,¹⁷"
      ],
      "metadata": {
        "id": "Nauk9KifIGNy"
      }
    },
    {
      "cell_type": "code",
      "source": [
        "# Exemplo com *args para múltiplos argumentos posicionais\n",
        "def calcular_media(*numeros):\n",
        "    \"\"\"Calcula a média de um número variável de argumentos.\"\"\"\n",
        "    if not numeros: # Verifica se a tupla 'numeros' está vazia\n",
        "        return 0\n",
        "    print(f\"  Recebido em *args: {numeros}\") # Mostra a tupla recebida\n",
        "    return sum(numeros) / len(numeros)\n",
        "\n",
        "media1 = calcular_media(10, 20)\n",
        "media2 = calcular_media(1, 2, 3, 4, 5)\n",
        "media3 = calcular_media()\n",
        "\n",
        "print(f\"\\nMédia de (10, 20): {media1}\") # Saída: 15.0\n",
        "print(f\"Média de (1, 2, 3, 4, 5): {media2}\") # Saída: 3.0\n",
        "print(f\"Média sem argumentos: {media3}\") # Saída: 0"
      ],
      "outputs": [
        {
          "output_type": "stream",
          "name": "stdout",
          "text": [
            "  Recebido em *args: (10, 20)\n",
            "  Recebido em *args: (1, 2, 3, 4, 5)\n",
            "\n",
            "Média de (10, 20): 15.0\n",
            "Média de (1, 2, 3, 4, 5): 3.0\n",
            "Média sem argumentos: 0\n"
          ]
        }
      ],
      "execution_count": 10,
      "metadata": {
        "id": "pNotbepDIGNz",
        "colab": {
          "base_uri": "https://localhost:8080/"
        },
        "outputId": "39934b9f-9cc7-46ad-b458-07d0b02fd6cf"
      }
    },
    {
      "cell_type": "markdown",
      "source": [
        "* `**kwargs`: Coleta argumentos nomeados extras em um **dicionário**.⁴,¹⁷"
      ],
      "metadata": {
        "id": "eaQZ6EivIGNz"
      }
    },
    {
      "cell_type": "code",
      "source": [
        "# Exemplo com **kwargs para múltiplos argumentos nomeados\n",
        "def montar_perfil(nome_obrigatorio, **informacoes_adicionais):\n",
        "    \"\"\"Monta um perfil com nome obrigatório e informações adicionais.\"\"\"\n",
        "    perfil = {'nome': nome_obrigatorio}\n",
        "    print(f\"  Recebido em **kwargs: {informacoes_adicionais}\") # Mostra o dicionário\n",
        "    perfil.update(informacoes_adicionais) # Adiciona kwargs ao perfil\n",
        "    return perfil\n",
        "\n",
        "perfil1 = montar_perfil(\"Bia\")\n",
        "perfil2 = montar_perfil(\"Leo\", idade=40, cidade=\"Porto Alegre\")\n",
        "perfil3 = montar_perfil(\"Gina\", profissao=\"Designer\", hobbies=[\"Leitura\", \"Fotografia\"])\n",
        "\n",
        "print(f\"\\nPerfil 1: {perfil1}\")\n",
        "# Saída: {'nome': 'Bia'}\n",
        "print(f\"Perfil 2: {perfil2}\")\n",
        "# Saída: {'nome': 'Leo', 'idade': 40, 'cidade': 'Porto Alegre'}\n",
        "print(f\"Perfil 3: {perfil3}\")\n",
        "# Saída: {'nome': 'Gina', 'profissao': 'Designer', 'hobbies': ['Leitura', 'Fotografia']}\n",
        "\n",
        "# Combinando tudo:\n",
        "def funcao_completa(arg_posicional, *args, arg_default=\"padrão\", **kwargs):\n",
        "      print(f\"Posicional: {arg_posicional}\")\n",
        "      print(f\"*args: {args}\")\n",
        "      print(f\"Default: {arg_default}\")\n",
        "      print(f\"**kwargs: {kwargs}\")\n",
        "\n",
        "print(\"\\nFunção com todos os tipos de argumentos:\")\n",
        "funcao_completa(10, 20, 30, nome=\"Teste\", valor=100)\n",
        "# Saída:\n",
        "# Posicional: 10\n",
        "# *args: (20, 30)\n",
        "# Default: padrão\n",
        "# **kwargs: {'nome': 'Teste', 'valor': 100}\n",
        "funcao_completa(5, arg_default=\"mudou\", status=True)\n",
        "# Saída:\n",
        "# Posicional: 5\n",
        "# *args: ()\n",
        "# Default: mudou\n",
        "# **kwargs: {'status': True}"
      ],
      "outputs": [
        {
          "output_type": "stream",
          "name": "stdout",
          "text": [
            "  Recebido em **kwargs: {}\n",
            "  Recebido em **kwargs: {'idade': 40, 'cidade': 'Porto Alegre'}\n",
            "  Recebido em **kwargs: {'profissao': 'Designer', 'hobbies': ['Leitura', 'Fotografia']}\n",
            "\n",
            "Perfil 1: {'nome': 'Bia'}\n",
            "Perfil 2: {'nome': 'Leo', 'idade': 40, 'cidade': 'Porto Alegre'}\n",
            "Perfil 3: {'nome': 'Gina', 'profissao': 'Designer', 'hobbies': ['Leitura', 'Fotografia']}\n",
            "\n",
            "Função com todos os tipos de argumentos:\n",
            "Posicional: 10\n",
            "*args: (20, 30)\n",
            "Default: padrão\n",
            "**kwargs: {'nome': 'Teste', 'valor': 100}\n",
            "Posicional: 5\n",
            "*args: ()\n",
            "Default: mudou\n",
            "**kwargs: {'status': True}\n"
          ]
        }
      ],
      "execution_count": 11,
      "metadata": {
        "id": "BKThXVCCIGN0",
        "colab": {
          "base_uri": "https://localhost:8080/"
        },
        "outputId": "1351c799-4ba0-4e41-a458-12cacbf213bd"
      }
    },
    {
      "cell_type": "markdown",
      "source": [
        "* **Retorno de Valores (`return`):** Comunica um resultado de volta. Pode retornar qualquer tipo. Múltiplos valores são retornados como uma tupla.² Funções sem `return` explícito ou `return` sem valor retornam `None`.² A instrução `return` encerra a execução da função."
      ],
      "metadata": {
        "id": "5Z9wuvTAIGN1"
      }
    },
    {
      "cell_type": "code",
      "source": [
        "# Exemplo com retorno de valor único\n",
        "def somar(a, b):\n",
        "    \"\"\"Retorna a soma de dois números.\"\"\"\n",
        "    return a + b\n",
        "\n",
        "resultado_soma = somar(5, 3)\n",
        "print(f\"\\nResultado da soma: {resultado_soma}\") # Saída: 8\n",
        "\n",
        "# Exemplo com retorno de múltiplos valores (como tupla)\n",
        "def obter_coordenadas():\n",
        "    \"\"\"Retorna coordenadas X e Y.\"\"\"\n",
        "    x = 10\n",
        "    y = 20\n",
        "    return x, y # Retorna a tupla (10, 20)\n",
        "\n",
        "coords = obter_coordenadas()\n",
        "print(f\"Coordenadas retornadas (tupla): {coords}\") # Saída: (10, 20)\n",
        "# Desempacotando o retorno\n",
        "x_val, y_val = obter_coordenadas()\n",
        "print(f\"Valor de X: {x_val}, Valor de Y: {y_val}\") # Saída: Valor de X: 10, Valor de Y: 20\n",
        "\n",
        "# Exemplo de função sem retorno explícito (retorna None)\n",
        "def imprimir_mensagem(msg):\n",
        "    \"\"\"Imprime uma mensagem, não retorna valor.\"\"\"\n",
        "    print(f\"Mensagem: {msg}\")\n",
        "\n",
        "retorno = imprimir_mensagem(\"Teste\")\n",
        "print(f\"Valor retornado pela função imprimir_mensagem: {retorno}\") # Saída: None"
      ],
      "outputs": [
        {
          "output_type": "stream",
          "name": "stdout",
          "text": [
            "\n",
            "Resultado da soma: 8\n",
            "Coordenadas retornadas (tupla): (10, 20)\n",
            "Valor de X: 10, Valor de Y: 20\n",
            "Mensagem: Teste\n",
            "Valor retornado pela função imprimir_mensagem: None\n"
          ]
        }
      ],
      "execution_count": 12,
      "metadata": {
        "id": "8h8AoMd_IGN2",
        "colab": {
          "base_uri": "https://localhost:8080/"
        },
        "outputId": "9d991e2e-1619-4eaf-b615-2e17dd726274"
      }
    },
    {
      "cell_type": "markdown",
      "source": [
        "**4. Parâmetros e Argumentos em Detalhe**\n",
        "\n",
        "* **Parâmetros:** Variáveis na *definição* da função (placeholders).\n",
        "* **Argumentos:** Valores *reais* passados na *chamada* da função.\n",
        "\n",
        "Tipos de Argumentos na Chamada:\n",
        "\n",
        "* **Argumentos Posicionais:** Passados na ordem dos parâmetros. A ordem importa.⁶"
      ],
      "metadata": {
        "id": "9ED2iOIsIGN2"
      }
    },
    {
      "cell_type": "code",
      "source": [
        "def exibir_nome(primeiro_nome, ultimo_nome):\n",
        "        \"\"\"Exibe o nome completo.\"\"\"\n",
        "        print(f\"Nome: {primeiro_nome} {ultimo_nome}\")\n",
        "\n",
        "# Chamada com argumentos posicionais\n",
        "exibir_nome(\"João\", \"Silva\")\n",
        "# Saída: Nome: João Silva"
      ],
      "outputs": [
        {
          "output_type": "stream",
          "name": "stdout",
          "text": [
            "Nome: João Silva\n"
          ]
        }
      ],
      "execution_count": 13,
      "metadata": {
        "id": "3hJlmayOIGN3",
        "colab": {
          "base_uri": "https://localhost:8080/"
        },
        "outputId": "1b6e762c-c38e-4a04-f047-640ada7e5954"
      }
    },
    {
      "cell_type": "markdown",
      "source": [
        "* **Argumentos Nomeados (Keyword Arguments):** Passados usando `nome_parametro=valor`. A ordem não importa. Aumentam a legibilidade.⁶"
      ],
      "metadata": {
        "id": "1MqOBXiIIGN3"
      }
    },
    {
      "cell_type": "code",
      "source": [
        "def calcular_volume(largura, altura, profundidade):\n",
        "        \"\"\"Calcula o volume.\"\"\"\n",
        "        print(f\"  Calculando com: L={largura}, A={altura}, P={profundidade}\")\n",
        "        return largura * altura * profundidade\n",
        "\n",
        "# Chamada com argumentos nomeados (fora de ordem)\n",
        "print(\"\\nChamada com argumentos nomeados:\")\n",
        "volume = calcular_volume(altura=10, largura=5, profundidade=2)\n",
        "print(f\"Volume: {volume}\") # Saída: 100\n",
        "\n",
        "# Misturando posicionais e nomeados (posicionais devem vir primeiro)\n",
        "volume_misto = calcular_volume(5, profundidade=2, altura=10)\n",
        "print(f\"Volume (misto): {volume_misto}\") # Saída: 100\n",
        "# volume_erro = calcular_volume(largura=5, 10, profundidade=2) # Erro! Argumento posicional após nomeado"
      ],
      "outputs": [
        {
          "output_type": "stream",
          "name": "stdout",
          "text": [
            "\n",
            "Chamada com argumentos nomeados:\n",
            "  Calculando com: L=5, A=10, P=2\n",
            "Volume: 100\n",
            "  Calculando com: L=5, A=10, P=2\n",
            "Volume (misto): 100\n"
          ]
        }
      ],
      "execution_count": 14,
      "metadata": {
        "id": "DAZn6gvsIGN4",
        "colab": {
          "base_uri": "https://localhost:8080/"
        },
        "outputId": "4d6cd38a-b5a8-4a62-e079-235019cc0a0c"
      }
    },
    {
      "cell_type": "markdown",
      "source": [
        "* **Argumentos Variáveis (`*args` e `**kwargs`):** Já exemplificados na Seção 3. Coletam múltiplos argumentos posicionais (tupla) e nomeados (dicionário), respectivamente.⁴\n",
        "* **Valores Padrão:** Definidos na assinatura (`parametro=valor_padrao`). Tornam o parâmetro opcional.⁴,⁶\n",
        "\n",
        "**5. Escopo de Variáveis em Python**\n",
        "\n",
        "Escopo define onde uma variável é acessível.²⁹ Evita conflitos de nomes.³⁰\n",
        "\n",
        "* **Escopo Local:** Variável definida *dentro* de uma função. Acessível apenas dentro dessa função. Criada na chamada, destruída no retorno.²⁹,³⁰"
      ],
      "metadata": {
        "id": "QI7_T6VSIGN4"
      }
    },
    {
      "cell_type": "code",
      "source": [
        "def minha_funcao_local():\n",
        "        variavel_local_escopo = \"Eu sou local desta função\"\n",
        "        print(f\"  Dentro da função: {variavel_local_escopo}\")\n",
        "\n",
        "print(\"\\nTeste de Escopo Local:\")\n",
        "minha_funcao_local()\n",
        "# print(variavel_local_escopo)  # NameError: name 'variavel_local_escopo' is not defined"
      ],
      "outputs": [
        {
          "output_type": "stream",
          "name": "stdout",
          "text": [
            "\n",
            "Teste de Escopo Local:\n",
            "  Dentro da função: Eu sou local desta função\n"
          ]
        }
      ],
      "execution_count": 15,
      "metadata": {
        "id": "Z6wN8NlQIGN4",
        "colab": {
          "base_uri": "https://localhost:8080/"
        },
        "outputId": "10d6dd54-c976-4846-abb5-1bd004323af8"
      }
    },
    {
      "cell_type": "markdown",
      "source": [
        "* **Escopo Global:** Variável definida *fora* de qualquer função (nível do módulo). Acessível de qualquer lugar. Para *modificar* uma global dentro de uma função, use `global`.¹⁸ Uso excessivo pode dificultar manutenção.³⁰"
      ],
      "metadata": {
        "id": "sseU2JbKIGN4"
      }
    },
    {
      "cell_type": "code",
      "source": [
        "contador_global = 0 # Variável global\n",
        "\n",
        "def incrementar_contador():\n",
        "    # Para modificar a global, precisamos da palavra-chave 'global'\n",
        "    global contador_global\n",
        "    contador_global += 1\n",
        "    print(f\"  Contador dentro da função (modificado): {contador_global}\")\n",
        "\n",
        "def apenas_ler_contador():\n",
        "    # Apenas ler a global não requer a palavra-chave 'global'\n",
        "    print(f\"  Contador dentro da função (leitura): {contador_global}\")\n",
        "\n",
        "print(\"\\nTeste de Escopo Global:\")\n",
        "apenas_ler_contador() # Saída: 0\n",
        "incrementar_contador() # Saída: 1\n",
        "incrementar_contador() # Saída: 2\n",
        "print(f\"Contador fora da função: {contador_global}\") # Saída: 2"
      ],
      "outputs": [
        {
          "output_type": "stream",
          "name": "stdout",
          "text": [
            "\n",
            "Teste de Escopo Global:\n",
            "  Contador dentro da função (leitura): 0\n",
            "  Contador dentro da função (modificado): 1\n",
            "  Contador dentro da função (modificado): 2\n",
            "Contador fora da função: 2\n"
          ]
        }
      ],
      "execution_count": 16,
      "metadata": {
        "id": "TjJ5f6M2IGN5",
        "colab": {
          "base_uri": "https://localhost:8080/"
        },
        "outputId": "c0b0be1b-694b-4b91-8e00-543dce7e3cdc"
      }
    },
    {
      "cell_type": "markdown",
      "source": [
        "* **Regra LEGB:** Ordem de busca de variáveis: **L**ocal -> **E**nclosing (funções aninhadas) -> **G**lobal -> **B**uilt-in.²⁹,³¹,¹⁸\n",
        "    * **Escopo Enclosing e `nonlocal`:** Para funções aninhadas. `nonlocal` permite modificar variável no escopo da função *envolvente* mais próxima (não global).¹⁸"
      ],
      "metadata": {
        "id": "2d4x0laSIGN5"
      }
    },
    {
      "cell_type": "code",
      "source": [
        "# Exemplo com Escopo Enclosing e nonlocal\n",
        "def externa():\n",
        "    x = 10 # Variável no escopo enclosing\n",
        "    print(f\"  Externa (antes): x = {x}\")\n",
        "\n",
        "    def interna():\n",
        "        # Sem 'nonlocal', a linha abaixo criaria uma nova variável local 'x'\n",
        "        # x = 20\n",
        "        # Com 'nonlocal', modificamos o 'x' da função externa\n",
        "        nonlocal x\n",
        "        x = 20\n",
        "        y = 5 # Variável local da interna\n",
        "        print(f\"    Interna: x = {x}, y = {y}\")\n",
        "\n",
        "    interna()\n",
        "    print(f\"  Externa (depois): x = {x}\") # Mostra que 'x' foi modificado pela interna\n",
        "\n",
        "print(\"\\nTeste de Escopo Enclosing e nonlocal:\")\n",
        "externa()"
      ],
      "outputs": [
        {
          "output_type": "stream",
          "name": "stdout",
          "text": [
            "\n",
            "Teste de Escopo Enclosing e nonlocal:\n",
            "  Externa (antes): x = 10\n",
            "    Interna: x = 20, y = 5\n",
            "  Externa (depois): x = 20\n"
          ]
        }
      ],
      "execution_count": 17,
      "metadata": {
        "id": "UrxDwtkoIGN5",
        "colab": {
          "base_uri": "https://localhost:8080/"
        },
        "outputId": "cc9bf964-9cae-4c16-a561-d204de7eb2b8"
      }
    },
    {
      "cell_type": "markdown",
      "source": [
        "* Exemplo completo da regra LEGB:"
      ],
      "metadata": {
        "id": "ot1U21_vIGN6"
      }
    },
    {
      "cell_type": "code",
      "source": [
        "# Exemplo Regra LEGB\n",
        "# B: Built-in (ex: len)\n",
        "# G: Global\n",
        "g_var = \"Global\"\n",
        "\n",
        "def func_enclosing():\n",
        "    # E: Enclosing\n",
        "    e_var = \"Enclosing\"\n",
        "\n",
        "    def func_local():\n",
        "        # L: Local\n",
        "        l_var = \"Local\"\n",
        "        print(f\"    L: {l_var}\")\n",
        "        print(f\"    E: {e_var}\")\n",
        "        print(f\"    G: {g_var}\")\n",
        "        print(f\"    B: {len('teste')}\") # len está no escopo Built-in\n",
        "\n",
        "    print(\"  Chamando func_local:\")\n",
        "    func_local()\n",
        "    print(f\"  Saindo de func_enclosing (e_var={e_var})\")\n",
        "\n",
        "print(\"\\nTeste Completo Regra LEGB:\")\n",
        "print(f\"Antes (g_var={g_var})\")\n",
        "func_enclosing()\n",
        "print(f\"Depois (g_var={g_var})\")"
      ],
      "outputs": [
        {
          "output_type": "stream",
          "name": "stdout",
          "text": [
            "\n",
            "Teste Completo Regra LEGB:\n",
            "Antes (g_var=Global)\n",
            "  Chamando func_local:\n",
            "    L: Local\n",
            "    E: Enclosing\n",
            "    G: Global\n",
            "    B: 5\n",
            "  Saindo de func_enclosing (e_var=Enclosing)\n",
            "Depois (g_var=Global)\n"
          ]
        }
      ],
      "execution_count": 18,
      "metadata": {
        "id": "qcQMZDE9IGN6",
        "colab": {
          "base_uri": "https://localhost:8080/"
        },
        "outputId": "5af35268-933a-46e7-fa39-7712e187860c"
      }
    },
    {
      "cell_type": "markdown",
      "source": [
        "**6. Funções de Ordem Superior em Python**\n",
        "\n",
        "Funções que recebem outras funções como argumentos ou retornam funções como resultado.² Permitem abstração e código flexível.⁴⁵\n",
        "\n",
        "* **Funções Embutidas (`map`, `filter`, `reduce`):**⁴⁹\n",
        "    * `map(funcao, iteravel)`: Aplica `funcao` a cada item, retorna iterador.⁴"
      ],
      "metadata": {
        "id": "Q_8kM72yIGN6"
      }
    },
    {
      "cell_type": "code",
      "source": [
        "# Exemplo map com lambda\n",
        "numeros = [1, 2, 3, 4, 5]\n",
        "quadrados_map = map(lambda n: n * n, numeros)\n",
        "print(f\"\\nmap() com lambda: {list(quadrados_map)}\")  # Saída: [1, 4, 9, 16, 25]"
      ],
      "outputs": [
        {
          "output_type": "stream",
          "name": "stdout",
          "text": [
            "\n",
            "map() com lambda: [1, 4, 9, 16, 25]\n"
          ]
        }
      ],
      "execution_count": 19,
      "metadata": {
        "id": "s21YPH1_IGN7",
        "colab": {
          "base_uri": "https://localhost:8080/"
        },
        "outputId": "cbd98213-56f5-4e87-c613-e1acf7fb7674"
      }
    },
    {
      "cell_type": "markdown",
      "source": [
        "* `filter(funcao, iteravel)`: Retorna iterador com itens onde `funcao` é `True`.⁴⁹"
      ],
      "metadata": {
        "id": "tkhj10GdIGN7"
      }
    },
    {
      "cell_type": "code",
      "source": [
        "# Exemplo filter com lambda\n",
        "numeros = [1, 2, 3, 4, 5, 6]\n",
        "pares_filter = filter(lambda n: n % 2 == 0, numeros)\n",
        "print(f\"filter() com lambda: {list(pares_filter)}\")  # Saída: [2, 4, 6]"
      ],
      "outputs": [
        {
          "output_type": "stream",
          "name": "stdout",
          "text": [
            "filter() com lambda: [2, 4, 6]\n"
          ]
        }
      ],
      "execution_count": 20,
      "metadata": {
        "id": "Zku_xqf9IGN7",
        "colab": {
          "base_uri": "https://localhost:8080/"
        },
        "outputId": "8023e5a0-60c1-4ca6-c675-bfa3ae8756b3"
      }
    },
    {
      "cell_type": "markdown",
      "source": [
        "* `reduce(funcao, iteravel)`: (do `functools`) Aplica `funcao` cumulativamente.⁴"
      ],
      "metadata": {
        "id": "Bhy25TvMIGN8"
      }
    },
    {
      "cell_type": "code",
      "source": [
        "# Exemplo reduce com lambda\n",
        "from functools import reduce\n",
        "numeros = [1, 2, 3, 4, 5]\n",
        "produto_reduce = reduce(lambda x, y: x * y, numeros)\n",
        "print(f\"reduce() com lambda: {produto_reduce}\")  # Saída: 120"
      ],
      "outputs": [
        {
          "output_type": "stream",
          "name": "stdout",
          "text": [
            "reduce() com lambda: 120\n"
          ]
        }
      ],
      "execution_count": 21,
      "metadata": {
        "id": "1mV9xn50IGN8",
        "colab": {
          "base_uri": "https://localhost:8080/"
        },
        "outputId": "a4666ec3-2010-4a48-cf20-23474e879df1"
      }
    },
    {
      "cell_type": "markdown",
      "source": [
        "* **Decoradores (`@decorator`):** Funções que modificam ou envolvem outras funções.⁵¹\n",
        "    * **Decorador Básico:**"
      ],
      "metadata": {
        "id": "jn1p4DarIGN8"
      }
    },
    {
      "cell_type": "code",
      "source": [
        "# Exemplo Básico de Decorador\n",
        "def meu_decorador_simples(func):\n",
        "    def wrapper(*args, **kwargs): # Aceita quaisquer argumentos\n",
        "        print(f\"--- Entrando em {func.__name__} ---\")\n",
        "        resultado = func(*args, **kwargs) # Chama a função original\n",
        "        print(f\"--- Saindo de {func.__name__} ---\")\n",
        "        return resultado\n",
        "    return wrapper\n",
        "\n",
        "@meu_decorador_simples\n",
        "def soma_decorada(a, b):\n",
        "    print(\"  Executando soma...\")\n",
        "    return a + b\n",
        "\n",
        "print(\"\\nChamando função decorada:\")\n",
        "res = soma_decorada(10, 5)\n",
        "print(f\"Resultado da soma decorada: {res}\")"
      ],
      "outputs": [
        {
          "output_type": "stream",
          "name": "stdout",
          "text": [
            "\n",
            "Chamando função decorada:\n",
            "--- Entrando em soma_decorada ---\n",
            "  Executando soma...\n",
            "--- Saindo de soma_decorada ---\n",
            "Resultado da soma decorada: 15\n"
          ]
        }
      ],
      "execution_count": 22,
      "metadata": {
        "id": "cnXzYpxYIGN9",
        "colab": {
          "base_uri": "https://localhost:8080/"
        },
        "outputId": "0d63bd1b-d9f2-4f8e-b3ab-f626d5428e0b"
      }
    },
    {
      "cell_type": "markdown",
      "source": [
        "* **Decorador com Argumentos (Decorator Factory):** Um decorador que aceita argumentos ele próprio, retornando o decorador real."
      ],
      "metadata": {
        "id": "6o3ChVLAIGN9"
      }
    },
    {
      "cell_type": "code",
      "source": [
        "# Exemplo Decorador com Argumentos (Decorator Factory)\n",
        "import time\n",
        "import functools # Para @functools.wraps\n",
        "\n",
        "def repetir(num_vezes): # Decorator Factory - recebe argumentos do decorador\n",
        "    def decorador_repetir(func): # Decorador real - recebe a função\n",
        "        @functools.wraps(func) # Preserva metadados da função original\n",
        "        def wrapper(*args, **kwargs): # Wrapper - recebe argumentos da função\n",
        "            print(f\"  Repetindo {num_vezes} vezes:\")\n",
        "            for i in range(num_vezes):\n",
        "                print(f\"    Execução {i+1}:\")\n",
        "                resultado = func(*args, **kwargs)\n",
        "            return resultado # Retorna o resultado da última execução\n",
        "        return wrapper\n",
        "    return decorador_repetir\n",
        "\n",
        "@repetir(num_vezes=3) # Usa a factory para criar e aplicar o decorador\n",
        "def saudar(nome):\n",
        "    \"\"\"Saúda uma pessoa.\"\"\"\n",
        "    print(f\"    Olá, {nome}!\")\n",
        "\n",
        "print(\"\\nChamando função com decorador com argumentos:\")\n",
        "saudar(\"Mundo\")\n",
        "print(f\"Metadados da função saudada preservados: nome={saudar.__name__}, doc='{saudar.__doc__}'\")"
      ],
      "outputs": [
        {
          "output_type": "stream",
          "name": "stdout",
          "text": [
            "\n",
            "Chamando função com decorador com argumentos:\n",
            "  Repetindo 3 vezes:\n",
            "    Execução 1:\n",
            "    Olá, Mundo!\n",
            "    Execução 2:\n",
            "    Olá, Mundo!\n",
            "    Execução 3:\n",
            "    Olá, Mundo!\n",
            "Metadados da função saudada preservados: nome=saudar, doc='Saúda uma pessoa.'\n"
          ]
        }
      ],
      "execution_count": 23,
      "metadata": {
        "id": "_8QTyqOoIGN9",
        "colab": {
          "base_uri": "https://localhost:8080/"
        },
        "outputId": "b7f9bf7c-d958-45fb-e24b-74df6872a5c9"
      }
    },
    {
      "cell_type": "markdown",
      "source": [
        "* **Múltiplos Decoradores:** Aplicados de baixo para cima."
      ],
      "metadata": {
        "id": "-jt3RkuMIGN-"
      }
    },
    {
      "cell_type": "code",
      "source": [
        "# Exemplo com Múltiplos Decoradores\n",
        "import functools\n",
        "\n",
        "def decorador_negrito(func):\n",
        "    @functools.wraps(func)\n",
        "    def wrapper(*args, **kwargs):\n",
        "        return f\"<b>{func(*args, **kwargs)}</b>\" # Adiciona tag <b>\n",
        "    return wrapper\n",
        "\n",
        "def decorador_italico(func):\n",
        "    @functools.wraps(func)\n",
        "    def wrapper(*args, **kwargs):\n",
        "        return f\"<i>{func(*args, **kwargs)}</i>\" # Adiciona tag <i>\n",
        "    return wrapper\n",
        "\n",
        "# Ordem de aplicação: primeiro italico, depois negrito\n",
        "@decorador_negrito\n",
        "@decorador_italico\n",
        "def texto_formatado(texto):\n",
        "    \"\"\"Retorna o texto original.\"\"\"\n",
        "    return texto\n",
        "\n",
        "print(\"\\nChamando função com múltiplos decoradores:\")\n",
        "resultado_formatado = texto_formatado(\"Python é demais!\")\n",
        "print(resultado_formatado) # Saída: <b><i>Python é demais!</i></b>"
      ],
      "outputs": [
        {
          "output_type": "stream",
          "name": "stdout",
          "text": [
            "\n",
            "Chamando função com múltiplos decoradores:\n",
            "<b><i>Python é demais!</i></b>\n"
          ]
        }
      ],
      "execution_count": 24,
      "metadata": {
        "id": "Aslrx3nHIGN_",
        "colab": {
          "base_uri": "https://localhost:8080/"
        },
        "outputId": "beddd098-ce90-4b18-a765-291703b40147"
      }
    },
    {
      "cell_type": "markdown",
      "source": [
        "**7. Anotações de Tipo (Function Annotations)**\n",
        "\n",
        "Metadados sobre tipos esperados para argumentos e retorno. Sintaxe: `param: tipo`, `-> tipo_retorno`. Ignoradas em tempo de execução, mas úteis para:⁸⁶\n",
        "\n",
        "* **Documentação:** Clarifica a interface da função.\n",
        "* **Verificação de Tipo:** Ferramentas como `mypy` podem usá-las para análise estática.\n",
        "* **Suporte a IDEs:** Melhor autocompletar e detecção de erros."
      ],
      "metadata": {
        "id": "MG5V9PUAIGN_"
      }
    },
    {
      "cell_type": "code",
      "source": [
        "# Exemplo básico de anotações de tipo\n",
        "def cumprimentar_anotado(nome: str, idade: int) -> str:\n",
        "    \"\"\"Cumprimenta com nome e idade, retorna uma string.\"\"\"\n",
        "    return f\"Olá, {nome}! Você tem {idade} anos.\"\n",
        "\n",
        "mensagem_anotada: str = cumprimentar_anotado(\"Carla\", 29)\n",
        "print(f\"\\nFunção com anotações básicas: {mensagem_anotada}\")\n",
        "\n",
        "# Exemplo com tipos mais complexos do módulo 'typing'\n",
        "from typing import List, Dict, Optional, Callable\n",
        "\n",
        "def processar_dados(\n",
        "    valores: List[float],\n",
        "    config: Optional[Dict[str, bool]] = None,  # config é um Dict opcional\n",
        "    callback: Callable[[float], None] = print  # callback é uma função que recebe float e retorna None\n",
        ") -> List[float]:\n",
        "    \"\"\"Processa uma lista de floats com configuração opcional e callback.\"\"\"\n",
        "    resultados_processados: List[float] = []\n",
        "    ativo: bool = config.get('ativo', True) if config else True  # Usa config se não for None\n",
        "\n",
        "    if not ativo:\n",
        "        return []\n",
        "\n",
        "    print(f\"  Processando dados com config: {config}\")\n",
        "    for valor in valores:\n",
        "        resultado = valor * 2  # Exemplo de processamento\n",
        "        resultados_processados.append(resultado)\n",
        "        callback(f\"  - Processado {valor} -> {resultado}\")  # Chama o callback\n",
        "\n",
        "    return resultados_processados\n",
        "\n",
        "# Usando a função com tipos complexos\n",
        "meus_valores: List[float] = [1.0, 2.5, 3.1]\n",
        "minha_config: Dict[str, bool] = {'ativo': True, 'log': False}\n",
        "\n",
        "def meu_log(mensagem: str) -> None:\n",
        "    print(f\"[LOG] {mensagem}\")\n",
        "\n",
        "print(\"\\nFunção com anotações complexas:\")\n",
        "resultados = processar_dados(meus_valores, config=minha_config, callback=meu_log)\n",
        "print(f\"Resultados finais: {resultados}\")\n",
        "\n",
        "# Saída com config None (callback padrão print)\n",
        "resultados_padrao = processar_dados([0.5, 1.5])\n",
        "print(f\"Resultados padrão: {resultados_padrao}\")\n"
      ],
      "outputs": [
        {
          "output_type": "stream",
          "name": "stdout",
          "text": [
            "\n",
            "Função com anotações básicas: Olá, Carla! Você tem 29 anos.\n",
            "\n",
            "Função com anotações complexas:\n",
            "  Processando dados com config: {'ativo': True, 'log': False}\n",
            "[LOG]   - Processado 1.0 -> 2.0\n",
            "[LOG]   - Processado 2.5 -> 5.0\n",
            "[LOG]   - Processado 3.1 -> 6.2\n",
            "Resultados finais: [2.0, 5.0, 6.2]\n",
            "  Processando dados com config: None\n",
            "  - Processado 0.5 -> 1.0\n",
            "  - Processado 1.5 -> 3.0\n",
            "Resultados padrão: [1.0, 3.0]\n"
          ]
        }
      ],
      "execution_count": 25,
      "metadata": {
        "id": "HUROQWUpIGN_",
        "colab": {
          "base_uri": "https://localhost:8080/"
        },
        "outputId": "66b3b0fd-f2e8-4f9a-cf4d-ddba8285712d"
      }
    },
    {
      "cell_type": "markdown",
      "source": [
        "**8. Melhores Práticas para Escrever Funções Definidas pelo Usuário**\n",
        "\n",
        "* **Nomes Descritivos:** Claros, indicando o propósito (verbos para ações). Usar `snake_case`.⁹⁷\n",
        "* **Tamanho Pequeno:** Focar em uma única tarefa bem definida. Decompor funções longas.⁹⁷\n",
        "* **Evitar Efeitos Colaterais:** Preferir entrada por parâmetros e saída por `return`. Se inevitável, documentar claramente.⁹⁷\n",
        "* **Docstrings:** Documentar o propósito, parâmetros, retorno e exceções. Seguir convenções.¹,⁹⁷\n",
        "* **Princípios de Design:**⁹⁷\n",
        "    * **Responsabilidade Única:** Uma função, uma tarefa.\n",
        "    * **Interface Pequena:** Evitar excesso de parâmetros.\n",
        "    * **Consistência:** Manter estilo uniforme.\n",
        "\n",
        "**9. Conclusão**\n",
        "\n",
        "Este estudo detalhado explorou as funções definidas pelo usuário em Python, desde os seus fundamentos até conceitos mais avançados. Abordamos a definição e a sintaxe das funções, a importância dos parâmetros e argumentos, o escopo de variáveis e a regra LEGB, o poder das funções de ordem superior e o uso de anotações de tipo. Além disso, foram discutidas as melhores práticas para escrever funções Python eficazes. As funções são, sem dúvida, um dos pilares da programação em Python, permitindo a criação de código eficiente, legível e altamente reutilizável. Ao dominar os conceitos e as práticas apresentadas neste estudo, os desenvolvedores podem elevar significativamente a qualidade de seus programas Python, construindo soluções mais robustas e fáceis de manter. A adoção dessas diretrizes não só facilita o desenvolvimento individual, mas também promove uma colaboração mais eficaz em projetos de equipe, resultando em software de maior qualidade e com um ciclo de vida mais sustentável."
      ],
      "metadata": {
        "id": "Ga5dHLqyIGOA"
      }
    }
  ],
  "metadata": {
    "colab": {
      "provenance": []
    },
    "kernelspec": {
      "display_name": "Python 3",
      "name": "python3"
    }
  },
  "nbformat": 4,
  "nbformat_minor": 0
}