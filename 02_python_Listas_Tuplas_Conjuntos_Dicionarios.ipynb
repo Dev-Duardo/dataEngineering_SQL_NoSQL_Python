{
  "cells": [
    {
      "cell_type": "markdown",
      "source": [
        "\n",
        "---\n",
        "\n",
        "**Estudo Detalhado sobre Listas, Tuplas, Conjuntos e Dicionários em Python**\n",
        "\n",
        "**1. Introdução às Estruturas de Dados em Python**\n",
        "\n",
        "Na vasta paisagem da programação, as estruturas de dados emergem como os pilares fundamentais sobre os quais a organização e o gerenciamento eficiente de informações são construídos. Elas são essenciais para otimizar o desempenho e aprimorar a legibilidade do código, permitindo que os programadores manipulem os dados de maneira lógica e eficaz.¹ Dentre as diversas linguagens de programação, Python se destaca por oferecer um conjunto rico de estruturas de dados embutidas, cada uma projetada com características distintas e otimizada para casos de uso específicos.²\n",
        "\n",
        "Este estudo se aprofundará nos tipos de sequência e mapeamento fornecidos nativamente pelo Python. Os tipos de sequência, como listas, tuplas e strings, são caracterizados pela manutenção de uma ordem inerente dos elementos, permitindo o acesso e a manipulação com base em sua posição.³ Por outro lado, os tipos de mapeamento, representados principalmente pelos dicionários, empregam uma abordagem diferente, armazenando dados em pares de chave-valor. Essa organização facilita a recuperação eficiente de valores com base em suas chaves associadas.⁹ Adicionalmente, Python oferece conjuntos (sets), que são coleções não ordenadas de elementos únicos. Os conjuntos são particularmente úteis para realizar operações matemáticas de conjuntos, como união, interseção e diferença, bem como para eliminar duplicatas de coleções.¹⁷\n",
        "\n",
        "O escopo deste estudo abrange uma análise exaustiva das listas, tuplas, conjuntos e dicionários em Python. Serão detalhadas suas definições, características intrínsecas, métodos de criação e manipulação, funções comumente associadas e, no caso de listas e tuplas, uma comparação direta para elucidar suas diferenças e os cenários de programação mais adequados para cada uma. O objetivo principal é fornecer um entendimento profundo e detalhado dessas estruturas de dados fundamentais, capacitando os leitores a utilizá-las com proficiência em seus próprios projetos de programação.\n",
        "\n",
        "**2. Listas em Python: Sequências Dinâmicas e Versáteis**\n",
        "\n",
        "As listas em Python representam um dos tipos de dados mais flexíveis e amplamente utilizados na linguagem. Elas são definidas como sequências ordenadas de itens, o que implica que a ordem na qual os elementos são inseridos é mantida e pode ser acessada por meio de sua posição.²⁹ Uma característica fundamental das listas é a sua mutabilidade, o que significa que elas podem ser modificadas após a sua criação. Essa propriedade permite adicionar, remover ou alterar elementos conforme a necessidade, tornando-as ideais para trabalhar com coleções de dados que podem evoluir ao longo do tempo.²⁹ Além disso, as listas em Python são capazes de armazenar duplicatas, permitindo que o mesmo valor apareça múltiplas vezes dentro da mesma lista.²⁹ Sua natureza heterogênea possibilita a inclusão de itens de diferentes tipos de dados — inteiros, strings, números de ponto flutuante e até mesmo outras listas — dentro de uma única estrutura.⁵\n",
        "\n",
        "A combinação dessas características — ordenação e mutabilidade — confere às listas uma versatilidade excepcional para uma ampla gama de tarefas de programação, especialmente aquelas que envolvem o gerenciamento de coleções de itens que podem precisar ser alteradas dinamicamente.²⁹ Essa flexibilidade é crucial em cenários como processamento de dados, onde as coleções podem precisar ser filtradas, classificadas ou modificadas para atender aos requisitos específicos.\n",
        "\n",
        "As listas em Python podem ser criadas de diversas maneiras, cada uma adequada a diferentes situações:\n",
        "\n",
        "* **Literais:** A forma mais direta de criar uma lista é usando colchetes `[]` para envolver uma sequência de elementos separados por vírgulas.³⁰"
      ],
      "metadata": {
        "id": "AqxWC5DO1UlR"
      }
    },
    {
      "cell_type": "code",
      "source": [
        "# Criação com literal\n",
        "    lista_literal = [1, 'hello', 3.14, True, 1] # Contém inteiro, string, float, booleano, inteiro repetido\n",
        "    lista_vazia_literal = []\n",
        "    print(f\"Lista Literal: {lista_literal}\")\n",
        "    print(f\"Lista Vazia Literal: {lista_vazia_literal}\")"
      ],
      "outputs": [],
      "execution_count": null,
      "metadata": {
        "id": "Rtn8_zO71UlY"
      }
    },
    {
      "cell_type": "markdown",
      "source": [
        "* **Construtor `list()`:** Uma lista também pode ser instanciada usando o construtor `list()`. Este construtor pode receber um iterável (como uma tupla, string, range ou outra lista) como argumento.⁵"
      ],
      "metadata": {
        "id": "Z2E6BbH01Ulb"
      }
    },
    {
      "cell_type": "code",
      "source": [
        "# Criação com construtor list()\n",
        "    tupla_exemplo = ('a', 'b', 'c')\n",
        "    lista_da_tupla = list(tupla_exemplo)\n",
        "    print(f\"Lista da Tupla: {lista_da_tupla}\") # Saída: ['a', 'b', 'c']\n",
        "\n",
        "    string_exemplo = \"Python\"\n",
        "    lista_da_string = list(string_exemplo)\n",
        "    print(f\"Lista da String: {lista_da_string}\") # Saída: ['P', 'y', 't', 'h', 'o', 'n']\n",
        "\n",
        "    range_exemplo = range(3)\n",
        "    lista_do_range = list(range_exemplo)\n",
        "    print(f\"Lista do Range: {lista_do_range}\") # Saída: [0, 1, 2]\n",
        "\n",
        "    lista_vazia_construtor = list()\n",
        "    print(f\"Lista Vazia Construtor: {lista_vazia_construtor}\")"
      ],
      "outputs": [],
      "execution_count": null,
      "metadata": {
        "id": "OixNK9wp1Ulb"
      }
    },
    {
      "cell_type": "markdown",
      "source": [
        "* **List comprehensions:** Sintaxe concisa para criar listas com base em iteráveis existentes, aplicando expressões e filtros.³⁰,⁴³"
      ],
      "metadata": {
        "id": "AKDtuFbh1Ulc"
      }
    },
    {
      "cell_type": "code",
      "source": [
        "# Criação com List Comprehension\n",
        "    quadrados = [x*x for x in range(6)] # Quadrados dos números de 0 a 5\n",
        "    print(f\"Quadrados: {quadrados}\") # Saída: [0, 1, 4, 9, 16, 25]\n",
        "\n",
        "    pares = [num for num in range(10) if num % 2 == 0] # Números pares de 0 a 9\n",
        "    print(f\"Pares: {pares}\") # Saída: [0, 2, 4, 6, 8]\n",
        "\n",
        "    palavras = [\"maçã\", \"banana\", \"laranja\"]\n",
        "    maiusculas = [fruta.upper() for fruta in palavras] # Lista de frutas em maiúsculas\n",
        "    print(f\"Maiúsculas: {maiusculas}\") # Saída: ['MAÇÃ', 'BANANA', 'LARANJA']"
      ],
      "outputs": [],
      "execution_count": null,
      "metadata": {
        "id": "6Gl7Zppq1Uld"
      }
    },
    {
      "cell_type": "markdown",
      "source": [
        "A escolha do método de criação de listas depende do contexto específico. Literais são ideais para inicializar listas com um pequeno número de elementos conhecidos. O construtor `list()` é útil para converter outros tipos de iteráveis em listas. As list comprehensions são eficazes para criar novas listas aplicando transformações ou filtros de maneira concisa e eficiente.\n",
        "\n",
        "O acesso e a manipulação de elementos em listas são realizados por meio de indexação e slicing.\n",
        "\n",
        "* **Indexação:** Acessa elementos individuais pelo índice (posição), começando em 0. Índices negativos acessam a partir do final (-1 é o último).³⁰"
      ],
      "metadata": {
        "id": "2bViNWeG1Uld"
      }
    },
    {
      "cell_type": "code",
      "source": [
        "# Acesso por Indexação\n",
        "    minha_lista = ['a', 'b', 'c', 'd', 'e']\n",
        "    primeiro_elemento = minha_lista[0]\n",
        "    terceiro_elemento = minha_lista[2]\n",
        "    ultimo_elemento = minha_lista[-1]\n",
        "    penultimo_elemento = minha_lista[-2]\n",
        "\n",
        "    print(f\"Primeiro: {primeiro_elemento}\") # Saída: a\n",
        "    print(f\"Terceiro: {terceiro_elemento}\") # Saída: c\n",
        "    print(f\"Último: {ultimo_elemento}\")     # Saída: e\n",
        "    print(f\"Penúltimo: {penultimo_elemento}\") # Saída: d\n",
        "\n",
        "    # Modificação usando índice (listas são mutáveis)\n",
        "    minha_lista[1] = 'X'\n",
        "    print(f\"Lista modificada: {minha_lista}\") # Saída: ['a', 'X', 'c', 'd', 'e']"
      ],
      "outputs": [],
      "execution_count": null,
      "metadata": {
        "id": "xq_HFWQz1Uld"
      }
    },
    {
      "cell_type": "markdown",
      "source": [
        "* **Slicing (Fatiamento):** Extrai uma sublista usando a sintaxe `[start:stop:step]`. `start` é inclusivo, `stop` é exclusivo, `step` é opcional.³⁰"
      ],
      "metadata": {
        "id": "-Y7XieDS1Ule"
      }
    },
    {
      "cell_type": "code",
      "source": [
        "# Acesso por Slicing\n",
        "    minha_lista = ['a', 'b', 'c', 'd', 'e', 'f', 'g']\n",
        "\n",
        "    sublista1 = minha_lista[1:4] # Do índice 1 até (não incluindo) 4\n",
        "    print(f\"Slice [1:4]: {sublista1}\") # Saída: ['b', 'c', 'd']\n",
        "\n",
        "    primeiros_tres = minha_lista[:3] # Do início até (não incluindo) 3\n",
        "    print(f\"Slice [:3]: {primeiros_tres}\") # Saída: ['a', 'b', 'c']\n",
        "\n",
        "    ultimos_dois = minha_lista[-2:] # Do penúltimo até o final\n",
        "    print(f\"Slice [-2:]: {ultimos_dois}\") # Saída: ['f', 'g']\n",
        "\n",
        "    todos_exceto_primeiro_ultimo = minha_lista[1:-1]\n",
        "    print(f\"Slice [1:-1]: {todos_exceto_primeiro_ultimo}\") # Saída: ['b', 'c', 'd', 'e', 'f']\n",
        "\n",
        "    passo_dois = minha_lista[::2] # Todos os elementos, com passo 2\n",
        "    print(f\"Slice [::2]: {passo_dois}\") # Saída: ['a', 'c', 'e', 'g']\n",
        "\n",
        "    invertida = minha_lista[::-1] # Lista invertida\n",
        "    print(f\"Slice [::-1]: {invertida}\") # Saída: ['g', 'f', 'e', 'd', 'c', 'b', 'a']"
      ],
      "outputs": [],
      "execution_count": null,
      "metadata": {
        "id": "5fQaIN7K1Ulf"
      }
    },
    {
      "cell_type": "markdown",
      "source": [
        "Python oferece uma rica variedade de métodos para manipular listas:\n",
        "\n",
        "* **Adicionando elementos:**\n",
        "    * `append(x)`: Adiciona `x` ao final. \\[105], \\[106], \\[55], \\[56], \\[39], \\[107], \\[41], \\[38], \\[36], \\[29], \\[57], \\[40]"
      ],
      "metadata": {
        "id": "GQ9iBaIA1Ulf"
      }
    },
    {
      "cell_type": "code",
      "source": [
        "frutas = ['maçã', 'banana']\n",
        "        frutas.append('laranja')\n",
        "        print(frutas)  # Saída: ['maçã', 'banana', 'laranja']"
      ],
      "outputs": [],
      "execution_count": null,
      "metadata": {
        "id": "S3VAD6Hj1Ulg"
      }
    },
    {
      "cell_type": "markdown",
      "source": [
        "* `insert(i, x)`: Insere `x` na posição `i`. \\[105], \\[108], \\[55], \\[56], \\[39], \\[107], \\[41], \\[38], \\[36], \\[29], \\[57], \\[40]"
      ],
      "metadata": {
        "id": "E3ygb-e_1Ulg"
      }
    },
    {
      "cell_type": "code",
      "source": [
        "frutas = ['maçã', 'banana']\n",
        "        frutas.insert(1, 'cereja')\n",
        "        print(frutas)  # Saída: ['maçã', 'cereja', 'banana']"
      ],
      "outputs": [],
      "execution_count": null,
      "metadata": {
        "id": "IDrK25o51Ulg"
      }
    },
    {
      "cell_type": "markdown",
      "source": [
        "* `extend(iterable)`: Adiciona todos os elementos do `iterable` ao final. \\[105], \\[109], \\[55], \\[56], \\[39], \\[107], \\[41], \\[38], \\[36], \\[29], \\[57], \\[40]"
      ],
      "metadata": {
        "id": "PlVL-Tx01Ulh"
      }
    },
    {
      "cell_type": "code",
      "source": [
        "frutas = ['maçã', 'banana']\n",
        "        mais_frutas = ['manga', 'uva']\n",
        "        frutas.extend(mais_frutas)\n",
        "        print(frutas)  # Saída: ['maçã', 'banana', 'manga', 'uva']\n",
        "\n",
        "        # Também funciona com outros iteráveis\n",
        "        frutas.extend(\"ab\")\n",
        "        print(frutas) # Saída: ['maçã', 'banana', 'manga', 'uva', 'a', 'b']"
      ],
      "outputs": [],
      "execution_count": null,
      "metadata": {
        "id": "vmoH_YJ-1Ulh"
      }
    },
    {
      "cell_type": "markdown",
      "source": [
        "* **Removendo elementos:**\n",
        "    * `remove(x)`: Remove a primeira ocorrência de `x`. Gera `ValueError` se `x` não existir. \\[105], \\[110], \\[55], \\[56], \\[39], \\[107], \\[41], \\[38], \\[36], \\[29], \\[111], \\[40]"
      ],
      "metadata": {
        "id": "CRMxM0gy1Ulh"
      }
    },
    {
      "cell_type": "code",
      "source": [
        "frutas = ['maçã', 'banana', 'cereja', 'banana']\n",
        "        frutas.remove('banana') # Remove a primeira 'banana'\n",
        "        print(frutas)  # Saída: ['maçã', 'cereja', 'banana']\n",
        "        # frutas.remove('pera') # Geraria ValueError"
      ],
      "outputs": [],
      "execution_count": null,
      "metadata": {
        "id": "ga3MWKaj1Ulh"
      }
    },
    {
      "cell_type": "markdown",
      "source": [
        "* `pop([i])`: Remove e retorna o elemento na posição `i` (ou o último se `i` não for especificado). Gera `IndexError` se `i` for inválido. \\[105], \\[112], \\[55], \\[56], \\[39], \\[107], \\[41], \\[38], \\[36], \\[29], \\[57], \\[40]"
      ],
      "metadata": {
        "id": "XoR0w3P-1Uli"
      }
    },
    {
      "cell_type": "code",
      "source": [
        "frutas = ['maçã', 'banana', 'cereja']\n",
        "        elemento_removido_indice = frutas.pop(1) # Remove e retorna 'banana'\n",
        "        print(f\"Removido do índice 1: {elemento_removido_indice}\")  # Saída: banana\n",
        "        print(f\"Lista após pop(1): {frutas}\")  # Saída: ['maçã', 'cereja']\n",
        "\n",
        "        ultimo_removido = frutas.pop() # Remove e retorna o último ('cereja')\n",
        "        print(f\"Removido o último: {ultimo_removido}\") # Saída: cereja\n",
        "        print(f\"Lista após pop(): {frutas}\") # Saída: ['maçã']"
      ],
      "outputs": [],
      "execution_count": null,
      "metadata": {
        "id": "vDttU97O1Uli"
      }
    },
    {
      "cell_type": "markdown",
      "source": [
        "* `clear()`: Remove todos os elementos da lista. \\[105], \\[113], \\[55], \\[56], \\[39], \\[107], \\[41], \\[38], \\[36], \\[29], \\[57], \\[40]"
      ],
      "metadata": {
        "id": "KbpwzvB21Uli"
      }
    },
    {
      "cell_type": "code",
      "source": [
        "frutas = ['maçã', 'banana', 'cereja']\n",
        "        frutas.clear()\n",
        "        print(frutas)  # Saída: []"
      ],
      "outputs": [],
      "execution_count": null,
      "metadata": {
        "id": "9uLblt-C1Ulj"
      }
    },
    {
      "cell_type": "markdown",
      "source": [
        "* **Acessando informações:**\n",
        "    * `index(x[, start[, end]])`: Retorna o índice da primeira ocorrência de `x` (opcionalmente dentro de um intervalo). Gera `ValueError` se `x` não for encontrado. \\[105], \\[114], \\[55], \\[56], \\[39], \\[41], \\[38], \\[36], \\[29], \\[57], \\[40]"
      ],
      "metadata": {
        "id": "jPZJAuwB1Ulj"
      }
    },
    {
      "cell_type": "code",
      "source": [
        "frutas = ['maçã', 'banana', 'cereja', 'banana']\n",
        "        indice_banana = frutas.index('banana') # Encontra a primeira ocorrência\n",
        "        print(f\"Índice da primeira banana: {indice_banana}\")  # Saída: 1\n",
        "\n",
        "        indice_segunda_banana = frutas.index('banana', 2) # Busca a partir do índice 2\n",
        "        print(f\"Índice da segunda banana: {indice_segunda_banana}\") # Saída: 3"
      ],
      "outputs": [],
      "execution_count": null,
      "metadata": {
        "id": "xw359IQM1Ulj"
      }
    },
    {
      "cell_type": "markdown",
      "source": [
        "* `count(x)`: Retorna o número de vezes que `x` aparece na lista. \\[105], \\[115], \\[55], \\[56], \\[39], \\[41], \\[38], \\[36], \\[29], \\[57], \\[40]"
      ],
      "metadata": {
        "id": "JKycDMav1Ulj"
      }
    },
    {
      "cell_type": "code",
      "source": [
        "numeros = [1, 2, 2, 3, 2, 4]\n",
        "        ocorrencias_de_2 = numeros.count(2)\n",
        "        print(f\"Número de ocorrências de 2: {ocorrencias_de_2}\")  # Saída: 3"
      ],
      "outputs": [],
      "execution_count": null,
      "metadata": {
        "id": "8JSC9oQC1Ulk"
      }
    },
    {
      "cell_type": "markdown",
      "source": [
        "* **Ordenação e cópia:**\n",
        "    * `sort(*, key=None, reverse=False)`: Ordena a lista *no local* (modifica a lista original). `key` especifica uma função para extrair uma chave de comparação, `reverse=True` para ordem decrescente. \\[105], \\[116], \\[55], \\[56], \\[39], \\[41], \\[38], \\[36], \\[29], \\[57], \\[40]"
      ],
      "metadata": {
        "id": "flPkHy6p1Ulk"
      }
    },
    {
      "cell_type": "code",
      "source": [
        "numeros = [3, 1, 4, 1, 5, 9, 2, 6]\n",
        "        numeros.sort() # Ordena in-place\n",
        "        print(f\"Ordenada crescente: {numeros}\")  # Saída: [1, 1, 2, 3, 4, 5, 6, 9]\n",
        "\n",
        "        numeros.sort(reverse=True) # Ordena decrescente in-place\n",
        "        print(f\"Ordenada decrescente: {numeros}\")  # Saída: [9, 6, 5, 4, 3, 2, 1, 1]\n",
        "\n",
        "        # Ordenando por chave (comprimento da string)\n",
        "        palavras = [\"gato\", \"cachorro\", \"elefante\", \"rato\"]\n",
        "        palavras.sort(key=len) # Ordena pelo comprimento da palavra\n",
        "        print(f\"Ordenada por comprimento: {palavras}\") # Saída: ['rato', 'gato', 'cachorro', 'elefante']"
      ],
      "outputs": [],
      "execution_count": null,
      "metadata": {
        "id": "tIR7EiIp1Ulk"
      }
    },
    {
      "cell_type": "markdown",
      "source": [
        "* `reverse()`: Inverte a ordem dos elementos *no local*. \\[105], \\[117], \\[55], \\[56], \\[39], \\[41], \\[38], \\[36], \\[29], \\[57], \\[40]"
      ],
      "metadata": {
        "id": "iC9-lqKP1Ulk"
      }
    },
    {
      "cell_type": "code",
      "source": [
        "frutas = ['maçã', 'banana', 'cereja']\n",
        "        frutas.reverse() # Inverte in-place\n",
        "        print(f\"Invertida: {frutas}\")  # Saída: ['cereja', 'banana', 'maçã']"
      ],
      "outputs": [],
      "execution_count": null,
      "metadata": {
        "id": "yJ8gh3M71Ull"
      }
    },
    {
      "cell_type": "markdown",
      "source": [
        "* `copy()`: Retorna uma cópia *superficial* (shallow copy) da lista. Alterações na cópia não afetam a original, *exceto* se os elementos forem objetos mutáveis. \\[105], \\[118], \\[55], \\[56], \\[39], \\[41], \\[38], \\[36], \\[29], \\[57], \\[40]"
      ],
      "metadata": {
        "id": "4l3zeP0C1Ull"
      }
    },
    {
      "cell_type": "code",
      "source": [
        "frutas = ['maçã', 'banana', 'cereja']\n",
        "        copia_frutas = frutas.copy()\n",
        "        copia_frutas.append('laranja') # Modifica a cópia\n",
        "\n",
        "        print(f\"Original: {frutas}\")  # Saída: ['maçã', 'banana', 'cereja']\n",
        "        print(f\"Cópia: {copia_frutas}\")  # Saída: ['maçã', 'banana', 'cereja', 'laranja']\n",
        "\n",
        "        # Exemplo de Shallow Copy com objeto mutável interno\n",
        "        lista_aninhada = [1, [10, 20]]\n",
        "        copia_aninhada = lista_aninhada.copy()\n",
        "        copia_aninhada[1].append(30) # Modifica a lista interna NA CÓPIA\n",
        "\n",
        "        print(f\"Original aninhada: {lista_aninhada}\") # Saída: [1, [10, 20, 30]] <- foi afetada!\n",
        "        print(f\"Cópia aninhada: {copia_aninhada}\")   # Saída: [1, [10, 20, 30]]\n",
        "        # Para evitar isso, use copy.deepcopy() do módulo 'copy'"
      ],
      "outputs": [],
      "execution_count": null,
      "metadata": {
        "id": "sEkbQeJM1Ull"
      }
    },
    {
      "cell_type": "markdown",
      "source": [
        "As listas em Python também podem ser usadas para implementar estruturas de dados como pilhas (usando `append()` e `pop()`) e filas (embora `collections.deque` seja mais eficiente para filas devido ao desempenho das operações no início da lista).²⁹\n",
        "\n",
        "Além dos métodos, várias funções embutidas do Python são comumente usadas com listas:\n",
        "\n",
        "* `len(lista)`: Retorna o número de itens.¹\n",
        "* `min(lista)`, `max(lista)`: Retorna o menor/maior item.¹\n",
        "* `sum(lista)`: Retorna a soma dos itens (se numéricos).¹\n",
        "* `sorted(iterável, ...)`: Retorna uma *nova* lista ordenada.¹\n",
        "* `enumerate(iterável, ...)`: Retorna pares (índice, elemento).¹\n",
        "* `zip(*iteráveis)`: Combina elementos de vários iteráveis.¹"
      ],
      "metadata": {
        "id": "6ItmkM2V1Ulm"
      }
    },
    {
      "cell_type": "code",
      "source": [
        "# Funções embutidas com listas\n",
        "numeros = [5, 2, 8, 1, 9]\n",
        "nomes = [\"Ana\", \"Carlos\", \"Bia\"]\n",
        "\n",
        "print(f\"Tamanho da lista 'numeros': {len(numeros)}\") # Saída: 5\n",
        "print(f\"Menor número: {min(numeros)}\")     # Saída: 1\n",
        "print(f\"Maior número: {max(numeros)}\")     # Saída: 9\n",
        "print(f\"Soma dos números: {sum(numeros)}\") # Saída: 25\n",
        "\n",
        "# sorted() retorna uma NOVA lista ordenada, não modifica a original\n",
        "numeros_ordenados = sorted(numeros)\n",
        "print(f\"Lista original 'numeros': {numeros}\") # Saída: [5, 2, 8, 1, 9]\n",
        "print(f\"Nova lista ordenada: {numeros_ordenados}\") # Saída: [1, 2, 5, 8, 9]\n",
        "\n",
        "# enumerate()\n",
        "print(\"Enumerando nomes:\")\n",
        "for indice, nome in enumerate(nomes):\n",
        "    print(f\"Índice {indice}: {nome}\")\n",
        "# Saída:\n",
        "# Índice 0: Ana\n",
        "# Índice 1: Carlos\n",
        "# Índice 2: Bia\n",
        "\n",
        "# zip()\n",
        "idades = [30, 25, 35]\n",
        "print(\"Combinando nomes e idades com zip:\")\n",
        "for nome, idade in zip(nomes, idades):\n",
        "    print(f\"{nome} tem {idade} anos.\")\n",
        "# Saída:\n",
        "# Ana tem 30 anos.\n",
        "# Carlos tem 25 anos.\n",
        "# Bia tem 35 anos."
      ],
      "outputs": [],
      "execution_count": null,
      "metadata": {
        "id": "L5OUoo6q1Uln"
      }
    },
    {
      "cell_type": "markdown",
      "source": [
        "**3. Tuplas em Python: Sequências Imutáveis para Dados Fixos**\n",
        "\n",
        "As tuplas em Python são semelhantes às listas, pois também são sequências ordenadas de itens.³ No entanto, a principal distinção reside na sua **imutabilidade**; uma vez criada, os elementos de uma tupla não podem ser modificados.³ Apesar dessa restrição, as tuplas permitem duplicatas³ e podem conter elementos heterogêneos.³ Uma propriedade importante é que elas são *hashable* se todos os seus elementos forem hashable, o que as torna adequadas para serem usadas como chaves em dicionários.³\n",
        "\n",
        "A imutabilidade torna as tuplas ideais para representar coleções de dados fixos, oferecendo segurança e permitindo seu uso como chaves de dicionários ou elementos de conjuntos.\n",
        "\n",
        "As tuplas em Python podem ser criadas de várias maneiras:\n",
        "\n",
        "* **Literais:** Usando parênteses `()` envolvendo elementos separados por vírgula. Uma vírgula final é necessária para tuplas com um único elemento.³"
      ],
      "metadata": {
        "id": "e5kv4Ihw1Uln"
      }
    },
    {
      "cell_type": "code",
      "source": [
        "# Criação com literal\n",
        "    tupla_literal = (1, 'dois', 3.0, True, 1)\n",
        "    ponto_xy = (10, 20)\n",
        "    tupla_um_elemento = (5,) # A vírgula é essencial! (5) seria apenas o inteiro 5.\n",
        "    tupla_vazia = ()\n",
        "\n",
        "    print(f\"Tupla Literal: {tupla_literal}\")\n",
        "    print(f\"Ponto XY: {ponto_xy}\")\n",
        "    print(f\"Tupla de um elemento: {tupla_um_elemento}\")\n",
        "    print(f\"Tupla Vazia: {tupla_vazia}\")"
      ],
      "outputs": [],
      "execution_count": null,
      "metadata": {
        "id": "W1WSUn8V1Ulo"
      }
    },
    {
      "cell_type": "markdown",
      "source": [
        "* **Construtor `tuple()`:** Recebe um iterável como argumento.³"
      ],
      "metadata": {
        "id": "8soL-vYO1Ulo"
      }
    },
    {
      "cell_type": "code",
      "source": [
        "# Criação com construtor tuple()\n",
        "    lista_exemplo = [1, 2, 3]\n",
        "    tupla_da_lista = tuple(lista_exemplo)\n",
        "    print(f\"Tupla da Lista: {tupla_da_lista}\") # Saída: (1, 2, 3)\n",
        "\n",
        "    string_exemplo = \"abc\"\n",
        "    tupla_da_string = tuple(string_exemplo)\n",
        "    print(f\"Tupla da String: {tupla_da_string}\") # Saída: ('a', 'b', 'c')"
      ],
      "outputs": [],
      "execution_count": null,
      "metadata": {
        "id": "PQMWSq7O1Ulo"
      }
    },
    {
      "cell_type": "markdown",
      "source": [
        "* **Tuple packing:** Atribuir múltiplos valores separados por vírgula a uma variável.⁵"
      ],
      "metadata": {
        "id": "-Rc-ubkE1Ulp"
      }
    },
    {
      "cell_type": "code",
      "source": [
        "# Criação com Tuple Packing\n",
        "    dados_empacotados = 10, \"Nome\", True # Python cria uma tupla automaticamente\n",
        "    print(f\"Dados Empacotados: {dados_empacotados}\") # Saída: (10, 'Nome', True)\n",
        "    print(f\"Tipo: {type(dados_empacotados)}\") # Saída: <class 'tuple'>"
      ],
      "outputs": [],
      "execution_count": null,
      "metadata": {
        "id": "5-h-amOL1Ulw"
      }
    },
    {
      "cell_type": "markdown",
      "source": [
        "O acesso aos elementos de uma tupla é semelhante às listas:\n",
        "\n",
        "* **Indexação:** Acessa elementos pelo índice.³"
      ],
      "metadata": {
        "id": "ZdrJhBgq1Ulx"
      }
    },
    {
      "cell_type": "code",
      "source": [
        "# Acesso por Indexação\n",
        "    minha_tupla = ('a', 'b', 'c', 'd', 'e')\n",
        "    print(f\"Elemento índice 0: {minha_tupla[0]}\") # Saída: a\n",
        "    print(f\"Último elemento: {minha_tupla[-1]}\") # Saída: e\n",
        "    # minha_tupla[0] = 'X' # Erro! TypeError: 'tuple' object does not support item assignment"
      ],
      "outputs": [],
      "execution_count": null,
      "metadata": {
        "id": "1qLtQBDq1Ulx"
      }
    },
    {
      "cell_type": "markdown",
      "source": [
        "* **Slicing:** Extrai sub-tuplas.³"
      ],
      "metadata": {
        "id": "qPAAuvb61Ulx"
      }
    },
    {
      "cell_type": "code",
      "source": [
        "# Acesso por Slicing\n",
        "    minha_tupla = ('a', 'b', 'c', 'd', 'e')\n",
        "    sub_tupla = minha_tupla[1:3] # Do índice 1 até (não incluindo) 3\n",
        "    print(f\"Slice [1:3]: {sub_tupla}\") # Saída: ('b', 'c')"
      ],
      "outputs": [],
      "execution_count": null,
      "metadata": {
        "id": "rtBVVsPy1Ulx"
      }
    },
    {
      "cell_type": "markdown",
      "source": [
        "* **Unpacking:** Atribui elementos da tupla a variáveis individuais. O número de variáveis deve corresponder ao número de elementos.⁵"
      ],
      "metadata": {
        "id": "uozQv_jO1Uly"
      }
    },
    {
      "cell_type": "code",
      "source": [
        "# Unpacking de Tupla\n",
        "    coordenadas = (15, 45)\n",
        "    x, y = coordenadas # Desempacotamento\n",
        "    print(f\"X: {x}, Y: {y}\") # Saída: X: 15, Y: 45\n",
        "\n",
        "    # Unpacking em loops for\n",
        "    lista_de_tuplas = [('Ana', 30), ('Bia', 25)]\n",
        "    for nome, idade in lista_de_tuplas:\n",
        "        print(f\"{nome} - {idade} anos\")"
      ],
      "outputs": [],
      "execution_count": null,
      "metadata": {
        "id": "lTSiLOnP1Uly"
      }
    },
    {
      "cell_type": "markdown",
      "source": [
        "Devido à imutabilidade, as tuplas possuem poucos métodos:\n",
        "\n",
        "* `count(x)`: Retorna o número de ocorrências de `x`.³³"
      ],
      "metadata": {
        "id": "2I0HTSia1Uly"
      }
    },
    {
      "cell_type": "code",
      "source": [
        "minha_tupla = (1, 2, 2, 3, 2, 4)\n",
        "    ocorrencias_de_2 = minha_tupla.count(2)\n",
        "    print(f\"Contagem de 2 na tupla: {ocorrencias_de_2}\")  # Saída: 3"
      ],
      "outputs": [],
      "execution_count": null,
      "metadata": {
        "id": "U66syYHw1Uly"
      }
    },
    {
      "cell_type": "markdown",
      "source": [
        "* `index(x[, start[, end]])`: Retorna o índice da primeira ocorrência de `x` (opcionalmente em um intervalo). Gera `ValueError` se não encontrado.³³"
      ],
      "metadata": {
        "id": "oAi_Ojfn1Uly"
      }
    },
    {
      "cell_type": "code",
      "source": [
        "minha_tupla = (10, 20, 30, 20, 40, 20)\n",
        "    indice_de_20 = minha_tupla.index(20) # Primeira ocorrência\n",
        "    print(f\"Índice do primeiro 20: {indice_de_20}\")  # Saída: 1\n",
        "\n",
        "    indice_segundo_20 = minha_tupla.index(20, 2) # Busca a partir do índice 2\n",
        "    print(f\"Índice do segundo 20: {indice_segundo_20}\") # Saída: 3"
      ],
      "outputs": [],
      "execution_count": null,
      "metadata": {
        "id": "FVb24Ahq1Ulz"
      }
    },
    {
      "cell_type": "markdown",
      "source": [
        "Tuple packing e unpacking são recursos poderosos para código conciso e legível, especialmente com múltiplos retornos de funções.⁵\n",
        "\n",
        "As funções embutidas `len()`, `min()`, `max()`, `sum()`, `sorted()`, `enumerate()`, `zip()` também funcionam com tuplas:"
      ],
      "metadata": {
        "id": "t2_h3sEg1Ulz"
      }
    },
    {
      "cell_type": "code",
      "source": [
        "# Funções embutidas com tuplas\n",
        "numeros_tupla = (5, 2, 8, 1, 9)\n",
        "nomes_tupla = (\"Leo\", \"Mara\", \"Gil\")\n",
        "\n",
        "print(f\"Tamanho da tupla 'numeros_tupla': {len(numeros_tupla)}\") # Saída: 5\n",
        "print(f\"Menor número na tupla: {min(numeros_tupla)}\")     # Saída: 1\n",
        "print(f\"Maior número na tupla: {max(numeros_tupla)}\")     # Saída: 9\n",
        "print(f\"Soma dos números na tupla: {sum(numeros_tupla)}\") # Saída: 25\n",
        "\n",
        "# sorted() com tupla retorna uma NOVA LISTA ordenada\n",
        "numeros_ordenados_lista = sorted(numeros_tupla)\n",
        "print(f\"Tupla original 'numeros_tupla': {numeros_tupla}\") # Saída: (5, 2, 8, 1, 9)\n",
        "print(f\"Nova lista ordenada: {numeros_ordenados_lista}\") # Saída: [1, 2, 5, 8, 9]\n",
        "\n",
        "# enumerate()\n",
        "print(\"Enumerando nomes_tupla:\")\n",
        "for indice, nome in enumerate(nomes_tupla):\n",
        "    print(f\"Índice {indice}: {nome}\")\n",
        "\n",
        "# zip()\n",
        "cidades_tupla = (\"Rio\", \"SP\", \"BH\")\n",
        "print(\"Combinando nomes e cidades com zip:\")\n",
        "for nome, cidade in zip(nomes_tupla, cidades_tupla):\n",
        "    print(f\"{nome} mora em {cidade}.\")"
      ],
      "outputs": [],
      "execution_count": null,
      "metadata": {
        "id": "_PnuxFKe1Ulz"
      }
    },
    {
      "cell_type": "markdown",
      "source": [
        "**4. Conjuntos (Sets) em Python: Coleções Não Ordenadas de Elementos Únicos**\n",
        "\n",
        "Conjuntos são coleções **não ordenadas** de elementos **únicos** e **hasháveis** (imutáveis).¹⁷ São **mutáveis** (elementos podem ser adicionados/removidos).¹⁷ Ótimos para remover duplicatas e realizar operações matemáticas de conjuntos.\n",
        "\n",
        "Conjuntos podem ser criados de três maneiras:\n",
        "\n",
        "* **Literais:** Usando chaves `{}` com elementos separados por vírgula. `{}` cria um dicionário vazio, use `set()` para conjunto vazio.¹⁷"
      ],
      "metadata": {
        "id": "KBmkwx921Ulz"
      }
    },
    {
      "cell_type": "code",
      "source": [
        "# Criação com literal\n",
        "    set_literal = {1, 2, 3, 2, 1} # Duplicatas são ignoradas\n",
        "    print(f\"Set Literal: {set_literal}\") # Saída: {1, 2, 3} (ordem não garantida)"
      ],
      "outputs": [],
      "execution_count": null,
      "metadata": {
        "id": "cfTxKFZf1Ul0"
      }
    },
    {
      "cell_type": "markdown",
      "source": [
        "* **Construtor `set()`:** Recebe um iterável.¹⁷"
      ],
      "metadata": {
        "id": "zMna-NLo1Ul0"
      }
    },
    {
      "cell_type": "code",
      "source": [
        "# Criação com construtor set()\n",
        "    lista_com_duplicatas = [1, 'a', 1, 'b', 'a']\n",
        "    set_da_lista = set(lista_com_duplicatas)\n",
        "    print(f\"Set da Lista: {set_da_lista}\") # Saída: {1, 'a', 'b'} ou outra ordem\n",
        "\n",
        "    set_vazio = set()\n",
        "    print(f\"Set Vazio: {set_vazio}\") # Saída: set()"
      ],
      "outputs": [],
      "execution_count": null,
      "metadata": {
        "id": "UfMuoYDI1Ul0"
      }
    },
    {
      "cell_type": "markdown",
      "source": [
        "* **Set comprehensions:** Sintaxe concisa para criar conjuntos a partir de iteráveis.¹⁷"
      ],
      "metadata": {
        "id": "mwJtT7Js1Ul0"
      }
    },
    {
      "cell_type": "code",
      "source": [
        "# Criação com Set Comprehension\n",
        "    quadrados_set = {x*x for x in [-1, 0, 1, 2, -1]}\n",
        "    print(f\"Quadrados (set): {quadrados_set}\") # Saída: {0, 1, 4}\n",
        "\n",
        "    letras_unicas = {letra for letra in \"paralelepipedo\"}\n",
        "    print(f\"Letras únicas: {letras_unicas}\") # Saída: {'o', 'd', 'p', 'i', 'a', 'l', 'e', 'r'} (ou outra ordem)"
      ],
      "outputs": [],
      "execution_count": null,
      "metadata": {
        "id": "IJ2_CPek1Ul1"
      }
    },
    {
      "cell_type": "markdown",
      "source": [
        "Métodos para adicionar e remover elementos:\n",
        "\n",
        "* `add(x)`: Adiciona `x`.¹⁷"
      ],
      "metadata": {
        "id": "WE-H77Pu1Ul1"
      }
    },
    {
      "cell_type": "code",
      "source": [
        "meu_conjunto = {1, 2, 3}\n",
        "    meu_conjunto.add(4)\n",
        "    meu_conjunto.add(1) # Não faz nada, 1 já existe\n",
        "    print(f\"Após add: {meu_conjunto}\")  # Saída: {1, 2, 3, 4}"
      ],
      "outputs": [],
      "execution_count": null,
      "metadata": {
        "id": "f4K4bx8N1Ul1"
      }
    },
    {
      "cell_type": "markdown",
      "source": [
        "* `update(iterável)`: Adiciona elementos do iterável.¹⁷"
      ],
      "metadata": {
        "id": "SjHOZh6B1Ul1"
      }
    },
    {
      "cell_type": "code",
      "source": [
        "meu_conjunto = {1, 2, 3}\n",
        "    meu_conjunto.update([3, 4, 5], \"ab\") # Adiciona 3, 4, 5, 'a', 'b' (3 já existe)\n",
        "    print(f\"Após update: {meu_conjunto}\")  # Saída: {1, 2, 3, 4, 5, 'a', 'b'}"
      ],
      "outputs": [],
      "execution_count": null,
      "metadata": {
        "id": "O_BzcADg1Ul2"
      }
    },
    {
      "cell_type": "markdown",
      "source": [
        "* `remove(x)`: Remove `x`. Gera `KeyError` se não existir.¹⁷"
      ],
      "metadata": {
        "id": "Uk60VFFy1Ul2"
      }
    },
    {
      "cell_type": "code",
      "source": [
        "meu_conjunto = {1, 2, 3}\n",
        "    meu_conjunto.remove(2)\n",
        "    print(f\"Após remove(2): {meu_conjunto}\")  # Saída: {1, 3}\n",
        "    # meu_conjunto.remove(5) # Geraria KeyError"
      ],
      "outputs": [],
      "execution_count": null,
      "metadata": {
        "id": "rcjngEX31Ul2"
      }
    },
    {
      "cell_type": "markdown",
      "source": [
        "* `discard(x)`: Remove `x` se existir, sem erro caso contrário.¹⁷"
      ],
      "metadata": {
        "id": "PFN92Zlt1Ul2"
      }
    },
    {
      "cell_type": "code",
      "source": [
        "meu_conjunto = {1, 2, 3}\n",
        "    meu_conjunto.discard(2)\n",
        "    print(f\"Após discard(2): {meu_conjunto}\") # Saída: {1, 3}\n",
        "    meu_conjunto.discard(5) # Não faz nada, sem erro\n",
        "    print(f\"Após discard(5): {meu_conjunto}\") # Saída: {1, 3}"
      ],
      "outputs": [],
      "execution_count": null,
      "metadata": {
        "id": "WK7KZW2e1Ul3"
      }
    },
    {
      "cell_type": "markdown",
      "source": [
        "* `pop()`: Remove e retorna um elemento *arbitrário*. Gera `KeyError` se vazio.¹⁷"
      ],
      "metadata": {
        "id": "C2O8gA0L1Ul3"
      }
    },
    {
      "cell_type": "code",
      "source": [
        "meu_conjunto = {'a', 'b', 'c'}\n",
        "    elemento = meu_conjunto.pop()\n",
        "    print(f\"Elemento removido por pop: {elemento}\") # Saída: 'a', 'b' ou 'c'\n",
        "    print(f\"Conjunto após pop: {meu_conjunto}\")"
      ],
      "outputs": [],
      "execution_count": null,
      "metadata": {
        "id": "o1ha59QK1Ul3"
      }
    },
    {
      "cell_type": "markdown",
      "source": [
        "* `clear()`: Remove todos os elementos.¹⁷"
      ],
      "metadata": {
        "id": "awcp4p571Ul3"
      }
    },
    {
      "cell_type": "code",
      "source": [
        "meu_conjunto = {1, 2, 3}\n",
        "    meu_conjunto.clear()\n",
        "    print(f\"Após clear: {meu_conjunto}\")  # Saída: set()"
      ],
      "outputs": [],
      "execution_count": null,
      "metadata": {
        "id": "GEOxQ_ls1Ul4"
      }
    },
    {
      "cell_type": "markdown",
      "source": [
        "Operações de conjunto:\n",
        "\n",
        "* União (`|` ou `union()`): Elementos em um ou ambos.¹⁷"
      ],
      "metadata": {
        "id": "AuOm9FJV1Ul4"
      }
    },
    {
      "cell_type": "code",
      "source": [
        "conjunto1 = {1, 2, 3}\n",
        "    conjunto2 = {3, 4, 5}\n",
        "    uniao = conjunto1 | conjunto2\n",
        "    print(f\"União (|): {uniao}\")  # Saída: {1, 2, 3, 4, 5}\n",
        "    uniao_metodo = conjunto1.union(conjunto2)\n",
        "    print(f\"União (método): {uniao_metodo}\")  # Saída: {1, 2, 3, 4, 5}"
      ],
      "outputs": [],
      "execution_count": null,
      "metadata": {
        "id": "4Uq_cXFc1Ul4"
      }
    },
    {
      "cell_type": "markdown",
      "source": [
        "* Interseção (`&` ou `intersection()`): Elementos comuns a ambos.¹⁷"
      ],
      "metadata": {
        "id": "ZJexJISt1Ul4"
      }
    },
    {
      "cell_type": "code",
      "source": [
        "conjunto1 = {1, 2, 3}\n",
        "    conjunto2 = {3, 4, 5}\n",
        "    intersecao = conjunto1 & conjunto2\n",
        "    print(f\"Interseção (&): {intersecao}\")  # Saída: {3}\n",
        "    intersecao_metodo = conjunto1.intersection(conjunto2)\n",
        "    print(f\"Interseção (método): {intersecao_metodo}\")  # Saída: {3}"
      ],
      "outputs": [],
      "execution_count": null,
      "metadata": {
        "id": "_BF5xSGt1Ul5"
      }
    },
    {
      "cell_type": "markdown",
      "source": [
        "* Diferença (`-` ou `difference()`): Elementos no primeiro, mas não no segundo.¹⁷"
      ],
      "metadata": {
        "id": "gF12M3_c1Ul5"
      }
    },
    {
      "cell_type": "code",
      "source": [
        "conjunto1 = {1, 2, 3}\n",
        "    conjunto2 = {3, 4, 5}\n",
        "    diferenca = conjunto1 - conjunto2\n",
        "    print(f\"Diferença (-): {diferenca}\")  # Saída: {1, 2}\n",
        "    diferenca_metodo = conjunto1.difference(conjunto2)\n",
        "    print(f\"Diferença (método): {diferenca_metodo}\")  # Saída: {1, 2}"
      ],
      "outputs": [],
      "execution_count": null,
      "metadata": {
        "id": "okGB5uoQ1Ul5"
      }
    },
    {
      "cell_type": "markdown",
      "source": [
        "* Diferença Simétrica (`^` ou `symmetric_difference()`): Elementos em exatamente um dos conjuntos.¹⁷"
      ],
      "metadata": {
        "id": "ZtHp3o9h1Ul5"
      }
    },
    {
      "cell_type": "code",
      "source": [
        "conjunto1 = {1, 2, 3}\n",
        "    conjunto2 = {3, 4, 5}\n",
        "    diferenca_simetrica = conjunto1 ^ conjunto2\n",
        "    print(f\"Diferença Simétrica (^): {diferenca_simetrica}\")  # Saída: {1, 2, 4, 5}\n",
        "    diferenca_sim_metodo = conjunto1.symmetric_difference(conjunto2)\n",
        "    print(f\"Diferença Simétrica (método): {diferenca_sim_metodo}\")  # Saída: {1, 2, 4, 5}"
      ],
      "outputs": [],
      "execution_count": null,
      "metadata": {
        "id": "y7HylxnL1Ul6"
      }
    },
    {
      "cell_type": "markdown",
      "source": [
        "Verificações de subconjunto/superconjunto/disjunção:"
      ],
      "metadata": {
        "id": "UTscSnGd1Ul6"
      }
    },
    {
      "cell_type": "code",
      "source": [
        "# Verificações de subconjunto, superconjunto, disjunção\n",
        "a = {1, 2}\n",
        "b = {1, 2, 3}\n",
        "c = {4, 5}\n",
        "\n",
        "# issubset() ou <=\n",
        "print(f\"a é subconjunto de b? {a.issubset(b)}\") # Saída: True\n",
        "print(f\"a <= b? {a <= b}\")                   # Saída: True\n",
        "\n",
        "# issuperset() ou >=\n",
        "print(f\"b é superconjunto de a? {b.issuperset(a)}\") # Saída: True\n",
        "print(f\"b >= a? {b >= a}\")                     # Saída: True\n",
        "\n",
        "# isdisjoint()\n",
        "print(f\"a e b são disjuntos? {a.isdisjoint(b)}\") # Saída: False\n",
        "print(f\"a e c são disjuntos? {a.isdisjoint(c)}\") # Saída: True"
      ],
      "outputs": [],
      "execution_count": null,
      "metadata": {
        "id": "gWS6k5Lt1Ul6"
      }
    },
    {
      "cell_type": "markdown",
      "source": [
        "As funções `len()`, `min()`, `max()`, `sum()` (se aplicável), `sorted()`, `enumerate()`, `zip()` também podem ser usadas com conjuntos.¹⁷"
      ],
      "metadata": {
        "id": "85_17XcX1Ul6"
      }
    },
    {
      "cell_type": "code",
      "source": [
        "# Funções embutidas com sets\n",
        "meu_set = {5, 1, 9, 3}\n",
        "print(f\"Tamanho do set: {len(meu_set)}\") # Saída: 4\n",
        "print(f\"Mínimo do set: {min(meu_set)}\") # Saída: 1\n",
        "print(f\"Máximo do set: {max(meu_set)}\") # Saída: 9\n",
        "print(f\"Soma do set: {sum(meu_set)}\") # Saída: 18\n",
        "\n",
        "# sorted() com set retorna uma NOVA LISTA ordenada\n",
        "set_ordenado_lista = sorted(meu_set)\n",
        "print(f\"Set original: {meu_set}\")\n",
        "print(f\"Nova lista ordenada: {set_ordenado_lista}\") # Saída: [1, 3, 5, 9]"
      ],
      "outputs": [],
      "execution_count": null,
      "metadata": {
        "id": "XGvysrNA1Ul7"
      }
    },
    {
      "cell_type": "markdown",
      "source": [
        "**5. Dicionários em Python: Mapeamentos de Pares Chave-Valor**\n",
        "\n",
        "Dicionários armazenam pares **chave-valor**. Chaves devem ser **únicas** e **hasháveis** (imutáveis). Valores podem ser de qualquer tipo.¹⁰ São **mutáveis**. Mantêm a **ordem de inserção** (Python 3.7+).¹⁰\n",
        "\n",
        "Dicionários podem ser criados de várias formas:\n",
        "\n",
        "* **Literais:** Usando chaves `{}` com pares `chave: valor` separados por vírgula.¹⁰"
      ],
      "metadata": {
        "id": "Ua-vzBEv1Ul7"
      }
    },
    {
      "cell_type": "code",
      "source": [
        "# Criação com literal\n",
        "    pessoa = {'nome': 'João', 'idade': 30, 'cidade': 'São Paulo'}\n",
        "    dicio_vazio = {}\n",
        "    print(f\"Dicionário Pessoa: {pessoa}\")\n",
        "    print(f\"Dicionário Vazio: {dicio_vazio}\")\n",
        "    print(f\"Tipo: {type(pessoa)}\") # Saída: <class 'dict'>"
      ],
      "outputs": [],
      "execution_count": null,
      "metadata": {
        "id": "YG5rXxkd1Ul7"
      }
    },
    {
      "cell_type": "markdown",
      "source": [
        "* **Construtor `dict()`:** Com argumentos nomeados, mapeamento ou iterável de pares.¹⁰"
      ],
      "metadata": {
        "id": "LsWabX-T1Ul7"
      }
    },
    {
      "cell_type": "code",
      "source": [
        "# Criação com construtor dict()\n",
        "    d1 = dict(nome='Maria', idade=25) # Argumentos nomeados\n",
        "    print(f\"dict(kwargs): {d1}\") # Saída: {'nome': 'Maria', 'idade': 25}\n",
        "\n",
        "    d2 = dict([('a', 1), ('b', 2)]) # Iterável de pares (lista de tuplas)\n",
        "    print(f\"dict(iterable): {d2}\") # Saída: {'a': 1, 'b': 2}\n",
        "\n",
        "    d3 = dict(d1) # A partir de outro dicionário (cópia superficial)\n",
        "    print(f\"dict(mapping): {d3}\") # Saída: {'nome': 'Maria', 'idade': 25}"
      ],
      "outputs": [],
      "execution_count": null,
      "metadata": {
        "id": "Hc5cAsAu1Ul8"
      }
    },
    {
      "cell_type": "markdown",
      "source": [
        "* **Dictionary comprehensions:** Sintaxe concisa para criar dicionários.¹⁰"
      ],
      "metadata": {
        "id": "6rImgxdB1Ul8"
      }
    },
    {
      "cell_type": "code",
      "source": [
        "# Criação com Dictionary Comprehension\n",
        "    quadrados_dict = {x: x**2 for x in range(5)}\n",
        "    print(f\"Quadrados (dict): {quadrados_dict}\") # Saída: {0: 0, 1: 1, 2: 4, 3: 9, 4: 16}\n",
        "\n",
        "    nomes = ['Ana', 'Bia', 'Carlos']\n",
        "    letras_iniciais = {nome: nome[0] for nome in nomes}\n",
        "    print(f\"Letras Iniciais: {letras_iniciais}\") # Saída: {'Ana': 'A', 'Bia': 'B', 'Carlos': 'C'}"
      ],
      "outputs": [],
      "execution_count": null,
      "metadata": {
        "id": "eyIp9HCp1Ul8"
      }
    },
    {
      "cell_type": "markdown",
      "source": [
        "* **`fromkeys(iterável, valor=None)`:** Cria dicionário com chaves do iterável e um valor padrão.¹⁰"
      ],
      "metadata": {
        "id": "kXaRPitO1Ul8"
      }
    },
    {
      "cell_type": "code",
      "source": [
        "# Criação com fromkeys\n",
        "    chaves = ['a', 'b', 'c']\n",
        "    dicio_fromkeys = dict.fromkeys(chaves, 0) # Todas as chaves com valor 0\n",
        "    print(f\"fromkeys com valor: {dicio_fromkeys}\") # Saída: {'a': 0, 'b': 0, 'c': 0}\n",
        "\n",
        "    dicio_fromkeys_none = dict.fromkeys(chaves) # Valor padrão é None\n",
        "    print(f\"fromkeys sem valor: {dicio_fromkeys_none}\") # Saída: {'a': None, 'b': None, 'c': None}"
      ],
      "outputs": [],
      "execution_count": null,
      "metadata": {
        "id": "NetFM-Hv1Ul8"
      }
    },
    {
      "cell_type": "markdown",
      "source": [
        "Acesso aos valores:\n",
        "\n",
        "* **Lookup por chave `[]`:** Acesso direto. Gera `KeyError` se a chave não existe.¹⁰"
      ],
      "metadata": {
        "id": "zcYwu9Kp1Ul9"
      }
    },
    {
      "cell_type": "code",
      "source": [
        "# Acesso por chave []\n",
        "    pessoa = {'nome': 'João', 'idade': 30}\n",
        "    print(f\"Nome: {pessoa['nome']}\") # Saída: João\n",
        "    # print(pessoa['profissao']) # Geraria KeyError"
      ],
      "outputs": [],
      "execution_count": null,
      "metadata": {
        "id": "rSU4VRxH1Ul9"
      }
    },
    {
      "cell_type": "markdown",
      "source": [
        "* **`get(chave, padrão=None)`:** Acesso seguro. Retorna `padrão` (ou `None`) se a chave não existe.¹⁰"
      ],
      "metadata": {
        "id": "rmgI23cD1Ul9"
      }
    },
    {
      "cell_type": "code",
      "source": [
        "# Acesso com get()\n",
        "    pessoa = {'nome': 'João', 'idade': 30}\n",
        "    idade = pessoa.get('idade')\n",
        "    profissao = pessoa.get('profissao', 'Não informada')\n",
        "\n",
        "    print(f\"Idade (get): {idade}\") # Saída: 30\n",
        "    print(f\"Profissão (get): {profissao}\") # Saída: Não informada"
      ],
      "outputs": [],
      "execution_count": null,
      "metadata": {
        "id": "luxbLsjM1Ul9"
      }
    },
    {
      "cell_type": "markdown",
      "source": [
        "Modificando dicionários:\n",
        "\n",
        "* **Adicionando/Atualizando:** Atribuição direta `dicionario[chave] = valor`.¹¹"
      ],
      "metadata": {
        "id": "uVS6o5cT1Ul-"
      }
    },
    {
      "cell_type": "code",
      "source": [
        "# Adicionando e Atualizando\n",
        "    pessoa = {'nome': 'João'}\n",
        "    pessoa['idade'] = 30 # Adiciona nova chave-valor\n",
        "    print(f\"Após adicionar idade: {pessoa}\") # Saída: {'nome': 'João', 'idade': 30}\n",
        "\n",
        "    pessoa['nome'] = 'João Silva' # Atualiza valor da chave existente\n",
        "    print(f\"Após atualizar nome: {pessoa}\") # Saída: {'nome': 'João Silva', 'idade': 30}"
      ],
      "outputs": [],
      "execution_count": null,
      "metadata": {
        "id": "A8_TA0Dw1Ul-"
      }
    },
    {
      "cell_type": "markdown",
      "source": [
        "* **Removendo:**\n",
        "    * `del dicionario[chave]`: Remove a chave. Gera `KeyError` se não existir.¹¹"
      ],
      "metadata": {
        "id": "65kjpMCI1Ul-"
      }
    },
    {
      "cell_type": "code",
      "source": [
        "# Removendo com del\n",
        "        pessoa = {'nome': 'João Silva', 'idade': 30}\n",
        "        del pessoa['idade']\n",
        "        print(f\"Após del idade: {pessoa}\") # Saída: {'nome': 'João Silva'}\n",
        "        # del pessoa['idade'] # Geraria KeyError agora"
      ],
      "outputs": [],
      "execution_count": null,
      "metadata": {
        "id": "nU_7W6Un1Ul-"
      }
    },
    {
      "cell_type": "markdown",
      "source": [
        "* `pop(chave[, padrão])`: Remove a chave e retorna o valor. Gera `KeyError` se não existir e `padrão` não for fornecido.¹⁰"
      ],
      "metadata": {
        "id": "xHFNnW0V1Ul-"
      }
    },
    {
      "cell_type": "code",
      "source": [
        "# Removendo com pop()\n",
        "        pessoa = {'nome': 'Maria', 'idade': 25, 'cidade': 'SP'}\n",
        "        cidade_removida = pessoa.pop('cidade')\n",
        "        print(f\"Cidade removida: {cidade_removida}\") # Saída: SP\n",
        "        print(f\"Pessoa após pop cidade: {pessoa}\") # Saída: {'nome': 'Maria', 'idade': 25}\n",
        "\n",
        "        # Usando pop com valor padrão\n",
        "        pais_removido = pessoa.pop('pais', 'Não encontrado')\n",
        "        print(f\"País removido: {pais_removido}\") # Saída: Não encontrado\n",
        "        print(f\"Pessoa após pop pais: {pessoa}\") # Saída: {'nome': 'Maria', 'idade': 25}"
      ],
      "outputs": [],
      "execution_count": null,
      "metadata": {
        "id": "5peDQsVg1Ul_"
      }
    },
    {
      "cell_type": "markdown",
      "source": [
        "* `popitem()`: Remove e retorna o último par chave-valor inserido (LIFO). Gera `KeyError` se vazio.¹⁰"
      ],
      "metadata": {
        "id": "lk6yFlTU1Ul_"
      }
    },
    {
      "cell_type": "code",
      "source": [
        "# Removendo com popitem() (último item inserido)\n",
        "        pessoa = {'nome': 'Carlos', 'idade': 40, 'profissao': 'Engenheiro'}\n",
        "        chave, valor = pessoa.popitem()\n",
        "        print(f\"Item removido (popitem): {chave}={valor}\") # Saída: profissao=Engenheiro\n",
        "        print(f\"Pessoa após popitem: {pessoa}\") # Saída: {'nome': 'Carlos', 'idade': 40}"
      ],
      "outputs": [],
      "execution_count": null,
      "metadata": {
        "id": "_0zwlz0P1Ul_"
      }
    },
    {
      "cell_type": "markdown",
      "source": [
        "* `clear()`: Remove todos os itens.¹⁰"
      ],
      "metadata": {
        "id": "ZqQlZZ_E1Ul_"
      }
    },
    {
      "cell_type": "code",
      "source": [
        "# Removendo com clear()\n",
        "        pessoa = {'a': 1, 'b': 2}\n",
        "        pessoa.clear()\n",
        "        print(f\"Após clear: {pessoa}\") # Saída: {}"
      ],
      "outputs": [],
      "execution_count": null,
      "metadata": {
        "id": "xkur3PPi1UmA"
      }
    },
    {
      "cell_type": "markdown",
      "source": [
        "Métodos úteis para dicionários:\n",
        "\n",
        "* **Acessando informações:**\n",
        "    * `keys()`: Retorna uma visualização das chaves.¹⁰\n",
        "    * `values()`: Retorna uma visualização dos valores.¹⁰\n",
        "    * `items()`: Retorna uma visualização dos pares (chave, valor).¹⁰"
      ],
      "metadata": {
        "id": "CPpFEVOj1UmA"
      }
    },
    {
      "cell_type": "code",
      "source": [
        "# Métodos keys(), values(), items()\n",
        "        pessoa = {'nome': 'Ana', 'idade': 28}\n",
        "\n",
        "        print(f\"Chaves: {pessoa.keys()}\")     # Saída: dict_keys(['nome', 'idade'])\n",
        "        print(f\"Valores: {pessoa.values()}\")   # Saída: dict_values(['Ana', 28])\n",
        "        print(f\"Itens: {pessoa.items()}\")     # Saída: dict_items([('nome', 'Ana'), ('idade', 28)])\n",
        "\n",
        "        # Podem ser usados em loops\n",
        "        print(\"Iterando sobre chaves:\")\n",
        "        for k in pessoa.keys():\n",
        "            print(k)\n",
        "\n",
        "        print(\"Iterando sobre valores:\")\n",
        "        for v in pessoa.values():\n",
        "            print(v)\n",
        "\n",
        "        print(\"Iterando sobre itens:\")\n",
        "        for k, v in pessoa.items():\n",
        "            print(f\"{k} -> {v}\")"
      ],
      "outputs": [],
      "execution_count": null,
      "metadata": {
        "id": "99iFP_rs1UmA"
      }
    },
    {
      "cell_type": "markdown",
      "source": [
        "* **Adicionando e atualizando:**\n",
        "    * `update([outro])`: Mescla outro dicionário ou iterável de pares.¹⁰"
      ],
      "metadata": {
        "id": "AC9wnTHq1UmA"
      }
    },
    {
      "cell_type": "code",
      "source": [
        "# Método update()\n",
        "        contato = {'email': 'ana@exemplo.com'}\n",
        "        info_pessoal = {'cidade': 'Recife', 'estado': 'PE'}\n",
        "        contato.update(info_pessoal) # Mescla info_pessoal em contato\n",
        "        print(f\"Contato atualizado: {contato}\")\n",
        "        # Saída: {'email': 'ana@exemplo.com', 'cidade': 'Recife', 'estado': 'PE'}\n",
        "\n",
        "        contato.update(cidade='Salvador', telefone='9999-8888') # Atualiza cidade, adiciona telefone\n",
        "        print(f\"Contato re-atualizado: {contato}\")\n",
        "        # Saída: {'email': 'ana@exemplo.com', 'cidade': 'Salvador', 'estado': 'PE', 'telefone': '9999-8888'}"
      ],
      "outputs": [],
      "execution_count": null,
      "metadata": {
        "id": "eaLeHqf41UmA"
      }
    },
    {
      "cell_type": "markdown",
      "source": [
        "* `setdefault(chave, padrão=None)`: Retorna valor se chave existe; senão, insere chave com valor `padrão` e retorna `padrão`.¹⁰"
      ],
      "metadata": {
        "id": "lg34ypP91UmB"
      }
    },
    {
      "cell_type": "code",
      "source": [
        "# Método setdefault()\n",
        "        config = {'user': 'admin'}\n",
        "\n",
        "        # Chave 'user' existe, retorna seu valor\n",
        "        usuario = config.setdefault('user', 'guest')\n",
        "        print(f\"Usuário (existente): {usuario}\") # Saída: admin\n",
        "        print(f\"Config após get user: {config}\") # Saída: {'user': 'admin'}\n",
        "\n",
        "        # Chave 'theme' não existe, insere com valor padrão 'light' e retorna 'light'\n",
        "        tema = config.setdefault('theme', 'light')\n",
        "        print(f\"Tema (não existente): {tema}\") # Saída: light\n",
        "        print(f\"Config após set theme: {config}\") # Saída: {'user': 'admin', 'theme': 'light'}"
      ],
      "outputs": [],
      "execution_count": null,
      "metadata": {
        "id": "xT_e7hZM1UmB"
      }
    },
    {
      "cell_type": "markdown",
      "source": [
        "* **Copiando:**\n",
        "    * `copy()`: Retorna uma cópia *superficial* (shallow copy).¹⁰"
      ],
      "metadata": {
        "id": "DDu01JqA1UmB"
      }
    },
    {
      "cell_type": "code",
      "source": [
        "# Método copy()\n",
        "        original = {'a': 1, 'b': [10, 20]}\n",
        "        copia = original.copy()\n",
        "\n",
        "        copia['a'] = 100       # Modifica valor imutável na cópia\n",
        "        copia['b'].append(30) # Modifica objeto mutável interno NA CÓPIA\n",
        "\n",
        "        print(f\"Original: {original}\") # Saída: {'a': 1, 'b': [10, 20, 30]} <- lista interna foi afetada!\n",
        "        print(f\"Cópia: {copia}\")     # Saída: {'a': 100, 'b': [10, 20, 30]}"
      ],
      "outputs": [],
      "execution_count": null,
      "metadata": {
        "id": "0Ut3PThZ1UmB"
      }
    },
    {
      "cell_type": "markdown",
      "source": [
        "Funções embutidas com dicionários:"
      ],
      "metadata": {
        "id": "qE0H1qJ_1UmC"
      }
    },
    {
      "cell_type": "code",
      "source": [
        "# Funções embutidas com dicionários\n",
        "idades = {'Ana': 30, 'Bia': 25, 'Carlos': 35}\n",
        "\n",
        "print(f\"Número de pessoas: {len(idades)}\") # Saída: 3\n",
        "\n",
        "# min(), max(), sorted() operam nas CHAVES por padrão\n",
        "print(f\"Menor chave (nome): {min(idades)}\")     # Saída: Ana\n",
        "print(f\"Maior chave (nome): {max(idades)}\")     # Saída: Carlos\n",
        "print(f\"Chaves ordenadas: {sorted(idades)}\") # Saída: ['Ana', 'Bia', 'Carlos'] (lista)\n",
        "\n",
        "# Para operar nos valores:\n",
        "print(f\"Menor idade: {min(idades.values())}\") # Saída: 25\n",
        "print(f\"Maior idade: {max(idades.values())}\") # Saída: 35\n",
        "print(f\"Idades ordenadas: {sorted(idades.values())}\") # Saída: [25, 30, 35] (lista)\n",
        "\n",
        "# enumerate() itera sobre as chaves (por padrão)\n",
        "print(\"Enumerando chaves:\")\n",
        "for i, nome in enumerate(idades): # ou enumerate(idades.keys())\n",
        "    print(f\"{i}: {nome}\")\n",
        "\n",
        "# zip() para criar dicionários\n",
        "chaves = ['x', 'y', 'z']\n",
        "valores = [10, 20, 30]\n",
        "dicio_zip = dict(zip(chaves, valores))\n",
        "print(f\"Dicionário criado com zip: {dicio_zip}\") # Saída: {'x': 10, 'y': 20, 'z': 30}"
      ],
      "outputs": [],
      "execution_count": null,
      "metadata": {
        "id": "b665-_V91UmC"
      }
    },
    {
      "cell_type": "markdown",
      "source": [
        "Dictionary comprehension: ` {chave: valor for item in iterável if condição} `.¹⁰"
      ],
      "metadata": {
        "id": "pFKj1_ws1UmC"
      }
    },
    {
      "cell_type": "code",
      "source": [
        "# Exemplo avançado de Dictionary Comprehension\n",
        "precos = {'banana': 2.5, 'maçã': 3.0, 'laranja': 2.0}\n",
        "# Criar dicionário com preços acima de 2.2\n",
        "caros = {fruta: preco for fruta, preco in precos.items() if preco > 2.2}\n",
        "print(f\"Frutas caras: {caros}\") # Saída: {'banana': 2.5, 'maçã': 3.0}"
      ],
      "outputs": [],
      "execution_count": null,
      "metadata": {
        "id": "ZEMxPrhg1UmC"
      }
    },
    {
      "cell_type": "markdown",
      "source": [
        "**6. Comparação entre Listas e Tuplas: Diferenças e Casos de Uso**\n",
        "\n",
        "Listas e tuplas são sequências ordenadas, mas a diferença chave é a **mutabilidade**: listas são mutáveis, tuplas são imutáveis.³⁷\n",
        "\n",
        "* **Sintaxe:** Listas `[]`, Tuplas `()`.³⁷\n",
        "* **Mutabilidade:** Listas podem ser alteradas, tuplas não.³⁷\n",
        "* **Desempenho:** Tuplas geralmente são mais rápidas e usam menos memória.³⁷\n",
        "* **Casos de Uso:**\n",
        "    * **Listas:** Coleções dinâmicas, dados que mudam, itens homogêneos (geralmente).\n",
        "    * **Tuplas:** Dados fixos, representação de registros, retorno de múltiplos valores de funções, chaves de dicionário (se hashable), itens heterogêneos (geralmente).³⁷\n",
        "* **Hashable:** Listas não são hashable. Tuplas são hashable *se* todos os seus elementos forem hashable.³⁷\n",
        "* **Métodos:** Listas têm mais métodos (modificação), tuplas têm poucos.\n",
        "\n",
        "A tabela resume as diferenças:\n",
        "\n",
        "| Característica | Lista                                       | Tupla                                                         |\n",
        "| :------------- | :------------------------------------------ | :------------------------------------------------------------ |\n",
        "| Mutabilidade   | Mutável                                     | Imutável                                                      |\n",
        "| Sintaxe        | `[]`                                        | `()`                                                          |\n",
        "| Desempenho     | Geralmente mais lenta e usa mais memória    | Geralmente mais rápida e usa menos memória                    |\n",
        "| Casos de Uso   | Coleções dinâmicas, itens homogêneos        | Dados fixos, itens heterogêneos, chaves de dicionários          |\n",
        "| Hashable       | Não                                         | Sim (se elementos forem hashable)                           |\n",
        "| Métodos        | Mais métodos (append, remove, sort, etc.) | Menos métodos (count, index)                                  |\n",
        "\n",
        "Escolha listas para coleções que precisam mudar; escolha tuplas para dados fixos, segurança ou quando precisar de um objeto hashable.\n",
        "\n",
        "**7. Conclusão**\n",
        "\n",
        "Este estudo detalhado explorou as quatro estruturas de dados fundamentais em Python: listas, tuplas, conjuntos e dicionários. Cada uma possui características únicas para diferentes cenários. Listas oferecem flexibilidade ordenada e mutável. Tuplas garantem imutabilidade e eficiência para dados fixos, podendo ser chaves. Conjuntos são coleções não ordenadas e únicas, ótimas para operações de conjunto e remoção de duplicatas. Dicionários fornecem mapeamentos chave-valor eficientes e ordenados por inserção (Python 3.7+).\n",
        "\n",
        "A escolha correta (mutabilidade, ordem, unicidade, hashability) é crucial para código eficiente e legível. Compreender listas, tuplas, conjuntos e dicionários permite ao programador selecionar a ferramenta certa, otimizando o desenvolvimento."
      ],
      "metadata": {
        "id": "2QHIYBBi1UmC"
      }
    }
  ],
  "metadata": {
    "colab": {
      "provenance": []
    },
    "kernelspec": {
      "display_name": "Python 3",
      "name": "python3"
    }
  },
  "nbformat": 4,
  "nbformat_minor": 0
}