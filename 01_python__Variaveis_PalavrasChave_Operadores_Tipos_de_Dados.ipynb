{
  "cells": [
    {
      "cell_type": "markdown",
      "source": [
        "**Estudo Detalhado sobre Variáveis, Palavras-chave, Operadores e Tipos de Dados em Python**\n",
        "\n",
        "**I. Introdução aos Conceitos Fundamentais em Python**\n",
        "\n",
        "Python, uma linguagem de programação versátil e amplamente utilizada, destaca-se pela sua sintaxe clara e facilidade de aprendizado, tornando-a acessível tanto para programadores experientes quanto para iniciantes.¹ Sua filosofia de design enfatiza a legibilidade do código, empregando indentação significativa para definir blocos de código.⁴ Python é adequada para uma vasta gama de aplicações, desde scripts rápidos até o desenvolvimento de software empresarial de grande escala.⁵\n",
        "\n",
        "Uma das características distintivas de Python é sua tipagem dinâmica e gerenciamento automático de memória, que simplificam o processo de desenvolvimento.⁴ Além disso, Python possui uma biblioteca padrão abrangente, frequentemente descrita como \"baterias incluídas\", que oferece uma vasta gama de módulos e funcionalidades prontas para uso.⁴ A linguagem também se beneficia de um forte suporte da comunidade e de extensos recursos de aprendizado, facilitando a entrada de novos programadores e o aprofundamento de conhecimentos para os mais experientes.⁵\n",
        "\n",
        "A aplicabilidade de Python se estende por diversos domínios, incluindo desenvolvimento web, ciência de dados, inteligência artificial e automação.¹ Dada a sua ampla utilização, compreender os conceitos fundamentais, como variáveis, palavras-chave, operadores e tipos de dados, é essencial para construir uma base sólida na programação em Python. Este relatório tem como objetivo fornecer um estudo detalhado e aprofundado sobre esses tópicos cruciais.\n",
        "\n",
        "**II. Variáveis e Palavras-chave em Python**\n",
        "\n",
        "**A. Compreendendo as Variáveis**\n",
        "\n",
        "**1. Definição e Propósito das Variáveis**\n",
        "\n",
        "As variáveis em Python são nomes simbólicos que se referem a locais de armazenamento na memória do computador, onde os dados podem ser guardados para uso posterior.²³ Elas podem ser vistas como rótulos ou recipientes que armazenam informações, permitindo que os programadores manipulem e reutilizem valores ao longo de seus programas.²³ A criação e atribuição de um valor a uma variável são realizadas através do operador de atribuição `=`.²³"
      ],
      "metadata": {
        "id": "V1nZHr9khrhz"
      }
    },
    {
      "cell_type": "code",
      "source": [
        "# Exemplo: Criando e atribuindo valor a uma variável\n",
        "mensagem = \"Olá, Mundo!\"\n",
        "numero_alunos = 25\n",
        "preco_produto = 19.99\n",
        "\n",
        "# Usando as variáveis\n",
        "print(mensagem)\n",
        "print(f\"Número de alunos na turma: {numero_alunos}\")\n",
        "print(f\"Preço: R${preco_produto}\")"
      ],
      "outputs": [
        {
          "output_type": "stream",
          "name": "stdout",
          "text": [
            "Olá, Mundo!\n",
            "Número de alunos na turma: 25\n",
            "Preço: R$19.99\n"
          ]
        }
      ],
      "execution_count": 128,
      "metadata": {
        "id": "UgNeOK8jhrh6",
        "colab": {
          "base_uri": "https://localhost:8080/"
        },
        "outputId": "a7866481-d7a3-438a-bb08-053063c45da4"
      }
    },
    {
      "cell_type": "markdown",
      "source": [
        "Python utiliza tipagem dinâmica, o que significa que o tipo de dados de uma variável é inferido em tempo de execução com base no valor que lhe é atribuído.²⁴ Essa característica dispensa a necessidade de declarar explicitamente o tipo de uma variável antes de sua utilização, simplificando o processo inicial de aprendizado. No entanto, essa flexibilidade também exige que o programador esteja atento ao tipo de dado que uma variável contém em um determinado momento, a fim de evitar comportamentos inesperados."
      ],
      "metadata": {
        "id": "q4axTOuVhrh9"
      }
    },
    {
      "cell_type": "code",
      "source": [
        "# Exemplo de Tipagem Dinâmica\n",
        "variavel = 10      # Inicialmente, é um inteiro\n",
        "print(type(variavel)) # Saída: <class 'int'>\n",
        "\n",
        "variavel = \"Python\" # Agora, a mesma variável armazena uma string\n",
        "print(type(variavel)) # Saída: <class 'str'>"
      ],
      "outputs": [
        {
          "output_type": "stream",
          "name": "stdout",
          "text": [
            "<class 'int'>\n",
            "<class 'str'>\n"
          ]
        }
      ],
      "execution_count": 129,
      "metadata": {
        "id": "ThC6fC0ghrh-",
        "colab": {
          "base_uri": "https://localhost:8080/"
        },
        "outputId": "e3d6d4f2-f0f0-4a0d-84a9-b5bcdd3f8af5"
      }
    },
    {
      "cell_type": "markdown",
      "source": [
        "**2. Regras para Nomear Variáveis**\n",
        "\n",
        "A nomeação de variáveis em Python segue um conjunto de regras específicas:\n",
        "\n",
        "* As variáveis podem conter letras maiúsculas (A-Z) e minúsculas (a-z), dígitos (0-9) e underscores (`_`).²³\n",
        "* O nome de uma variável não pode começar com um dígito.²³\n",
        "* Os nomes das variáveis são sensíveis a maiúsculas e minúsculas, ou seja, `myVar` e `myvar` seriam consideradas variáveis distintas.²³\n",
        "* Um nome de variável não pode ser uma palavra-chave reservada da linguagem Python.²³"
      ],
      "metadata": {
        "id": "_R3VOhqvhrh_"
      }
    },
    {
      "cell_type": "code",
      "source": [
        "# Exemplos de Nomes de Variáveis Válidos e Inválidos\n",
        "\n",
        "# Válidos\n",
        "nome_usuario = \"joao_silva\"\n",
        "idade_media = 35\n",
        "_variavel_interna = 100\n",
        "TOTAL_ITEMS = 50\n",
        "NomeDeClasse = \"ClasseExemplo\" # Válido, mas não segue convenção para variáveis\n",
        "\n",
        "# Inválidos\n",
        "# 2_numero = 20       # Não pode começar com dígito\n",
        "# nome-usuario = \"ana\" # Não pode conter hífen (usa-se underscore)\n",
        "# class = \"Turma A\"   # 'class' é uma palavra-chave\n",
        "\n",
        "# Exemplo de Sensibilidade a Maiúsculas/Minúsculas\n",
        "Valor = 10\n",
        "valor = 20\n",
        "print(Valor)  # Saída: 10\n",
        "print(valor)  # Saída: 20"
      ],
      "outputs": [
        {
          "output_type": "stream",
          "name": "stdout",
          "text": [
            "10\n",
            "20\n"
          ]
        }
      ],
      "execution_count": 130,
      "metadata": {
        "id": "dgKBaDs0hrh_",
        "colab": {
          "base_uri": "https://localhost:8080/"
        },
        "outputId": "e695e335-3a41-49f0-812f-f883798a086d"
      }
    },
    {
      "cell_type": "markdown",
      "source": [
        "Além dessas regras, existem convenções de nomenclatura e práticas recomendadas que visam melhorar a legibilidade e a manutenção do código.²⁴ É aconselhável usar nomes descritivos e significativos que reflitam o propósito da variável.²³ A seguir, as diretrizes de estilo PEP 8, amplamente adotadas pela comunidade Python ²⁴:\n",
        "\n",
        "* Nomes de variáveis e funções devem utilizar o formato `snake_case`, onde as palavras são escritas em minúsculas e separadas por underscores (ex: `nome_usuario`, `contador_itens`).²⁴\n",
        "* Nomes de classes devem seguir o formato `PascalCase`, onde cada palavra começa com uma letra maiúscula (ex: `PerfilUsuario`, `AnalisadorDeDados`).²⁴\n",
        "* Outras recomendações incluem evitar nomes de uma única letra (exceto para contadores de loop ou coordenadas), preferir palavras completas em vez de abreviações (a menos que sejam amplamente aceitas), usar prefixos como `is_` ou `has_` para variáveis booleanas, usar substantivos plurais para coleções, utilizar um underscore à esquerda para variáveis \"não públicas\" e manter a consistência no estilo de nomenclatura.²⁵\n",
        "\n",
        "A tabela a seguir resume as convenções de nomenclatura recomendadas pela PEP 8:\n",
        "\n",
        "| Tipo       | Convenção         | Exemplo                    |\n",
        "| :--------- | :---------------- | :------------------------- |\n",
        "| Variáveis  | Snake Case        | `user_name`, `item_count`  |\n",
        "| Funções    | Snake Case        | `calculate_total()`, `get_data()` |\n",
        "| Classes    | Pascal Case       | `UserProfile`, `DataAnalyzer` |\n",
        "| Módulos    | Lowercase         | `my_module`, `utils`       |\n",
        "| Pacotes    | Lowercase         | `my_package`, `data_processing` |\n",
        "| Constantes | Uppercase Snake Case | `PI`, `MAX_USERS`          |\n",
        "\n",
        "A adoção dessas convenções, especialmente as da PEP 8, é fundamental para escrever código Python idiomático, facilmente compreendido e mantido pela comunidade Python. Nomes descritivos melhoram significativamente a legibilidade do código, reduzindo a necessidade de comentários excessivos.\n",
        "\n",
        "**3. Atribuindo Valores a Variáveis**\n",
        "\n",
        "A atribuição de valores a variáveis em Python pode ser feita de diversas maneiras:\n",
        "\n",
        "* **Atribuição Simples:** Uma única variável recebe um único valor utilizando o operador `=`.\\[23, 24, 25]"
      ],
      "metadata": {
        "id": "atqw-t0rhriA"
      }
    },
    {
      "cell_type": "code",
      "source": [
        "# Atribuição Simples\n",
        "idade = 30\n",
        "cidade = \"São Paulo\"\n",
        "ativo = True\n",
        "print(idade, cidade, ativo)"
      ],
      "outputs": [
        {
          "output_type": "stream",
          "name": "stdout",
          "text": [
            "30 São Paulo True\n"
          ]
        }
      ],
      "execution_count": 131,
      "metadata": {
        "id": "Owh9BwAYhriC",
        "colab": {
          "base_uri": "https://localhost:8080/"
        },
        "outputId": "87f41f3b-accf-4de7-e8bf-ffb02cd654d3"
      }
    },
    {
      "cell_type": "markdown",
      "source": [
        "* **Atribuição Múltipla:** É possível atribuir o mesmo valor a múltiplas variáveis ou valores diferentes a múltiplas variáveis em uma única linha.\\[23, 29, 30]"
      ],
      "metadata": {
        "id": "3RPV7DKQhriD"
      }
    },
    {
      "cell_type": "code",
      "source": [
        "# Atribuição Múltipla (mesmo valor)\n",
        "x = y = z = 0\n",
        "print(x, y, z) # Saída: 0 0 0\n",
        "\n",
        "# Atribuição Múltipla (valores diferentes)\n",
        "nome, idade, cidade = \"Alice\", 25, \"Nova Iorque\"\n",
        "print(f\"Nome: {nome}, Idade: {idade}, Cidade: {cidade}\")"
      ],
      "outputs": [
        {
          "output_type": "stream",
          "name": "stdout",
          "text": [
            "0 0 0\n",
            "Nome: Alice, Idade: 25, Cidade: Nova Iorque\n"
          ]
        }
      ],
      "execution_count": 132,
      "metadata": {
        "id": "7IRnac_YhriD",
        "colab": {
          "base_uri": "https://localhost:8080/"
        },
        "outputId": "cc85f7c7-4668-401a-c3bd-ba7658b3a70e"
      }
    },
    {
      "cell_type": "markdown",
      "source": [
        "* **Desempacotamento de Sequências:** Os elementos de uma sequência (lista, tupla) podem ser atribuídos a variáveis individuais. O número de variáveis deve corresponder ao número de elementos.\\[30, 31, 32]"
      ],
      "metadata": {
        "id": "iDzKvbTNhriE"
      }
    },
    {
      "cell_type": "code",
      "source": [
        "# Desempacotamento de Lista\n",
        "frutas = [\"maçã\", \"banana\", \"cereja\"]\n",
        "f1, f2, f3 = frutas\n",
        "print(f1) # Saída: maçã\n",
        "print(f2) # Saída: banana\n",
        "print(f3) # Saída: cereja\n",
        "\n",
        "# Desempacotamento de Tupla\n",
        "coordenadas = (10, 20)\n",
        "x_coord, y_coord = coordenadas\n",
        "print(f\"X: {x_coord}, Y: {y_coord}\")"
      ],
      "outputs": [
        {
          "output_type": "stream",
          "name": "stdout",
          "text": [
            "maçã\n",
            "banana\n",
            "cereja\n",
            "X: 10, Y: 20\n"
          ]
        }
      ],
      "execution_count": 133,
      "metadata": {
        "id": "Xx10cTNbhriE",
        "colab": {
          "base_uri": "https://localhost:8080/"
        },
        "outputId": "b58fcd97-a3a2-4a57-886b-1f2cad19d93c"
      }
    },
    {
      "cell_type": "markdown",
      "source": [
        "* **Desempacotamento com `*`:** O operador asterisco (`*`) pode ser usado para atribuir os elementos restantes de uma sequência a uma lista.\\[29, 32]"
      ],
      "metadata": {
        "id": "0eHt-gFbhriE"
      }
    },
    {
      "cell_type": "code",
      "source": [
        "# Desempacotamento com *\n",
        "numeros = [1, 2, 3, 4, 5]\n",
        "\n",
        "primeiro, segundo, *resto = numeros\n",
        "print(f\"Primeiro: {primeiro}\") # Saída: 1\n",
        "print(f\"Segundo: {segundo}\")  # Saída: 2\n",
        "print(f\"Resto: {resto}\")      # Saída: [3, 4, 5] (uma lista)\n",
        "\n",
        "primeiro, *meio, ultimo = numeros\n",
        "print(f\"Primeiro: {primeiro}\") # Saída: 1\n",
        "print(f\"Meio: {meio}\")        # Saída: [2, 3, 4] (uma lista)\n",
        "print(f\"Último: {ultimo}\")    # Saída: 5"
      ],
      "outputs": [
        {
          "output_type": "stream",
          "name": "stdout",
          "text": [
            "Primeiro: 1\n",
            "Segundo: 2\n",
            "Resto: [3, 4, 5]\n",
            "Primeiro: 1\n",
            "Meio: [2, 3, 4]\n",
            "Último: 5\n"
          ]
        }
      ],
      "execution_count": 134,
      "metadata": {
        "id": "Vt0NyDa4hriF",
        "colab": {
          "base_uri": "https://localhost:8080/"
        },
        "outputId": "5e724314-7213-409c-f57d-a30b8f95febc"
      }
    },
    {
      "cell_type": "markdown",
      "source": [
        "A atribuição múltipla e o desempacotamento de sequências oferecem formas concisas de atribuir valores, melhorando a eficiência e a legibilidade do código. No entanto, é crucial garantir que o número de variáveis corresponda ao número de valores (ou que `*` seja usado corretamente) para evitar erros.\n",
        "\n",
        "**4. Escopo de Variáveis (Global vs. Local)**\n",
        "\n",
        "O escopo de uma variável define onde essa variável pode ser acessada dentro do código.\\[24, 25, 33, 34, 35] Existem dois escopos principais em Python:\n",
        "\n",
        "* **Escopo Global:** Variáveis declaradas fora de qualquer função ou loop, no nível superior do script. Podem ser acessadas em qualquer parte do código.\n",
        "* **Escopo Local:** Variáveis declaradas dentro de uma função ou loop. Só podem ser acessadas dentro dessa função ou loop."
      ],
      "metadata": {
        "id": "xP2ZTfnehriF"
      }
    },
    {
      "cell_type": "code",
      "source": [
        "# Exemplo de Escopo Global e Local\n",
        "variavel_global = \"Eu sou global\"\n",
        "\n",
        "def minha_funcao():\n",
        "  variavel_local = \"Eu sou local\"\n",
        "  print(variavel_local)\n",
        "  print(variavel_global) # Pode acessar a global\n",
        "\n",
        "minha_funcao()\n",
        "# Saída:\n",
        "# Eu sou local\n",
        "# Eu sou global\n",
        "\n",
        "print(variavel_global) # Saída: Eu sou global\n",
        "# print(variavel_local) # Erro! NameError: name 'variavel_local' is not defined (fora do escopo)"
      ],
      "outputs": [
        {
          "output_type": "stream",
          "name": "stdout",
          "text": [
            "Eu sou local\n",
            "Eu sou global\n",
            "Eu sou global\n"
          ]
        }
      ],
      "execution_count": 135,
      "metadata": {
        "id": "63EbR_aQhriF",
        "colab": {
          "base_uri": "https://localhost:8080/"
        },
        "outputId": "5cc90ca7-fe67-40f3-f9d1-f2157cecdcaf"
      }
    },
    {
      "cell_type": "markdown",
      "source": [
        "Python segue a regra **LEGB** para resolver nomes de variáveis: primeiro procura no escopo **L**ocal, depois no escopo de **E**nclausura (para funções aninhadas), seguido pelo escopo **G**lobal e, por fim, no escopo **B**uilt-in (embutido).\\[34, 36]\n",
        "\n",
        "As palavras-chave `global` e `nonlocal` permitem modificar o comportamento padrão do escopo.\n",
        "\n",
        "* **`global`:** Usada dentro de uma função para indicar que você quer modificar uma variável *global* existente, e não criar uma nova local com o mesmo nome.\\[37, 38]"
      ],
      "metadata": {
        "id": "cwBvFrf2hriG"
      }
    },
    {
      "cell_type": "code",
      "source": [
        "contador = 0 # Global\n",
        "\n",
        "def incrementar():\n",
        "    global contador # Indica que queremos usar a variável global 'contador'\n",
        "    contador += 1\n",
        "    print(f\"Dentro da função: {contador}\")\n",
        "\n",
        "incrementar() # Saída: Dentro da função: 1\n",
        "incrementar() # Saída: Dentro da função: 2\n",
        "print(f\"Fora da função: {contador}\") # Saída: Fora da função: 2"
      ],
      "outputs": [
        {
          "output_type": "stream",
          "name": "stdout",
          "text": [
            "Dentro da função: 1\n",
            "Dentro da função: 2\n",
            "Fora da função: 2\n"
          ]
        }
      ],
      "execution_count": 136,
      "metadata": {
        "id": "zdSYCJ-QhriG",
        "colab": {
          "base_uri": "https://localhost:8080/"
        },
        "outputId": "ed3584d7-2222-4f02-ecda-41fb7c73a37e"
      }
    },
    {
      "cell_type": "markdown",
      "source": [
        "* **`nonlocal`:** Usada em funções aninhadas para referenciar e modificar uma variável no escopo da função *envolvente* mais próxima (que não seja global).\\[37, 38]"
      ],
      "metadata": {
        "id": "_pMOB8_DhriG"
      }
    },
    {
      "cell_type": "code",
      "source": [
        "\n",
        "def funcao_externa():\n",
        "  x = \"externo\" # Variável no escopo de Enclausura\n",
        "\n",
        "  def funcao_interna():\n",
        "    nonlocal x # Indica que queremos usar o 'x' da funcao_externa\n",
        "    x = \"interno modificado\"\n",
        "    print(f\"Dentro da interna: {x}\")\n",
        "\n",
        "  funcao_interna()\n",
        "  print(f\"Dentro da externa após interna: {x}\")\n",
        "\n",
        "funcao_externa()\n",
        "# Saída:\n",
        "# Dentro da interna: interno modificado\n",
        "# Dentro da externa após interna: interno modificado\n",
        "print(f\"Dentro da interna: {x}\")\n",
        "\n",
        "print(f\"Dentro da externa após interna: {x}\")\n",
        "\n",
        "# Saída:\n",
        "# Dentro da interna: interno modificado\n",
        "# Dentro da externa após interna: interno modificado"
      ],
      "outputs": [
        {
          "output_type": "stream",
          "name": "stdout",
          "text": [
            "Dentro da interna: interno modificado\n",
            "Dentro da externa após interna: interno modificado\n",
            "Dentro da interna: 0\n",
            "Dentro da externa após interna: 0\n"
          ]
        }
      ],
      "execution_count": 137,
      "metadata": {
        "id": "4SDFAUpphriG",
        "colab": {
          "base_uri": "https://localhost:8080/"
        },
        "outputId": "2a46f643-357d-4f4f-ca45-e12c07ce66fe"
      }
    },
    {
      "cell_type": "markdown",
      "source": [
        "Compreender o escopo de variáveis é fundamental para gerenciar a acessibilidade das variáveis e evitar conflitos de nomes. As palavras-chave `global` e `nonlocal` fornecem mecanismos para modificar variáveis em escopos externos, mas seu uso deve ser considerado cuidadosamente para manter a clareza do código e evitar efeitos colaterais não intencionais.\n",
        "\n",
        "**B. Explorando as Palavras-chave em Python**\n",
        "\n",
        "**1. Definição e Significado das Palavras-chave**\n",
        "\n",
        "As palavras-chave em Python são termos reservados que possuem significados e propósitos especiais dentro da linguagem. Elas não podem ser utilizadas como identificadores (nomes de variáveis, funções, classes, etc.). As palavras-chave formam a base da sintaxe de Python e controlam o fluxo de execução dos programas.³⁹\n",
        "\n",
        "**2. Lista Abrangente de Palavras-chave em Python**\n",
        "\n",
        "A tabela a seguir apresenta uma lista abrangente das palavras-chave em Python, juntamente com suas descrições e categorias:\n",
        "\n",
        "| Palavra-chave | Descrição                                                    | Categoria                 | Exemplo de Uso                                              |\n",
        "| :------------ | :----------------------------------------------------------- | :------------------------ | :---------------------------------------------------------- |\n",
        "| `False`       | Representa o valor booleano falso.                           | Valor                     | `is_valid = False`                                          |\n",
        "| `None`        | Representa um valor nulo ou ausência de valor.               | Valor                     | `result = None`                                             |\n",
        "| `True`        | Representa o valor booleano verdadeiro.                      | Valor                     | `is_active = True`                                          |\n",
        "| `and`         | Operador lógico E (conjunção).                                | Operador                  | `if idade > 18 and tem_licenca:`                            |\n",
        "| `as`          | Cria um alias durante importações ou com `with`.             | Estrutura                 | `import numpy as np`, `with open(...) as f:`                |\n",
        "| `assert`      | Usado para depuração; testa se uma condição é verdadeira.      | Tratamento de Exceções    | `assert contador > 0, \"Contador deve ser positivo\"`         |\n",
        "| `async`       | Define uma função ou método como assíncrono (corrotina).     | Assíncrono                | `async def minha_corrotina():`                              |\n",
        "| `await`       | Pausa a execução de uma corrotina esperando por outra.        | Assíncrono                | `resultado = await alguma_operacao_assincrona()`            |\n",
        "| `break`       | Termina imediatamente o loop (`for` ou `while`) mais interno. | Iteração                  | `for i in range(10): if i == 5: break`                      |\n",
        "| `class`       | Define uma nova classe.                                      | Estrutura                 | `class MinhaClasse:`                                        |\n",
        "| `continue`    | Salta para a próxima iteração do loop mais interno.         | Iteração                  | `for i in range(10): if i % 2 == 0: continue`             |\n",
        "| `def`         | Define uma nova função ou método.                            | Estrutura                 | `def minha_funcao(x):`                                      |\n",
        "| `del`         | Deleta uma referência a um objeto (variável, item de lista, etc.). | Manipulação de Variáveis | `del minha_variavel`                                        |\n",
        "| `elif`        | Condição \"senão se\" em um bloco `if`.                        | Controle de Fluxo         | `if x > 5:... elif x == 5:`                                 |\n",
        "| `else`        | Bloco executado se a condição `if`/`elif` for falsa; ou após loop terminar sem `break`; ou após `try` sem exceção. | Controle de Fluxo, Iteração, Tratamento de Exceções | `if x > 5:... else:`, `for i in range(5):... else:`, `try:... except:... else:` |\n",
        "| `except`      | Captura exceções específicas em um bloco `try`.              | Tratamento de Exceções    | `try:... except ValueError:`                                |\n",
        "| `finally`     | Bloco sempre executado após `try`/`except`, haja ou não exceção. | Tratamento de Exceções    | `try:... finally:`                                          |\n",
        "| `for`         | Cria um loop que itera sobre uma sequência ou iterável.      | Iteração                  | `for item in minha_lista:`                                  |\n",
        "| `from`        | Importa partes específicas de um módulo.                     | Importação                | `from math import sqrt`                                     |\n",
        "| `global`      | Declara que uma variável dentro de uma função é global.      | Manipulação de Variáveis | `global contador`                                           |\n",
        "| `if`          | Cria uma instrução condicional.                              | Controle de Fluxo         | `if condicao:`                                              |\n",
        "| `import`      | Importa um módulo inteiro.                                   | Importação                | `import os`                                                 |\n",
        "| `in`          | Verifica se um valor está presente em uma sequência/coleção. | Operador, Iteração        | `if 'a' in 'abc':`, `for item in meu_dicionario:`           |\n",
        "| `is`          | Testa se duas variáveis referenciam o mesmo objeto (identidade). | Operador                  | `if x is None:`                                             |\n",
        "| `lambda`      | Define uma função anônima (pequena, de uma linha).           | Estrutura                 | `quadrado = lambda x: x * x`                                |\n",
        "| `nonlocal`    | Declara que uma variável pertence ao escopo da função envolvente (não global). | Manipulação de Variáveis | `nonlocal variavel_externa`                             |\n",
        "| `not`         | Operador lógico NÃO (negação).                               | Operador                  | `if not esta_vazio:`                                        |\n",
        "| `or`          | Operador lógico OU (disjunção).                              | Operador                  | `if x == 1 or y == 2:`                                      |\n",
        "| `pass`        | Uma instrução nula; não faz nada (usada como placeholder).   | Estrutura                 | `if condicao: pass`, `def funcao_vazia(): pass`           |\n",
        "| `raise`       | Levanta (dispara) uma exceção manualmente.                   | Tratamento de Exceções    | `raise ValueError(\"Valor inválido\")`                        |\n",
        "| `return`      | Sai de uma função ou método, opcionalmente retornando um valor. | Retorno                   | `return resultado`                                          |\n",
        "| `try`         | Inicia um bloco para tratamento de exceções.                 | Tratamento de Exceções    | `try:`                                                      |\n",
        "| `while`       | Cria um loop que executa enquanto uma condição for verdadeira. | Iteração                  | `while contador < 10:`                                      |\n",
        "| `with`        | Simplifica o gerenciamento de recursos (gerenciadores de contexto). | Estrutura                 | `with open(\"arquivo.txt\", \"r\") as f:`                       |\n",
        "| `yield`       | Pausa uma função e retorna um valor (usado para criar geradores). | Retorno                   | `yield item`                                                |\n",
        "\n",
        "Esta tabela fornece uma referência organizada e abrangente para todas as palavras-chave em Python, suas descrições, categorias e exemplos de uso típicos. Isso é inestimável para iniciantes entenderem rapidamente o propósito de cada palavra-chave.\n",
        "\n",
        "**3. Palavras-chave em Ação: Exemplos de Uso em Diferentes Contextos**\n",
        "\n",
        "Aqui estão exemplos rápidos ilustrando algumas categorias principais de palavras-chave:\n",
        "\n",
        "* **Controle de fluxo (`if`, `elif`, `else`):**"
      ],
      "metadata": {
        "id": "lSCCLzcohriH"
      }
    },
    {
      "cell_type": "code",
      "source": [
        "idade = 20\n",
        "if idade < 13:\n",
        "    print(\"Criança\")\n",
        "elif idade < 18:\n",
        "    print(\"Adolescente\")\n",
        "else:\n",
        "    print(\"Adulto\")"
      ],
      "outputs": [
        {
          "output_type": "stream",
          "name": "stdout",
          "text": [
            "Adulto\n"
          ]
        }
      ],
      "execution_count": 138,
      "metadata": {
        "id": "C_KR9rSYhriH",
        "colab": {
          "base_uri": "https://localhost:8080/"
        },
        "outputId": "656330ec-6062-45c2-a4a2-aa9c3de43c41"
      }
    },
    {
      "cell_type": "markdown",
      "source": [
        "* **Iteração (`for`, `while`, `break`, `continue`):**"
      ],
      "metadata": {
        "id": "4LCeMWZAhriI"
      }
    },
    {
      "cell_type": "code",
      "source": [
        "# For loop\n",
        "print(\"Contagem com for:\")\n",
        "for i in range(5):\n",
        "    if i == 3:\n",
        "        continue # Pula a impressão do 3\n",
        "    print(i)\n",
        "    if i == 4:\n",
        "        break # Sai do loop após imprimir 4\n",
        "else:\n",
        "    print(\"Loop for completou (não executado devido ao break)\")\n",
        "\n",
        "# While loop\n",
        "print(\"\\nContagem com while:\")\n",
        "contador = 0\n",
        "while contador < 5:\n",
        "    print(contador)\n",
        "    contador += 1\n",
        "else:\n",
        "    print(\"Loop while completou\") # Executado pois não houve break"
      ],
      "outputs": [
        {
          "output_type": "stream",
          "name": "stdout",
          "text": [
            "Contagem com for:\n",
            "0\n",
            "1\n",
            "2\n",
            "4\n",
            "\n",
            "Contagem com while:\n",
            "0\n",
            "1\n",
            "2\n",
            "3\n",
            "4\n",
            "Loop while completou\n"
          ]
        }
      ],
      "execution_count": 139,
      "metadata": {
        "id": "FanzuExShriI",
        "colab": {
          "base_uri": "https://localhost:8080/"
        },
        "outputId": "b63f6ae8-0adf-4756-d0a6-d759c5cbb2dd"
      }
    },
    {
      "cell_type": "markdown",
      "source": [
        "* **Definição de função (`def`, `return`, `lambda`):**"
      ],
      "metadata": {
        "id": "rQmKdLhrhriI"
      }
    },
    {
      "cell_type": "code",
      "source": [
        "def somar(a, b):\n",
        "        return a + b\n",
        "\n",
        "resultado = somar(5, 3)\n",
        "print(f\"Soma (def): {resultado}\") # Saída: 8\n",
        "\n",
        "multiplicar = lambda x, y: x * y\n",
        "resultado_lambda = multiplicar(5, 3)\n",
        "print(f\"Multiplicação (lambda): {resultado_lambda}\") # Saída: 15"
      ],
      "outputs": [
        {
          "output_type": "stream",
          "name": "stdout",
          "text": [
            "Soma (def): 8\n",
            "Multiplicação (lambda): 15\n"
          ]
        }
      ],
      "execution_count": 140,
      "metadata": {
        "id": "KVLa714fhriI",
        "colab": {
          "base_uri": "https://localhost:8080/"
        },
        "outputId": "12b43191-d7e0-44e4-d849-489185e82eb6"
      }
    },
    {
      "cell_type": "markdown",
      "source": [
        "* **Definição de classe (`class`):**"
      ],
      "metadata": {
        "id": "tZy7SeW4hriJ"
      }
    },
    {
      "cell_type": "code",
      "source": [
        "class Cachorro:\n",
        "  def __init__(self, nome): # Método especial (construtor)\n",
        "      self.nome = nome\n",
        "\n",
        "  def latir(self):\n",
        "      print(f\"{self.nome} diz: Au au!\")\n",
        "\n",
        "meu_cachorro = Cachorro(\"Rex\")\n",
        "meu_cachorro.latir() # Saída: Rex diz: Au au!"
      ],
      "outputs": [
        {
          "output_type": "stream",
          "name": "stdout",
          "text": [
            "Rex diz: Au au!\n"
          ]
        }
      ],
      "execution_count": 141,
      "metadata": {
        "id": "_Fz9-lKEhriJ",
        "colab": {
          "base_uri": "https://localhost:8080/"
        },
        "outputId": "b74c6fc7-3e66-45cb-ad90-1d8f48e4fd64"
      }
    },
    {
      "cell_type": "markdown",
      "source": [
        "* **Tratamento de exceções (`try`, `except`, `finally`, `raise`):**"
      ],
      "metadata": {
        "id": "Lzc2jwiUhriJ"
      }
    },
    {
      "cell_type": "code",
      "source": [
        "try:\n",
        "    numero = int(\"abc\") # Isso causará um ValueError\n",
        "except ValueError:\n",
        "    print(\"Erro: Entrada inválida, não é um número.\")\n",
        "except Exception as e: # Captura outras exceções\n",
        "    print(f\"Ocorreu um erro inesperado: {e}\")\n",
        "finally:\n",
        "    print(\"Bloco finally sempre executa.\")\n",
        "\n",
        "# Exemplo com raise\n",
        "def dividir(a, b):\n",
        "    if b == 0:\n",
        "        raise ZeroDivisionError(\"Não é possível dividir por zero!\")\n",
        "    return a / b\n",
        "\n",
        "try:\n",
        "    print(dividir(10, 0))\n",
        "except ZeroDivisionError as e:\n",
        "    print(f\"Erro ao dividir: {e}\")"
      ],
      "outputs": [
        {
          "output_type": "stream",
          "name": "stdout",
          "text": [
            "Erro: Entrada inválida, não é um número.\n",
            "Bloco finally sempre executa.\n",
            "Erro ao dividir: Não é possível dividir por zero!\n"
          ]
        }
      ],
      "execution_count": 142,
      "metadata": {
        "id": "7Ks76em3hriK",
        "colab": {
          "base_uri": "https://localhost:8080/"
        },
        "outputId": "7c1efbe6-8b94-423b-e0b3-ac2d32d4938d"
      }
    },
    {
      "cell_type": "markdown",
      "source": [
        "* **Importação de módulos (`import`, `from`, `as`):**"
      ],
      "metadata": {
        "id": "8B4uTUmThriK"
      }
    },
    {
      "cell_type": "code",
      "source": [
        "import math\n",
        "print(f\"Raiz quadrada de 16: {math.sqrt(16)}\")\n",
        "\n",
        "from os import getcwd # Importa apenas getcwd do módulo os\n",
        "print(f\"Diretório atual: {getcwd()}\")\n",
        "\n",
        "import pandas as pd # Importa pandas com o alias pd\n",
        "# df = pd.DataFrame(...) # Exemplo de uso do alias"
      ],
      "outputs": [
        {
          "output_type": "stream",
          "name": "stdout",
          "text": [
            "Raiz quadrada de 16: 4.0\n",
            "Diretório atual: /content\n"
          ]
        }
      ],
      "execution_count": 143,
      "metadata": {
        "id": "N4SaKmr_hriK",
        "colab": {
          "base_uri": "https://localhost:8080/"
        },
        "outputId": "48b07e34-d919-417f-cd3d-717edd6390c1"
      }
    },
    {
      "cell_type": "markdown",
      "source": [
        "* **Gerenciamento de contexto (`with`, `as`):**"
      ],
      "metadata": {
        "id": "C0l5FZQNhriL"
      }
    },
    {
      "cell_type": "code",
      "source": [
        "# Garante que o arquivo será fechado mesmo se ocorrerem erros\n",
        "try:\n",
        "    with open(\"meu_arquivo_temp.txt\", \"w\") as arquivo:\n",
        "        arquivo.write(\"Olá, gerenciador de contexto!\")\n",
        "    # Arquivo é automaticamente fechado aqui\n",
        "    print(\"Arquivo escrito e fechado com sucesso.\")\n",
        "except IOError as e:\n",
        "    print(f\"Erro ao lidar com o arquivo: {e}\")"
      ],
      "outputs": [
        {
          "output_type": "stream",
          "name": "stdout",
          "text": [
            "Arquivo escrito e fechado com sucesso.\n"
          ]
        }
      ],
      "execution_count": 144,
      "metadata": {
        "id": "lPPUQoN8hriM",
        "colab": {
          "base_uri": "https://localhost:8080/"
        },
        "outputId": "8125be86-dd27-46db-c510-b162e730ed90"
      }
    },
    {
      "cell_type": "markdown",
      "source": [
        "* **Operações lógicas e booleanas (`and`, `or`, `not`, `in`, `is`, `True`, `False`, `None`):**"
      ],
      "metadata": {
        "id": "0XrZqUIWhriM"
      }
    },
    {
      "cell_type": "code",
      "source": [
        "a = True\n",
        "b = False\n",
        "lista = [1, 2, 3]\n",
        "objeto1 = None\n",
        "objeto2 = None\n",
        "\n",
        "print(f\"a and b: {a and b}\")       # Saída: False\n",
        "print(f\"a or b: {a or b}\")         # Saída: True\n",
        "print(f\"not a: {not a}\")           # Saída: False\n",
        "print(f\"2 in lista: {2 in lista}\") # Saída: True\n",
        "print(f\"objeto1 is None: {objeto1 is None}\") # Saída: True\n",
        "print(f\"objeto1 is objeto2: {objeto1 is objeto2}\") # Saída: True (None é singleton)"
      ],
      "outputs": [
        {
          "output_type": "stream",
          "name": "stdout",
          "text": [
            "a and b: False\n",
            "a or b: True\n",
            "not a: False\n",
            "2 in lista: True\n",
            "objeto1 is None: True\n",
            "objeto1 is objeto2: True\n"
          ]
        }
      ],
      "execution_count": 145,
      "metadata": {
        "id": "MXGvPAZLhriM",
        "colab": {
          "base_uri": "https://localhost:8080/"
        },
        "outputId": "9f279976-bd21-45b6-927f-750360dac65f"
      }
    },
    {
      "cell_type": "markdown",
      "source": [
        "**III. Operadores em Python**\n",
        "\n",
        "**A. Introdução aos Operadores**\n",
        "\n",
        "Os operadores são símbolos especiais em Python que realizam operações em operandos (valores ou variáveis).⁴⁰ Eles são categorizados com base em sua funcionalidade.\n",
        "\n",
        "**B. Tipos de Operadores**\n",
        "\n",
        "**1. Operadores Aritméticos**\n",
        "\n",
        "Usados para cálculos matemáticos básicos.¹\n",
        "\n",
        "| Operador | Operação              | Exemplo | Resultado |\n",
        "| :------- | :-------------------- | :------ | :-------- |\n",
        "| `+`      | Adição                | `5 + 2` | `7`       |\n",
        "| `-`      | Subtração             | `4 - 2` | `2`       |\n",
        "| `*`      | Multiplicação         | `2 * 3` | `6`       |\n",
        "| `/`      | Divisão (float)       | `4 / 2` | `2.0`     |\n",
        "| `//`     | Divisão Inteira       | `10 // 3` | `3`       |\n",
        "| `%`      | Módulo (Resto)        | `5 % 2` | `1`       |\n",
        "| `**`     | Potência (Exponenciação) | `4 ** 2` | `16`      |"
      ],
      "metadata": {
        "id": "DLShCFNQhriM"
      }
    },
    {
      "cell_type": "code",
      "source": [
        "# Exemplos de Operadores Aritméticos\n",
        "a = 15\n",
        "b = 4\n",
        "\n",
        "print(f\"{a} + {b} = {a + b}\")   # Saída: 15 + 4 = 19\n",
        "print(f\"{a} - {b} = {a - b}\")   # Saída: 15 - 4 = 11\n",
        "print(f\"{a} * {b} = {a * b}\")   # Saída: 15 * 4 = 60\n",
        "print(f\"{a} / {b} = {a / b}\")   # Saída: 15 / 4 = 3.75 (divisão float)\n",
        "print(f\"{a} // {b} = {a // b}\") # Saída: 15 // 4 = 3 (divisão inteira)\n",
        "print(f\"{a} % {b} = {a % b}\")   # Saída: 15 % 4 = 3 (resto)\n",
        "print(f\"{a} ** {b} = {a ** b}\") # Saída: 15 ** 4 = 50625 (15 elevado a 4)"
      ],
      "outputs": [
        {
          "output_type": "stream",
          "name": "stdout",
          "text": [
            "15 + 4 = 19\n",
            "15 - 4 = 11\n",
            "15 * 4 = 60\n",
            "15 / 4 = 3.75\n",
            "15 // 4 = 3\n",
            "15 % 4 = 3\n",
            "15 ** 4 = 50625\n"
          ]
        }
      ],
      "execution_count": 146,
      "metadata": {
        "id": "o2m2hQrahriM",
        "colab": {
          "base_uri": "https://localhost:8080/"
        },
        "outputId": "94666e86-c918-4808-f4b9-f3ec8a6029e3"
      }
    },
    {
      "cell_type": "markdown",
      "source": [
        "Durante operações aritméticas envolvendo operandos de diferentes tipos numéricos, ocorre uma conversão implícita de tipo para o tipo mais \"amplo\" (por exemplo, inteiro + float resulta em float).\\[48, 49, 50] É importante notar a diferença entre a divisão padrão (`/`), que sempre retorna um float, e a divisão inteira (`//`), que retorna um inteiro truncado.\n",
        "\n",
        "**2. Operadores de Comparação**\n",
        "\n",
        "Usados para comparar dois valores, retornando `True` ou `False`.\\[41, 51, 52, 53, 54, 55]\n",
        "\n",
        "| Operador | Significado         | Exemplo | Resultado |\n",
        "| :------- | :------------------ | :------ | :-------- |\n",
        "| `==`     | Igual a             | `3 == 5`| `False`   |\n",
        "| `!=`     | Diferente de        | `3 != 5`| `True`    |\n",
        "| `>`      | Maior que           | `3 > 5` | `False`   |\n",
        "| `<`      | Menor que           | `3 < 5` | `True`    |\n",
        "| `>=`     | Maior ou igual a    | `3 >= 5`| `False`   |\n",
        "| `<=`     | Menor ou igual a    | `3 <= 5`| `True`    |"
      ],
      "metadata": {
        "id": "OYCq3p5GhriN"
      }
    },
    {
      "cell_type": "code",
      "source": [
        "# Exemplos de Operadores de Comparação\n",
        "x = 10\n",
        "y = 5\n",
        "z = 10\n",
        "\n",
        "print(f\"{x} == {y}: {x == y}\")  # Saída: 10 == 5: False\n",
        "print(f\"{x} != {y}: {x != y}\")  # Saída: 10 != 5: True\n",
        "print(f\"{x} > {y}: {x > y}\")    # Saída: 10 > 5: True\n",
        "print(f\"{x} < {y}: {x < y}\")    # Saída: 10 < 5: False\n",
        "print(f\"{x} >= {z}: {x >= z}\")  # Saída: 10 >= 10: True\n",
        "print(f\"{y} <= {z}: {y <= z}\")  # Saída: 5 <= 10: True\n",
        "\n",
        "# Comparação de strings (lexicográfica)\n",
        "print(f\"'banana' > 'abacaxi': {'banana' > 'abacaxi'}\") # Saída: True"
      ],
      "outputs": [
        {
          "output_type": "stream",
          "name": "stdout",
          "text": [
            "10 == 5: False\n",
            "10 != 5: True\n",
            "10 > 5: True\n",
            "10 < 5: False\n",
            "10 >= 10: True\n",
            "5 <= 10: True\n",
            "'banana' > 'abacaxi': True\n"
          ]
        }
      ],
      "execution_count": 147,
      "metadata": {
        "id": "l-DAXfithriT",
        "colab": {
          "base_uri": "https://localhost:8080/"
        },
        "outputId": "a79fb7f6-9e9f-4bb8-d21a-b7eb81b4df42"
      }
    },
    {
      "cell_type": "markdown",
      "source": [
        "Esses operadores são fundamentais para construir instruções de controle de fluxo (`if`, `while`).\n",
        "\n",
        "**3. Operadores Lógicos**\n",
        "\n",
        "Usados para combinar expressões booleanas (`and`, `or`, `not`).\\[37, 40, 41, 51]\n",
        "\n",
        "| Operador | Exemplo   | Significado                                              | Resultado (Tabela Verdade Simplificada)                         |\n",
        "| :------- | :-------- | :------------------------------------------------------- | :-------------------------------------------------------------- |\n",
        "| `and`    | `a and b` | Retorna `True` se **ambos** `a` e `b` forem verdadeiros.   | `True and True` -> `True`, outros casos -> `False`              |\n",
        "| `or`     | `a or b`  | Retorna `True` se **pelo menos um** entre `a` e `b` for verdadeiro. | `False or False` -> `False`, outros casos -> `True`             |\n",
        "| `not`    | `not a`   | Inverte o valor booleano de `a`.                         | `not True` -> `False`, `not False` -> `True`                      |"
      ],
      "metadata": {
        "id": "VJdEZm82hriU"
      }
    },
    {
      "cell_type": "code",
      "source": [
        "# Exemplos de Operadores Lógicos\n",
        "idade = 25\n",
        "tem_carteira = True\n",
        "esta_chovendo = False\n",
        "\n",
        "# and: Ambas as condições devem ser verdadeiras\n",
        "pode_dirigir = idade >= 18 and tem_carteira\n",
        "print(f\"Pode dirigir? {pode_dirigir}\") # Saída: True\n",
        "\n",
        "# or: Pelo menos uma condição deve ser verdadeira\n",
        "vai_sair = not esta_chovendo or tem_carteira\n",
        "print(f\"Vai sair? {vai_sair}\") # Saída: True (not esta_chovendo é True)\n",
        "\n",
        "# not: Inverte o valor\n",
        "nao_chove = not esta_chovendo\n",
        "print(f\"Não está chovendo? {nao_chove}\") # Saída: True\n",
        "\n",
        "# Curto-circuito:\n",
        "# 'or': Se o primeiro é True, o segundo não é avaliado\n",
        "resultado_or = True or (10 / 0) # Não dá erro ZeroDivisionError\n",
        "print(f\"Resultado OR com curto-circuito: {resultado_or}\") # Saída: True\n",
        "\n",
        "# 'and': Se o primeiro é False, o segundo não é avaliado\n",
        "resultado_and = False and (10 / 0) # Não dá erro ZeroDivisionError\n",
        "print(f\"Resultado AND com curto-circuito: {resultado_and}\") # Saída: False"
      ],
      "outputs": [
        {
          "output_type": "stream",
          "name": "stdout",
          "text": [
            "Pode dirigir? True\n",
            "Vai sair? True\n",
            "Não está chovendo? True\n",
            "Resultado OR com curto-circuito: True\n",
            "Resultado AND com curto-circuito: False\n"
          ]
        }
      ],
      "execution_count": 148,
      "metadata": {
        "id": "FpT0SYx0hriU",
        "colab": {
          "base_uri": "https://localhost:8080/"
        },
        "outputId": "a1cf0d6a-eca6-48d0-9e90-b23f6806f6fe"
      }
    },
    {
      "cell_type": "markdown",
      "source": [
        "Os operadores `and` e `or` seguem a lógica de curto-circuito.\n",
        "\n",
        "**4. Operadores de Atribuição**\n",
        "\n",
        "Usados para atribuir valores a variáveis. Incluem o `=` e operadores compostos.\\[41, 56, 57]\n",
        "\n",
        "| Operador | Exemplo     | Equivalente a | Descrição                     |\n",
        "| :------- | :---------- | :------------ | :---------------------------- |\n",
        "| `=`      | `x = 5`     | `x = 5`       | Atribuição simples            |\n",
        "| `+=`     | `x += 5`    | `x = x + 5`   | Adição e atribuição           |\n",
        "| `-=`     | `x -= 5`    | `x = x - 5`   | Subtração e atribuição        |\n",
        "| `*=`     | `x *= 5`    | `x = x * 5`   | Multiplicação e atribuição    |\n",
        "| `/=`     | `x /= 5`    | `x = x / 5`   | Divisão (float) e atribuição  |\n",
        "| `//=`    | `x //= 5`   | `x = x // 5`  | Divisão inteira e atribuição  |\n",
        "| `%=`     | `x %= 5`    | `x = x % 5`   | Módulo e atribuição           |\n",
        "| `**=`    | `x **= 5`   | `x = x ** 5`  | Exponenciação e atribuição    |\n",
        "| `&=`     | `x &= 5`    | `x = x & 5`   | AND bit a bit e atribuição    |\n",
        "| `|=`     | `x |= 5`    | `x = x | 5`   | OR bit a bit e atribuição     |\n",
        "| `^=`     | `x ^= 5`    | `x = x ^ 5`   | XOR bit a bit e atribuição    |\n",
        "| `>>=`    | `x >>= 5`   | `x = x >> 5`  | Desloc. à direita e atribuição |\n",
        "| `<<=`    | `x <<= 5`   | `x = x << 5`  | Desloc. à esquerda e atribuição|"
      ],
      "metadata": {
        "id": "9De1lfdlhriU"
      }
    },
    {
      "cell_type": "code",
      "source": [
        "# Exemplos de Operadores de Atribuição\n",
        "contador = 10\n",
        "print(f\"Inicial: {contador}\")\n",
        "\n",
        "contador += 5  # contador = contador + 5\n",
        "print(f\"+= 5: {contador}\") # Saída: 15\n",
        "\n",
        "contador -= 3  # contador = contador - 3\n",
        "print(f\"-= 3: {contador}\") # Saída: 12\n",
        "\n",
        "contador *= 2  # contador = contador * 2\n",
        "print(f\"*= 2: {contador}\") # Saída: 24\n",
        "\n",
        "contador //= 5 # contador = contador // 5\n",
        "print(f\"//= 5: {contador}\") # Saída: 4"
      ],
      "outputs": [
        {
          "output_type": "stream",
          "name": "stdout",
          "text": [
            "Inicial: 10\n",
            "+= 5: 15\n",
            "-= 3: 12\n",
            "*= 2: 24\n",
            "//= 5: 4\n"
          ]
        }
      ],
      "execution_count": 149,
      "metadata": {
        "id": "k2tnrG9khriV",
        "colab": {
          "base_uri": "https://localhost:8080/"
        },
        "outputId": "40e8d643-3efc-43d0-cbe4-cb13e0533842"
      }
    },
    {
      "cell_type": "markdown",
      "source": [
        "**5. Operadores Bit a Bit**\n",
        "\n",
        "Atuam sobre os operandos em nível de bits (representação binária).\\[41]\n",
        "\n",
        "| Operador | Nome                | Exemplo (x=10 `0b1010`, y=4 `0b0100`) | Resultado (Decimal) | Resultado (Binário) |\n",
        "| :------- | :------------------ | :---------------------------------- | :------------------ | :------------------ |\n",
        "| `&`      | AND Bit a Bit       | `x & y`                             | 0                   | `0b0000`            |\n",
        "| `|`      | OR Bit a Bit        | `x | y`                             | 14                  | `0b1110`            |\n",
        "| `^`      | XOR Bit a Bit       | `x ^ y`                             | 14                  | `0b1110`            |\n",
        "| `~`      | NOT Bit a Bit (Inversão) | `~x`                                | -11                 | `-0b1011`           |\n",
        "| `<<`     | Deslocamento à Esquerda | `x << 2`                            | 40                  | `0b101000`          |\n",
        "| `>>`     | Deslocamento à Direita  | `x >> 2`                            | 2                   | `0b10`              |"
      ],
      "metadata": {
        "id": "PIDmpybIhriV"
      }
    },
    {
      "cell_type": "code",
      "source": [
        "# Exemplos de Operadores Bit a Bit\n",
        "x = 10  # Binário: 1010\n",
        "y = 4   # Binário: 0100\n",
        "\n",
        "print(f\"x = {x} ({bin(x)}), y = {y} ({bin(y)})\")\n",
        "\n",
        "# AND (&) -> 1 se ambos os bits forem 1\n",
        "resultado_and = x & y  # 1010 & 0100 = 0000\n",
        "print(f\"x & y = {resultado_and} ({bin(resultado_and)})\") # Saída: 0 (0b0)\n",
        "\n",
        "# OR (|) -> 1 se pelo menos um bit for 1\n",
        "resultado_or = x | y   # 1010 | 0100 = 1110\n",
        "print(f\"x | y = {resultado_or} ({bin(resultado_or)})\") # Saída: 14 (0b1110)\n",
        "\n",
        "# XOR (^) -> 1 se os bits forem diferentes\n",
        "resultado_xor = x ^ y  # 1010 ^ 0100 = 1110\n",
        "print(f\"x ^ y = {resultado_xor} ({bin(resultado_xor)})\") # Saída: 14 (0b1110)\n",
        "\n",
        "# NOT (~) -> Inverte todos os bits (complemento de dois)\n",
        "resultado_not = ~x     # ~1010 = -(1010 + 1) = -1011\n",
        "print(f\"~x = {resultado_not} ({bin(resultado_not)})\") # Saída: -11 (-0b1011)\n",
        "\n",
        "# Left Shift (<<) -> Desloca bits para a esquerda (multiplica por 2^n)\n",
        "resultado_lshift = x << 2 # 1010 << 2 = 101000\n",
        "print(f\"x << 2 = {resultado_lshift} ({bin(resultado_lshift)})\") # Saída: 40 (0b101000)\n",
        "\n",
        "# Right Shift (>>) -> Desloca bits para a direita (divide por 2^n, parte inteira)\n",
        "resultado_rshift = x >> 1 # 1010 >> 1 = 0101\n",
        "print(f\"x >> 1 = {resultado_rshift} ({bin(resultado_rshift)})\") # Saída: 5 (0b101)"
      ],
      "outputs": [
        {
          "output_type": "stream",
          "name": "stdout",
          "text": [
            "x = 10 (0b1010), y = 4 (0b100)\n",
            "x & y = 0 (0b0)\n",
            "x | y = 14 (0b1110)\n",
            "x ^ y = 14 (0b1110)\n",
            "~x = -11 (-0b1011)\n",
            "x << 2 = 40 (0b101000)\n",
            "x >> 1 = 5 (0b101)\n"
          ]
        }
      ],
      "execution_count": 150,
      "metadata": {
        "id": "s15u07nuhriV",
        "colab": {
          "base_uri": "https://localhost:8080/"
        },
        "outputId": "72b4e82c-909f-4d93-9de1-45441609b78d"
      }
    },
    {
      "cell_type": "markdown",
      "source": [
        "**6. Operadores de Identidade**\n",
        "\n",
        "Verificam se duas variáveis referenciam o *mesmo objeto* na memória (`is`, `is not`).\\[41] Diferente de `==` (igualdade de valor).\n",
        "\n",
        "| Operador | Significado                                              | Exemplo (Veja código abaixo)                                    |\n",
        "| :------- | :------------------------------------------------------- | :-------------------------------------------------------------- |\n",
        "| `is`     | Verdadeiro se os operandos são o **mesmo objeto**.      | `lista1 is lista2` (geralmente `False` para listas criadas separadamente) |\n",
        "| `is not` | Verdadeiro se os operandos são **objetos diferentes**. | `lista1 is not lista3` (geralmente `True` se `lista3 = lista1[:]`)  |"
      ],
      "metadata": {
        "id": "H58E3ujKhriW"
      }
    },
    {
      "cell_type": "code",
      "source": [
        "# Exemplos de Operadores de Identidade\n",
        "lista_a = [1, 2, 3]\n",
        "lista_b = [1, 2, 3]\n",
        "lista_c = lista_a # lista_c agora aponta para o MESMO objeto que lista_a\n",
        "\n",
        "# Comparação de valor (==)\n",
        "print(f\"lista_a == lista_b: {lista_a == lista_b}\") # Saída: True (conteúdo é igual)\n",
        "print(f\"lista_a == lista_c: {lista_a == lista_c}\") # Saída: True (conteúdo é igual)\n",
        "\n",
        "# Comparação de identidade (is)\n",
        "print(f\"lista_a is lista_b: {lista_a is lista_b}\") # Saída: False (são objetos diferentes na memória)\n",
        "print(f\"lista_a is lista_c: {lista_a is lista_c}\") # Saída: True (referenciam o mesmo objeto)\n",
        "\n",
        "# 'is' é frequentemente usado para comparar com None (que é um objeto único - singleton)\n",
        "valor = None\n",
        "print(f\"valor is None: {valor is None}\") # Saída: True\n",
        "\n",
        "# Inteiros pequenos e strings curtas podem ser \"internados\" pelo Python (reutilizados),\n",
        "# então 'is' pode retornar True inesperadamente para eles. Não confie nisso.\n",
        "x = 256\n",
        "y = 256\n",
        "print(f\"x is y (para 256): {x is y}\") # Saída: True (provavelmente, depende da implementação)\n",
        "\n",
        "a = 257\n",
        "b = 257\n",
        "print(f\"a is b (para 257): {a is b}\") # Saída: False (provavelmente)"
      ],
      "outputs": [
        {
          "output_type": "stream",
          "name": "stdout",
          "text": [
            "lista_a == lista_b: True\n",
            "lista_a == lista_c: True\n",
            "lista_a is lista_b: False\n",
            "lista_a is lista_c: True\n",
            "valor is None: True\n",
            "x is y (para 256): True\n",
            "a is b (para 257): False\n"
          ]
        }
      ],
      "execution_count": 151,
      "metadata": {
        "id": "oW3O05CJhriX",
        "colab": {
          "base_uri": "https://localhost:8080/"
        },
        "outputId": "02f98815-f073-4497-8129-d8952dcc6f42"
      }
    },
    {
      "cell_type": "markdown",
      "source": [
        "**7. Operadores de Associação**\n",
        "\n",
        "Verificam se um valor está presente em uma sequência (`in`, `not in`).\\[41]\n",
        "\n",
        "| Operador | Significado                                      | Exemplo (x = \\[1, 2, 3], y = 'a', z = {'a': 1}) | Resultado |\n",
        "| :------- | :----------------------------------------------- | :--------------------------------------------- | :-------- |\n",
        "| `in`     | Verdadeiro se o valor for encontrado na sequência. | `2 in x`, `'a' in z` (verifica chaves)         | `True`    |\n",
        "| `not in` | Verdadeiro se o valor **não** for encontrado.    | `'b' not in z`                                   | `True`    |"
      ],
      "metadata": {
        "id": "BclOYGY3hriX"
      }
    },
    {
      "cell_type": "code",
      "source": [
        "# Exemplos de Operadores de Associação\n",
        "minha_lista = [10, 20, 30, 40]\n",
        "minha_string = \"Olá Mundo\"\n",
        "meu_dicionario = {\"nome\": \"Carlos\", \"idade\": 42}\n",
        "\n",
        "# Verificando em lista\n",
        "print(f\"30 in minha_lista? {30 in minha_lista}\")     # Saída: True\n",
        "print(f\"50 not in minha_lista? {50 not in minha_lista}\") # Saída: True\n",
        "\n",
        "# Verificando em string\n",
        "print(f\"'Mundo' in minha_string? {'Mundo' in minha_string}\") # Saída: True\n",
        "print(f\"'python' not in minha_string? {'python' not in minha_string}\") # Saída: True\n",
        "\n",
        "# Verificando em dicionário (verifica CHAVES por padrão)\n",
        "print(f\"'nome' in meu_dicionario? {'nome' in meu_dicionario}\") # Saída: True\n",
        "print(f\"'Carlos' in meu_dicionario? {'Carlos' in meu_dicionario}\") # Saída: False (não verifica valores diretamente)\n",
        "\n",
        "# Para verificar valores no dicionário:\n",
        "print(f\"'Carlos' in meu_dicionario.values()? {'Carlos' in meu_dicionario.values()}\") # Saída: True"
      ],
      "outputs": [
        {
          "output_type": "stream",
          "name": "stdout",
          "text": [
            "30 in minha_lista? True\n",
            "50 not in minha_lista? True\n",
            "'Mundo' in minha_string? True\n",
            "'python' not in minha_string? True\n",
            "'nome' in meu_dicionario? True\n",
            "'Carlos' in meu_dicionario? False\n",
            "'Carlos' in meu_dicionario.values()? True\n"
          ]
        }
      ],
      "execution_count": 152,
      "metadata": {
        "id": "_znwUAcFhriY",
        "colab": {
          "base_uri": "https://localhost:8080/"
        },
        "outputId": "27474a67-fd02-4bcd-cb4b-c2531218c97e"
      }
    },
    {
      "cell_type": "markdown",
      "source": [
        "**C. Ordem de Precedência dos Operadores**\n",
        "\n",
        "Determina a ordem em que as operações são avaliadas em expressões complexas.⁴¹ Operadores com maior precedência são avaliados primeiro. Parênteses `()` podem ser usados para alterar a ordem.\n",
        "\n",
        "| Nível | Categoria                     | Operadores                                                   | Associatividade       |\n",
        "| :---- | :---------------------------- | :----------------------------------------------------------- | :-------------------- |\n",
        "| 8     | Parênteses                    | `()`                                                         | N/A                   |\n",
        "| 7     | Chamada de Função, Slicing, Atributo | `f()`, `x[i]`, `x[i:j]`, `x.attr`                        | Esquerda para direita |\n",
        "| 6     | Exponenciação                 | `**`                                                         | Direita para esquerda |\n",
        "| 5     | Unário Positivo/Negativo, Bitwise NOT | `+x`, `-x`, `~x`                                         | Direita para esquerda |\n",
        "| 4     | Multiplicação, Divisão, Módulo | `*`, `/`, `//`, `%`                                        | Esquerda para direita |\n",
        "| 3     | Adição, Subtração             | `+`, `-`                                                     | Esquerda para direita |\n",
        "| 2     | Deslocamento Bit a Bit        | `<<`, `>>`                                                   | Esquerda para direita |\n",
        "| 1     | Bitwise AND                   | `&`                                                          | Esquerda para direita |\n",
        "| 0     | Bitwise XOR                   | `^`                                                          | Esquerda para direita |\n",
        "| -1    | Bitwise OR                    | `|`                                                          | Esquerda para direita |\n",
        "| -2    | Comparações, Identidade, Associação | `==`, `!=`, `<`, `<=`, `>`, `>=`, `is`, `is not`, `in`, `not in` | Esquerda para direita\\* |\n",
        "| -3    | Boolean NOT                   | `not`                                                        | Direita para esquerda |\n",
        "| -4    | Boolean AND                   | `and`                                                        | Esquerda para direita |\n",
        "| -5    | Boolean OR                    | `or`                                                         | Esquerda para direita |\n",
        "| -6    | Condicional (Ternário)        | `x if C else y`                                              | Direita para esquerda |\n",
        "| -7    | Lambda                        | `lambda`                                                     | N/A                   |\n",
        "| -8    | Atribuição                    | `=`, `+=`, `-=`, `*=`, `/=`, `//=`, `%=`, `**=`, `&=`, `|=`, `^=`, `>>=`, `<<=` | Direita para esquerda |\n",
        "\n",
        "\\* Comparações podem ser encadeadas (ex: `a < b <= c`), o que é uma exceção à associatividade padrão."
      ],
      "metadata": {
        "id": "8aelNZVchriY"
      }
    },
    {
      "cell_type": "code",
      "source": [
        "# Exemplo de Precedência\n",
        "resultado = 5 + 3 * 2  # Multiplicação (*) tem precedência maior que adição (+)\n",
        "print(f\"5 + 3 * 2 = {resultado}\") # Saída: 11 (3 * 2 é 6, depois 5 + 6)\n",
        "\n",
        "resultado_com_parenteses = (5 + 3) * 2 # Parênteses alteram a ordem\n",
        "print(f\"(5 + 3) * 2 = {resultado_com_parenteses}\") # Saída: 16 (5 + 3 é 8, depois 8 * 2)\n",
        "\n",
        "# Exemplo com operadores lógicos e comparação\n",
        "x = 10\n",
        "y = 5\n",
        "z = 2\n",
        "print(x > y and y > z) # Saída: True (True and True)\n",
        "print(not x == y or y < z) # not tem precedência maior, depois <, depois or\n",
        "# not (10 == 5) -> not False -> True\n",
        "# 5 < 2 -> False\n",
        "# True or False -> True\n",
        "print(f\"not x == y or y < z: {not x == y or y < z}\") # Saída: True"
      ],
      "outputs": [
        {
          "output_type": "stream",
          "name": "stdout",
          "text": [
            "5 + 3 * 2 = 11\n",
            "(5 + 3) * 2 = 16\n",
            "True\n",
            "True\n",
            "not x == y or y < z: True\n"
          ]
        }
      ],
      "execution_count": 153,
      "metadata": {
        "id": "KyPdmu5DhriY",
        "colab": {
          "base_uri": "https://localhost:8080/"
        },
        "outputId": "cfc88d79-aee5-421d-a9dd-29730e2fbfe2"
      }
    },
    {
      "cell_type": "markdown",
      "source": [
        "**IV. Tipos de Dados em Python**\n",
        "\n",
        "**A. Tipos de Dados Embutidos**\n",
        "\n",
        "Python oferece diversos tipos de dados embutidos para representar diferentes informações.²⁶\n",
        "\n",
        "**B. Tipos Numéricos**\n",
        "\n",
        "**1. `int` (Inteiro)**\n",
        "\n",
        "Representa números inteiros (positivos, negativos, zero) de precisão arbitrária (limitada apenas pela memória disponível).²⁶"
      ],
      "metadata": {
        "id": "mbHEB5dehriY"
      }
    },
    {
      "cell_type": "code",
      "source": [
        "# Criação de int\n",
        "idade = 35\n",
        "ano = -2024\n",
        "populacao_mundial = 8_000_000_000 # Underscore para legibilidade\n",
        "numero_grande = 123456789012345678901234567890\n",
        "\n",
        "print(type(idade)) # Saída: <class 'int'>\n",
        "print(populacao_mundial)\n",
        "\n",
        "# Conversão para int\n",
        "numero_texto = \"100\"\n",
        "numero_int = int(numero_texto)\n",
        "print(numero_int + 50) # Saída: 150\n",
        "\n",
        "pi_truncado = int(3.14159)\n",
        "print(pi_truncado) # Saída: 3"
      ],
      "outputs": [
        {
          "output_type": "stream",
          "name": "stdout",
          "text": [
            "<class 'int'>\n",
            "8000000000\n",
            "150\n",
            "3\n"
          ]
        }
      ],
      "execution_count": 154,
      "metadata": {
        "id": "BEPXo3dohriZ",
        "colab": {
          "base_uri": "https://localhost:8080/"
        },
        "outputId": "e63bc53f-9a91-4af5-c1f9-8746afa49455"
      }
    },
    {
      "cell_type": "markdown",
      "source": [
        "* **Propriedades:** Imutável (não pode ser alterado após criado; operações criam novos ints), precisão ilimitada.\n",
        "* **Operações comuns:** Aritméticas (`+`, `-`, `*`, `/`, `//`, `%`, `**`), comparações, bit a bit.\n",
        "\n",
        "**2. `float` (Ponto Flutuante)**\n",
        "\n",
        "Representa números reais com parte decimal. Geralmente implementados como números de ponto flutuante de precisão dupla (64 bits) segundo o padrão IEEE 754.²⁶ Precisão finita (cerca de 15-16 dígitos decimais)."
      ],
      "metadata": {
        "id": "5x_uqTqdhriZ"
      }
    },
    {
      "cell_type": "code",
      "source": [
        "# Criação de float\n",
        "preco = 99.90\n",
        "temperatura = -5.5\n",
        "pi = 3.14159\n",
        "distancia_km = 1.5e3 # Notação científica: 1.5 * 10^3 = 1500.0\n",
        "\n",
        "print(type(preco)) # Saída: <class 'float'>\n",
        "print(distancia_km) # Saída: 1500.0\n",
        "\n",
        "# Conversão para float\n",
        "numero_int = 10\n",
        "numero_float = float(numero_int)\n",
        "print(numero_float) # Saída: 10.0\n",
        "\n",
        "texto_float = \"2.718\"\n",
        "euler = float(texto_float)\n",
        "print(euler) # Saída: 2.718\n",
        "\n",
        "# Cuidado com a precisão!\n",
        "print(0.1 + 0.1 + 0.1) # Saída: 0.30000000000000004 (não exatamente 0.3)\n",
        "print(0.1 + 0.2 == 0.3) # Saída: False\n",
        "# Para comparações financeiras ou científicas, use o módulo 'decimal' ou verifique a proximidade."
      ],
      "outputs": [
        {
          "output_type": "stream",
          "name": "stdout",
          "text": [
            "<class 'float'>\n",
            "1500.0\n",
            "10.0\n",
            "2.718\n",
            "0.30000000000000004\n",
            "False\n"
          ]
        }
      ],
      "execution_count": 155,
      "metadata": {
        "id": "R1_MYBU5hriZ",
        "colab": {
          "base_uri": "https://localhost:8080/"
        },
        "outputId": "39ea99fc-2afb-425b-d06e-6f87f78ccfe8"
      }
    },
    {
      "cell_type": "markdown",
      "source": [
        "* **Propriedades:** Imutável, precisão finita.\n",
        "* **Operações comuns:** Aritméticas, comparações.\n",
        "\n",
        "**3. `complex` (Complexo)**\n",
        "\n",
        "Representa números complexos no formato `a + bj`, onde `a` é a parte real e `b` é a parte imaginária. `j` representa a unidade imaginária (raiz quadrada de -1).²⁶"
      ],
      "metadata": {
        "id": "jPRwqHKGhriZ"
      }
    },
    {
      "cell_type": "code",
      "source": [
        "# Criação de complex\n",
        "num_complexo1 = 2 + 3j\n",
        "num_complexo2 = complex(5, -1) # Parte real 5, parte imaginária -1\n",
        "\n",
        "print(type(num_complexo1)) # Saída: <class 'complex'>\n",
        "print(num_complexo2)       # Saída: (5-1j)\n",
        "\n",
        "# Acessando partes real e imaginária\n",
        "print(f\"Real: {num_complexo1.real}\")     # Saída: 2.0 (sempre float)\n",
        "print(f\"Imaginária: {num_complexo1.imag}\") # Saída: 3.0 (sempre float)\n",
        "\n",
        "# Operações\n",
        "soma = num_complexo1 + num_complexo2\n",
        "print(f\"Soma: {soma}\") # Saída: (7+2j)\n",
        "\n",
        "produto = num_complexo1 * 2\n",
        "print(f\"Produto: {produto}\") # Saída: (4+6j)\n",
        "\n",
        "# Conjugado\n",
        "print(f\"Conjugado: {num_complexo1.conjugate()}\") # Saída: (2-3j)"
      ],
      "outputs": [
        {
          "output_type": "stream",
          "name": "stdout",
          "text": [
            "<class 'complex'>\n",
            "(5-1j)\n",
            "Real: 2.0\n",
            "Imaginária: 3.0\n",
            "Soma: (7+2j)\n",
            "Produto: (4+6j)\n",
            "Conjugado: (2-3j)\n"
          ]
        }
      ],
      "execution_count": 156,
      "metadata": {
        "id": "szHFBVCZhria",
        "colab": {
          "base_uri": "https://localhost:8080/"
        },
        "outputId": "13f1819f-84d1-438c-8616-facb38c8c39f"
      }
    },
    {
      "cell_type": "markdown",
      "source": [
        "* **Propriedades:** Imutável.\n",
        "\n",
        "**C. Tipos de Sequência**\n",
        "\n",
        "Sequências são coleções ordenadas de itens, acessíveis por índice.\n",
        "\n",
        "**1. `str` (String)**\n",
        "\n",
        "Sequência *imutável* de caracteres Unicode.²⁶"
      ],
      "metadata": {
        "id": "21v_xSwdhria"
      }
    },
    {
      "cell_type": "code",
      "source": [
        "# Criação de str\n",
        "nome = \"Python\"\n",
        "frase = 'Linguagem de programação'\n",
        "texto_longo = \"\"\"Esta é uma string\n",
        "que ocupa múltiplas\n",
        "linhas.\"\"\"\n",
        "vazia = \"\"\n",
        "\n",
        "print(type(nome)) # Saída: <class 'str'>\n",
        "\n",
        "# Acesso por índice (começa em 0)\n",
        "primeira_letra = nome[0]\n",
        "print(f\"Primeira letra: {primeira_letra}\") # Saída: P\n",
        "ultima_letra = nome[-1] # Índice negativo conta do final\n",
        "print(f\"Última letra: {ultima_letra}\") # Saída: n\n",
        "\n",
        "# Slicing (fatiamento) [start:stop:step] - stop não é incluído\n",
        "pedaco = nome[1:4] # Do índice 1 até (mas não incluindo) o 4\n",
        "print(f\"Slice [1:4]: {pedaco}\") # Saída: yth\n",
        "\n",
        "# Concatenação (+) e Repetição (*)\n",
        "saudacao = \"Olá, \" + nome + \"!\"\n",
        "print(saudacao) # Saída: Olá, Python!\n",
        "repetido = \"-\" * 10\n",
        "print(repetido) # Saída: ----------\n",
        "\n",
        "# Métodos comuns\n",
        "print(f\"Minúsculas: {nome.lower()}\") # Saída: python\n",
        "print(f\"Maiúsculas: {nome.upper()}\") # Saída: PYTHON\n",
        "print(f\"Começa com 'Py'? {nome.startswith('Py')}\") # Saída: True\n",
        "print(f\"Frase dividida: {frase.split()}\") # Saída: ['Linguagem', 'de', 'programação'] (lista)\n",
        "lista_palavras = [\"Um\", \"exemplo\"]\n",
        "print(f\"Lista unida: {' '.join(lista_palavras)}\") # Saída: Um exemplo\n",
        "\n",
        "# Strings são imutáveis!\n",
        "# nome[0] = \"J\" # Erro! TypeError: 'str' object does not support item assignment\n",
        "# Para modificar, crie uma nova string:\n",
        "novo_nome = \"J\" + nome[1:]\n",
        "print(f\"Novo nome: {novo_nome}\") # Saída: Jython"
      ],
      "outputs": [
        {
          "output_type": "stream",
          "name": "stdout",
          "text": [
            "<class 'str'>\n",
            "Primeira letra: P\n",
            "Última letra: n\n",
            "Slice [1:4]: yth\n",
            "Olá, Python!\n",
            "----------\n",
            "Minúsculas: python\n",
            "Maiúsculas: PYTHON\n",
            "Começa com 'Py'? True\n",
            "Frase dividida: ['Linguagem', 'de', 'programação']\n",
            "Lista unida: Um exemplo\n",
            "Novo nome: Jython\n"
          ]
        }
      ],
      "execution_count": 157,
      "metadata": {
        "id": "Xn5P5KsYhria",
        "colab": {
          "base_uri": "https://localhost:8080/"
        },
        "outputId": "b7155321-8df5-4c63-e63b-02922ecd2342"
      }
    },
    {
      "cell_type": "markdown",
      "source": [
        "* **Propriedades:** Imutável, ordenada.\n",
        "\n",
        "**2. `list` (Lista)**\n",
        "\n",
        "Sequência *mutável* (pode ser alterada) de itens, que podem ser de tipos diferentes.²⁶"
      ],
      "metadata": {
        "id": "1huOCTz8hrib"
      }
    },
    {
      "cell_type": "code",
      "source": [
        "# Criação de list\n",
        "numeros = [1, 2, 3, 4, 5]\n",
        "misturada = [1, \"dois\", 3.0, True, [10, 20]]\n",
        "vazia = []\n",
        "lista_de_string = list(\"abc\") # ['a', 'b', 'c']\n",
        "\n",
        "print(type(numeros)) # Saída: <class 'list'>\n",
        "print(misturada)\n",
        "\n",
        "# Acesso e Slicing (como strings)\n",
        "print(f\"Primeiro número: {numeros[0]}\")  # Saída: 1\n",
        "print(f\"Últimos dois: {numeros[-2:]}\") # Saída: [4, 5]\n",
        "\n",
        "# Listas são mutáveis\n",
        "numeros[0] = 100 # Modifica o primeiro elemento\n",
        "print(f\"Lista modificada: {numeros}\") # Saída: [100, 2, 3, 4, 5]\n",
        "\n",
        "# Métodos comuns\n",
        "numeros.append(6) # Adiciona no final\n",
        "print(f\"Após append(6): {numeros}\") # Saída: [100, 2, 3, 4, 5, 6]\n",
        "\n",
        "numeros.insert(1, 99) # Insere 99 na posição 1\n",
        "print(f\"Após insert(1, 99): {numeros}\") # Saída: [100, 99, 2, 3, 4, 5, 6]\n",
        "\n",
        "item_removido = numeros.pop() # Remove e retorna o último item\n",
        "print(f\"Item removido (pop): {item_removido}\") # Saída: 6\n",
        "print(f\"Lista após pop: {numeros}\") # Saída: [100, 99, 2, 3, 4, 5]\n",
        "\n",
        "numeros.remove(3) # Remove a primeira ocorrência do valor 3\n",
        "print(f\"Após remove(3): {numeros}\") # Saída: [100, 99, 2, 4, 5]\n",
        "\n",
        "numeros.sort() # Ordena a lista in-place (modifica a própria lista)\n",
        "print(f\"Após sort(): {numeros}\") # Saída: [2, 4, 5, 99, 100]\n",
        "\n",
        "copia_lista = numeros.copy() # Cria uma cópia rasa\n",
        "copia_slice = numeros[:]   # Outra forma de cópia rasa\n",
        "print(f\"Cópia: {copia_lista}\")"
      ],
      "outputs": [
        {
          "output_type": "stream",
          "name": "stdout",
          "text": [
            "<class 'list'>\n",
            "[1, 'dois', 3.0, True, [10, 20]]\n",
            "Primeiro número: 1\n",
            "Últimos dois: [4, 5]\n",
            "Lista modificada: [100, 2, 3, 4, 5]\n",
            "Após append(6): [100, 2, 3, 4, 5, 6]\n",
            "Após insert(1, 99): [100, 99, 2, 3, 4, 5, 6]\n",
            "Item removido (pop): 6\n",
            "Lista após pop: [100, 99, 2, 3, 4, 5]\n",
            "Após remove(3): [100, 99, 2, 4, 5]\n",
            "Após sort(): [2, 4, 5, 99, 100]\n",
            "Cópia: [2, 4, 5, 99, 100]\n"
          ]
        }
      ],
      "execution_count": 158,
      "metadata": {
        "id": "IvsaSXcJhrib",
        "colab": {
          "base_uri": "https://localhost:8080/"
        },
        "outputId": "de475951-4968-48b4-9989-325cc1a7a1f9"
      }
    },
    {
      "cell_type": "markdown",
      "source": [
        "* **Propriedades:** Mutável, ordenada.\n",
        "\n",
        "**3. `tuple` (Tupla)**\n",
        "\n",
        "Sequência *imutável* de itens, semelhante à lista, mas não pode ser alterada após a criação. Geralmente usada para coleções heterogêneas de itens que não devem mudar (ex: coordenadas, registros de banco de dados).²⁶"
      ],
      "metadata": {
        "id": "YpLk5byYhrib"
      }
    },
    {
      "cell_type": "code",
      "source": [
        "# Criação de tuple\n",
        "coordenadas = (10, 20)\n",
        "cores_rgb = (255, 0, 128)\n",
        "um_elemento = (5,) # Vírgula é essencial para tupla de um elemento\n",
        "vazia = ()\n",
        "tupla_da_lista = tuple([1, 2, 3]) # (1, 2, 3)\n",
        "\n",
        "print(type(coordenadas)) # Saída: <class 'tuple'>\n",
        "print(um_elemento)\n",
        "\n",
        "# Acesso e Slicing (como listas e strings)\n",
        "print(f\"Coordenada X: {coordenadas[0]}\") # Saída: 10\n",
        "\n",
        "# Tuplas são imutáveis!\n",
        "# coordenadas[0] = 5 # Erro! TypeError: 'tuple' object does not support item assignment\n",
        "\n",
        "# Desempacotamento é comum com tuplas\n",
        "r, g, b = cores_rgb\n",
        "print(f\"Componente R: {r}\") # Saída: 255\n",
        "\n",
        "# Métodos (menos que listas, pois são imutáveis)\n",
        "contagem = (1, 2, 2, 3, 2).count(2)\n",
        "print(f\"Contagem de 2s: {contagem}\") # Saída: 3\n",
        "indice = cores_rgb.index(128)\n",
        "print(f\"Índice de 128: {indice}\") # Saída: 2\n",
        "\n",
        "# Vantagens: Imutabilidade (segurança), podem ser chaves de dicionário (se contiverem\n",
        "# apenas elementos hasháveis), ligeiramente mais eficientes em memória/processamento que listas.\n",
        "dicionario = {(10, 20): \"Ponto A\"} # Tupla como chave\n",
        "print(dicionario[(10, 20)]) # Saída: Ponto A"
      ],
      "outputs": [
        {
          "output_type": "stream",
          "name": "stdout",
          "text": [
            "<class 'tuple'>\n",
            "(5,)\n",
            "Coordenada X: 10\n",
            "Componente R: 255\n",
            "Contagem de 2s: 3\n",
            "Índice de 128: 2\n",
            "Ponto A\n"
          ]
        }
      ],
      "execution_count": 159,
      "metadata": {
        "id": "es0xUsXyhric",
        "colab": {
          "base_uri": "https://localhost:8080/"
        },
        "outputId": "7ce22b0d-50d8-491b-cf9c-182f1c3897dc"
      }
    },
    {
      "cell_type": "markdown",
      "source": [
        "* **Propriedades:** Imutável, ordenada, hashável (se todos os elementos forem hasháveis).\n",
        "\n",
        "**4. `range` (Intervalo)**\n",
        "\n",
        "Sequência *imutável* de números, otimizada para uso em loops `for`. Não armazena todos os números na memória, apenas os parâmetros `start`, `stop`, `step`.⁶³"
      ],
      "metadata": {
        "id": "460sZpGOhric"
      }
    },
    {
      "cell_type": "code",
      "source": [
        "# Criação de range\n",
        "intervalo1 = range(5)      # De 0 até (mas não incluindo) 5 -> 0, 1, 2, 3, 4\n",
        "intervalo2 = range(2, 6)   # De 2 até (mas não incluindo) 6 -> 2, 3, 4, 5\n",
        "intervalo3 = range(1, 10, 2) # De 1 até 10, pulando de 2 em 2 -> 1, 3, 5, 7, 9\n",
        "\n",
        "print(type(intervalo1)) # Saída: <class 'range'>\n",
        "\n",
        "# Ranges são frequentemente usados em loops for\n",
        "print(\"Loop com range(5):\")\n",
        "for i in intervalo1:\n",
        "    print(i, end=\" \") # Saída: 0 1 2 3 4\n",
        "print()\n",
        "\n",
        "print(\"Loop com range(1, 10, 2):\")\n",
        "for num in intervalo3:\n",
        "    print(num, end=\" \") # Saída: 1 3 5 7 9\n",
        "print()\n",
        "\n",
        "# Pode ser convertido para lista ou tupla se necessário\n",
        "lista_intervalo = list(intervalo2)\n",
        "print(f\"Range convertido para lista: {lista_intervalo}\") # Saída: [2, 3, 4, 5]\n",
        "\n",
        "# Acesso por índice e slicing (como sequências)\n",
        "print(f\"Elemento no índice 2 de intervalo3: {intervalo3[2]}\") # Saída: 5 (o terceiro elemento é 5)\n",
        "print(f\"Slice [1:3] de intervalo3: {list(intervalo3[1:3])}\") # Saída: [3, 5]"
      ],
      "outputs": [
        {
          "output_type": "stream",
          "name": "stdout",
          "text": [
            "<class 'range'>\n",
            "Loop com range(5):\n",
            "0 1 2 3 4 \n",
            "Loop com range(1, 10, 2):\n",
            "1 3 5 7 9 \n",
            "Range convertido para lista: [2, 3, 4, 5]\n",
            "Elemento no índice 2 de intervalo3: 5\n",
            "Slice [1:3] de intervalo3: [3, 5]\n"
          ]
        }
      ],
      "execution_count": 160,
      "metadata": {
        "id": "fCMh9QJshric",
        "colab": {
          "base_uri": "https://localhost:8080/"
        },
        "outputId": "a10ccc1f-ebe2-47d7-f973-7faad0ae6eb0"
      }
    },
    {
      "cell_type": "markdown",
      "source": [
        "* **Propriedades:** Imutável, ordenada, eficiente em memória.\n",
        "\n",
        "**D. Tipos de Mapeamento**\n",
        "\n",
        "Mapeamentos armazenam coleções de pares chave-valor.\n",
        "\n",
        "**1. `dict` (Dicionário)**\n",
        "\n",
        "Coleção *mutável* de pares chave-valor. As chaves devem ser únicas e *hasháveis* (tipos imutáveis como `int`, `float`, `str`, `tuple` contendo apenas hasháveis). Os valores podem ser de qualquer tipo.²⁶ A ordem de inserção é preservada a partir do Python 3.7+."
      ],
      "metadata": {
        "id": "_HfqbThGhric"
      }
    },
    {
      "cell_type": "code",
      "source": [
        "# Criação de dict\n",
        "aluno = {\"nome\": \"Bruna\", \"idade\": 21, \"curso\": \"Engenharia\"}\n",
        "vazio = {}\n",
        "outro_dict = dict(pais=\"Brasil\", capital=\"Brasília\") # Usando construtor dict()\n",
        "\n",
        "print(type(aluno)) # Saída: <class 'dict'>\n",
        "print(outro_dict) # Saída: {'pais': 'Brasil', 'capital': 'Brasília'}\n",
        "\n",
        "# Acesso a valores pela chave\n",
        "print(f\"Nome do aluno: {aluno['nome']}\") # Saída: Bruna\n",
        "# print(aluno['matricula']) # Erro! KeyError: 'matricula' (chave não existe)\n",
        "\n",
        "# Acesso seguro com .get() (retorna None ou valor padrão se a chave não existe)\n",
        "idade_aluno = aluno.get(\"idade\")\n",
        "matricula = aluno.get(\"matricula\", \"Não informada\")\n",
        "print(f\"Idade: {idade_aluno}\")       # Saída: 21\n",
        "print(f\"Matrícula: {matricula}\") # Saída: Não informada\n",
        "\n",
        "# Adicionar ou modificar itens\n",
        "aluno[\"cidade\"] = \"Rio de Janeiro\" # Adiciona nova chave-valor\n",
        "aluno[\"idade\"] = 22                # Modifica valor da chave existente\n",
        "print(f\"Dicionário atualizado: {aluno}\")\n",
        "\n",
        "# Remover itens\n",
        "curso_removido = aluno.pop(\"curso\") # Remove e retorna o valor da chave \"curso\"\n",
        "print(f\"Curso removido: {curso_removido}\")\n",
        "# del aluno[\"nome\"] # Outra forma de remover\n",
        "\n",
        "# Iteração\n",
        "print(\"\\nChaves:\")\n",
        "for chave in aluno.keys(): # ou simplesmente 'for chave in aluno:'\n",
        "    print(chave)\n",
        "\n",
        "print(\"\\nValores:\")\n",
        "for valor in aluno.values():\n",
        "    print(valor)\n",
        "\n",
        "print(\"\\nItens (pares chave-valor):\")\n",
        "for chave, valor in aluno.items():\n",
        "    print(f\"{chave}: {valor}\")\n",
        "\n",
        "# Verificar existência de chave\n",
        "if \"nome\" in aluno:\n",
        "    print(\"A chave 'nome' existe.\")"
      ],
      "outputs": [
        {
          "output_type": "stream",
          "name": "stdout",
          "text": [
            "<class 'dict'>\n",
            "{'pais': 'Brasil', 'capital': 'Brasília'}\n",
            "Nome do aluno: Bruna\n",
            "Idade: 21\n",
            "Matrícula: Não informada\n",
            "Dicionário atualizado: {'nome': 'Bruna', 'idade': 22, 'curso': 'Engenharia', 'cidade': 'Rio de Janeiro'}\n",
            "Curso removido: Engenharia\n",
            "\n",
            "Chaves:\n",
            "nome\n",
            "idade\n",
            "cidade\n",
            "\n",
            "Valores:\n",
            "Bruna\n",
            "22\n",
            "Rio de Janeiro\n",
            "\n",
            "Itens (pares chave-valor):\n",
            "nome: Bruna\n",
            "idade: 22\n",
            "cidade: Rio de Janeiro\n",
            "A chave 'nome' existe.\n"
          ]
        }
      ],
      "execution_count": 161,
      "metadata": {
        "id": "rHOb8uNUhrid",
        "colab": {
          "base_uri": "https://localhost:8080/"
        },
        "outputId": "d5f99adc-4cc0-41c1-8831-48c288f92942"
      }
    },
    {
      "cell_type": "markdown",
      "source": [
        "* **Propriedades:** Mutável, ordenado por inserção (Python 3.7+), chaves únicas e hasháveis.\n",
        "\n",
        "**E. Tipos de Conjunto**\n",
        "\n",
        "Conjuntos são coleções não ordenadas de elementos *únicos* e *hasháveis*.\n",
        "\n",
        "**1. `set` (Conjunto)**\n",
        "\n",
        "Coleção *mutável*, não ordenada, de elementos únicos e hasháveis.²⁶ Útil para remover duplicatas e realizar operações matemáticas de conjuntos (união, interseção, etc.)."
      ],
      "metadata": {
        "id": "yG-WTJGEhrid"
      }
    },
    {
      "cell_type": "code",
      "source": [
        "# Criação de set\n",
        "numeros_set = {1, 2, 3, 2, 4, 1} # Duplicatas são removidas automaticamente\n",
        "letras_set = set(\"abracadabra\") # Remove duplicatas da string\n",
        "vazio = set() # Importante: {} cria um dicionário vazio, não um set\n",
        "\n",
        "print(type(numeros_set)) # Saída: <class 'set'>\n",
        "print(numeros_set)       # Saída: {1, 2, 3, 4} (ordem pode variar)\n",
        "print(letras_set)        # Saída: {'a', 'r', 'b', 'c', 'd'} (ordem pode variar)\n",
        "\n",
        "# Adicionar elementos\n",
        "numeros_set.add(5)\n",
        "print(f\"Após add(5): {numeros_set}\") # Saída: {1, 2, 3, 4, 5}\n",
        "numeros_set.update([6, 7, 1]) # Adiciona múltiplos elementos (iterable), ignora duplicatas\n",
        "print(f\"Após update([6, 7, 1]): {numeros_set}\") # Saída: {1, 2, 3, 4, 5, 6, 7}\n",
        "\n",
        "# Remover elementos\n",
        "numeros_set.remove(3) # Remove o elemento 3. Gera KeyError se não existir.\n",
        "print(f\"Após remove(3): {numeros_set}\")\n",
        "numeros_set.discard(10) # Remove o elemento 10 se existir, não gera erro se não existir.\n",
        "item_removido = numeros_set.pop() # Remove e retorna um elemento arbitrário\n",
        "print(f\"Item removido (pop): {item_removido}\")\n",
        "print(f\"Set após pop: {numeros_set}\")\n",
        "\n",
        "# Operações de conjunto\n",
        "set_a = {1, 2, 3, 4}\n",
        "set_b = {3, 4, 5, 6}\n",
        "\n",
        "uniao = set_a | set_b            # ou set_a.union(set_b)\n",
        "intersecao = set_a & set_b       # ou set_a.intersection(set_b)\n",
        "diferenca = set_a - set_b        # ou set_a.difference(set_b) (elementos em a mas não em b)\n",
        "diff_simetrica = set_a ^ set_b   # ou set_a.symmetric_difference(set_b) (elementos em a ou b, mas não em ambos)\n",
        "\n",
        "print(f\"União: {uniao}\")           # Saída: {1, 2, 3, 4, 5, 6}\n",
        "print(f\"Interseção: {intersecao}\")   # Saída: {3, 4}\n",
        "print(f\"Diferença (A-B): {diferenca}\") # Saída: {1, 2}\n",
        "print(f\"Diferença Simétrica: {diff_simetrica}\") # Saída: {1, 2, 5, 6}\n",
        "\n",
        "# Testes de pertinência (rápidos em sets)\n",
        "print(f\"3 in set_a? {3 in set_a}\") # Saída: True"
      ],
      "outputs": [
        {
          "output_type": "stream",
          "name": "stdout",
          "text": [
            "<class 'set'>\n",
            "{1, 2, 3, 4}\n",
            "{'r', 'c', 'a', 'b', 'd'}\n",
            "Após add(5): {1, 2, 3, 4, 5}\n",
            "Após update([6, 7, 1]): {1, 2, 3, 4, 5, 6, 7}\n",
            "Após remove(3): {1, 2, 4, 5, 6, 7}\n",
            "Item removido (pop): 1\n",
            "Set após pop: {2, 4, 5, 6, 7}\n",
            "União: {1, 2, 3, 4, 5, 6}\n",
            "Interseção: {3, 4}\n",
            "Diferença (A-B): {1, 2}\n",
            "Diferença Simétrica: {1, 2, 5, 6}\n",
            "3 in set_a? True\n"
          ]
        }
      ],
      "execution_count": 162,
      "metadata": {
        "id": "h7ZPZZd_hrie",
        "colab": {
          "base_uri": "https://localhost:8080/"
        },
        "outputId": "a2b351ec-bade-4f96-d070-310acadd9e06"
      }
    },
    {
      "cell_type": "markdown",
      "source": [
        "* **Propriedades:** Mutável, não ordenada, elementos únicos e hasháveis.\n",
        "\n",
        "**2. `frozenset` (Conjunto Congelado)**\n",
        "\n",
        "Versão *imutável* do `set`. Uma vez criado, não pode ser alterado (não possui métodos como `add`, `remove`, `update`, `pop`). Por ser imutável e hashável, pode ser usado como chave de dicionário ou elemento de outro conjunto.⁶³"
      ],
      "metadata": {
        "id": "XkFezBPUhrie"
      }
    },
    {
      "cell_type": "code",
      "source": [
        "# Criação de frozenset\n",
        "fs1 = frozenset([1, 2, 3, 2])\n",
        "fs2 = frozenset(\"abc\")\n",
        "\n",
        "print(type(fs1)) # Saída: <class 'frozenset'>\n",
        "print(fs1)       # Saída: frozenset({1, 2, 3})\n",
        "print(fs2)       # Saída: frozenset({'a', 'b', 'c'})\n",
        "\n",
        "# Operações de conjunto (que retornam novos sets ou frozensets) funcionam\n",
        "fs_a = frozenset({1, 2})\n",
        "fs_b = frozenset({2, 3})\n",
        "uniao_fs = fs_a | fs_b\n",
        "print(f\"União (frozenset): {uniao_fs}\") # Saída: frozenset({1, 2, 3})\n",
        "\n",
        "# Imutável!\n",
        "# fs1.add(4) # Erro! AttributeError: 'frozenset' object has no attribute 'add'\n",
        "\n",
        "# Pode ser usado como chave de dicionário\n",
        "dicionario_com_fs = {fs1: \"Conjunto 1-2-3\"}\n",
        "print(dicionario_com_fs[frozenset({3, 1, 2})]) # Saída: Conjunto 1-2-3 (ordem não importa na chave)\n",
        "\n",
        "# Pode ser elemento de outro set\n",
        "set_de_frozensets = {fs_a, fs_b}\n",
        "print(set_de_frozensets) # Saída: {frozenset({1, 2}), frozenset({2, 3})}"
      ],
      "outputs": [
        {
          "output_type": "stream",
          "name": "stdout",
          "text": [
            "<class 'frozenset'>\n",
            "frozenset({1, 2, 3})\n",
            "frozenset({'c', 'a', 'b'})\n",
            "União (frozenset): frozenset({1, 2, 3})\n",
            "Conjunto 1-2-3\n",
            "{frozenset({2, 3}), frozenset({1, 2})}\n"
          ]
        }
      ],
      "execution_count": 163,
      "metadata": {
        "id": "jippewe3hrie",
        "colab": {
          "base_uri": "https://localhost:8080/"
        },
        "outputId": "abc18e9b-026b-4136-f4d7-5af78ac9c786"
      }
    },
    {
      "cell_type": "markdown",
      "source": [
        "* **Propriedades:** Imutável, não ordenada, elementos únicos e hasháveis, o próprio `frozenset` é hashável.\n",
        "\n",
        "**F. Tipo Booleano**\n",
        "\n",
        "**1. `bool` (Booleano)**\n",
        "\n",
        "Representa valores de verdade: `True` (verdadeiro) e `False` (falso).²⁶ São um subtipo de `int`, onde `True` equivale a `1` e `False` a `0`."
      ],
      "metadata": {
        "id": "S4VV-asjhrif"
      }
    },
    {
      "cell_type": "code",
      "source": [
        "# Criação de bool\n",
        "ativo = True\n",
        "inativo = False\n",
        "resultado_comparacao = (5 > 3) # Avalia para True\n",
        "\n",
        "print(type(ativo)) # Saída: <class 'bool'>\n",
        "print(resultado_comparacao) # Saída: True\n",
        "\n",
        "# Conversão para bool (Regra geral: \"vazio\" ou \"zero\" é False, o resto é True)\n",
        "print(f\"bool(0): {bool(0)}\")       # Saída: False\n",
        "print(f\"bool(1): {bool(1)}\")       # Saída: True\n",
        "print(f\"bool(-1): {bool(-1)}\")      # Saída: True\n",
        "print(f\"bool(0.0): {bool(0.0)}\")    # Saída: False\n",
        "print(f\"bool(''): {bool('')}\")     # Saída: False (string vazia)\n",
        "print(f\"bool('Olá'): {bool('Olá')}\") # Saída: True\n",
        "print(f\"bool([]): {bool([])}\")     # Saída: False (lista vazia)\n",
        "print(f\"bool([1]): {bool([1])}\")    # Saída: True\n",
        "print(f\"bool(None): {bool(None)}\")  # Saída: False\n",
        "\n",
        "# Usados em controle de fluxo\n",
        "if ativo:\n",
        "    print(\"O sistema está ativo.\")\n",
        "else:\n",
        "    print(\"O sistema está inativo.\")\n",
        "\n",
        "# Operadores lógicos com booleanos\n",
        "print(f\"True and False: {True and False}\") # Saída: False\n",
        "print(f\"True or False: {True or False}\")   # Saída: True\n",
        "print(f\"not True: {not True}\")             # Saída: False\n",
        "\n",
        "# Booleanos como inteiros\n",
        "print(f\"True + True = {True + True}\") # Saída: 2 (1 + 1)\n",
        "print(f\"False * 5 = {False * 5}\") # Saída: 0 (0 * 5)"
      ],
      "outputs": [
        {
          "output_type": "stream",
          "name": "stdout",
          "text": [
            "<class 'bool'>\n",
            "True\n",
            "bool(0): False\n",
            "bool(1): True\n",
            "bool(-1): True\n",
            "bool(0.0): False\n",
            "bool(''): False\n",
            "bool('Olá'): True\n",
            "bool([]): False\n",
            "bool([1]): True\n",
            "bool(None): False\n",
            "O sistema está ativo.\n",
            "True and False: False\n",
            "True or False: True\n",
            "not True: False\n",
            "True + True = 2\n",
            "False * 5 = 0\n"
          ]
        }
      ],
      "execution_count": 164,
      "metadata": {
        "id": "LVlde4fohrif",
        "colab": {
          "base_uri": "https://localhost:8080/"
        },
        "outputId": "ceed90bb-27a7-45f6-9f84-7a88ada1fb11"
      }
    },
    {
      "cell_type": "markdown",
      "source": [
        "* **Propriedades:** Imutável, subclasse de `int`.\n",
        "\n",
        "**V. Funções Relacionadas a Variáveis, Palavras-chave, Operadores e Tipos de Dados**\n",
        "\n",
        "**A. Função `type()`**\n",
        "\n",
        "Retorna o tipo de um objeto.¹"
      ],
      "metadata": {
        "id": "6Mb9L6p6hrif"
      }
    },
    {
      "cell_type": "code",
      "source": [
        "x = 10\n",
        "nome = \"Alice\"\n",
        "lista = [1, 2, 3]\n",
        "dicio = {\"a\": 1}\n",
        "\n",
        "print(type(x))     # Saída: <class 'int'>\n",
        "print(type(nome))  # Saída: <class 'str'>\n",
        "print(type(lista)) # Saída: <class 'list'>\n",
        "print(type(dicio)) # Saída: <class 'dict'>\n",
        "print(type(None))  # Saída: <class 'NoneType'>\n",
        "print(type(True))  # Saída: <class 'bool'>\n",
        "print(type(lambda: 0)) # Saída: <class 'function'>"
      ],
      "outputs": [
        {
          "output_type": "stream",
          "name": "stdout",
          "text": [
            "<class 'int'>\n",
            "<class 'str'>\n",
            "<class 'list'>\n",
            "<class 'dict'>\n",
            "<class 'NoneType'>\n",
            "<class 'bool'>\n",
            "<class 'function'>\n"
          ]
        }
      ],
      "execution_count": 165,
      "metadata": {
        "id": "BVAHlsODhrig",
        "colab": {
          "base_uri": "https://localhost:8080/"
        },
        "outputId": "df1bc2dc-ab2d-407c-efb2-cf9a46555e9b"
      }
    },
    {
      "cell_type": "markdown",
      "source": [
        "A função `type()` também pode ser usada com três argumentos (`type(name, bases, dict)`) para criar *novos tipos (classes)* dinamicamente, um recurso mais avançado.⁹⁰\n",
        "\n",
        "**B. Funções de Conversão de Tipo (Casting)**\n",
        "\n",
        "Permitem converter valores entre tipos compatíveis.¹\n",
        "\n",
        "* `int()`: Converte para inteiro (trunca floats, interpreta strings numéricas).⁵⁰"
      ],
      "metadata": {
        "id": "EaA-zwVEhrig"
      }
    },
    {
      "cell_type": "code",
      "source": [
        "print(int(\"123\"))      # Saída: 123\n",
        "print(int(3.9))        # Saída: 3 (truncado)\n",
        "# print(int(\"abc\"))    # Erro! ValueError\n",
        "# print(int(\"3.14\"))   # Erro! ValueError (não converte string float diretamente)\n",
        "print(int(float(\"3.14\"))) # Saída: 3 (conversão dupla)"
      ],
      "outputs": [
        {
          "output_type": "stream",
          "name": "stdout",
          "text": [
            "123\n",
            "3\n",
            "3\n"
          ]
        }
      ],
      "execution_count": 167,
      "metadata": {
        "id": "5mcVA-1Vhrig",
        "colab": {
          "base_uri": "https://localhost:8080/"
        },
        "outputId": "5def9c72-b4cc-4016-c833-3cb40feab33b"
      }
    },
    {
      "cell_type": "markdown",
      "source": [
        "* `float()`: Converte para ponto flutuante.⁵⁰"
      ],
      "metadata": {
        "id": "9KJMHtp1hrig"
      }
    },
    {
      "cell_type": "code",
      "source": [
        "print(float(\"3.14\"))   # Saída: 3.14\n",
        "print(float(5))        # Saída: 5.0\n",
        "print(float(\"1e-3\"))   # Saída: 0.001\n",
        "# print(float(\"xyz\"))  # Erro! ValueError"
      ],
      "outputs": [
        {
          "output_type": "stream",
          "name": "stdout",
          "text": [
            "3.14\n",
            "5.0\n",
            "0.001\n"
          ]
        }
      ],
      "execution_count": 168,
      "metadata": {
        "id": "StMNwgBYhrig",
        "colab": {
          "base_uri": "https://localhost:8080/"
        },
        "outputId": "f30180cd-1e0e-4cd1-fc19-57b5b9bd5036"
      }
    },
    {
      "cell_type": "markdown",
      "source": [
        "* `str()`: Converte para string.⁵⁰"
      ],
      "metadata": {
        "id": "9W1Tsk0Mhrih"
      }
    },
    {
      "cell_type": "code",
      "source": [
        "print(str(123))        # Saída: \"123\"\n",
        "print(str(3.14))       # Saída: \"3.14\"\n",
        "print(str(True))       # Saída: \"True\"\n",
        "print(str([1, 2]))     # Saída: \"[1, 2]\"\n",
        "print(str(None))       # Saída: \"None\""
      ],
      "outputs": [
        {
          "output_type": "stream",
          "name": "stdout",
          "text": [
            "123\n",
            "3.14\n",
            "True\n",
            "[1, 2]\n",
            "None\n"
          ]
        }
      ],
      "execution_count": 169,
      "metadata": {
        "id": "-18eR59ohrih",
        "colab": {
          "base_uri": "https://localhost:8080/"
        },
        "outputId": "4a28cb57-4ef5-4106-fd7c-ff36cc8adfe9"
      }
    },
    {
      "cell_type": "markdown",
      "source": [
        "* `bool()`: Converte para booleano (zero/vazio é `False`, resto é `True`).⁶⁸"
      ],
      "metadata": {
        "id": "RLJj5RYShrih"
      }
    },
    {
      "cell_type": "code",
      "source": [
        "print(bool(0))         # Saída: False\n",
        "print(bool(1))         # Saída: True\n",
        "print(bool(\"\"))        # Saída: False\n",
        "print(bool(\" \"))       # Saída: True (espaço não é vazio)\n",
        "print(bool([]))        # Saída: False\n",
        "print(bool(None))      # Saída: False"
      ],
      "outputs": [
        {
          "output_type": "stream",
          "name": "stdout",
          "text": [
            "False\n",
            "True\n",
            "False\n",
            "True\n",
            "False\n",
            "False\n"
          ]
        }
      ],
      "execution_count": 170,
      "metadata": {
        "id": "_0xxT21Qhrih",
        "colab": {
          "base_uri": "https://localhost:8080/"
        },
        "outputId": "f108faaa-607b-4150-f26b-a2d00b54fc77"
      }
    },
    {
      "cell_type": "markdown",
      "source": [
        "* `list()`: Converte um iterável (string, tupla, set, range, dict keys/values/items) para lista.⁶⁸"
      ],
      "metadata": {
        "id": "mJIUmVBYhrii"
      }
    },
    {
      "cell_type": "code",
      "source": [
        "print(list((1, 2, 3))) # Saída: [1, 2, 3]\n",
        "print(list(\"Python\"))  # Saída: ['P', 'y', 't', 'h', 'o', 'n']\n",
        "print(list(range(3)))  # Saída: [0, 1, 2]\n",
        "print(list({\"a\":1, \"b\":2})) # Saída: ['a', 'b'] (chaves por padrão)\n",
        "print(list({\"a\":1, \"b\":2}.values())) # Saída: [1, 2]"
      ],
      "outputs": [
        {
          "output_type": "stream",
          "name": "stdout",
          "text": [
            "[1, 2, 3]\n",
            "['P', 'y', 't', 'h', 'o', 'n']\n",
            "[0, 1, 2]\n",
            "['a', 'b']\n",
            "[1, 2]\n"
          ]
        }
      ],
      "execution_count": 171,
      "metadata": {
        "id": "wQqdeztahrii",
        "colab": {
          "base_uri": "https://localhost:8080/"
        },
        "outputId": "f0b6e8d9-9e8d-439b-d699-589beea130d4"
      }
    },
    {
      "cell_type": "markdown",
      "source": [
        "* `tuple()`: Converte um iterável para tupla.⁶⁸"
      ],
      "metadata": {
        "id": "4o905Nfihrii"
      }
    },
    {
      "cell_type": "code",
      "source": [
        "print(tuple([1, 2, 3])) # Saída: (1, 2, 3)\n",
        "print(tuple(\"Python\"))  # Saída: ('P', 'y', 't', 'h', 'o', 'n')"
      ],
      "outputs": [
        {
          "output_type": "stream",
          "name": "stdout",
          "text": [
            "(1, 2, 3)\n",
            "('P', 'y', 't', 'h', 'o', 'n')\n"
          ]
        }
      ],
      "execution_count": 172,
      "metadata": {
        "id": "OxARaEdKhrii",
        "colab": {
          "base_uri": "https://localhost:8080/"
        },
        "outputId": "a9f04eed-7fc9-405d-e918-a2e95750ffd1"
      }
    },
    {
      "cell_type": "markdown",
      "source": [
        "* `set()`: Converte um iterável para conjunto (remove duplicatas).⁶⁸"
      ],
      "metadata": {
        "id": "Tk6LNSC9hrij"
      }
    },
    {
      "cell_type": "code",
      "source": [
        "print(set([1, 2, 2, 3])) # Saída: {1, 2, 3}\n",
        "print(set(\"abracadabra\")) # Saída: {'b', 'r', 'a', 'c', 'd'} (ordem pode variar)"
      ],
      "outputs": [
        {
          "output_type": "stream",
          "name": "stdout",
          "text": [
            "{1, 2, 3}\n",
            "{'r', 'c', 'a', 'b', 'd'}\n"
          ]
        }
      ],
      "execution_count": 173,
      "metadata": {
        "id": "BuwozDozhrij",
        "colab": {
          "base_uri": "https://localhost:8080/"
        },
        "outputId": "f96c5a37-c8c1-4c18-a900-154e31200701"
      }
    },
    {
      "cell_type": "markdown",
      "source": [
        "* `dict()`: Cria um dicionário a partir de iteráveis de pares chave-valor ou argumentos nomeados.⁶⁸"
      ],
      "metadata": {
        "id": "emg4sBvshrij"
      }
    },
    {
      "cell_type": "code",
      "source": [
        "print(dict([('a', 1), ('b', 2)])) # Saída: {'a': 1, 'b': 2}\n",
        "print(dict(zip(['one', 'two'], [1, 2]))) # Saída: {'one': 1, 'two': 2}\n",
        "print(dict(nome=\"Ana\", idade=30))   # Saída: {'nome': 'Ana', 'idade': 30}"
      ],
      "outputs": [
        {
          "output_type": "stream",
          "name": "stdout",
          "text": [
            "{'a': 1, 'b': 2}\n",
            "{'one': 1, 'two': 2}\n",
            "{'nome': 'Ana', 'idade': 30}\n"
          ]
        }
      ],
      "execution_count": 174,
      "metadata": {
        "id": "3_G3rMvqhrij",
        "colab": {
          "base_uri": "https://localhost:8080/"
        },
        "outputId": "f66fec22-a1c5-4662-8f9f-bdd51d5159a8"
      }
    },
    {
      "cell_type": "markdown",
      "source": [
        "**C. Funções que Operam sobre Tipos de Dados**\n",
        "\n",
        "Python oferece muitas funções embutidas e métodos específicos para cada tipo:\n",
        "\n",
        "* **Funções Matemáticas (módulo `math`):** Para operações além das aritméticas básicas."
      ],
      "metadata": {
        "id": "xKhpNS16hrij"
      }
    },
    {
      "cell_type": "code",
      "source": [
        "import math\n",
        "\n",
        "print(math.sqrt(16))    # Saída: 4.0 (raiz quadrada)\n",
        "print(math.pow(2, 3))   # Saída: 8.0 (potência 2^3)\n",
        "print(math.pi)          # Saída: 3.141592653589793\n",
        "print(math.log10(100))  # Saída: 2.0 (logaritmo base 10)\n",
        "print(math.floor(3.7))  # Saída: 3 (arredonda para baixo)\n",
        "print(math.ceil(3.1))   # Saída: 4 (arredonda para cima)"
      ],
      "outputs": [
        {
          "output_type": "stream",
          "name": "stdout",
          "text": [
            "4.0\n",
            "8.0\n",
            "3.141592653589793\n",
            "2.0\n",
            "3\n",
            "4\n"
          ]
        }
      ],
      "execution_count": 175,
      "metadata": {
        "id": "ii813iW8hrik",
        "colab": {
          "base_uri": "https://localhost:8080/"
        },
        "outputId": "32e252a9-6034-4596-8dba-9d9bcb84ef9f"
      }
    },
    {
      "cell_type": "markdown",
      "source": [
        "* **Métodos de String:** Manipulação de texto."
      ],
      "metadata": {
        "id": "vHmnjruPhrik"
      }
    },
    {
      "cell_type": "code",
      "source": [
        "texto = \"  Olá Mundo Cruel!  \"\n",
        "print(f\"Original: '{texto}'\")\n",
        "print(f\"Strip: '{texto.strip()}'\") # Remove espaços no início/fim -> 'Olá Mundo Cruel!'\n",
        "print(f\"Replace: '{texto.replace('Cruel', 'Belo')}'\") # -> '  Olá Mundo Belo!  '\n",
        "print(f\"Find 'Mundo': {texto.find('Mundo')}\") # Índice da primeira ocorrência -> 5\n",
        "print(f\"Count 'o': {texto.lower().count('o')}\") # Conta ocorrências (case-insensitive) -> 4"
      ],
      "outputs": [
        {
          "output_type": "stream",
          "name": "stdout",
          "text": [
            "Original: '  Olá Mundo Cruel!  '\n",
            "Strip: 'Olá Mundo Cruel!'\n",
            "Replace: '  Olá Mundo Belo!  '\n",
            "Find 'Mundo': 6\n",
            "Count 'o': 2\n"
          ]
        }
      ],
      "execution_count": 176,
      "metadata": {
        "id": "I5RaYaJrhrik",
        "colab": {
          "base_uri": "https://localhost:8080/"
        },
        "outputId": "eada2378-1603-4f3f-8f6a-f529401741d2"
      }
    },
    {
      "cell_type": "markdown",
      "source": [
        "* **Métodos de Lista:** Modificação e acesso."
      ],
      "metadata": {
        "id": "Qs7xN13vhrik"
      }
    },
    {
      "cell_type": "code",
      "source": [
        "minha_lista = [3, 1, 4, 1, 5, 9]\n",
        "minha_lista.reverse() # Reverte a ordem in-place\n",
        "print(f\"Reversed: {minha_lista}\") # Saída: [9, 5, 1, 4, 1, 3]\n",
        "contagem_1 = minha_lista.count(1)\n",
        "print(f\"Contagem de 1: {contagem_1}\") # Saída: 2\n",
        "nova_lista = sorted(minha_lista) # sorted() retorna uma NOVA lista ordenada\n",
        "print(f\"Sorted (nova lista): {nova_lista}\") # Saída: [1, 1, 3, 4, 5, 9]\n",
        "print(f\"Original não mudou: {minha_lista}\") # Saída: [9, 5, 1, 4, 1, 3]"
      ],
      "outputs": [
        {
          "output_type": "stream",
          "name": "stdout",
          "text": [
            "Reversed: [9, 5, 1, 4, 1, 3]\n",
            "Contagem de 1: 2\n",
            "Sorted (nova lista): [1, 1, 3, 4, 5, 9]\n",
            "Original não mudou: [9, 5, 1, 4, 1, 3]\n"
          ]
        }
      ],
      "execution_count": 177,
      "metadata": {
        "id": "zPS5yfS9hrik",
        "colab": {
          "base_uri": "https://localhost:8080/"
        },
        "outputId": "48746a3a-3aa0-40bc-d85e-f62190755e21"
      }
    },
    {
      "cell_type": "markdown",
      "source": [
        "* **Métodos de Conjunto:** Operações de teoria dos conjuntos."
      ],
      "metadata": {
        "id": "exe0_QyPhril"
      }
    },
    {
      "cell_type": "code",
      "source": [
        "set1 = {1, 2, 3}\n",
        "set2 = {3, 4, 5}\n",
        "print(f\"set1 é subconjunto de {1, 2, 3, 4}? {set1.issubset({1, 2, 3, 4})}\") # Saída: True\n",
        "print(f\"set1 e {4, 5} são disjuntos? {set1.isdisjoint({4, 5})}\")       # Saída: True"
      ],
      "outputs": [
        {
          "output_type": "stream",
          "name": "stdout",
          "text": [
            "set1 é subconjunto de (1, 2, 3, 4)? True\n",
            "set1 e (4, 5) são disjuntos? True\n"
          ]
        }
      ],
      "execution_count": 178,
      "metadata": {
        "id": "uhUrYZKAhril",
        "colab": {
          "base_uri": "https://localhost:8080/"
        },
        "outputId": "350052ef-2d47-4387-9c7c-689ef1376744"
      }
    },
    {
      "cell_type": "markdown",
      "source": [
        "* **Métodos de Dicionário:** Acesso e manipulação."
      ],
      "metadata": {
        "id": "ZZthc3U3hril"
      }
    },
    {
      "cell_type": "code",
      "source": [
        "pessoa = {\"nome\": \"Maria\", \"idade\": 28}\n",
        "# setdefault: obtém valor ou define um padrão se a chave não existe\n",
        "cidade = pessoa.setdefault(\"cidade\", \"Não informada\")\n",
        "print(f\"Cidade: {cidade}\") # Saída: Não informada\n",
        "print(f\"Pessoa após setdefault: {pessoa}\") # Saída: {'nome': 'Maria', 'idade': 28, 'cidade': 'Não informada'}\n",
        "\n",
        "outros_dados = {\"profissao\": \"Advogada\"}\n",
        "pessoa.update(outros_dados) # Mescla outro dicionário no atual\n",
        "print(f\"Pessoa após update: {pessoa}\") # Saída: {'nome': 'Maria', 'idade': 28, 'cidade': 'Não informada', 'profissao': 'Advogada'}"
      ],
      "outputs": [
        {
          "output_type": "stream",
          "name": "stdout",
          "text": [
            "Cidade: Não informada\n",
            "Pessoa após setdefault: {'nome': 'Maria', 'idade': 28, 'cidade': 'Não informada'}\n",
            "Pessoa após update: {'nome': 'Maria', 'idade': 28, 'cidade': 'Não informada', 'profissao': 'Advogada'}\n"
          ]
        }
      ],
      "execution_count": 179,
      "metadata": {
        "id": "T1h0NJW8hril",
        "colab": {
          "base_uri": "https://localhost:8080/"
        },
        "outputId": "b5cd203f-e7ec-464e-895d-41851794c155"
      }
    },
    {
      "cell_type": "markdown",
      "source": [
        "* **Funções Gerais de Sequência:** `len()`, `min()`, `max()`, `sum()`."
      ],
      "metadata": {
        "id": "4QUzmYm4hril"
      }
    },
    {
      "cell_type": "code",
      "source": [
        "numeros = [5, 2, 8, 1, 9]\n",
        "nome = \"Python\"\n",
        "print(f\"Tamanho da lista: {len(numeros)}\") # Saída: 5\n",
        "print(f\"Tamanho da string: {len(nome)}\")   # Saída: 6\n",
        "print(f\"Menor número: {min(numeros)}\")     # Saída: 1\n",
        "print(f\"Maior número: {max(numeros)}\")     # Saída: 9\n",
        "print(f\"Soma dos números: {sum(numeros)}\") # Saída: 25\n",
        "print(f\"Menor caractere (ordem Unicode): {min(nome)}\") # Saída: P\n",
        "print(f\"Maior caractere (ordem Unicode): {max(nome)}\") # Saída: y"
      ],
      "outputs": [
        {
          "output_type": "stream",
          "name": "stdout",
          "text": [
            "Tamanho da lista: 5\n",
            "Tamanho da string: 6\n",
            "Menor número: 1\n",
            "Maior número: 9\n",
            "Soma dos números: 25\n",
            "Menor caractere (ordem Unicode): P\n",
            "Maior caractere (ordem Unicode): y\n"
          ]
        }
      ],
      "execution_count": 180,
      "metadata": {
        "id": "6fdJaT3-hrim",
        "colab": {
          "base_uri": "https://localhost:8080/"
        },
        "outputId": "49136aa2-e1c9-4590-c608-89f9470d3936"
      }
    },
    {
      "cell_type": "markdown",
      "source": [
        "**VI. Conclusão**\n",
        "\n",
        "Este estudo detalhado explorou os conceitos fundamentais de variáveis, palavras-chave, operadores e tipos de dados em Python. A compreensão desses elementos é essencial para qualquer pessoa que deseja programar em Python, pois eles formam a base para construir programas mais complexos e sofisticados. Através da utilização correta de variáveis, da compreensão do propósito das palavras-chave, do emprego eficaz de operadores e da escolha apropriada de tipos de dados, os programadores podem escrever código Python eficiente, legível e robusto. A variedade de funções embutidas e módulos disponíveis em Python oferece ainda mais ferramentas para manipular e trabalhar com esses elementos fundamentais, capacitando os desenvolvedores a resolver uma ampla gama de problemas de programação.\n",
        "\n",
        "---"
      ],
      "metadata": {
        "id": "rafOGE8Hhrim"
      }
    }
  ],
  "metadata": {
    "colab": {
      "provenance": []
    },
    "kernelspec": {
      "display_name": "Python 3",
      "name": "python3"
    }
  },
  "nbformat": 4,
  "nbformat_minor": 0
}