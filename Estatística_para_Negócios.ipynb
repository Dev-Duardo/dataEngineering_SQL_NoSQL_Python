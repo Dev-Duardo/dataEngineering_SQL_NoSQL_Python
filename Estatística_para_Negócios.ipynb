{
  "cells": [
    {
      "cell_type": "markdown",
      "source": [
        "# **Estatística para Negócios: Uma Abordagem Prática com Exemplos e Implementação em Python**\n",
        "\n",
        "**1. Introdução à Estatística para Negócios**\n",
        "\n",
        "A estatística desempenha um papel fundamental no cenário empresarial moderno, fornecendo a estrutura necessária para a tomada de decisões informadas. Em vez de depender da intuição ou de experiências isoladas, as empresas podem utilizar a estatística para analisar dados, identificar tendências, descobrir padrões e prever resultados futuros. Essa abordagem baseada em dados permite avaliar riscos, otimizar processos e, em última análise, obter uma vantagem competitiva no mercado. A análise estatística ajuda a mapear o comportamento dos clientes, detectar hábitos de compra e antecipar necessidades, possibilitando a personalização de ofertas e a melhoria da experiência do consumidor. Ao analisar dados de produção, logística e processos internos, as empresas podem identificar gargalos, prever falhas e otimizar a alocação de recursos, contribuindo para o aumento da produtividade e a redução de custos.\n",
        "\n",
        "Este relatório tem como objetivo fornecer uma visão abrangente dos principais conceitos estatísticos aplicáveis ao contexto de negócios, ilustrando cada tópico com exemplos práticos e demonstrações de implementação utilizando a linguagem de programação Python. Serão abordados os seguintes temas: Estatísticas Descritivas, Estatísticas Inferenciais, Dados Qualitativos e Quantitativos, Técnicas de Amostragem, Análise Descritiva, Probabilidade, Distribuição de Probabilidades, Covariância e Correlação, e Teste de Hipóteses. Ao final deste relatório, espera-se que o leitor compreenda a importância da estatística para a análise de negócios e seja capaz de aplicar esses conceitos utilizando Python."
      ],
      "metadata": {
        "id": "VHimh0zlyZnq"
      }
    },
    {
      "cell_type": "code",
      "source": [
        "# --- Bloco de Código Adicional: Imports Comuns ---\n",
        "import pandas as pd\n",
        "import numpy as np\n",
        "import matplotlib.pyplot as plt\n",
        "import seaborn as sns\n",
        "from scipy import stats\n",
        "\n",
        "# Configurações de visualização (opcional)\n",
        "sns.set_theme(style=\"whitegrid\", palette=\"pastel\")\n",
        "print(\"Bibliotecas carregadas.\")\n",
        "# --- Fim Bloco de Código Adicional ---"
      ],
      "outputs": [
        {
          "output_type": "stream",
          "name": "stdout",
          "text": [
            "Bibliotecas carregadas.\n"
          ]
        }
      ],
      "execution_count": 1,
      "metadata": {
        "colab": {
          "base_uri": "https://localhost:8080/"
        },
        "id": "Y8DkcSF9yZn1",
        "outputId": "30ce074b-65e2-466c-c915-00ce3d29d858"
      }
    },
    {
      "cell_type": "markdown",
      "source": [
        "**2. Estatísticas Descritivas: Entendendo seus Dados**\n",
        "\n",
        "As estatísticas descritivas são ferramentas essenciais na análise de negócios, pois permitem resumir e descrever as principais características de um conjunto de dados. Antes de aplicar técnicas mais avançadas, é crucial entender a tendência central, a variabilidade e a forma dos dados. Essa compreensão inicial fornece insights valiosos e prepara o terreno para análises mais aprofundadas e para a tomada de decisões estratégicas. A análise descritiva auxilia as empresas na compreensão do seu mercado e do comportamento dos clientes, identificando tendências e padrões recorrentes, o que facilita a tomada de decisões baseada em dados, em vez de escolhas puramente intuitivas.\n",
        "\n",
        "**2.1 Medidas de Tendência Central**\n",
        "\n",
        "As medidas de tendência central indicam o valor típico ou central em um conjunto de dados. As mais comuns são a média, a mediana e a moda.\n",
        "\n",
        "**2.1.1 Média**\n",
        "\n",
        "A média é a medida de tendência central mais comum e representa o valor médio de um conjunto de dados. É calculada somando todos os valores e dividindo pelo número total de observações. Por exemplo, uma empresa pode calcular a média de vendas por dia no último mês para entender o desempenho típico de vendas. No entanto, é importante notar que a média pode ser fortemente influenciada por valores atípicos."
      ],
      "metadata": {
        "id": "K3zir3zWyZn9"
      }
    },
    {
      "cell_type": "code",
      "source": [
        "# --- Bloco de Código Adicional: Média ---\n",
        "import pandas as pd\n",
        "import numpy as np\n",
        "\n",
        "# Dados hipotéticos de vendas diárias (em unidades) durante 10 dias\n",
        "# Incluindo um possível outlier no último dia\n",
        "vendas_diarias_lista = [105, 98, 112, 108, 115, 95, 101, 105, 110, 250]\n",
        "vendas = pd.Series(vendas_diarias_lista, name=\"Vendas Diárias\")\n",
        "\n",
        "# Calculando a média com Pandas\n",
        "media_vendas_pd = vendas.mean()\n",
        "print(f\"(Pandas) Média de vendas diárias: {media_vendas_pd:.2f}\")\n",
        "\n",
        "# Calculando a média com NumPy\n",
        "media_vendas_np = np.mean(vendas.values) # Usando .values para obter o array NumPy\n",
        "print(f\"(NumPy) Média de vendas diárias: {media_vendas_np:.2f}\")\n",
        "# --- Fim Bloco de Código Adicional ---"
      ],
      "outputs": [],
      "execution_count": null,
      "metadata": {
        "id": "SqZ_-RjSyZn-"
      }
    },
    {
      "cell_type": "markdown",
      "source": [
        "**2.1.2 Mediana**\n",
        "\n",
        "A mediana é o valor do meio em um conjunto de dados ordenado. Se houver um número par de observações, a mediana é a média dos dois valores centrais. A mediana é uma medida de tendência central mais robusta do que a média na presença de valores atípicos, pois não é afetada por eles. Por exemplo, ao analisar o gasto do cliente, a mediana pode fornecer uma representação melhor do valor típico da transação do que a média, especialmente se houver alguns clientes com gastos muito altos ou muito baixos."
      ],
      "metadata": {
        "id": "OIg5hnqiyZn_"
      }
    },
    {
      "cell_type": "code",
      "source": [
        "# --- Bloco de Código Adicional: Mediana ---\n",
        "# Usando os mesmos dados 'vendas'\n",
        "# Calculando a mediana com Pandas\n",
        "mediana_vendas_pd = vendas.median()\n",
        "print(f\"(Pandas) Mediana de vendas diárias: {mediana_vendas_pd}\")\n",
        "\n",
        "# Calculando a mediana com NumPy\n",
        "mediana_vendas_np = np.median(vendas.values)\n",
        "print(f\"(NumPy) Mediana de vendas diárias: {mediana_vendas_np}\")\n",
        "# Note como a mediana (106.5) é menos afetada pelo outlier (250) do que a média (119.90)\n",
        "# --- Fim Bloco de Código Adicional ---"
      ],
      "outputs": [],
      "execution_count": null,
      "metadata": {
        "id": "T04gQ_j5yZoA"
      }
    },
    {
      "cell_type": "markdown",
      "source": [
        "**2.1.3 Moda**\n",
        "\n",
        "A moda é o valor que ocorre com maior frequência em um conjunto de dados. Um conjunto de dados pode ter uma moda (unimodal), mais de uma moda (bimodal ou multimodal) ou nenhuma moda (se todos os valores forem únicos). A moda é particularmente útil para dados categóricos ou discretos. Por exemplo, identificar o produto mais frequentemente comprado ajuda a empresa a entender as preferências dos clientes."
      ],
      "metadata": {
        "id": "ecqBhg5CyZoC"
      }
    },
    {
      "cell_type": "code",
      "source": [
        "# --- Bloco de Código Adicional: Moda ---\n",
        "# Usando os mesmos dados 'vendas'\n",
        "# Calculando a moda com Pandas (pode retornar múltiplas modas se houver)\n",
        "moda_vendas_pd = vendas.mode()\n",
        "print(f\"(Pandas) Moda(s) de vendas diárias:\\n{moda_vendas_pd}\") # Neste caso, 105 aparece duas vezes\n",
        "\n",
        "# Calculando a moda com SciPy (geralmente retorna a menor das modas se houver empate)\n",
        "from scipy import stats\n",
        "moda_vendas_scipy = stats.mode(vendas.values, keepdims=False)\n",
        "print(f\"(SciPy) Moda de vendas diárias: {moda_vendas_scipy.mode} (contagem: {moda_vendas_scipy.count})\")\n",
        "\n",
        "# Exemplo com dados categóricos\n",
        "produtos_vendidos = pd.Series(['Camisa', 'Calça', 'Camisa', 'Meia', 'Camisa', 'Calça'])\n",
        "moda_produtos = produtos_vendidos.mode()\n",
        "print(f\"\\nModa de produtos vendidos:\\n{moda_produtos}\")\n",
        "# --- Fim Bloco de Código Adicional ---"
      ],
      "outputs": [],
      "execution_count": null,
      "metadata": {
        "id": "ChraW0EqyZoD"
      }
    },
    {
      "cell_type": "markdown",
      "source": [
        "**2.2 Medidas de Dispersão**\n",
        "\n",
        "As medidas de dispersão indicam o grau de variabilidade ou espalhamento dos dados em torno da medida de tendência central. As mais comuns são o alcance, o intervalo interquartil (IQR), o desvio padrão e a variância.\n",
        "\n",
        "**2.2.1 Alcance**\n",
        "\n",
        "O alcance é a medida de dispersão mais simples e é calculado como a diferença entre o valor máximo e o valor mínimo em um conjunto de dados. Por exemplo, o alcance dos preços de uma linha de produtos pode dar uma ideia da amplitude de preços oferecida pela empresa. No entanto, o alcance é altamente sensível a valores atípicos."
      ],
      "metadata": {
        "id": "1u8yaVv7yZoE"
      }
    },
    {
      "cell_type": "code",
      "source": [
        "# --- Bloco de Código Adicional: Alcance ---\n",
        "# Usando os mesmos dados 'vendas'\n",
        "# Calculando o alcance com Pandas\n",
        "alcance_vendas_pd = vendas.max() - vendas.min()\n",
        "print(f\"(Pandas) Alcance de vendas diárias: {alcance_vendas_pd}\")\n",
        "\n",
        "# Calculando o alcance com NumPy (função ptp - peak to peak)\n",
        "alcance_vendas_np = np.ptp(vendas.values)\n",
        "print(f\"(NumPy) Alcance de vendas diárias: {alcance_vendas_np}\")\n",
        "# O alcance é grande (155) devido ao outlier 250.\n",
        "# --- Fim Bloco de Código Adicional ---"
      ],
      "outputs": [],
      "execution_count": null,
      "metadata": {
        "id": "Ogf6ud1EyZoF"
      }
    },
    {
      "cell_type": "markdown",
      "source": [
        "**2.2.2 Intervalo Interquartil (IQR)**\n",
        "\n",
        "O IQR é a diferença entre o terceiro quartil (Q3) e o primeiro quartil (Q1) e representa a dispersão dos 50% centrais dos dados. O IQR é uma medida de dispersão mais robusta do que o alcance, pois não é afetado por valores extremos. Por exemplo, o IQR das idades dos clientes pode indicar a faixa etária da maioria dos clientes, sem ser influenciado por clientes muito jovens ou muito idosos."
      ],
      "metadata": {
        "id": "rikTk6BuyZoH"
      }
    },
    {
      "cell_type": "code",
      "source": [
        "# --- Bloco de Código Adicional: IQR ---\n",
        "# Usando os mesmos dados 'vendas'\n",
        "# Calculando Q1 e Q3 com Pandas\n",
        "q1_pd = vendas.quantile(0.25)\n",
        "q3_pd = vendas.quantile(0.75)\n",
        "iqr_vendas_pd = q3_pd - q1_pd\n",
        "print(f\"(Pandas) Q1: {q1_pd:.2f}, Q3: {q3_pd:.2f}\")\n",
        "print(f\"(Pandas) Intervalo Interquartil de vendas diárias: {iqr_vendas_pd:.2f}\")\n",
        "\n",
        "# Calculando com NumPy percentile\n",
        "q1_np, q3_np = np.percentile(vendas.values, [25, 75])\n",
        "iqr_vendas_np = q3_np - q1_np\n",
        "print(f\"(NumPy) Q1: {q1_np:.2f}, Q3: {q3_np:.2f}\")\n",
        "print(f\"(NumPy) Intervalo Interquartil de vendas diárias: {iqr_vendas_np:.2f}\")\n",
        "\n",
        "# Calculando com SciPy stats\n",
        "iqr_vendas_scipy = stats.iqr(vendas.values)\n",
        "print(f\"(SciPy) Intervalo Interquartil de vendas diárias: {iqr_vendas_scipy:.2f}\")\n",
        "# O IQR (11.25) é muito menor que o alcance, mostrando a dispersão dos dados centrais.\n",
        "# --- Fim Bloco de Código Adicional ---"
      ],
      "outputs": [],
      "execution_count": null,
      "metadata": {
        "id": "_b1F8-I7yZoK"
      }
    },
    {
      "cell_type": "markdown",
      "source": [
        "**2.2.3 Desvio Padrão**\n",
        "\n",
        "O desvio padrão mede a quantidade média de variação ou dispersão dos valores de um conjunto de dados em relação à sua média. Um desvio padrão alto indica maior variabilidade, enquanto um baixo indica que os dados estão mais agrupados em torno da média. Por exemplo, calcular o desvio padrão dos tempos de entrega pode ajudar a empresa a entender a consistência do seu processo de entrega."
      ],
      "metadata": {
        "id": "B4K_d-80yZoL"
      }
    },
    {
      "cell_type": "code",
      "source": [
        "# --- Bloco de Código Adicional: Desvio Padrão ---\n",
        "# Usando os mesmos dados 'vendas'\n",
        "# Calculando o desvio padrão amostral (ddof=1 por padrão no Pandas)\n",
        "desvio_padrao_pd = vendas.std()\n",
        "print(f\"(Pandas) Desvio padrão amostral de vendas diárias: {desvio_padrao_pd:.2f}\")\n",
        "\n",
        "# Calculando o desvio padrão amostral com NumPy (precisa especificar ddof=1)\n",
        "desvio_padrao_np = np.std(vendas.values, ddof=1)\n",
        "print(f\"(NumPy) Desvio padrão amostral de vendas diárias: {desvio_padrao_np:.2f}\")\n",
        "# O desvio padrão (47.76) também é inflado pelo outlier.\n",
        "# --- Fim Bloco de Código Adicional ---"
      ],
      "outputs": [],
      "execution_count": null,
      "metadata": {
        "id": "RZkffnhYyZoM"
      }
    },
    {
      "cell_type": "markdown",
      "source": [
        "**2.2.4 Variância**\n",
        "\n",
        "A variância é outra medida de dispersão que representa a média dos quadrados das diferenças entre cada valor e a média. A variância é o quadrado do desvio padrão. Embora a variância seja matematicamente útil, o desvio padrão é frequentemente mais fácil de interpretar, pois está na mesma unidade dos dados originais. Por exemplo, calcular a variância dos custos de diferentes campanhas de marketing pode ajudar a entender a dispersão do investimento."
      ],
      "metadata": {
        "id": "tOBur90nyZoN"
      }
    },
    {
      "cell_type": "code",
      "source": [
        "# --- Bloco de Código Adicional: Variância ---\n",
        "# Usando os mesmos dados 'vendas'\n",
        "# Calculando a variância amostral (ddof=1 por padrão no Pandas)\n",
        "variancia_pd = vendas.var()\n",
        "print(f\"(Pandas) Variância amostral de vendas diárias: {variancia_pd:.2f}\")\n",
        "\n",
        "# Calculando a variância amostral com NumPy (precisa especificar ddof=1)\n",
        "variancia_np = np.var(vendas.values, ddof=1)\n",
        "print(f\"(NumPy) Variância amostral de vendas diárias: {variancia_np:.2f}\")\n",
        "# Note que variancia ≈ desvio_padrao ao quadrado (47.76^2 ≈ 2280.99)\n",
        "# --- Fim Bloco de Código Adicional ---"
      ],
      "outputs": [],
      "execution_count": null,
      "metadata": {
        "id": "4eN7cMY7yZoO"
      }
    },
    {
      "cell_type": "code",
      "source": [
        "# --- Bloco de Código Adicional: Visualização Descritiva Rápida ---\n",
        "import matplotlib.pyplot as plt\n",
        "import seaborn as sns\n",
        "\n",
        "plt.figure(figsize=(12, 5))\n",
        "\n",
        "plt.subplot(1, 2, 1)\n",
        "sns.histplot(vendas, kde=True, bins=5) # bins=5 para agrupar mais\n",
        "plt.title('Histograma das Vendas Diárias')\n",
        "plt.xlabel('Vendas')\n",
        "plt.ylabel('Frequência')\n",
        "\n",
        "plt.subplot(1, 2, 2)\n",
        "sns.boxplot(y=vendas)\n",
        "plt.title('Box Plot das Vendas Diárias')\n",
        "plt.ylabel('Vendas')\n",
        "\n",
        "plt.tight_layout()\n",
        "plt.show()\n",
        "# Os gráficos ajudam a visualizar a distribuição e o outlier.\n",
        "# --- Fim Bloco de Código Adicional ---"
      ],
      "outputs": [],
      "execution_count": null,
      "metadata": {
        "id": "zFyuqvR2yZoP"
      }
    },
    {
      "cell_type": "markdown",
      "source": [
        "**3. Estatísticas Inferenciais: Fazendo Inferências a Partir de Dados**\n",
        "\n",
        "A estatística inferencial é um ramo da estatística que utiliza dados de amostras para fazer inferências ou previsões sobre uma população maior. Em vez de analisar todos os elementos de uma população, o que muitas vezes é impraticável ou impossível, a estatística inferencial permite que as empresas tirem conclusões que vão além dos dados imediatos disponíveis. Isso é fundamental para a pesquisa de mercado, previsão de vendas e avaliação da eficácia de intervenções. O principal objetivo da estatística inferencial nos negócios é estimar valores de parâmetros populacionais desconhecidos utilizando dados amostrais.\n",
        "\n",
        "**3.1 Teste de Hipóteses**\n",
        "\n",
        "O teste de hipóteses é um procedimento formal utilizado na estatística inferencial para determinar se há evidências suficientes em uma amostra de dados para rejeitar uma afirmação sobre uma população. Este processo envolve a formulação de duas hipóteses: a hipótese nula (H0) e a hipótese alternativa (H1). A hipótese nula geralmente representa uma afirmação de \"não efeito\" ou \"não diferença\", enquanto a hipótese alternativa contradiz a hipótese nula. Por exemplo, a hipótese nula pode ser que uma nova campanha de marketing não teve impacto nas vendas, enquanto a hipótese alternativa seria que ela teve um impacto. O teste de hipóteses permite que as empresas validem suposições e determinem se os efeitos observados são estatisticamente significativos ou apenas resultado do acaso.\n",
        "\n",
        "Exemplo: Uma empresa deseja comparar o desempenho de duas estratégias de marketing diferentes (A e B) em termos de taxas de conversão médias.\n",
        "\n",
        "Hipótese Nula (H0): Não há diferença significativa nas taxas de conversão médias entre as estratégias A e B (μ_A = μ_B).\n",
        "Hipótese Alternativa (H1): Há uma diferença significativa nas taxas de conversão médias entre as estratégias A e B (μ_A ≠ μ_B)."
      ],
      "metadata": {
        "id": "GB9tK39ByZoR"
      }
    },
    {
      "cell_type": "code",
      "source": [
        "# --- Bloco de Código Adicional: Visualização antes do Teste T ---\n",
        "import matplotlib.pyplot as plt\n",
        "import seaborn as sns\n",
        "\n",
        "taxas_conversao_A = np.array([3.5, 4.1, 3.8, 4.5, 4.0, 3.9, 4.2]) # Adicionado mais dados\n",
        "taxas_conversao_B = np.array([3.9, 4.3, 4.0, 4.8, 4.5, 4.6, 4.9]) # Adicionado mais dados\n",
        "\n",
        "# Criar um DataFrame para facilitar a visualização com Seaborn\n",
        "df_conversao = pd.DataFrame({\n",
        "    'Taxa': np.concatenate([taxas_conversao_A, taxas_conversao_B]),\n",
        "    'Estrategia': ['A'] * len(taxas_conversao_A) + ['B'] * len(taxas_conversao_B)\n",
        "})\n",
        "\n",
        "plt.figure(figsize=(6, 4))\n",
        "sns.boxplot(data=df_conversao, x='Estrategia', y='Taxa', palette='Set2')\n",
        "plt.title('Box Plot das Taxas de Conversão por Estratégia')\n",
        "plt.xlabel('Estratégia de Marketing')\n",
        "plt.ylabel('Taxa de Conversão (%)')\n",
        "plt.show()\n",
        "# O Box Plot sugere visualmente que a Estratégia B pode ter taxas ligeiramente maiores.\n",
        "# --- Fim Bloco de Código Adicional ---\n",
        "\n",
        "from scipy import stats\n",
        "import numpy as np\n",
        "\n",
        "# Dados hipotéticos de taxas de conversão para as estratégias A e B (em porcentagem)\n",
        "# Usando os dados aumentados do bloco anterior\n",
        "# taxas_conversao_A = np.array([3.5, 4.1, 3.8, 4.5, 4.0, 3.9, 4.2])\n",
        "# taxas_conversao_B = np.array([3.9, 4.3, 4.0, 4.8, 4.5, 4.6, 4.9])\n",
        "\n",
        "# Realizar um teste t independente para comparar as médias das duas amostras\n",
        "# Verificar igualdade de variâncias (Teste de Levene)\n",
        "stat_levene, p_levene = stats.levene(taxas_conversao_A, taxas_conversao_B)\n",
        "print(f\"\\nTeste de Levene para Variâncias: p-valor = {p_levene:.3f}\")\n",
        "equal_var_flag = p_levene > 0.05 # Assume variâncias iguais se p > 0.05\n",
        "\n",
        "teste_t = stats.ttest_ind(taxas_conversao_A, taxas_conversao_B, equal_var=equal_var_flag)\n",
        "\n",
        "print(f\"\\n--- Teste T (Variâncias Iguais = {equal_var_flag}) ---\")\n",
        "print(f\"Média A: {np.mean(taxas_conversao_A):.2f}, Média B: {np.mean(taxas_conversao_B):.2f}\")\n",
        "print(f\"Estatística t: {teste_t.statistic:.2f}\")\n",
        "print(f\"Valor p: {teste_t.pvalue:.3f}\")\n",
        "\n",
        "# Interpretação do valor p\n",
        "alpha = 0.05  # Nível de significância\n",
        "if teste_t.pvalue < alpha:\n",
        "    print(f\"Como p ({teste_t.pvalue:.3f}) < alpha ({alpha}), rejeitamos a hipótese nula.\")\n",
        "    print(\"Há evidências de uma diferença significativa nas taxas de conversão entre as estratégias A e B.\")\n",
        "else:\n",
        "    print(f\"Como p ({teste_t.pvalue:.3f}) >= alpha ({alpha}), não rejeitamos a hipótese nula.\")\n",
        "    print(\"Não há evidências suficientes para concluir que há uma diferença significativa nas taxas de conversão.\")"
      ],
      "outputs": [],
      "execution_count": null,
      "metadata": {
        "id": "sDxK9LiJyZoS"
      }
    },
    {
      "cell_type": "markdown",
      "source": [
        "Neste exemplo, o valor p obtido do teste t indica a probabilidade de observar os dados (ou dados mais extremos) se a hipótese nula fosse verdadeira. Se o valor p for menor que um nível de significância predefinido (geralmente 0.05), rejeitamos a hipótese nula, concluindo que há uma diferença significativa entre as médias das duas amostras.\n",
        "\n",
        "**4. Dados Qualitativos e Quantitativos: Tipos e Análise em Negócios**\n",
        "\n",
        "Os dados utilizados em análises estatísticas podem ser classificados em dois tipos principais: qualitativos e quantitativos. Ambos os tipos de dados são cruciais e complementares na análise de dados de negócios.\n",
        "\n",
        "**4.1 Dados Qualitativos**\n",
        "\n",
        "Dados qualitativos são informações descritivas que capturam qualidades ou características não numéricas. Eles ajudam a compreender percepções, sentimentos, opiniões e comportamentos de um público. Exemplos relevantes para negócios incluem feedback de clientes, transcrições de entrevistas, respostas abertas de pesquisas e discussões em grupos focais. Os dados qualitativos são frequentemente utilizados para formular hipóteses, fornecendo insights sobre problemas, insatisfações e o que os clientes valorizam. Por exemplo, ao coletar opiniões abertas sobre um produto, uma empresa pode identificar problemas como preço ou funcionalidade. A análise de dados qualitativos envolve a identificação de padrões e temas recorrentes nas respostas dos clientes, com ferramentas de análise de texto auxiliando na transformação de feedbacks em insights acionáveis. Métodos comuns de análise incluem análise de conteúdo, análise de discurso e análise temática.\n",
        "\n",
        "Exemplo de cenário: Uma empresa de software realiza entrevistas com usuários para entender suas experiências com um novo aplicativo. As respostas são dados qualitativos que podem ser analisados para identificar os principais pontos fortes e fracos do aplicativo, bem como as necessidades e desejos dos usuários."
      ],
      "metadata": {
        "id": "yob4H4S0yZoT"
      }
    },
    {
      "cell_type": "code",
      "source": [
        "import pandas as pd\n",
        "\n",
        "# Exemplo de dados qualitativos: feedback de clientes sobre um produto\n",
        "feedback_lista = [\n",
        "    \"O produto é fácil de usar e intuitivo.\",\n",
        "    \"Achei o preço um pouco alto.\",\n",
        "    \"Gostaria que tivesse mais funcionalidades, como integração X.\",\n",
        "    \"O suporte ao cliente foi excelente e rápido.\",\n",
        "    \"O produto atendeu às minhas expectativas, mas a interface poderia ser melhor.\",\n",
        "    \"Preço alto comparado aos concorrentes.\",\n",
        "    \"Fácil de configurar inicialmente.\",\n",
        "    \"O suporte demorou para responder meu email.\",\n",
        "    \"Adorei a funcionalidade de relatório!\"\n",
        "]\n",
        "feedback = pd.Series(feedback_lista, name=\"Feedback\")\n",
        "\n",
        "print(\"Feedback dos clientes:\\n\", feedback)\n",
        "\n",
        "# --- Bloco de Código Adicional: Análise Qualitativa Simples ---\n",
        "# Contagem de palavras chave (exemplo muito básico)\n",
        "contagem_preco = feedback.str.contains('preço|alto', case=False).sum()\n",
        "contagem_facil = feedback.str.contains('fácil|facil', case=False).sum()\n",
        "contagem_suporte = feedback.str.contains('suporte', case=False).sum()\n",
        "contagem_funcionalidade = feedback.str.contains('funcionalidade|integração', case=False).sum()\n",
        "\n",
        "print(\"\\nContagem de menções (exemplo):\")\n",
        "print(f\"- Preço/Alto: {contagem_preco}\")\n",
        "print(f\"- Fácil: {contagem_facil}\")\n",
        "print(f\"- Suporte: {contagem_suporte}\")\n",
        "print(f\"- Funcionalidade/Integração: {contagem_funcionalidade}\")\n",
        "# Ferramentas mais avançadas (NLP) são necessárias para análise profunda.\n",
        "# --- Fim Bloco de Código Adicional ---"
      ],
      "outputs": [],
      "execution_count": null,
      "metadata": {
        "id": "S40_se1NyZoU"
      }
    },
    {
      "cell_type": "markdown",
      "source": [
        "**4.2 Dados Quantitativos**\n",
        "\n",
        "Dados quantitativos são definidos como qualquer conjunto de dados que possua um valor mensurável e possa ser contado objetivamente. Eles são expressos numericamente e representam valores contáveis (discretos) ou que podem assumir qualquer valor dentro de um intervalo (contínuos). Exemplos comuns em negócios incluem números de vendas, tráfego de websites, dados financeiros e resultados de pesquisas com escalas de avaliação numérica. Os dados quantitativos são usados para confirmar hipóteses e buscar respostas gerais, permitindo quantificar a relevância de um problema para a base de clientes. Por exemplo, uma pesquisa quantitativa pode revelar que 60% dos clientes estão insatisfeitos com a relação quantidade-custo de um produto, confirmando a hipótese levantada pela pesquisa qualitativa. A análise de dados quantitativos frequentemente envolve o cálculo de estatísticas descritivas, a realização de testes de hipóteses e a construção de modelos preditivos.\n",
        "\n",
        "Exemplo de cenário: Uma loja online coleta dados sobre o número de visitas ao seu website diariamente e o valor total das vendas realizadas. Esses dados quantitativos podem ser analisados para identificar tendências de vendas ao longo do tempo ou para avaliar o impacto de campanhas de marketing no tráfego e nas vendas."
      ],
      "metadata": {
        "id": "wXYQfjEcyZoV"
      }
    },
    {
      "cell_type": "code",
      "source": [
        "import matplotlib.pyplot as plt\n",
        "import seaborn as sns\n",
        "\n",
        "# Exemplo de dados quantitativos: vendas diárias e visitas ao website\n",
        "dados_vendas = {'Data': pd.to_datetime(['2024-07-01', '2024-07-02', '2024-07-03', '2024-07-04', '2024-07-05', '2024-07-06', '2024-07-07']),\n",
        "                'Vendas': [1500, 1750, 1600, 1800, 1950, 2100, 2050], # Dados preenchidos\n",
        "                'Visitas': [300, 350, 320, 380, 400, 450, 430]} # Dados preenchidos\n",
        "df_vendas = pd.DataFrame(dados_vendas)\n",
        "df_vendas.set_index('Data', inplace=True) # Define a coluna Data como índice\n",
        "\n",
        "print(\"Dados de vendas:\\n\", df_vendas)\n",
        "\n",
        "# --- Bloco de Código Adicional: Análise Quantitativa Simples ---\n",
        "print(\"\\nEstatísticas Descritivas (Vendas e Visitas):\\n\", df_vendas.describe())\n",
        "\n",
        "# Visualização de Tendências\n",
        "plt.figure(figsize=(10, 5))\n",
        "plt.plot(df_vendas.index, df_vendas['Vendas'], marker='o', linestyle='-', label='Vendas Diárias ($)')\n",
        "plt.plot(df_vendas.index, df_vendas['Visitas'], marker='x', linestyle='--', label='Visitas Diárias')\n",
        "plt.title('Vendas e Visitas Diárias ao Longo do Tempo')\n",
        "plt.xlabel('Data')\n",
        "plt.ylabel('Valor / Contagem')\n",
        "plt.legend()\n",
        "plt.xticks(rotation=45)\n",
        "plt.tight_layout()\n",
        "plt.show()\n",
        "\n",
        "# Relação entre Visitas e Vendas\n",
        "plt.figure(figsize=(7, 5))\n",
        "sns.scatterplot(data=df_vendas, x='Visitas', y='Vendas')\n",
        "plt.title('Relação entre Visitas e Vendas')\n",
        "plt.xlabel('Número de Visitas')\n",
        "plt.ylabel('Vendas ($)')\n",
        "plt.grid(True, linestyle=':', alpha=0.6)\n",
        "plt.show()\n",
        "# --- Fim Bloco de Código Adicional ---"
      ],
      "outputs": [],
      "execution_count": null,
      "metadata": {
        "id": "VchiwsWRyZoW"
      }
    },
    {
      "cell_type": "markdown",
      "source": [
        "A integração de dados qualitativos e quantitativos proporciona uma visão mais completa dos desafios e oportunidades de negócios. A pesquisa qualitativa geralmente precede a quantitativa, ajudando a refinar as perguntas e a entender o contexto antes de buscar números concretos.\n",
        "\n",
        "**5. Técnicas de Amostragem: Selecionando Dados Representativos**\n",
        "\n",
        "Em muitas situações de negócios, coletar dados de toda a população de interesse é impraticável. As técnicas de amostragem permitem selecionar um subconjunto representativo da população (a amostra) para realizar análises e tirar conclusões sobre toda a população. A escolha da técnica de amostragem adequada é crucial para garantir que a amostra reflita com precisão as características da população, assegurando a validade das inferências estatísticas.\n",
        "\n",
        "Existem diversas técnicas de amostragem, sendo algumas das mais comuns em pesquisas de negócios:\n",
        "\n",
        "* **Amostragem Aleatória Simples:** Cada membro da população tem a mesma probabilidade de ser selecionado para a amostra. É como tirar nomes de um chapéu. Essa técnica é apropriada quando a população é homogênea. Por exemplo, selecionar aleatoriamente clientes de um banco de dados para uma pesquisa de satisfação geral.\n",
        "* **Amostragem Estratificada:** A população é dividida em subgrupos (estratos) com base em características relevantes (por exemplo, idade, renda, região geográfica), e uma amostra aleatória simples é então retirada de cada estrato. Essa técnica garante que todos os subgrupos importantes sejam representados na amostra de forma proporcional. Por exemplo, em uma pesquisa de mercado, pode-se estratificar a amostra por faixas de renda para garantir a inclusão de consumidores de diferentes níveis econômicos.\n",
        "* **Amostragem por Conglomerados (Clusters):** A população é dividida em grupos ou aglomerados (por exemplo, bairros, escolas, empresas), e uma amostra aleatória de aglomerados é selecionada. Todos os membros dos aglomerados selecionados são incluídos na amostra. Essa técnica é útil quando a população está naturalmente agrupada e é difícil obter uma lista completa de todos os indivíduos. Por exemplo, para pesquisar pequenas empresas em uma cidade, pode-se selecionar aleatoriamente alguns bairros (os aglomerados) e entrevistar todas as empresas nesses bairros."
      ],
      "metadata": {
        "id": "TxTM3Yd4yZoW"
      }
    },
    {
      "cell_type": "code",
      "source": [
        "# --- Bloco de Código Adicional: Exemplos de Amostragem ---\n",
        "# Criar um DataFrame populacional maior para exemplo\n",
        "np.random.seed(101)\n",
        "populacao_data = {\n",
        "    'ID': range(1, 1001),\n",
        "    'Idade': np.random.randint(18, 70, size=1000),\n",
        "    'Regiao': np.random.choice(['Norte', 'Sul', 'Leste', 'Oeste'], size=1000, p=[0.2, 0.3, 0.35, 0.15]),\n",
        "    'Gasto_Anual': np.random.normal(loc=1500, scale=400, size=1000).clip(min=100)\n",
        "}\n",
        "df_populacao = pd.DataFrame(populacao_data)\n",
        "print(\"\\n--- Técnicas de Amostragem ---\")\n",
        "print(f\"Tamanho da População: {len(df_populacao)}\")\n",
        "\n",
        "# 1. Amostragem Aleatória Simples (Simple Random Sampling)\n",
        "tamanho_amostra_simples = 100\n",
        "amostra_simples = df_populacao.sample(n=tamanho_amostra_simples, random_state=42) # random_state para reprodutibilidade\n",
        "print(f\"\\nTamanho da Amostra Simples: {len(amostra_simples)}\")\n",
        "print(\"Distribuição de Região na Amostra Simples:\\n\", amostra_simples['Regiao'].value_counts(normalize=True))\n",
        "print(\"Distribuição de Região na População:\\n\", df_populacao['Regiao'].value_counts(normalize=True)) # Comparar\n",
        "\n",
        "# 2. Amostragem Estratificada (Stratified Sampling)\n",
        "# Queremos uma amostra de 100, mantendo a proporção das regiões da população\n",
        "# Usando scikit-learn para facilitar (poderia ser feito manualmente com groupby)\n",
        "from sklearn.model_selection import train_test_split\n",
        "\n",
        "# Precisamos de um 'y' para estratificar, usamos a própria coluna de estratificação\n",
        "# 'train_test_split' não é para treino/teste aqui, mas para amostragem estratificada\n",
        "# Pegamos o 'test_set' como nossa amostra estratificada (definindo test_size apropriado)\n",
        "proporcao_amostra = 100 / len(df_populacao)\n",
        "_, amostra_estratificada = train_test_split(\n",
        "    df_populacao,\n",
        "    test_size=proporcao_amostra,\n",
        "    stratify=df_populacao['Regiao'], # Coluna para estratificação\n",
        "    random_state=42\n",
        ")\n",
        "print(f\"\\nTamanho da Amostra Estratificada: {len(amostra_estratificada)}\")\n",
        "print(\"Distribuição de Região na Amostra Estratificada:\\n\", amostra_estratificada['Regiao'].value_counts(normalize=True))\n",
        "# A distribuição na amostra estratificada deve ser muito mais próxima da população.\n",
        "\n",
        "# 3. Amostragem por Conglomerado (Cluster Sampling) - Exemplo Conceitual\n",
        "# Suponha que 'Regiao' seja nosso conglomerado. Selecionamos aleatoriamente algumas regiões.\n",
        "regioes_selecionadas = np.random.choice(df_populacao['Regiao'].unique(), size=2, replace=False) # Escolhe 2 regiões aleatoriamente\n",
        "amostra_cluster = df_populacao[df_populacao['Regiao'].isin(regioes_selecionadas)]\n",
        "print(f\"\\nRegiões Selecionadas (Cluster): {list(regioes_selecionadas)}\")\n",
        "print(f\"Tamanho da Amostra por Cluster: {len(amostra_cluster)}\")\n",
        "# Cuidado: esta amostra não é necessariamente representativa da população inteira em outras características.\n",
        "# --- Fim Bloco de Código Adicional ---"
      ],
      "outputs": [],
      "execution_count": null,
      "metadata": {
        "id": "s1ruJ4zjyZoX"
      }
    },
    {
      "cell_type": "markdown",
      "source": [
        "A escolha da técnica de amostragem depende dos objetivos da pesquisa, das características da população e dos recursos disponíveis. Uma amostra bem selecionada permite que as empresas façam inferências confiáveis sobre a população com base em uma quantidade menor de dados.\n",
        "\n",
        "**6. Análise Descritiva: Sumarizando e Visualizando Dados**\n",
        "\n",
        "A análise descritiva é a etapa inicial da análise de dados e envolve o uso de estatísticas descritivas para resumir as principais características de um conjunto de dados. Ela ajuda a organizar, interpretar e apresentar os dados de forma significativa, facilitando a identificação de padrões, anomalias e tendências. A análise descritiva é essencial para a tomada de decisões informadas em diversas áreas de negócios, como planejamento financeiro, monitoramento de processos industriais e marketing.\n",
        "\n",
        "Em relatórios de vendas, por exemplo, a análise descritiva pode envolver o cálculo da média de vendas por região, a identificação dos produtos mais vendidos e a análise da distribuição das vendas entre diferentes segmentos de clientes. No contexto de desempenho de marketing, pode-se resumir o tráfego do website por fonte, calcular as taxas de conversão para diferentes campanhas e analisar as métricas de engajamento do cliente.\n",
        "\n",
        "A visualização de dados desempenha um papel crucial na análise descritiva, pois permite apresentar informações complexas de forma clara e intuitiva. Gráficos como gráficos de barras (para comparar quantidades entre categorias), gráficos de setores (para mostrar proporções), gráficos de linhas (para observar o comportamento ao longo do tempo), histogramas (para visualizar a distribuição de dados quantitativos) e box plots (para resumir a distribuição e identificar outliers) são ferramentas poderosas para comunicar insights de forma eficaz."
      ],
      "metadata": {
        "id": "8PEe99_zyZoa"
      }
    },
    {
      "cell_type": "code",
      "source": [
        "# --- Bloco de Código Adicional: Análise Descritiva Abrangente ---\n",
        "# Usando o DataFrame da população criado na seção de amostragem\n",
        "print(\"\\n--- Análise Descritiva (População Exemplo) ---\")\n",
        "\n",
        "# Sumário estatístico completo com describe()\n",
        "# include='all' mostra estatísticas para colunas numéricas e categóricas/objeto\n",
        "print(\"Sumário Descritivo Completo:\\n\", df_populacao.describe(include='all'))\n",
        "\n",
        "# Análise de uma variável categórica ('Regiao')\n",
        "print(\"\\nAnálise da Coluna 'Regiao':\")\n",
        "contagem_regiao = df_populacao['Regiao'].value_counts()\n",
        "percentual_regiao = df_populacao['Regiao'].value_counts(normalize=True) * 100\n",
        "print(\"Contagem por Região:\\n\", contagem_regiao)\n",
        "print(\"\\nPercentual por Região:\\n\", percentual_regiao.round(2))\n",
        "\n",
        "plt.figure(figsize=(10, 4))\n",
        "plt.subplot(1, 2, 1)\n",
        "sns.countplot(data=df_populacao, x='Regiao', order=contagem_regiao.index, palette='viridis')\n",
        "plt.title('Contagem de Clientes por Região')\n",
        "plt.xlabel('Região')\n",
        "plt.ylabel('Contagem')\n",
        "\n",
        "plt.subplot(1, 2, 2)\n",
        "plt.pie(contagem_regiao, labels=contagem_regiao.index, autopct='%1.1f%%', startangle=90, colors=sns.color_palette('viridis', len(contagem_regiao)))\n",
        "plt.title('Distribuição Percentual por Região')\n",
        "plt.ylabel('') # Remove o label y do pie chart\n",
        "\n",
        "plt.tight_layout()\n",
        "plt.show()\n",
        "\n",
        "# Análise de uma variável numérica ('Gasto_Anual')\n",
        "print(\"\\nAnálise da Coluna 'Gasto_Anual':\")\n",
        "print(f\"Média Gasto: {df_populacao['Gasto_Anual'].mean():.2f}\")\n",
        "print(f\"Mediana Gasto: {df_populacao['Gasto_Anual'].median():.2f}\")\n",
        "print(f\"Desvio Padrão Gasto: {df_populacao['Gasto_Anual'].std():.2f}\")\n",
        "\n",
        "plt.figure(figsize=(12, 5))\n",
        "plt.subplot(1, 2, 1)\n",
        "sns.histplot(df_populacao['Gasto_Anual'], kde=True, bins=30)\n",
        "plt.title('Distribuição do Gasto Anual')\n",
        "plt.xlabel('Gasto Anual ($)')\n",
        "\n",
        "plt.subplot(1, 2, 2)\n",
        "sns.boxplot(y=df_populacao['Gasto_Anual'])\n",
        "plt.title('Box Plot do Gasto Anual')\n",
        "plt.ylabel('Gasto Anual ($)')\n",
        "\n",
        "plt.tight_layout()\n",
        "plt.show()\n",
        "\n",
        "# Análise Bivariada (Ex: Gasto Anual por Região)\n",
        "plt.figure(figsize=(8, 6))\n",
        "sns.boxplot(data=df_populacao, x='Regiao', y='Gasto_Anual', palette='viridis')\n",
        "plt.title('Gasto Anual por Região')\n",
        "plt.xlabel('Região')\n",
        "plt.ylabel('Gasto Anual ($)')\n",
        "plt.show()\n",
        "\n",
        "# Pairplot para visão geral das relações numéricas (pode ser lento para muitos dados/colunas)\n",
        "# sns.pairplot(df_populacao[['Idade', 'Gasto_Anual']]) # Seleciona colunas numéricas\n",
        "# plt.suptitle('Pair Plot das Variáveis Numéricas', y=1.02)\n",
        "# plt.show()\n",
        "# --- Fim Bloco de Código Adicional ---"
      ],
      "outputs": [],
      "execution_count": null,
      "metadata": {
        "id": "05ZWDrELyZoc"
      }
    },
    {
      "cell_type": "markdown",
      "source": [
        "**Tabela 1: Estatísticas Descritivas Comuns e suas Aplicações em Negócios**\n",
        "\n",
        "| Estatística       | Definição                             | Aplicação em Negócios                               |\n",
        "| :--------------- | :------------------------------------------- | :--------------------------------------------------------- |\n",
        "| Média            | Valor médio                           | Vendas médias, gasto médio do cliente                      |\n",
        "| Mediana          | Valor do meio                           | Gasto típico do cliente, salário típico                       |\n",
        "| Moda             | Valor mais frequente                    | Produto mais popular, faixa etária mais comum de clientes |\n",
        "| Alcance          | Diferença entre o máximo e o mínimo     | Variabilidade de preços, amplitude de idades dos clientes |\n",
        "| IQR              | Dispersão dos 50% centrais dos dados    | Entendimento da distribuição central dos dados              |\n",
        "| Desvio Padrão    | Desvio médio em relação à média         | Consistência dos tempos de entrega, variabilidade dos custos |\n",
        "| Variância        | Média dos quadrados das diferenças da média | Medida da dispersão dos dados                              |\n",
        "\n",
        "**7. Probabilidade: Entendendo a Incerteza nos Negócios**\n",
        "\n",
        "A probabilidade é um conceito fundamental para entender e quantificar a incerteza em eventos de negócios. Ela fornece uma maneira de medir a chance de um evento específico ocorrer.\n",
        "\n",
        "**7.1 Regras Básicas de Probabilidade**\n",
        "\n",
        "* **Regra da Adição:** Para dois eventos mutuamente exclusivos (que não podem ocorrer ao mesmo tempo), a probabilidade de ocorrência de um ou outro evento é a soma de suas probabilidades individuais. Por exemplo, a probabilidade de um cliente comprar o produto A ou o produto B, se ele só pode comprar um deles. Se P(A) = 0.2 e P(B) = 0.3, então P(A ou B) = P(A) + P(B) = 0.2 + 0.3 = 0.5.\n",
        "* **Eventos Independentes:** Dois eventos são independentes se a ocorrência de um não afeta a **probabilidade** de ocorrência do outro. A probabilidade de ambos os eventos ocorrerem é o produto de suas probabilidades individuais. Por exemplo, a probabilidade de dois vendedores fecharem um negócio independentemente. Se a probabilidade do vendedor 1 fechar um negócio é 0.4 e do vendedor 2 é 0.5, então a probabilidade de ambos fecharem um negócio é P(Vendedor 1 fecha) \\* P(Vendedor 2 fecha) = 0.4 \\* 0.5 = 0.2.\n",
        "* **Probabilidade Condicional:** A probabilidade de um evento A ocorrer, dado que outro evento B já ocorreu, é chamada de probabilidade condicional e é denotada por P(A|B). É calculada como P(A|B) = P(A e B) / P(B). Por exemplo, a probabilidade de um cliente fazer uma segunda compra, dado que ele já fez uma primeira compra."
      ],
      "metadata": {
        "id": "iUO2vASkyZod"
      }
    },
    {
      "cell_type": "code",
      "source": [
        "import numpy as np\n",
        "\n",
        "# Exemplo de probabilidade condicional\n",
        "# Probabilidade de um cliente fazer uma compra inicial (Evento B)\n",
        "prob_compra_inicial = 0.3\n",
        "# Probabilidade de um cliente fazer uma compra inicial E uma segunda compra (Evento A e B)\n",
        "prob_compra_inicial_e_segunda = 0.18\n",
        "\n",
        "# Probabilidade de um cliente fazer uma segunda compra dado que fez uma inicial (P(A|B))\n",
        "# Verifica se prob_compra_inicial é maior que zero para evitar divisão por zero\n",
        "if prob_compra_inicial > 0:\n",
        "    prob_segunda_compra_dado_inicial = prob_compra_inicial_e_segunda / prob_compra_inicial\n",
        "    print(f\"Probabilidade de uma segunda compra dado uma compra inicial: {prob_segunda_compra_dado_inicial:.2f}\")\n",
        "else:\n",
        "    print(\"Probabilidade da compra inicial é zero, não é possível calcular a probabilidade condicional.\")\n",
        "\n",
        "\n",
        "# --- Bloco de Código Adicional: Simulação Eventos Independentes ---\n",
        "# Simular o fechamento de negócios por dois vendedores independentes\n",
        "p_vendedor1 = 0.4\n",
        "p_vendedor2 = 0.5\n",
        "num_simulacoes = 10000\n",
        "vendedor1_fecha = np.random.rand(num_simulacoes) < p_vendedor1\n",
        "vendedor2_fecha = np.random.rand(num_simulacoes) < p_vendedor2\n",
        "\n",
        "ambos_fecham = np.sum(vendedor1_fecha & vendedor2_fecha)\n",
        "prob_ambos_simulada = ambos_fecham / num_simulacoes\n",
        "\n",
        "print(f\"\\nSimulação de Eventos Independentes ({num_simulacoes} tentativas):\")\n",
        "print(f\"- Probabilidade Teórica (Ambos Fecham): {p_vendedor1 * p_vendedor2:.3f}\")\n",
        "print(f\"- Probabilidade Simulada (Ambos Fecham): {prob_ambos_simulada:.3f}\")\n",
        "# --- Fim Bloco de Código Adicional ---"
      ],
      "outputs": [],
      "execution_count": null,
      "metadata": {
        "id": "S6iBSIoryZod"
      }
    },
    {
      "cell_type": "markdown",
      "source": [
        "**8. Distribuição de Probabilidades: Modelando Fenômenos de Negócios**\n",
        "\n",
        "Uma distribuição de probabilidades é uma função que descreve a probabilidade de cada possível valor de uma variável aleatória. Diferentes distribuições são adequadas para modelar diferentes tipos de fenômenos de negócios.\n",
        "\n",
        "**8.1 Distribuição Binomial**\n",
        "\n",
        "A distribuição binomial modela a probabilidade de obter um certo número de sucessos em um número fixo de tentativas independentes, onde cada tentativa tem apenas dois resultados possíveis (sucesso ou falha) com uma probabilidade constante de sucesso. Por exemplo, modelar a probabilidade de um certo número de clientes responderem a uma campanha de marketing."
      ],
      "metadata": {
        "id": "BCk7kj5KyZoe"
      }
    },
    {
      "cell_type": "code",
      "source": [
        "import numpy as np\n",
        "import matplotlib.pyplot as plt\n",
        "from scipy.stats import binom\n",
        "\n",
        "# Parâmetros da distribuição binomial\n",
        "n = 10  # Número de tentativas (por exemplo, 10 ligações de vendas)\n",
        "p = 0.1  # Probabilidade de sucesso em cada tentativa (por exemplo, 10% de chance de fechar uma venda)\n",
        "k = np.arange(0, n + 1) # Possíveis números de sucessos\n",
        "\n",
        "# Calcular as probabilidades (PMF - Probability Mass Function)\n",
        "probabilidades_pmf = binom.pmf(k, n, p)\n",
        "# Calcular a probabilidade acumulada (CDF - Cumulative Distribution Function)\n",
        "probabilidades_cdf = binom.cdf(k, n, p)\n",
        "\n",
        "# Visualizar a distribuição PMF\n",
        "plt.figure(figsize=(12, 5)) # Adiciona controle sobre o tamanho da figura\n",
        "\n",
        "plt.subplot(1, 2, 1)\n",
        "plt.bar(k, probabilidades_pmf, color='skyblue', label='PMF') # Muda a cor da barra\n",
        "plt.xlabel('Número de Vendas')\n",
        "plt.ylabel('Probabilidade (PMF)')\n",
        "plt.title(f'Distribuição Binomial (n={n}, p={p}) - PMF') # Título mais específico\n",
        "plt.xticks(k)\n",
        "plt.grid(axis='y', linestyle='--', alpha=0.7) # Adiciona transparência à grade\n",
        "plt.legend()\n",
        "\n",
        "# Visualizar a distribuição CDF\n",
        "plt.subplot(1, 2, 2)\n",
        "plt.step(k, probabilidades_cdf, color='red', marker='o', where='post', label='CDF') # Gráfico de degraus para CDF discreta\n",
        "plt.xlabel('Número de Vendas')\n",
        "plt.ylabel('Probabilidade Acumulada (CDF)')\n",
        "plt.title(f'Distribuição Binomial (n={n}, p={p}) - CDF') # Título mais específico\n",
        "plt.xticks(k)\n",
        "plt.grid(axis='y', linestyle='--', alpha=0.7) # Adiciona transparência à grade\n",
        "plt.legend()\n",
        "\n",
        "plt.tight_layout()\n",
        "plt.show()\n",
        "\n",
        "print(f\"Probabilidade de fazer exatamente 2 vendas: {binom.pmf(2, n, p):.3f}\")\n",
        "print(f\"Probabilidade de fazer 2 ou menos vendas: {binom.cdf(2, n, p):.3f}\")\n",
        "print(f\"Probabilidade de fazer mais de 3 vendas: {1 - binom.cdf(3, n, p):.3f}\") # P(X > 3) = 1 - P(X <= 3)\n",
        "\n",
        "# --- Bloco de Código Adicional: Simulação Binomial ---\n",
        "# Simular 10000 experimentos de 10 ligações cada\n",
        "simulacoes_binomial = binom.rvs(n=n, p=p, size=10000)\n",
        "plt.figure(figsize=(8, 5))\n",
        "sns.histplot(simulacoes_binomial, discrete=True, stat='probability', shrink=0.8)\n",
        "plt.title(f'Histograma de Simulações Binomiais ({10000} experimentos)')\n",
        "plt.xlabel('Número de Vendas Simuladas')\n",
        "plt.ylabel('Proporção')\n",
        "plt.xticks(k)\n",
        "plt.show()\n",
        "# O histograma das simulações deve se assemelhar à forma da PMF teórica.\n",
        "# --- Fim Bloco de Código Adicional ---"
      ],
      "outputs": [],
      "execution_count": null,
      "metadata": {
        "id": "Qc7J4OCDyZoe"
      }
    },
    {
      "cell_type": "markdown",
      "source": [
        "**8.2 Distribuição de Poisson**\n",
        "\n",
        "A distribuição de Poisson modela o número de eventos que ocorrem em um intervalo de tempo ou espaço fixo, dado uma taxa média de ocorrência. É útil para modelar eventos raros que ocorrem independentemente. Por exemplo, modelar o número de clientes que chegam a uma loja em uma hora."
      ],
      "metadata": {
        "id": "16QAsoEoyZof"
      }
    },
    {
      "cell_type": "code",
      "source": [
        "from scipy.stats import poisson\n",
        "\n",
        "# Parâmetro da distribuição de Poisson\n",
        "lambda_ = 5  # Taxa média de chegadas por hora\n",
        "\n",
        "# Possíveis números de chegadas\n",
        "k_poisson = np.arange(0, 15)\n",
        "\n",
        "# Calcular as probabilidades (PMF)\n",
        "probabilidades_poisson_pmf = poisson.pmf(k_poisson, lambda_)\n",
        "# Calcular a probabilidade acumulada (CDF)\n",
        "probabilidades_poisson_cdf = poisson.cdf(k_poisson, lambda_)\n",
        "\n",
        "# Visualizar a distribuição PMF\n",
        "plt.figure(figsize=(12, 5)) # Adiciona controle sobre o tamanho da figura\n",
        "\n",
        "plt.subplot(1, 2, 1)\n",
        "plt.bar(k_poisson, probabilidades_poisson_pmf, color='lightcoral', label='PMF') # Muda a cor da barra\n",
        "plt.xlabel('Número de Chegadas de Clientes')\n",
        "plt.ylabel('Probabilidade (PMF)')\n",
        "plt.title(f'Distribuição de Poisson (λ={lambda_}) - PMF') # Título mais específico\n",
        "plt.xticks(k_poisson)\n",
        "plt.grid(axis='y', linestyle='--', alpha=0.7) # Adiciona transparência à grade\n",
        "plt.legend()\n",
        "\n",
        "# Visualizar a distribuição CDF\n",
        "plt.subplot(1, 2, 2)\n",
        "plt.step(k_poisson, probabilidades_poisson_cdf, color='darkred', marker='.', where='post', label='CDF') # Gráfico de degraus para CDF discreta\n",
        "plt.xlabel('Número de Chegadas de Clientes')\n",
        "plt.ylabel('Probabilidade Acumulada (CDF)')\n",
        "plt.title(f'Distribuição de Poisson (λ={lambda_}) - CDF') # Título mais específico\n",
        "plt.xticks(k_poisson)\n",
        "plt.grid(axis='y', linestyle='--', alpha=0.7) # Adiciona transparência à grade\n",
        "plt.legend()\n",
        "\n",
        "plt.tight_layout()\n",
        "plt.show()\n",
        "\n",
        "print(f\"\\nProbabilidade de exatamente 7 clientes chegarem em uma hora: {poisson.pmf(7, lambda_):.3f}\")\n",
        "print(f\"Probabilidade de 5 ou menos clientes chegarem: {poisson.cdf(5, lambda_):.3f}\")\n",
        "print(f\"Probabilidade de mais de 8 clientes chegarem: {1 - poisson.cdf(8, lambda_):.3f}\")\n",
        "\n",
        "# --- Bloco de Código Adicional: Simulação Poisson ---\n",
        "# Simular 10000 horas e contar as chegadas em cada uma\n",
        "simulacoes_poisson = poisson.rvs(mu=lambda_, size=10000)\n",
        "plt.figure(figsize=(10, 6))\n",
        "sns.histplot(simulacoes_poisson, discrete=True, stat='probability', shrink=0.8, bins=max(k_poisson)+1) # Garante bins suficientes\n",
        "plt.title(f'Histograma de Simulações Poisson ({10000} horas)')\n",
        "plt.xlabel('Número de Chegadas Simuladas')\n",
        "plt.ylabel('Proporção')\n",
        "plt.xticks(k_poisson)\n",
        "plt.show()\n",
        "# O histograma das simulações deve se assemelhar à forma da PMF teórica.\n",
        "# --- Fim Bloco de Código Adicional ---"
      ],
      "outputs": [],
      "execution_count": null,
      "metadata": {
        "id": "xcyCBv_LyZog"
      }
    },
    {
      "cell_type": "markdown",
      "source": [
        "**8.3 Distribuição Normal**\n",
        "\n",
        "A distribuição normal (ou Gaussiana) é uma das distribuições de probabilidade contínuas mais importantes em estatística. Muitos fenômenos naturais e de negócios podem ser modelados por uma distribuição normal, como pesos de produtos, alturas de clientes ou pontuações de testes. É caracterizada por sua forma de sino simétrica em torno da média."
      ],
      "metadata": {
        "id": "9ggGtBDiyZog"
      }
    },
    {
      "cell_type": "code",
      "source": [
        "from scipy.stats import norm\n",
        "\n",
        "# Parâmetros da distribuição normal\n",
        "media = 500  # Média do peso do produto (em gramas)\n",
        "desvio_padrao = 20  # Desvio padrão do peso do produto (em gramas)\n",
        "\n",
        "# Intervalo de peso para calcular a probabilidade\n",
        "limite_inferior = 480\n",
        "limite_superior = 520\n",
        "\n",
        "# Calcular a probabilidade usando a função de distribuição cumulativa (CDF)\n",
        "probabilidade = norm.cdf(limite_superior, media, desvio_padrao) - norm.cdf(limite_inferior, media, desvio_padrao)\n",
        "\n",
        "# Calcular o valor Z (quantos desvios padrão um valor está da média)\n",
        "z_score_inf = (limite_inferior - media) / desvio_padrao\n",
        "z_score_sup = (limite_superior - media) / desvio_padrao\n",
        "print(f\"\\nZ-score para {limite_inferior}g: {z_score_inf:.2f}\")\n",
        "print(f\"Z-score para {limite_superior}g: {z_score_sup:.2f}\")\n",
        "\n",
        "# Calcular valor correspondente a um percentil (PPF - Percent Point Function, inversa da CDF)\n",
        "peso_percentil_90 = norm.ppf(0.90, loc=media, scale=desvio_padrao)\n",
        "print(f\"Peso correspondente ao 90º percentil: {peso_percentil_90:.2f}g\")\n",
        "\n",
        "\n",
        "# Gerar pontos para visualizar a distribuição PDF e CDF\n",
        "x_norm_vis = np.linspace(media - 4 * desvio_padrao, media + 4 * desvio_padrao, 200) # Amplia o range e número de pontos\n",
        "y_pdf = norm.pdf(x_norm_vis, media, desvio_padrao)\n",
        "y_cdf = norm.cdf(x_norm_vis, media, desvio_padrao)\n",
        "\n",
        "plt.figure(figsize=(12, 5)) # Adiciona controle sobre o tamanho da figura\n",
        "\n",
        "plt.subplot(1, 2, 1)\n",
        "plt.plot(x_norm_vis, y_pdf, 'b-', linewidth=2, label='PDF') # Muda cor e espessura da linha\n",
        "# Destaca a área de interesse\n",
        "x_fill = np.linspace(limite_inferior, limite_superior, 100)\n",
        "y_fill = norm.pdf(x_fill, media, desvio_padrao)\n",
        "plt.fill_between(x_fill, y_fill, color='lightgreen', alpha=0.6, label=f'Área entre {limite_inferior}g e {limite_superior}g')\n",
        "\n",
        "plt.xlabel('Peso do Produto (g)')\n",
        "plt.ylabel('Densidade de Probabilidade (PDF)')\n",
        "plt.title(f'Distribuição Normal (μ={media}g, σ={desvio_padrao}g) - PDF') # Título mais específico\n",
        "plt.legend()\n",
        "plt.grid(linestyle='--', alpha=0.7) # Adiciona transparência à grade\n",
        "\n",
        "plt.subplot(1, 2, 2)\n",
        "plt.plot(x_norm_vis, y_cdf, 'r-', linewidth=2, label='CDF')\n",
        "plt.xlabel('Peso do Produto (g)')\n",
        "plt.ylabel('Probabilidade Acumulada (CDF)')\n",
        "plt.title(f'Distribuição Normal (μ={media}g, σ={desvio_padrao}g) - CDF') # Título mais específico\n",
        "plt.grid(linestyle='--', alpha=0.7) # Adiciona transparência à grade\n",
        "plt.axhline(0.5, color='grey', linestyle=':', label='Mediana (50%)') # Marca a mediana\n",
        "plt.axvline(media, color='grey', linestyle=':', label=f'Média ({media}g)') # Marca a média\n",
        "plt.legend()\n",
        "\n",
        "plt.tight_layout()\n",
        "plt.show()\n",
        "\n",
        "print(f\"\\nProbabilidade de um produto pesar entre {limite_inferior}g e {limite_superior}g: {probabilidade:.3f}\")\n",
        "# Isso corresponde à área verde no gráfico PDF.\n",
        "\n",
        "# --- Bloco de Código Adicional: Simulação Normal ---\n",
        "# Simular pesos de 5000 produtos\n",
        "simulacoes_normal = norm.rvs(loc=media, scale=desvio_padrao, size=5000)\n",
        "plt.figure(figsize=(10, 6))\n",
        "sns.histplot(simulacoes_normal, kde=True, bins=40, stat='density', color='purple')\n",
        "plt.plot(x_norm_vis, y_pdf, color='black', linestyle='--', label='PDF Teórica')\n",
        "plt.title(f'Histograma de Simulações Normais ({5000} produtos)')\n",
        "plt.xlabel('Peso Simulado (g)')\n",
        "plt.ylabel('Densidade')\n",
        "plt.legend()\n",
        "plt.show()\n",
        "# O histograma das simulações deve seguir de perto a curva PDF teórica.\n",
        "# --- Fim Bloco de Código Adicional ---"
      ],
      "outputs": [],
      "execution_count": null,
      "metadata": {
        "id": "S7ivwItSyZog"
      }
    },
    {
      "cell_type": "markdown",
      "source": [
        "**9. Covariância e Correlação: Medindo Relacionamentos**\n",
        "\n",
        "A covariância e a correlação são medidas que quantificam a relação linear entre duas variáveis.\n",
        "\n",
        "* **Covariância:** Mede a direção da relação linear entre duas variáveis. Uma covariância positiva indica que as variáveis tendem a se mover na mesma direção, enquanto uma covariância negativa indica que elas tendem a se mover em direções opostas. Uma covariância próxima de zero sugere pouca ou nenhuma relação linear. No entanto, a magnitude da covariância não é facilmente interpretável, pois depende das escalas das variáveis.\n",
        "* **Correlação:** Mede tanto a direção quanto a força da relação linear entre duas variáveis. O coeficiente de correlação de Pearson é uma medida comum que varia de -1 a 1. Um valor de 1 indica uma correlação positiva perfeita, -1 indica uma correlação negativa perfeita e 0 indica nenhuma correlação linear. A correlação é uma medida padronizada, o que facilita a comparação da força das relações entre diferentes pares de variáveis.\n",
        "\n",
        "Exemplo: Analisar a relação entre gastos com publicidade e receita de vendas."
      ],
      "metadata": {
        "id": "qRWT8ClzyZoh"
      }
    },
    {
      "cell_type": "code",
      "source": [
        "# Dados hipotéticos de gastos com publicidade e receita de vendas (em milhares de reais)\n",
        "dados = {'Publicidade': [10, 12, 15, 13, 11, 16, 14, 18, 9, 17], # Mais dados\n",
        "         'Vendas': [80, 85, 100, 90, 82, 110, 95, 120, 75, 115]} # Mais dados\n",
        "df = pd.DataFrame(dados)\n",
        "\n",
        "# Calcular a covariância\n",
        "matriz_covariancia = df.cov() # Calcula a matriz de covariância\n",
        "covariancia = matriz_covariancia.loc['Publicidade', 'Vendas'] # Pega o valor específico\n",
        "print(f\"\\nMatriz de Covariância:\\n{matriz_covariancia.round(2)}\")\n",
        "print(f\"Covariância entre gastos com publicidade e receita de vendas: {covariancia:.2f}\")\n",
        "\n",
        "# Calcular a correlação\n",
        "matriz_correlacao = df.corr(method='pearson') # method='pearson' (padrão), 'kendall', 'spearman'\n",
        "correlacao = matriz_correlacao.loc['Publicidade', 'Vendas']\n",
        "print(f\"\\nMatriz de Correlação (Pearson):\\n{matriz_correlacao.round(2)}\")\n",
        "print(f\"Correlação entre gastos com publicidade e receita de vendas: {correlacao:.2f}\")\n",
        "\n",
        "# Visualização opcional da relação\n",
        "plt.figure(figsize=(8, 5))\n",
        "# sns.scatterplot(data=df, x='Publicidade', y='Vendas') # Scatter plot simples\n",
        "sns.regplot(data=df, x='Publicidade', y='Vendas', line_kws={'color': 'red'}) # Scatter com linha de regressão\n",
        "plt.title('Relação entre Publicidade e Vendas (com Linha de Regressão)')\n",
        "plt.xlabel('Gastos com Publicidade (milhares de R$)')\n",
        "plt.ylabel('Receita de Vendas (milhares de R$)')\n",
        "plt.grid(linestyle='--', alpha=0.7)\n",
        "# Adiciona o valor da correlação ao gráfico\n",
        "plt.text(0.05, 0.95, f'Corr = {correlacao:.2f}', transform=plt.gca().transAxes,\n",
        "         fontsize=12, verticalalignment='top', bbox=dict(boxstyle='round,pad=0.5', fc='wheat', alpha=0.5))\n",
        "plt.show()\n",
        "\n",
        "# --- Bloco de Código Adicional: Heatmap da Correlação ---\n",
        "# Útil quando há mais variáveis\n",
        "df['Outra_Var'] = df['Publicidade'] * 0.5 + np.random.normal(0, 5, len(df)) # Adiciona outra variável correlacionada\n",
        "df['Var_Indep'] = np.random.rand(len(df)) * 100 # Adiciona variável independente\n",
        "\n",
        "matriz_corr_completa = df.corr()\n",
        "plt.figure(figsize=(7, 5))\n",
        "sns.heatmap(matriz_corr_completa, annot=True, cmap='coolwarm', fmt=\".2f\", vmin=-1, vmax=1, center=0)\n",
        "plt.title('Heatmap da Matriz de Correlação Completa')\n",
        "plt.show()\n",
        "# --- Fim Bloco de Código Adicional ---"
      ],
      "outputs": [],
      "execution_count": null,
      "metadata": {
        "id": "crF3gGAByZoh"
      }
    },
    {
      "cell_type": "markdown",
      "source": [
        "Neste exemplo, a covariância positiva e a correlação próxima de 1 indicam uma forte relação linear positiva entre os gastos com publicidade e a receita de vendas, sugerindo que o aumento dos gastos com publicidade está associado a um aumento na receita de vendas.\n",
        "\n",
        "**10. Teste de Hipóteses: Tomando Decisões Baseadas em Dados**\n",
        "\n",
        "O teste de hipóteses é uma ferramenta fundamental na estatística inferencial para tomar decisões sobre populações com base em amostras de dados. Vários testes de hipóteses estão disponíveis, dependendo do tipo de dados e da pergunta de pesquisa.\n",
        "\n",
        "**10.1 Teste T**\n",
        "\n",
        "O teste t é usado para comparar as médias de duas amostras. Existem diferentes tipos de testes t, incluindo o teste t independente (para comparar as médias de dois grupos independentes) e o teste t pareado (para comparar as médias da mesma amostra em dois momentos diferentes ou sob duas condições diferentes).\n",
        "\n",
        "Exemplo: Comparar o desempenho de dois programas de treinamento de funcionários."
      ],
      "metadata": {
        "id": "wPThVN9nyZoi"
      }
    },
    {
      "cell_type": "code",
      "source": [
        "# Dados hipotéticos de pontuações de desempenho para dois grupos de funcionários (escala de 1 a 10)\n",
        "grupo_A = np.array([7, 8, 7, 9, 6, 8, 7, 7, 8]) # Mais dados\n",
        "grupo_B = np.array([9, 8, 10, 9, 8, 9, 10, 8, 9]) # Mais dados\n",
        "\n",
        "# --- Bloco de Código Adicional: Visualização para Teste T ---\n",
        "df_treinamento = pd.DataFrame({\n",
        "    'Pontuacao': np.concatenate([grupo_A, grupo_B]),\n",
        "    'Grupo': ['A'] * len(grupo_A) + ['B'] * len(grupo_B)\n",
        "})\n",
        "plt.figure(figsize=(7, 5))\n",
        "sns.boxplot(data=df_treinamento, x='Grupo', y='Pontuacao', palette='Set1')\n",
        "sns.stripplot(data=df_treinamento, x='Grupo', y='Pontuacao', color='black', alpha=0.5, jitter=0.1) # Mostra pontos individuais\n",
        "plt.title('Desempenho por Programa de Treinamento')\n",
        "plt.xlabel('Grupo de Treinamento')\n",
        "plt.ylabel('Pontuação de Desempenho')\n",
        "plt.show()\n",
        "# Visualmente, o Grupo B parece ter pontuações mais altas.\n",
        "# --- Fim Bloco de Código Adicional ---\n",
        "\n",
        "\n",
        "# Realizar um teste t independente\n",
        "# Verifica se as amostras têm variâncias iguais (opcional, mas recomendado)\n",
        "levene_test = stats.levene(grupo_A, grupo_B)\n",
        "equal_var = levene_test.pvalue > 0.05 # Se p > 0.05, assume variâncias iguais\n",
        "print(f\"\\nTeste de Levene p-valor: {levene_test.pvalue:.3f} (Variâncias Iguais = {equal_var})\")\n",
        "\n",
        "teste_t = stats.ttest_ind(grupo_A, grupo_B, equal_var=equal_var)\n",
        "print(f\"\\nTeste T para comparar médias de dois grupos:\")\n",
        "print(f\"Média Grupo A: {np.mean(grupo_A):.2f}, Média Grupo B: {np.mean(grupo_B):.2f}\")\n",
        "print(f\"Estatística t = {teste_t.statistic:.2f}, Valor p = {teste_t.pvalue:.3f}\")\n",
        "\n",
        "alpha = 0.05\n",
        "if teste_t.pvalue < alpha:\n",
        "    print(\"Como p < alpha, concluímos que há uma diferença significativa no desempenho médio entre os dois programas de treinamento.\")\n",
        "else:\n",
        "    print(\"Como p >= alpha, não há evidências suficientes para concluir que há uma diferença significativa no desempenho médio.\")\n",
        "\n",
        "# --- Bloco de Código Adicional: Teste T Pareado (Exemplo Conceitual) ---\n",
        "# Se os dados fossem do MESMO grupo ANTES e DEPOIS do treinamento B\n",
        "# pontuacao_antes = np.array([7, 8, 6, 7, 8, 7, 6])\n",
        "# pontuacao_depois_B = np.array([9, 8, 8, 9, 10, 9, 8]) # Mesmos funcionários\n",
        "# teste_t_pareado = stats.ttest_rel(pontuacao_antes, pontuacao_depois_B)\n",
        "# print(\"\\nExemplo Teste T Pareado:\")\n",
        "# print(f\"t={teste_t_pareado.statistic:.2f}, p={teste_t_pareado.pvalue:.3f}\")\n",
        "# --- Fim Bloco de Código Adicional ---"
      ],
      "outputs": [],
      "execution_count": null,
      "metadata": {
        "id": "TYpVuN_8yZoi"
      }
    },
    {
      "cell_type": "markdown",
      "source": [
        "**10.2 Teste Z**\n",
        "\n",
        "O teste z é usado para comparar a média de uma amostra com uma média populacional conhecida, ou para comparar as médias de duas grandes amostras independentes quando o desvio padrão da população é conhecido.\n",
        "\n",
        "Exemplo: Testar se a pontuação média de satisfação do cliente é superior a um determinado limite."
      ],
      "metadata": {
        "id": "b_6HkpYPyZo8"
      }
    },
    {
      "cell_type": "code",
      "source": [
        "from statsmodels.stats.weightstats import ztest\n",
        "\n",
        "# Dados hipotéticos de pontuações de satisfação do cliente (média da amostra)\n",
        "# Amostra maior para justificar melhor o Z-test sem sigma conhecido\n",
        "np.random.seed(200)\n",
        "satisfacao_clientes = norm.rvs(loc=8.3, scale=0.6, size=40) # Média real 8.3, DP 0.6, N=40\n",
        "media_populacional = 8.0  # Limite desejado de satisfação\n",
        "# desvio_padrao_populacional = 0.5 # Se sigma populacional NÃO for conhecido,\n",
        "                                   # para amostras grandes (n>30), pode-se usar o desvio padrão da amostra\n",
        "                                   # como aproximação, ou usar t-test que é mais robusto.\n",
        "\n",
        "# --- Bloco de Código Adicional: Visualização para Teste Z/T (Uma Amostra) ---\n",
        "plt.figure(figsize=(8, 4))\n",
        "sns.histplot(satisfacao_clientes, kde=True)\n",
        "plt.axvline(media_populacional, color='red', linestyle='--', label=f'Média H₀ ({media_populacional})')\n",
        "plt.axvline(np.mean(satisfacao_clientes), color='green', linestyle='-', label=f'Média Amostral ({np.mean(satisfacao_clientes):.2f})')\n",
        "plt.title('Distribuição da Satisfação dos Clientes (Amostra)')\n",
        "plt.xlabel('Pontuação de Satisfação')\n",
        "plt.legend()\n",
        "plt.show()\n",
        "# A média amostral está acima da média de H₀. O teste dirá se é significativo.\n",
        "# --- Fim Bloco de Código Adicional ---\n",
        "\n",
        "\n",
        "# Realizar um teste z de uma amostra (Assumindo n suficientemente grande para usar std da amostra)\n",
        "# value = média sob H₀; alternative='larger' testa se a média da amostra é MAIOR que 'value'\n",
        "stat_z, p_valor_z = ztest(satisfacao_clientes, value=media_populacional, alternative='larger')\n",
        "\n",
        "print(f\"\\nTeste Z para comparar média da amostra com média populacional:\")\n",
        "print(f\"Média amostral = {np.mean(satisfacao_clientes):.2f}\")\n",
        "print(f\"Estatística z = {stat_z:.2f}, Valor p (unilateral) = {p_valor_z:.3f}\")\n",
        "\n",
        "alpha = 0.05\n",
        "if p_valor_z < alpha:\n",
        "    print(\"Como p < alpha, concluímos que a pontuação média de satisfação do cliente é significativamente maior que 8.0.\")\n",
        "else:\n",
        "    print(\"Como p >= alpha, não há evidências suficientes para concluir que a pontuação média de satisfação do cliente é significativamente maior que 8.0.\")\n",
        "\n",
        "# --- Bloco de Código Adicional: Teste T para Uma Amostra (Alternativa Robusta) ---\n",
        "# ttest_1samp é mais apropriado se sigma populacional é desconhecido, mesmo com n > 30\n",
        "t_stat_1samp, p_valor_t_1samp = stats.ttest_1samp(satisfacao_clientes, popmean=media_populacional, alternative='greater')\n",
        "print(f\"\\nTeste T (alternativa) para uma amostra:\")\n",
        "print(f\"Estatística t = {t_stat_1samp:.2f}, Valor p (unilateral) = {p_valor_t_1samp:.3f}\")\n",
        "# Os resultados de Z e T tendem a convergir para amostras grandes.\n",
        "# --- Fim Bloco de Código Adicional ---"
      ],
      "outputs": [],
      "execution_count": null,
      "metadata": {
        "id": "YgRnFUfVyZo_"
      }
    },
    {
      "cell_type": "markdown",
      "source": [
        "**10.3 Teste Qui-Quadrado**\n",
        "\n",
        "O teste qui-quadrado é usado para testar a independência entre variáveis categóricas ou para comparar as frequências observadas com as frequências esperadas.\n",
        "\n",
        "Exemplo: Testar se há uma associação entre o canal de marketing e a conversão de clientes."
      ],
      "metadata": {
        "id": "0YmJthM2yZpA"
      }
    },
    {
      "cell_type": "code",
      "source": [
        "from scipy.stats import chi2_contingency\n",
        "\n",
        "# Tabela de contingência com dados hipotéticos (Conversão vs Não-Conversão)\n",
        "#           Conversão  Não-Conversão\n",
        "observado = np.array([[50, 100],  # Canal A (mais observações)\n",
        "                      [30, 45],   # Canal B\n",
        "                      [40, 95]])  # Canal C (mais observações)\n",
        "# Convertendo para DataFrame para melhor visualização\n",
        "df_contingencia = pd.DataFrame(observado,\n",
        "                               index=['Canal A', 'Canal B', 'Canal C'],\n",
        "                               columns=['Converteu', 'Nao Converteu'])\n",
        "print(\"\\n--- Teste Qui-Quadrado ---\")\n",
        "print(\"Tabela de Contingência Observada:\\n\", df_contingencia)\n",
        "\n",
        "\n",
        "# --- Bloco de Código Adicional: Visualização da Tabela de Contingência ---\n",
        "# Heatmap das frequências observadas\n",
        "plt.figure(figsize=(6, 4))\n",
        "sns.heatmap(df_contingencia, annot=True, fmt=\"d\", cmap=\"Blues\")\n",
        "plt.title('Frequências Observadas (Canal vs Conversão)')\n",
        "plt.ylabel('Canal de Marketing')\n",
        "plt.xlabel('Status de Conversão')\n",
        "plt.show()\n",
        "\n",
        "# Gráfico de barras empilhadas ou agrupadas\n",
        "df_contingencia.plot(kind='bar', stacked=False, figsize=(8, 5), rot=0)\n",
        "plt.title('Conversões por Canal de Marketing')\n",
        "plt.xlabel('Canal de Marketing')\n",
        "plt.ylabel('Contagem')\n",
        "plt.legend(title='Status')\n",
        "plt.tight_layout()\n",
        "plt.show()\n",
        "# Visualmente, parece haver diferenças nas taxas de conversão (proporção Convertido/Total)\n",
        "# --- Fim Bloco de Código Adicional ---\n",
        "\n",
        "\n",
        "# Realizar o teste qui-quadrado de independência\n",
        "chi2, p, dof, expected = chi2_contingency(observado)\n",
        "print(f\"\\nTeste Qui-Quadrado para independência de variáveis categóricas:\")\n",
        "print(f\"Estatística Qui-Quadrado = {chi2:.2f}, Valor p = {p:.3f}, Graus de Liberdade = {dof}\")\n",
        "print(\"\\nFrequências Esperadas (sob H₀ de independência):\\n\", pd.DataFrame(expected, index=df_contingencia.index, columns=df_contingencia.columns).round(2))\n",
        "\n",
        "alpha = 0.05\n",
        "if p < alpha:\n",
        "    print(f\"\\nComo p ({p:.3f}) < alpha ({alpha}), concluímos que há uma associação significativa entre o canal de marketing e a conversão de clientes.\")\n",
        "else:\n",
        "    print(f\"\\nComo p ({p:.3f}) >= alpha ({alpha}), não há evidências suficientes para concluir que há uma associação significativa entre o canal de marketing e a conversão.\")"
      ],
      "outputs": [],
      "execution_count": null,
      "metadata": {
        "id": "f6Th_dwVyZpA"
      }
    },
    {
      "cell_type": "markdown",
      "source": [
        "**10.4 Análise de Variância (ANOVA)**\n",
        "\n",
        "A ANOVA é usada para comparar as médias de três ou mais grupos.\n",
        "\n",
        "Exemplo: Comparar o desempenho de diferentes estratégias de preços em diferentes regiões."
      ],
      "metadata": {
        "id": "KTGpldDAyZpB"
      }
    },
    {
      "cell_type": "code",
      "source": [
        "# Dados hipotéticos de receita de vendas para três estratégias de preços\n",
        "np.random.seed(300)\n",
        "estrategia_A = norm.rvs(loc=105, scale=8, size=30)\n",
        "estrategia_B = norm.rvs(loc=95, scale=7, size=30)\n",
        "estrategia_C = norm.rvs(loc=115, scale=9, size=30)\n",
        "\n",
        "# --- Bloco de Código Adicional: Visualização para ANOVA ---\n",
        "df_anova = pd.DataFrame({\n",
        "    'Receita': np.concatenate([estrategia_A, estrategia_B, estrategia_C]),\n",
        "    'Estrategia': ['A'] * len(estrategia_A) + ['B'] * len(estrategia_B) + ['C'] * len(estrategia_C)\n",
        "})\n",
        "plt.figure(figsize=(8, 5))\n",
        "sns.boxplot(data=df_anova, x='Estrategia', y='Receita', palette='Set3')\n",
        "sns.stripplot(data=df_anova, x='Estrategia', y='Receita', color='black', alpha=0.3, jitter=0.1)\n",
        "plt.title('Receita de Vendas por Estratégia de Preço')\n",
        "plt.xlabel('Estratégia de Preço')\n",
        "plt.ylabel('Receita ($)')\n",
        "plt.show()\n",
        "# Visualmente, parece haver diferenças claras entre as médias das estratégias.\n",
        "# --- Fim Bloco de Código Adicional ---\n",
        "\n",
        "\n",
        "# Realizar o teste ANOVA de um fator (One-Way ANOVA)\n",
        "f_statistic, p_value = stats.f_oneway(estrategia_A, estrategia_B, estrategia_C)\n",
        "print(f\"\\nTeste ANOVA para comparar médias de três ou mais grupos:\")\n",
        "print(f\"Média A: {np.mean(estrategia_A):.2f}, Média B: {np.mean(estrategia_B):.2f}, Média C: {np.mean(estrategia_C):.2f}\")\n",
        "print(f\"Estatística F = {f_statistic:.2f}, Valor p = {p_value:.3g}\") # Usando .3g para notação científica se p for muito pequeno\n",
        "\n",
        "alpha = 0.05\n",
        "if p_value < alpha:\n",
        "    print(f\"Como p ({p_value:.3g}) < alpha ({alpha}), concluímos que há uma diferença significativa na receita média entre pelo menos duas das estratégias de preços.\")\n",
        "    # Nota: Para saber QUAIS grupos diferem, testes post-hoc (ex: Tukey HSD) são necessários.\n",
        "    # Exemplo Tukey HSD (requer statsmodels)\n",
        "    # from statsmodels.stats.multicomp import pairwise_tukeyhsd\n",
        "    # tukey = pairwise_tukeyhsd(endog=df_anova['Receita'], groups=df_anova['Estrategia'], alpha=0.05)\n",
        "    # print(\"\\nResultado Tukey HSD (Comparação Par-a-Par):\")\n",
        "    # print(tukey)\n",
        "else:\n",
        "    print(f\"Como p ({p_value:.3g}) >= alpha ({alpha}), não há evidências suficientes para concluir que há uma diferença significativa na receita média.\")"
      ],
      "outputs": [],
      "execution_count": null,
      "metadata": {
        "id": "kqQ9AR00yZpB"
      }
    },
    {
      "cell_type": "markdown",
      "source": [
        "**10.5 Teste de Correlação**\n",
        "\n",
        "O teste de correlação é usado para determinar se a correlação linear entre duas variáveis é estatisticamente significativa (ou seja, se a correlação observada na amostra é improvável de ter ocorrido por acaso se a correlação real na população fosse zero).\n",
        "\n",
        "Exemplo: Testar a significância da correlação entre satisfação dos funcionários e produtividade."
      ],
      "metadata": {
        "id": "M_OjqJQHyZpC"
      }
    },
    {
      "cell_type": "code",
      "source": [
        "# Dados hipotéticos de satisfação dos funcionários (escala 1-5) e produtividade (unidades/hora)\n",
        "np.random.seed(400)\n",
        "satisfacao = np.random.randint(1, 6, size=50)\n",
        "# Criar produtividade com alguma correlação + ruído\n",
        "produtividade = 8 + satisfacao * 1.5 + np.random.normal(0, 2, size=50)\n",
        "produtividade = np.clip(produtividade, 5, 25) # Limitar valores\n",
        "\n",
        "# --- Bloco de Código Adicional: Visualização para Teste de Correlação ---\n",
        "plt.figure(figsize=(7, 5))\n",
        "sns.scatterplot(x=satisfacao, y=produtividade)\n",
        "plt.title('Relação entre Satisfação e Produtividade')\n",
        "plt.xlabel('Satisfação do Funcionário (1-5)')\n",
        "plt.ylabel('Produtividade (unidades/hora)')\n",
        "plt.grid(True, linestyle=':', alpha=0.6)\n",
        "plt.show()\n",
        "# Visualmente, parece haver uma tendência positiva.\n",
        "# --- Fim Bloco de Código Adicional ---\n",
        "\n",
        "\n",
        "# Realizar o teste de correlação de Pearson\n",
        "# H₀: A correlação populacional é zero (ρ = 0)\n",
        "# H₁: A correlação populacional é diferente de zero (ρ ≠ 0)\n",
        "correlacao, p_value = stats.pearsonr(satisfacao, produtividade)\n",
        "print(f\"\\nTeste de Correlação de Pearson:\")\n",
        "print(f\"Coeficiente de Correlação (r) = {correlacao:.2f}, Valor p = {p_value:.3g}\")\n",
        "\n",
        "alpha = 0.05\n",
        "if p_value < alpha:\n",
        "    print(f\"Como p ({p_value:.3g}) < alpha ({alpha}), concluímos que há uma correlação linear significativa entre a satisfação dos funcionários e a produtividade.\")\n",
        "else:\n",
        "    print(f\"Como p ({p_value:.3g}) >= alpha ({alpha}), não há evidências suficientes para concluir que há uma correlação linear significativa.\")\n",
        "\n",
        "# --- Bloco de Código Adicional: Correlação de Spearman (Não-Linear/Ordinal) ---\n",
        "# Útil se a relação não for linear ou os dados forem ordinais\n",
        "correlacao_spearman, p_spearman = stats.spearmanr(satisfacao, produtividade)\n",
        "print(f\"\\nTeste de Correlação de Spearman (Rank):\")\n",
        "print(f\"Coeficiente de Correlação (rho) = {correlacao_spearman:.2f}, Valor p = {p_spearman:.3g}\")\n",
        "# --- Fim Bloco de Código Adicional ---"
      ],
      "outputs": [],
      "execution_count": null,
      "metadata": {
        "id": "i8fmS7LFyZpC"
      }
    },
    {
      "cell_type": "markdown",
      "source": [
        "Em todos os testes de hipóteses, o valor p é crucial para a interpretação dos resultados. Um valor p baixo (tipicamente menor que 0.05) sugere que os resultados observados são improváveis de terem ocorrido por acaso, levando à rejeição da hipótese nula. É importante lembrar que a significância estatística não implica necessariamente significância prática no contexto dos negócios.\n",
        "\n",
        "**11. Conclusões**\n",
        "\n",
        "Este relatório demonstrou a importância e a aplicabilidade de diversos conceitos estatísticos no contexto de negócios, desde a descrição básica de dados até a realização de inferências e testes de hipóteses. Através de exemplos práticos e da implementação em Python, foi possível visualizar como a estatística pode ser utilizada para analisar dados, identificar padrões, prever resultados e, em última análise, auxiliar na tomada de decisões mais informadas e estratégicas.\n",
        "\n",
        "A estatística descritiva fornece as ferramentas essenciais para resumir e entender as características fundamentais dos dados, permitindo uma primeira análise valiosa do cenário empresarial. As estatísticas inferenciais, por sua vez, possibilitam extrapolar conclusões de amostras para populações maiores, o que é crucial para pesquisas de mercado e para a avaliação do impacto de diferentes estratégias. A compreensão dos tipos de dados (qualitativos e quantitativos) e das técnicas de amostragem garante que as análises sejam realizadas com dados relevantes e representativos.\n",
        "\n",
        "A probabilidade e as distribuições de probabilidades oferecem um arcabouço para modelar a incerteza e prever a ocorrência de eventos futuros, auxiliando na gestão de riscos e no planejamento estratégico. A análise de covariância e correlação permite quantificar as relações entre diferentes variáveis de negócios, identificando fatores que podem influenciar o desempenho. Finalmente, o teste de hipóteses fornece um método formal para validar suposições e tomar decisões baseadas em evidências estatísticas.\n",
        "\n",
        "A capacidade de aplicar esses conceitos utilizando ferramentas como o Python, com suas bibliotecas Pandas, SciPy, NumPy, Matplotlib e Seaborn, torna a análise estatística acessível e prática para profissionais de negócios. A familiaridade com essas ferramentas e técnicas capacita as empresas a adotarem uma abordagem orientada por dados, o que é fundamental para o sucesso no ambiente competitivo atual. Em última análise, a integração da estatística nos processos de tomada de decisão permite que as empresas reduzam a margem de erro, otimizem seus recursos e alcancem seus objetivos de forma mais eficaz.\n",
        "\n",
        "---"
      ],
      "metadata": {
        "id": "4Wz0dvjryZpD"
      }
    },
    {
      "cell_type": "markdown",
      "source": [
        "<div class=\"md-recitation\">\n",
        "  Sources\n",
        "  <ol>\n",
        "  <li><a href=\"https://github.com/bryantcao/variance-metric-appender\">https://github.com/bryantcao/variance-metric-appender</a></li>\n",
        "  </ol>\n",
        "</div>"
      ],
      "metadata": {
        "id": "SW-zcRtSyZpD"
      }
    }
  ],
  "metadata": {
    "colab": {
      "provenance": []
    },
    "kernelspec": {
      "display_name": "Python 3",
      "name": "python3"
    }
  },
  "nbformat": 4,
  "nbformat_minor": 0
}