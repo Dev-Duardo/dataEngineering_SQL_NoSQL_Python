{
  "cells": [
    {
      "cell_type": "markdown",
      "source": [
        "Okay, aqui está o texto revisado e complementado com mais exemplos de código, incluindo alguns mais complexos, conforme solicitado. As explicações originais foram mantidas, correções pontuais foram feitas (como a saída do exemplo `map` na Seção 8) e novos exemplos foram adicionados para ilustrar melhor os conceitos.\n",
        "\n",
        "---\n",
        "\n",
        "**Grande Estudo de Programação Orientada a Objetos (POO) em Python**\n",
        "\n",
        "**1. Introdução à Programação Orientada a Objetos (POO)**\n",
        "\n",
        "A Programação Orientada a Objetos (POO) é um paradigma de programação que organiza o desenvolvimento de software em torno de \"objetos\", que são instâncias de \"classes\". Diferentemente de outros paradigmas, como a programação procedural, que se concentra em sequências de instruções ou funções, a POO modela o software como um conjunto de objetos que interagem entre si.¹ Este paradigma permite que os desenvolvedores representem entidades do mundo real de forma mais intuitiva no código, facilitando a criação de sistemas complexos e a reutilização de componentes de software.¹ A POO surgiu como uma resposta à crescente complexidade dos sistemas de software, oferecendo uma estrutura para organizar o código de maneira mais modular e gerenciável.¹\n",
        "\n",
        "Os conceitos fundamentais da POO repousam sobre quatro pilares principais: **encapsulamento**, **herança**, **polimorfismo** e **abstração**.¹\n",
        "* **Encapsulamento:** Protege os dados internos de um objeto, controlando o acesso a eles.\n",
        "* **Herança:** Permite que novas classes (filhas) herdem características e comportamentos de classes existentes (pais), promovendo a reutilização de código.\n",
        "* **Polimorfismo:** Possibilita que objetos de diferentes classes respondam à mesma mensagem (método) de maneiras distintas.\n",
        "* **Abstração:** Foca em esconder detalhes complexos de implementação, expondo apenas o essencial para o uso.\n",
        "A compreensão desses pilares é essencial para aproveitar ao máximo os benefícios da POO, como a melhor organização do código, a maior facilidade de manutenção e a flexibilidade para estender e adaptar sistemas de software.¹\n",
        "\n",
        "**2. Classes e Objetos em Python**\n",
        "\n",
        "* **Definição de Classe:**\n",
        "  Em Python, uma **classe** é um modelo ou projeto (*blueprint*) para criar objetos.⁶ Define estrutura (atributos) e comportamento (métodos). Usa-se a palavra-chave `class`.⁶"
      ],
      "metadata": {
        "id": "3Gok5031crGV"
      }
    },
    {
      "cell_type": "code",
      "source": [
        "# Definição da classe Carro\n",
        "class Carro:\n",
        "    \"\"\"Representa um carro com marca e modelo.\"\"\"\n",
        "\n",
        "    # Construtor (__init__) - inicializa o objeto quando criado\n",
        "    def __init__(self, marca, modelo, ano=2025):  # ano é opcional\n",
        "        \"\"\"Inicializa os atributos do carro.\"\"\"\n",
        "        self.marca = marca            # Atributo de instância público\n",
        "        self.modelo = modelo          # Atributo de instância público\n",
        "        self.ano = ano                # Atributo de instância público\n",
        "        self._quilometragem = 0       # Atributo protegido (por convenção)\n",
        "\n",
        "    # Método de instância - define um comportamento do carro\n",
        "    def exibir_informacoes(self):\n",
        "        \"\"\"Exibe as informações básicas do carro.\"\"\"\n",
        "        print(f\"Marca: {self.marca}, Modelo: {self.modelo}, Ano: {self.ano}\")\n",
        "\n",
        "    def dirigir(self, distancia):\n",
        "        \"\"\"Simula dirigir o carro, aumentando a quilometragem.\"\"\"\n",
        "        if distancia > 0:\n",
        "            self._quilometragem += distancia\n",
        "            print(f\"Dirigiu {distancia}km. Quilometragem atual: {self._quilometragem}km\")\n",
        "        else:\n",
        "            print(\"Distância inválida.\")\n",
        "\n",
        "    def get_quilometragem(self):\n",
        "        \"\"\"Retorna a quilometragem atual.\"\"\"\n",
        "        return self._quilometragem\n",
        "\n",
        "\n",
        "# -----------------------------\n",
        "# Usando a classe Carro na prática\n",
        "\n",
        "# Criando uma instância da classe Carro\n",
        "meu_carro = Carro(\"Toyota\", \"Corolla\", 2022)\n",
        "\n",
        "# Exibindo informações do carro\n",
        "print(\"\\nInformações do carro:\")\n",
        "meu_carro.exibir_informacoes()\n",
        "\n",
        "# Dirigindo o carro\n",
        "print(\"\\nSimulando viagem...\")\n",
        "meu_carro.dirigir(50)   # Dirige 50 km\n",
        "meu_carro.dirigir(120)  # Dirige mais 120 km\n",
        "\n",
        "# Tentando dirigir uma distância inválida\n",
        "meu_carro.dirigir(-10)  # Deve dar aviso\n",
        "\n",
        "# Consultando a quilometragem atual\n",
        "km_atual = meu_carro.get_quilometragem()\n",
        "print(f\"\\nQuilometragem final registrada: {km_atual}km\")\n"
      ],
      "outputs": [
        {
          "output_type": "stream",
          "name": "stdout",
          "text": [
            "\n",
            "Informações do carro:\n",
            "Marca: Toyota, Modelo: Corolla, Ano: 2022\n",
            "\n",
            "Simulando viagem...\n",
            "Dirigiu 50km. Quilometragem atual: 50km\n",
            "Dirigiu 120km. Quilometragem atual: 170km\n",
            "Distância inválida.\n",
            "\n",
            "Quilometragem final registrada: 170km\n"
          ]
        }
      ],
      "execution_count": 40,
      "metadata": {
        "colab": {
          "base_uri": "https://localhost:8080/"
        },
        "id": "YXGcITCpcrGa",
        "outputId": "d38d2d2c-1aaf-4ce8-f300-96830bcfe843"
      }
    },
    {
      "cell_type": "markdown",
      "source": [
        "Neste exemplo, `Carro` é a classe. `__init__` é o construtor, chamado ao criar um objeto. `self` representa a instância específica do objeto.⁶ `marca`, `modelo`, `ano`, `_quilometragem` são **atributos**. `exibir_informacoes`, `dirigir`, `get_quilometragem` são **métodos**.\n",
        "\n",
        "* **Instanciação de Objetos:**\n",
        "  Criar um objeto (instância) a partir da classe, chamando a classe como função.⁶"
      ],
      "metadata": {
        "id": "TaXyiZcQcrGd"
      }
    },
    {
      "cell_type": "code",
      "source": [
        "# Instanciando objetos da classe Carro\n",
        "meu_carro = Carro(\"Toyota\", \"Corolla\") # Usa ano padrão 2025\n",
        "carro_vizinho = Carro(\"Honda\", \"Civic\", 2023)\n",
        "\n",
        "print(\"\\nInstanciando objetos:\")\n",
        "print(f\"Tipo de meu_carro: {type(meu_carro)}\") # Saída: <class '__main__.Carro'>\n",
        "\n",
        "# Chamando métodos dos objetos\n",
        "meu_carro.exibir_informacoes()       # Saída: Marca: Toyota, Modelo: Corolla, Ano: 2025\n",
        "carro_vizinho.exibir_informacoes() # Saída: Marca: Honda, Modelo: Civic, Ano: 2023"
      ],
      "outputs": [
        {
          "output_type": "stream",
          "name": "stdout",
          "text": [
            "\n",
            "Instanciando objetos:\n",
            "Tipo de meu_carro: <class '__main__.Carro'>\n",
            "Marca: Toyota, Modelo: Corolla, Ano: 2025\n",
            "Marca: Honda, Modelo: Civic, Ano: 2023\n"
          ]
        }
      ],
      "execution_count": 41,
      "metadata": {
        "id": "u_3hjdrYcrGd",
        "colab": {
          "base_uri": "https://localhost:8080/"
        },
        "outputId": "c1c4fdb0-98cc-4af3-f211-68e4103300b2"
      }
    },
    {
      "cell_type": "markdown",
      "source": [
        "`meu_carro` e `carro_vizinho` são objetos distintos, cada um com seus próprios atributos.\n",
        "\n",
        "* **Atributos (Variáveis):**\n",
        "  Características/propriedades que armazenam o estado do objeto.⁶ Definidos com `self.nome_atributo = valor` no `__init__` (ou em outros métodos).⁶ Acessados com `objeto.atributo`.⁶"
      ],
      "metadata": {
        "id": "JqoQz7cQcrGe"
      }
    },
    {
      "cell_type": "code",
      "source": [
        "# Acessando e modificando atributos (públicos)\n",
        "print(\"\\nAcessando atributos:\")\n",
        "print(f\"Marca do meu carro: {meu_carro.marca}\") # Saída: Toyota\n",
        "meu_carro.ano = 2024 # Modificando atributo diretamente\n",
        "meu_carro.exibir_informacoes() # Saída: Marca: Toyota, Modelo: Corolla, Ano: 2024"
      ],
      "outputs": [
        {
          "output_type": "stream",
          "name": "stdout",
          "text": [
            "\n",
            "Acessando atributos:\n",
            "Marca do meu carro: Toyota\n",
            "Marca: Toyota, Modelo: Corolla, Ano: 2024\n"
          ]
        }
      ],
      "execution_count": 42,
      "metadata": {
        "id": "WUJg-VLFcrGe",
        "colab": {
          "base_uri": "https://localhost:8080/"
        },
        "outputId": "294a4a98-5d6d-46dc-acfe-da22a2dfe5f7"
      }
    },
    {
      "cell_type": "markdown",
      "source": [
        "* **Métodos (Funções dentro de Classes):**\n",
        "  Ações que um objeto pode realizar. Definidos como funções dentro da classe, com `self` como primeiro parâmetro.⁶,⁹ Chamados com `objeto.metodo()`.⁶"
      ],
      "metadata": {
        "id": "IuHgPubbcrGe"
      }
    },
    {
      "cell_type": "code",
      "source": [
        "# Chamando outros métodos\n",
        "print(\"\\nChamando métodos:\")\n",
        "meu_carro.dirigir(150) # Saída: Dirigiu 150km. Quilometragem atual: 150km\n",
        "km_atual = meu_carro.get_quilometragem()\n",
        "print(f\"Quilometragem via get_quilometragem(): {km_atual}\") # Saída: 150"
      ],
      "outputs": [
        {
          "output_type": "stream",
          "name": "stdout",
          "text": [
            "\n",
            "Chamando métodos:\n",
            "Dirigiu 150km. Quilometragem atual: 150km\n",
            "Quilometragem via get_quilometragem(): 150\n"
          ]
        }
      ],
      "execution_count": 43,
      "metadata": {
        "id": "vdKWiyxccrGf",
        "colab": {
          "base_uri": "https://localhost:8080/"
        },
        "outputId": "ad8d66dd-17b5-4910-9a3f-565a3c95adf3"
      }
    },
    {
      "cell_type": "markdown",
      "source": [
        "`self` permite que métodos acessem atributos e outros métodos da *mesma instância*.⁹\n",
        "\n",
        "**3. Herança em Python**\n",
        "\n",
        "* **Conceito de Herança:**\n",
        "  Classe filha (subclasse) herda atributos/métodos da classe pai (superclasse). Promove reutilização e hierarquia.⁷\n",
        "\n",
        "* **Tipos de Herança:**\n",
        "  * **Herança Simples:** Filha herda de uma única pai.⁷"
      ],
      "metadata": {
        "id": "hjo5EkeRcrGf"
      }
    },
    {
      "cell_type": "code",
      "source": [
        "print(\"\\n--- Herança Simples ---\")\n",
        "class Animal:\n",
        "    def __init__(self, nome):\n",
        "        self.nome = nome\n",
        "        print(f\"Animal {self.nome} criado.\")\n",
        "    def fazer_som(self):\n",
        "        print(\"Som genérico de animal\")\n",
        "\n",
        "class Cachorro(Animal): # Cachorro herda de Animal\n",
        "    def fazer_som(self): # Sobrescreve o método da classe pai\n",
        "        print(\"Au au!\")\n",
        "    def buscar(self):\n",
        "        print(f\"{self.nome} está buscando a bola!\")\n",
        "\n",
        "meu_cachorro_herdado = Cachorro(\"Rex\") # Chama __init__ de Animal\n",
        "meu_cachorro_herdado.fazer_som() # Saída: Au au! (método sobrescrito)\n",
        "meu_cachorro_herdado.buscar()   # Saída: Rex está buscando a bola! (método da filha)"
      ],
      "outputs": [
        {
          "output_type": "stream",
          "name": "stdout",
          "text": [
            "\n",
            "--- Herança Simples ---\n",
            "Animal Rex criado.\n",
            "Au au!\n",
            "Rex está buscando a bola!\n"
          ]
        }
      ],
      "execution_count": 44,
      "metadata": {
        "id": "vUie9rotcrGg",
        "colab": {
          "base_uri": "https://localhost:8080/"
        },
        "outputId": "a5232a42-a80d-45b0-eece-900889b7c1f2"
      }
    },
    {
      "cell_type": "markdown",
      "source": [
        "* **Herança Múltipla:** Filha herda de múltiplas pais. Ordem de Resolução de Método (MRO) define a busca.⁷"
      ],
      "metadata": {
        "id": "FbGcnK8gcrGg"
      }
    },
    {
      "cell_type": "code",
      "source": [
        "print(\"\\n--- Herança Múltipla ---\")\n",
        "class Terrestre:\n",
        "    def andar(self): print(\"Andando em terra\")\n",
        "class Aquatico:\n",
        "    def nadar(self): print(\"Nadando na água\")\n",
        "class Anfibio(Terrestre, Aquatico): # Herda de Terrestre e Aquatico\n",
        "    pass\n",
        "\n",
        "sapo = Anfibio()\n",
        "sapo.andar() # Saída: Andando em terra\n",
        "sapo.nadar() # Saída: Nadando na água\n",
        "print(f\"MRO de Anfibio: {Anfibio.__mro__}\")\n",
        "# Saída: (<class '__main__.Anfibio'>, <class '__main__.Terrestre'>, <class '__main__.Aquatico'>, <class 'object'>)"
      ],
      "outputs": [
        {
          "output_type": "stream",
          "name": "stdout",
          "text": [
            "\n",
            "--- Herança Múltipla ---\n",
            "Andando em terra\n",
            "Nadando na água\n",
            "MRO de Anfibio: (<class '__main__.Anfibio'>, <class '__main__.Terrestre'>, <class '__main__.Aquatico'>, <class 'object'>)\n"
          ]
        }
      ],
      "execution_count": 45,
      "metadata": {
        "id": "mVMeTkK2crGh",
        "colab": {
          "base_uri": "https://localhost:8080/"
        },
        "outputId": "32e6620b-9e62-4a85-8cf7-31432eca56f2"
      }
    },
    {
      "cell_type": "markdown",
      "source": [
        "* **Herança Multinível:** Filha herda de filha que herda de pai.⁷"
      ],
      "metadata": {
        "id": "GIzFMb93crGh"
      }
    },
    {
      "cell_type": "code",
      "source": [
        "print(\"\\n--- Herança Multinível ---\")\n",
        "class Veiculo:\n",
        "    def mover(self): print(\"Veículo se movendo\")\n",
        "class CarroMultinivel(Veiculo):\n",
        "    def abrir_porta(self): print(\"Porta do carro aberta\")\n",
        "class CarroEletrico(CarroMultinivel): # Herda de CarroMultinivel, que herda de Veiculo\n",
        "    def carregar(self): print(\"Carro elétrico carregando\")\n",
        "\n",
        "tesla = CarroEletrico()\n",
        "tesla.mover()       # Saída: Veículo se movendo (de Veiculo)\n",
        "tesla.abrir_porta() # Saída: Porta do carro aberta (de CarroMultinivel)\n",
        "tesla.carregar()    # Saída: Carro elétrico carregando (de CarroEletrico)"
      ],
      "outputs": [
        {
          "output_type": "stream",
          "name": "stdout",
          "text": [
            "\n",
            "--- Herança Multinível ---\n",
            "Veículo se movendo\n",
            "Porta do carro aberta\n",
            "Carro elétrico carregando\n"
          ]
        }
      ],
      "execution_count": 46,
      "metadata": {
        "colab": {
          "base_uri": "https://localhost:8080/"
        },
        "id": "Ozo-_PuycrGh",
        "outputId": "9a55cedc-2286-4294-9f6d-47dbc7bf5907"
      }
    },
    {
      "cell_type": "markdown",
      "source": [
        "* **Herança Hierárquica:** Múltiplas filhas herdam de uma única pai.⁷"
      ],
      "metadata": {
        "id": "gog73T4mcrGh"
      }
    },
    {
      "cell_type": "code",
      "source": [
        "print(\"\\n--- Herança Hierárquica ---\")\n",
        "class FormaGeometrica:\n",
        "    def info(self): print(\"Sou uma forma geométrica\")\n",
        "class CirculoHier(FormaGeometrica):\n",
        "    def desenhar(self): print(\"Desenhando círculo O\")\n",
        "class QuadradoHier(FormaGeometrica):\n",
        "    def desenhar(self): print(\"Desenhando quadrado []\")\n",
        "\n",
        "c = CirculoHier()\n",
        "q = QuadradoHier()\n",
        "c.info()      # Saída: Sou uma forma geométrica\n",
        "c.desenhar()  # Saída: Desenhando círculo O\n",
        "q.info()      # Saída: Sou uma forma geométrica\n",
        "q.desenhar()  # Saída: Desenhando quadrado []"
      ],
      "outputs": [
        {
          "output_type": "stream",
          "name": "stdout",
          "text": [
            "\n",
            "--- Herança Hierárquica ---\n",
            "Sou uma forma geométrica\n",
            "Desenhando círculo O\n",
            "Sou uma forma geométrica\n",
            "Desenhando quadrado []\n"
          ]
        }
      ],
      "execution_count": 47,
      "metadata": {
        "id": "1vBwxT2bcrGi",
        "colab": {
          "base_uri": "https://localhost:8080/"
        },
        "outputId": "02a858e1-214e-46c5-fea7-14622ecebf54"
      }
    },
    {
      "cell_type": "markdown",
      "source": [
        "* **Herança Híbrida:** Combinação de tipos (ex: múltipla + multinível).⁷ Python lida bem com isso via MRO."
      ],
      "metadata": {
        "id": "3i44SCA5crGi"
      }
    },
    {
      "cell_type": "code",
      "source": [
        "print(\"\\n--- Herança Híbrida ---\")\n",
        "class A: pass\n",
        "class B(A): pass\n",
        "class C(A): pass\n",
        "class D(B, C): pass # Combina múltipla (B, C) e hierárquica (B e C de A)\n",
        "obj_d = D()\n",
        "print(f\"MRO de D: {D.__mro__}\")\n",
        "# Saída: (<class '__main__.D'>, <class '__main__.B'>, <class '__main__.C'>, <class '__main__.A'>, <class 'object'>)"
      ],
      "outputs": [
        {
          "output_type": "stream",
          "name": "stdout",
          "text": [
            "\n",
            "--- Herança Híbrida ---\n",
            "MRO de D: (<class '__main__.D'>, <class '__main__.B'>, <class '__main__.C'>, <class '__main__.A'>, <class 'object'>)\n"
          ]
        }
      ],
      "execution_count": 48,
      "metadata": {
        "id": "OuLCpJgOcrGi",
        "colab": {
          "base_uri": "https://localhost:8080/"
        },
        "outputId": "f9c8cbe5-ed55-46c7-860e-e21d49e73f71"
      }
    },
    {
      "cell_type": "markdown",
      "source": [
        "* **Uso de `super()`:**\n",
        "  Chama métodos da classe pai (superclasse) a partir da filha.⁷ Comum no `__init__` para inicialização pai e para estender/modificar métodos herdados.⁷"
      ],
      "metadata": {
        "id": "v2DMBOf0crGj"
      }
    },
    {
      "cell_type": "code",
      "source": [
        "print(\"\\n--- Uso de super() ---\")\n",
        "class Pai:\n",
        "    def __init__(self, nome):\n",
        "        print(\"  Construtor Pai chamado\")\n",
        "        self.nome_pai = nome\n",
        "    def metodo_pai(self):\n",
        "        print(\"  Executando método Pai\")\n",
        "\n",
        "class Filha(Pai):\n",
        "    def __init__(self, nome_filha, nome_pai):\n",
        "        print(\"  Construtor Filha chamado - antes de super()\")\n",
        "        super().__init__(nome_pai) # Chama __init__ da classe Pai (Pai)\n",
        "        print(\"  Construtor Filha chamado - depois de super()\")\n",
        "        self.nome_filha = nome_filha\n",
        "\n",
        "    def metodo_filha(self):\n",
        "        print(\"  Executando método Filha - antes de super()\")\n",
        "        super().metodo_pai() # Chama metodo_pai da classe Pai (Pai)\n",
        "        print(\"  Executando método Filha - depois de super()\")\n",
        "\n",
        "objeto_filha = Filha(\"Ana\", \"Carlos\")\n",
        "print(f\"  Atributos: {objeto_filha.nome_filha}, {objeto_filha.nome_pai}\")\n",
        "objeto_filha.metodo_filha()"
      ],
      "outputs": [
        {
          "output_type": "stream",
          "name": "stdout",
          "text": [
            "\n",
            "--- Uso de super() ---\n",
            "  Construtor Filha chamado - antes de super()\n",
            "  Construtor Pai chamado\n",
            "  Construtor Filha chamado - depois de super()\n",
            "  Atributos: Ana, Carlos\n",
            "  Executando método Filha - antes de super()\n",
            "  Executando método Pai\n",
            "  Executando método Filha - depois de super()\n"
          ]
        }
      ],
      "execution_count": 49,
      "metadata": {
        "id": "gFlUE5UPcrGj",
        "colab": {
          "base_uri": "https://localhost:8080/"
        },
        "outputId": "0b57f42f-b273-46e3-af17-4898dde1166d"
      }
    },
    {
      "cell_type": "markdown",
      "source": [
        "`super()` resolve a ordem correta em herança múltipla (MRO).⁷\n",
        "\n",
        "**4. Polimorfismo em Python**\n",
        "\n",
        "* **Conceito de Polimorfismo:**\n",
        "  \"Muitas formas\". Objetos de classes diferentes respondem à mesma mensagem (método) de formas específicas. Aumenta flexibilidade e generalização.¹,¹³\n",
        "\n",
        "* **Polimorfismo através de Herança (Overriding):**\n",
        "  Subclasses sobrescrevem métodos da superclasse.¹³"
      ],
      "metadata": {
        "id": "KfdXCcancrGj"
      }
    },
    {
      "cell_type": "code",
      "source": [
        "print(\"\\n--- Polimorfismo via Herança ---\")\n",
        "class Passaro:\n",
        "    def voar(self): print(\"Voando...\")\n",
        "class Pinguim(Passaro):\n",
        "    def voar(self): print(\"Pinguins não voam, nadam!\") # Sobrescreve voar\n",
        "class Pardal(Passaro):\n",
        "    def voar(self): print(\"Pardal voando agilmente!\") # Sobrescreve voar\n",
        "\n",
        "def fazer_voar(ave): # Função que funciona com qualquer objeto que tenha o método voar()\n",
        "    print(f\"Tentando fazer {type(ave).__name__} voar:\")\n",
        "    ave.voar()\n",
        "\n",
        "pingu = Pinguim()\n",
        "pard = Pardal()\n",
        "fazer_voar(pingu) # Saída: Pinguins não voam, nadam!\n",
        "fazer_voar(pard)  # Saída: Pardal voando agilmente!"
      ],
      "outputs": [
        {
          "output_type": "stream",
          "name": "stdout",
          "text": [
            "\n",
            "--- Polimorfismo via Herança ---\n",
            "Tentando fazer Pinguim voar:\n",
            "Pinguins não voam, nadam!\n",
            "Tentando fazer Pardal voar:\n",
            "Pardal voando agilmente!\n"
          ]
        }
      ],
      "execution_count": 50,
      "metadata": {
        "id": "mIVnsebOcrGk",
        "colab": {
          "base_uri": "https://localhost:8080/"
        },
        "outputId": "3ca9ed91-1482-416b-88b8-d26691ef2acf"
      }
    },
    {
      "cell_type": "markdown",
      "source": [
        "* **Polimorfismo através de Duck Typing:**\n",
        "  \"Se anda como um pato e grasna como um pato, então é um pato.\" Se um objeto *tem* os métodos/atributos necessários, ele funciona, independentemente da herança.⁴"
      ],
      "metadata": {
        "id": "yoIwK1XwcrGk"
      }
    },
    {
      "cell_type": "code",
      "source": [
        "print(\"\\n--- Polimorfismo via Duck Typing ---\")\n",
        "class Ganso:\n",
        "    def fazer_barulho(self): print(\"Ganso: Honk!\")\n",
        "class CarroBuzina:\n",
        "    def fazer_barulho(self): print(\"Carro: Beep beep!\")\n",
        "\n",
        "def acionar_som(coisa_barulhenta):\n",
        "    coisa_barulhenta.fazer_barulho() # Só precisa ter o método fazer_barulho()\n",
        "\n",
        "ganso = Ganso()\n",
        "carro = CarroBuzina()\n",
        "acionar_som(ganso) # Saída: Ganso: Honk!\n",
        "acionar_som(carro) # Saída: Carro: Beep beep!"
      ],
      "outputs": [
        {
          "output_type": "stream",
          "name": "stdout",
          "text": [
            "\n",
            "--- Polimorfismo via Duck Typing ---\n",
            "Ganso: Honk!\n",
            "Carro: Beep beep!\n"
          ]
        }
      ],
      "execution_count": 51,
      "metadata": {
        "id": "Wf-kdWphcrGk",
        "colab": {
          "base_uri": "https://localhost:8080/"
        },
        "outputId": "40f69517-4b47-4cfd-818b-e32de1d1f23d"
      }
    },
    {
      "cell_type": "markdown",
      "source": [
        "**5. Encapsulamento em Python**\n",
        "\n",
        "* **Conceito de Encapsulamento:**\n",
        "  Proteger dados internos, controlar acesso via métodos. Ocultar detalhes, prevenir modificações acidentais.¹⁵\n",
        "\n",
        "* **Convenções de Nomenclatura:**\n",
        "  * Públicos: `nome_atributo` (acessível de qualquer lugar).\n",
        "  * Protegidos: `_nome_atributo` (convenção: uso interno, mas acessível).\n",
        "  * Privados: `__nome_atributo` (name mangling: `_NomeClasse__nome_atributo`). Dificulta acesso externo, mas não impede totalmente.¹⁵"
      ],
      "metadata": {
        "id": "rmQ8el3ucrGl"
      }
    },
    {
      "cell_type": "code",
      "source": [
        "print(\"\\n--- Encapsulamento: Nomenclatura e Acesso ---\")\n",
        "class ContaBancaria:\n",
        "    def __init__(self, titular, saldo_inicial):\n",
        "        self.titular = titular          # Público\n",
        "        self._tipo_conta = \"Corrente\"   # Protegido\n",
        "        self.__saldo = saldo_inicial    # Privado\n",
        "\n",
        "    def _metodo_protegido(self):\n",
        "        print(\"  Método protegido chamado.\")\n",
        "\n",
        "    def __metodo_privado(self):\n",
        "        print(\"  Método privado chamado.\")\n",
        "\n",
        "    def depositar(self, valor):\n",
        "        if valor > 0:\n",
        "            self.__saldo += valor\n",
        "            print(f\"  Depósito de R${valor} realizado.\")\n",
        "        else:\n",
        "            print(\"  Valor de depósito inválido.\")\n",
        "\n",
        "    def get_saldo(self): # Getter para atributo privado\n",
        "        return self.__saldo\n",
        "\n",
        "    def chamar_privado(self): # Método público que chama privado\n",
        "        self.__metodo_privado()\n",
        "\n",
        "conta = ContaBancaria(\"Julia\", 1000.00)\n",
        "\n",
        "# Acesso a atributos\n",
        "print(f\"Titular (público): {conta.titular}\")\n",
        "print(f\"Tipo (protegido - acesso direto possível, mas não recomendado): {conta._tipo_conta}\")\n",
        "# print(conta.__saldo) # AttributeError: 'ContaBancaria' object has no attribute '__saldo'\n",
        "print(f\"Saldo (privado - acesso indireto via name mangling): {conta._ContaBancaria__saldo}\") # Funciona, mas NÃO faça isso!\n",
        "print(f\"Saldo (via getter): {conta.get_saldo()}\") # Forma correta\n",
        "\n",
        "# Acesso a métodos\n",
        "conta._metodo_protegido() # Funciona, mas não recomendado chamar diretamente\n",
        "# conta.__metodo_privado() # AttributeError\n",
        "conta.chamar_privado() # Chama o método privado indiretamente\n",
        "\n",
        "# Usando setter implícito no método depositar\n",
        "conta.depositar(500)\n",
        "print(f\"Novo saldo: {conta.get_saldo()}\")"
      ],
      "outputs": [
        {
          "output_type": "stream",
          "name": "stdout",
          "text": [
            "\n",
            "--- Encapsulamento: Nomenclatura e Acesso ---\n",
            "Titular (público): Julia\n",
            "Tipo (protegido - acesso direto possível, mas não recomendado): Corrente\n",
            "Saldo (privado - acesso indireto via name mangling): 1000.0\n",
            "Saldo (via getter): 1000.0\n",
            "  Método protegido chamado.\n",
            "  Método privado chamado.\n",
            "  Depósito de R$500 realizado.\n",
            "Novo saldo: 1500.0\n"
          ]
        }
      ],
      "execution_count": 52,
      "metadata": {
        "colab": {
          "base_uri": "https://localhost:8080/"
        },
        "id": "y4KHZ54vcrGl",
        "outputId": "075a6a1b-5f39-4c8a-bff9-ecc91d1ad798"
      }
    },
    {
      "cell_type": "markdown",
      "source": [
        "* **Getters e Setters:** Métodos para obter (`get`) e definir (`set`) valores de atributos (especialmente privados), permitindo validação ou lógica adicional.¹⁵ (Ex: `get_saldo()` e `depositar()` no exemplo acima).\n",
        "\n",
        "* **Uso de `@property`:** Decorador para criar getters, setters e deleters de forma mais Pythonica, acessados como atributos.¹⁵"
      ],
      "metadata": {
        "id": "bWU1kHwFcrGl"
      }
    },
    {
      "cell_type": "code",
      "source": [
        "print(\"\\n--- Encapsulamento: @property ---\")\n",
        "class CirculoProperty:\n",
        "    def __init__(self, raio):\n",
        "        # Chama o setter durante a inicialização para validar\n",
        "        self.raio = raio\n",
        "\n",
        "    @property # Define o getter para 'raio'\n",
        "    def raio(self):\n",
        "        \"\"\"Obtém o raio do círculo.\"\"\"\n",
        "        print(\"  (Getter @property chamado)\")\n",
        "        return self._raio # Note o uso do atributo \"protegido\" _raio\n",
        "\n",
        "    @raio.setter # Define o setter para 'raio'\n",
        "    def raio(self, valor):\n",
        "        \"\"\"Define o raio do círculo, com validação.\"\"\"\n",
        "        print(\"  (Setter @property chamado)\")\n",
        "        if valor >= 0:\n",
        "            self._raio = valor # Armazena no atributo \"protegido\"\n",
        "        else:\n",
        "            raise ValueError(\"Raio não pode ser negativo.\")\n",
        "\n",
        "    @property # Propriedade calculada (somente getter)\n",
        "    def diametro(self):\n",
        "        \"\"\"Calcula o diâmetro.\"\"\"\n",
        "        print(\"  (Getter @property 'diametro' chamado)\")\n",
        "        return self._raio * 2\n",
        "\n",
        "    # Não há @diametro.setter, então é somente leitura\n",
        "\n",
        "c_prop = CirculoProperty(10)\n",
        "print(f\"Raio inicial: {c_prop.raio}\")    # Chama o getter @property\n",
        "c_prop.raio = 15                         # Chama o setter @property\n",
        "print(f\"Novo raio: {c_prop.raio}\")       # Chama o getter @property\n",
        "print(f\"Diâmetro: {c_prop.diametro}\") # Chama o getter @property 'diametro'\n",
        "\n",
        "try:\n",
        "    c_prop.raio = -5 # Chama o setter, que levantará ValueError\n",
        "except ValueError as e:\n",
        "    print(f\"Erro ao definir raio: {e}\")\n",
        "\n",
        "# try:\n",
        "#     c_prop.diametro = 30 # Erro! AttributeError: can't set attribute\n",
        "# except AttributeError as e:\n",
        "#     print(f\"Erro ao tentar definir diâmetro: {e}\")"
      ],
      "outputs": [
        {
          "output_type": "stream",
          "name": "stdout",
          "text": [
            "\n",
            "--- Encapsulamento: @property ---\n",
            "  (Setter @property chamado)\n",
            "  (Getter @property chamado)\n",
            "Raio inicial: 10\n",
            "  (Setter @property chamado)\n",
            "  (Getter @property chamado)\n",
            "Novo raio: 15\n",
            "  (Getter @property 'diametro' chamado)\n",
            "Diâmetro: 30\n",
            "  (Setter @property chamado)\n",
            "Erro ao definir raio: Raio não pode ser negativo.\n"
          ]
        }
      ],
      "execution_count": 53,
      "metadata": {
        "id": "ioX0MXexcrGm",
        "colab": {
          "base_uri": "https://localhost:8080/"
        },
        "outputId": "e5f78ab8-92d5-4711-9189-67aada7bea9e"
      }
    },
    {
      "cell_type": "markdown",
      "source": [
        "**6. Abstração em Python**\n",
        "\n",
        "* **Conceito de Abstração:**\n",
        "  Ocultar detalhes de implementação complexos, expondo apenas a interface essencial.¹⁹\n",
        "\n",
        "* **Classes Abstratas (ABC - Abstract Base Classes):**\n",
        "  Não podem ser instanciadas diretamente. Servem como modelos. Usam o módulo `abc`.¹⁹\n",
        "* **Métodos Abstratos (`@abstractmethod`):**\n",
        "  Declarados em ABCs, sem implementação. Subclasses *devem* implementá-los.¹⁹"
      ],
      "metadata": {
        "id": "hzbm_ONUcrGm"
      }
    },
    {
      "cell_type": "code",
      "source": [
        "print(\"\\n--- Abstração: ABC e @abstractmethod ---\")\n",
        "from abc import ABC, abstractmethod\n",
        "\n",
        "class VeiculoAbstrato(ABC): # Herda de ABC para ser abstrata\n",
        "    def __init__(self, marca):\n",
        "        self.marca = marca\n",
        "\n",
        "    @abstractmethod # Marca o método como abstrato\n",
        "    def ligar_motor(self):\n",
        "        \"\"\"Método abstrato que subclasses devem implementar.\"\"\"\n",
        "        pass\n",
        "\n",
        "    @abstractmethod\n",
        "    def desligar_motor(self):\n",
        "        pass\n",
        "\n",
        "    # Método concreto (não abstrato)\n",
        "    def exibir_marca(self):\n",
        "        print(f\"Marca: {self.marca}\")\n",
        "\n",
        "# Tentativa de instanciar a classe abstrata (gera erro)\n",
        "try:\n",
        "    v_abstrato = VeiculoAbstrato(\"Generico\")\n",
        "except TypeError as e:\n",
        "    print(f\"Erro esperado ao instanciar ABC: {e}\")\n",
        "\n",
        "# Classe concreta que herda e implementa os métodos abstratos\n",
        "class Moto(VeiculoAbstrato):\n",
        "    def ligar_motor(self): # Implementação obrigatória\n",
        "        print(f\"Moto {self.marca}: Motor ligado! Vrumm!\")\n",
        "\n",
        "    def desligar_motor(self): # Implementação obrigatória\n",
        "        print(f\"Moto {self.marca}: Motor desligado.\")\n",
        "\n",
        "    # Pode adicionar métodos específicos\n",
        "    def empinar(self):\n",
        "        print(\"Moto empinando!\")\n",
        "\n",
        "# Instanciando a classe concreta\n",
        "minha_moto = Moto(\"Honda\")\n",
        "minha_moto.exibir_marca() # Método herdado da ABC\n",
        "minha_moto.ligar_motor()   # Método implementado na subclasse\n",
        "minha_moto.desligar_motor()# Método implementado na subclasse\n",
        "minha_moto.empinar()      # Método específico da subclasse"
      ],
      "outputs": [
        {
          "output_type": "stream",
          "name": "stdout",
          "text": [
            "\n",
            "--- Abstração: ABC e @abstractmethod ---\n",
            "Erro esperado ao instanciar ABC: Can't instantiate abstract class VeiculoAbstrato with abstract methods desligar_motor, ligar_motor\n",
            "Marca: Honda\n",
            "Moto Honda: Motor ligado! Vrumm!\n",
            "Moto Honda: Motor desligado.\n",
            "Moto empinando!\n"
          ]
        }
      ],
      "execution_count": 54,
      "metadata": {
        "id": "jL-jdJPqcrGm",
        "colab": {
          "base_uri": "https://localhost:8080/"
        },
        "outputId": "d5b4a9d7-7705-4847-bd6d-5892cdc0af07"
      }
    },
    {
      "cell_type": "markdown",
      "source": [
        "**7. Conceitos Avançados de POO em Python**\n",
        "\n",
        "* **Metaclasses:**\n",
        "  Classes que criam classes. Controlam a criação, estrutura e comportamento das classes. Usadas em cenários avançados (frameworks, ORMs).²³"
      ],
      "metadata": {
        "id": "WtXGt6_pcrGn"
      }
    },
    {
      "cell_type": "code",
      "source": [
        "print(\"\\n--- Conceitos Avançados: Metaclasses ---\")\n",
        "# Metaclasse simples que adiciona um atributo a todas as classes criadas por ela\n",
        "class MetaAdicionaAttr(type):\n",
        "    def __new__(cls, nome_classe, bases, attrs_dict):\n",
        "        print(f\"  MetaAdicionaAttr criando classe: {nome_classe}\")\n",
        "        attrs_dict['atributo_da_meta'] = \"Valor da Metaclasse!\"\n",
        "        # Chama o __new__ da metaclasse pai (type) para criar a classe\n",
        "        return super().__new__(cls, nome_classe, bases, attrs_dict)\n",
        "\n",
        "class ClasseComMeta(metaclass=MetaAdicionaAttr):\n",
        "    x = 10\n",
        "    def metodo(self):\n",
        "        pass\n",
        "\n",
        "print(f\"Atributo adicionado pela metaclasse: {ClasseComMeta.atributo_da_meta}\")\n",
        "obj_meta = ClasseComMeta()\n",
        "print(f\"Instância também tem acesso? {obj_meta.atributo_da_meta}\")"
      ],
      "outputs": [
        {
          "output_type": "stream",
          "name": "stdout",
          "text": [
            "\n",
            "--- Conceitos Avançados: Metaclasses ---\n",
            "  MetaAdicionaAttr criando classe: ClasseComMeta\n",
            "Atributo adicionado pela metaclasse: Valor da Metaclasse!\n",
            "Instância também tem acesso? Valor da Metaclasse!\n"
          ]
        }
      ],
      "execution_count": 55,
      "metadata": {
        "colab": {
          "base_uri": "https://localhost:8080/"
        },
        "id": "Nk9hv9aJcrGn",
        "outputId": "9c1ad54f-78ea-4505-91af-5a0c80dcea6a"
      }
    },
    {
      "cell_type": "markdown",
      "source": [
        "* **Design Patterns (Padrões de Projeto):**\n",
        "  Soluções reutilizáveis para problemas comuns de design.²⁶\n",
        "  * **Singleton:** Garante instância única de uma classe."
      ],
      "metadata": {
        "id": "A1gUhqLncrGn"
      }
    },
    {
      "cell_type": "code",
      "source": [
        "print(\"\\n--- Conceitos Avançados: Singleton (exemplo simples) ---\")\n",
        "class SingletonLogger:\n",
        "    _instancia = None # Armazena a única instância\n",
        "\n",
        "    def __new__(cls, *args, **kwargs):\n",
        "        # __new__ é chamado ANTES de __init__\n",
        "        if cls._instancia is None:\n",
        "            print(\"  Criando a ÚNICA instância do Logger\")\n",
        "            cls._instancia = super(SingletonLogger, cls).__new__(cls)\n",
        "            # Inicialização pode ocorrer aqui ou no __init__ (cuidado para não repetir)\n",
        "            cls._instancia._inicializado = False\n",
        "        else:\n",
        "            print(\"  Retornando instância EXISTENTE do Logger\")\n",
        "        return cls._instancia\n",
        "\n",
        "    def __init__(self, arquivo_log=\"log.txt\"):\n",
        "        # __init__ pode ser chamado múltiplas vezes, controlar inicialização\n",
        "        if self._inicializado:\n",
        "            return\n",
        "        print(f\"  Inicializando Logger (arquivo={arquivo_log})\")\n",
        "        self.arquivo_log = arquivo_log\n",
        "        self._inicializado = True\n",
        "\n",
        "    def log(self, mensagem):\n",
        "        print(f\"LOG [{self.arquivo_log}]: {mensagem}\")\n",
        "\n",
        "# Testando o Singleton\n",
        "logger1 = SingletonLogger(\"app1.log\")\n",
        "logger2 = SingletonLogger(\"app2.log\") # Deveria retornar a mesma instância\n",
        "\n",
        "print(f\"logger1 é logger2? {logger1 is logger2}\") # Saída: True\n",
        "logger1.log(\"Mensagem do logger 1\")\n",
        "logger2.log(\"Mensagem do logger 2 (mesma instância)\")\n",
        "print(f\"Arquivo de log (ainda o da primeira inicialização): {logger1.arquivo_log}\")"
      ],
      "outputs": [
        {
          "output_type": "stream",
          "name": "stdout",
          "text": [
            "\n",
            "--- Conceitos Avançados: Singleton (exemplo simples) ---\n",
            "  Criando a ÚNICA instância do Logger\n",
            "  Inicializando Logger (arquivo=app1.log)\n",
            "  Retornando instância EXISTENTE do Logger\n",
            "logger1 é logger2? True\n",
            "LOG [app1.log]: Mensagem do logger 1\n",
            "LOG [app1.log]: Mensagem do logger 2 (mesma instância)\n",
            "Arquivo de log (ainda o da primeira inicialização): app1.log\n"
          ]
        }
      ],
      "execution_count": 56,
      "metadata": {
        "id": "rgoowhBrcrGo",
        "colab": {
          "base_uri": "https://localhost:8080/"
        },
        "outputId": "0933baa4-6cfb-46f5-b73b-0646cb98270f"
      }
    },
    {
      "cell_type": "markdown",
      "source": [
        "* **Factory:** Interface para criar objetos, deixando subclasses decidirem qual instanciar.\n",
        "  * **Observer:** Objetos (observadores) são notificados sobre mudanças em outro objeto (sujeito).\n",
        "\n",
        "**8. Uso de Funções no Contexto de POO**\n",
        "\n",
        "* **Métodos:** Funções dentro de classes, com `self`.⁹ (Já exemplificado)\n",
        "* **Funções como Argumentos de Métodos:** Passar funções externas para métodos."
      ],
      "metadata": {
        "id": "h1qyVuozcrGo"
      }
    },
    {
      "cell_type": "code",
      "source": [
        "print(\"\\n--- Funções & POO: Função como Argumento ---\")\n",
        "def processar_item_externo(item):\n",
        "    return item.upper()\n",
        "\n",
        "class ProcessadorLista:\n",
        "    def __init__(self, dados):\n",
        "        self.dados = dados\n",
        "\n",
        "    def aplicar_processamento(self, funcao_processamento):\n",
        "        resultados = []\n",
        "        for item in self.dados:\n",
        "            resultados.append(funcao_processamento(item))\n",
        "        return resultados\n",
        "\n",
        "minha_lista_proc = [\"a\", \"b\", \"c\"]\n",
        "processador = ProcessadorLista(minha_lista_proc)\n",
        "resultado_proc = processador.aplicar_processamento(processar_item_externo)\n",
        "print(f\"Resultado do processamento externo: {resultado_proc}\") # Saída: ['A', 'B', 'C']\n",
        "\n",
        "# Usando lambda como argumento\n",
        "resultado_lambda = processador.aplicar_processamento(lambda x: f\"Item: {x}\")\n",
        "print(f\"Resultado com lambda: {resultado_lambda}\") # Saída: ['Item: a', 'Item: b', 'Item: c']"
      ],
      "outputs": [
        {
          "output_type": "stream",
          "name": "stdout",
          "text": [
            "\n",
            "--- Funções & POO: Função como Argumento ---\n",
            "Resultado do processamento externo: ['A', 'B', 'C']\n",
            "Resultado com lambda: ['Item: a', 'Item: b', 'Item: c']\n"
          ]
        }
      ],
      "execution_count": 57,
      "metadata": {
        "id": "xs8i0vgkcrGo",
        "colab": {
          "base_uri": "https://localhost:8080/"
        },
        "outputId": "63398ce5-73fc-4086-90cd-89d93d9ea12b"
      }
    },
    {
      "cell_type": "markdown",
      "source": [
        "* **Métodos Retornando Funções (Closures):**"
      ],
      "metadata": {
        "id": "_U4chP3hcrGo"
      }
    },
    {
      "cell_type": "code",
      "source": [
        "print(\"\\n--- Funções & POO: Método Retornando Função ---\")\n",
        "class Multiplicador:\n",
        "    def __init__(self, fator):\n",
        "        self._fator = fator # Usando _ por convenção\n",
        "\n",
        "    def criar_funcao_multiplicar(self):\n",
        "        # Esta função interna \"lembra\" o valor de self._fator (closure)\n",
        "        def multiplicar_por_fator(numero):\n",
        "            return numero * self._fator\n",
        "        return multiplicar_por_fator\n",
        "\n",
        "multiplica_por_5 = Multiplicador(5).criar_funcao_multiplicar()\n",
        "multiplica_por_10 = Multiplicador(10).criar_funcao_multiplicar()\n",
        "\n",
        "print(f\"5 x 3 = {multiplica_por_5(3)}\") # Saída: 15\n",
        "print(f\"10 x 7 = {multiplica_por_10(7)}\") # Saída: 70"
      ],
      "outputs": [
        {
          "output_type": "stream",
          "name": "stdout",
          "text": [
            "\n",
            "--- Funções & POO: Método Retornando Função ---\n",
            "5 x 3 = 15\n",
            "10 x 7 = 70\n"
          ]
        }
      ],
      "execution_count": 58,
      "metadata": {
        "colab": {
          "base_uri": "https://localhost:8080/"
        },
        "id": "_ki6qrn1crGo",
        "outputId": "c416699e-0c57-4753-88ab-23f99d805c3f"
      }
    },
    {
      "cell_type": "markdown",
      "source": [
        "* **Uso de `map()`, `filter()`, `reduce()` com Objetos/Métodos:**"
      ],
      "metadata": {
        "id": "5L8a0xt5crGp"
      }
    },
    {
      "cell_type": "code",
      "source": [
        "print(\"\\n--- Funções & POO: map/filter/reduce com Objetos ---\")\n",
        "from functools import reduce\n",
        "\n",
        "class ProdutoSimples:\n",
        "    def __init__(self, nome, preco):\n",
        "        self.nome = nome\n",
        "        self.preco = preco\n",
        "    def __repr__(self): # Para melhor visualização\n",
        "        return f\"ProdutoSimples({self.nome!r}, {self.preco})\"\n",
        "    def get_preco(self):\n",
        "        return self.preco\n",
        "    def eh_caro(self, limite=50):\n",
        "        return self.preco > limite\n",
        "\n",
        "produtos = [\n",
        "    ProdutoSimples(\"Caneta\", 5.0),\n",
        "    ProdutoSimples(\"Caderno\", 25.0),\n",
        "    ProdutoSimples(\"Mochila\", 150.0),\n",
        "    ProdutoSimples(\"Livro\", 75.0),\n",
        "]\n",
        "\n",
        "# map para obter preços\n",
        "precos = list(map(ProdutoSimples.get_preco, produtos))\n",
        "# Alternativa com lambda: list(map(lambda p: p.preco, produtos))\n",
        "print(f\"Preços (map): {precos}\") # Saída: [5.0, 25.0, 150.0, 75.0]\n",
        "\n",
        "# filter para produtos caros (preco > 50)\n",
        "produtos_caros = list(filter(ProdutoSimples.eh_caro, produtos))\n",
        "# Alternativa com lambda: list(filter(lambda p: p.preco > 50, produtos))\n",
        "print(f\"Produtos Caros (filter): {produtos_caros}\")\n",
        "# Saída: [ProdutoSimples('Mochila', 150.0), ProdutoSimples('Livro', 75.0)]\n",
        "\n",
        "# reduce para somar os preços dos produtos\n",
        "preco_total = reduce(lambda acumulado, produto: acumulado + produto.preco, produtos, 0)\n",
        "print(f\"Preço total (reduce): {preco_total}\") # Saída: 255.0"
      ],
      "outputs": [
        {
          "output_type": "stream",
          "name": "stdout",
          "text": [
            "\n",
            "--- Funções & POO: map/filter/reduce com Objetos ---\n",
            "Preços (map): [5.0, 25.0, 150.0, 75.0]\n",
            "Produtos Caros (filter): [ProdutoSimples('Mochila', 150.0), ProdutoSimples('Livro', 75.0)]\n",
            "Preço total (reduce): 255.0\n"
          ]
        }
      ],
      "execution_count": 59,
      "metadata": {
        "id": "DedSoBfLcrGp",
        "colab": {
          "base_uri": "https://localhost:8080/"
        },
        "outputId": "7ae5e172-1cc8-412e-b2ed-9fc020b353f3"
      }
    },
    {
      "cell_type": "markdown",
      "source": [
        "* **Decoradores em Métodos:** Modificam comportamento de métodos. `@staticmethod` e `@classmethod` são comuns."
      ],
      "metadata": {
        "id": "CaZlxdD6crGq"
      }
    },
    {
      "cell_type": "code",
      "source": [
        "import functools\n",
        "\n",
        "print(\"\\n--- Funções & POO: Decoradores em Métodos ---\")\n",
        "\n",
        "# Decorador para logar chamadas de métodos de instância\n",
        "def log_chamada_metodo(metodo):\n",
        "    @functools.wraps(metodo)\n",
        "    def wrapper(self, *args, **kwargs):  # Precisa aceitar 'self'\n",
        "        print(f\"  Log: Chamando {metodo.__name__} em {self}\")\n",
        "        return metodo(self, *args, **kwargs)\n",
        "    return wrapper\n",
        "\n",
        "\n",
        "# Definição da classe Calculadora\n",
        "class Calculadora:\n",
        "    _historico_op = []  # Atributo de classe (compartilhado por todas as instâncias)\n",
        "\n",
        "    @log_chamada_metodo  # Decorador aplicado a método de instância\n",
        "    def somar(self, a, b):\n",
        "        return a + b\n",
        "\n",
        "    @staticmethod  # Não recebe self nem cls\n",
        "    def info_licenca():\n",
        "        print(\"  Licença da Calculadora: MIT (Exemplo Staticmethod)\")\n",
        "\n",
        "    @classmethod  # Recebe a classe (cls) como primeiro argumento\n",
        "    def ver_historico(cls):\n",
        "        print(f\"  Histórico de operações da classe {cls.__name__}: {cls._historico_op}\")\n",
        "        return cls._historico_op\n",
        "\n",
        "    @classmethod\n",
        "    def adicionar_ao_historico(cls, op):\n",
        "        cls._historico_op.append(op)\n",
        "\n",
        "\n",
        "# Usando a classe Calculadora\n",
        "calc = Calculadora()\n",
        "\n",
        "# Chamada de método decorado\n",
        "resultado_soma_decorada = calc.somar(5, 7)\n",
        "print(f\"Resultado soma: {resultado_soma_decorada}\")\n",
        "Calculadora.adicionar_ao_historico(\"soma(5,7)\")\n",
        "\n",
        "# Chamada do staticmethod\n",
        "Calculadora.info_licenca()  # Pela classe\n",
        "calc.info_licenca()         # Pela instância (também funciona)\n",
        "\n",
        "# Chamada do classmethod\n",
        "Calculadora.ver_historico()  # Pela classe\n",
        "calc.ver_historico()         # Pela instância (também funciona)\n"
      ],
      "outputs": [
        {
          "output_type": "stream",
          "name": "stdout",
          "text": [
            "\n",
            "--- Funções & POO: Decoradores em Métodos ---\n",
            "  Log: Chamando somar em <__main__.Calculadora object at 0x7ef0b670fad0>\n",
            "Resultado soma: 12\n",
            "  Licença da Calculadora: MIT (Exemplo Staticmethod)\n",
            "  Licença da Calculadora: MIT (Exemplo Staticmethod)\n",
            "  Histórico de operações da classe Calculadora: ['soma(5,7)']\n",
            "  Histórico de operações da classe Calculadora: ['soma(5,7)']\n"
          ]
        },
        {
          "output_type": "execute_result",
          "data": {
            "text/plain": [
              "['soma(5,7)']"
            ]
          },
          "metadata": {},
          "execution_count": 60
        }
      ],
      "execution_count": 60,
      "metadata": {
        "id": "tkPxY6XwcrGq",
        "colab": {
          "base_uri": "https://localhost:8080/"
        },
        "outputId": "7e929a98-13c5-4474-c35b-e1735b6c189c"
      }
    },
    {
      "cell_type": "markdown",
      "source": [
        "**9. Conclusão**\n",
        "\n",
        "A Programação Orientada a Objetos em Python oferece um conjunto robusto de conceitos e ferramentas para o desenvolvimento de software complexo. A correta aplicação de classes, objetos, herança, polimorfismo, encapsulamento e abstração permite a criação de sistemas modulares, reutilizáveis e de fácil manutenção. Conceitos avançados como metaclasses e padrões de projeto expandem ainda mais as capacidades da POO em Python, possibilitando soluções elegantes para problemas de design complexos. A integração de funções no contexto da POO, seja como métodos, argumentos ou valores de retorno, demonstra a flexibilidade e o poder do paradigma orientado a objetos em Python. Dominar estes conceitos é fundamental para escrever código Python eficaz, escalável e de alta qualidade."
      ],
      "metadata": {
        "id": "siMZGIducrGq"
      }
    }
  ],
  "metadata": {
    "colab": {
      "provenance": []
    },
    "kernelspec": {
      "display_name": "Python 3",
      "name": "python3"
    }
  },
  "nbformat": 4,
  "nbformat_minor": 0
}