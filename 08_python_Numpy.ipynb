{
  "cells": [
    {
      "cell_type": "markdown",
      "source": [
        "Okay, aqui está o texto revisado e complementado com mais exemplos de código, focando em aplicações e conceitos relevantes para Ciência de Dados. As explicações originais foram mantidas, e exemplos foram adicionados ou corrigidos para maior clareza e relevância.\n",
        "\n",
        "---\n",
        "\n",
        "**Estudo Detalhado da Biblioteca NumPy em Python para Computação Científica**\n",
        "\n",
        "**Introdução ao NumPy**\n",
        "\n",
        "A biblioteca NumPy (Numerical Python) representa um pilar fundamental no ecossistema Python para a realização de computação científica e análise de dados.¹ Amplamente adotada em diversas disciplinas da ciência e engenharia, o NumPy fornece as ferramentas essenciais para a manipulação eficiente de grandes conjuntos de dados numéricos.² No seu núcleo, o NumPy introduz uma estrutura de dados poderosa e flexível: o **array N-dimensional (ndarray)**, complementado por uma vasta coleção de funções de alto desempenho projetadas para operar sobre esses arrays.²\n",
        "\n",
        "A relevância do NumPy estende-se por inúmeras aplicações, desde a análise estatística e visualização de dados até o desenvolvimento de modelos de machine learning e o processamento de sinais e imagens.² Sua capacidade de gerenciar estruturas de dados complexas e executar operações matemáticas avançadas com eficiência torna-o uma ferramenta indispensável para cientistas, engenheiros e analistas de dados que utilizam Python.³\n",
        "\n",
        "Para incorporar as funcionalidades do NumPy em um projeto Python, a convenção padrão é importar a biblioteca utilizando o alias `np`. Essa prática, quase universal na comunidade Python, facilita a leitura e a compreensão do código.²"
      ],
      "metadata": {
        "id": "UpzugXXbd-N2"
      }
    },
    {
      "cell_type": "code",
      "source": [
        "# Convenção padrão de importação\n",
        "import numpy as np\n",
        "print(f\"NumPy importado com sucesso! Versão: {np.__version__}\")"
      ],
      "outputs": [],
      "execution_count": null,
      "metadata": {
        "id": "9EqQMkZqd-N7"
      }
    },
    {
      "cell_type": "markdown",
      "source": [
        "Embora as listas Python ofereçam uma maneira flexível de armazenar coleções de dados, os arrays NumPy são especificamente otimizados para operações numéricas, apresentando um desempenho significativamente superior em muitos cenários.⁴ Essa vantagem de velocidade é atribuída à implementação em C, permitindo cálculos mais rápidos.⁴\n",
        "\n",
        "Uma diferença fundamental reside na **homogeneidade** dos tipos de dados: arrays NumPy exigem que todos os elementos sejam do mesmo tipo, enquanto listas Python podem ser heterogêneas.⁴ Essa restrição permite ao NumPy otimizar armazenamento e realizar **operações vetorizadas** (aplicar a mesma operação a todos os elementos simultaneamente, sem loops explícitos em Python), que são muito mais rápidas.⁴ Além disso, o tamanho de um array NumPy é fixo após a criação,⁵ diferentemente das listas dinâmicas. O NumPy também oferece uma gama muito maior de funções matemáticas e de manipulação de arrays.⁴"
      ],
      "metadata": {
        "id": "yv-hCvAEd-N9"
      }
    },
    {
      "cell_type": "code",
      "source": [
        "# Comparação (Conceitual): Listas vs Arrays NumPy\n",
        "lista_py = [1, 2, 3, 4, 5]\n",
        "array_np = np.array([1, 2, 3, 4, 5])\n",
        "\n",
        "# Operação em lista (requer loop ou list comprehension)\n",
        "quadrados_lista = [x**2 for x in lista_py]\n",
        "\n",
        "# Operação vetorizada em array NumPy (mais rápida e concisa)\n",
        "quadrados_array = array_np ** 2\n",
        "\n",
        "print(f\"\\nLista Python ao quadrado: {quadrados_lista}\")\n",
        "print(f\"Array NumPy ao quadrado: {quadrados_array}\")\n",
        "\n",
        "# Listas podem ser heterogêneas, arrays NumPy são homogêneos\n",
        "lista_heterogenea = [1, \"dois\", 3.0, True]\n",
        "# array_heterogeneo = np.array([1, \"dois\", 3.0, True]) # Resultaria em dtype='object' ou erro dependendo do contexto\n",
        "# print(array_heterogeneo, array_heterogeneo.dtype) # dtype seria 'object', perdendo otimizações numéricas"
      ],
      "outputs": [],
      "execution_count": null,
      "metadata": {
        "id": "cOsXhu7Ud-N_"
      }
    },
    {
      "cell_type": "markdown",
      "source": [
        "**O Objeto `ndarray`**\n",
        "\n",
        "O `ndarray` (N-dimensional array) é a estrutura central do NumPy: uma grade de valores homogêneos indexada por uma tupla de inteiros.⁵ O número de dimensões é chamado de **eixo** (*axis*).²\n",
        "\n",
        "Atributos essenciais do `ndarray`:\n",
        "\n",
        "* `.ndim`: Número de dimensões (eixos)."
      ],
      "metadata": {
        "id": "ytLSN6uHd-OA"
      }
    },
    {
      "cell_type": "code",
      "source": [
        "# Atributo ndim\n",
        "    a1D = np.array([1, 2, 3])\n",
        "    a2D = np.array([[1, 2, 3], [4, 5, 6]])\n",
        "    # Corrigido: Array 3D com sublistas de mesmo tamanho\n",
        "    a3D = np.array([[[1, 2], [3, 4]], [[5, 6], [7, 8]]])\n",
        "\n",
        "    print(f\"\\n--- Atributos ndarray ---\")\n",
        "    print(f\"Array 1D: {a1D}, Dimensões: {a1D.ndim}\") # Saída: 1\n",
        "    print(f\"Array 2D:\\n{a2D}\\nDimensões: {a2D.ndim}\") # Saída: 2\n",
        "    print(f\"Array 3D:\\n{a3D}\\nDimensões: {a3D.ndim}\") # Saída: 3"
      ],
      "outputs": [],
      "execution_count": null,
      "metadata": {
        "id": "YpRYX1MGd-OB"
      }
    },
    {
      "cell_type": "markdown",
      "source": [
        "* `.shape`: Tupla com o tamanho de cada dimensão (eixo). Para 2D, é `(linhas, colunas)`."
      ],
      "metadata": {
        "id": "OeYUXP12d-OB"
      }
    },
    {
      "cell_type": "code",
      "source": [
        "# Atributo shape\n",
        "    print(f\"Shape 1D (a1D): {a1D.shape}\")  # Saída: (3,) -> 3 elementos no único eixo\n",
        "    print(f\"Shape 2D (a2D): {a2D.shape}\")  # Saída: (2, 3) -> 2 linhas, 3 colunas\n",
        "    print(f\"Shape 3D (a3D): {a3D.shape}\")  # Saída: (2, 2, 2) -> 2 matrizes, cada uma 2x2"
      ],
      "outputs": [],
      "execution_count": null,
      "metadata": {
        "id": "sAoFVJNhd-OC"
      }
    },
    {
      "cell_type": "markdown",
      "source": [
        "* `.size`: Número total de elementos no array (`produto(shape)`)."
      ],
      "metadata": {
        "id": "YU_Be0Lgd-OD"
      }
    },
    {
      "cell_type": "code",
      "source": [
        "# Atributo size\n",
        "    print(f\"Size 1D (a1D): {a1D.size}\")    # Saída: 3\n",
        "    print(f\"Size 2D (a2D): {a2D.size}\")    # Saída: 6\n",
        "    print(f\"Size 3D (a3D): {a3D.size}\")    # Saída: 8"
      ],
      "outputs": [],
      "execution_count": null,
      "metadata": {
        "id": "bLPpUq5Nd-OD"
      }
    },
    {
      "cell_type": "markdown",
      "source": [
        "* `.dtype`: Objeto descrevendo o tipo de dados dos elementos."
      ],
      "metadata": {
        "id": "RubBo6vqd-OD"
      }
    },
    {
      "cell_type": "code",
      "source": [
        "# Atributo dtype\n",
        "    array_float = np.array([1.0, 2.5])\n",
        "    array_bool = np.array([True, False])\n",
        "    print(f\"Dtype a1D (int): {a1D.dtype}\")       # Saída: int64 (ou int32 dependendo do sistema)\n",
        "    print(f\"Dtype array_float: {array_float.dtype}\") # Saída: float64\n",
        "    print(f\"Dtype array_bool: {array_bool.dtype}\")  # Saída: bool"
      ],
      "outputs": [],
      "execution_count": null,
      "metadata": {
        "id": "Z94nrzusd-OE"
      }
    },
    {
      "cell_type": "markdown",
      "source": [
        "* `.itemsize`: Tamanho em bytes de cada elemento (depende do `dtype`)."
      ],
      "metadata": {
        "id": "-mJjuSY-d-OE"
      }
    },
    {
      "cell_type": "code",
      "source": [
        "# Atributo itemsize\n",
        "    print(f\"Itemsize a1D (int64): {a1D.itemsize}\") # Saída: 8 (para int64)\n",
        "    print(f\"Itemsize array_float (float64): {array_float.itemsize}\") # Saída: 8 (para float64)\n",
        "    print(f\"Itemsize array_bool (bool): {array_bool.itemsize}\")   # Saída: 1"
      ],
      "outputs": [],
      "execution_count": null,
      "metadata": {
        "id": "VaXizkfcd-OE"
      }
    },
    {
      "cell_type": "markdown",
      "source": [
        "* `.data`: Buffer de memória onde os dados estão armazenados (uso avançado).\n",
        "\n",
        "Compreender `shape` e `dtype` é crucial para operações e compatibilidade. O tamanho fixo (`size`) permite alocação eficiente de memória contígua.⁵,⁴\n",
        "\n",
        "**Tipos de Dados NumPy**\n",
        "\n",
        "NumPy oferece tipos de dados numéricos e outros, otimizados para desempenho.\n",
        "\n",
        "* **Tipos Numéricos:**\n",
        "    * **Inteiros:** `np.int8`, `np.int16`, `np.int32`, `np.int64` (precisão variável, uso de memória). Também versões *unsigned* `np.uint...` para não negativos.⁴\n",
        "    * **Ponto Flutuante:** `np.float16`, `np.float32`, `np.float64` (precisão variável). `float64` é o padrão e mais comum (`double`).⁴\n",
        "    * **Complexos:** `np.complex64`, `np.complex128`, `np.complex256`.⁵\n",
        "* **Tipo Booleano:** `np.bool_` (`True`, `False`).⁵\n",
        "* **Outros Tipos:** `np.str_`, `np.unicode_` (strings)⁴, `np.object_` (objetos Python genéricos, menos eficiente)⁵, `np.datetime64` (datas/horas), `np.timedelta64` (durações).⁵\n",
        "\n",
        "O `dtype` pode ser especificado na criação ou convertido com `.astype()`."
      ],
      "metadata": {
        "id": "P_1TxaUid-OF"
      }
    },
    {
      "cell_type": "code",
      "source": [
        "# Especificando e convertendo dtype\n",
        "array_int32 = np.array([10, 20, 30], dtype=np.int32)\n",
        "print(f\"\\nArray com dtype int32: {array_int32}, dtype: {array_int32.dtype}\")\n",
        "\n",
        "array_original_int = np.array([0, 1, 2])\n",
        "print(f\"Dtype original: {array_original_int.dtype}\") # Saída: int64 (padrão)\n",
        "\n",
        "# Convertendo para float\n",
        "array_convertido_float = array_original_int.astype(np.float32)\n",
        "print(f\"Array convertido para float32: {array_convertido_float}, dtype: {array_convertido_float.dtype}\")\n",
        "\n",
        "# Convertendo float para int (truncamento ocorre)\n",
        "array_float_para_int = np.array([1.1, 2.9, 3.5]).astype(np.int64)\n",
        "print(f\"Array float convertido para int64: {array_float_para_int}, dtype: {array_float_para_int.dtype}\") # Saída: [1 2 3]\n",
        "\n",
        "# NumPy infere o dtype (geralmente o mais abrangente necessário)\n",
        "array_inferido = np.array([1, 2, 3.0]) # Um float faz todo o array ser float\n",
        "print(f\"Array com tipo inferido: {array_inferido}, dtype: {array_inferido.dtype}\") # Saída: float64"
      ],
      "outputs": [],
      "execution_count": null,
      "metadata": {
        "id": "a1VBCMnWd-OF"
      }
    },
    {
      "cell_type": "markdown",
      "source": [
        "Escolher o `dtype` correto otimiza memória e precisão.\n",
        "\n",
        "**Investigue as várias maneiras de criar arrays NumPy:**\n",
        "\n",
        "* **`np.array(lista_ou_tupla, [dtype=...])`:** Cria a partir de sequências Python. Infere `dtype` ou pode ser especificado."
      ],
      "metadata": {
        "id": "2wMxk2Hkd-OF"
      }
    },
    {
      "cell_type": "code",
      "source": [
        "# np.array() - já visto nos exemplos anteriores\n",
        "    lista_dados = [[1.5, 2.1, 3.8], [4.0, 5.5, 6.2]] # Simula 2 amostras com 3 features\n",
        "    dados_array = np.array(lista_dados)\n",
        "    print(f\"\\nArray criado de lista de listas (dados):\\n{dados_array}\")\n",
        "    print(f\"Shape: {dados_array.shape}, Dtype: {dados_array.dtype}\")"
      ],
      "outputs": [],
      "execution_count": null,
      "metadata": {
        "id": "q5B9hc6Nd-OG"
      }
    },
    {
      "cell_type": "markdown",
      "source": [
        "* **Arrays Preenchidos:**\n",
        "    * `np.zeros(shape, [dtype=...])`: Array de zeros.\n",
        "    * `np.ones(shape, [dtype=...])`: Array de uns.\n",
        "    * `np.full(shape, fill_value, [dtype=...])`: Array preenchido com `fill_value`."
      ],
      "metadata": {
        "id": "BH1Y-PcSd-OG"
      }
    },
    {
      "cell_type": "code",
      "source": [
        "# Arrays preenchidos\n",
        "    num_amostras = 5\n",
        "    num_features = 4\n",
        "\n",
        "    # Inicializar pesos em ML com zeros\n",
        "    pesos = np.zeros((num_features, 1))\n",
        "    print(f\"\\nPesos inicializados com zeros (shape={pesos.shape}):\\n{pesos}\")\n",
        "\n",
        "    # Criar máscara inicial com uns\n",
        "    mascara = np.ones(num_amostras, dtype=bool)\n",
        "    print(f\"\\nMáscara inicial com uns (bool): {mascara}\")\n",
        "\n",
        "    # Array constante (ex: valor padrão)\n",
        "    valores_padrao = np.full((num_amostras,), -999, dtype=np.float32)\n",
        "    print(f\"\\nValores padrão (-999): {valores_padrao}\")"
      ],
      "outputs": [],
      "execution_count": null,
      "metadata": {
        "id": "Bb9STlhzd-OG"
      }
    },
    {
      "cell_type": "markdown",
      "source": [
        "* **Sequências Numéricas:**\n",
        "    * `np.arange([start,] stop[, step], [dtype=...])`: Como `range` do Python, mas retorna array e aceita `step` float. **Cuidado com precisão de float no `step`**.\n",
        "    * `np.linspace(start, stop, num=50, endpoint=True, [dtype=...])`: Gera `num` amostras igualmente espaçadas entre `start` e `stop`. `endpoint=False` exclui `stop`. Muito usado para eixos de gráficos."
      ],
      "metadata": {
        "id": "mk_sFvhOd-OG"
      }
    },
    {
      "cell_type": "code",
      "source": [
        "# Sequências numéricas\n",
        "    tempo = np.arange(0, 1.0, 0.1) # Sequência de tempo de 0 a 0.9 segundos\n",
        "    print(f\"\\nSequência de tempo (arange): {tempo}\")\n",
        "\n",
        "    # Eixo para gráfico de -5 a 5 com 20 pontos\n",
        "    eixo_x_grafico = np.linspace(-5, 5, 20)\n",
        "    print(f\"\\nEixo para gráfico (linspace): {np.round(eixo_x_grafico, 2)}\") # Arredondado para exibição"
      ],
      "outputs": [],
      "execution_count": null,
      "metadata": {
        "id": "FJ2TCW4pd-OH"
      }
    },
    {
      "cell_type": "markdown",
      "source": [
        "* **Arrays Aleatórios (`np.random`)**: Essencial para simulações, inicialização, amostragem.\n",
        "    * `np.random.rand(d0, ..., dn)`: Uniforme [0.0, 1.0).\n",
        "    * `np.random.randn(d0, ..., dn)`: Normal padrão (média 0, desvio padrão 1).\n",
        "    * `np.random.randint(low, high=None, size=None, dtype=int)`: Inteiros aleatórios no intervalo `[low, high)`.\n",
        "    * `np.random.random_sample(size=None)`: Alias para `rand`, mas recebe `size` como tupla/int.\n",
        "    * `np.random.choice(a, size=None, replace=True, p=None)`: Amostra aleatória de um array `a` (com ou sem reposição, com probabilidades `p`).\n",
        "    * `np.random.seed(int)`: Define a semente para reprodutibilidade."
      ],
      "metadata": {
        "id": "4IoIzXogd-OH"
      }
    },
    {
      "cell_type": "code",
      "source": [
        "# Arrays aleatórios\n",
        "    np.random.seed(42) # Garante reprodutibilidade dos exemplos seguintes\n",
        "\n",
        "    # Dados aleatórios uniformes (ex: inicialização)\n",
        "    random_uniform = np.random.rand(2, 3) # Matriz 2x3\n",
        "    print(f\"\\nArray aleatório uniforme [0, 1):\\n{random_uniform}\")\n",
        "\n",
        "    # Dados aleatórios normais (ex: ruído gaussiano)\n",
        "    random_normal = np.random.randn(5) # 5 amostras da normal padrão\n",
        "    print(f\"\\nArray aleatório normal padrão:\\n{random_normal}\")\n",
        "\n",
        "    # Inteiros aleatórios (ex: simular lançamentos de dado)\n",
        "    lancamentos_dado = np.random.randint(1, 7, size=10) # 10 lançamentos de dado (1 a 6)\n",
        "    print(f\"\\nInteiros aleatórios (dado): {lancamentos_dado}\")\n",
        "\n",
        "    # Amostragem aleatória (ex: selecionar amostras para validação cruzada)\n",
        "    populacao = np.arange(20) # População de 0 a 19\n",
        "    amostra_sem_reposicao = np.random.choice(populacao, size=5, replace=False)\n",
        "    print(f\"\\nAmostra sem reposição: {amostra_sem_reposicao}\")\n",
        "    amostra_com_reposicao = np.random.choice(populacao, size=5, replace=True)\n",
        "    print(f\"Amostra com reposição: {amostra_com_reposicao}\")"
      ],
      "outputs": [],
      "execution_count": null,
      "metadata": {
        "id": "pb3pOxP6d-OH"
      }
    },
    {
      "cell_type": "markdown",
      "source": [
        "* **Arrays Especiais:**\n",
        "    * `np.eye(N, M=None, k=0, dtype=float)`: Matriz identidade NxM (se M=None, N=M) com 1s na k-ésima diagonal.\n",
        "    * `np.identity(n, dtype=None)`: Matriz identidade quadrada n x n.\n",
        "    * `np.diag(v, k=0)`: Extrai uma diagonal ou constrói uma matriz diagonal."
      ],
      "metadata": {
        "id": "7Fjlgd9Ad-OH"
      }
    },
    {
      "cell_type": "code",
      "source": [
        "# Arrays especiais\n",
        "    identidade_3x3 = np.eye(3)\n",
        "    print(f\"\\nMatriz identidade (eye):\\n{identidade_3x3}\")\n",
        "\n",
        "    identidade_alt = np.identity(4, dtype=int)\n",
        "    print(f\"\\nMatriz identidade quadrada (identity):\\n{identidade_alt}\")\n",
        "\n",
        "    # Criando matriz diagonal a partir de um vetor\n",
        "    vetor_diag = [10, 20, 30]\n",
        "    matriz_diag = np.diag(vetor_diag)\n",
        "    print(f\"\\nMatriz diagonal (criada de vetor):\\n{matriz_diag}\")\n",
        "\n",
        "    # Criando matriz com diagonal deslocada\n",
        "    matriz_diag_deslocada = np.diag(vetor_diag, k=1) # Diagonal acima da principal\n",
        "    print(f\"\\nMatriz com diagonal deslocada (k=1):\\n{matriz_diag_deslocada}\")\n",
        "\n",
        "    # Extraindo a diagonal principal de uma matriz\n",
        "    diagonal_principal = np.diag(matriz_diag)\n",
        "    print(f\"\\nDiagonal extraída da matriz_diag: {diagonal_principal}\")\n",
        "    # Extraindo diagonal acima da principal\n",
        "    diagonal_acima = np.diag(matriz_diag_deslocada, k=1)\n",
        "    print(f\"Diagonal extraída da matriz_diag_deslocada (k=1): {diagonal_acima}\")"
      ],
      "outputs": [],
      "execution_count": null,
      "metadata": {
        "id": "Djgqtj8Pd-OI"
      }
    },
    {
      "cell_type": "markdown",
      "source": [
        "**Explore o acesso e a manipulação de elementos em arrays NumPy:**\n",
        "\n",
        "* **Indexação Básica e Slicing:** Semelhante a listas, mas com tuplas para múltiplas dimensões. Baseado em 0. `[start:stop:step]`."
      ],
      "metadata": {
        "id": "kV13kNIgd-OI"
      }
    },
    {
      "cell_type": "code",
      "source": [
        "# Indexação e Slicing\n",
        "    # Corrigido: array_1d inicializado\n",
        "    array_1d = np.array([10, 20, 30, 40, 50])\n",
        "    print(f\"\\n--- Acesso e Manipulação ---\")\n",
        "    print(f\"array_1d: {array_1d}\")\n",
        "    print(f\"Elemento índice 1: {array_1d[1]}\")       # Saída: 20\n",
        "    print(f\"Último elemento: {array_1d[-1]}\")     # Saída: 50\n",
        "    print(f\"Slice [1:4]: {array_1d[1:4]}\")      # Saída: [20 30 40] (índices 1, 2, 3)\n",
        "    print(f\"Slice até índice 3 (exclusivo): {array_1d[:3]}\")  # Saída: [10 20 30]\n",
        "    print(f\"Slice do índice 2 até o fim: {array_1d[2:]}\")    # Saída: [30 40 50]\n",
        "    print(f\"Slice com passo 2: {array_1d[::2]}\")     # Saída: [10 30 50]\n",
        "\n",
        "    # Corrigido: array_2d inicializado\n",
        "    # Simula 3 amostras (linhas) com 4 features (colunas)\n",
        "    dados_features = np.array([[1.1, 1.2, 1.3, 1.4],\n",
        "                               [2.1, 2.2, 2.3, 2.4],\n",
        "                               [3.1, 3.2, 3.3, 3.4]])\n",
        "    print(f\"\\nArray 2D (dados_features):\\n{dados_features}\")\n",
        "\n",
        "    # Elemento na linha 1, coluna 2 (índices 1 e 2)\n",
        "    elemento_1_2 = dados_features[1, 2]\n",
        "    print(f\"Elemento [1, 2]: {elemento_1_2}\") # Saída: 2.3\n",
        "\n",
        "    # Primeira linha inteira (índice 0)\n",
        "    primeira_amostra = dados_features[0, :] # ou dados_features[0]\n",
        "    print(f\"Primeira amostra (linha 0): {primeira_amostra}\") # Saída: [1.1 1.2 1.3 1.4]\n",
        "\n",
        "    # Segunda coluna inteira (índice 1)\n",
        "    segunda_feature = dados_features[:, 1]\n",
        "    print(f\"Segunda feature (coluna 1): {segunda_feature}\") # Saída: [1.2 2.2 3.2]\n",
        "\n",
        "    # Submatriz: Linhas 1 e 2, Colunas 0 e 1\n",
        "    submatriz = dados_features[1:3, 0:2] # ou [1:, :2] se for até o fim\n",
        "    print(f\"Submatriz (linhas 1:, colunas :2):\\n{submatriz}\")\n",
        "    # Saída:\n",
        "    # [[2.1 2.2]\n",
        "    #  [3.1 3.2]]"
      ],
      "outputs": [],
      "execution_count": null,
      "metadata": {
        "id": "29TkkauBd-OI"
      }
    },
    {
      "cell_type": "markdown",
      "source": [
        "* **Indexação Booleana (Máscaras):** Seleciona elementos onde a máscara booleana correspondente é `True`. Muito útil para filtrar dados."
      ],
      "metadata": {
        "id": "eFP7Muc3d-OI"
      }
    },
    {
      "cell_type": "code",
      "source": [
        "# Indexação Booleana (Máscaras)\n",
        "    valores = np.array([-1.0, 0.5, 2.3, -0.1, 1.8, 0.0])\n",
        "    print(f\"\\nValores originais: {valores}\")\n",
        "\n",
        "    # Criar máscara para valores positivos\n",
        "    mascara_positivos = valores > 0\n",
        "    print(f\"Máscara (valores > 0): {mascara_positivos}\") # Saída: [False True True False True False]\n",
        "\n",
        "    # Aplicar máscara para selecionar apenas positivos\n",
        "    valores_positivos = valores[mascara_positivos]\n",
        "    print(f\"Valores positivos: {valores_positivos}\") # Saída: [0.5 2.3 1.8]\n",
        "\n",
        "    # Filtrar dados de features baseado em um limiar em outra feature\n",
        "    # Usando 'dados_features' do exemplo anterior\n",
        "    # Selecionar amostras onde a primeira feature (coluna 0) é > 2.0\n",
        "    mascara_feature1 = dados_features[:, 0] > 2.0\n",
        "    print(f\"\\nMáscara (feature 0 > 2.0): {mascara_feature1}\") # Saída: [False True True]\n",
        "    amostras_filtradas = dados_features[mascara_feature1]\n",
        "    print(f\"Amostras com feature 0 > 2.0:\\n{amostras_filtradas}\")\n",
        "    # Saída:\n",
        "    # [[2.1 2.2 2.3 2.4]\n",
        "    #  [3.1 3.2 3.3 3.4]]"
      ],
      "outputs": [],
      "execution_count": null,
      "metadata": {
        "id": "XzqltyyWd-OJ"
      }
    },
    {
      "cell_type": "markdown",
      "source": [
        "* **Indexação com Arrays de Inteiros (Fancy Indexing):** Usa arrays de inteiros para selecionar elementos em ordens específicas ou não sequenciais."
      ],
      "metadata": {
        "id": "Ybh1-haqd-OJ"
      }
    },
    {
      "cell_type": "code",
      "source": [
        "# Fancy Indexing\n",
        "    # Corrigido: array inicializado\n",
        "    array_fancy = np.array([100, 200, 300, 400, 500])\n",
        "    indices_selecao = np.array([0, 3, 1, 1]) # Seleciona elementos nos índices 0, 3, 1, 1\n",
        "    print(f\"\\nSeleção com Fancy Indexing 1D: {array_fancy[indices_selecao]}\") # Saída: [100 400 200 200]\n",
        "\n",
        "    # Corrigido: array_2d e índices inicializados\n",
        "    matriz_dados = np.arange(1, 10).reshape((3, 3)) # Matriz 3x3 de 1 a 9\n",
        "    print(f\"\\nMatriz para Fancy Indexing 2D:\\n{matriz_dados}\")\n",
        "    # Saída:\n",
        "    # [[1 2 3]\n",
        "    #  [4 5 6]\n",
        "    #  [7 8 9]]\n",
        "\n",
        "    # Selecionar linhas específicas\n",
        "    indices_linhas = np.array([0, 2])\n",
        "    print(f\"Selecionando linhas {indices_linhas}:\\n{matriz_dados[indices_linhas, :]}\") # ou matriz_dados[indices_linhas]\n",
        "    # Saída:\n",
        "    # [[1 2 3]\n",
        "    #  [7 8 9]]\n",
        "\n",
        "    # Selecionar elementos específicos usando pares de índices (linha, coluna)\n",
        "    indices_linhas_elems = np.array([0, 1, 2])\n",
        "    indices_colunas_elems = np.array([1, 0, 2])\n",
        "    elementos_especificos = matriz_dados[indices_linhas_elems, indices_colunas_elems]\n",
        "    print(f\"Elementos específicos ([0,1], [1,0], [2,2]): {elementos_especificos}\") # Saída: [2 4 9]"
      ],
      "outputs": [],
      "execution_count": null,
      "metadata": {
        "id": "VVbOkIUxd-OJ"
      }
    },
    {
      "cell_type": "markdown",
      "source": [
        "* **Iteração:** Loops `for` iteram sobre eixos (linhas em 2D). `np.nditer()` é mais flexível para iterar sobre *todos* os elementos. **Nota:** Operações vetorizadas são quase sempre preferíveis a loops explícitos em NumPy por desempenho."
      ],
      "metadata": {
        "id": "cH-fYZhKd-OK"
      }
    },
    {
      "cell_type": "code",
      "source": [
        "# Iteração (Loop vs nditer vs Vetorização)\n",
        "    matriz_iter = np.array([[1, 2], [3, 4]])\n",
        "\n",
        "    print(\"\\nIteração com loop for (sobre linhas):\")\n",
        "    for linha in matriz_iter:\n",
        "        print(f\"  Linha: {linha}\")\n",
        "\n",
        "    print(\"Iteração com np.nditer (elemento a elemento, ordem C):\")\n",
        "    for elemento in np.nditer(matriz_iter, order='C'):\n",
        "        print(f\"  Elemento: {elemento}\")\n",
        "\n",
        "    # Comparação com vetorização (preferível)\n",
        "    print(\"Operação via vetorização (preferível):\")\n",
        "    matriz_iter_mais_10 = matriz_iter + 10 # Aplica a todos os elementos de uma vez\n",
        "    print(matriz_iter_mais_10)"
      ],
      "outputs": [],
      "execution_count": null,
      "metadata": {
        "id": "xva4X2Hsd-OL"
      }
    },
    {
      "cell_type": "markdown",
      "source": [
        "**Detalhe as operações básicas em arrays NumPy:**\n",
        "\n",
        "* **Operações Aritméticas Elementares:** `+`, `-`, `*`, `/`, `**`, `//`, `%` aplicadas elemento a elemento. Compatibilidade de `shape` ou *broadcasting* é necessário."
      ],
      "metadata": {
        "id": "dI7jZkWDd-OL"
      }
    },
    {
      "cell_type": "code",
      "source": [
        "# Operações Aritméticas\n",
        "    a = np.array([1, 2, 3])\n",
        "    b = np.array([4, 5, 6])\n",
        "    print(f\"\\n--- Operações Básicas ---\")\n",
        "    print(f\"a = {a}, b = {b}\")\n",
        "    print(f\"Adição (a + b): {a + b}\")            # Saída: [5 7 9]\n",
        "    print(f\"Subtração (b - a): {b - a}\")          # Saída: [3 3 3]\n",
        "    print(f\"Multiplicação (a * b): {a * b}\")        # Saída: [ 4 10 18]\n",
        "    print(f\"Divisão (b / a): {b / a}\")            # Saída: [4.  2.5 2. ] (float)\n",
        "    print(f\"Potência (a ** 2): {a ** 2}\")          # Saída: [1 4 9]\n",
        "    print(f\"Multiplicação por escalar (a * 10): {a * 10}\") # Saída: [10 20 30]\n",
        "\n",
        "    # Broadcasting: Operar arrays de shapes diferentes (compatíveis)\n",
        "    matriz = np.array([[1, 2], [3, 4]]) # Shape (2, 2)\n",
        "    vetor_linha = np.array([10, 20])    # Shape (2,) - tratado como (1, 2)\n",
        "    vetor_coluna = np.array([[100], [200]]) # Shape (2, 1)\n",
        "\n",
        "    print(f\"\\nMatriz:\\n{matriz}\")\n",
        "    print(f\"Vetor Linha: {vetor_linha}\")\n",
        "    print(f\"Vetor Coluna:\\n{vetor_coluna}\")\n",
        "\n",
        "    print(f\"Matriz + Vetor Linha (Broadcasting):\\n{matriz + vetor_linha}\")\n",
        "    # Saída: [[11 22]\n",
        "    #         [13 24]]\n",
        "    print(f\"Matriz + Vetor Coluna (Broadcasting):\\n{matriz + vetor_coluna}\")\n",
        "    # Saída: [[101 102]\n",
        "    #         [203 204]]"
      ],
      "outputs": [],
      "execution_count": null,
      "metadata": {
        "id": "cS_SB12_d-OM"
      }
    },
    {
      "cell_type": "markdown",
      "source": [
        "* **Operações de Comparação:** `==`, `!=`, `<`, `>`, `<=`, `>=` elemento a elemento. Retornam array booleano (máscara)."
      ],
      "metadata": {
        "id": "CbjGQ-nLd-OM"
      }
    },
    {
      "cell_type": "code",
      "source": [
        "# Operações de Comparação\n",
        "    # Corrigido: a e b definidos\n",
        "    a = np.array([1, 5, 3])\n",
        "    b = np.array([1, 2, 6])\n",
        "    print(f\"\\na = {a}, b = {b}\")\n",
        "    print(f\"Igualdade (a == b): {a == b}\")        # Saída: [ True False False]\n",
        "    print(f\"Diferença (a != 1): {a != 1}\")        # Saída: [False  True  True]\n",
        "    print(f\"Maior que (a > b): {a > b}\")          # Saída: [False  True False]\n",
        "    print(f\"Menor ou igual (a <= 3): {a <= 3}\")  # Saída: [ True False  True]\n",
        "\n",
        "    # Usando comparação para filtrar (combina com indexação booleana)\n",
        "    dados_temp = np.array([22.1, 25.5, 30.2, 19.8, 27.0])\n",
        "    temp_altas = dados_temp[dados_temp > 25.0]\n",
        "    print(f\"\\nTemperaturas originais: {dados_temp}\")\n",
        "    print(f\"Temperaturas altas (> 25.0): {temp_altas}\") # Saída: [25.5 30.2 27. ]"
      ],
      "outputs": [],
      "execution_count": null,
      "metadata": {
        "id": "TjowTZO6d-OM"
      }
    },
    {
      "cell_type": "markdown",
      "source": [
        "* **Operações Lógicas:** `np.logical_and` (`&`), `np.logical_or` (`|`), `np.logical_not` (`~`) em arrays booleanos."
      ],
      "metadata": {
        "id": "EjCis9tLd-ON"
      }
    },
    {
      "cell_type": "code",
      "source": [
        "# Operações Lógicas\n",
        "    # Corrigido: bool_a e bool_b definidos\n",
        "    bool_a = np.array([True, True, False, False])\n",
        "    bool_b = np.array([True, False, True, False])\n",
        "    print(f\"\\nbool_a = {bool_a}\")\n",
        "    print(f\"bool_b = {bool_b}\")\n",
        "    print(f\"AND (&): {bool_a & bool_b}\")            # Saída: [ True False False False]\n",
        "    print(f\"OR (|): {bool_a | bool_b}\")             # Saída: [ True  True  True False]\n",
        "    print(f\"NOT (~bool_a): {~bool_a}\")             # Saída: [False False  True  True]\n",
        "\n",
        "    # Combinando condições para filtrar dados\n",
        "    idades = np.array([25, 40, 15, 60, 35])\n",
        "    salarios = np.array([50000, 80000, 30000, 90000, 70000])\n",
        "    # Pessoas entre 30 e 50 anos OU com salário > 75000\n",
        "    mascara_combinada = ((idades >= 30) & (idades <= 50)) | (salarios > 75000)\n",
        "    print(f\"\\nIdades: {idades}\")\n",
        "    print(f\"Salários: {salarios}\")\n",
        "    print(f\"Máscara combinada: {mascara_combinada}\") # Saída: [False True False True True]\n",
        "    print(f\"Pessoas selecionadas (idade): {idades[mascara_combinada]}\") # Saída: [40 60 35]\n",
        "    print(f\"Pessoas selecionadas (salário): {salarios[mascara_combinada]}\") # Saída: [80000 90000 70000]"
      ],
      "outputs": [],
      "execution_count": null,
      "metadata": {
        "id": "SaDLlz-yd-OO"
      }
    },
    {
      "cell_type": "markdown",
      "source": [
        "**Investigue as funções importantes para manipulação de arrays NumPy:**\n",
        "\n",
        "* **Mudança de Forma (`reshape`)**: `np.reshape(array, novo_shape)` ou `array.reshape(novo_shape)`. `novo_shape` deve ter o mesmo número total de elementos. `-1` em uma dimensão infere seu tamanho."
      ],
      "metadata": {
        "id": "Q1zSpiR_d-OO"
      }
    },
    {
      "cell_type": "code",
      "source": [
        "# Reshape\n",
        "    array_linear = np.arange(12) # 0 a 11\n",
        "    print(f\"\\n--- Manipulação de Shape ---\")\n",
        "    print(f\"Array original (1D): {array_linear}\")\n",
        "    matriz_3x4 = array_linear.reshape((3, 4))\n",
        "    print(f\"Reshape para (3, 4):\\n{matriz_3x4}\")\n",
        "    tensor_2x2x3 = array_linear.reshape((2, 2, 3))\n",
        "    print(f\"Reshape para (2, 2, 3):\\n{tensor_2x2x3}\")\n",
        "    # Usando -1 para inferir dimensão\n",
        "    matriz_6xN = array_linear.reshape((6, -1)) # NumPy calcula N=2\n",
        "    print(f\"Reshape para (6, -1) -> (6, 2):\\n{matriz_6xN}\")"
      ],
      "outputs": [],
      "execution_count": null,
      "metadata": {
        "id": "WeiKZPI4d-OO"
      }
    },
    {
      "cell_type": "markdown",
      "source": [
        "* **Transposição (`.T`, `np.transpose`)**: Inverte eixos. Para 2D, troca linhas/colunas."
      ],
      "metadata": {
        "id": "ITfYlSQmd-OP"
      }
    },
    {
      "cell_type": "code",
      "source": [
        "# Transposição\n",
        "    matriz = np.array([[1, 2, 3], [4, 5, 6]]) # Shape (2, 3)\n",
        "    print(f\"\\nMatriz original (2x3):\\n{matriz}\")\n",
        "    matriz_transposta = matriz.T # ou np.transpose(matriz)\n",
        "    print(f\"Matriz Transposta (3x2):\\n{matriz_transposta}\")"
      ],
      "outputs": [],
      "execution_count": null,
      "metadata": {
        "id": "hgGftnhUd-OP"
      }
    },
    {
      "cell_type": "markdown",
      "source": [
        "* **Concatenação**: Juntar arrays.\n",
        "    * `np.concatenate((a, b, ...), axis=0)`: Junta ao longo de um eixo existente.\n",
        "    * `np.stack((a, b, ...), axis=0)`: Empilha ao longo de um *novo* eixo.\n",
        "    * `np.hstack((a, b, ...))`: Concatena horizontalmente (ao longo do eixo 1).\n",
        "    * `np.vstack((a, b, ...))`: Concatena verticalmente (ao longo do eixo 0)."
      ],
      "metadata": {
        "id": "vyI8A-NUd-OP"
      }
    },
    {
      "cell_type": "code",
      "source": [
        "# Concatenação\n",
        "    a = np.array([[1, 2], [3, 4]]) # Shape (2, 2)\n",
        "    b = np.array([[5, 6]])         # Shape (1, 2)\n",
        "\n",
        "    # Concatenar ao longo do eixo 0 (linhas)\n",
        "    concat_vertical = np.concatenate((a, b), axis=0)\n",
        "    print(f\"\\nConcatenar verticalmente (axis=0):\\n{concat_vertical}\")\n",
        "    # Saída: [[1 2] [3 4] [5 6]] - Shape (3, 2)\n",
        "\n",
        "    # vstack faz o mesmo\n",
        "    vstack_ex = np.vstack((a, b))\n",
        "    print(f\"vstack:\\n{vstack_ex}\")\n",
        "\n",
        "    # hstack precisa de shapes compatíveis na dimensão vertical (eixo 0)\n",
        "    c = np.array([[10], [20]]) # Shape (2, 1)\n",
        "    hstack_ex = np.hstack((a, c))\n",
        "    print(f\"hstack (juntar colunas):\\n{hstack_ex}\")\n",
        "    # Saída: [[ 1  2 10] [ 3  4 20]] - Shape (2, 3)\n",
        "\n",
        "    # Stack cria uma nova dimensão\n",
        "    d = np.array([7, 8]) # Shape (2,)\n",
        "    e = np.array([9, 10])# Shape (2,)\n",
        "    stack_axis0 = np.stack((d, e), axis=0) # Empilha como linhas\n",
        "    print(f\"Stack axis=0:\\n{stack_axis0}\") # Saída: [[7 8] [9 10]] - Shape (2, 2)\n",
        "    stack_axis1 = np.stack((d, e), axis=1) # Empilha como colunas\n",
        "    print(f\"Stack axis=1:\\n{stack_axis1}\") # Saída: [[7 9] [8 10]] - Shape (2, 2)"
      ],
      "outputs": [],
      "execution_count": null,
      "metadata": {
        "id": "V5vJp-Cnd-OP"
      }
    },
    {
      "cell_type": "markdown",
      "source": [
        "* **Divisão**:\n",
        "    * `np.split(array, indices_or_sections, axis=0)`: Divide ao longo de `axis`. Pode ser número de seções iguais ou lista de índices onde dividir.\n",
        "    * `np.hsplit(array, indices_or_sections)`: Divide horizontalmente (eixo 1).\n",
        "    * `np.vsplit(array, indices_or_sections)`: Divide verticalmente (eixo 0)."
      ],
      "metadata": {
        "id": "ODCksTyBd-OQ"
      }
    },
    {
      "cell_type": "code",
      "source": [
        "# Divisão de Arrays (ex: separar features de target)\n",
        "    dados_completos = np.arange(20).reshape(5, 4) # 5 amostras, 4 colunas\n",
        "    print(f\"\\nDados completos (5x4):\\n{dados_completos}\")\n",
        "\n",
        "    # Dividir em 2 partes iguais verticalmente (vsplit)\n",
        "    parte1_v, parte2_v = np.vsplit(dados_completos, 2) # Erro se não for divisível igualmente\n",
        "    # print(f\"vsplit em 2:\\nParte 1:\\n{parte1_v}\\nParte 2:\\n{parte2_v}\") # Vai dar erro (5 não é divisível por 2)\n",
        "\n",
        "    # Dividir verticalmente em índices [2, 3] -> 3 partes: [:2], [2:3], [3:]\n",
        "    partes_v_indices = np.vsplit(dados_completos, [2, 3])\n",
        "    print(f\"vsplit por índices [2, 3] (3 partes):\")\n",
        "    for i, parte in enumerate(partes_v_indices): print(f\" Parte {i+1}:\\n{parte}\")\n",
        "\n",
        "    # Dividir horizontalmente (hsplit) - ex: separar última coluna (target)\n",
        "    # Isso requer np.hsplit(dados_completos, [3]) para separar ANTES da coluna 3\n",
        "    features, target = np.hsplit(dados_completos, [3])\n",
        "    print(f\"\\nhsplit para separar features/target:\")\n",
        "    print(f\" Features (colunas 0, 1, 2):\\n{features}\")\n",
        "    print(f\" Target (coluna 3):\\n{target}\")"
      ],
      "outputs": [],
      "execution_count": null,
      "metadata": {
        "id": "vVy1njrcd-OQ"
      }
    },
    {
      "cell_type": "markdown",
      "source": [
        "**Explore as funções matemáticas do NumPy:**\n",
        "\n",
        "* **Funções Universais (ufuncs):** Operam elemento a elemento. Ex: `np.sin`, `np.cos`, `np.exp`, `np.log`, `np.sqrt`, `np.add`, `np.multiply`, etc."
      ],
      "metadata": {
        "id": "IdQchTyId-OQ"
      }
    },
    {
      "cell_type": "code",
      "source": [
        "# Funções Universais (ufuncs)\n",
        "    angulos = np.array([0, np.pi/2, np.pi])\n",
        "    print(f\"\\n--- Funções Matemáticas ---\")\n",
        "    print(f\"Ângulos: {angulos}\")\n",
        "    print(f\"Seno: {np.sin(angulos)}\") # Saída: [0. 1. 0.] (aproximado)\n",
        "    print(f\"Exponencial: {np.exp(np.array([0, 1, 2]))}\") # Saída: [1.  2.718 7.389] (aproximado)\n",
        "    print(f\"Raiz quadrada: {np.sqrt(np.array([1, 4, 9]))}\") # Saída: [1. 2. 3.]"
      ],
      "outputs": [],
      "execution_count": null,
      "metadata": {
        "id": "gfKigj-Sd-OR"
      }
    },
    {
      "cell_type": "markdown",
      "source": [
        "* **Funções Estatísticas:** `np.mean`, `np.median`, `np.std`, `np.var`, `np.sum`, `np.min`, `np.max`. Podem operar no array todo ou ao longo de um eixo (`axis`)."
      ],
      "metadata": {
        "id": "wAnNNNJkd-OR"
      }
    },
    {
      "cell_type": "code",
      "source": [
        "# Funções Estatísticas\n",
        "    # Corrigido: array inicializado\n",
        "    dados_estat = np.array([[1, 5, 3], [8, 2, 6]])\n",
        "    print(f\"\\nDados para estatísticas:\\n{dados_estat}\")\n",
        "    print(f\"Média total: {np.mean(dados_estat)}\")\n",
        "    print(f\"Soma total: {np.sum(dados_estat)}\")\n",
        "    print(f\"Mínimo total: {np.min(dados_estat)}\")\n",
        "    print(f\"Máximo total: {np.max(dados_estat)}\")\n",
        "    print(f\"Desvio padrão total: {np.std(dados_estat)}\")\n",
        "\n",
        "    # Estatísticas por eixo (axis=0 -> colunas, axis=1 -> linhas)\n",
        "    print(f\"Soma por coluna (axis=0): {np.sum(dados_estat, axis=0)}\") # Saída: [9 7 9]\n",
        "    print(f\"Média por linha (axis=1): {np.mean(dados_estat, axis=1)}\") # Saída: [3. 5.333]\n",
        "    print(f\"Máximo por coluna (axis=0): {np.max(dados_estat, axis=0)}\") # Saída: [8 5 6]"
      ],
      "outputs": [],
      "execution_count": null,
      "metadata": {
        "id": "VRDxSF4Md-OR"
      }
    },
    {
      "cell_type": "markdown",
      "source": [
        "* **Funções para Álgebra Linear (`np.linalg`)**: `dot`, `solve`, `inv`, `det`, `eig`, etc."
      ],
      "metadata": {
        "id": "ivsSCSm8d-OS"
      }
    },
    {
      "cell_type": "code",
      "source": [
        "# Funções de Álgebra Linear (np.linalg)\n",
        "    # Corrigido: Dimensões compatíveis para dot\n",
        "    matriz_A = np.array([[1, 2], [3, 4]]) # 2x2\n",
        "    matriz_B = np.array([[5, 0], [0, 6]]) # 2x2\n",
        "    vetor_v = np.array([10, 20]) # (2,)\n",
        "\n",
        "    print(f\"\\n--- Álgebra Linear ---\")\n",
        "    print(f\"Matriz A:\\n{matriz_A}\")\n",
        "    print(f\"Matriz B:\\n{matriz_B}\")\n",
        "    print(f\"Vetor v: {vetor_v}\")\n",
        "\n",
        "    # Produto escalar/matricial\n",
        "    produto_dot = np.dot(matriz_A, matriz_B)\n",
        "    print(f\"Produto A dot B:\\n{produto_dot}\")\n",
        "    # Usando o operador @ (preferível a partir de Python 3.5)\n",
        "    produto_arroba = matriz_A @ matriz_B\n",
        "    print(f\"Produto A @ B:\\n{produto_arroba}\")\n",
        "    produto_matriz_vetor = matriz_A @ vetor_v\n",
        "    print(f\"Produto Matriz A @ Vetor v: {produto_matriz_vetor}\") # Saída: [ 50 110]"
      ],
      "outputs": [],
      "execution_count": null,
      "metadata": {
        "id": "_FLPm8Vid-OS"
      }
    },
    {
      "cell_type": "markdown",
      "source": [
        "**Detalhe o uso do NumPy para operações de álgebra linear:** Essencial em Data Science/ML.\n",
        "\n",
        "* **Multiplicação de Matrizes:** `np.dot(a, b)` ou `a @ b`."
      ],
      "metadata": {
        "id": "K_6FQx5Bd-OS"
      }
    },
    {
      "cell_type": "code",
      "source": [
        "# Multiplicação de Matrizes (exemplo anterior já mostra)\n",
        "    print(f\"\\nMultiplicação A @ B:\\n{matriz_A @ matriz_B}\")"
      ],
      "outputs": [],
      "execution_count": null,
      "metadata": {
        "id": "wWh_Dhwod-OT"
      }
    },
    {
      "cell_type": "markdown",
      "source": [
        "* **Determinante:** `np.linalg.det(matriz_quadrada)`."
      ],
      "metadata": {
        "id": "OxrGOo8Ud-OT"
      }
    },
    {
      "cell_type": "code",
      "source": [
        "# Determinante\n",
        "    det_A = np.linalg.det(matriz_A)\n",
        "    print(f\"\\nDeterminante de A: {det_A:.2f}\") # Saída: -2.00"
      ],
      "outputs": [],
      "execution_count": null,
      "metadata": {
        "id": "-Z1ArlpUd-OT"
      }
    },
    {
      "cell_type": "markdown",
      "source": [
        "* **Inversa:** `np.linalg.inv(matriz_quadrada_nao_singular)`."
      ],
      "metadata": {
        "id": "w9-sOjxHd-OU"
      }
    },
    {
      "cell_type": "code",
      "source": [
        "# Inversa\n",
        "    try:\n",
        "        inv_A = np.linalg.inv(matriz_A)\n",
        "        print(f\"\\nInversa de A:\\n{inv_A}\")\n",
        "        # Verificação: A @ inv(A) deve ser a identidade (com alguma imprecisão float)\n",
        "        print(f\"Verificação A @ inv(A):\\n{np.round(matriz_A @ inv_A)}\")\n",
        "    except np.linalg.LinAlgError:\n",
        "        print(\"\\nMatriz A é singular, não possui inversa.\")"
      ],
      "outputs": [],
      "execution_count": null,
      "metadata": {
        "id": "J92cfIuyd-OU"
      }
    },
    {
      "cell_type": "markdown",
      "source": [
        "* **Resolver Sistemas Lineares (Ax = b):** `np.linalg.solve(A, b)`. `A` deve ser quadrada e não singular."
      ],
      "metadata": {
        "id": "SiIKRi3Xd-OU"
      }
    },
    {
      "cell_type": "code",
      "source": [
        "# Resolver Sistema Linear Ax = b\n",
        "    # Ex: x + 2y = 1\n",
        "    #     3x + 4y = -1\n",
        "    A_sistema = np.array([[1, 2], [3, 4]])\n",
        "    b_sistema = np.array([1, -1])\n",
        "    try:\n",
        "        x_solucao = np.linalg.solve(A_sistema, b_sistema)\n",
        "        print(f\"\\nSolução do sistema Ax=b (x, y): {x_solucao}\") # Saída: [-3.  2.] (x=-3, y=2)\n",
        "        # Verificação: A @ x deve ser igual a b\n",
        "        print(f\"Verificação A @ x_solucao: {A_sistema @ x_solucao}\") # Saída: [ 1. -1.]\n",
        "    except np.linalg.LinAlgError:\n",
        "        print(\"\\nNão foi possível resolver o sistema (matriz singular ou não quadrada).\")"
      ],
      "outputs": [],
      "execution_count": null,
      "metadata": {
        "id": "2Pg3rDysd-OV"
      }
    },
    {
      "cell_type": "markdown",
      "source": [
        "* **Autovalores e Autovetores:** `np.linalg.eig(matriz_quadrada)`. Retorna tupla `(autovalores, autovetores)`.\n",
        "\n",
        "**Investigue a geração de números aleatórios com NumPy:** Crucial para simulação, amostragem, inicialização de pesos em ML.\n",
        "\n",
        "* **Funções Comuns (`np.random`)**: `rand`, `randn`, `randint`, `random_sample`, `choice`."
      ],
      "metadata": {
        "id": "iZRRGZYpd-OV"
      }
    },
    {
      "cell_type": "code",
      "source": [
        "# Geração de Números Aleatórios (exemplos já vistos na seção de criação)\n",
        "    print(f\"\\n--- Números Aleatórios ---\")\n",
        "    print(f\"randint(1, 100, 5): {np.random.randint(1, 100, 5)}\") # 5 inteiros entre 1 e 99\n",
        "    print(f\"rand(2, 2): \\n{np.random.rand(2, 2)}\") # Uniforme [0,1)\n",
        "    print(f\"randn(3): {np.random.randn(3)}\")     # Normal Padrão"
      ],
      "outputs": [],
      "execution_count": null,
      "metadata": {
        "id": "VrdlPWLjd-OV"
      }
    },
    {
      "cell_type": "markdown",
      "source": [
        "* **Semente Aleatória (`np.random.seed`)**: Para reprodutibilidade."
      ],
      "metadata": {
        "id": "35i_8UgMd-OW"
      }
    },
    {
      "cell_type": "code",
      "source": [
        "# Semente Aleatória\n",
        "    np.random.seed(123)\n",
        "    rand1 = np.random.rand(3)\n",
        "    np.random.seed(123) # Resetando a semente para o mesmo valor\n",
        "    rand2 = np.random.rand(3)\n",
        "    print(f\"\\nCom a mesma seed:\")\n",
        "    print(f\"  Primeira geração: {rand1}\")\n",
        "    print(f\"  Segunda geração: {rand2}\") # Saída será idêntica à primeira\n",
        "    print(f\"  São iguais? {np.array_equal(rand1, rand2)}\") # Saída: True"
      ],
      "outputs": [],
      "execution_count": null,
      "metadata": {
        "id": "1IleGbuZd-OW"
      }
    },
    {
      "cell_type": "markdown",
      "source": [
        "* **Amostragem (`np.random.choice`)**: Selecionar itens aleatoriamente."
      ],
      "metadata": {
        "id": "cajZshP8d-OX"
      }
    },
    {
      "cell_type": "code",
      "source": [
        "# Amostragem com choice\n",
        "    elementos = ['A', 'B', 'C', 'D', 'E']\n",
        "    probabilidades = [0.1, 0.4, 0.1, 0.3, 0.1] # Soma deve ser 1\n",
        "\n",
        "    amostra_choice = np.random.choice(elementos, size=10, replace=True, p=probabilidades)\n",
        "    print(f\"\\nAmostragem com reposição e probabilidades: {amostra_choice}\")"
      ],
      "outputs": [],
      "execution_count": null,
      "metadata": {
        "id": "4XSbV2S7d-OX"
      }
    },
    {
      "cell_type": "markdown",
      "source": [
        "**Mencione as melhores práticas para usar NumPy:**\n",
        "\n",
        "* **Vetorização:** **Evitar loops Python explícitos**. Usar operações NumPy que atuam em arrays inteiros. Muito mais rápido devido à implementação em C."
      ],
      "metadata": {
        "id": "XOzanAUNd-OY"
      }
    },
    {
      "cell_type": "code",
      "source": [
        "# Vetorização vs Loop\n",
        "    print(\"\\n--- Melhores Práticas: Vetorização ---\")\n",
        "    array_grande = np.arange(1_000_000) # Array com 1 milhão de elementos\n",
        "\n",
        "    # Abordagem com Loop Python (LENTA!)\n",
        "    # import time\n",
        "    # inicio_loop = time.time()\n",
        "    # soma_quadrados_loop = 0\n",
        "    # for x in array_grande:\n",
        "    #     soma_quadrados_loop += x**2\n",
        "    # fim_loop = time.time()\n",
        "    # print(f\"Resultado Loop: {soma_quadrados_loop} (Tempo: {fim_loop - inicio_loop:.4f}s)\") # Comentar/Descomentar para testar\n",
        "\n",
        "    # Abordagem Vetorizada NumPy (RÁPIDA!)\n",
        "    # inicio_vetor = time.time()\n",
        "    soma_quadrados_vetor = np.sum(array_grande ** 2) # Operações vetorizadas\n",
        "    # fim_vetor = time.time()\n",
        "    # print(f\"Resultado Vetorizado: {soma_quadrados_vetor} (Tempo: {fim_vetor - inicio_vetor:.4f}s)\") # Comentar/Descomentar para testar\n",
        "    print(f\"Resultado Vetorizado: {soma_quadrados_vetor} (Execução muito mais rápida!)\")\n",
        "    print(\"Descomente as linhas de tempo para comparar a diferença de velocidade.\")"
      ],
      "outputs": [],
      "execution_count": null,
      "metadata": {
        "id": "axAfFPARd-OY"
      }
    },
    {
      "cell_type": "markdown",
      "source": [
        "* **Escolha Correta de Tipos de Dados:** Usar `dtype` apropriado (`int16`, `float32`, etc.) economiza memória e pode acelerar cálculos, mas cuidado com perda de precisão ou overflow.\n",
        "\n",
        "**Conclusão:**\n",
        "\n",
        "O NumPy é uma biblioteca essencial para a computação científica e ciência de dados em Python, fornecendo o `ndarray` e funções otimizadas para operações numéricas, manipulação de arrays, álgebra linear e números aleatórios. A vetorização e a escolha cuidadosa de `dtype` são práticas chave para performance. NumPy é a base para muitas outras bibliotecas científicas (Pandas, SciPy, Scikit-learn) e fundamental para análise de dados e ML em Python."
      ],
      "metadata": {
        "id": "vEboIddzd-OY"
      }
    }
  ],
  "metadata": {
    "colab": {
      "provenance": []
    },
    "kernelspec": {
      "display_name": "Python 3",
      "name": "python3"
    }
  },
  "nbformat": 4,
  "nbformat_minor": 0
}