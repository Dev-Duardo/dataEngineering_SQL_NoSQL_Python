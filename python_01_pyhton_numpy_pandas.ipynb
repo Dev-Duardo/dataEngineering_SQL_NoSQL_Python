{
  "nbformat": 4,
  "nbformat_minor": 0,
  "metadata": {
    "colab": {
      "provenance": [],
      "toc_visible": true
    },
    "kernelspec": {
      "name": "python3",
      "display_name": "Python 3"
    },
    "language_info": {
      "name": "python"
    }
  },
  "cells": [
    {
      "cell_type": "markdown",
      "source": [
        "#**1 - Variáveis | Variables**"
      ],
      "metadata": {
        "id": "EPEk1wxNjuQJ"
      }
    },
    {
      "cell_type": "code",
      "source": [
        "# 📌 VARIÁVEIS EM PYTHON | VARIABLES IN PYTHON\n",
        "\n",
        "# @title ## 1️⃣ Criando Variáveis | Creating Variables\n",
        "x = 10  # Inteiro | Integer\n",
        "y = 3.14  # Float\n",
        "nome = \"Eduardo\"  # String\n",
        "status = True  # Booleano | Boolean"
      ],
      "metadata": {
        "id": "pI75qCwKSAnN"
      },
      "execution_count": 2,
      "outputs": []
    },
    {
      "cell_type": "code",
      "source": [
        "# @title ##2️⃣ Convenções de Nomes | Naming Conventions\n",
        "# ✅ Permitido | Allowed\n",
        "minha_variavel = \"certo\"  # Snake_case (recomendado | recommended)\n",
        "minhaVariavel = \"errado\"  # CamelCase (não é comum em Python | not common in Python)\n",
        "\n",
        "# ❌ Inválido | Invalid\n",
        "# 2x = 10  # Erro: nome de variável não pode começar com número | Error: variable name cannot start with a number\n",
        "# nome-completo = \"Eduardo\"  # Erro: não pode usar \"-\" | Error: cannot use \"-\""
      ],
      "metadata": {
        "id": "D-jkZzKYSUeE"
      },
      "execution_count": 8,
      "outputs": []
    },
    {
      "cell_type": "code",
      "source": [
        "# @title ##3️⃣ Tipagem Dinâmica | Dynamic Typing\n",
        "x = 10\n",
        "print(type(x))  # <class 'int'>\n",
        "\n",
        "x = \"Agora sou uma string\"  # Now I am a string\n",
        "print(type(x))  # <class 'str'>"
      ],
      "metadata": {
        "colab": {
          "base_uri": "https://localhost:8080/"
        },
        "id": "nscwZXc9SZxK",
        "outputId": "77f4317d-eb89-4ed3-c074-cfb2a3f9ab09"
      },
      "execution_count": 7,
      "outputs": [
        {
          "output_type": "stream",
          "name": "stdout",
          "text": [
            "<class 'int'>\n",
            "<class 'str'>\n"
          ]
        }
      ]
    },
    {
      "cell_type": "code",
      "source": [
        "# @title ##4️⃣ Atribuições Múltiplas | Multiple Assignments\n",
        "a, b, c = 1, 2, 3  # Atribuição em uma única linha | Assignment in a single line\n",
        "print(a, b, c)  # Saída | Output: 1 2 3\n",
        "\n",
        "x = y = z = 100  # Todas recebem o mesmo valor | All receive the same value\n",
        "print(x, y, z)  # Saída | Output: 100 100 100"
      ],
      "metadata": {
        "colab": {
          "base_uri": "https://localhost:8080/"
        },
        "id": "vnSt7Op5She9",
        "outputId": "7c4eacdb-fe4d-42d0-8526-b8fc10f1ceaa"
      },
      "execution_count": 6,
      "outputs": [
        {
          "output_type": "stream",
          "name": "stdout",
          "text": [
            "1 2 3\n",
            "100 100 100\n"
          ]
        }
      ]
    },
    {
      "cell_type": "code",
      "source": [
        "# @title ##5️⃣ Variáveis Especiais | Special Variables\n",
        "vazio = None  # None representa ausência de valor | None represents the absence of value\n",
        "print(vazio)  # Saída | Output: None\n",
        "\n",
        "PI = 3.1415  # Constante (por convenção, mas pode ser alterada) | Constant (by convention, but can be changed)\n"
      ],
      "metadata": {
        "colab": {
          "base_uri": "https://localhost:8080/"
        },
        "id": "rZYVftNeSkU5",
        "outputId": "2afa9238-897a-4512-e76f-33f95ebce642"
      },
      "execution_count": 5,
      "outputs": [
        {
          "output_type": "stream",
          "name": "stdout",
          "text": [
            "None\n"
          ]
        }
      ]
    },
    {
      "cell_type": "code",
      "source": [
        "# @title ##6️⃣ Tipagem Forte | Strong Typing\n",
        "idade = 25\n",
        "# print(\"Tenho \" + idade + \" anos\")  # ❌ Erro: str + int não funciona | Error: str + int does not work\n",
        "\n",
        "print(\"Tenho \" + str(idade) + \" anos\")  # ✅ Correto: conversão explícita | Correct: explicit conversion\n"
      ],
      "metadata": {
        "colab": {
          "base_uri": "https://localhost:8080/"
        },
        "id": "gnTnm_xmSomf",
        "outputId": "06874502-c846-41ba-e312-8bb480d63e7c"
      },
      "execution_count": 4,
      "outputs": [
        {
          "output_type": "stream",
          "name": "stdout",
          "text": [
            "Tenho 25 anos\n"
          ]
        }
      ]
    },
    {
      "cell_type": "code",
      "source": [
        "# @title ##7️⃣ Desempacotamento de Listas e Tuplas | Unpacking Lists and Tuples\n",
        "valores = [10, 20, 30]\n",
        "a, b, c = valores  # Cada variável recebe um valor da lista | Each variable receives a value from the list\n",
        "print(a, b, c)  # Saída | Output: 10 20 30"
      ],
      "metadata": {
        "colab": {
          "base_uri": "https://localhost:8080/"
        },
        "id": "no2Rt6YNSuqN",
        "outputId": "575f82a3-2d4d-41d3-f17b-13f47193ca84"
      },
      "execution_count": 3,
      "outputs": [
        {
          "output_type": "stream",
          "name": "stdout",
          "text": [
            "10 20 30\n"
          ]
        }
      ]
    },
    {
      "cell_type": "code",
      "execution_count": null,
      "metadata": {
        "id": "zuyHGi6NjsrR"
      },
      "outputs": [],
      "source": [
        "# @title ##8️⃣ Deletando Variáveis | Deleting Variables\n",
        "x = 10\n",
        "del x  # Remove a variável da memória | Removes the variable from memory\n",
        "# print(x)  # ❌ Erro: x não existe mais | Error: x no longer exists\n"
      ]
    },
    {
      "cell_type": "markdown",
      "source": [
        "#**2 - Tipos de Dados & Operadores | Datatypes Operators**"
      ],
      "metadata": {
        "id": "9x3MHbs-j-YB"
      }
    },
    {
      "cell_type": "code",
      "source": [
        "# 📌 TIPOS DE DADOS, OPERADORES, OPERANDOS, SEQUÊNCIAS E CONVERSÃO DE TIPOS EM PYTHON\n",
        "# 📌 DATA TYPES, OPERATORS, OPERANDS, SEQUENCES, AND TYPE CONVERSION IN PYTHON\n",
        "\n",
        "# --------------------------------------------------\n",
        "# @title ##1️⃣ TIPOS DE DADOS | DATA TYPES\n",
        "\n",
        "# ➤ Inteiros | Integers\n",
        "x = 10\n",
        "print(type(x))  # <class 'int'>\n",
        "\n",
        "# ➤ Ponto flutuante | Floating point\n",
        "y = 3.14\n",
        "print(type(y))  # <class 'float'>\n",
        "\n",
        "# ➤ Strings | Strings\n",
        "texto = \"Hello, World!\"\n",
        "print(type(texto))  # <class 'str'>\n",
        "\n",
        "# ➤ Booleanos | Booleans\n",
        "verdadeiro = True\n",
        "falso = False\n",
        "print(type(verdadeiro))  # <class 'bool'>\n",
        "\n",
        "# ➤ Listas | Lists (mutáveis | mutable)\n",
        "lista = [1, 2, 3, \"Python\", 3.14]\n",
        "print(type(lista))  # <class 'list'>\n",
        "\n",
        "# ➤ Tuplas | Tuples (imutáveis | immutable)\n",
        "tupla = (10, 20, \"Hello\")\n",
        "print(type(tupla))  # <class 'tuple'>\n",
        "\n",
        "# ➤ Conjuntos | Sets (não permite duplicatas | no duplicates allowed)\n",
        "conjunto = {1, 2, 3, 3, 4}\n",
        "print(type(conjunto))  # <class 'set'>\n",
        "\n",
        "# ➤ Dicionários | Dictionaries (chave-valor | key-value pairs)\n",
        "dicionario = {\"nome\": \"Eduardo\", \"idade\": 30}\n",
        "print(type(dicionario))  # <class 'dict'>\n",
        "\n",
        "# ➤ NoneType (Ausência de valor | Absence of value)\n",
        "vazio = None\n",
        "print(type(vazio))  # <class 'NoneType'>"
      ],
      "metadata": {
        "colab": {
          "base_uri": "https://localhost:8080/"
        },
        "id": "73w2nE7_S9SB",
        "outputId": "3dd16051-acad-4b9d-b22d-3e0d1a85253a"
      },
      "execution_count": 9,
      "outputs": [
        {
          "output_type": "stream",
          "name": "stdout",
          "text": [
            "<class 'int'>\n",
            "<class 'float'>\n",
            "<class 'str'>\n",
            "<class 'bool'>\n",
            "<class 'list'>\n",
            "<class 'tuple'>\n",
            "<class 'set'>\n",
            "<class 'dict'>\n",
            "<class 'NoneType'>\n"
          ]
        }
      ]
    },
    {
      "cell_type": "code",
      "source": [
        "# @title ##2️⃣ CONVERSÃO DE TIPOS | TYPE CONVERSION (TYPE CASTING)\n",
        "\n",
        "# ➤ Convertendo para inteiro | Converting to integer\n",
        "print(int(3.9))    # 3 (trunca, não arredonda | truncates, does not round)\n",
        "print(int(\"10\"))   # 10 (converte string para int | converts string to int)\n",
        "\n",
        "# ➤ Convertendo para float | Converting to float\n",
        "print(float(5))    # 5.0 (inteiro para float | integer to float)\n",
        "print(float(\"2.5\"))  # 2.5 (string para float | string to float)\n",
        "\n",
        "# ➤ Convertendo para string | Converting to string\n",
        "print(str(100))    # '100' (inteiro para string | integer to string)\n",
        "print(str(3.14))   # '3.14' (float para string | float to string)\n",
        "\n",
        "# ➤ Convertendo para booleano | Converting to boolean\n",
        "print(bool(0))     # False (zero é considerado falso | zero is false)\n",
        "print(bool(1))     # True (qualquer número diferente de zero é verdadeiro | any nonzero number is true)\n",
        "print(bool(\"\"))    # False (string vazia é falsa | empty string is false)\n",
        "print(bool(\"Python\"))  # True (string não vazia é verdadeira | non-empty string is true)\n",
        "\n",
        "# ➤ Convertendo para lista | Converting to list\n",
        "print(list(\"Python\"))  # ['P', 'y', 't', 'h', 'o', 'n']\n",
        "\n",
        "# ➤ Convertendo para tupla | Converting to tuple\n",
        "print(tuple([1, 2, 3]))  # (1, 2, 3)\n",
        "\n",
        "# ➤ Convertendo para conjunto | Converting to set\n",
        "print(set([1, 2, 2, 3, 4]))  # {1, 2, 3, 4}\n",
        "\n",
        "# ➤ Convertendo lista para string | Converting list to string\n",
        "lista = [\"Olá\", \"mundo\"]\n",
        "print(\" \".join(lista))  # \"Olá mundo\" (une elementos com espaço | joins elements with space)"
      ],
      "metadata": {
        "colab": {
          "base_uri": "https://localhost:8080/"
        },
        "id": "VvU_7xD-THWd",
        "outputId": "6aea9958-9bfd-4218-f4d8-951ce54f4ec8"
      },
      "execution_count": 10,
      "outputs": [
        {
          "output_type": "stream",
          "name": "stdout",
          "text": [
            "3\n",
            "10\n",
            "5.0\n",
            "2.5\n",
            "100\n",
            "3.14\n",
            "False\n",
            "True\n",
            "False\n",
            "True\n",
            "['P', 'y', 't', 'h', 'o', 'n']\n",
            "(1, 2, 3)\n",
            "{1, 2, 3, 4}\n",
            "Olá mundo\n"
          ]
        }
      ]
    },
    {
      "cell_type": "code",
      "source": [
        "# @title ##3️⃣ OPERADORES E OPERANDOS | OPERATORS AND OPERANDS\n",
        "\n",
        "a, b = 10, 3\n",
        "\n",
        "# ➤ Operadores Aritméticos | Arithmetic Operators\n",
        "print(a + b)  # Adição | Addition → 13\n",
        "print(a - b)  # Subtração | Subtraction → 7\n",
        "print(a * b)  # Multiplicação | Multiplication → 30\n",
        "print(a / b)  # Divisão | Division → 3.3333...\n",
        "print(a // b)  # Divisão inteira | Floor division → 3\n",
        "print(a % b)  # Módulo (resto) | Modulus → 1\n",
        "print(a ** b)  # Exponenciação | Exponentiation → 1000\n",
        "\n",
        "# ➤ Operadores de Comparação | Comparison Operators\n",
        "print(a == b)  # Igual | Equal → False\n",
        "print(a != b)  # Diferente | Not equal → True\n",
        "print(a > b)   # Maior que | Greater than → True\n",
        "print(a < b)   # Menor que | Less than → False\n",
        "\n",
        "# ➤ Operadores Lógicos | Logical Operators\n",
        "x, y = True, False\n",
        "print(x and y)  # AND lógico | Logical AND → False\n",
        "print(x or y)   # OR lógico | Logical OR → True\n",
        "print(not x)    # NOT lógico | Logical NOT → False"
      ],
      "metadata": {
        "colab": {
          "base_uri": "https://localhost:8080/"
        },
        "id": "-de0C14ZT53F",
        "outputId": "11a5f534-eb0e-4e1c-f983-e7f104a0753f"
      },
      "execution_count": 14,
      "outputs": [
        {
          "output_type": "stream",
          "name": "stdout",
          "text": [
            "13\n",
            "7\n",
            "30\n",
            "3.3333333333333335\n",
            "3\n",
            "1\n",
            "1000\n",
            "False\n",
            "True\n",
            "True\n",
            "False\n",
            "False\n",
            "True\n",
            "False\n"
          ]
        }
      ]
    },
    {
      "cell_type": "code",
      "source": [
        "# @title ##4️⃣ TIPOS DE SEQUÊNCIA | SEQUENCE TYPES\n",
        "\n",
        "# ➤ Listas | Lists (mutáveis | mutable)\n",
        "lista = [10, 20, 30, \"Python\", 3.14]\n",
        "print(lista)\n",
        "\n",
        "lista.append(\"Novo\")  # Adiciona elemento | Adds element\n",
        "lista.pop()  # Remove último elemento | Removes last element\n",
        "print(lista)\n",
        "\n",
        "# ➤ Tuplas | Tuples (imutáveis | immutable)\n",
        "tupla = (1, 2, 3, \"Python\", 3.14)\n",
        "print(tupla)\n",
        "\n",
        "# ➤ Strings | Strings (imutáveis | immutable)\n",
        "texto = \"Python\"\n",
        "print(texto[0])  # Primeiro caractere | First character\n",
        "print(texto[::-1])  # Inverte string | Reverses string"
      ],
      "metadata": {
        "colab": {
          "base_uri": "https://localhost:8080/"
        },
        "id": "b18gFhwfUCKM",
        "outputId": "5984f8ac-2afe-49f0-aafc-b1f0e1033cff"
      },
      "execution_count": 13,
      "outputs": [
        {
          "output_type": "stream",
          "name": "stdout",
          "text": [
            "[10, 20, 30, 'Python', 3.14]\n",
            "[10, 20, 30, 'Python', 3.14]\n",
            "(1, 2, 3, 'Python', 3.14)\n",
            "P\n",
            "nohtyP\n"
          ]
        }
      ]
    },
    {
      "cell_type": "code",
      "source": [
        "# @title ##5️⃣ FATIAS (SLICING) | SLICING\n",
        "\n",
        "numeros = [0, 1, 2, 3, 4, 5, 6, 7, 8, 9]\n",
        "print(numeros[2:5])  # Fatiamento | Slicing → [2, 3, 4]\n",
        "print(numeros[::-1])  # Lista invertida | Reversed list\n",
        "\n",
        "# ➤ String | String\n",
        "frase = \"Python é incrível!\"\n",
        "print(frase[::-1])  # '!levírcni é nohtyP'"
      ],
      "metadata": {
        "colab": {
          "base_uri": "https://localhost:8080/"
        },
        "id": "3b8F0d7dUMYx",
        "outputId": "0abc9691-75f9-4378-e28a-7248ebc02d55"
      },
      "execution_count": 12,
      "outputs": [
        {
          "output_type": "stream",
          "name": "stdout",
          "text": [
            "[2, 3, 4]\n",
            "[9, 8, 7, 6, 5, 4, 3, 2, 1, 0]\n",
            "!levírcni é nohtyP\n"
          ]
        }
      ]
    },
    {
      "cell_type": "code",
      "source": [
        "# @title ##6️⃣ COMPREENSÃO DE LISTAS | LIST COMPREHENSION\n",
        "\n",
        "quadrados = [x**2 for x in range(10)]\n",
        "print(quadrados)  # [0, 1, 4, 9, 16, 25, 36, 49, 64, 81]\n"
      ],
      "metadata": {
        "id": "cEs0dHJhkP3W",
        "colab": {
          "base_uri": "https://localhost:8080/"
        },
        "outputId": "c09dc6dd-b2ce-47fc-b8d6-b389c8c67d4c"
      },
      "execution_count": 11,
      "outputs": [
        {
          "output_type": "stream",
          "name": "stdout",
          "text": [
            "[0, 1, 4, 9, 16, 25, 36, 49, 64, 81]\n"
          ]
        }
      ]
    },
    {
      "cell_type": "markdown",
      "source": [
        "# **3 - Listas | Lists**\n"
      ],
      "metadata": {
        "id": "xFbRq3AyrK7O"
      }
    },
    {
      "cell_type": "code",
      "source": [
        "# @title ##Criando listas\n",
        "# Creating lists\n",
        "lista_vazia = []  # Lista vazia / Empty list\n",
        "numeros = [1, 2, 3, 4, 5]  # Lista de números / List of numbers\n",
        "mista = [10, \"Python\", 3.14, True]  # Lista com diferentes tipos de dados / List with different data types\n",
        "matriz = [[1, 2, 3], [4, 5, 6]]  # Lista de listas (Matriz) / List of lists (Matrix)\n"
      ],
      "metadata": {
        "id": "vNVhMfa-Vms1"
      },
      "execution_count": null,
      "outputs": []
    },
    {
      "cell_type": "code",
      "source": [
        "# @title ##Acessando elementos\n",
        "# Accessing elements\n",
        "lista = ['a', 'b', 'c', 'd']\n",
        "print(lista[0])  # 'a'\n",
        "print(lista[2])  # 'c'\n",
        "print(lista[-1])  # 'd' (último elemento / last element)"
      ],
      "metadata": {
        "id": "N6KYgvKeZ3-O"
      },
      "execution_count": null,
      "outputs": []
    },
    {
      "cell_type": "code",
      "source": [
        "# @title ##Fatiamento (Slicing)\n",
        "# Slicing\n",
        "numeros = [0, 1, 2, 3, 4, 5, 6]\n",
        "print(numeros[2:5])  # [2, 3, 4]\n",
        "print(numeros[:4])   # [0, 1, 2, 3]\n",
        "print(numeros[3:])   # [3, 4, 5, 6]\n",
        "print(numeros[::2])  # [0, 2, 4, 6]\n",
        "print(numeros[::-1]) # [6, 5, 4, 3, 2, 1, 0] (lista invertida / reversed list)"
      ],
      "metadata": {
        "id": "ybeNxE_sZ9dG"
      },
      "execution_count": null,
      "outputs": []
    },
    {
      "cell_type": "code",
      "source": [
        "# @title ##Modificando listas\n",
        "# Modifying lists\n",
        "numeros = [10, 20, 30, 40]\n",
        "numeros[1] = 25  # Alterando um valor / Changing a value\n",
        "print(numeros)  # [10, 25, 30, 40]\n",
        "numeros[1:3] = [50, 60]  # Alterando múltiplos valores / Changing multiple values\n",
        "print(numeros)  # [10, 50, 60, 40]"
      ],
      "metadata": {
        "id": "t3CT1BfwaEPY"
      },
      "execution_count": null,
      "outputs": []
    },
    {
      "cell_type": "code",
      "source": [
        "# @title ##Adicionando elementos\n",
        "# Adding elements\n",
        "lista = [1, 2, 3]\n",
        "lista.append(4)  # Adiciona no final / Adds at the end\n",
        "lista.insert(1, 10)  # Insere 10 na posição 1 / Inserts 10 at position 1\n",
        "lista.extend([5, 6, 7])  # Adiciona múltiplos elementos / Adds multiple elements\n",
        "print(lista)  # [1, 10, 2, 3, 4, 5, 6, 7]"
      ],
      "metadata": {
        "id": "9g5bowCSaMXw"
      },
      "execution_count": null,
      "outputs": []
    },
    {
      "cell_type": "code",
      "source": [
        "# @title ##Removendo elementos\n",
        "# Removing elements\n",
        "lista.remove(3)  # Remove o primeiro valor igual a 3 / Removes the first occurrence of 3\n",
        "print(lista)  # [1, 10, 2, 4, 5, 6, 7]\n",
        "lista.pop()  # Remove o último elemento / Removes the last element\n",
        "print(lista)  # [1, 10, 2, 4, 5, 6]\n",
        "lista.clear()  # Remove todos os elementos / Removes all elements\n",
        "print(lista)  # []"
      ],
      "metadata": {
        "id": "GsrsMy5EaPhF"
      },
      "execution_count": null,
      "outputs": []
    },
    {
      "cell_type": "code",
      "source": [
        "# @title ##Ordenação e Reversão\n",
        "# Sorting and Reversing\n",
        "dados = [3, 1, 4, 1, 5, 9, 2]\n",
        "dados.sort()  # Ordena de forma crescente / Sorts in ascending order\n",
        "print(dados)  # [1, 1, 2, 3, 4, 5, 9]\n",
        "dados.sort(reverse=True)  # Ordena de forma decrescente / Sorts in descending order\n",
        "print(dados)  # [9, 5, 4, 3, 2, 1, 1]\n",
        "dados.reverse()  # Inverte a ordem dos elementos / Reverses the order of elements\n",
        "print(dados)  # [1, 1, 2, 3, 4, 5, 9]"
      ],
      "metadata": {
        "id": "iHbaIGnZablZ"
      },
      "execution_count": null,
      "outputs": []
    },
    {
      "cell_type": "code",
      "source": [
        "# @title ##Outros métodos\n",
        "# Other methods\n",
        "lista = [1, 2, 3, 4, 5, 2]\n",
        "print(lista.count(2))  # Conta quantas vezes o número 2 aparece → 2 / Counts how many times number 2 appears → 2\n",
        "print(len(lista))  # Número total de elementos → 6 / Total number of elements → 6\n",
        "print(lista.index(4))  # Índice do valor 4 → 3 / Index of value 4 → 3\n"
      ],
      "metadata": {
        "id": "hTjDMnyealuq"
      },
      "execution_count": null,
      "outputs": []
    },
    {
      "cell_type": "code",
      "source": [
        "# @title ##Outras funções úteis\n",
        "# Other useful functions\n",
        "print(sum(lista))  # Soma dos elementos / Sum of elements\n",
        "print(max(lista))  # Maior elemento / Largest element\n",
        "print(min(lista))  # Menor elemento / Smallest element\n",
        "print(sorted(lista))  # Retorna uma nova lista ordenada / Returns a new sorted list\n",
        "\n",
        "# Percorrendo listas\n",
        "# Iterating through lists\n",
        "nomes = [\"Alice\", \"Bob\", \"Charlie\"]\n",
        "for nome in nomes:\n",
        "    print(nome)\n",
        "\n",
        "# Usando enumerate()\n",
        "# Using enumerate()\n",
        "for indice, nome in enumerate(nomes):\n",
        "    print(f\"Índice {indice}: {nome}\")  # Index {indice}: {nome}\n"
      ],
      "metadata": {
        "colab": {
          "base_uri": "https://localhost:8080/"
        },
        "id": "eRcn4aBfaquN",
        "outputId": "e2f29855-2811-4458-e944-53213fea189c"
      },
      "execution_count": 18,
      "outputs": [
        {
          "output_type": "stream",
          "name": "stdout",
          "text": [
            "6\n",
            "3\n",
            "1\n",
            "[1, 2, 3]\n",
            "Alice\n",
            "Bob\n",
            "Charlie\n",
            "Índice 0: Alice\n",
            "Índice 1: Bob\n",
            "Índice 2: Charlie\n"
          ]
        }
      ]
    },
    {
      "cell_type": "code",
      "source": [
        "# @title ##List Comprehension\n",
        "# List comprehension\n",
        "quadrados = [x**2 for x in range(1, 6)]\n",
        "print(quadrados)  # [1, 4, 9, 16, 25]"
      ],
      "metadata": {
        "id": "TxAa_C7ybJB5"
      },
      "execution_count": null,
      "outputs": []
    },
    {
      "cell_type": "code",
      "source": [
        "# @title ##Copiando listas\n",
        "# Copying lists\n",
        "lista_original = [1, 2, 3]\n",
        "copia1 = lista_original[:]  # Fatiamento / Slicing\n",
        "copia2 = lista_original.copy()  # Método copy() / copy() method\n",
        "copia3 = list(lista_original)  # Função list() / list() function\n",
        "\n",
        "# Diferença entre cópia rasa e cópia profunda\n",
        "# Difference between shallow copy and deep copy\n",
        "import copy\n",
        "lista_aninhada = [[1, 2], [3, 4]]\n",
        "copia_rasa = lista_aninhada.copy()  # Cópia rasa / Shallow copy\n",
        "copia_profunda = copy.deepcopy(lista_aninhada)  # Cópia profunda / Deep copy"
      ],
      "metadata": {
        "id": "n_u4yaZ8bPFH"
      },
      "execution_count": null,
      "outputs": []
    },
    {
      "cell_type": "code",
      "source": [
        "# Diferença entre list e tuple\n",
        "# Difference between list and tuple\n",
        "lista = [1, 2, 3]  # Mutável / Mutable\n",
        "tupla = (1, 2, 3)  # Imutável / Immutable\n"
      ],
      "metadata": {
        "id": "-V-YSsIdrQmI"
      },
      "execution_count": 20,
      "outputs": []
    },
    {
      "cell_type": "markdown",
      "source": [
        "###EX"
      ],
      "metadata": {
        "id": "lZJDgdOr98YT"
      }
    },
    {
      "cell_type": "code",
      "source": [
        "lista = [\"Amanda\",\"Eduardo\", \"Lorena\"]\n",
        "print(lista)\n",
        "\n",
        "lista_upper = [nome.upper() for nome in lista]\n",
        "print(lista_upper)\n",
        "\n",
        "listaMap = list(map(lambda nome: nome.upper(),lista))\n",
        "\n",
        "print(listaMap)"
      ],
      "metadata": {
        "id": "Hv-MyhDX9_Qf"
      },
      "execution_count": null,
      "outputs": []
    },
    {
      "cell_type": "markdown",
      "source": [
        "# **4 - Tupla | Tuple**"
      ],
      "metadata": {
        "id": "kEEeesUeqn8U"
      }
    },
    {
      "cell_type": "code",
      "source": [
        "# 🔹 Tuplas (tuple) em Python – Explicação Completa\n",
        "# 🔹 Tuples in Python – Complete Explanation\n",
        "\n",
        "# @title ##1. Criando Tuplas / Creating Tuples\n",
        "# Tuplas são sequências imutáveis de elementos. Podem ser definidas com parênteses ou apenas com vírgulas.\n",
        "tuple_empty = ()                          # Tupla vazia / Empty tuple\n",
        "tuple_numbers = (1, 2, 3, 4, 5)             # Tupla de números / Tuple of numbers\n",
        "tuple_mixed = (10, \"Python\", 3.14, True)      # Tupla com tipos diferentes / Tuple with mixed data types\n",
        "tuple_no_parentheses = 6, 7, 8, 9             # Tupla sem parênteses / Tuple without parentheses\n",
        "\n",
        "print(\"Tupla vazia:\", tuple_empty)\n",
        "# Saída esperada: Tupla vazia: ()\n",
        "\n",
        "print(\"Tupla de números:\", tuple_numbers)\n",
        "# Saída esperada: Tupla de números: (1, 2, 3, 4, 5)\n",
        "\n",
        "print(\"Tupla mista:\", tuple_mixed)\n",
        "# Saída esperada: Tupla mista: (10, 'Python', 3.14, True)\n",
        "\n",
        "print(\"Tupla sem parênteses:\", tuple_no_parentheses)\n",
        "# Saída esperada: Tupla sem parênteses: (6, 7, 8, 9)\n",
        "\n"
      ],
      "metadata": {
        "colab": {
          "base_uri": "https://localhost:8080/"
        },
        "id": "x5S5XBQJeUXc",
        "outputId": "52753cc9-9cd0-4169-f262-80f82ed05b28"
      },
      "execution_count": 23,
      "outputs": [
        {
          "output_type": "stream",
          "name": "stdout",
          "text": [
            "Tupla vazia: ()\n",
            "Tupla de números: (1, 2, 3, 4, 5)\n",
            "Tupla mista: (10, 'Python', 3.14, True)\n",
            "Tupla sem parênteses: (6, 7, 8, 9)\n"
          ]
        }
      ]
    },
    {
      "cell_type": "code",
      "source": [
        "# @title ##2. Acessando Elementos / Accessing Elements\n",
        "# Os elementos são acessados por índices (iniciando em 0).\n",
        "print(\"Primeiro elemento de tuple_numbers (índice 0):\", tuple_numbers[0])\n",
        "# Saída esperada: Primeiro elemento de tuple_numbers (índice 0): 1\n",
        "\n",
        "print(\"Último elemento de tuple_numbers (índice -1):\", tuple_numbers[-1])\n",
        "# Saída esperada: Último elemento de tuple_numbers (índice -1): 5"
      ],
      "metadata": {
        "colab": {
          "base_uri": "https://localhost:8080/"
        },
        "id": "p5UH360MenfU",
        "outputId": "0547138f-4a48-431d-a211-a22a0e0bcf85"
      },
      "execution_count": 24,
      "outputs": [
        {
          "output_type": "stream",
          "name": "stdout",
          "text": [
            "Primeiro elemento de tuple_numbers (índice 0): 1\n",
            "Último elemento de tuple_numbers (índice -1): 5\n"
          ]
        }
      ]
    },
    {
      "cell_type": "code",
      "source": [
        "# @title ##3. Fatiamento (Slicing) / Slicing\n",
        "# Podemos obter subtuplas usando slicing, igual às listas.\n",
        "print(\"Elementos do índice 1 ao 3 de tuple_numbers:\", tuple_numbers[1:4])\n",
        "# Saída esperada: Elementos do índice 1 ao 3 de tuple_numbers: (2, 3, 4)\n",
        "\n",
        "print(\"Elementos do início até o índice 3:\", tuple_numbers[:4])\n",
        "# Saída esperada: Elementos do início até o índice 3: (1, 2, 3, 4)\n",
        "\n",
        "print(\"Elementos do índice 2 até o final:\", tuple_numbers[2:])\n",
        "# Saída esperada: Elementos do índice 2 até o final: (3, 4, 5)\n",
        "\n",
        "print(\"Tupla com passo 2:\", tuple_numbers[::2])\n",
        "# Saída esperada: Tupla com passo 2: (1, 3, 5)\n",
        "\n",
        "print(\"Tupla invertida:\", tuple_numbers[::-1])\n",
        "# Saída esperada: Tupla invertida: (5, 4, 3, 2, 1)"
      ],
      "metadata": {
        "colab": {
          "base_uri": "https://localhost:8080/"
        },
        "id": "Yrsg_TDMepWY",
        "outputId": "88cc9325-03c2-4c0d-8495-23cc8dc0b89d"
      },
      "execution_count": 25,
      "outputs": [
        {
          "output_type": "stream",
          "name": "stdout",
          "text": [
            "Elementos do índice 1 ao 3 de tuple_numbers: (2, 3, 4)\n",
            "Elementos do início até o índice 3: (1, 2, 3, 4)\n",
            "Elementos do índice 2 até o final: (3, 4, 5)\n",
            "Tupla com passo 2: (1, 3, 5)\n",
            "Tupla invertida: (5, 4, 3, 2, 1)\n"
          ]
        }
      ]
    },
    {
      "cell_type": "code",
      "source": [
        "# @title ##4. Imutabilidade das Tuplas / Immutability of Tuples\n",
        "# Tuplas são imutáveis: não podemos alterar seus elementos após a criação.\n",
        "try:\n",
        "    tuple_numbers[0] = 100\n",
        "except TypeError as e:\n",
        "    print(\"Erro ao tentar modificar uma tupla:\", e)\n"
      ],
      "metadata": {
        "colab": {
          "base_uri": "https://localhost:8080/"
        },
        "id": "7lzDrAY1epRo",
        "outputId": "6198b2c2-7d71-42ba-d8fb-a153c15eb240"
      },
      "execution_count": 26,
      "outputs": [
        {
          "output_type": "stream",
          "name": "stdout",
          "text": [
            "Erro ao tentar modificar uma tupla: 'tuple' object does not support item assignment\n"
          ]
        }
      ]
    },
    {
      "cell_type": "code",
      "source": [
        "# @title ##5. Convertendo Tupla para Lista e Vice-Versa / Converting Tuple to List and Back\n",
        "# Para modificar dados, converta a tupla em lista, altere e converta de volta.\n",
        "lista_temp = list(tuple_numbers)   # Converter tupla para lista / Convert tuple to list\n",
        "lista_temp[0] = 100                # Modifica o primeiro elemento / Modify the first element\n",
        "tuple_modified = tuple(lista_temp) # Converter de volta para tupla / Convert back to tuple\n",
        "print(\"Tupla modificada (via conversão):\", tuple_modified)\n",
        "\n"
      ],
      "metadata": {
        "colab": {
          "base_uri": "https://localhost:8080/"
        },
        "id": "o_FadYlkepMv",
        "outputId": "57e7f187-a65d-402b-98b7-ff6d3c94dfb2"
      },
      "execution_count": 27,
      "outputs": [
        {
          "output_type": "stream",
          "name": "stdout",
          "text": [
            "Tupla modificada (via conversão): (100, 2, 3, 4, 5)\n"
          ]
        }
      ]
    },
    {
      "cell_type": "code",
      "source": [
        "# @title ##6. Concatenação de Tuplas / Tuple Concatenation\n",
        "# As tuplas podem ser concatenadas com o operador +\n",
        "tuple_a = (1, 2, 3)\n",
        "tuple_b = (4, 5, 6)\n",
        "tuple_concat = tuple_a + tuple_b\n",
        "print(\"Tupla concatenada:\", tuple_concat)\n",
        "\n"
      ],
      "metadata": {
        "colab": {
          "base_uri": "https://localhost:8080/"
        },
        "id": "8mlkaleoepGv",
        "outputId": "adfaaa04-f19a-4ce3-da4a-df37fb1f304b"
      },
      "execution_count": 28,
      "outputs": [
        {
          "output_type": "stream",
          "name": "stdout",
          "text": [
            "Tupla concatenada: (1, 2, 3, 4, 5, 6)\n"
          ]
        }
      ]
    },
    {
      "cell_type": "code",
      "source": [
        "# @title ##7. Tuplas Aninhadas / Nested Tuples\n",
        "# Uma tupla pode conter outras tuplas (ou outros tipos de dados).\n",
        "tuple_nested = (1, (2, 3), (\"a\", \"b\", \"c\"))\n",
        "print(\"Tupla aninhada:\", tuple_nested)\n",
        "# Saída esperada: Tupla aninhada: (1, (2, 3), ('a', 'b', 'c'))\n",
        "print(\"Acessando o primeiro elemento da tupla interna:\", tuple_nested[1][0])"
      ],
      "metadata": {
        "colab": {
          "base_uri": "https://localhost:8080/"
        },
        "id": "16qib6jGeo_t",
        "outputId": "a86f12b1-7646-4aa0-f866-6af079bd7776"
      },
      "execution_count": 34,
      "outputs": [
        {
          "output_type": "stream",
          "name": "stdout",
          "text": [
            "Tupla aninhada: (1, (2, 3), ('a', 'b', 'c'))\n",
            "Acessando o primeiro elemento da tupla interna: 2\n"
          ]
        }
      ]
    },
    {
      "cell_type": "code",
      "source": [
        "# @title ##8. Desempacotamento de Tuplas / Tuple Unpacking\n",
        "# É possível atribuir os valores de uma tupla a variáveis individuais.\n",
        "tuple_unpack = (10, 20, 30)\n",
        "a, b, c = tuple_unpack\n",
        "print(\"Desempacotamento: a =\", a, \", b =\", b, \", c =\", c)"
      ],
      "metadata": {
        "colab": {
          "base_uri": "https://localhost:8080/"
        },
        "id": "wGhf_6JxeowM",
        "outputId": "5741c2d8-fc56-4133-bd32-7bb4e3b0a22b"
      },
      "execution_count": 33,
      "outputs": [
        {
          "output_type": "stream",
          "name": "stdout",
          "text": [
            "Desempacotamento: a = 10 , b = 20 , c = 30\n"
          ]
        }
      ]
    },
    {
      "cell_type": "code",
      "source": [
        "# @title ##9. Funções Úteis para Tuplas / Useful Functions for Tuples\n",
        "print(\"Comprimento de tuple_numbers:\", len(tuple_numbers))\n",
        "# Saída esperada: Comprimento de tuple_numbers: 5\n",
        "\n",
        "print(\"Soma dos elementos de (10, 20, 30):\", sum((10, 20, 30)))\n",
        "# Saída esperada: Soma dos elementos de (10, 20, 30): 60\n",
        "\n",
        "print(\"Máximo em tuple_numbers:\", max(tuple_numbers))\n",
        "# Saída esperada: Máximo em tuple_numbers: 5\n",
        "\n",
        "print(\"Mínimo em tuple_numbers:\", min(tuple_numbers))\n",
        "# Saída esperada: Mínimo em tuple_numbers: 1\n",
        "\n",
        "print(\"tuple_numbers ordenada (desc):\", sorted(tuple_numbers, reverse=True))"
      ],
      "metadata": {
        "colab": {
          "base_uri": "https://localhost:8080/"
        },
        "id": "zlO0R4R1eoR5",
        "outputId": "e8e22a90-1264-4c0f-dae0-4d202a9196b4"
      },
      "execution_count": 32,
      "outputs": [
        {
          "output_type": "stream",
          "name": "stdout",
          "text": [
            "Comprimento de tuple_numbers: 5\n",
            "Soma dos elementos de (10, 20, 30): 60\n",
            "Máximo em tuple_numbers: 5\n",
            "Mínimo em tuple_numbers: 1\n",
            "tuple_numbers ordenada (desc): [5, 4, 3, 2, 1]\n"
          ]
        }
      ]
    },
    {
      "cell_type": "code",
      "source": [
        "# @title ##10. Usando Tuplas como Chaves em Dicionários / Using Tuples as Dictionary Keys\n",
        "# Por serem imutáveis, tuplas podem ser usadas como chaves de dicionários.\n",
        "dict_with_tuples = {(\"a\", 1): \"primeiro\", (\"b\", 2): \"segundo\"}\n",
        "print(\"Dicionário com tuplas como chaves:\", dict_with_tuples)"
      ],
      "metadata": {
        "colab": {
          "base_uri": "https://localhost:8080/"
        },
        "id": "l7odAzVDfIMp",
        "outputId": "c122436f-1b16-4e96-c774-7cf4c9405dce"
      },
      "execution_count": 31,
      "outputs": [
        {
          "output_type": "stream",
          "name": "stdout",
          "text": [
            "Dicionário com tuplas como chaves: {('a', 1): 'primeiro', ('b', 2): 'segundo'}\n"
          ]
        }
      ]
    },
    {
      "cell_type": "code",
      "source": [
        "# @title ##11. Verificando a Existência de Elementos / Checking for an Element\n",
        "print(\"O número 3 está em tuple_numbers?\", 3 in tuple_numbers)\n"
      ],
      "metadata": {
        "colab": {
          "base_uri": "https://localhost:8080/"
        },
        "id": "MA-WbsJsfLVy",
        "outputId": "b7833beb-f1d5-4060-a365-648cc3596971"
      },
      "execution_count": 30,
      "outputs": [
        {
          "output_type": "stream",
          "name": "stdout",
          "text": [
            "O número 3 está em tuple_numbers? True\n"
          ]
        }
      ]
    },
    {
      "cell_type": "code",
      "source": [
        "# @title ##12. Iterando sobre Tuplas / Iterating Over Tuples\n",
        "for item in tuple_mixed:\n",
        "    print(\"Elemento da tuple_mixed:\", item)"
      ],
      "metadata": {
        "colab": {
          "base_uri": "https://localhost:8080/"
        },
        "id": "YnGpvg-zfLFb",
        "outputId": "58f21d08-3118-419f-a54c-e7722f5859e9"
      },
      "execution_count": 29,
      "outputs": [
        {
          "output_type": "stream",
          "name": "stdout",
          "text": [
            "Elemento da tuple_mixed: 10\n",
            "Elemento da tuple_mixed: Python\n",
            "Elemento da tuple_mixed: 3.14\n",
            "Elemento da tuple_mixed: True\n"
          ]
        }
      ]
    },
    {
      "cell_type": "code",
      "source": [
        "# @title ##13. Métodos das Tuplas / Tuple Methods\n",
        "# count() conta ocorrências de um valor; index() retorna o índice da primeira ocorrência.\n",
        "print(\"Número de ocorrências do 2 em tuple_numbers:\", tuple_numbers.count(2))\n",
        "# Saída esperada: Número de ocorrências do 2 em tuple_numbers: 1\n",
        "\n",
        "print(\"Índice do valor 3 em tuple_numbers:\", tuple_numbers.index(3))\n"
      ],
      "metadata": {
        "id": "neRXODbZfK_l"
      },
      "execution_count": null,
      "outputs": []
    },
    {
      "cell_type": "code",
      "source": [
        "# @title ##14. Exemplos Avançados / Advanced Examples\n",
        "# Exemplo: Tupla contendo objeto mutável (lista) dentro de uma tupla imutável.\n",
        "tuple_with_list = (1, 2, [3, 4])\n",
        "print(\"Antes da modificação, tuple_with_list:\", tuple_with_list)\n",
        "# Saída esperada: Antes da modificação, tuple_with_list: (1, 2, [3, 4])\n",
        "tuple_with_list[2].append(5)\n",
        "print(\"Após modificar a lista interna, tuple_with_list:\", tuple_with_list)\n",
        "# Saída esperada: Após modificar a lista interna, tuple_with_list: (1, 2, [3, 4, 5])\n",
        "\n",
        "# Exemplo de desempacotamento avançado com asterisco (*) para coletar os elementos restantes.\n",
        "tuple_extended = (1, 2, 3, 4, 5)\n",
        "a, b, *rest = tuple_extended\n",
        "print(\"Desempacotamento avançado: a =\", a, \", b =\", b, \", rest =\", rest)\n",
        "# Saída esperada: Desempacotamento avançado: a = 1 , b = 2 , rest = [3, 4, 5]\n",
        "\n",
        "# Exemplo: Converter uma lista em tupla / Converting a List to a Tuple\n",
        "lista_exemplo = [100, 200, 300]\n",
        "tuple_from_list = tuple(lista_exemplo)\n",
        "print(\"Conversão de lista para tupla:\", tuple_from_list)\n",
        "# Saída esperada: Conversão de lista para tupla: (100, 200, 300)\n",
        "\n",
        "# Exemplo: Comparação entre Lista e Tupla / Comparison between List and Tuple\n",
        "lista_exemplo2 = [1, 2, 3]\n",
        "tuple_exemplo2 = (1, 2, 3)\n",
        "print(\"Lista:\", lista_exemplo2, \"é igual à tupla:\", tuple_exemplo2, \"?\", lista_exemplo2 == list(tuple_exemplo2))\n",
        "# Saída esperada: Lista: [1, 2, 3] é igual à tupla: (1, 2, 3) ? True\n"
      ],
      "metadata": {
        "id": "XYqBBLAnrH-T",
        "colab": {
          "base_uri": "https://localhost:8080/"
        },
        "outputId": "d99516c9-eb54-4a88-b9e5-0c8c7c55d497"
      },
      "execution_count": 21,
      "outputs": [
        {
          "output_type": "stream",
          "name": "stdout",
          "text": [
            "Tupla vazia: ()\n",
            "Tupla de números: (1, 2, 3, 4, 5)\n",
            "Tupla mista: (10, 'Python', 3.14, True)\n",
            "Tupla sem parênteses: (6, 7, 8, 9)\n",
            "Primeiro elemento de tuple_numbers (índice 0): 1\n",
            "Último elemento de tuple_numbers (índice -1): 5\n",
            "Elementos do índice 1 ao 3 de tuple_numbers: (2, 3, 4)\n",
            "Elementos do início até o índice 3: (1, 2, 3, 4)\n",
            "Elementos do índice 2 até o final: (3, 4, 5)\n",
            "Tupla com passo 2: (1, 3, 5)\n",
            "Tupla invertida: (5, 4, 3, 2, 1)\n",
            "Erro ao tentar modificar uma tupla: 'tuple' object does not support item assignment\n",
            "Tupla modificada (via conversão): (100, 2, 3, 4, 5)\n",
            "Tupla concatenada: (1, 2, 3, 4, 5, 6)\n",
            "Tupla aninhada: (1, (2, 3), ('a', 'b', 'c'))\n",
            "Acessando o primeiro elemento da tupla interna: 2\n",
            "Desempacotamento: a = 10 , b = 20 , c = 30\n",
            "Comprimento de tuple_numbers: 5\n",
            "Soma dos elementos de (10, 20, 30): 60\n",
            "Máximo em tuple_numbers: 5\n",
            "Mínimo em tuple_numbers: 1\n",
            "tuple_numbers ordenada (desc): [5, 4, 3, 2, 1]\n",
            "Dicionário com tuplas como chaves: {('a', 1): 'primeiro', ('b', 2): 'segundo'}\n",
            "O número 3 está em tuple_numbers? True\n",
            "Elemento da tuple_mixed: 10\n",
            "Elemento da tuple_mixed: Python\n",
            "Elemento da tuple_mixed: 3.14\n",
            "Elemento da tuple_mixed: True\n",
            "Número de ocorrências do 2 em tuple_numbers: 1\n",
            "Índice do valor 3 em tuple_numbers: 2\n",
            "Antes da modificação, tuple_with_list: (1, 2, [3, 4])\n",
            "Após modificar a lista interna, tuple_with_list: (1, 2, [3, 4, 5])\n",
            "Desempacotamento avançado: a = 1 , b = 2 , rest = [3, 4, 5]\n",
            "Conversão de lista para tupla: (100, 200, 300)\n",
            "Lista: [1, 2, 3] é igual à tupla: (1, 2, 3) ? True\n"
          ]
        }
      ]
    },
    {
      "cell_type": "markdown",
      "source": [
        "# **5 - Set (Conjuntos)**\n"
      ],
      "metadata": {
        "id": "sXK1geT4ieqN"
      }
    },
    {
      "cell_type": "code",
      "source": [
        "# 🔹 Conjuntos (Sets) em Python – Explicação Completa\n",
        "# 🔹 Sets in Python – Complete Explanation\n",
        "\n",
        "# @title ##1. Criando Sets / Creating Sets\n",
        "# Em Python, para criar um set usamos chaves {}.\n",
        "# Obs: {} sozinho cria um dicionário, então para um set vazio use set().\n",
        "empty_set = set()                              # Conjunto vazio / Empty set\n",
        "set_numbers = {1, 2, 3, 4, 5}                    # Conjunto de números / Set of numbers\n",
        "set_mixed = {10, \"Python\", 3.14, True}           # Conjunto com tipos diferentes / Set with mixed data types\n",
        "\n",
        "print(\"Conjunto vazio:\", empty_set)\n",
        "\n",
        "print(\"Conjunto de números:\", set_numbers)\n",
        "\n",
        "print(\"Conjunto misto:\", set_mixed)\n"
      ],
      "metadata": {
        "colab": {
          "base_uri": "https://localhost:8080/"
        },
        "id": "ItnI-pFskX80",
        "outputId": "da861437-606c-4c0b-e438-e0c5adfbab6c"
      },
      "execution_count": 36,
      "outputs": [
        {
          "output_type": "stream",
          "name": "stdout",
          "text": [
            "Conjunto vazio: set()\n",
            "Conjunto de números: {1, 2, 3, 4, 5}\n",
            "Conjunto misto: {10, True, 'Python', 3.14}\n"
          ]
        }
      ]
    },
    {
      "cell_type": "code",
      "source": [
        "# @title ##2. Propriedade dos Sets – Elementos Únicos / Unique Elements Property\n",
        "# Converter uma lista com duplicatas em um set remove os elementos repetidos.\n",
        "lista_com_duplicatas = [1, 2, 2, 3, 3, 3, 4, 4, 4, 4]\n",
        "set_unicos = set(lista_com_duplicatas)\n",
        "print(\"Lista com duplicatas:\", lista_com_duplicatas)\n",
        "\n",
        "print(\"Elementos únicos (set):\", set_unicos)\n"
      ],
      "metadata": {
        "colab": {
          "base_uri": "https://localhost:8080/"
        },
        "id": "g54_kiKLkdBI",
        "outputId": "0fb6d742-eec1-429d-be01-03163599e213"
      },
      "execution_count": 35,
      "outputs": [
        {
          "output_type": "stream",
          "name": "stdout",
          "text": [
            "Lista com duplicatas: [1, 2, 2, 3, 3, 3, 4, 4, 4, 4]\n",
            "Elementos únicos (set): {1, 2, 3, 4}\n"
          ]
        }
      ]
    },
    {
      "cell_type": "code",
      "source": [
        "# @title ##3. Adicionando e Removendo Elementos / Adding and Removing Elements\n",
        "# Adicionar elemento: use o método add()\n",
        "set_numbers.add(6)\n",
        "print(\"Após adicionar 6:\", set_numbers)\n",
        "# Saída esperada: Após adicionar 6: {1, 2, 3, 4, 5, 6} (a ordem pode variar)\n",
        "\n",
        "# Remover elemento: use o método remove() (se o elemento não existir, gera KeyError)\n",
        "set_numbers.remove(3)  # Remove o elemento 3\n",
        "print(\"Após remover 3:\", set_numbers)"
      ],
      "metadata": {
        "colab": {
          "base_uri": "https://localhost:8080/"
        },
        "id": "eTR3kW-qkjW8",
        "outputId": "166c20ed-6105-49cf-f0f2-e4f76254cce4"
      },
      "execution_count": 39,
      "outputs": [
        {
          "output_type": "stream",
          "name": "stdout",
          "text": [
            "Após adicionar 6: {1, 2, 3, 4, 5, 6}\n",
            "Após remover 3: {1, 2, 4, 5, 6}\n"
          ]
        }
      ]
    },
    {
      "cell_type": "code",
      "source": [
        "# @title ##4. Operações com Sets / Set Operations\n",
        "# Definindo dois conjuntos para demonstrar operações\n",
        "A = {0, 2, 4, 6, 8}         # Conjunto A / Set A\n",
        "B = {1, 2, 3, 4, 5}         # Conjunto B / Set B\n",
        "\n",
        "# União (Union): combina todos os elementos de A e B (sem duplicatas)\n",
        "union_set = A.union(B)      # ou pode ser escrito como A | B\n",
        "print(\"União de A e B:\", union_set)\n",
        "\n",
        "# Interseção (Intersection): retorna os elementos comuns entre A e B\n",
        "intersection_set = A.intersection(B)  # ou A & B\n",
        "print(\"Interseção de A e B:\", intersection_set)\n",
        "\n",
        "# Diferença (Difference): elementos em A que não estão em B (A - B)\n",
        "difference_set = A.difference(B)\n",
        "print(\"Diferença (A - B):\", difference_set)\n",
        "\n",
        "# Diferença Simétrica (Symmetric Difference): elementos que estão em A ou B, mas não em ambos\n",
        "sym_diff_set = A.symmetric_difference(B)  # ou A ^ B\n",
        "print(\"Diferença simétrica entre A e B:\", sym_diff_set)\n"
      ],
      "metadata": {
        "colab": {
          "base_uri": "https://localhost:8080/"
        },
        "id": "43E3hVN5kqIs",
        "outputId": "bf25db23-7e91-4081-bed1-77c4461b4fec"
      },
      "execution_count": 40,
      "outputs": [
        {
          "output_type": "stream",
          "name": "stdout",
          "text": [
            "União de A e B: {0, 1, 2, 3, 4, 5, 6, 8}\n",
            "Interseção de A e B: {2, 4}\n",
            "Diferença (A - B): {0, 8, 6}\n",
            "Diferença simétrica entre A e B: {0, 1, 3, 5, 6, 8}\n"
          ]
        }
      ]
    },
    {
      "cell_type": "code",
      "source": [
        "# @title ##5. Testando Pertinência / Membership Testing\n",
        "print(\"2 está em A?\", 2 in A)\n",
        "\n",
        "print(\"7 está em A?\", 7 in A)\n"
      ],
      "metadata": {
        "colab": {
          "base_uri": "https://localhost:8080/"
        },
        "id": "rSS3wSbCklit",
        "outputId": "acce4057-995a-4405-948a-7c83c8241e61"
      },
      "execution_count": 41,
      "outputs": [
        {
          "output_type": "stream",
          "name": "stdout",
          "text": [
            "2 está em A? True\n",
            "7 está em A? False\n"
          ]
        }
      ]
    },
    {
      "cell_type": "code",
      "source": [
        "# @title ##6. Iterando sobre Sets / Iterating Over Sets\n",
        "print(\"Iterando sobre o conjunto B:\")\n",
        "for element in B:\n",
        "    print(element)\n"
      ],
      "metadata": {
        "colab": {
          "base_uri": "https://localhost:8080/"
        },
        "id": "f1PvPYz-lCGm",
        "outputId": "ecfc0bb3-e84a-41e6-9029-95e89b8ee0ff"
      },
      "execution_count": 42,
      "outputs": [
        {
          "output_type": "stream",
          "name": "stdout",
          "text": [
            "Iterando sobre o conjunto B:\n",
            "1\n",
            "2\n",
            "3\n",
            "4\n",
            "5\n"
          ]
        }
      ]
    },
    {
      "cell_type": "code",
      "source": [
        "# @title ##7. Exemplo Prático: Contar Elementos Únicos / Practical Example: Counting Unique Elements\n",
        "# Imagine uma lista com notas de alunos com repetições\n",
        "grades_list = [\"A\", \"B\", \"C\", \"A\", \"B\", \"C\", \"D\", \"E\", \"F\", \"E\"]\n",
        "unique_grades = set(grades_list)\n",
        "print(\"Notas únicas:\", unique_grades)\n",
        "# Saída esperada: Notas únicas: {'A', 'B', 'C', 'D', 'E', 'F'} (a ordem pode variar)\n",
        "print(\"Total de notas distintas:\", len(unique_grades))\n",
        "# Saída esperada: Total de notas distintas: 6\n",
        "\n",
        "# @title ##8. Conclusão / Conclusion\n",
        "# Sets são extremamente úteis para eliminar duplicatas e realizar operações de conjunto de forma eficiente.\n",
        "# Eles são ideais para testes rápidos de pertinência (usando \"in\") e para lidar com grandes coleções de dados.\n"
      ],
      "metadata": {
        "id": "E7KaEYXEHApR",
        "colab": {
          "base_uri": "https://localhost:8080/"
        },
        "outputId": "69502f43-ac62-40b4-fe68-f39b5bdf6b25"
      },
      "execution_count": 43,
      "outputs": [
        {
          "output_type": "stream",
          "name": "stdout",
          "text": [
            "Notas únicas: {'B', 'E', 'F', 'C', 'A', 'D'}\n",
            "Total de notas distintas: 6\n"
          ]
        }
      ]
    },
    {
      "cell_type": "markdown",
      "source": [
        "# **6 - Dicionario | Dictionarie**"
      ],
      "metadata": {
        "id": "ImspKXR-MDTj"
      }
    },
    {
      "cell_type": "code",
      "source": [
        "# 🔹 Dicionários (Dictionary) em Python – Explicação Completa\n",
        "# 🔹 Dictionaries in Python – Complete Explanation\n",
        "\n",
        "# 1. Criando um Dicionário / Creating a Dictionary\n",
        "# Em Python, dicionários são criados usando chaves {} com pares chave:valor.\n",
        "# In Python, dictionaries are created using curly braces {} with key:value pairs.\n",
        "d1 = {\"name\": \"John\", \"age\": 30}\n",
        "print(\"d1:\", d1)\n",
        "# Saída esperada / Expected output: d1: {'name': 'John', 'age': 30}\n",
        "\n",
        "# 2. Acessando Elementos / Accessing Elements\n",
        "# Para acessar um valor, usamos a chave correspondente.\n",
        "# To access a value, we use its corresponding key.\n",
        "print(\"Nome:\", d1[\"name\"])\n",
        "# Expected output: Nome: John\n",
        "print(\"Idade:\", d1[\"age\"])\n",
        "# Expected output: Idade: 30\n",
        "\n",
        "# 3. Atualizando e Inserindo Elementos / Updating and Inserting Elements\n",
        "# Atualizar um valor: basta reatribuir à chave existente.\n",
        "# Update a value by reassigning to the existing key.\n",
        "d1[\"age\"] = 35\n",
        "print(\"d1 após atualizar a idade:\", d1)\n",
        "# Expected output: d1 após atualizar a idade: {'name': 'John', 'age': 35}\n",
        "\n",
        "# Adicionar um novo par chave:valor\n",
        "# Add a new key:value pair.\n",
        "d1[\"country\"] = \"USA\"\n",
        "print(\"d1 após adicionar 'country':\", d1)\n",
        "# Expected output: d1 após adicionar 'country': {'name': 'John', 'age': 35, 'country': 'USA'}\n",
        "\n",
        "# 4. Exclusão de Elementos / Deleting Elements\n",
        "# Use o comando 'del' para remover um par.\n",
        "# Use the 'del' statement to remove a key:value pair.\n",
        "del d1[\"country\"]\n",
        "print(\"d1 após remover 'country':\", d1)\n",
        "# Expected output: d1 após remover 'country': {'name': 'John', 'age': 35}\n",
        "\n",
        "# 5. Métodos Importantes / Important Methods\n",
        "# - keys() retorna todas as chaves.\n",
        "# - values() retorna todos os valores.\n",
        "# - get(chave, valor_default) retorna o valor da chave ou o valor padrão se a chave não existir.\n",
        "print(\"Chaves:\", d1.keys())\n",
        "# Expected output: Chaves: dict_keys(['name', 'age'])\n",
        "print(\"Valores:\", d1.values())\n",
        "# Expected output: Valores: dict_values(['John', 35])\n",
        "print(\"Usando get para 'name':\", d1.get(\"name\", \"na\"))\n",
        "# Expected output: Usando get para 'name': John\n",
        "print(\"Usando get para 'salary':\", d1.get(\"salary\", \"na\"))\n",
        "# Expected output: Usando get para 'salary': na\n",
        "\n",
        "# Atualizando via update() / Updating via update()\n",
        "d1.update({\"age\": 40})\n",
        "print(\"d1 após update:\", d1)\n",
        "# Expected output: d1 após update: {'name': 'John', 'age': 40}\n",
        "\n",
        "# 6. Dicionários com Dados Mais Complexos / Dictionaries with More Complex Data\n",
        "# Exemplo: Dicionário representando países e suas moedas.\n",
        "countries = {\n",
        "    \"India\": \"INR\",\n",
        "    \"USA\": \"USD\",\n",
        "    \"Hong Kong\": \"HKD\"\n",
        "}\n",
        "print(\"Dicionário de países:\", countries)\n",
        "# Expected output: Dicionário de países: {'India': 'INR', 'USA': 'USD', 'Hong Kong': 'HKD'}\n",
        "\n",
        "# Acessando valor pelo nome do país / Accessing a value by country name\n",
        "print(\"Moeda da Índia:\", countries[\"India\"])\n",
        "# Expected output: Moeda da Índia: INR\n",
        "\n",
        "# Atualizando valor / Updating a value\n",
        "countries[\"Hong Kong\"] = \"HK dollars\"\n",
        "print(\"Atualização de Hong Kong:\", countries)\n",
        "# Expected output: Atualização de Hong Kong: {'India': 'INR', 'USA': 'USD', 'Hong Kong': 'HK dollars'}\n",
        "\n",
        "# Inserindo nova entrada / Inserting a new entry\n",
        "countries[\"Japan\"] = \"Yen\"\n",
        "print(\"Após adicionar Japan:\", countries)\n",
        "# Expected output: Após adicionar Japan: {'India': 'INR', 'USA': 'USD', 'Hong Kong': 'HK dollars', 'Japan': 'Yen'}\n",
        "\n",
        "# 7. Removendo uma Entrada / Removing an Entry\n",
        "del countries[\"Japan\"]\n",
        "print(\"Após remover Japan:\", countries)\n",
        "# Expected output: Após remover Japan: {'India': 'INR', 'USA': 'USD', 'Hong Kong': 'HK dollars'}\n",
        "\n",
        "# 8. Ordenando um Dicionário / Sorting a Dictionary\n",
        "# A função sorted() aplicada a um dicionário retorna uma lista de chaves ordenadas.\n",
        "sorted_keys = sorted(countries)\n",
        "print(\"Chaves ordenadas:\", sorted_keys)\n",
        "# Expected output: Chaves ordenadas: ['Hong Kong', 'India', 'USA']\n",
        "\n",
        "# 9. Exercício Prático: Acesso a Dados de Empregados / Practical Exercise: Accessing Employee Data\n",
        "# Suponha que temos um dicionário onde a chave é o ID do empregado e o valor é uma lista [nome, idade, profissão].\n",
        "employee_data = {\n",
        "    101: [\"Alice\", 28, \"Engineer\"],\n",
        "    102: [\"Bob\", 34, \"Manager\"],\n",
        "    103: [\"Charlie\", 25, \"Analyst\"],\n",
        "    104: [\"Diana\", 30, \"Designer\"]\n",
        "}\n",
        "# Para buscar a profissão do empregado com ID 104:\n",
        "emp_id = 104\n",
        "profession = employee_data.get(emp_id, [\"na\", \"na\", \"na\"])[2]\n",
        "print(\"Profissão do empregado com ID\", emp_id, \":\", profession)\n",
        "# Expected output: Profissão do empregado com ID 104 : Designer\n",
        "\n",
        "# 10. Lidando com Chaves Inexistentes / Handling Non-Existent Keys\n",
        "# Usando get() para evitar erros se a chave não existir.\n",
        "print(\"Valor para chave 'salary':\", employee_data.get(\"salary\", \"na\"))\n",
        "# Expected output: Valor para chave 'salary': na\n",
        "\n",
        "# 11. Listando Valores Ordenados / Creating a Sorted List of Dictionary Values\n",
        "# Suponha que temos um dicionário e queremos obter uma lista ordenada de seus valores.\n",
        "d2 = {\"name\": \"Monty\", \"profession\": \"singer\", \"city\": \"New York\"}\n",
        "sorted_values = sorted(d2.values())\n",
        "print(\"Valores ordenados:\", sorted_values)\n",
        "# Expected output: Valores ordenados: ['New York', 'Monty', 'singer']\n",
        "# Nota: A ordenação é lexicográfica para strings.\n",
        "\n",
        "# 12. Conclusão / Conclusion\n",
        "# Dicionários são estruturas de dados poderosas que permitem mapear chaves únicas a valores.\n",
        "# Eles são ideais para armazenamento e acesso rápido a informações associadas.\n",
        "# Dictionaries are powerful data structures that allow mapping unique keys to values.\n",
        "# They are ideal for fast storage and retrieval of associated information.\n"
      ],
      "metadata": {
        "id": "acs0TT7vMLwr"
      },
      "execution_count": null,
      "outputs": []
    },
    {
      "cell_type": "markdown",
      "source": [
        "# **7 - Loops & Iterations**"
      ],
      "metadata": {
        "id": "50TDlQibM0rw"
      }
    },
    {
      "cell_type": "code",
      "source": [
        "# 🔹 Loops, Iterações, Condicionais e Comprehensions li em Python – Explicação Completa\n",
        "# 🔹 Loops, Iterations, Conditionals, and Comprehensions in Python – Complete Explanation\n",
        "\n",
        "# ============================================================\n",
        "# 1. Exemplo de If/Else – Verificar se um número é par ou ímpar\n",
        "# 1. If/Else Example – Check if a number is even or odd\n",
        "x = 101\n",
        "if x % 2 == 0:\n",
        "    print(x, \"é um número par\")\n",
        "    # Expected output: 101 é um número par (if even)\n",
        "else:\n",
        "    print(x, \"é um número ímpar\")\n",
        "    # Expected output: 101 é um número ímpar\n",
        "\n",
        "x = 90\n",
        "if x % 2 == 0:\n",
        "    print(x, \"é um número par\")\n",
        "    # Expected output: 90 é um número par\n",
        "else:\n",
        "    print(x, \"é um número ímpar\")\n",
        "    # Expected output: 90 é um número ímpar\n",
        "\n",
        "# ============================================================\n",
        "# 2. Exemplo com Entrada do Usuário – Verificar Par ou Ímpar\n",
        "# 2. Input Example – Check if input number is even or odd\n",
        "# Uncomment the lines below to use in Colab (they wait for user input)\n",
        "# x = int(input(\"Digite um número: \"))  # Enter a number\n",
        "# if x % 2 == 0:\n",
        "#     print(x, \"é um número par\")\n",
        "# else:\n",
        "#     print(x, \"é um número ímpar\")\n",
        "\n",
        "# ============================================================\n",
        "# 3. Verificação de Idade para Festa\n",
        "# 3. Age Check for Party\n",
        "age = 31\n",
        "if age < 18 or age > 50:\n",
        "    print(\"Desculpe, você não pode entrar na festa\")\n",
        "    # Expected output: Desculpe, você não pode entrar na festa\n",
        "else:\n",
        "    print(\"Bem-vindo à festa!\")\n",
        "    # Expected output: Bem-vindo à festa!\n",
        "\n",
        "# Testando com outra idade:\n",
        "age = 51\n",
        "if age < 18 or age > 50:\n",
        "    print(\"Desculpe, você não pode entrar na festa\")\n",
        "    # Expected output: Desculpe, você não pode entrar na festa\n",
        "else:\n",
        "    print(\"Bem-vindo à festa!\")\n",
        "\n",
        "# ============================================================\n",
        "# 4. Exemplo de Voucher baseado no Valor da Compra\n",
        "# 4. Voucher Example based on Shopping Amount\n",
        "shopping_amount = 10000  # Altere esse valor para testar diferentes cenários\n",
        "if shopping_amount >= 5000:\n",
        "    print(\"Você ganhou um voucher de $1,000\")\n",
        "    # Expected output: Você ganhou um voucher de $1,000\n",
        "elif shopping_amount >= 2500:\n",
        "    print(\"Você ganhou um voucher de $500\")\n",
        "    # Expected output: Você ganhou um voucher de $500\n",
        "else:\n",
        "    print(\"Você não ganhou nenhum voucher\")\n",
        "    # Expected output: Você não ganhou nenhum voucher\n",
        "\n",
        "# ============================================================\n",
        "# 5. Iterando sobre uma Lista com For Loop\n",
        "# 5. Iterating over a List using a For Loop\n",
        "lista = [10, 20, 30, 40, 50]\n",
        "print(\"Iterando sobre a lista:\")\n",
        "for num in lista:\n",
        "    print(num)\n",
        "# Expected output: 10, 20, 30, 40, 50 (each printed on a new line)\n",
        "\n",
        "# ============================================================\n",
        "# 6. Iterando sobre uma String\n",
        "# 6. Iterating over a String\n",
        "s = \"India\"\n",
        "print(\"Iterando sobre a string 'India':\")\n",
        "for char in s:\n",
        "    print(char)\n",
        "# Expected output: I, n, d, i, a (each printed on a new line)\n",
        "\n",
        "# ============================================================\n",
        "# 7. Iterando sobre um Dicionário\n",
        "# 7. Iterating over a Dictionary\n",
        "student_data = {\n",
        "    1: [\"Sam\", 25],\n",
        "    2: [\"Sharma\", 21],\n",
        "    3: [\"Ravi\", 23],\n",
        "    4: [\"Shalini\", 24],\n",
        "    5: [\"Sid\", 20]\n",
        "}\n",
        "print(\"Iterando sobre as chaves do dicionário:\")\n",
        "for key in student_data:\n",
        "    print(key)\n",
        "    # Expected output: Keys (1, 2, 3, 4, 5)\n",
        "\n",
        "print(\"Iterando sobre chaves e valores:\")\n",
        "for key, value in student_data.items():\n",
        "    print(\"Chave:\", key, \"-> Valor:\", value)\n",
        "    # Expected output: Each key and its corresponding value printed\n",
        "\n",
        "# ============================================================\n",
        "# 8. Iterando sobre um Range\n",
        "# 8. Iterating over a Range\n",
        "print(\"Iterando sobre um range de 1 a 5:\")\n",
        "for i in range(1, 5):  # 5 é exclusivo, portanto imprime 1, 2, 3, 4\n",
        "    print(i)\n",
        "# Expected output: 1, 2, 3, 4\n",
        "\n",
        "# ============================================================\n",
        "# 9. Exemplos de List Comprehensions\n",
        "# 9. List Comprehension Examples\n",
        "# Exemplo 1: Criar uma lista com o comprimento de cada elemento de uma lista de strings\n",
        "automobiles = [\"Honda\", \"Benz\", \"Maruti\", \"Kia\"]\n",
        "lengths = [len(car) for car in automobiles]\n",
        "print(\"Comprimento de cada elemento:\", lengths)\n",
        "# Expected output (example): [5, 4, 6, 3] (depending on the strings)\n",
        "\n",
        "# Exemplo 2: Dictionary Comprehension – Mapear cada automóvel para o seu comprimento\n",
        "auto_dict = {car: len(car) for car in automobiles}\n",
        "print(\"Dicionário com comprimento dos automóveis:\", auto_dict)\n",
        "# Expected output (example): {'Honda': 5, 'Benz': 4, 'Maruti': 6, 'Kia': 3}\n",
        "\n",
        "# ============================================================\n",
        "# Conclusão / Conclusion:\n",
        "# Estes exemplos demonstram o uso de:\n",
        "#   - Condicionais (if/else) para controle de fluxo.\n",
        "#   - Loops (for e while) para iteração sobre iteráveis (listas, strings, dicionários, range).\n",
        "#   - List Comprehensions (e Dictionary Comprehensions) para criar coleções de forma concisa.\n",
        "#\n",
        "# These examples demonstrate the use of:\n",
        "#   - Conditionals (if/else) for flow control.\n",
        "#   - Loops (for and while) for iterating over iterables (lists, strings, dictionaries, range).\n",
        "#   - List Comprehensions (and Dictionary Comprehensions) for concisely creating collections.\n",
        "#\n",
        "# Esses conceitos são fundamentais para escrever códigos eficientes e limpos em Python.\n",
        "# These concepts are essential for writing efficient and clean Python code.\n"
      ],
      "metadata": {
        "id": "wjLFFDIoM6Ni"
      },
      "execution_count": null,
      "outputs": []
    },
    {
      "cell_type": "markdown",
      "source": [
        "# 8 - Funções | Functions"
      ],
      "metadata": {
        "id": "t3AfFQ4CN1o5"
      }
    },
    {
      "cell_type": "code",
      "source": [
        "# 🔹 Funções em Python – Explicação Completa\n",
        "# 🔹 Functions in Python – Complete Explanation\n",
        "\n",
        "# ------------------------------------------------------------------------------\n",
        "# 1. Função Básica – Soma de Dois Números / Basic Function – Sum of Two Numbers\n",
        "# ------------------------------------------------------------------------------\n",
        "def soma(a, b):\n",
        "    \"\"\"\n",
        "    Português:\n",
        "    Esta função retorna a soma de dois números.\n",
        "\n",
        "    English:\n",
        "    This function returns the sum of two numbers.\n",
        "    \"\"\"\n",
        "    return a + b\n",
        "\n",
        "print(\"soma(3, 5):\", soma(3, 5))\n",
        "# Expected output: soma(3, 5): 8\n",
        "\n",
        "# ------------------------------------------------------------------------------\n",
        "# 2. Função com Parâmetro Padrão – Saudação / Function with Default Parameter – Greeting\n",
        "# ------------------------------------------------------------------------------\n",
        "def saudacao(nome, mensagem=\"Olá\"):\n",
        "    \"\"\"\n",
        "    Português:\n",
        "    Imprime uma saudação com um nome. Se a mensagem não for informada, usa \"Olá\" como padrão.\n",
        "\n",
        "    English:\n",
        "    Prints a greeting with a name. If no message is provided, \"Olá\" is used by default.\n",
        "    \"\"\"\n",
        "    print(mensagem, nome)\n",
        "\n",
        "saudacao(\"Ravi\")         # Expected output: Olá Ravi\n",
        "saudacao(\"Ana\", \"Oi\")     # Expected output: Oi Ana\n",
        "\n",
        "# ------------------------------------------------------------------------------\n",
        "# 3. Função com Argumentos Variáveis (*args e **kwargs)\n",
        "#    / Function with Variable Arguments (*args and **kwargs)\n",
        "# ------------------------------------------------------------------------------\n",
        "def listar_itens(*itens, **detalhes):\n",
        "    \"\"\"\n",
        "    Português:\n",
        "    Imprime os itens passados como argumentos posicionais e os detalhes (argumentos nomeados).\n",
        "\n",
        "    English:\n",
        "    Prints the items passed as positional arguments and the details (keyword arguments).\n",
        "    \"\"\"\n",
        "    print(\"Itens:\", itens)\n",
        "    print(\"Detalhes:\", detalhes)\n",
        "\n",
        "listar_itens(\"maçã\", \"banana\", cor=\"amarelo\", sabor=\"doce\")\n",
        "# Expected output:\n",
        "# Itens: ('maçã', 'banana')\n",
        "# Detalhes: {'cor': 'amarelo', 'sabor': 'doce'}\n",
        "\n",
        "# ------------------------------------------------------------------------------\n",
        "# 4. Escopo de Variáveis e Uso de Variáveis Globais / Variable Scope and Global Variables\n",
        "# ------------------------------------------------------------------------------\n",
        "x = 10  # Variável global / Global variable\n",
        "\n",
        "def modificar():\n",
        "    \"\"\"\n",
        "    Português:\n",
        "    Modifica a variável global x para 20.\n",
        "\n",
        "    English:\n",
        "    Modifies the global variable x to 20.\n",
        "    \"\"\"\n",
        "    global x\n",
        "    x = 20\n",
        "\n",
        "print(\"Antes de modificar:\", x)  # Expected output: 10\n",
        "modificar()\n",
        "print(\"Depois de modificar:\", x) # Expected output: 20\n",
        "\n",
        "# ------------------------------------------------------------------------------\n",
        "# 5. Funções Lambda / Lambda Functions\n",
        "# ------------------------------------------------------------------------------\n",
        "# Exemplo 1: Função lambda que adiciona 10 a um número.\n",
        "# Example 1: Lambda function that adds 10 to a number.\n",
        "add_ten = lambda a: a + 10\n",
        "print(\"add_ten(5):\", add_ten(5))\n",
        "# Expected output: 15\n",
        "\n",
        "# Exemplo 2: Função lambda que soma dois números.\n",
        "# Example 2: Lambda function that sums two numbers.\n",
        "soma_lambda = lambda a, b: a + b\n",
        "print(\"soma_lambda(4, 5):\", soma_lambda(4, 5))\n",
        "# Expected output: 9\n",
        "\n",
        "# Exemplo 3: Função lambda que verifica se um número é par ou ímpar.\n",
        "# Example 3: Lambda function that checks if a number is even or odd.\n",
        "par_impar = lambda a: \"par\" if a % 2 == 0 else \"ímpar\"\n",
        "print(\"par_impar(101):\", par_impar(101))\n",
        "# Expected output: \"ímpar\"\n",
        "print(\"par_impar(100):\", par_impar(100))\n",
        "# Expected output: \"par\"\n",
        "\n",
        "# ------------------------------------------------------------------------------\n",
        "# 6. Função Recursiva – Fatorial / Recursive Function – Factorial\n",
        "# ------------------------------------------------------------------------------\n",
        "def fatorial(n):\n",
        "    \"\"\"\n",
        "    Português:\n",
        "    Retorna o fatorial de n (n! = n * (n-1) * ... * 1).\n",
        "\n",
        "    English:\n",
        "    Returns the factorial of n (n! = n * (n-1) * ... * 1).\n",
        "    \"\"\"\n",
        "    if n <= 1:\n",
        "        return 1\n",
        "    else:\n",
        "        return n * fatorial(n - 1)\n",
        "\n",
        "print(\"Fatorial de 4:\", fatorial(4))\n",
        "# Expected output: Fatorial de 4: 24\n",
        "print(\"Fatorial de 6:\", fatorial(6))\n",
        "# Expected output: Fatorial de 6: 720\n",
        "\n",
        "# ------------------------------------------------------------------------------\n",
        "# 7. Função para Somar Números Naturais até n / Function to Sum Natural Numbers up to n\n",
        "# ------------------------------------------------------------------------------\n",
        "def soma_naturais(n):\n",
        "    \"\"\"\n",
        "    Português:\n",
        "    Retorna a soma de todos os números naturais de 1 até n.\n",
        "\n",
        "    English:\n",
        "    Returns the sum of all natural numbers from 1 to n.\n",
        "    \"\"\"\n",
        "    soma = 0\n",
        "    for i in range(1, n + 1):\n",
        "        soma += i\n",
        "    return soma\n",
        "\n",
        "print(\"Soma dos números naturais até 5:\", soma_naturais(5))\n",
        "# Expected output: 15 (1+2+3+4+5)\n",
        "print(\"Soma dos números naturais até 10:\", soma_naturais(10))\n",
        "# Expected output: 55\n",
        "\n",
        "# ------------------------------------------------------------------------------\n",
        "# Conclusão / Conclusion\n",
        "# ------------------------------------------------------------------------------\n",
        "# Funções são blocos essenciais para a modularização e reutilização do código.\n",
        "# Elas permitem dividir tarefas complexas em partes menores, facilitando a manutenção e a legibilidade.\n",
        "#\n",
        "# Functions are essential building blocks for modular and reusable code.\n",
        "# They allow you to break complex tasks into smaller parts, making the code easier to maintain and understand.\n"
      ],
      "metadata": {
        "id": "Gd74Y-03N-jy"
      },
      "execution_count": null,
      "outputs": []
    },
    {
      "cell_type": "markdown",
      "source": [
        "## EX\n"
      ],
      "metadata": {
        "id": "fg2k9LLu8Ozn"
      }
    },
    {
      "cell_type": "markdown",
      "source": [
        "### Número primo"
      ],
      "metadata": {
        "id": "F666Xe5O9VBs"
      }
    },
    {
      "cell_type": "code",
      "source": [
        "def numero_primo():\n",
        "\n",
        "  numero = int(input('Digite o número:'))\n",
        "\n",
        "  if numero // numero == 1 and numero // 1 == numero:\n",
        "    return print(f'O numero {numero} é primo!')\n",
        "  else:\n",
        "    return print(f'O numero {numero} não é primo!')\n",
        "\n",
        "numero_primo()"
      ],
      "metadata": {
        "id": "Mp5PGEU89ZM7"
      },
      "execution_count": null,
      "outputs": []
    },
    {
      "cell_type": "markdown",
      "source": [
        "### Ímpar ou par"
      ],
      "metadata": {
        "id": "N8JEUXFY8d3f"
      }
    },
    {
      "cell_type": "code",
      "source": [
        "def par_impar(numero):\n",
        "  if numero % 2 == 0:\n",
        "    print(f'O número {numero} é par')\n",
        "  else:\n",
        "    print(f'O número {numero} é ímpar')\n",
        "\n",
        "par_impar(18454654134767)\n",
        "\n",
        "def par_impar(numero):\n",
        "    return f'O número {numero} é par' if numero % 2 == 0 else f'O número {numero} é ímpar'\n",
        "\n",
        "resultado = par_impar(18454654134762)\n",
        "print(resultado)\n"
      ],
      "metadata": {
        "id": "KQfrQxNP8Qfx"
      },
      "execution_count": null,
      "outputs": []
    },
    {
      "cell_type": "markdown",
      "source": [
        "### Tabuada"
      ],
      "metadata": {
        "id": "_xrjzff98aX3"
      }
    },
    {
      "cell_type": "code",
      "source": [
        "numero = int(input('Digite um número: '))\n",
        "\n",
        "def tabuada(numero):\n",
        "  for i in range(11):\n",
        "    print(f\"{i} X {numero} = {i*numero}\")\n",
        "\n",
        "tabuada(numero)\n",
        "\n",
        "def tabuada2(numero2):\n",
        "  resultado = [f'{i} x {numero2} = {i * numero2}' for i in range (11)]\n",
        "  print(\"\\n\".join(resultado))\n",
        "\n",
        "numero2 = int(input(\"Digite um número: \"))\n",
        "tabuada2(numero2)"
      ],
      "metadata": {
        "id": "BkJDEpoG8YcP"
      },
      "execution_count": null,
      "outputs": []
    },
    {
      "cell_type": "markdown",
      "source": [
        "# **9 - Map, Reduce & Filter**"
      ],
      "metadata": {
        "id": "gMwMbcKGFi3h"
      }
    },
    {
      "cell_type": "code",
      "source": [
        "# =============================================================================\n",
        "# 🔹 Map, Filter, Reduce e Lambda em Python – Explicação Completa\n",
        "# 🔹 Map, Filter, Reduce, and Lambda in Python – Complete Explanation\n",
        "#\n",
        "# =============================================================================\n",
        "# Introdução à Função Lambda / Introduction to Lambda Functions\n",
        "# =============================================================================\n",
        "# Em Python, funções lambda são funções anônimas definidas em uma única linha.\n",
        "# Elas podem receber qualquer número de argumentos, mas possuem apenas uma expressão,\n",
        "# cujo resultado é retornado automaticamente.\n",
        "#\n",
        "# Exemplo de sintaxe:\n",
        "#     lambda argumentos: expressão\n",
        "#\n",
        "# Por exemplo, para criar uma função que adiciona 10 a um número:\n",
        "#     add_ten = lambda a: a + 10\n",
        "#\n",
        "# As funções lambda são úteis para operações simples e podem ser usadas como argumentos\n",
        "# para funções como map() e filter(), reduzindo a necessidade de escrever funções completas.\n",
        "#\n",
        "# In Python, lambda functions are anonymous functions defined in a single line.\n",
        "# They can take any number of arguments but have only one expression,\n",
        "# whose result is automatically returned.\n",
        "#\n",
        "# For example, to create a function that adds 10 to a number:\n",
        "#     add_ten = lambda a: a + 10\n",
        "#\n",
        "# Lambda functions are useful for simple operations and can be used as arguments\n",
        "# for functions like map() and filter(), reducing the need to write full functions.\n",
        "#\n",
        "# =============================================================================\n",
        "# 1. Exemplo com map() – Converter Nomes para Letras Maiúsculas\n",
        "# 1. Example with map() – Convert Names to Uppercase\n",
        "nomes = [\"Adele\", \"Bob\", \"Carrie\", \"John\"]\n",
        "# Usando map com uma função lambda para converter cada nome para maiúsculas.\n",
        "nomes_maiusculos = list(map(lambda x: x.upper(), nomes))\n",
        "print(\"Exemplo 1 - Nomes em maiúsculas:\", nomes_maiusculos)\n",
        "# Output esperado: ['ADELE', 'BOB', 'CARRIE', 'JOHN']\n",
        "\n",
        "# =============================================================================\n",
        "# 2. Exemplo com map() – Calcular a Área de Círculos\n",
        "# 2. Example with map() – Calculate the Area of Circles\n",
        "import math\n",
        "\n",
        "def area_circulo(r):\n",
        "    \"\"\"Retorna a área de um círculo dado seu raio.\"\"\"\n",
        "    return math.pi * (r ** 2)\n",
        "\n",
        "raios = [1, 2, 3, 4, 5]\n",
        "areas = list(map(area_circulo, raios))\n",
        "print(\"\\nExemplo 2 - Áreas dos círculos:\", areas)\n",
        "# Output esperado: [3.141592653589793, 12.566370614359172, ... ]\n",
        "\n",
        "# =============================================================================\n",
        "# 3. Exemplo com map() – Converter Celsius para Fahrenheit\n",
        "# 3. Example with map() – Convert Celsius to Fahrenheit\n",
        "# Fórmula: F = C * 9/5 + 32\n",
        "temperaturas_celsius = [12, 25, 31, 30, 20]\n",
        "temperaturas_fahrenheit = list(map(lambda c: c * 9/5 + 32, temperaturas_celsius))\n",
        "print(\"\\nExemplo 3 - Temperaturas em Fahrenheit:\", temperaturas_fahrenheit)\n",
        "# Output esperado: [53.6, 77.0, 87.8, 86.0, 68.0]\n",
        "\n",
        "# =============================================================================\n",
        "# 4. Exemplo com filter() – Filtrar Números Maiores que a Média\n",
        "# 4. Example with filter() – Filter Numbers Greater Than the Average\n",
        "import statistics\n",
        "\n",
        "numeros = [4, 8, 15, 16, 23, 42]\n",
        "media = statistics.mean(numeros)\n",
        "print(\"\\nExemplo 4 - Média dos números:\", media)\n",
        "numeros_maiores = list(filter(lambda x: x > media, numeros))\n",
        "print(\"Exemplo 4 - Números maiores que a média:\", numeros_maiores)\n",
        "# Output esperado: Por exemplo, se a média for 18, então [23, 42]\n",
        "\n",
        "# =============================================================================\n",
        "# 5. Exemplo com filter() – Remover Valores Nulos ou Vazios\n",
        "# 5. Example with filter() – Remove Null or Empty Values\n",
        "valores = [\"Satyajit\", \"\", \"Neha\", None, \"Amruta\", \" \", \"\"]\n",
        "valores_validos = list(filter(lambda x: x is not None and x.strip() != \"\", valores))\n",
        "print(\"\\nExemplo 5 - Valores válidos:\", valores_validos)\n",
        "# Output esperado: ['Satyajit', 'Neha', 'Amruta']\n",
        "\n",
        "# =============================================================================\n",
        "# 6. Exemplo com reduce() – Multiplicar Todos os Elementos de uma Lista\n",
        "# 6. Example with reduce() – Multiply All Elements in a List\n",
        "from functools import reduce\n",
        "\n",
        "numeros_para_multiplicar = [1, 2, 3, 4, 5]\n",
        "produto = reduce(lambda x, y: x * y, numeros_para_multiplicar)\n",
        "print(\"\\nExemplo 6 - Produto de todos os elementos:\", produto)\n",
        "# Output esperado: 120 (1*2*3*4*5 = 120)\n",
        "\n",
        "# =============================================================================\n",
        "# 7. Exemplo com reduce() – Somar Todos os Elementos de uma Lista\n",
        "# 7. Example with reduce() – Sum All Elements in a List\n",
        "soma_total = reduce(lambda x, y: x + y, numeros_para_multiplicar)\n",
        "print(\"\\nExemplo 7 - Soma de todos os elementos:\", soma_total)\n",
        "# Output esperado: 15 (1+2+3+4+5 = 15)\n",
        "\n",
        "# =============================================================================\n",
        "# Exemplos Avançados e Combinações\n",
        "# =============================================================================\n",
        "print(\"\\n===== Exemplos Avançados =====\\n\")\n",
        "\n",
        "##############################################\n",
        "# Exemplo Avançado: Map com múltiplos iteráveis\n",
        "##############################################\n",
        "lista1 = [1, 2, 3, 4, 5]\n",
        "lista2 = [10, 20, 30, 40, 50]\n",
        "somas = list(map(lambda x, y: x + y, lista1, lista2))\n",
        "print(\"Avançado - Soma elemento a elemento de duas listas:\", somas)\n",
        "# Output esperado: [11, 22, 33, 44, 55]\n",
        "\n",
        "##############################################\n",
        "# Exemplo Avançado: Filter – Filtrar Palíndromos\n",
        "##############################################\n",
        "palavras = [\"radar\", \"python\", \"level\", \"world\", \"reviver\", \"chat\"]\n",
        "palindromos = list(filter(lambda s: s == s[::-1], palavras))\n",
        "print(\"Avançado - Palíndromos:\", palindromos)\n",
        "# Output esperado: ['radar', 'level', 'reviver']\n",
        "\n",
        "##############################################\n",
        "# Exemplo Avançado: Criando uma Frase com reduce()\n",
        "##############################################\n",
        "frases = [\"Map\", \"Filter\", \"Reduce\", \"são\", \"poderosos!\"]\n",
        "frase_concatenada = reduce(lambda a, b: a + \" \" + b, frases)\n",
        "print(\"Avançado - Frase concatenada:\", frase_concatenada)\n",
        "# Output esperado: \"Map Filter Reduce são poderosos!\"\n",
        "\n",
        "##############################################\n",
        "# Exemplo Avançado: Processando Dados de Usuários com Map, Filter e Reduce\n",
        "##############################################\n",
        "usuarios = [\n",
        "    {\"nome\": \"Ana\", \"idade\": 28, \"salario\": 3500},\n",
        "    {\"nome\": \"Bruno\", \"idade\": 34, \"salario\": 4200},\n",
        "    {\"nome\": \"Carlos\", \"idade\": 22, \"salario\": 2800},\n",
        "    {\"nome\": \"Diana\", \"idade\": 40, \"salario\": 5000},\n",
        "    {\"nome\": \"Eduardo\", \"idade\": 19, \"salario\": 1500}\n",
        "]\n",
        "\n",
        "# Filtrar usuários com 30 anos ou mais\n",
        "usuarios_30 = list(filter(lambda u: u[\"idade\"] >= 30, usuarios))\n",
        "# Aplicar aumento de 10% no salário\n",
        "usuarios_30_aumento = list(map(lambda u: {**u, \"salario\": u[\"salario\"] * 1.10}, usuarios_30))\n",
        "# Somar os salários atualizados\n",
        "total_salarios = reduce(lambda total, u: total + u[\"salario\"], usuarios_30_aumento, 0)\n",
        "\n",
        "print(\"Avançado - Usuários com 30+ anos e aumento:\", usuarios_30_aumento)\n",
        "print(\"Avançado - Total dos salários (com aumento):\", total_salarios)\n",
        "\n",
        "# =============================================================================\n",
        "# Conclusão / Conclusion:\n",
        "# =============================================================================\n",
        "# - map() transforma cada elemento de um iterável aplicando uma função.\n",
        "# - filter() extrai os elementos que satisfazem uma condição.\n",
        "# - reduce() combina todos os elementos de um iterável em um único valor usando\n",
        "#   uma função acumuladora.\n",
        "#\n",
        "# Além disso, as funções lambda permitem escrever funções simples de forma concisa,\n",
        "# facilitando o uso dessas técnicas de programação funcional.\n",
        "#\n",
        "# Esses recursos ajudam a escrever códigos mais eficientes e expressivos!\n",
        "#\n",
        "# =============================================================================\n",
        "print(\"\\n===== Fim da Demonstração =====\")"
      ],
      "metadata": {
        "id": "7Fcjpx4DlVF2"
      },
      "execution_count": null,
      "outputs": []
    },
    {
      "cell_type": "markdown",
      "source": [
        "# **10 - Manipulação de Arquivos | File Handling**"
      ],
      "metadata": {
        "id": "PCBdWmiegA1-"
      }
    },
    {
      "cell_type": "code",
      "source": [
        "# 🔹 File Handling – Advanced Examples in Python\n",
        "# 🔹 Manipulação de Arquivos – Exemplos Avançados em Python\n",
        "\n",
        "# =============================================================================\n",
        "# Example 1 / Exemplo 1: Word Frequency Counter\n",
        "# Contador de Frequência de Palavras\n",
        "# =============================================================================\n",
        "# Create a sample text file (if it doesn't exist) and write multiple lines.\n",
        "# Cria um arquivo de texto de exemplo e escreve várias linhas.\n",
        "with open(\"sample.txt\", \"w\") as file:\n",
        "    file.write(\"Hello world. Hello Python. This is a sample file for file handling in Python.\\n\")\n",
        "    file.write(\"File handling allows reading, writing, and appending files.\\n\")\n",
        "    file.write(\"Hello world, welcome to Python programming.\\n\")\n",
        "\n",
        "# Read the file, count word frequency, and write the results to another file.\n",
        "# Lê o arquivo, conta a frequência das palavras e grava os resultados em outro arquivo.\n",
        "word_count = {}\n",
        "with open(\"sample.txt\", \"r\") as file:\n",
        "    for line in file:\n",
        "        # Remove punctuation and convert to lowercase.\n",
        "        # Remove pontuação e converte para minúsculas.\n",
        "        line = line.replace(\".\", \"\").replace(\",\", \"\").lower()\n",
        "        words = line.split()\n",
        "        for word in words:\n",
        "            word_count[word] = word_count.get(word, 0) + 1\n",
        "\n",
        "# Write the word frequency dictionary to \"frequency.txt\"\n",
        "# Escreve o dicionário de frequência de palavras no arquivo \"frequency.txt\"\n",
        "with open(\"frequency.txt\", \"w\") as file:\n",
        "    for word, count in word_count.items():\n",
        "        file.write(f\"{word}: {count}\\n\")\n",
        "\n",
        "print(\"Word frequency count written to frequency.txt\")\n",
        "# Expected output (in frequency.txt): each word with its count\n",
        "\n",
        "# =============================================================================\n",
        "# Example 2 / Exemplo 2: Using \"a+\" Mode for Reading and Appending\n",
        "# Usando o modo \"a+\" para ler e acrescentar conteúdo\n",
        "# =============================================================================\n",
        "# Open the same file in append+read mode.\n",
        "# Abre o mesmo arquivo em modo de acrescentar+ler.\n",
        "with open(\"sample.txt\", \"a+\") as file:\n",
        "    # Append a new line.\n",
        "    # Acrescenta uma nova linha ao final.\n",
        "    file.write(\"Appending new line using a+ mode.\\n\")\n",
        "    # Move the file pointer back to the beginning.\n",
        "    # Move o ponteiro do arquivo para o início.\n",
        "    file.seek(0)\n",
        "    content = file.read()\n",
        "    print(\"Content of sample.txt after appending (using a+):\")\n",
        "    print(content)\n",
        "# Expected output: the original text with the new appended line at the end.\n",
        "\n",
        "# =============================================================================\n",
        "# Example 3 / Exemplo 3: Exception Handling in File Operations\n",
        "# Tratamento de Exceções em Operações de Arquivo\n",
        "# =============================================================================\n",
        "# Attempt to open a non-existent file and handle the FileNotFoundError.\n",
        "# Tenta abrir um arquivo inexistente e trata a exceção FileNotFoundError.\n",
        "try:\n",
        "    with open(\"nonexistent.txt\", \"r\") as file:\n",
        "        data = file.read()\n",
        "except FileNotFoundError as e:\n",
        "    print(\"Error: File not found. Please check the file name and path.\")\n",
        "# Expected output: Error message indicating that the file was not found.\n",
        "\n",
        "# =============================================================================\n",
        "# Example 4 / Exemplo 4: Reading a CSV File Using Pandas\n",
        "# Leitura de um Arquivo CSV com Pandas (usando StringIO para simular um arquivo)\n",
        "# =============================================================================\n",
        "import pandas as pd\n",
        "from io import StringIO\n",
        "\n",
        "# Create a CSV data string.\n",
        "# Cria uma string contendo dados CSV.\n",
        "csv_data = \"\"\"Name,Age,City\n",
        "Alice,30,New York\n",
        "Bob,25,Los Angeles\n",
        "Charlie,35,Chicago\n",
        "\"\"\"\n",
        "\n",
        "# Use StringIO to simulate a file object.\n",
        "# Usa StringIO para simular um objeto de arquivo.\n",
        "df = pd.read_csv(StringIO(csv_data))\n",
        "print(\"DataFrame read from CSV data:\")\n",
        "print(df)\n",
        "# Expected output: A DataFrame displaying the CSV data.\n",
        "\n",
        "# =============================================================================\n",
        "# Example 5 / Exemplo 5: Processing a Log File\n",
        "# Processamento de um Arquivo de Log\n",
        "# =============================================================================\n",
        "# Suppose we have a log file \"log.txt\" with multiple entries.\n",
        "# Suponha que temos um arquivo de log \"log.txt\" com várias entradas.\n",
        "with open(\"log.txt\", \"w\") as file:\n",
        "    file.write(\"2025-02-25 10:00:00 - INFO - Application started\\n\")\n",
        "    file.write(\"2025-02-25 10:05:23 - WARNING - Low disk space\\n\")\n",
        "    file.write(\"2025-02-25 10:07:45 - ERROR - File not found\\n\")\n",
        "    file.write(\"2025-02-25 10:10:10 - INFO - Task completed\\n\")\n",
        "\n",
        "# Read the log file and filter only ERROR entries.\n",
        "# Lê o arquivo de log e filtra apenas as entradas de ERROR.\n",
        "error_logs = []\n",
        "with open(\"log.txt\", \"r\") as file:\n",
        "    for line in file:\n",
        "        if \"ERROR\" in line:\n",
        "            error_logs.append(line.strip())\n",
        "\n",
        "# Write the filtered error logs to a new file \"error_log.txt\".\n",
        "# Grava os logs filtrados (de ERROR) em um novo arquivo \"error_log.txt\".\n",
        "with open(\"error_log.txt\", \"w\") as file:\n",
        "    for log in error_logs:\n",
        "        file.write(log + \"\\n\")\n",
        "\n",
        "print(\"Filtered error logs written to error_log.txt\")\n",
        "# Expected output: error_log.txt should contain only the ERROR entry.\n",
        "\n",
        "# =============================================================================\n",
        "# Conclusion / Conclusão:\n",
        "# - We used basic file operations (open, read, write, append, close) with context managers.\n",
        "# - We processed file contents (word frequency, log filtering) to demonstrate real-world tasks.\n",
        "# - We used exception handling to manage errors when files do not exist.\n",
        "# - We also showed how to integrate Pandas for CSV file handling.\n",
        "#\n",
        "# Usamos operações básicas de arquivos (abrir, ler, escrever, acrescentar, fechar) com gerenciadores de contexto.\n",
        "# Processamos conteúdos de arquivos (contagem de palavras, filtragem de logs) para demonstrar tarefas reais.\n",
        "# Tratamos exceções para gerenciar erros quando os arquivos não existem.\n",
        "# Também mostramos como integrar o Pandas para manipulação de arquivos CSV.\n"
      ],
      "metadata": {
        "id": "Su5d9N_lgMD4"
      },
      "execution_count": null,
      "outputs": []
    },
    {
      "cell_type": "markdown",
      "source": [
        "# **11 - OPP**"
      ],
      "metadata": {
        "id": "qLNWlYsfgiLw"
      }
    },
    {
      "cell_type": "code",
      "source": [
        "# 🔹 Object Oriented Programming (OOP) in Python – Detailed Explanation with Examples\n",
        "# 🔹 Programação Orientada a Objetos (POO) em Python – Explicação Detalhada com Exemplos\n",
        "#\n",
        "# The following code examples are organized into 10 sections that correspond to the main OOP concepts:\n",
        "# As seguintes seções de código estão organizadas em 10 tópicos que correspondem aos conceitos principais de POO:\n",
        "#\n",
        "# 1. Classes and Objects\n",
        "# 2. Encapsulation\n",
        "# 3. Inheritance\n",
        "# 4. Polymorphism\n",
        "# 5. Abstraction\n",
        "# 6. Constructors and Destructors\n",
        "# 7. Class Variables vs. Instance Variables\n",
        "# 8. Class Methods and Static Methods\n",
        "# 9. Benefits and Nuances of OOP (Discussion with examples)\n",
        "# 10. Conclusion\n",
        "\n",
        "# =============================================================================\n",
        "# Section 1: Classes and Objects / Seção 1: Classes e Objetos\n",
        "# =============================================================================\n",
        "# A class is a blueprint for objects. An object is an instance of a class.\n",
        "# Uma classe é um molde para objetos. Um objeto é uma instância de uma classe.\n",
        "\n",
        "'''__init__ é o método construtor de classe em Python, usado para inicializar os atributos de um objeto quando ele é criado.\n",
        "  Ele permite configurar o estado inicial do objeto e executar todas as verificações ou configurações.\n",
        "'''\n",
        "''' self é uma convenção que representa a instância atual de uma classe.\n",
        "    Ele é usado como o primeiro parâmetro em métodos de instância e permite acessar atributos e outros métodos do objeto que está sendo manipulado.\n",
        "'''\n",
        "class Person:\n",
        "    def __init__(self, name, age):\n",
        "        # Instance variables (variáveis de instância)\n",
        "        self.name = name\n",
        "        self.age = age\n",
        "\n",
        "    def introduce(self):\n",
        "        # A simple method to introduce the person.\n",
        "        # Um método simples para apresentar a pessoa.\n",
        "        print(f\"Hi, my name is {self.name} and I am {self.age} years old.\")\n",
        "\n",
        "# Creating objects / Criando objetos\n",
        "person1 = Person(\"Alice\", 30)\n",
        "person2 = Person(\"Bob\", 25)\n",
        "person1.introduce()  # Expected: Hi, my name is Alice and I am 30 years old.\n",
        "person2.introduce()  # Expected: Hi, my name is Bob and I am 25 years old.\n",
        "\n",
        "# =============================================================================\n",
        "# Section 2: Encapsulation / Seção 2: Encapsulamento\n",
        "# =============================================================================\n",
        "# Encapsulation hides the internal details of an object and exposes only necessary methods.\n",
        "# O encapsulamento esconde detalhes internos de um objeto e expõe apenas os métodos necessários.\n",
        "\n",
        "class BankAccount:\n",
        "    def __init__(self, owner, balance):\n",
        "        self.owner = owner\n",
        "        self.__balance = balance  # Private attribute (atributo privado)\n",
        "\n",
        "    def deposit(self, amount):\n",
        "        if amount > 0:\n",
        "            self.__balance += amount\n",
        "            print(f\"Deposited {amount}. New balance is {self.__balance}.\")\n",
        "        else:\n",
        "            print(\"Deposit amount must be positive.\")\n",
        "\n",
        "    def withdraw(self, amount):\n",
        "        if 0 < amount <= self.__balance:\n",
        "            self.__balance -= amount\n",
        "            print(f\"Withdrew {amount}. New balance is {self.__balance}.\")\n",
        "        else:\n",
        "            print(\"Insufficient funds or invalid amount.\")\n",
        "\n",
        "    def get_balance(self):\n",
        "        return self.__balance\n",
        "\n",
        "account = BankAccount(\"Charlie\", 1000)\n",
        "account.deposit(500)     # Deposited 500. New balance is 1500.\n",
        "account.withdraw(300)    # Withdrew 300. New balance is 1200.\n",
        "print(\"Final balance:\", account.get_balance())\n",
        "# Note: Direct access to __balance will result in an error.\n",
        "\n",
        "# =============================================================================\n",
        "# Section 3: Inheritance / Seção 3: Herança\n",
        "# =============================================================================\n",
        "# Inheritance allows one class (child) to inherit attributes and methods from another (parent).\n",
        "# A herança permite que uma classe (filha) herde atributos e métodos de outra (pai).\n",
        "\n",
        "class Animal:\n",
        "    def __init__(self, name):\n",
        "        self.name = name\n",
        "\n",
        "    def make_sound(self):\n",
        "        print(\"Some generic animal sound.\")\n",
        "\n",
        "class Dog(Animal):\n",
        "    def make_sound(self):\n",
        "        print(\"Woof!\")  # Overriding method\n",
        "\n",
        "class Cat(Animal):\n",
        "    def make_sound(self):\n",
        "        print(\"Meow!\")  # Overriding method\n",
        "\n",
        "# Create instances of Dog and Cat\n",
        "dog = Dog(\"Buddy\")\n",
        "cat = Cat(\"Whiskers\")\n",
        "dog.make_sound()  # Expected: Woof!\n",
        "cat.make_sound()  # Expected: Meow!\n",
        "\n",
        "# =============================================================================\n",
        "# Section 4: Polymorphism / Seção 4: Polimorfismo\n",
        "# =============================================================================\n",
        "# Polymorphism allows methods to behave differently based on the object calling them.\n",
        "# O polimorfismo permite que métodos se comportem de maneira diferente conforme o objeto que os chama.\n",
        "\n",
        "def animal_sound(animal):\n",
        "    # Accepts any object that has a make_sound method.\n",
        "    print(f\"{animal.name} says:\", end=\" \")\n",
        "    animal.make_sound()\n",
        "\n",
        "for pet in [dog, cat, Animal(\"Generic\")]:\n",
        "    animal_sound(pet)\n",
        "# Expected outputs:\n",
        "# Buddy says: Woof!\n",
        "# Whiskers says: Meow!\n",
        "# Generic says: Some generic animal sound.\n",
        "\n",
        "# =============================================================================\n",
        "# Section 5: Abstraction / Seção 5: Abstração\n",
        "# =============================================================================\n",
        "# Abstraction focuses on essential features by ignoring complex details.\n",
        "# A abstração foca nos recursos essenciais ignorando detalhes complexos.\n",
        "# We use abstract base classes (abc) to define interfaces.\n",
        "\n",
        "from abc import ABC, abstractmethod\n",
        "\n",
        "class Shape(ABC):\n",
        "    @abstractmethod\n",
        "    def calculate_area(self):\n",
        "        # Abstract method to be implemented by subclasses.\n",
        "        pass\n",
        "\n",
        "class Rectangle(Shape):\n",
        "    def __init__(self, length, breadth):\n",
        "        self.length = length\n",
        "        self.breadth = breadth\n",
        "\n",
        "    def calculate_area(self):\n",
        "        return self.length * self.breadth\n",
        "\n",
        "class Circle(Shape):\n",
        "    pi = 3.1416  # Class variable\n",
        "\n",
        "    def __init__(self, radius):\n",
        "        self.radius = radius\n",
        "\n",
        "    def calculate_area(self):\n",
        "        return Circle.pi * (self.radius ** 2)\n",
        "\n",
        "rect = Rectangle(10, 5)\n",
        "circ = Circle(7)\n",
        "print(\"Area of Rectangle:\", rect.calculate_area())  # Expected: 50\n",
        "print(\"Area of Circle:\", circ.calculate_area())       # Expected: ~153.94\n",
        "\n",
        "# =============================================================================\n",
        "# Section 6: Constructors and Destructors / Seção 6: Construtores e Destrutores\n",
        "# =============================================================================\n",
        "# Constructors (__init__) initialize a new object; destructors (__del__) are called when an object is deleted.\n",
        "# Construtores (__init__) inicializam um novo objeto; destrutores (__del__) são chamados quando um objeto é destruído.\n",
        "\n",
        "class Demo:\n",
        "    def __init__(self, value):\n",
        "        self.value = value\n",
        "        print(f\"Demo object created with value {self.value}\")\n",
        "\n",
        "    def __del__(self):\n",
        "        print(f\"Demo object with value {self.value} is being destroyed\")\n",
        "\n",
        "demo_obj = Demo(100)\n",
        "# Force deletion (destruction might occur immediately or later based on garbage collection)\n",
        "del demo_obj\n",
        "\n",
        "# =============================================================================\n",
        "# Section 7: Class Variables vs. Instance Variables / Seção 7: Variáveis de Classe vs. Variáveis de Instância\n",
        "# =============================================================================\n",
        "# Instance variables belong to each object individually; class variables are shared across all instances.\n",
        "# Variáveis de instância pertencem a cada objeto individualmente; variáveis de classe são compartilhadas por todas as instâncias.\n",
        "\n",
        "class Car:\n",
        "    # Class variable\n",
        "    wheels = 4\n",
        "\n",
        "    def __init__(self, make, model):\n",
        "        # Instance variables\n",
        "        self.make = make\n",
        "        self.model = model\n",
        "\n",
        "car1 = Car(\"Toyota\", \"Corolla\")\n",
        "car2 = Car(\"Honda\", \"Civic\")\n",
        "print(\"Car1 wheels:\", car1.wheels)  # Expected: 4\n",
        "print(\"Car2 wheels:\", car2.wheels)  # Expected: 4\n",
        "\n",
        "# Update class variable via the class\n",
        "Car.wheels = 5\n",
        "print(\"After updating wheels:\")\n",
        "print(\"Car1 wheels:\", car1.wheels)  # Expected: 5\n",
        "print(\"Car2 wheels:\", car2.wheels)  # Expected: 5\n",
        "\n",
        "# =============================================================================\n",
        "# Section 8: Class Methods and Static Methods / Seção 8: Métodos de Classe e Métodos Estáticos\n",
        "# =============================================================================\n",
        "# Class methods use the @classmethod decorator and receive the class as the first argument.\n",
        "# Static methods use the @staticmethod decorator and do not receive any special first argument.\n",
        "# Métodos de classe usam o decorador @classmethod e recebem a classe como primeiro argumento.\n",
        "# Métodos estáticos usam o decorador @staticmethod e não recebem argumentos especiais.\n",
        "\n",
        "class Temperature:\n",
        "    @classmethod\n",
        "    def celsius_to_fahrenheit(cls, celsius):\n",
        "        return celsius * 9/5 + 32\n",
        "\n",
        "    @staticmethod\n",
        "    def is_valid_temperature(temp):\n",
        "        # Assume valid temperature range between -273 and 1000 Celsius.\n",
        "        return -273 <= temp <= 1000\n",
        "\n",
        "print(\"25°C in Fahrenheit:\", Temperature.celsius_to_fahrenheit(25))  # Expected: 77.0\n",
        "print(\"Is -300°C valid?\", Temperature.is_valid_temperature(-300))      # Expected: False\n",
        "\n",
        "# =============================================================================\n",
        "# Section 9: Benefits and Nuances of OOP / Seção 9: Benefícios e Nuances da POO\n",
        "# =============================================================================\n",
        "# OOP promotes modularity, reusability, and maintainability.\n",
        "# A POO promove a modularidade, reutilização e manutenção.\n",
        "#\n",
        "# Example: Using polymorphism to process different shapes uniformly.\n",
        "shapes = [rect, circ]  # rect and circ from Section 5\n",
        "print(\"\\nProcessing shapes polymorphically:\")\n",
        "for shape in shapes:\n",
        "    print(f\"Area of {shape.__class__.__name__}:\", shape.calculate_area())\n",
        "# This demonstrates how OOP lets you treat different objects uniformly as long as they share the same interface.\n",
        "\n",
        "# =============================================================================\n",
        "# Section 10: Conclusion / Seção 10: Conclusão\n",
        "# =============================================================================\n",
        "# In summary:\n",
        "# - Classes and objects let you model real-world entities.\n",
        "# - Encapsulation protects internal state and exposes only necessary methods.\n",
        "# - Inheritance and polymorphism allow code reuse and flexible behavior.\n",
        "# - Abstraction helps focus on essential features.\n",
        "# - Constructors, destructors, class/instance variables, and class/static methods provide a robust structure.\n",
        "#\n",
        "# Em resumo:\n",
        "# - Classes e objetos permitem modelar entidades do mundo real.\n",
        "# - O encapsulamento protege o estado interno e expõe somente os métodos necessários.\n",
        "# - Herança e polimorfismo permitem a reutilização e o comportamento flexível do código.\n",
        "# - A abstração ajuda a focar nos recursos essenciais.\n",
        "# - Construtores, destrutores, variáveis de classe/instância, e métodos de classe/estáticos fornecem uma estrutura robusta.\n",
        "#\n",
        "# These OOP concepts are fundamental for writing modular, reusable, and maintainable code.\n",
        "# Esses conceitos de POO são fundamentais para escrever códigos modulares, reutilizáveis e fáceis de manter.\n",
        "#\n",
        "# You can copy and paste this code into Google Colab to explore and learn these OOP examples.\n",
        "# Você pode copiar e colar este código no Google Colab para explorar e aprender esses exemplos de POO.\n"
      ],
      "metadata": {
        "id": "iT0or5OihXrA"
      },
      "execution_count": null,
      "outputs": []
    },
    {
      "cell_type": "markdown",
      "source": [
        "## 0.x - OPP"
      ],
      "metadata": {
        "id": "fT7q_oteBfr2"
      }
    },
    {
      "cell_type": "code",
      "source": [
        "class Quadrado:\n",
        "  def __init__ (self, lado):\n",
        "    self.lado = lado\n",
        "\n",
        "  def mudar_lado (self, novo_lado):\n",
        "    self.lado = novo_lado\n",
        "\n",
        "  def retornar_lado (self):\n",
        "    return self.lado\n",
        "\n",
        "  def calcular_area(self):\n",
        "    return self.lado**2\n",
        "\n",
        "  def imprimir_informacoes (self):\n",
        "\n",
        "    print (f'O valor do lado é {self.lado}.\\nA área do quadrado é: {self.calcular_area()} m².')\n",
        "\n",
        "quadrado1 = Quadrado(5)\n",
        "quadrado1.imprimir_informacoes()\n",
        "\n",
        "quadrado1.mudar_lado(7)\n",
        "quadrado1.imprimir_informacoes()"
      ],
      "metadata": {
        "colab": {
          "base_uri": "https://localhost:8080/"
        },
        "id": "BH2tlcgpBrTD",
        "outputId": "25fa2a85-bdaa-4320-f6b1-8291e4ecf8aa"
      },
      "execution_count": null,
      "outputs": [
        {
          "output_type": "stream",
          "name": "stdout",
          "text": [
            "O valor do lado é 5.\n",
            "A área do quadrado é: 25 m².\n",
            "O valor do lado é 7.\n",
            "A área do quadrado é: 49 m².\n"
          ]
        }
      ]
    },
    {
      "cell_type": "code",
      "source": [
        "import math\n",
        "\n",
        "class Retangulo:\n",
        "  def __init__ (self, ladoA, ladoB):\n",
        "    self.ladoA = ladoA\n",
        "    self.ladoB = ladoB\n",
        "\n",
        "  def mudar_ladoA (self, nova_ladoA):\n",
        "    self.ladoA = nova_ladoA\n",
        "\n",
        "  def mudar_ladoB (self, novo_ladoB):\n",
        "    self.ladoB = novo_ladoB\n",
        "\n",
        "  def retornar_ladoB (self):\n",
        "    return self.ladoB\n",
        "\n",
        "  def retornar_ladoA (self):\n",
        "    return self.ladoA\n",
        "\n",
        "  def calcular_area(self):\n",
        "    return self.ladoB * self.ladoA\n",
        "\n",
        "  def calcular_perimetro(self):\n",
        "    return 2 * (self.ladoA + self.ladoB)\n",
        "\n",
        "  def imprimir_informacoes (self):\n",
        "\n",
        "    print (f'O valor do ladoB é {self.ladoB}. \\nO valor da ladoA é {self.ladoA} \\nA área do retangulo é: {self.calcular_area()} m² \\nO perimetro é {self.calcular_perimetro}.')\n",
        "\n",
        "retangulo1 = Retangulo(0.35, 0.50)\n",
        "retangulo1.imprimir_informacoes()\n",
        "\n",
        "# --- Programa principal ---\n",
        "def main():\n",
        "    print(\"=== Cálculo de Pisos para um Retângulo ===\")\n",
        "\n",
        "    # 1. Pedir ao usuário as dimensões do local\n",
        "    largura = float(input(\"Informe a largura do local (em metros): \"))\n",
        "    comprimento = float(input(\"Informe o comprimento do local (em metros): \"))\n",
        "\n",
        "    # 2. Criar o objeto Retangulo\n",
        "    retangulo = Retangulo(largura, comprimento)\n",
        "\n",
        "    # 3. Calcular a área\n",
        "    area_local = retangulo.calcular_area()\n",
        "    print(f\"\\nÁrea do local: {area_local:.2f} m²\")\n",
        "\n",
        "    # 4. Perguntar o tamanho de cada piso (em cm, por exemplo) e calcular quantos pisos são necessários\n",
        "    print(\"\\n--- Informações do piso (azulejo) ---\")\n",
        "    piso_largura = float(input(\"Informe a largura do piso (em cm): \"))\n",
        "    piso_comprimento = float(input(\"Informe o comprimento do piso (em cm): \"))\n",
        "\n",
        "    # Converter o tamanho do piso para metros\n",
        "    piso_largura_m = piso_largura / 100.0\n",
        "    piso_comprimento_m = piso_comprimento / 100.0\n",
        "\n",
        "    # Área de cada piso em m²\n",
        "    area_piso = piso_largura_m * piso_comprimento_m\n",
        "\n",
        "    # Evitar divisão por zero (caso usuário digite 0)\n",
        "    if area_piso <= 0:\n",
        "        print(\"\\nNão foi possível calcular, pois a área do piso não pode ser 0 ou negativa.\")\n",
        "        return\n",
        "\n",
        "    # Quantidade de pisos necessária\n",
        "    qtd_pisos = area_local / area_piso\n",
        "\n",
        "    # Arredondar para cima, porque não dá para comprar “meio” piso\n",
        "    qtd_pisos_arredondada = math.ceil(qtd_pisos)\n",
        "\n",
        "    print(f\"\\nPara cobrir {area_local:.2f} m², você precisará de aproximadamente {qtd_pisos_arredondada} pisos.\")\n",
        "\n",
        "# Se quiser rodar direto no script, descomente a linha abaixo:\n",
        "main()"
      ],
      "metadata": {
        "id": "-cZVypViMDq_"
      },
      "execution_count": null,
      "outputs": []
    },
    {
      "cell_type": "code",
      "source": [],
      "metadata": {
        "id": "j1QhrP0Xvdpp"
      },
      "execution_count": null,
      "outputs": []
    },
    {
      "cell_type": "code",
      "source": [
        "import math\n",
        "\n",
        "def area_circulo(r):\n",
        "    \"\"\"Retorna a área de um círculo dado seu raio.\"\"\"\n",
        "    return math.pi * (r ** 2)\n",
        "\n",
        "raios = [1, 2, 3, 4, 5]\n",
        "areas = list(map(area_circulo, raios))\n",
        "print(\"Áreas dos círculos:\", areas)"
      ],
      "metadata": {
        "colab": {
          "base_uri": "https://localhost:8080/"
        },
        "id": "rpGcBnTJKMG6",
        "outputId": "a2f35d39-6174-41f1-cb92-f26c82d84654"
      },
      "execution_count": null,
      "outputs": [
        {
          "output_type": "stream",
          "name": "stdout",
          "text": [
            "Áreas dos círculos: [3.141592653589793, 12.566370614359172, 28.274333882308138, 50.26548245743669, 78.53981633974483]\n"
          ]
        }
      ]
    },
    {
      "cell_type": "code",
      "source": [
        "class Pessoa:\n",
        "  def __init__ (self, nome, idade, peso, altura):\n",
        "    self.nome = nome\n",
        "    self.idade = idade\n",
        "    self.peso = peso\n",
        "    self.altura = altura\n",
        "\n",
        "  def envelhecer(self, anos=1):\n",
        "    for _ in range(anos):\n",
        "      if self.idade < 21:\n",
        "        self.altura += 0.05\n",
        "      self.idade +=1\n",
        "\n",
        "  def engordar(self, kg):\n",
        "    self.peso += kg\n",
        "\n",
        "  def emagrecer(self, kg):\n",
        "    if self.peso - kg >= 0: # Evita peso negativo\n",
        "      self.peso -= kg\n",
        "    else:\n",
        "      print(\"Peso não pode ser negativo\")\n",
        "\n",
        "  def crescer(self, cm):\n",
        "    self.altura += cm/100 # Convertendo cm para metros\n",
        "\n",
        "  def mostrar_dados(self):\n",
        "    print(f\"Nome: {self.nome}\")\n",
        "    print(f\"Idade: {self.idade} anos\")\n",
        "    print(f\"Peso: {self.peso:.2f} kg\")\n",
        "    print(f\"Altura: {self.altura:.2f} m\")\n",
        "\n",
        "pessoa1 = Pessoa(\"Eduardo\", 10, 40, 1.25)\n",
        "\n",
        "print(\"Pessoa antes de envelhecer\")\n",
        "pessoa1.mostrar_dados()\n",
        "\n",
        "print(\"\\nPessoa depois de envelhecer\")\n",
        "pessoa1.envelhecer(1)\n",
        "pessoa1.mostrar_dados()\n",
        "\n",
        "print(\"\\nPessoa depois de engordar\")\n",
        "pessoa1.engordar(5.5)\n",
        "pessoa1.mostrar_dados()\n"
      ],
      "metadata": {
        "colab": {
          "base_uri": "https://localhost:8080/"
        },
        "id": "9GoG06Yq8tuW",
        "outputId": "eafc1880-0aba-48a8-9a95-04e5c04e4921"
      },
      "execution_count": null,
      "outputs": [
        {
          "output_type": "stream",
          "name": "stdout",
          "text": [
            "Pessoa antes de envelhecer\n",
            "Nome: Eduardo\n",
            "Idade: 10 anos\n",
            "Peso: 40.00 kg\n",
            "Altura: 1.25 m\n",
            "\n",
            "Pessoa depois de envelhecer\n",
            "Nome: Eduardo\n",
            "Idade: 11 anos\n",
            "Peso: 40.00 kg\n",
            "Altura: 1.30 m\n",
            "\n",
            "Pessoa depois de engordar\n",
            "Nome: Eduardo\n",
            "Idade: 11 anos\n",
            "Peso: 45.50 kg\n",
            "Altura: 1.30 m\n"
          ]
        }
      ]
    },
    {
      "cell_type": "markdown",
      "source": [
        "# **12 - Numpy**"
      ],
      "metadata": {
        "id": "nMdJ9wVxPKa4"
      }
    },
    {
      "cell_type": "code",
      "source": [
        "# 🔹 NumPy – Detailed Explanation with Examples (Extended)\n",
        "# 🔹 NumPy – Explicação Detalhada com Exemplos (Estendido)\n",
        "#\n",
        "# NumPy é uma biblioteca fundamental para computação científica em Python.\n",
        "# It is the core library for scientific computing in Python.\n",
        "# Ela fornece um objeto de array multidimensional (ndarray) que é eficiente e fácil de usar,\n",
        "# além de funções para operações matemáticas, manipulação de arrays e álgebra linear.\n",
        "#\n",
        "# NumPy provides a fast, efficient multidimensional array object (ndarray) and functions for mathematical operations, array manipulation, and linear algebra.\n",
        "#\n",
        "# You can copy and paste this code into Google Colab for testing and learning.\n",
        "\n",
        "import numpy as np\n",
        "\n",
        "# =============================================================================\n",
        "# Section 1: Introduction and Array Creation / Seção 1: Introdução e Criação de Arrays\n",
        "# =============================================================================\n",
        "# NumPy allows you to create arrays from Python lists, or generate them using functions.\n",
        "# NumPy permite criar arrays a partir de listas do Python ou gerá-los usando funções.\n",
        "\n",
        "# Creating a 1D array from a list / Criando um array 1D a partir de uma lista:\n",
        "a = np.array([1, 2, 3, 4, 5])\n",
        "print(\"1D array:\", a)\n",
        "# Expected output: [1 2 3 4 5]\n",
        "\n",
        "# Creating a 2D array / Criando um array 2D:\n",
        "b = np.array([[1, 2, 3], [4, 5, 6]])\n",
        "print(\"\\n2D array:\\n\", b)\n",
        "# Expected output:\n",
        "# [[1 2 3]\n",
        "#  [4 5 6]]\n",
        "\n",
        "# Using arange() to create an array / Usando arange() para criar um array:\n",
        "c = np.arange(0, 10, 2)  # From 0 to 10 with step 2 / De 0 a 10 com passo 2\n",
        "print(\"\\nArray using arange:\", c)\n",
        "# Expected output: [0 2 4 6 8]\n",
        "\n",
        "# Using linspace() to create an array / Usando linspace() para criar um array:\n",
        "d = np.linspace(0, 1, 5)  # 5 numbers evenly spaced between 0 and 1\n",
        "print(\"\\nArray using linspace:\", d)\n",
        "# Expected output: [0.   0.25 0.5  0.75 1.  ]\n",
        "\n",
        "# =============================================================================\n",
        "# Section 2: Array Operations and Vectorization / Seção 2: Operações com Arrays e Vetorização\n",
        "# =============================================================================\n",
        "# NumPy arrays allow element-wise arithmetic operations which are highly optimized.\n",
        "# Arrays fazem operações aritméticas element-wise de forma eficiente.\n",
        "\n",
        "x = np.array([10, 20, 30])\n",
        "y = np.array([1, 2, 3])\n",
        "print(\"\\nx + y:\", x + y)      # Expected: [11 22 33]\n",
        "print(\"x - y:\", x - y)        # Expected: [9 18 27]\n",
        "print(\"x * y:\", x * y)        # Expected: [10 40 90]\n",
        "print(\"x / y:\", x / y)        # Expected: [10. 10. 10.]\n",
        "\n",
        "# =============================================================================\n",
        "# Section 3: Indexing and Slicing / Seção 3: Indexação e Fatiamento\n",
        "# =============================================================================\n",
        "# NumPy arrays support slicing and indexing similar to Python lists, with extra capabilities for multidimensional arrays.\n",
        "# Arrays do NumPy suportam fatiamento e indexação, inclusive para arrays multidimensionais.\n",
        "\n",
        "arr = np.array([0, 1, 2, 3, 4, 5, 6, 7, 8, 9])\n",
        "print(\"\\nOriginal array:\", arr)\n",
        "\n",
        "# Slicing a 1D array / Fatiamento de um array 1D:\n",
        "print(\"Slice arr[2:7]:\", arr[2:7])  # Expected: [2 3 4 5 6]\n",
        "\n",
        "# Indexing a 2D array / Indexação de um array 2D:\n",
        "arr2d = np.array([[1, 2, 3], [4, 5, 6], [7, 8, 9]])\n",
        "print(\"\\n2D array:\\n\", arr2d)\n",
        "print(\"Element at row 1, col 2:\", arr2d[1, 2])  # Expected: 6\n",
        "print(\"Slice of 2D array (rows 0-1, cols 1-3):\\n\", arr2d[0:2, 1:3])\n",
        "# Expected output:\n",
        "# [[2 3]\n",
        "#  [5 6]]\n",
        "\n",
        "# =============================================================================\n",
        "# Section 4: Broadcasting / Seção 4: Broadcasting\n",
        "# =============================================================================\n",
        "# Broadcasting allows arithmetic operations between arrays of different shapes.\n",
        "# O broadcasting permite operações entre arrays com formas diferentes.\n",
        "\n",
        "# Example: Adding a scalar to an array / Exemplo: Adicionando um escalar a um array:\n",
        "arr = np.array([1, 2, 3])\n",
        "print(\"\\nAdding scalar 5 to array:\", arr + 5)\n",
        "# Expected: [6 7 8]\n",
        "\n",
        "# Example: Adding a 1D array to a 2D array / Exemplo: Somando um array 1D a um array 2D:\n",
        "arr2d = np.array([[1, 2, 3],\n",
        "                  [4, 5, 6]])\n",
        "vec = np.array([10, 20, 30])\n",
        "print(\"Adding 1D array to 2D array:\\n\", arr2d + vec)\n",
        "# Expected output:\n",
        "# [[11 22 33]\n",
        "#  [14 25 36]]\n",
        "\n",
        "# =============================================================================\n",
        "# Section 5: Reshaping Arrays / Seção 5: Remodelagem de Arrays\n",
        "# =============================================================================\n",
        "# Reshaping changes the shape of an array without changing its data.\n",
        "# Remodelar altera a forma do array sem modificar os dados.\n",
        "\n",
        "# Reshape a 1D array into a 2D array / Remodela um array 1D em 2D:\n",
        "arr1 = np.arange(12)\n",
        "arr2 = arr1.reshape((3, 4))  # 3 rows, 4 columns\n",
        "print(\"\\nReshaped array (3x4):\\n\", arr2)\n",
        "\n",
        "# Flatten a 2D array back to 1D / Achatar um array 2D de volta para 1D:\n",
        "arr_flat = arr2.flatten()\n",
        "print(\"Flattened array:\", arr_flat)\n",
        "\n",
        "# =============================================================================\n",
        "# Section 6: Statistical Functions / Seção 6: Funções Estatísticas\n",
        "# =============================================================================\n",
        "# NumPy offers functions to compute statistics like mean, median, and standard deviation.\n",
        "# NumPy oferece funções para calcular estatísticas, como média, mediana e desvio padrão.\n",
        "\n",
        "data = np.array([10, 20, 30, 40, 50])\n",
        "print(\"\\nMean:\", np.mean(data))          # Expected: 30.0\n",
        "print(\"Median:\", np.median(data))          # Expected: 30.0\n",
        "print(\"Standard Deviation:\", np.std(data)) # Expected: ~14.14\n",
        "\n",
        "# =============================================================================\n",
        "# Section 7: Linear Algebra / Seção 7: Álgebra Linear\n",
        "# =============================================================================\n",
        "# NumPy provides functions for matrix operations such as dot product, matrix multiplication, and determinants.\n",
        "# NumPy fornece funções para operações matriciais, como produto escalar, multiplicação de matrizes e determinantes.\n",
        "\n",
        "# Matrix multiplication using dot() / Multiplicação de matrizes usando dot():\n",
        "A = np.array([[1, 2],\n",
        "              [3, 4]])\n",
        "B = np.array([[5, 6],\n",
        "              [7, 8]])\n",
        "print(\"\\nMatrix A:\\n\", A)\n",
        "print(\"Matrix B:\\n\", B)\n",
        "print(\"Matrix multiplication (A dot B):\\n\", np.dot(A, B))\n",
        "# Expected output:\n",
        "# [[19 22]\n",
        "#  [43 50]]\n",
        "\n",
        "# Determinant of a matrix / Determinante de uma matriz:\n",
        "det_A = np.linalg.det(A)\n",
        "print(\"Determinant of A:\", det_A)\n",
        "# Expected output: -2.0 (approximately)\n",
        "\n",
        "# =============================================================================\n",
        "# Section 8: Fancy and Boolean Indexing / Seção 8: Indexação Avançada e Booleana\n",
        "# =============================================================================\n",
        "# Fancy indexing allows you to access array elements using arrays of indices.\n",
        "# Indexação avançada permite acessar elementos usando arrays de índices.\n",
        "# Boolean indexing uses a boolean mask to select elements.\n",
        "# A indexação booleana usa uma máscara para selecionar elementos.\n",
        "\n",
        "arr = np.array([10, 20, 30, 40, 50])\n",
        "indices = [1, 3, 4]\n",
        "print(\"\\nFancy indexing result:\", arr[indices])\n",
        "# Expected output: [20 40 50]\n",
        "\n",
        "mask = arr > 25\n",
        "print(\"Boolean indexing result (elements > 25):\", arr[mask])\n",
        "# Expected output: [30 40 50]\n",
        "\n",
        "# =============================================================================\n",
        "# Section 9: Complex Operations and Broadcasting Combined / Seção 9: Operações Complexas e Broadcasting\n",
        "# =============================================================================\n",
        "# Combining broadcasting with more complex operations.\n",
        "# Combinando broadcasting com operações mais complexas.\n",
        "\n",
        "# Example: Create a 3x3 array and add a vector to each row.\n",
        "matrix = np.array([[1, 2, 3],\n",
        "                   [4, 5, 6],\n",
        "                   [7, 8, 9]])\n",
        "vector = np.array([10, 20, 30])\n",
        "result = matrix + vector  # Broadcasting: vector is added to each row.\n",
        "print(\"\\n3x3 Matrix:\\n\", matrix)\n",
        "print(\"Vector:\", vector)\n",
        "print(\"Matrix after adding vector:\\n\", result)\n",
        "# Expected output:\n",
        "# [[11 22 33]\n",
        "#  [14 25 36]\n",
        "#  [17 28 39]]\n",
        "\n",
        "# =============================================================================\n",
        "# Section 10: Conclusion / Seção 10: Conclusão\n",
        "# =============================================================================\n",
        "# NumPy is a powerful library for numerical computing.\n",
        "# NumPy é uma biblioteca poderosa para computação numérica.\n",
        "# It enables efficient array operations, advanced indexing, statistical analysis, and linear algebra.\n",
        "# Ela permite operações eficientes com arrays, indexação avançada, análise estatística e álgebra linear.\n",
        "#\n",
        "# These concepts are fundamental for data science, machine learning, and scientific computing.\n",
        "# Esses conceitos são fundamentais para ciência de dados, aprendizado de máquina e computação científica.\n",
        "#\n",
        "# You can copy and paste this code into Google Colab to explore and learn more about NumPy.\n",
        "# Você pode copiar e colar este código no Google Colab para explorar e aprender mais sobre NumPy."
      ],
      "metadata": {
        "id": "PMpjF9dBPPa2"
      },
      "execution_count": null,
      "outputs": []
    },
    {
      "cell_type": "markdown",
      "source": [
        "## Exercicio Numpy"
      ],
      "metadata": {
        "id": "LqT8g82wTnUC"
      }
    },
    {
      "cell_type": "code",
      "source": [
        "import numpy as np\n",
        "\n",
        "arr = np.array([1, 2, 3])\n",
        "print(arr)\n",
        "\n",
        "\n",
        "print(arr+2)"
      ],
      "metadata": {
        "colab": {
          "base_uri": "https://localhost:8080/"
        },
        "id": "Rs0gWfb--oi3",
        "outputId": "21b48d2a-b896-4d8f-f063-31f7c7a7ada3"
      },
      "execution_count": null,
      "outputs": [
        {
          "output_type": "stream",
          "name": "stdout",
          "text": [
            "[1 2 3]\n",
            "[3 4 5]\n"
          ]
        }
      ]
    },
    {
      "cell_type": "code",
      "source": [
        "import numpy as np\n",
        "\n",
        "# Using linspace() to create an array / Usando linspace() para criar um array:\n",
        "d = np.linspace(0, 1, 5)  # 5 numbers evenly spaced between 0 and 1\n",
        "print(\"\\nArray using linspace:\", d)"
      ],
      "metadata": {
        "colab": {
          "base_uri": "https://localhost:8080/"
        },
        "id": "yr63YacMQoix",
        "outputId": "5d896fe1-3c89-4005-8a16-a026acc3b3d8"
      },
      "execution_count": null,
      "outputs": [
        {
          "output_type": "stream",
          "name": "stdout",
          "text": [
            "\n",
            "Array using linspace: [0.   0.25 0.5  0.75 1.  ]\n"
          ]
        }
      ]
    },
    {
      "cell_type": "code",
      "source": [
        "arr2d = np.array([[1, 2, 3], [4, 5, 6], [7, 8, 9]])\n",
        "print(\"\\n2D array:\\n\", arr2d)\n",
        "print(\"Element at row 1, col 2:\", arr2d[1, 2])  # Expected: 6\n",
        "print(\"Slice of 2D array (rows 0-1, cols 1-3):\\n\", arr2d[0:2, 1:3])"
      ],
      "metadata": {
        "colab": {
          "base_uri": "https://localhost:8080/"
        },
        "id": "Ttd2lMesTr-J",
        "outputId": "27c9f5a5-eb09-491b-89b3-f20b1bcd38f7"
      },
      "execution_count": null,
      "outputs": [
        {
          "output_type": "stream",
          "name": "stdout",
          "text": [
            "\n",
            "2D array:\n",
            " [[1 2 3]\n",
            " [4 5 6]\n",
            " [7 8 9]]\n",
            "Element at row 1, col 2: 6\n",
            "Slice of 2D array (rows 0-1, cols 1-3):\n",
            " [[2 3]\n",
            " [5 6]]\n"
          ]
        }
      ]
    },
    {
      "cell_type": "code",
      "source": [
        "import numpy as np\n",
        "\n",
        "c = np.linspace(5,11, num=16)\n",
        "\n",
        "c_tamanho_total = c.itemsize * c.size\n",
        "\n",
        "\n",
        "print(c, \"\\n\", c_tamanho_total, \"\\n\")\n",
        "\n",
        "c1 = c.reshape (4,4)\n",
        "\n",
        "c1_tamanho_total = c1.itemsize * c1.size\n",
        "\n",
        "print(c1, \"\\n\", c1_tamanho_total)"
      ],
      "metadata": {
        "colab": {
          "base_uri": "https://localhost:8080/"
        },
        "id": "o6owD1p3fK7Q",
        "outputId": "c88afbc1-bdae-4148-dd9b-c74108af448a"
      },
      "execution_count": null,
      "outputs": [
        {
          "output_type": "stream",
          "name": "stdout",
          "text": [
            "[ 5.   5.4  5.8  6.2  6.6  7.   7.4  7.8  8.2  8.6  9.   9.4  9.8 10.2\n",
            " 10.6 11. ] \n",
            " 128 \n",
            "\n",
            "[[ 5.   5.4  5.8  6.2]\n",
            " [ 6.6  7.   7.4  7.8]\n",
            " [ 8.2  8.6  9.   9.4]\n",
            " [ 9.8 10.2 10.6 11. ]] \n",
            " 128\n"
          ]
        }
      ]
    },
    {
      "cell_type": "markdown",
      "source": [
        "# **13 - Pandas**"
      ],
      "metadata": {
        "id": "ozgohExKPrnR"
      }
    },
    {
      "cell_type": "code",
      "source": [
        "# 🐼 Guia Completo de Pandas para Análise de Dados 📊\n",
        "\n",
        "# @title ##1. Introdução ao Pandas\n",
        "# O que é Pandas?\n",
        "# Pandas é uma biblioteca Python de código aberto essencial para análise de dados. Ela oferece estruturas de dados de alto desempenho e fáceis de usar, como Series (1D) e DataFrame (2D), permitindo manipulação e análise eficientes de dados tabulares.\n",
        "\n",
        "# Por que usar Pandas?\n",
        "# - Facilidade de manipulação de dados.\n",
        "# - Rápida limpeza e preparação de dados.\n",
        "# - Poderosa análise de dados.\n",
        "# - Integração com outras bibliotecas Python (NumPy, Matplotlib, scikit-learn).\n",
        "\n",
        "# Instalação e importação:\n",
        "import pandas as pd\n",
        "import numpy as np\n",
        "from io import StringIO"
      ],
      "metadata": {
        "id": "UTDW5OkB0VD8"
      },
      "execution_count": null,
      "outputs": []
    },
    {
      "cell_type": "code",
      "source": [
        "# @title ##2. Estruturas de Dados Fundamentais: Series e DataFrame\n",
        "# 2.1 Series\n",
        "# Criação de Series:\n",
        "series_ex1 = pd.Series([10, 20, 30, 40, 50]) # Serie criada a partir de uma lista\n",
        "series_ex2 = pd.Series([10, 20, 30, 40, 50], index=['a', 'b', 'c', 'd', 'e']) # Serie criada a partir de uma lista com indexação personalizada.\n",
        "\n",
        "print('\\nCriação de Series a partir de uma lista\\n', series_ex1)\n",
        "print('\\nCriação de  a partir de uma lista com índice definido\\n',series_ex2)\n",
        "\n",
        "# Indexação e seleção em Series:\n",
        "print('\\nSeleção de séries\\n', series_ex2['b']) # Resultado: 20\n",
        "print('\\nSeleção de séries\\n', series_ex2[1:4]) # Resultado: b 20, c 30, d 40\n",
        "\n",
        "# Operações básicas com Series\n",
        "print(series_ex2 * 2)\n",
        "\n",
        "# 2.2 DataFrame\n",
        "# Criação de DataFrames:\n",
        "data = {\n",
        "    'Nome': ['Alice', 'Bob', 'Charlie', 'David'],\n",
        "    'Idade': [25, 30, 35, 40],\n",
        "    'Cidade': ['São Paulo', 'Rio de Janeiro', 'Belo Horizonte', 'Salvador']\n",
        "}\n",
        "df = pd.DataFrame(data)\n",
        "print('\\nCriação de DataFrame\\n', df)\n",
        "\n",
        "# Leitura de dados de arquivos CSV:\n",
        "csv_data = \"\"\"Nome,Idade,Cidade\n",
        "John,28,New York\n",
        "Alice,22,London\n",
        "Bob,34,Paris\"\"\"\n",
        "df_csv = pd.read_csv(StringIO(csv_data))\n",
        "print('\\nArquivo CSV\\n', df_csv)\n",
        "\n",
        "#Leitura de dados de arquivos excel\n",
        "data_excel = {\n",
        "    'Product': ['Laptop', 'Tablet', 'Phone'],\n",
        "    'Price': [1200, 500, 800]\n",
        "}\n",
        "df_excel_temp = pd.DataFrame(data_excel)\n",
        "df_excel_temp.to_excel('products.xlsx', index=False)\n",
        "df_excel = pd.read_excel('products.xlsx')\n",
        "print(\"\\nDataFrame from Excel file:\")\n",
        "print(df_excel)\n",
        "\n",
        "#Explicação Inplace = true.\n",
        "df_teste = df.copy()\n",
        "df_teste.rename(columns={'Idade':'Anos'}, inplace = True)\n",
        "print(df_teste)"
      ],
      "metadata": {
        "id": "HPhORmFN0jBK",
        "colab": {
          "base_uri": "https://localhost:8080/"
        },
        "outputId": "4c76dadc-6c7b-422b-f5df-26875c1dd661"
      },
      "execution_count": null,
      "outputs": [
        {
          "output_type": "stream",
          "name": "stdout",
          "text": [
            "\n",
            "Criação de Series a partir de uma lista\n",
            " 0    10\n",
            "1    20\n",
            "2    30\n",
            "3    40\n",
            "4    50\n",
            "dtype: int64\n",
            "\n",
            "Criação de  a partir de uma lista com índice definido\n",
            " a    10\n",
            "b    20\n",
            "c    30\n",
            "d    40\n",
            "e    50\n",
            "dtype: int64\n",
            "\n",
            "Seleção de séries\n",
            " 20\n",
            "\n",
            "Seleção de séries\n",
            " b    20\n",
            "c    30\n",
            "d    40\n",
            "dtype: int64\n",
            "a     20\n",
            "b     40\n",
            "c     60\n",
            "d     80\n",
            "e    100\n",
            "dtype: int64\n",
            "\n",
            "Criação de DataFrame\n",
            "       Nome  Idade          Cidade\n",
            "0    Alice     25       São Paulo\n",
            "1      Bob     30  Rio de Janeiro\n",
            "2  Charlie     35  Belo Horizonte\n",
            "3    David     40        Salvador\n",
            "\n",
            "Arquivo CSV\n",
            "     Nome  Idade    Cidade\n",
            "0   John     28  New York\n",
            "1  Alice     22    London\n",
            "2    Bob     34     Paris\n",
            "\n",
            "DataFrame from Excel file:\n",
            "  Product  Price\n",
            "0  Laptop   1200\n",
            "1  Tablet    500\n",
            "2   Phone    800\n",
            "      Nome  Anos          Cidade\n",
            "0    Alice    25       São Paulo\n",
            "1      Bob    30  Rio de Janeiro\n",
            "2  Charlie    35  Belo Horizonte\n",
            "3    David    40        Salvador\n"
          ]
        }
      ]
    },
    {
      "cell_type": "code",
      "source": [
        "data = {\n",
        "    'Nome': ['eduardo', 'lorena', 'Maitê', 'Celeste'],\n",
        "    'Idade': [8, 9, 10, 11],\n",
        "    'Cidade':['RJ', \"SP\", 'DF', 'MG']\n",
        "}\n",
        "df = pd.DataFrame(data)\n",
        "print(df)\n"
      ],
      "metadata": {
        "colab": {
          "base_uri": "https://localhost:8080/"
        },
        "id": "w6HqAW998P3O",
        "outputId": "83db5daa-1226-410a-f867-1a585eb0dc10"
      },
      "execution_count": null,
      "outputs": [
        {
          "output_type": "stream",
          "name": "stdout",
          "text": [
            "      Nome  Idade Cidade\n",
            "0  eduardo      8     RJ\n",
            "1   lorena      9     SP\n",
            "2    Maitê     10     DF\n",
            "3  Celeste     11     MG\n"
          ]
        }
      ]
    },
    {
      "cell_type": "code",
      "source": [
        "# @title ##3. Manipulação de DataFrames\n",
        "# Indexação e seleção:\n",
        "\n",
        "data = {\n",
        "    'Nome': ['Alice', 'Bob', 'Charlie', 'David'],\n",
        "    'Idade': [25, 30, 35, 40],\n",
        "    'Cidade': ['São Paulo', 'Rio de Janeiro', 'Belo Horizonte', 'Salvador']\n",
        "}\n",
        "df = pd.DataFrame(data)\n",
        "\n",
        "print('\\nData Frame original:\\n', df,'\\n')\n",
        "\n",
        "print('\\nData Frame df.loc[1:2]:\\n',df.loc[1:2],'\\n') # Seleção com base em rótulos\n",
        "print('\\nData Frame df.iloc[0:2, 0:2]:\\n',df.iloc[0:2, 0:2],'\\n') # Seleção com base em índices inteiros, quantidade de linhas e colunas\n",
        "\n",
        "# Adição, remoção e renomeação de colunas:\n",
        "df['Salario'] = [70000, 80000, 90000, 85000]\n",
        "print('\\nData Frame df[\\'Salario\\'] = [70000, 80000, 90000, 85000]\\n', df,'\\n')\n",
        "\n",
        "df_dropped = df.drop(columns=['Cidade'])\n",
        "print('\\nData Frame df.drop(columns=[\\'Cidade\\'])\\n', df_dropped,'\\n')\n",
        "\n",
        "df_renamed = df.rename(columns={'Nome': 'Nome Completo', 'Idade': 'Anos'})\n",
        "print('\\nData Frame df.rename(columns={\\'Nome\\': \\'Nome Completo\\',\\'Idade\\': \\'Anos\\'})\\n', df_renamed,'\\n')\n",
        "\n",
        "# Filtragem de linhas:\n",
        "filtered_df = df[df['Idade'] > 30]\n",
        "print('\\nData Frame df[df[\\'Idade\\'] > 30]\\n', filtered_df,'\\n')\n",
        "\n",
        "# Ordenação de DataFrames:\n",
        "sorted_df = df.sort_values(by='Salario', ascending=False)\n",
        "print('\\nData Frame df.sort_values(by=\\'Salario\\', ascending=False)\\n', sorted_df,'\\n')\n",
        "\n",
        "#Tipos de dados\n",
        "print('\\n',df.dtypes,'\\n')\n",
        "df['Idade'] = df['Idade'].astype('float64')\n",
        "\n",
        "print('\\nData Frame df[\\'Salario\\']\\n',df['Salario'])"
      ],
      "metadata": {
        "id": "T0orS492251P",
        "colab": {
          "base_uri": "https://localhost:8080/"
        },
        "outputId": "2c091996-a8d5-4516-f5c1-3e444653e81f"
      },
      "execution_count": null,
      "outputs": [
        {
          "output_type": "stream",
          "name": "stdout",
          "text": [
            "\n",
            "Data Frame original:\n",
            "       Nome  Idade          Cidade\n",
            "0    Alice     25       São Paulo\n",
            "1      Bob     30  Rio de Janeiro\n",
            "2  Charlie     35  Belo Horizonte\n",
            "3    David     40        Salvador \n",
            "\n",
            "\n",
            "Data Frame df.loc[1:2]:\n",
            "       Nome  Idade          Cidade\n",
            "1      Bob     30  Rio de Janeiro\n",
            "2  Charlie     35  Belo Horizonte \n",
            "\n",
            "\n",
            "Data Frame df.iloc[0:2, 0:2]:\n",
            "     Nome  Idade\n",
            "0  Alice     25\n",
            "1    Bob     30 \n",
            "\n",
            "\n",
            "Data Frame df['Salario'] = [70000, 80000, 90000, 85000]\n",
            "       Nome  Idade          Cidade  Salario\n",
            "0    Alice     25       São Paulo    70000\n",
            "1      Bob     30  Rio de Janeiro    80000\n",
            "2  Charlie     35  Belo Horizonte    90000\n",
            "3    David     40        Salvador    85000 \n",
            "\n",
            "\n",
            "Data Frame df.drop(columns=['Cidade'])\n",
            "       Nome  Idade  Salario\n",
            "0    Alice     25    70000\n",
            "1      Bob     30    80000\n",
            "2  Charlie     35    90000\n",
            "3    David     40    85000 \n",
            "\n",
            "\n",
            "Data Frame df.rename(columns={'Nome': 'Nome Completo','Idade': 'Anos'})\n",
            "   Nome Completo  Anos          Cidade  Salario\n",
            "0         Alice    25       São Paulo    70000\n",
            "1           Bob    30  Rio de Janeiro    80000\n",
            "2       Charlie    35  Belo Horizonte    90000\n",
            "3         David    40        Salvador    85000 \n",
            "\n",
            "\n",
            "Data Frame df[df['Idade'] > 30]\n",
            "       Nome  Idade          Cidade  Salario\n",
            "2  Charlie     35  Belo Horizonte    90000\n",
            "3    David     40        Salvador    85000 \n",
            "\n",
            "\n",
            "Data Frame df.sort_values(by='Salario', ascending=False)\n",
            "       Nome  Idade          Cidade  Salario\n",
            "2  Charlie     35  Belo Horizonte    90000\n",
            "3    David     40        Salvador    85000\n",
            "1      Bob     30  Rio de Janeiro    80000\n",
            "0    Alice     25       São Paulo    70000 \n",
            "\n",
            "\n",
            " Nome       object\n",
            "Idade       int64\n",
            "Cidade     object\n",
            "Salario     int64\n",
            "dtype: object \n",
            "\n",
            "\n",
            "Data Frame df['Salario']\n",
            " 0    70000\n",
            "1    80000\n",
            "2    90000\n",
            "3    85000\n",
            "Name: Salario, dtype: int64\n"
          ]
        }
      ]
    },
    {
      "cell_type": "code",
      "source": [
        "# @title ##4. Limpeza e Tratamento de Dados\n",
        "data_nan = {'A': [1, 2, np.nan, 4], 'B': [5, np.nan, np.nan, 8], 'C': [9, 10, 11, 12]}\n",
        "df_nan = pd.DataFrame(data_nan)\n",
        "\n",
        "# Identificação e tratamento de valores ausentes:\n",
        "print(df_nan.isna())\n",
        "df_filled = df_nan.fillna(0)\n",
        "df_dropped_nan = df_nan.dropna()\n",
        "df_dropped_nan_colunas = df_nan.dropna(axis = 1)\n",
        "\n",
        "# Tratamento de dados duplicados:\n",
        "df_duplicated = pd.DataFrame({'coluna1': [1, 2, 2, 3, 3, 3], 'coluna2': ['a', 'b', 'b', 'c', 'c', 'c']})\n",
        "print(df_duplicated.duplicated())\n",
        "df_no_duplicates = df_duplicated.drop_duplicates()\n",
        "print(df_no_duplicates)"
      ],
      "metadata": {
        "id": "Otq32pE602Qv"
      },
      "execution_count": null,
      "outputs": []
    },
    {
      "cell_type": "code",
      "source": [
        "# @title ##5. Agregação e Agrupamento de Dados\n",
        "grouped = df.groupby('Cidade').mean()\n",
        "grouped_agg = df.groupby('Cidade').agg({'Salario': ['mean', 'sum'], 'Idade': 'count'})\n",
        "\n",
        "def faixa_salario(salario):\n",
        "    if salario > 80000:\n",
        "        return \"Alto\"\n",
        "    else:\n",
        "        return \"Baixo\"\n",
        "\n",
        "df['faixa_salarial'] = df['Salario'].apply(faixa_salario)\n",
        "print(df)"
      ],
      "metadata": {
        "id": "JndyPUXX2_fA",
        "colab": {
          "base_uri": "https://localhost:8080/",
          "height": 408
        },
        "outputId": "320befc7-9cb9-42b1-ff46-9b1d12fe133a"
      },
      "execution_count": null,
      "outputs": [
        {
          "output_type": "error",
          "ename": "TypeError",
          "evalue": "agg function failed [how->mean,dtype->object]",
          "traceback": [
            "\u001b[0;31m---------------------------------------------------------------------------\u001b[0m",
            "\u001b[0;31mTypeError\u001b[0m                                 Traceback (most recent call last)",
            "\u001b[0;32m/usr/local/lib/python3.11/dist-packages/pandas/core/groupby/groupby.py\u001b[0m in \u001b[0;36m_agg_py_fallback\u001b[0;34m(self, how, values, ndim, alt)\u001b[0m\n\u001b[1;32m   1941\u001b[0m         \u001b[0;32mtry\u001b[0m\u001b[0;34m:\u001b[0m\u001b[0;34m\u001b[0m\u001b[0;34m\u001b[0m\u001b[0m\n\u001b[0;32m-> 1942\u001b[0;31m             \u001b[0mres_values\u001b[0m \u001b[0;34m=\u001b[0m \u001b[0mself\u001b[0m\u001b[0;34m.\u001b[0m\u001b[0m_grouper\u001b[0m\u001b[0;34m.\u001b[0m\u001b[0magg_series\u001b[0m\u001b[0;34m(\u001b[0m\u001b[0mser\u001b[0m\u001b[0;34m,\u001b[0m \u001b[0malt\u001b[0m\u001b[0;34m,\u001b[0m \u001b[0mpreserve_dtype\u001b[0m\u001b[0;34m=\u001b[0m\u001b[0;32mTrue\u001b[0m\u001b[0;34m)\u001b[0m\u001b[0;34m\u001b[0m\u001b[0;34m\u001b[0m\u001b[0m\n\u001b[0m\u001b[1;32m   1943\u001b[0m         \u001b[0;32mexcept\u001b[0m \u001b[0mException\u001b[0m \u001b[0;32mas\u001b[0m \u001b[0merr\u001b[0m\u001b[0;34m:\u001b[0m\u001b[0;34m\u001b[0m\u001b[0;34m\u001b[0m\u001b[0m\n",
            "\u001b[0;32m/usr/local/lib/python3.11/dist-packages/pandas/core/groupby/ops.py\u001b[0m in \u001b[0;36magg_series\u001b[0;34m(self, obj, func, preserve_dtype)\u001b[0m\n\u001b[1;32m    863\u001b[0m \u001b[0;34m\u001b[0m\u001b[0m\n\u001b[0;32m--> 864\u001b[0;31m         \u001b[0mresult\u001b[0m \u001b[0;34m=\u001b[0m \u001b[0mself\u001b[0m\u001b[0;34m.\u001b[0m\u001b[0m_aggregate_series_pure_python\u001b[0m\u001b[0;34m(\u001b[0m\u001b[0mobj\u001b[0m\u001b[0;34m,\u001b[0m \u001b[0mfunc\u001b[0m\u001b[0;34m)\u001b[0m\u001b[0;34m\u001b[0m\u001b[0;34m\u001b[0m\u001b[0m\n\u001b[0m\u001b[1;32m    865\u001b[0m \u001b[0;34m\u001b[0m\u001b[0m\n",
            "\u001b[0;32m/usr/local/lib/python3.11/dist-packages/pandas/core/groupby/ops.py\u001b[0m in \u001b[0;36m_aggregate_series_pure_python\u001b[0;34m(self, obj, func)\u001b[0m\n\u001b[1;32m    884\u001b[0m         \u001b[0;32mfor\u001b[0m \u001b[0mi\u001b[0m\u001b[0;34m,\u001b[0m \u001b[0mgroup\u001b[0m \u001b[0;32min\u001b[0m \u001b[0menumerate\u001b[0m\u001b[0;34m(\u001b[0m\u001b[0msplitter\u001b[0m\u001b[0;34m)\u001b[0m\u001b[0;34m:\u001b[0m\u001b[0;34m\u001b[0m\u001b[0;34m\u001b[0m\u001b[0m\n\u001b[0;32m--> 885\u001b[0;31m             \u001b[0mres\u001b[0m \u001b[0;34m=\u001b[0m \u001b[0mfunc\u001b[0m\u001b[0;34m(\u001b[0m\u001b[0mgroup\u001b[0m\u001b[0;34m)\u001b[0m\u001b[0;34m\u001b[0m\u001b[0;34m\u001b[0m\u001b[0m\n\u001b[0m\u001b[1;32m    886\u001b[0m             \u001b[0mres\u001b[0m \u001b[0;34m=\u001b[0m \u001b[0mextract_result\u001b[0m\u001b[0;34m(\u001b[0m\u001b[0mres\u001b[0m\u001b[0;34m)\u001b[0m\u001b[0;34m\u001b[0m\u001b[0;34m\u001b[0m\u001b[0m\n",
            "\u001b[0;32m/usr/local/lib/python3.11/dist-packages/pandas/core/groupby/groupby.py\u001b[0m in \u001b[0;36m<lambda>\u001b[0;34m(x)\u001b[0m\n\u001b[1;32m   2453\u001b[0m                 \u001b[0;34m\"mean\"\u001b[0m\u001b[0;34m,\u001b[0m\u001b[0;34m\u001b[0m\u001b[0;34m\u001b[0m\u001b[0m\n\u001b[0;32m-> 2454\u001b[0;31m                 \u001b[0malt\u001b[0m\u001b[0;34m=\u001b[0m\u001b[0;32mlambda\u001b[0m \u001b[0mx\u001b[0m\u001b[0;34m:\u001b[0m \u001b[0mSeries\u001b[0m\u001b[0;34m(\u001b[0m\u001b[0mx\u001b[0m\u001b[0;34m,\u001b[0m \u001b[0mcopy\u001b[0m\u001b[0;34m=\u001b[0m\u001b[0;32mFalse\u001b[0m\u001b[0;34m)\u001b[0m\u001b[0;34m.\u001b[0m\u001b[0mmean\u001b[0m\u001b[0;34m(\u001b[0m\u001b[0mnumeric_only\u001b[0m\u001b[0;34m=\u001b[0m\u001b[0mnumeric_only\u001b[0m\u001b[0;34m)\u001b[0m\u001b[0;34m,\u001b[0m\u001b[0;34m\u001b[0m\u001b[0;34m\u001b[0m\u001b[0m\n\u001b[0m\u001b[1;32m   2455\u001b[0m                 \u001b[0mnumeric_only\u001b[0m\u001b[0;34m=\u001b[0m\u001b[0mnumeric_only\u001b[0m\u001b[0;34m,\u001b[0m\u001b[0;34m\u001b[0m\u001b[0;34m\u001b[0m\u001b[0m\n",
            "\u001b[0;32m/usr/local/lib/python3.11/dist-packages/pandas/core/series.py\u001b[0m in \u001b[0;36mmean\u001b[0;34m(self, axis, skipna, numeric_only, **kwargs)\u001b[0m\n\u001b[1;32m   6548\u001b[0m     ):\n\u001b[0;32m-> 6549\u001b[0;31m         \u001b[0;32mreturn\u001b[0m \u001b[0mNDFrame\u001b[0m\u001b[0;34m.\u001b[0m\u001b[0mmean\u001b[0m\u001b[0;34m(\u001b[0m\u001b[0mself\u001b[0m\u001b[0;34m,\u001b[0m \u001b[0maxis\u001b[0m\u001b[0;34m,\u001b[0m \u001b[0mskipna\u001b[0m\u001b[0;34m,\u001b[0m \u001b[0mnumeric_only\u001b[0m\u001b[0;34m,\u001b[0m \u001b[0;34m**\u001b[0m\u001b[0mkwargs\u001b[0m\u001b[0;34m)\u001b[0m\u001b[0;34m\u001b[0m\u001b[0;34m\u001b[0m\u001b[0m\n\u001b[0m\u001b[1;32m   6550\u001b[0m \u001b[0;34m\u001b[0m\u001b[0m\n",
            "\u001b[0;32m/usr/local/lib/python3.11/dist-packages/pandas/core/generic.py\u001b[0m in \u001b[0;36mmean\u001b[0;34m(self, axis, skipna, numeric_only, **kwargs)\u001b[0m\n\u001b[1;32m  12419\u001b[0m     ) -> Series | float:\n\u001b[0;32m> 12420\u001b[0;31m         return self._stat_function(\n\u001b[0m\u001b[1;32m  12421\u001b[0m             \u001b[0;34m\"mean\"\u001b[0m\u001b[0;34m,\u001b[0m \u001b[0mnanops\u001b[0m\u001b[0;34m.\u001b[0m\u001b[0mnanmean\u001b[0m\u001b[0;34m,\u001b[0m \u001b[0maxis\u001b[0m\u001b[0;34m,\u001b[0m \u001b[0mskipna\u001b[0m\u001b[0;34m,\u001b[0m \u001b[0mnumeric_only\u001b[0m\u001b[0;34m,\u001b[0m \u001b[0;34m**\u001b[0m\u001b[0mkwargs\u001b[0m\u001b[0;34m\u001b[0m\u001b[0;34m\u001b[0m\u001b[0m\n",
            "\u001b[0;32m/usr/local/lib/python3.11/dist-packages/pandas/core/generic.py\u001b[0m in \u001b[0;36m_stat_function\u001b[0;34m(self, name, func, axis, skipna, numeric_only, **kwargs)\u001b[0m\n\u001b[1;32m  12376\u001b[0m \u001b[0;34m\u001b[0m\u001b[0m\n\u001b[0;32m> 12377\u001b[0;31m         return self._reduce(\n\u001b[0m\u001b[1;32m  12378\u001b[0m             \u001b[0mfunc\u001b[0m\u001b[0;34m,\u001b[0m \u001b[0mname\u001b[0m\u001b[0;34m=\u001b[0m\u001b[0mname\u001b[0m\u001b[0;34m,\u001b[0m \u001b[0maxis\u001b[0m\u001b[0;34m=\u001b[0m\u001b[0maxis\u001b[0m\u001b[0;34m,\u001b[0m \u001b[0mskipna\u001b[0m\u001b[0;34m=\u001b[0m\u001b[0mskipna\u001b[0m\u001b[0;34m,\u001b[0m \u001b[0mnumeric_only\u001b[0m\u001b[0;34m=\u001b[0m\u001b[0mnumeric_only\u001b[0m\u001b[0;34m\u001b[0m\u001b[0;34m\u001b[0m\u001b[0m\n",
            "\u001b[0;32m/usr/local/lib/python3.11/dist-packages/pandas/core/series.py\u001b[0m in \u001b[0;36m_reduce\u001b[0;34m(self, op, name, axis, skipna, numeric_only, filter_type, **kwds)\u001b[0m\n\u001b[1;32m   6456\u001b[0m                 )\n\u001b[0;32m-> 6457\u001b[0;31m             \u001b[0;32mreturn\u001b[0m \u001b[0mop\u001b[0m\u001b[0;34m(\u001b[0m\u001b[0mdelegate\u001b[0m\u001b[0;34m,\u001b[0m \u001b[0mskipna\u001b[0m\u001b[0;34m=\u001b[0m\u001b[0mskipna\u001b[0m\u001b[0;34m,\u001b[0m \u001b[0;34m**\u001b[0m\u001b[0mkwds\u001b[0m\u001b[0;34m)\u001b[0m\u001b[0;34m\u001b[0m\u001b[0;34m\u001b[0m\u001b[0m\n\u001b[0m\u001b[1;32m   6458\u001b[0m \u001b[0;34m\u001b[0m\u001b[0m\n",
            "\u001b[0;32m/usr/local/lib/python3.11/dist-packages/pandas/core/nanops.py\u001b[0m in \u001b[0;36mf\u001b[0;34m(values, axis, skipna, **kwds)\u001b[0m\n\u001b[1;32m    146\u001b[0m             \u001b[0;32melse\u001b[0m\u001b[0;34m:\u001b[0m\u001b[0;34m\u001b[0m\u001b[0;34m\u001b[0m\u001b[0m\n\u001b[0;32m--> 147\u001b[0;31m                 \u001b[0mresult\u001b[0m \u001b[0;34m=\u001b[0m \u001b[0malt\u001b[0m\u001b[0;34m(\u001b[0m\u001b[0mvalues\u001b[0m\u001b[0;34m,\u001b[0m \u001b[0maxis\u001b[0m\u001b[0;34m=\u001b[0m\u001b[0maxis\u001b[0m\u001b[0;34m,\u001b[0m \u001b[0mskipna\u001b[0m\u001b[0;34m=\u001b[0m\u001b[0mskipna\u001b[0m\u001b[0;34m,\u001b[0m \u001b[0;34m**\u001b[0m\u001b[0mkwds\u001b[0m\u001b[0;34m)\u001b[0m\u001b[0;34m\u001b[0m\u001b[0;34m\u001b[0m\u001b[0m\n\u001b[0m\u001b[1;32m    148\u001b[0m \u001b[0;34m\u001b[0m\u001b[0m\n",
            "\u001b[0;32m/usr/local/lib/python3.11/dist-packages/pandas/core/nanops.py\u001b[0m in \u001b[0;36mnew_func\u001b[0;34m(values, axis, skipna, mask, **kwargs)\u001b[0m\n\u001b[1;32m    403\u001b[0m \u001b[0;34m\u001b[0m\u001b[0m\n\u001b[0;32m--> 404\u001b[0;31m         \u001b[0mresult\u001b[0m \u001b[0;34m=\u001b[0m \u001b[0mfunc\u001b[0m\u001b[0;34m(\u001b[0m\u001b[0mvalues\u001b[0m\u001b[0;34m,\u001b[0m \u001b[0maxis\u001b[0m\u001b[0;34m=\u001b[0m\u001b[0maxis\u001b[0m\u001b[0;34m,\u001b[0m \u001b[0mskipna\u001b[0m\u001b[0;34m=\u001b[0m\u001b[0mskipna\u001b[0m\u001b[0;34m,\u001b[0m \u001b[0mmask\u001b[0m\u001b[0;34m=\u001b[0m\u001b[0mmask\u001b[0m\u001b[0;34m,\u001b[0m \u001b[0;34m**\u001b[0m\u001b[0mkwargs\u001b[0m\u001b[0;34m)\u001b[0m\u001b[0;34m\u001b[0m\u001b[0;34m\u001b[0m\u001b[0m\n\u001b[0m\u001b[1;32m    405\u001b[0m \u001b[0;34m\u001b[0m\u001b[0m\n",
            "\u001b[0;32m/usr/local/lib/python3.11/dist-packages/pandas/core/nanops.py\u001b[0m in \u001b[0;36mnanmean\u001b[0;34m(values, axis, skipna, mask)\u001b[0m\n\u001b[1;32m    719\u001b[0m     \u001b[0mthe_sum\u001b[0m \u001b[0;34m=\u001b[0m \u001b[0mvalues\u001b[0m\u001b[0;34m.\u001b[0m\u001b[0msum\u001b[0m\u001b[0;34m(\u001b[0m\u001b[0maxis\u001b[0m\u001b[0;34m,\u001b[0m \u001b[0mdtype\u001b[0m\u001b[0;34m=\u001b[0m\u001b[0mdtype_sum\u001b[0m\u001b[0;34m)\u001b[0m\u001b[0;34m\u001b[0m\u001b[0;34m\u001b[0m\u001b[0m\n\u001b[0;32m--> 720\u001b[0;31m     \u001b[0mthe_sum\u001b[0m \u001b[0;34m=\u001b[0m \u001b[0m_ensure_numeric\u001b[0m\u001b[0;34m(\u001b[0m\u001b[0mthe_sum\u001b[0m\u001b[0;34m)\u001b[0m\u001b[0;34m\u001b[0m\u001b[0;34m\u001b[0m\u001b[0m\n\u001b[0m\u001b[1;32m    721\u001b[0m \u001b[0;34m\u001b[0m\u001b[0m\n",
            "\u001b[0;32m/usr/local/lib/python3.11/dist-packages/pandas/core/nanops.py\u001b[0m in \u001b[0;36m_ensure_numeric\u001b[0;34m(x)\u001b[0m\n\u001b[1;32m   1700\u001b[0m             \u001b[0;31m# GH#44008, GH#36703 avoid casting e.g. strings to numeric\u001b[0m\u001b[0;34m\u001b[0m\u001b[0;34m\u001b[0m\u001b[0m\n\u001b[0;32m-> 1701\u001b[0;31m             \u001b[0;32mraise\u001b[0m \u001b[0mTypeError\u001b[0m\u001b[0;34m(\u001b[0m\u001b[0;34mf\"Could not convert string '{x}' to numeric\"\u001b[0m\u001b[0;34m)\u001b[0m\u001b[0;34m\u001b[0m\u001b[0;34m\u001b[0m\u001b[0m\n\u001b[0m\u001b[1;32m   1702\u001b[0m         \u001b[0;32mtry\u001b[0m\u001b[0;34m:\u001b[0m\u001b[0;34m\u001b[0m\u001b[0;34m\u001b[0m\u001b[0m\n",
            "\u001b[0;31mTypeError\u001b[0m: Could not convert string 'Charlie' to numeric",
            "\nThe above exception was the direct cause of the following exception:\n",
            "\u001b[0;31mTypeError\u001b[0m                                 Traceback (most recent call last)",
            "\u001b[0;32m<ipython-input-27-968af503c42b>\u001b[0m in \u001b[0;36m<cell line: 0>\u001b[0;34m()\u001b[0m\n\u001b[1;32m      1\u001b[0m \u001b[0;31m# @title ##5. Agregação e Agrupamento de Dados\u001b[0m\u001b[0;34m\u001b[0m\u001b[0;34m\u001b[0m\u001b[0m\n\u001b[0;32m----> 2\u001b[0;31m \u001b[0mgrouped\u001b[0m \u001b[0;34m=\u001b[0m \u001b[0mdf\u001b[0m\u001b[0;34m.\u001b[0m\u001b[0mgroupby\u001b[0m\u001b[0;34m(\u001b[0m\u001b[0;34m'Cidade'\u001b[0m\u001b[0;34m)\u001b[0m\u001b[0;34m.\u001b[0m\u001b[0mmean\u001b[0m\u001b[0;34m(\u001b[0m\u001b[0;34m)\u001b[0m\u001b[0;34m\u001b[0m\u001b[0;34m\u001b[0m\u001b[0m\n\u001b[0m\u001b[1;32m      3\u001b[0m \u001b[0mgrouped_agg\u001b[0m \u001b[0;34m=\u001b[0m \u001b[0mdf\u001b[0m\u001b[0;34m.\u001b[0m\u001b[0mgroupby\u001b[0m\u001b[0;34m(\u001b[0m\u001b[0;34m'Cidade'\u001b[0m\u001b[0;34m)\u001b[0m\u001b[0;34m.\u001b[0m\u001b[0magg\u001b[0m\u001b[0;34m(\u001b[0m\u001b[0;34m{\u001b[0m\u001b[0;34m'Salario'\u001b[0m\u001b[0;34m:\u001b[0m \u001b[0;34m[\u001b[0m\u001b[0;34m'mean'\u001b[0m\u001b[0;34m,\u001b[0m \u001b[0;34m'sum'\u001b[0m\u001b[0;34m]\u001b[0m\u001b[0;34m,\u001b[0m \u001b[0;34m'Idade'\u001b[0m\u001b[0;34m:\u001b[0m \u001b[0;34m'count'\u001b[0m\u001b[0;34m}\u001b[0m\u001b[0;34m)\u001b[0m\u001b[0;34m\u001b[0m\u001b[0;34m\u001b[0m\u001b[0m\n\u001b[1;32m      4\u001b[0m \u001b[0;34m\u001b[0m\u001b[0m\n\u001b[1;32m      5\u001b[0m \u001b[0;32mdef\u001b[0m \u001b[0mfaixa_salario\u001b[0m\u001b[0;34m(\u001b[0m\u001b[0msalario\u001b[0m\u001b[0;34m)\u001b[0m\u001b[0;34m:\u001b[0m\u001b[0;34m\u001b[0m\u001b[0;34m\u001b[0m\u001b[0m\n",
            "\u001b[0;32m/usr/local/lib/python3.11/dist-packages/pandas/core/groupby/groupby.py\u001b[0m in \u001b[0;36mmean\u001b[0;34m(self, numeric_only, engine, engine_kwargs)\u001b[0m\n\u001b[1;32m   2450\u001b[0m             )\n\u001b[1;32m   2451\u001b[0m         \u001b[0;32melse\u001b[0m\u001b[0;34m:\u001b[0m\u001b[0;34m\u001b[0m\u001b[0;34m\u001b[0m\u001b[0m\n\u001b[0;32m-> 2452\u001b[0;31m             result = self._cython_agg_general(\n\u001b[0m\u001b[1;32m   2453\u001b[0m                 \u001b[0;34m\"mean\"\u001b[0m\u001b[0;34m,\u001b[0m\u001b[0;34m\u001b[0m\u001b[0;34m\u001b[0m\u001b[0m\n\u001b[1;32m   2454\u001b[0m                 \u001b[0malt\u001b[0m\u001b[0;34m=\u001b[0m\u001b[0;32mlambda\u001b[0m \u001b[0mx\u001b[0m\u001b[0;34m:\u001b[0m \u001b[0mSeries\u001b[0m\u001b[0;34m(\u001b[0m\u001b[0mx\u001b[0m\u001b[0;34m,\u001b[0m \u001b[0mcopy\u001b[0m\u001b[0;34m=\u001b[0m\u001b[0;32mFalse\u001b[0m\u001b[0;34m)\u001b[0m\u001b[0;34m.\u001b[0m\u001b[0mmean\u001b[0m\u001b[0;34m(\u001b[0m\u001b[0mnumeric_only\u001b[0m\u001b[0;34m=\u001b[0m\u001b[0mnumeric_only\u001b[0m\u001b[0;34m)\u001b[0m\u001b[0;34m,\u001b[0m\u001b[0;34m\u001b[0m\u001b[0;34m\u001b[0m\u001b[0m\n",
            "\u001b[0;32m/usr/local/lib/python3.11/dist-packages/pandas/core/groupby/groupby.py\u001b[0m in \u001b[0;36m_cython_agg_general\u001b[0;34m(self, how, alt, numeric_only, min_count, **kwargs)\u001b[0m\n\u001b[1;32m   1996\u001b[0m             \u001b[0;32mreturn\u001b[0m \u001b[0mresult\u001b[0m\u001b[0;34m\u001b[0m\u001b[0;34m\u001b[0m\u001b[0m\n\u001b[1;32m   1997\u001b[0m \u001b[0;34m\u001b[0m\u001b[0m\n\u001b[0;32m-> 1998\u001b[0;31m         \u001b[0mnew_mgr\u001b[0m \u001b[0;34m=\u001b[0m \u001b[0mdata\u001b[0m\u001b[0;34m.\u001b[0m\u001b[0mgrouped_reduce\u001b[0m\u001b[0;34m(\u001b[0m\u001b[0marray_func\u001b[0m\u001b[0;34m)\u001b[0m\u001b[0;34m\u001b[0m\u001b[0;34m\u001b[0m\u001b[0m\n\u001b[0m\u001b[1;32m   1999\u001b[0m         \u001b[0mres\u001b[0m \u001b[0;34m=\u001b[0m \u001b[0mself\u001b[0m\u001b[0;34m.\u001b[0m\u001b[0m_wrap_agged_manager\u001b[0m\u001b[0;34m(\u001b[0m\u001b[0mnew_mgr\u001b[0m\u001b[0;34m)\u001b[0m\u001b[0;34m\u001b[0m\u001b[0;34m\u001b[0m\u001b[0m\n\u001b[1;32m   2000\u001b[0m         \u001b[0;32mif\u001b[0m \u001b[0mhow\u001b[0m \u001b[0;32min\u001b[0m \u001b[0;34m[\u001b[0m\u001b[0;34m\"idxmin\"\u001b[0m\u001b[0;34m,\u001b[0m \u001b[0;34m\"idxmax\"\u001b[0m\u001b[0;34m]\u001b[0m\u001b[0;34m:\u001b[0m\u001b[0;34m\u001b[0m\u001b[0;34m\u001b[0m\u001b[0m\n",
            "\u001b[0;32m/usr/local/lib/python3.11/dist-packages/pandas/core/internals/managers.py\u001b[0m in \u001b[0;36mgrouped_reduce\u001b[0;34m(self, func)\u001b[0m\n\u001b[1;32m   1467\u001b[0m                 \u001b[0;31m#  while others do not.\u001b[0m\u001b[0;34m\u001b[0m\u001b[0;34m\u001b[0m\u001b[0m\n\u001b[1;32m   1468\u001b[0m                 \u001b[0;32mfor\u001b[0m \u001b[0msb\u001b[0m \u001b[0;32min\u001b[0m \u001b[0mblk\u001b[0m\u001b[0;34m.\u001b[0m\u001b[0m_split\u001b[0m\u001b[0;34m(\u001b[0m\u001b[0;34m)\u001b[0m\u001b[0;34m:\u001b[0m\u001b[0;34m\u001b[0m\u001b[0;34m\u001b[0m\u001b[0m\n\u001b[0;32m-> 1469\u001b[0;31m                     \u001b[0mapplied\u001b[0m \u001b[0;34m=\u001b[0m \u001b[0msb\u001b[0m\u001b[0;34m.\u001b[0m\u001b[0mapply\u001b[0m\u001b[0;34m(\u001b[0m\u001b[0mfunc\u001b[0m\u001b[0;34m)\u001b[0m\u001b[0;34m\u001b[0m\u001b[0;34m\u001b[0m\u001b[0m\n\u001b[0m\u001b[1;32m   1470\u001b[0m                     \u001b[0mresult_blocks\u001b[0m \u001b[0;34m=\u001b[0m \u001b[0mextend_blocks\u001b[0m\u001b[0;34m(\u001b[0m\u001b[0mapplied\u001b[0m\u001b[0;34m,\u001b[0m \u001b[0mresult_blocks\u001b[0m\u001b[0;34m)\u001b[0m\u001b[0;34m\u001b[0m\u001b[0;34m\u001b[0m\u001b[0m\n\u001b[1;32m   1471\u001b[0m             \u001b[0;32melse\u001b[0m\u001b[0;34m:\u001b[0m\u001b[0;34m\u001b[0m\u001b[0;34m\u001b[0m\u001b[0m\n",
            "\u001b[0;32m/usr/local/lib/python3.11/dist-packages/pandas/core/internals/blocks.py\u001b[0m in \u001b[0;36mapply\u001b[0;34m(self, func, **kwargs)\u001b[0m\n\u001b[1;32m    391\u001b[0m         \u001b[0mone\u001b[0m\u001b[0;34m\u001b[0m\u001b[0;34m\u001b[0m\u001b[0m\n\u001b[1;32m    392\u001b[0m         \"\"\"\n\u001b[0;32m--> 393\u001b[0;31m         \u001b[0mresult\u001b[0m \u001b[0;34m=\u001b[0m \u001b[0mfunc\u001b[0m\u001b[0;34m(\u001b[0m\u001b[0mself\u001b[0m\u001b[0;34m.\u001b[0m\u001b[0mvalues\u001b[0m\u001b[0;34m,\u001b[0m \u001b[0;34m**\u001b[0m\u001b[0mkwargs\u001b[0m\u001b[0;34m)\u001b[0m\u001b[0;34m\u001b[0m\u001b[0;34m\u001b[0m\u001b[0m\n\u001b[0m\u001b[1;32m    394\u001b[0m \u001b[0;34m\u001b[0m\u001b[0m\n\u001b[1;32m    395\u001b[0m         \u001b[0mresult\u001b[0m \u001b[0;34m=\u001b[0m \u001b[0mmaybe_coerce_values\u001b[0m\u001b[0;34m(\u001b[0m\u001b[0mresult\u001b[0m\u001b[0;34m)\u001b[0m\u001b[0;34m\u001b[0m\u001b[0;34m\u001b[0m\u001b[0m\n",
            "\u001b[0;32m/usr/local/lib/python3.11/dist-packages/pandas/core/groupby/groupby.py\u001b[0m in \u001b[0;36marray_func\u001b[0;34m(values)\u001b[0m\n\u001b[1;32m   1993\u001b[0m \u001b[0;34m\u001b[0m\u001b[0m\n\u001b[1;32m   1994\u001b[0m             \u001b[0;32massert\u001b[0m \u001b[0malt\u001b[0m \u001b[0;32mis\u001b[0m \u001b[0;32mnot\u001b[0m \u001b[0;32mNone\u001b[0m\u001b[0;34m\u001b[0m\u001b[0;34m\u001b[0m\u001b[0m\n\u001b[0;32m-> 1995\u001b[0;31m             \u001b[0mresult\u001b[0m \u001b[0;34m=\u001b[0m \u001b[0mself\u001b[0m\u001b[0;34m.\u001b[0m\u001b[0m_agg_py_fallback\u001b[0m\u001b[0;34m(\u001b[0m\u001b[0mhow\u001b[0m\u001b[0;34m,\u001b[0m \u001b[0mvalues\u001b[0m\u001b[0;34m,\u001b[0m \u001b[0mndim\u001b[0m\u001b[0;34m=\u001b[0m\u001b[0mdata\u001b[0m\u001b[0;34m.\u001b[0m\u001b[0mndim\u001b[0m\u001b[0;34m,\u001b[0m \u001b[0malt\u001b[0m\u001b[0;34m=\u001b[0m\u001b[0malt\u001b[0m\u001b[0;34m)\u001b[0m\u001b[0;34m\u001b[0m\u001b[0;34m\u001b[0m\u001b[0m\n\u001b[0m\u001b[1;32m   1996\u001b[0m             \u001b[0;32mreturn\u001b[0m \u001b[0mresult\u001b[0m\u001b[0;34m\u001b[0m\u001b[0;34m\u001b[0m\u001b[0m\n\u001b[1;32m   1997\u001b[0m \u001b[0;34m\u001b[0m\u001b[0m\n",
            "\u001b[0;32m/usr/local/lib/python3.11/dist-packages/pandas/core/groupby/groupby.py\u001b[0m in \u001b[0;36m_agg_py_fallback\u001b[0;34m(self, how, values, ndim, alt)\u001b[0m\n\u001b[1;32m   1944\u001b[0m             \u001b[0mmsg\u001b[0m \u001b[0;34m=\u001b[0m \u001b[0;34mf\"agg function failed [how->{how},dtype->{ser.dtype}]\"\u001b[0m\u001b[0;34m\u001b[0m\u001b[0;34m\u001b[0m\u001b[0m\n\u001b[1;32m   1945\u001b[0m             \u001b[0;31m# preserve the kind of exception that raised\u001b[0m\u001b[0;34m\u001b[0m\u001b[0;34m\u001b[0m\u001b[0m\n\u001b[0;32m-> 1946\u001b[0;31m             \u001b[0;32mraise\u001b[0m \u001b[0mtype\u001b[0m\u001b[0;34m(\u001b[0m\u001b[0merr\u001b[0m\u001b[0;34m)\u001b[0m\u001b[0;34m(\u001b[0m\u001b[0mmsg\u001b[0m\u001b[0;34m)\u001b[0m \u001b[0;32mfrom\u001b[0m \u001b[0merr\u001b[0m\u001b[0;34m\u001b[0m\u001b[0;34m\u001b[0m\u001b[0m\n\u001b[0m\u001b[1;32m   1947\u001b[0m \u001b[0;34m\u001b[0m\u001b[0m\n\u001b[1;32m   1948\u001b[0m         \u001b[0;32mif\u001b[0m \u001b[0mser\u001b[0m\u001b[0;34m.\u001b[0m\u001b[0mdtype\u001b[0m \u001b[0;34m==\u001b[0m \u001b[0mobject\u001b[0m\u001b[0;34m:\u001b[0m\u001b[0;34m\u001b[0m\u001b[0;34m\u001b[0m\u001b[0m\n",
            "\u001b[0;31mTypeError\u001b[0m: agg function failed [how->mean,dtype->object]"
          ]
        }
      ]
    },
    {
      "cell_type": "code",
      "source": [
        "# @title ##6. Combinação de DataFrames\n",
        "df1 = pd.DataFrame({'ID': [1, 2, 3], 'Nome': ['Alice', 'Bob', 'Charlie']})\n",
        "df2 = pd.DataFrame({'ID': [2, 3, 4], 'Departamento': ['RH', 'TI', 'Financeiro']})\n",
        "\n",
        "merged_inner = pd.merge(df1, df2, on='ID', how='inner')\n",
        "merged_outer = pd.merge(df1, df2, on='ID', how='outer')\n",
        "merged_left = pd.merge(df1, df2, on='ID', how = 'left')\n",
        "merged_right = pd.merge(df1,df2, on ='ID', how = 'right')\n",
        "concatenated = pd.concat([df1, df2], axis=1)\n",
        "\n",
        "#Explicação da diferença entre merge e concat:\n",
        "# Merge é usado para combinar DataFrames com base em colunas em comum (joins).\n",
        "# Concat é usado para concatenar DataFrames ao longo de linhas ou colunas."
      ],
      "metadata": {
        "id": "y80-F_Yu3E4b"
      },
      "execution_count": null,
      "outputs": []
    },
    {
      "cell_type": "code",
      "source": [
        "# @title ##7. Séries Temporais e Tabelas Dinâmicas\n",
        "date_rng = pd.date_range(start='2025-01-01', end='2025-01-10', freq='D')\n",
        "df_time = pd.DataFrame(date_rng, columns=['data'])\n",
        "df_time['valor'] = np.random.randint(0, 100, size=(len(date_rng)))\n",
        "df_time = df_time.set_index('data')\n",
        "\n",
        "pivot_table = pd.pivot_table(df, values='Salario', index='Cidade', columns='Idade', aggfunc=np.mean)\n"
      ],
      "metadata": {
        "id": "UFN5fJc53Mae"
      },
      "execution_count": null,
      "outputs": []
    },
    {
      "cell_type": "code",
      "source": [
        "# @title ##8. Visualização de Dados com Pandas\n",
        "import matplotlib.pyplot as plt\n",
        "df['Salario'].plot(kind='hist')\n",
        "plt.show()"
      ],
      "metadata": {
        "id": "1Y_qS-Nn3RQ3"
      },
      "execution_count": null,
      "outputs": []
    },
    {
      "cell_type": "code",
      "source": [
        "# @title ##9. Otimização de Desempenho\n",
        "#Usar Vectorization ao inves de loops.\n",
        "df['Salario_Dobrado'] = df['Salario']*2"
      ],
      "metadata": {
        "id": "0UXnMJ113XDG"
      },
      "execution_count": null,
      "outputs": []
    },
    {
      "cell_type": "code",
      "source": [
        "# @title ##10. Tratamento de Erros\n",
        "try:\n",
        "    df_csv_error = pd.read_csv('arquivo_inexistente.csv')\n",
        "except FileNotFoundError:\n",
        "    print('Arquivo não encontrado')"
      ],
      "metadata": {
        "id": "RDmyztir3cQj"
      },
      "execution_count": null,
      "outputs": []
    },
    {
      "cell_type": "code",
      "source": [
        "# @title ##11. Conclusão e Recursos Adicionais\n",
        "# Pandas é uma ferramenta poderosa para manipulação e análise de dados.\n",
        "# Documentação oficial: pandas.pydata.org"
      ],
      "metadata": {
        "id": "J1G-DUJq3gw4"
      },
      "execution_count": null,
      "outputs": []
    },
    {
      "cell_type": "markdown",
      "source": [
        " # **EXERCICIOS**"
      ],
      "metadata": {
        "id": "8P08GGJuS4ke"
      }
    },
    {
      "cell_type": "markdown",
      "source": [
        "## 0.4 - TABUADA DE 0 A 10"
      ],
      "metadata": {
        "id": "4_Af_H95YOod"
      }
    },
    {
      "cell_type": "code",
      "source": [
        "lista = [0,1,2,3,4,5,6,7,8,9,10]\n",
        "\n",
        "for n in lista:\n",
        "  print(f'Tabuada do {n}: ')\n",
        "  for i in lista:\n",
        "    print(f'{n} x {i} = {n*i}')\n",
        "  print('-' * 20)\n"
      ],
      "metadata": {
        "id": "2hq3vKjJTSOr"
      },
      "execution_count": null,
      "outputs": []
    },
    {
      "cell_type": "code",
      "source": [
        "for n in range(11):\n",
        "  print(f'Tabuada do {n}: ')\n",
        "  for i in range(11):\n",
        "    print(f'{n} x {i} = {n*i}')\n",
        "  print('-' * 20)"
      ],
      "metadata": {
        "id": "C9TTMcGzSTwH"
      },
      "execution_count": null,
      "outputs": []
    },
    {
      "cell_type": "code",
      "source": [
        "n = 0\n",
        "\n",
        "while n <=10:\n",
        "  print(f'Tabuada de {n}: ')\n",
        "  i = 0\n",
        "  while i <= 10:\n",
        "    print(f'{n} x {i} = {n * i}')\n",
        "    i += 1\n",
        "  print (\"-\" * 20)\n",
        "  n += 1"
      ],
      "metadata": {
        "id": "7i6KXWoCYYTK"
      },
      "execution_count": null,
      "outputs": []
    },
    {
      "cell_type": "code",
      "source": [
        "def gerar_tabuadas():\n",
        "    # Usando compreensão de dicionário e lista pra deixar o código mais enxuto\n",
        "    return {numero: [numero * i for i in range(11)] for numero in range(11)}\n",
        "\n",
        "tabuadas = gerar_tabuadas()\n",
        "\n",
        "for numero, resultados in tabuadas.items():\n",
        "    print(f\"Tabuada do {numero}: {resultados}\")\n"
      ],
      "metadata": {
        "id": "k5xNrXJiaKRd",
        "colab": {
          "base_uri": "https://localhost:8080/"
        },
        "outputId": "9b618172-be5e-4489-90a9-355ccd273303"
      },
      "execution_count": 46,
      "outputs": [
        {
          "output_type": "stream",
          "name": "stdout",
          "text": [
            "Tabuada do 0: [0, 0, 0, 0, 0, 0, 0, 0, 0, 0, 0]\n",
            "Tabuada do 1: [0, 1, 2, 3, 4, 5, 6, 7, 8, 9, 10]\n",
            "Tabuada do 2: [0, 2, 4, 6, 8, 10, 12, 14, 16, 18, 20]\n",
            "Tabuada do 3: [0, 3, 6, 9, 12, 15, 18, 21, 24, 27, 30]\n",
            "Tabuada do 4: [0, 4, 8, 12, 16, 20, 24, 28, 32, 36, 40]\n",
            "Tabuada do 5: [0, 5, 10, 15, 20, 25, 30, 35, 40, 45, 50]\n",
            "Tabuada do 6: [0, 6, 12, 18, 24, 30, 36, 42, 48, 54, 60]\n",
            "Tabuada do 7: [0, 7, 14, 21, 28, 35, 42, 49, 56, 63, 70]\n",
            "Tabuada do 8: [0, 8, 16, 24, 32, 40, 48, 56, 64, 72, 80]\n",
            "Tabuada do 9: [0, 9, 18, 27, 36, 45, 54, 63, 72, 81, 90]\n",
            "Tabuada do 10: [0, 10, 20, 30, 40, 50, 60, 70, 80, 90, 100]\n"
          ]
        }
      ]
    },
    {
      "cell_type": "code",
      "source": [
        "def gerar_tabuadas():\n",
        "    # Usando compreensão de dicionário e lista pra deixar o código mais enxuto\n",
        "    return {numero: [numero * i for i in range(11)] for numero in range(11)}\n",
        "\n",
        "tabuadas = gerar_tabuadas()\n",
        "\n",
        "for numero, resultados in tabuadas.items():\n",
        "    print(f\"Tabuada do {numero}: {resultados}\")\n"
      ],
      "metadata": {
        "id": "IgDc6Tx7aP-5",
        "colab": {
          "base_uri": "https://localhost:8080/"
        },
        "outputId": "ad1c118e-f4a0-4f49-90e0-7daddc6740f3"
      },
      "execution_count": null,
      "outputs": [
        {
          "output_type": "stream",
          "name": "stdout",
          "text": [
            "Tabuada do 0: [0, 0, 0, 0, 0, 0, 0, 0, 0, 0, 0]\n",
            "Tabuada do 1: [0, 1, 2, 3, 4, 5, 6, 7, 8, 9, 10]\n",
            "Tabuada do 2: [0, 2, 4, 6, 8, 10, 12, 14, 16, 18, 20]\n",
            "Tabuada do 3: [0, 3, 6, 9, 12, 15, 18, 21, 24, 27, 30]\n",
            "Tabuada do 4: [0, 4, 8, 12, 16, 20, 24, 28, 32, 36, 40]\n",
            "Tabuada do 5: [0, 5, 10, 15, 20, 25, 30, 35, 40, 45, 50]\n",
            "Tabuada do 6: [0, 6, 12, 18, 24, 30, 36, 42, 48, 54, 60]\n",
            "Tabuada do 7: [0, 7, 14, 21, 28, 35, 42, 49, 56, 63, 70]\n",
            "Tabuada do 8: [0, 8, 16, 24, 32, 40, 48, 56, 64, 72, 80]\n",
            "Tabuada do 9: [0, 9, 18, 27, 36, 45, 54, 63, 72, 81, 90]\n",
            "Tabuada do 10: [0, 10, 20, 30, 40, 50, 60, 70, 80, 90, 100]\n"
          ]
        }
      ]
    },
    {
      "cell_type": "code",
      "source": [
        "lista = [0,1,2,3,4,5,6,7,8,9,10]\n",
        "\n",
        "lista.sort(reverse=True)\n",
        "\n",
        "for i in lista:\n",
        "  print(i)\n"
      ],
      "metadata": {
        "colab": {
          "base_uri": "https://localhost:8080/"
        },
        "collapsed": true,
        "id": "xetkFv9LSIwl",
        "outputId": "54c949e3-cec7-4563-8c41-69777005bfc6"
      },
      "execution_count": null,
      "outputs": [
        {
          "output_type": "stream",
          "name": "stdout",
          "text": [
            "10\n",
            "9\n",
            "8\n",
            "7\n",
            "6\n",
            "5\n",
            "4\n",
            "3\n",
            "2\n",
            "1\n",
            "0\n"
          ]
        }
      ]
    },
    {
      "cell_type": "code",
      "source": [
        "numero = int(input('Digite o numero que você quer saber o fatorial:'))\n",
        "\n",
        "def fatorial(numero):\n",
        "  if numero == 0 or numero == 1:\n",
        "    return 1\n",
        "  else:\n",
        "    return numero * fatorial(numero - 1)\n",
        "\n",
        "print(fatorial(numero))"
      ],
      "metadata": {
        "colab": {
          "base_uri": "https://localhost:8080/"
        },
        "id": "mKzW6EERVhgs",
        "outputId": "ec31b91d-f9e8-479f-9751-bb5ea2842ee9"
      },
      "execution_count": null,
      "outputs": [
        {
          "output_type": "stream",
          "name": "stdout",
          "text": [
            "Digite o numero que você quer saber o fatorial:5\n",
            "120\n"
          ]
        }
      ]
    }
  ]
}