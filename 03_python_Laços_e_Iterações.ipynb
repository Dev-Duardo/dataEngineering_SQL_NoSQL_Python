{
  "cells": [
    {
      "cell_type": "markdown",
      "source": [
        "---\n",
        "\n",
        "**Laços e Iterações em Python: Um Estudo Detalhado**\n",
        "\n",
        "**1. Introdução à Iteração em Python**\n",
        "\n",
        "A iteração, no contexto da programação, refere-se à capacidade de executar repetidamente um bloco de código. Este conceito fundamental é implementado através de estruturas de controlo conhecidas como laços ou loops. Um laço permite que um conjunto de instruções seja executado várias vezes, seja por um número predefinido de iterações ou até que uma determinada condição seja satisfeita.¹ A iteração é um processo de acesso sequencial aos elementos de uma coleção de dados.⁵ Sem a capacidade de realizar iterações, os programadores seriam forçados a escrever manualmente o mesmo código repetidamente para realizar tarefas semelhantes, o que seria ineficiente e propenso a erros.¹"
      ],
      "metadata": {
        "id": "WPmnVB6n3duD"
      }
    },
    {
      "cell_type": "code",
      "source": [
        "# Exemplo simples de repetição (sem laço - ineficiente)\n",
        "print(\"Item 1\")\n",
        "print(\"Item 2\")\n",
        "print(\"Item 3\")\n",
        "\n",
        "# Exemplo da mesma tarefa usando um laço (mais eficiente)\n",
        "itens = [\"Item 1\", \"Item 2\", \"Item 3\"]\n",
        "for item in itens:\n",
        "    print(item)"
      ],
      "outputs": [],
      "execution_count": null,
      "metadata": {
        "id": "F-yaCL8x3duI"
      }
    },
    {
      "cell_type": "markdown",
      "source": [
        "Os laços são essenciais para automatizar tarefas repetitivas, tornando o código mais eficiente e conciso. Esta capacidade de automação é particularmente valiosa no processamento de grandes conjuntos de dados e na execução de operações complexas, onde a repetição manual seria impraticável.¹ A iteração é, portanto, um conceito central na programação, servindo de base para muitas tarefas de processamento de dados e design de algoritmos.\n",
        "\n",
        "Em Python, existem dois tipos principais de iteração: **definida** e **indefinida**.\n",
        "* **Iteração definida:** Ocorre quando o bloco de código é executado um número conhecido de vezes (ex: percorrer todos os elementos de uma lista). Geralmente implementada com o laço `for`.\n",
        "* **Iteração indefinida:** Ocorre quando o bloco de código é executado até que uma certa condição seja atendida (ex: pedir input até que o utilizador digite 'sair'). Geralmente implementada com o laço `while`.\n",
        "Compreender esta distinção é fundamental para escolher o tipo de laço apropriado (`for` ou `while`), resultando num código mais lógico e eficiente.\n",
        "\n",
        "A iteração em Python está intrinsecamente ligada aos conceitos de **iteráveis** e **iteradores**.\n",
        "* **Iterável:** Qualquer objeto que pode retornar os seus membros um de cada vez (ex: listas, tuplos, strings, dicionários, conjuntos, `range`). Possui o método `__iter__()`.\n",
        "* **Iterador:** Um objeto que permite percorrer um iterável, fornecendo o próximo elemento a pedido através do método `__next__()`. Lança `StopIteration` quando não há mais elementos. Objetos `map`, `filter`, `enumerate`, `zip` são exemplos de iteradores.\n",
        "A relação é que os iteráveis produzem iteradores usando a função `iter()`. Esta distinção permite o processamento eficiente (\"preguiçoso\" ou *lazy*) de grandes conjuntos de dados.⁷\n",
        "\n",
        "**2. O Laço `for`: Iterando Através de Sequências e Coleções**\n",
        "\n",
        "O laço `for` em Python itera sobre os itens de uma sequência ou outro objeto iterável. A sintaxe básica é `for variavel in iteravel:`, seguida por um bloco indentado."
      ],
      "metadata": {
        "id": "84QLa5Ka3duK"
      }
    },
    {
      "cell_type": "code",
      "source": [
        "# Sintaxe básica do laço for\n",
        "sequencia = [10, 20, 30]\n",
        "print(\"Iterando sobre uma lista:\")\n",
        "for elemento in sequencia:\n",
        "    print(f\"  Elemento atual: {elemento}\")"
      ],
      "outputs": [],
      "execution_count": null,
      "metadata": {
        "id": "AG2NjZ1S3duL"
      }
    },
    {
      "cell_type": "markdown",
      "source": [
        "* **Iterando sobre Listas:** Cada elemento é atribuído à variável de laço em ordem."
      ],
      "metadata": {
        "id": "jpETmMd73duM"
      }
    },
    {
      "cell_type": "code",
      "source": [
        "numeros = [1, 2, 3, 4]\n",
        "    soma = 0\n",
        "    print(\"\\nIterando e somando números de uma lista:\")\n",
        "    for numero in numeros:\n",
        "        print(f\"  Somando {numero}...\")\n",
        "        soma += numero\n",
        "    print(f\"Soma total: {soma}\") # Saída: Soma total: 10"
      ],
      "outputs": [],
      "execution_count": null,
      "metadata": {
        "id": "Y8_plNFT3duN"
      }
    },
    {
      "cell_type": "markdown",
      "source": [
        "* **Iterando sobre Tuplos:** Funciona de forma semelhante às listas, mas tuplos são imutáveis."
      ],
      "metadata": {
        "id": "KKBQEo6Z3duN"
      }
    },
    {
      "cell_type": "code",
      "source": [
        "coordenadas = (10, 20, 30)\n",
        "    print(\"\\nIterando sobre um tuplo (coordenadas):\")\n",
        "    for coord in coordenadas:\n",
        "        print(f\"  Coordenada: {coord}\")\n",
        "        # coord = coord * 2 # Isso cria uma nova variável local 'coord', não altera o tuplo original\n",
        "    print(f\"Tuplo original inalterado: {coordenadas}\")"
      ],
      "outputs": [],
      "execution_count": null,
      "metadata": {
        "id": "RKouGt273duO"
      }
    },
    {
      "cell_type": "markdown",
      "source": [
        "* **Iterando sobre Strings:** A string é tratada como uma sequência de caracteres."
      ],
      "metadata": {
        "id": "ioUz5ijz3duO"
      }
    },
    {
      "cell_type": "code",
      "source": [
        "palavra = \"Python\"\n",
        "    print(\"\\nIterando sobre uma string:\")\n",
        "    for letra in palavra:\n",
        "        print(f\"  Letra: {letra.upper()}\") # Exemplo de método de string no laço"
      ],
      "outputs": [],
      "execution_count": null,
      "metadata": {
        "id": "RJkjD2VS3duP"
      }
    },
    {
      "cell_type": "markdown",
      "source": [
        "* **Usando `range()`:** Gera uma sequência de números para um número fixo de iterações. `range(stop)`, `range(start, stop)`, `range(start, stop, step)`."
      ],
      "metadata": {
        "id": "mDDJXoy43duP"
      }
    },
    {
      "cell_type": "code",
      "source": [
        "print(\"\\nIterando com range():\")\n",
        "    # range(5) -> 0, 1, 2, 3, 4\n",
        "    print(\"range(5):\")\n",
        "    for i in range(5):\n",
        "        print(f\"  {i}\", end=\" \")\n",
        "    print()\n",
        "\n",
        "    # range(2, 6) -> 2, 3, 4, 5\n",
        "    print(\"range(2, 6):\")\n",
        "    for i in range(2, 6):\n",
        "        print(f\"  {i}\", end=\" \")\n",
        "    print()\n",
        "\n",
        "    # range(1, 10, 2) -> 1, 3, 5, 7, 9\n",
        "    print(\"range(1, 10, 2):\")\n",
        "    for i in range(1, 10, 2):\n",
        "        print(f\"  {i}\", end=\" \")\n",
        "    print()\n",
        "\n",
        "    # range contando para trás\n",
        "    print(\"range(3, 0, -1):\") # -> 3, 2, 1\n",
        "    for i in range(3, 0, -1):\n",
        "        print(f\"  {i}\", end=\" \")\n",
        "    print()"
      ],
      "outputs": [],
      "execution_count": null,
      "metadata": {
        "id": "LrkMqBRN3duQ"
      }
    },
    {
      "cell_type": "markdown",
      "source": [
        "* **Iterando sobre Dicionários:**\n",
        "    * **Padrão (sobre chaves):**"
      ],
      "metadata": {
        "id": "lY98xxpV3duQ"
      }
    },
    {
      "cell_type": "code",
      "source": [
        "notas = {\"Ana\": 9.0, \"Bia\": 8.5, \"Carlos\": 7.0}\n",
        "        print(\"\\nIterando sobre chaves do dicionário (padrão):\")\n",
        "        for aluno in notas: # Itera sobre as chaves\n",
        "            print(f\"  Aluno: {aluno}, Nota: {notas[aluno]}\")"
      ],
      "outputs": [],
      "execution_count": null,
      "metadata": {
        "id": "heUItmAq3duQ"
      }
    },
    {
      "cell_type": "markdown",
      "source": [
        "* **Sobre valores (`.values()`):**"
      ],
      "metadata": {
        "id": "_Jq4L3RX3duR"
      }
    },
    {
      "cell_type": "code",
      "source": [
        "print(\"\\nIterando sobre valores do dicionário (.values()):\")\n",
        "        soma_notas = 0\n",
        "        for nota in notas.values():\n",
        "            print(f\"  Nota: {nota}\")\n",
        "            soma_notas += nota\n",
        "        print(f\"Soma das notas: {soma_notas}\")"
      ],
      "outputs": [],
      "execution_count": null,
      "metadata": {
        "id": "F12TC0vI3duR"
      }
    },
    {
      "cell_type": "markdown",
      "source": [
        "* **Sobre pares chave-valor (`.items()`):**"
      ],
      "metadata": {
        "id": "ulpT6cmO3duR"
      }
    },
    {
      "cell_type": "code",
      "source": [
        "print(\"\\nIterando sobre itens (chave-valor) do dicionário (.items()):\")\n",
        "        for aluno, nota in notas.items():\n",
        "            print(f\"  {aluno}: {nota}\")"
      ],
      "outputs": [],
      "execution_count": null,
      "metadata": {
        "id": "IFFPeI6m3duS"
      }
    },
    {
      "cell_type": "markdown",
      "source": [
        "* **Iterando sobre Conjuntos:** A ordem não é garantida. Elementos são únicos."
      ],
      "metadata": {
        "id": "TMERPdZY3duS"
      }
    },
    {
      "cell_type": "code",
      "source": [
        "cores = {\"vermelho\", \"verde\", \"azul\", \"verde\"} # 'verde' duplicado é ignorado\n",
        "    print(\"\\nIterando sobre um conjunto (ordem não garantida):\")\n",
        "    for cor in cores:\n",
        "        print(f\"  Cor: {cor}\")"
      ],
      "outputs": [],
      "execution_count": null,
      "metadata": {
        "id": "NOm9QbOg3duS"
      }
    },
    {
      "cell_type": "markdown",
      "source": [
        "**3. O Laço `while`: Iteração Condicional**\n",
        "\n",
        "Executa um bloco de código enquanto uma condição booleana for `True`. Sintaxe: `while condicao:`. A condição é verificada *antes* de cada iteração."
      ],
      "metadata": {
        "id": "CgtXl5H_3duT"
      }
    },
    {
      "cell_type": "code",
      "source": [
        "# Sintaxe básica do laço while (exemplo: contador)\n",
        "contador = 0\n",
        "print(\"\\nLaço while com contador:\")\n",
        "while contador < 5:\n",
        "    print(f\"  Contador atual: {contador}\")\n",
        "    contador += 1 # Essencial atualizar a variável da condição!\n",
        "print(\"Fim do laço while.\")"
      ],
      "outputs": [],
      "execution_count": null,
      "metadata": {
        "id": "rBxAhSw03duT"
      }
    },
    {
      "cell_type": "markdown",
      "source": [
        "É crucial garantir que a condição eventualmente se torne `False` para evitar **laços infinitos**."
      ],
      "metadata": {
        "id": "vl7024_f3duU"
      }
    },
    {
      "cell_type": "code",
      "source": [
        "# Exemplo de laço infinito (NÃO EXECUTE ou saiba como interromper - Ctrl+C)\n",
        "# while True:\n",
        "#     print(\"Este laço nunca termina!\")\n",
        "\n",
        "# Exemplo comum: obter input do utilizador até que algo específico seja digitado\n",
        "entrada = \"\"\n",
        "print(\"\\nLaço while para entrada do utilizador (digite 'sair' para terminar):\")\n",
        "while entrada.lower() != \"sair\":\n",
        "    entrada = input(\"Digite algo: \")\n",
        "    if entrada.lower() != \"sair\":\n",
        "        print(f\"  Você digitou: {entrada}\")\n",
        "print(\"Programa terminado.\")"
      ],
      "outputs": [],
      "execution_count": null,
      "metadata": {
        "id": "zGq5Fee43duU"
      }
    },
    {
      "cell_type": "markdown",
      "source": [
        "Casos de uso comuns: input de utilizador, esperar por um estado, laços de jogo, processos contínuos.\n",
        "\n",
        "**4. Controlando a Execução do Laço**\n",
        "\n",
        "Instruções `break`, `continue` e a cláusula `else` permitem controlar o fluxo dentro dos laços.\n",
        "\n",
        "* **`break`:** Termina imediatamente o laço mais interno."
      ],
      "metadata": {
        "id": "THwswUL03duU"
      }
    },
    {
      "cell_type": "code",
      "source": [
        "# Usando break para encontrar um item\n",
        "    numeros = [10, 25, 50, 75, 100]\n",
        "    item_procurado = 50\n",
        "    encontrado = False\n",
        "    print(f\"\\nProcurando por {item_procurado} na lista {numeros} com break:\")\n",
        "    for numero in numeros:\n",
        "        print(f\"  Verificando {numero}...\")\n",
        "        if numero == item_procurado:\n",
        "            print(f\"  Encontrado {item_procurado}!\")\n",
        "            encontrado = True\n",
        "            break # Sai do laço assim que encontrar\n",
        "    if not encontrado:\n",
        "         print(f\"  {item_procurado} não encontrado na lista.\")"
      ],
      "outputs": [],
      "execution_count": null,
      "metadata": {
        "id": "G7NbgUms3duU"
      }
    },
    {
      "cell_type": "markdown",
      "source": [
        "* **`continue`:** Salta para a próxima iteração do laço."
      ],
      "metadata": {
        "id": "8LrzMgAu3duU"
      }
    },
    {
      "cell_type": "code",
      "source": [
        "# Usando continue para processar apenas números pares\n",
        "    numeros = [1, 2, 3, 4, 5, 6, 7, 8]\n",
        "    print(f\"\\nProcessando apenas números pares da lista {numeros} com continue:\")\n",
        "    for numero in numeros:\n",
        "        if numero % 2 != 0: # Se for ímpar\n",
        "            continue # Pula para a próxima iteração\n",
        "        # Este código só executa para números pares\n",
        "        print(f\"  Processando número par: {numero}\")"
      ],
      "outputs": [],
      "execution_count": null,
      "metadata": {
        "id": "mt4GAm7P3duV"
      }
    },
    {
      "cell_type": "markdown",
      "source": [
        "* **Cláusula `else` em Laços:** Executada se o laço terminar *normalmente* (sem `break`).\n",
        "    * **`else` com `for`:**"
      ],
      "metadata": {
        "id": "UG1a7W4w3duV"
      }
    },
    {
      "cell_type": "code",
      "source": [
        "# Usando else com for (sem break)\n",
        "        print(\"\\nLaço for com else (sem break):\")\n",
        "        for i in range(3):\n",
        "            print(f\"  Iteração {i}\")\n",
        "        else:\n",
        "            print(\"  Laço for completou normalmente.\") # Será executado\n",
        "\n",
        "        # Usando else com for (com break)\n",
        "        print(\"\\nLaço for com else (com break):\")\n",
        "        for i in range(3):\n",
        "            print(f\"  Iteração {i}\")\n",
        "            if i == 1:\n",
        "                print(\"  Encontrando break!\")\n",
        "                break\n",
        "        else:\n",
        "            print(\"  Laço for completou normalmente.\") # NÃO será executado"
      ],
      "outputs": [],
      "execution_count": null,
      "metadata": {
        "id": "zeaVMEbc3duV"
      }
    },
    {
      "cell_type": "markdown",
      "source": [
        "* **`else` com `while`:**"
      ],
      "metadata": {
        "id": "ziJL7uOd3duW"
      }
    },
    {
      "cell_type": "code",
      "source": [
        "# Usando else com while (sem break)\n",
        "        print(\"\\nLaço while com else (sem break):\")\n",
        "        contador = 0\n",
        "        while contador < 3:\n",
        "            print(f\"  Contagem: {contador}\")\n",
        "            contador += 1\n",
        "        else:\n",
        "            print(\"  Laço while completou normalmente (condição tornou-se falsa).\") # Será executado\n",
        "\n",
        "        # Usando else com while (com break)\n",
        "        print(\"\\nLaço while com else (com break):\")\n",
        "        contador = 0\n",
        "        while contador < 3:\n",
        "            print(f\"  Contagem: {contador}\")\n",
        "            if contador == 1:\n",
        "                print(\"  Encontrando break!\")\n",
        "                break\n",
        "            contador += 1\n",
        "        else:\n",
        "            print(\"  Laço while completou normalmente.\") # NÃO será executado"
      ],
      "outputs": [],
      "execution_count": null,
      "metadata": {
        "id": "1JHQ-Fka3duW"
      }
    },
    {
      "cell_type": "markdown",
      "source": [
        "**5. Técnicas Avançadas de Iteração**\n",
        "\n",
        "Python oferece técnicas concisas e eficientes para iteração.\n",
        "\n",
        "* **List Comprehensions:** Cria listas de forma concisa: `[expressao for item in iteravel if condicao]`.¹⁰"
      ],
      "metadata": {
        "id": "8JFda9MM3duX"
      }
    },
    {
      "cell_type": "code",
      "source": [
        "# List comprehension simples\n",
        "    numeros = [1, 2, 3, 4, 5]\n",
        "    quadrados = [x**2 for x in numeros]\n",
        "    print(f\"\\nList Comprehension (quadrados): {quadrados}\") # Saída: [1, 4, 9, 16, 25]\n",
        "\n",
        "    # List comprehension com condição\n",
        "    pares_quadrados = [x**2 for x in numeros if x % 2 == 0]\n",
        "    print(f\"List Comprehension (quadrados dos pares): {pares_quadrados}\") # Saída: [4, 16]\n",
        "\n",
        "    # List comprehension aninhada (ex: criar matriz)\n",
        "    matriz = [[f\"({linha},{col})\" for col in range(3)] for linha in range(2)]\n",
        "    print(\"List Comprehension (aninhada - matriz):\")\n",
        "    for linha in matriz:\n",
        "        print(f\"  {linha}\")\n",
        "    # Saída:\n",
        "    # ['(0,0)', '(0,1)', '(0,2)']\n",
        "    # ['(1,0)', '(1,1)', '(1,2)']"
      ],
      "outputs": [],
      "execution_count": null,
      "metadata": {
        "id": "2n4JpktX3duX"
      }
    },
    {
      "cell_type": "markdown",
      "source": [
        "* **Generator Expressions:** Semelhantes às list comprehensions, mas criam um *iterador* (lazy evaluation). Sintaxe: `(expressao for item in iteravel if condicao)`. Eficientes em memória para grandes sequências."
      ],
      "metadata": {
        "id": "uGiToC5n3duX"
      }
    },
    {
      "cell_type": "code",
      "source": [
        "# Generator expression\n",
        "    numeros_grandes = range(10) # Poderia ser um range muito maior\n",
        "    gen_quadrados = (x**2 for x in numeros_grandes if x % 2 == 0) # Cria um iterador\n",
        "\n",
        "    print(f\"\\nGenerator Expression (tipo): {type(gen_quadrados)}\") # Saída: <class 'generator'>\n",
        "    # Os valores são gerados sob demanda, não todos de uma vez\n",
        "    print(\"Valores do generator (um por vez):\")\n",
        "    for q in gen_quadrados: # Itera sobre o generator\n",
        "        print(f\"  {q}\", end=\" \") # Saída: 0 4 16 36 64\n",
        "    print()\n",
        "\n",
        "    # Tentando iterar novamente sobre o mesmo generator (já esgotado)\n",
        "    print(\"Tentando iterar novamente sobre o generator esgotado:\")\n",
        "    for q in gen_quadrados:\n",
        "         print(q) # Não imprime nada, pois o generator foi consumido"
      ],
      "outputs": [],
      "execution_count": null,
      "metadata": {
        "id": "Zn0szH9z3duY"
      }
    },
    {
      "cell_type": "markdown",
      "source": [
        "* **`map(funcao, iteravel, ...)`:** Aplica uma função a cada item de um ou mais iteráveis, retornando um *iterador*."
      ],
      "metadata": {
        "id": "ENqY88Zh3duY"
      }
    },
    {
      "cell_type": "code",
      "source": [
        "# map() com função e lambda\n",
        "    numeros = [1, 2, 3, 4]\n",
        "\n",
        "    def dobrar(n):\n",
        "        return n * 2\n",
        "\n",
        "    dobrados_map_func = map(dobrar, numeros)\n",
        "    print(f\"\\nmap() com função 'dobrar': {list(dobrados_map_func)}\") # Saída: [2, 4, 6, 8]\n",
        "\n",
        "    dobrados_map_lambda = map(lambda x: x * 2, numeros)\n",
        "    print(f\"map() com lambda: {list(dobrados_map_lambda)}\") # Saída: [2, 4, 6, 8]\n",
        "\n",
        "    # map() com múltiplos iteráveis\n",
        "    lista1 = [1, 2, 3]\n",
        "    lista2 = [10, 20, 30]\n",
        "    soma_map = map(lambda x, y: x + y, lista1, lista2)\n",
        "    print(f\"map() com duas listas: {list(soma_map)}\") # Saída: [11, 22, 33]"
      ],
      "outputs": [],
      "execution_count": null,
      "metadata": {
        "id": "mP4uQsLL3duY"
      }
    },
    {
      "cell_type": "markdown",
      "source": [
        "* **`filter(funcao, iteravel)`:** Constrói um *iterador* com itens para os quais a função retorna `True`."
      ],
      "metadata": {
        "id": "zi2wzQ9e3duZ"
      }
    },
    {
      "cell_type": "code",
      "source": [
        "# filter() com função e lambda\n",
        "    numeros = range(10) # 0 a 9\n",
        "\n",
        "    def eh_par(n):\n",
        "        return n % 2 == 0\n",
        "\n",
        "    pares_filter_func = filter(eh_par, numeros)\n",
        "    print(f\"\\nfilter() com função 'eh_par': {list(pares_filter_func)}\") # Saída: [0, 2, 4, 6, 8]\n",
        "\n",
        "    impares_filter_lambda = filter(lambda x: x % 2 != 0, numeros)\n",
        "    print(f\"filter() com lambda (ímpares): {list(impares_filter_lambda)}\") # Saída: [1, 3, 5, 7, 9]"
      ],
      "outputs": [],
      "execution_count": null,
      "metadata": {
        "id": "lntErBiQ3duj"
      }
    },
    {
      "cell_type": "markdown",
      "source": [
        "* **`reduce(funcao, iteravel[, inicializador])`:** (No módulo `functools`) Aplica uma função cumulativamente para reduzir o iterável a um único valor."
      ],
      "metadata": {
        "id": "7pEm8RXy3duk"
      }
    },
    {
      "cell_type": "code",
      "source": [
        "from functools import reduce # Importar reduce\n",
        "\n",
        "    # reduce() para somar elementos\n",
        "    numeros = [1, 2, 3, 4, 5]\n",
        "    soma_reduce = reduce(lambda acumulador, item: acumulador + item, numeros)\n",
        "    print(f\"\\nreduce() para soma: {soma_reduce}\") # Saída: 15 (1+2=3, 3+3=6, 6+4=10, 10+5=15)\n",
        "\n",
        "    # reduce() para produto\n",
        "    produto_reduce = reduce(lambda x, y: x * y, numeros)\n",
        "    print(f\"reduce() para produto: {produto_reduce}\") # Saída: 120 (1*2*3*4*5)\n",
        "\n",
        "    # reduce() com inicializador\n",
        "    soma_com_inicializador = reduce(lambda acc, item: acc + item, numeros, 100) # Começa com 100\n",
        "    print(f\"reduce() para soma com inicializador 100: {soma_com_inicializador}\") # Saída: 115 (100+1+2+3+4+5)"
      ],
      "outputs": [],
      "execution_count": null,
      "metadata": {
        "id": "5OEn_fan3duk"
      }
    },
    {
      "cell_type": "markdown",
      "source": [
        "**6. Entendendo Iteradores e Iteráveis**\n",
        "\n",
        "* **Protocolo Iterável (`__iter__()`)**: Objeto que pode fornecer um iterador.\n",
        "* **Protocolo Iterador (`__iter__()`, `__next__()`)**: Objeto que produz o próximo item e lança `StopIteration`."
      ],
      "metadata": {
        "id": "vYmFmGSC3dul"
      }
    },
    {
      "cell_type": "code",
      "source": [
        "# Obtendo e usando um iterador manualmente\n",
        "minha_lista = [10, 20]\n",
        "iterador_lista = iter(minha_lista) # Obtém o iterador da lista (iterável)\n",
        "\n",
        "print(f\"\\nTipo do iterador: {type(iterador_lista)}\") # Saída: <class 'list_iterator'>\n",
        "\n",
        "# O iterador também é iterável (retorna ele mesmo)\n",
        "print(f\"iter(iterador) is iterador: {iter(iterador_lista) is iterador_lista}\") # Saída: True\n",
        "\n",
        "# Usando next() para obter os elementos\n",
        "print(f\"Primeiro elemento: {next(iterador_lista)}\") # Saída: 10\n",
        "print(f\"Segundo elemento: {next(iterador_lista)}\")  # Saída: 20\n",
        "\n",
        "# Tentando obter o próximo elemento (gerará StopIteration)\n",
        "try:\n",
        "    next(iterador_lista)\n",
        "except StopIteration:\n",
        "    print(\"StopIteration capturada: não há mais elementos.\")\n",
        "\n",
        "# Laços 'for' usam isso internamente\n",
        "print(\"Laço for usando o protocolo iterador:\")\n",
        "for x in minha_lista: # Implicitamente chama iter() e depois next()\n",
        "    print(f\"  Elemento via for: {x}\")"
      ],
      "outputs": [],
      "execution_count": null,
      "metadata": {
        "id": "AeYloWrt3dul"
      }
    },
    {
      "cell_type": "markdown",
      "source": [
        "* **Iteradores Personalizados:** Criados com classes que implementam `__iter__` e `__next__`."
      ],
      "metadata": {
        "id": "NKszwsOl3dum"
      }
    },
    {
      "cell_type": "code",
      "source": [
        "# Exemplo de iterador personalizado (contagem regressiva simples)\n",
        "    class ContagemRegressiva:\n",
        "        def __init__(self, inicio):\n",
        "            self.atual = inicio\n",
        "\n",
        "        def __iter__(self):\n",
        "            return self # O próprio objeto é o iterador\n",
        "\n",
        "        def __next__(self):\n",
        "            if self.atual < 0:\n",
        "                raise StopIteration # Sinaliza o fim\n",
        "            else:\n",
        "                valor = self.atual\n",
        "                self.atual -= 1\n",
        "                return valor\n",
        "\n",
        "    print(\"\\nUsando iterador personalizado ContagemRegressiva(3):\")\n",
        "    contador_regressivo = ContagemRegressiva(3)\n",
        "    for num in contador_regressivo:\n",
        "        print(f\"  Contagem: {num}\")\n",
        "    # Saída:\n",
        "    # Contagem: 3\n",
        "    # Contagem: 2\n",
        "    # Contagem: 1\n",
        "    # Contagem: 0"
      ],
      "outputs": [],
      "execution_count": null,
      "metadata": {
        "id": "_fj6tkF73dum"
      }
    },
    {
      "cell_type": "markdown",
      "source": [
        "* **Função `iter()`:** Obtém iterador de um iterável. `iter(iterador)` retorna o próprio iterador.\n",
        "\n",
        "**7. Aproveitando as Funções de Iteração Incorporadas**\n",
        "\n",
        "* **`enumerate(iteravel, inicio=0)`:** Adiciona um contador ao iterável, retornando pares `(indice, valor)`."
      ],
      "metadata": {
        "id": "y7gmGWrg3dum"
      }
    },
    {
      "cell_type": "code",
      "source": [
        "# Usando enumerate()\n",
        "    frutas = ['maçã', 'banana', 'laranja']\n",
        "    print(\"\\nIterando com enumerate() (início padrão 0):\")\n",
        "    for indice, fruta in enumerate(frutas):\n",
        "        print(f\"  Índice {indice}: {fruta}\")\n",
        "\n",
        "    print(\"\\nIterando com enumerate() (início=1):\")\n",
        "    for i, fruta in enumerate(frutas, start=1):\n",
        "        print(f\"  Item {i}: {fruta}\")"
      ],
      "outputs": [],
      "execution_count": null,
      "metadata": {
        "id": "KDDWEfdm3dum"
      }
    },
    {
      "cell_type": "markdown",
      "source": [
        "* **`zip(*iteraveis, strict=False)`:** Itera sobre múltiplos iteráveis simultaneamente, emparelhando elementos. Para no iterável mais curto."
      ],
      "metadata": {
        "id": "ir7-5Qc93dun"
      }
    },
    {
      "cell_type": "code",
      "source": [
        "# Usando zip()\n",
        "    nomes = ['Ana', 'Carlos', 'Bia']\n",
        "    idades = [30, 25, 35]\n",
        "    cidades = ['Rio', 'SP', 'BH', 'POA'] # Mais longo que os outros\n",
        "\n",
        "    print(\"\\nIterando com zip() sobre nomes e idades:\")\n",
        "    combinados = zip(nomes, idades)\n",
        "    print(f\"Tipo do objeto zip: {type(combinados)}\") # Saída: <class 'zip'>\n",
        "    for nome, idade in combinados: # Itera sobre o objeto zip\n",
        "        print(f\"  {nome} tem {idade} anos.\")\n",
        "\n",
        "    print(\"\\nIterando com zip() sobre nomes, idades e cidades (para no mais curto - nomes/idades):\")\n",
        "    for nome, idade, cidade in zip(nomes, idades, cidades):\n",
        "        print(f\"  {nome} ({idade}) mora em {cidade}.\") # Só imprime para Ana, Carlos, Bia\n",
        "\n",
        "    # Usando strict=True (Python 3.10+) para gerar erro se os iteráveis tiverem tamanhos diferentes\n",
        "    # try:\n",
        "    #     list(zip(nomes, idades, cidades, strict=True))\n",
        "    # except ValueError as e:\n",
        "    #     print(f\"\\nErro com zip(strict=True): {e}\")"
      ],
      "outputs": [],
      "execution_count": null,
      "metadata": {
        "id": "OYuKIFnA3dun"
      }
    },
    {
      "cell_type": "markdown",
      "source": [
        "**8. Melhores Práticas e Considerações para Laços e Iterações**\n",
        "\n",
        "* **Escolha `for` vs `while`:** `for` para iteração definida (sobre sequências), `while` para indefinida (baseada em condição).\n",
        "* **Eficiência e Legibilidade:** Evite cálculos repetidos desnecessários dentro do laço. Use nomes de variáveis claros.⁵\n",
        "* **Tratamento de Erros:** Use `try-except` dentro de laços se operações puderem falhar.\n",
        "* **Comprehensions vs Generators:** List comprehensions são boas para listas menores e legibilidade; generator expressions são melhores para memória com dados grandes ou iteração única.¹⁴\n",
        "* **Desempenho:** Esteja ciente das implicações de desempenho, especialmente com grandes volumes de dados.⁵\n",
        "* **Estilo (PEP 8):** Siga as diretrizes PEP 8 para formatação e estilo consistentes.¹⁹\n",
        "\n",
        "**9. Conclusão**\n",
        "\n",
        "Laços (`for`, `while`) são cruciais em Python para repetição. `for` itera sobre sequências, `while` itera sob condição. `break`, `continue`, e `else` controlam o fluxo. Técnicas como comprehensions, generators, `map`, `filter`, `reduce` oferecem poder e eficiência. Compreender iteráveis/iteradores e usar `enumerate`/`zip` simplifica o código. Dominar estas construções é essencial para programação Python eficaz.\n",
        "\n",
        "**Tabela 1: Comparação dos Laços `for` e `while`**\n",
        "\n",
        "| Característica      | Laço `for`                              | Laço `while`                               |\n",
        "| :------------------ | :-------------------------------------- | :----------------------------------------- |\n",
        "| Caso de Uso         | Número conhecido de iterações           | Número desconhecido de iterações           |\n",
        "| Tipo de Iteração    | Definida                                | Indefinida                                 |\n",
        "| Condição de Terminação | Itera através de uma sequência           | Baseada em condição booleana             |\n",
        "| Cenários Típicos    | Iterar sobre coleções, aplicar funções | Obter entrada do utilizador, processos contínuos |\n",
        "\n",
        "**Tabela 2: Funções Incorporadas para Iteração**\n",
        "\n",
        "| Função        | Descrição                                                         | Tipo de Retorno             | Casos de Uso                               |\n",
        "| :------------ | :---------------------------------------------------------------- | :-------------------------- | :----------------------------------------- |\n",
        "| `enumerate()` | Itera com índice e valor                                          | Objeto `enumerate` (iterador) | Rastreamento de índice, listas numeradas     |\n",
        "| `zip()`       | Itera sobre múltiplos iteráveis simultaneamente, emparelhando elementos | Objeto `zip` (iterador)       | Combinar dados de múltiplas fontes         |"
      ],
      "metadata": {
        "id": "woWe8rR93dun"
      }
    }
  ],
  "metadata": {
    "colab": {
      "provenance": []
    },
    "kernelspec": {
      "display_name": "Python 3",
      "name": "python3"
    }
  },
  "nbformat": 4,
  "nbformat_minor": 0
}