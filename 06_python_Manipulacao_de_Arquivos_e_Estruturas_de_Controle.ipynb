{
  "cells": [
    {
      "cell_type": "markdown",
      "source": [
        "**Estudo Detalhado de Python: Manipulação de Arquivos e Estruturas de Controle**\n",
        "\n",
        "**Seção 1: Introdução à Manipulação de Arquivos em Python**\n",
        "\n",
        "A manipulação de arquivos é uma capacidade essencial em qualquer linguagem de programação, atuando como um pilar fundamental para a persistência de dados e a interação com o mundo exterior aos limites da memória de execução de um programa.¹ Através da manipulação de arquivos, um programa pode ler informações previamente armazenadas, permitindo a recuperação de configurações, dados de usuários ou resultados de processamentos anteriores. Adicionalmente, essa capacidade possibilita que os programas salvem novos dados, assegurando que informações importantes sejam preservadas para uso futuro, seja em execuções subsequentes do mesmo programa ou por outros sistemas.²\n",
        "\n",
        "A importância da manipulação de arquivos transcende a simples leitura e escrita. Ela é crucial para uma vasta gama de tarefas, incluindo o processamento de grandes conjuntos de dados que podem ser muito extensos para caber na memória principal de uma só vez, a comunicação entre diferentes programas ou processos através da troca de informações em arquivos, e até mesmo a interação com o próprio sistema operacional, como a leitura de logs ou a escrita de configurações.² Python, reconhecida por sua sintaxe clara e facilidade de uso, simplifica significativamente o manuseio de arquivos através de um conjunto robusto de funções e módulos integrados, tornando-a uma linguagem particularmente adequada para tarefas que envolvem a interação com o sistema de arquivos.²\n",
        "\n",
        "Em programação, é fundamental distinguir entre os diferentes tipos de arquivos: **arquivos de texto** e **arquivos binários**.²\n",
        "* **Arquivos de texto:** Armazenam dados como texto legível por humanos (ex: `.txt`, `.csv`, `.py`), usando uma codificação (como UTF-8).² Possuem delimitadores de linha (ex: `\\n`).\n",
        "* **Arquivos binários:** Armazenam dados em formato não legível diretamente (ex: imagens `.jpg`, áudio `.mp3`, executáveis `.exe`).² Não usam codificação de caracteres e são tratados como sequências de bytes brutos.³ A manipulação requer modos específicos (`'rb'`, `'wb'`, etc.).\n",
        "\n",
        "A distinção é crucial para evitar corrupção de dados.\n",
        "\n",
        "**Seção 2: Abrindo e Fechando Arquivos com a Função `open()`**\n",
        "\n",
        "A função `open()` estabelece a conexão com um arquivo, retornando um objeto de arquivo.²,⁵ Sintaxe básica: `arquivo = open(nome_do_arquivo, modo, encoding=\"utf-8\")`.⁶\n",
        "* `nome_do_arquivo`: Caminho (string) para o arquivo.\n",
        "* `modo`: String que define a operação (leitura, escrita, etc.).\n",
        "* `encoding`: (Recomendado para arquivos de texto) Codificação a ser usada (ex: \"utf-8\").\n",
        "\n",
        "Se o arquivo não puder ser aberto, uma `OSError` (ou subclasse como `FileNotFoundError`) é levantada.⁵"
      ],
      "metadata": {
        "id": "K4_Yl_UDU8tO"
      }
    },
    {
      "cell_type": "code",
      "source": [
        "# Exemplo básico de abertura (sem 'with' - fechamento manual necessário)\n",
        "# Crie um arquivo 'meu_arquivo.txt' com algum texto para este exemplo\n",
        "try:\n",
        "  # Abre para leitura (modo padrão 'r') com codificação UTF-8\n",
        "  arquivo_leitura = open(\"meu_arquivo.txt\", \"r\", encoding=\"utf-8\")\n",
        "  print(\"Arquivo 'meu_arquivo.txt' aberto para leitura.\")\n",
        "  # ... operações de leitura aqui ...\n",
        "  arquivo_leitura.close() # Fechamento manual crucial!\n",
        "  print(\"Arquivo 'meu_arquivo.txt' fechado.\")\n",
        "\n",
        "  # Abre para escrita (modo 'w'), cria ou trunca o arquivo\n",
        "  arquivo_escrita = open(\"novo_arquivo_w.txt\", \"w\", encoding=\"utf-8\")\n",
        "  print(\"\\nArquivo 'novo_arquivo_w.txt' aberto para escrita.\")\n",
        "  arquivo_escrita.write(\"Conteúdo inicial.\")\n",
        "  arquivo_escrita.close() # Fechamento manual\n",
        "  print(\"Arquivo 'novo_arquivo_w.txt' fechado.\")\n",
        "\n",
        "except FileNotFoundError:\n",
        "    print(\"\\nErro: 'meu_arquivo.txt' não encontrado para leitura.\")\n",
        "except Exception as e:\n",
        "    print(f\"\\nOcorreu um erro inesperado: {e}\")\n",
        "\n",
        "# É ALTAMENTE RECOMENDADO USAR 'with' (veja Seção 5) para garantir o fechamento."
      ],
      "outputs": [
        {
          "output_type": "stream",
          "name": "stdout",
          "text": [
            "\n",
            "Erro: 'meu_arquivo.txt' não encontrado para leitura.\n"
          ]
        }
      ],
      "execution_count": 35,
      "metadata": {
        "id": "bXb8RVc9U8tX",
        "colab": {
          "base_uri": "https://localhost:8080/"
        },
        "outputId": "6ed8bc2a-971e-4315-a2f6-25fa6a56b9fb"
      }
    },
    {
      "cell_type": "markdown",
      "source": [
        "**Modos de Abertura:**\n",
        "\n",
        "* **`'r'` (Leitura):** Padrão. Ponteiro no início. Arquivo *deve* existir.²"
      ],
      "metadata": {
        "id": "hGKUXfsWU8ta"
      }
    },
    {
      "cell_type": "code",
      "source": [
        "# Tentativa de abrir arquivo inexistente para leitura\n",
        "try:\n",
        "    f = open(\"arquivo_que_nao_existe.txt\", \"r\")\n",
        "except FileNotFoundError:\n",
        "    print(\"\\nModo 'r': FileNotFoundError capturado como esperado.\")"
      ],
      "outputs": [
        {
          "output_type": "stream",
          "name": "stdout",
          "text": [
            "\n",
            "Modo 'r': FileNotFoundError capturado como esperado.\n"
          ]
        }
      ],
      "execution_count": 36,
      "metadata": {
        "id": "BnCKlGwiU8tb",
        "colab": {
          "base_uri": "https://localhost:8080/"
        },
        "outputId": "320b33c5-e937-4687-8507-38d217dc4ae8"
      }
    },
    {
      "cell_type": "markdown",
      "source": [
        "* **`'w'` (Escrita):** Trunca se existir, cria se não existir. Ponteiro no início.²"
      ],
      "metadata": {
        "id": "5cYCS4L9U8tc"
      }
    },
    {
      "cell_type": "code",
      "source": [
        "# Modo 'w': Cria ou sobrescreve\n",
        "f_w = open(\"arquivo_modo_w.txt\", \"w\")\n",
        "f_w.write(\"Este conteúdo sobrescreve o anterior.\")\n",
        "f_w.close()\n",
        "print(\"\\nModo 'w': Arquivo criado/sobrescrito.\")"
      ],
      "outputs": [
        {
          "output_type": "stream",
          "name": "stdout",
          "text": [
            "\n",
            "Modo 'w': Arquivo criado/sobrescrito.\n"
          ]
        }
      ],
      "execution_count": 37,
      "metadata": {
        "id": "I_22koHdU8tc",
        "colab": {
          "base_uri": "https://localhost:8080/"
        },
        "outputId": "73537c77-070a-4947-89a1-4358df213f2f"
      }
    },
    {
      "cell_type": "markdown",
      "source": [
        "* **`'a'` (Append/Anexar):** Ponteiro no fim. Cria se não existir. Não trunca.²"
      ],
      "metadata": {
        "id": "qufXVPg3U8td"
      }
    },
    {
      "cell_type": "code",
      "source": [
        "# Modo 'a': Adiciona ao final\n",
        "f_a = open(\"arquivo_modo_w.txt\", \"a\") # Usa o arquivo criado anteriormente\n",
        "f_a.write(\"\\nEsta linha foi adicionada.\")\n",
        "f_a.close()\n",
        "print(\"\\nModo 'a': Linha adicionada ao arquivo existente.\")\n",
        "# Verifique o conteúdo de 'arquivo_modo_w.txt'"
      ],
      "outputs": [
        {
          "output_type": "stream",
          "name": "stdout",
          "text": [
            "\n",
            "Modo 'a': Linha adicionada ao arquivo existente.\n"
          ]
        }
      ],
      "execution_count": 38,
      "metadata": {
        "id": "eVualCc6U8tg",
        "colab": {
          "base_uri": "https://localhost:8080/"
        },
        "outputId": "fb36a18e-265c-463d-e669-812b71bb7780"
      }
    },
    {
      "cell_type": "markdown",
      "source": [
        "* **`'x'` (Criação Exclusiva):** Falha se o arquivo existir.²"
      ],
      "metadata": {
        "id": "fa8udWM6U8ti"
      }
    },
    {
      "cell_type": "code",
      "source": [
        "# Modo 'x': Criação exclusiva\n",
        "try:\n",
        "    f_x = open(\"arquivo_novo_x.txt\", \"x\")\n",
        "    f_x.write(\"Arquivo criado exclusivamente.\")\n",
        "    f_x.close()\n",
        "    print(\"\\nModo 'x': Arquivo novo criado com sucesso.\")\n",
        "except FileExistsError:\n",
        "    print(\"\\nModo 'x': Arquivo 'arquivo_novo_x.txt' já existe.\")\n",
        "\n",
        "try:\n",
        "    f_x_erro = open(\"arquivo_modo_w.txt\", \"x\") # Tenta criar um que já existe\n",
        "except FileExistsError:\n",
        "    print(\"Modo 'x': FileExistsError capturado como esperado ao tentar criar arquivo existente.\")"
      ],
      "outputs": [
        {
          "output_type": "stream",
          "name": "stdout",
          "text": [
            "\n",
            "Modo 'x': Arquivo 'arquivo_novo_x.txt' já existe.\n",
            "Modo 'x': FileExistsError capturado como esperado ao tentar criar arquivo existente.\n"
          ]
        }
      ],
      "execution_count": 39,
      "metadata": {
        "id": "Pyd-OlkfU8ti",
        "colab": {
          "base_uri": "https://localhost:8080/"
        },
        "outputId": "3d32771b-4c17-4021-85a1-c57b109b6cf0"
      }
    },
    {
      "cell_type": "markdown",
      "source": [
        "* **`'b'` (Binário):** Combinado com outros (`'rb'`, `'wb'`, `'ab'`, `'xb'`). Dados como `bytes`.²"
      ],
      "metadata": {
        "id": "fN3UGbrqU8tj"
      }
    },
    {
      "cell_type": "code",
      "source": [
        "# Modo 'wb': Escrita binária\n",
        "dados_bytes = b'\\x01\\x02\\x03\\xFF'\n",
        "f_wb = open(\"arquivo_binario.bin\", \"wb\")\n",
        "f_wb.write(dados_bytes)\n",
        "f_wb.close()\n",
        "print(\"\\nModo 'wb': Arquivo binário escrito.\")"
      ],
      "outputs": [
        {
          "output_type": "stream",
          "name": "stdout",
          "text": [
            "\n",
            "Modo 'wb': Arquivo binário escrito.\n"
          ]
        }
      ],
      "execution_count": 40,
      "metadata": {
        "id": "xvlzfal-U8tk",
        "colab": {
          "base_uri": "https://localhost:8080/"
        },
        "outputId": "d6a24e4a-554f-4ef3-8bf5-40b2fef4b321"
      }
    },
    {
      "cell_type": "markdown",
      "source": [
        "* **`'t'` (Texto):** Padrão (`'rt'`). Dados como `str`, usa `encoding`.²\n",
        "* **`'+'` (Atualização):** Leitura e escrita (`'r+'`, `'w+'`, `'a+'`, `'x+'`).²"
      ],
      "metadata": {
        "id": "K1_N542zU8tk"
      }
    },
    {
      "cell_type": "code",
      "source": [
        "# Modo 'r+': Leitura e escrita (arquivo deve existir)\n",
        "    # Crie 'arquivo_rw.txt' com \"Linha1\\nLinha2\" antes de executar\n",
        "try:\n",
        "    f_rp = open(\"arquivo_rw.txt\", \"r+\", encoding=\"utf-8\")\n",
        "    print(\"\\nModo 'r+': Arquivo aberto.\")\n",
        "    conteudo_inicial = f_rp.read(6) # Lê os primeiros 6 caracteres (\"Linha1\")\n",
        "    print(f\"  Lido inicialmente: '{conteudo_inicial}'\")\n",
        "    f_rp.seek(0) # Volta o ponteiro para o início\n",
        "    f_rp.write(\"NOVO \") # Sobrescreve os primeiros 5 caracteres\n",
        "    f_rp.close()\n",
        "    print(\"  Arquivo modificado e fechado.\")\n",
        "    # Verifique o conteúdo de 'arquivo_rw.txt' (deve ser \"NOVO 1\\nLinha2\")\n",
        "except FileNotFoundError:\n",
        "    print(\"\\nModo 'r+': Crie o arquivo 'arquivo_rw.txt' primeiro.\")"
      ],
      "outputs": [
        {
          "output_type": "stream",
          "name": "stdout",
          "text": [
            "\n",
            "Modo 'r+': Crie o arquivo 'arquivo_rw.txt' primeiro.\n"
          ]
        }
      ],
      "execution_count": 41,
      "metadata": {
        "id": "QtcS3WvzU8tl",
        "colab": {
          "base_uri": "https://localhost:8080/"
        },
        "outputId": "08b8a308-a155-493d-bbac-445d6abdef05"
      }
    },
    {
      "cell_type": "markdown",
      "source": [
        "**Seção 3: Operações de Leitura de Arquivos**\n",
        "\n",
        "* **`read([size])`:** Lê `size` bytes/caracteres ou o arquivo inteiro se `size` for omitido. Retorna `str` (texto) ou `bytes` (binário). Cuidado com memória em arquivos grandes.²,⁷"
      ],
      "metadata": {
        "id": "hRn_n83TU8tl"
      }
    },
    {
      "cell_type": "code",
      "source": [
        "# Crie um arquivo 'leitura_exemplo.txt' com algumas linhas de texto.\n",
        "print(\"\\nLeitura com read():\")\n",
        "try:\n",
        "    arquivo = open(\"leitura_exemplo.txt\", \"r\", encoding=\"utf-8\")\n",
        "    # Lendo o arquivo inteiro\n",
        "    conteudo_total = arquivo.read()\n",
        "    print(\"--- Conteúdo Total ---\")\n",
        "    print(conteudo_total)\n",
        "    print(\"----------------------\")\n",
        "    arquivo.close()\n",
        "\n",
        "    # Lendo apenas os primeiros 10 caracteres\n",
        "    arquivo = open(\"leitura_exemplo.txt\", \"r\", encoding=\"utf-8\")\n",
        "    primeiros_10 = arquivo.read(10)\n",
        "    print(f\"Primeiros 10 caracteres: '{primeiros_10}'\")\n",
        "    arquivo.close()\n",
        "except FileNotFoundError:\n",
        "    print(\"Erro: Crie o arquivo 'leitura_exemplo.txt' para os exemplos de leitura.\")"
      ],
      "outputs": [
        {
          "output_type": "stream",
          "name": "stdout",
          "text": [
            "\n",
            "Leitura com read():\n",
            "Erro: Crie o arquivo 'leitura_exemplo.txt' para os exemplos de leitura.\n"
          ]
        }
      ],
      "execution_count": 42,
      "metadata": {
        "id": "-Sbv65pgU8tl",
        "colab": {
          "base_uri": "https://localhost:8080/"
        },
        "outputId": "11adb0fe-dab4-4cd6-86cc-fc73054cecac"
      }
    },
    {
      "cell_type": "markdown",
      "source": [
        "* **`readline()`:** Lê uma linha inteira, incluindo `\\n`. Retorna string vazia no fim do arquivo. Bom para arquivos grandes.²,⁷"
      ],
      "metadata": {
        "id": "o70V_trmU8tl"
      }
    },
    {
      "cell_type": "code",
      "source": [
        "# Leitura linha por linha com readline() em um loop while\n",
        "print(\"\\nLeitura com readline() em loop:\")\n",
        "try:\n",
        "    arquivo = open(\"leitura_exemplo.txt\", \"r\", encoding=\"utf-8\")\n",
        "    num_linha = 1\n",
        "    while True:\n",
        "        linha = arquivo.readline()\n",
        "        if not linha: # String vazia indica fim do arquivo\n",
        "            break\n",
        "        print(f\"Linha {num_linha}: {linha.strip()}\") # strip() remove espaços/newlines extras\n",
        "        num_linha += 1\n",
        "    arquivo.close()\n",
        "except FileNotFoundError:\n",
        "    print(\"Erro: Crie o arquivo 'leitura_exemplo.txt'.\")"
      ],
      "outputs": [
        {
          "output_type": "stream",
          "name": "stdout",
          "text": [
            "\n",
            "Leitura com readline() em loop:\n",
            "Erro: Crie o arquivo 'leitura_exemplo.txt'.\n"
          ]
        }
      ],
      "execution_count": 43,
      "metadata": {
        "id": "J0CaVSULU8tm",
        "colab": {
          "base_uri": "https://localhost:8080/"
        },
        "outputId": "a80b46f5-aa2d-4a89-eca2-f554d7ac9b90"
      }
    },
    {
      "cell_type": "markdown",
      "source": [
        "* **`readlines()`:** Lê todas as linhas em uma lista de strings (incluindo `\\n`). Conveniente, mas consome memória para arquivos grandes.²,⁷"
      ],
      "metadata": {
        "id": "xJF8d6HGU8tm"
      }
    },
    {
      "cell_type": "code",
      "source": [
        "# Leitura com readlines()\n",
        "print(\"\\nLeitura com readlines():\")\n",
        "try:\n",
        "    arquivo = open(\"leitura_exemplo.txt\", \"r\", encoding=\"utf-8\")\n",
        "    lista_linhas = arquivo.readlines()\n",
        "    print(f\"Tipo retornado: {type(lista_linhas)}\")\n",
        "    print(\"Conteúdo da lista de linhas:\")\n",
        "    for i, linha in enumerate(lista_linhas):\n",
        "        print(f\"  Índice {i}: '{linha.strip()}'\")\n",
        "    arquivo.close()\n",
        "except FileNotFoundError:\n",
        "    print(\"Erro: Crie o arquivo 'leitura_exemplo.txt'.\")"
      ],
      "outputs": [
        {
          "output_type": "stream",
          "name": "stdout",
          "text": [
            "\n",
            "Leitura com readlines():\n",
            "Erro: Crie o arquivo 'leitura_exemplo.txt'.\n"
          ]
        }
      ],
      "execution_count": 44,
      "metadata": {
        "id": "593OPWBGU8tm",
        "colab": {
          "base_uri": "https://localhost:8080/"
        },
        "outputId": "d60894bf-0a76-4fc1-f525-8929c12d6b61"
      }
    },
    {
      "cell_type": "markdown",
      "source": [
        "* **Iteração Direta sobre o Objeto de Arquivo:** Forma mais Pythonica e eficiente em memória para ler linha por linha."
      ],
      "metadata": {
        "id": "58R7vOd8U8tn"
      }
    },
    {
      "cell_type": "code",
      "source": [
        "# Iteração direta sobre o objeto de arquivo (recomendado)\n",
        "print(\"\\nLeitura por iteração direta (recomendado):\")\n",
        "try:\n",
        "    arquivo = open(\"leitura_exemplo.txt\", \"r\", encoding=\"utf-8\")\n",
        "    for linha in arquivo: # Python lê linha por linha eficientemente\n",
        "        print(f\"  Linha lida: {linha.strip()}\")\n",
        "    arquivo.close()\n",
        "except FileNotFoundError:\n",
        "    print(\"Erro: Crie o arquivo 'leitura_exemplo.txt'.\")"
      ],
      "outputs": [
        {
          "output_type": "stream",
          "name": "stdout",
          "text": [
            "\n",
            "Leitura por iteração direta (recomendado):\n",
            "Erro: Crie o arquivo 'leitura_exemplo.txt'.\n"
          ]
        }
      ],
      "execution_count": 45,
      "metadata": {
        "id": "Pf6C6uPWU8tn",
        "colab": {
          "base_uri": "https://localhost:8080/"
        },
        "outputId": "bb33010a-b1fa-4c34-a1ab-a757895afa94"
      }
    },
    {
      "cell_type": "markdown",
      "source": [
        "**Seção 4: Operações de Escrita de Arquivos**\n",
        "\n",
        "* **`write(string)`:** Escreve uma `string`. Não adiciona `\\n` automaticamente.²,⁷"
      ],
      "metadata": {
        "id": "I2zOVEYXU8tn"
      }
    },
    {
      "cell_type": "code",
      "source": [
        "# Escrita com write()\n",
        "try:\n",
        "    arquivo = open(\"escrita_exemplo.txt\", \"w\", encoding=\"utf-8\") # Modo 'w'\n",
        "    arquivo.write(\"Primeira linha escrita.\\n\") # Adiciona \\n manualmente\n",
        "    arquivo.write(\"Segunda linha.\")\n",
        "    arquivo.write(\" Continuação da segunda.\")\n",
        "    arquivo.close()\n",
        "    print(\"\\nArquivo 'escrita_exemplo.txt' escrito com write().\")\n",
        "    # Verifique o conteúdo do arquivo.\n",
        "except Exception as e:\n",
        "    print(f\"Erro ao escrever com write(): {e}\")"
      ],
      "outputs": [
        {
          "output_type": "stream",
          "name": "stdout",
          "text": [
            "\n",
            "Arquivo 'escrita_exemplo.txt' escrito com write().\n"
          ]
        }
      ],
      "execution_count": 46,
      "metadata": {
        "id": "5ClbDH3vU8to",
        "colab": {
          "base_uri": "https://localhost:8080/"
        },
        "outputId": "551c8d1b-8ce2-4718-9748-3fb92ad50b0d"
      }
    },
    {
      "cell_type": "markdown",
      "source": [
        "* **`writelines(lista_de_strings)`:** Escreve os itens de uma lista de strings. Não adiciona `\\n` automaticamente.²,⁷"
      ],
      "metadata": {
        "id": "JoA0LmnAU8to"
      }
    },
    {
      "cell_type": "code",
      "source": [
        "# Escrita com writelines()\n",
        "linhas_para_escrever = [\n",
        "    \"Cabeçalho\\n\",\n",
        "    \"Dado 1, Dado 2\\n\",\n",
        "    \"Fim do arquivo.\"\n",
        "]\n",
        "try:\n",
        "    arquivo = open(\"escrita_writelines.txt\", \"w\", encoding=\"utf-8\")\n",
        "    arquivo.writelines(linhas_para_escrever)\n",
        "    arquivo.close()\n",
        "    print(\"\\nArquivo 'escrita_writelines.txt' escrito com writelines().\")\n",
        "    # Verifique o conteúdo do arquivo.\n",
        "except Exception as e:\n",
        "    print(f\"Erro ao escrever com writelines(): {e}\")"
      ],
      "outputs": [
        {
          "output_type": "stream",
          "name": "stdout",
          "text": [
            "\n",
            "Arquivo 'escrita_writelines.txt' escrito com writelines().\n"
          ]
        }
      ],
      "execution_count": 47,
      "metadata": {
        "id": "6DX1mXzoU8to",
        "colab": {
          "base_uri": "https://localhost:8080/"
        },
        "outputId": "69c8e19e-df82-4fe2-f22b-24e091cab33d"
      }
    },
    {
      "cell_type": "markdown",
      "source": [
        "**Seção 5: Gerenciamento Seguro de Arquivos com a Instrução `with`**\n",
        "\n",
        "Altamente recomendado. Garante que `arquivo.close()` seja chamado automaticamente, mesmo com erros. Simplifica o código e evita vazamento de recursos.⁴,⁷"
      ],
      "metadata": {
        "id": "esFu39HSU8tp"
      }
    },
    {
      "cell_type": "code",
      "source": [
        "# Uso de 'with' para leitura (recomendado)\n",
        "print(\"\\nLeitura segura com 'with':\")\n",
        "try:\n",
        "    with open(\"leitura_exemplo.txt\", \"r\", encoding=\"utf-8\") as arquivo_leitura:\n",
        "        for i, linha in enumerate(arquivo_leitura):\n",
        "            print(f\"  Lendo linha {i} com 'with': {linha.strip()}\")\n",
        "    # arquivo_leitura é fechado automaticamente aqui, mesmo se ocorrer erro dentro do 'with'\n",
        "    print(\"Arquivo de leitura fechado automaticamente pelo 'with'.\")\n",
        "except FileNotFoundError:\n",
        "    print(\"Erro: Crie o arquivo 'leitura_exemplo.txt'.\")\n",
        "\n",
        "# Uso de 'with' para escrita (recomendado)\n",
        "print(\"\\nEscrita segura com 'with':\")\n",
        "try:\n",
        "    with open(\"escrita_with.txt\", \"w\", encoding=\"utf-8\") as arquivo_escrita:\n",
        "        arquivo_escrita.write(\"Escrito usando 'with'.\\n\")\n",
        "        arquivo_escrita.write(\"Segunda linha.\\n\")\n",
        "    # arquivo_escrita é fechado automaticamente aqui\n",
        "    print(\"Arquivo de escrita fechado automaticamente pelo 'with'.\")\n",
        "except Exception as e:\n",
        "    print(f\"Erro durante escrita com 'with': {e}\")"
      ],
      "outputs": [
        {
          "output_type": "stream",
          "name": "stdout",
          "text": [
            "\n",
            "Leitura segura com 'with':\n",
            "Erro: Crie o arquivo 'leitura_exemplo.txt'.\n",
            "\n",
            "Escrita segura com 'with':\n",
            "Arquivo de escrita fechado automaticamente pelo 'with'.\n"
          ]
        }
      ],
      "execution_count": 48,
      "metadata": {
        "id": "-I4o6ASvU8tp",
        "colab": {
          "base_uri": "https://localhost:8080/"
        },
        "outputId": "856048bf-d746-45dd-fcc6-3547edc9078d"
      }
    },
    {
      "cell_type": "markdown",
      "source": [
        "**Seção 6: Tratamento de Erros em Operações de Arquivo**\n",
        "\n",
        "Use `try...except...finally` para lidar com erros como `FileNotFoundError`, `PermissionError`, `IOError` (ou `OSError`).⁷"
      ],
      "metadata": {
        "id": "LUNNRYaQU8tp"
      }
    },
    {
      "cell_type": "code",
      "source": [
        "# Tratamento de Erros comuns com 'with'\n",
        "arquivo_inexistente = \"nao_existe.txt\"\n",
        "arquivo_sem_permissao = \"arquivo_protegido_teste.txt\" # Simular falta de permissão\n",
        "\n",
        "# Criar um arquivo sem permissão de escrita (pode variar em sistemas não-Unix)\n",
        "try:\n",
        "    with open(arquivo_sem_permissao, \"w\") as f:\n",
        "        pass # Cria o arquivo\n",
        "    import os, stat\n",
        "    os.chmod(arquivo_sem_permissao, stat.S_IREAD) # Torna somente leitura\n",
        "    print(f\"\\nArquivo '{arquivo_sem_permissao}' criado e tornado somente leitura para teste.\")\n",
        "except Exception as e:\n",
        "    print(f\"\\nAviso: Não foi possível definir permissões em '{arquivo_sem_permissao}': {e}\")\n",
        "\n",
        "\n",
        "print(\"\\nTentando operações com tratamento de erro:\")\n",
        "\n",
        "# Tentando ler arquivo inexistente\n",
        "try:\n",
        "    with open(arquivo_inexistente, \"r\", encoding=\"utf-8\") as f:\n",
        "        print(f.read())\n",
        "except FileNotFoundError:\n",
        "    print(f\"Erro tratado: Arquivo '{arquivo_inexistente}' não encontrado.\")\n",
        "except Exception as e:\n",
        "    print(f\"Erro inesperado ao ler '{arquivo_inexistente}': {e}\")\n",
        "\n",
        "\n",
        "# Tentando escrever em arquivo somente leitura\n",
        "try:\n",
        "    with open(arquivo_sem_permissao, \"w\", encoding=\"utf-8\") as f:\n",
        "        f.write(\"Tentativa de escrita.\")\n",
        "except PermissionError:\n",
        "    print(f\"Erro tratado: Permissão negada para escrever em '{arquivo_sem_permissao}'.\")\n",
        "except FileNotFoundError: # Boa prática incluir caso o arquivo tenha sido removido\n",
        "    print(f\"Erro tratado: Arquivo '{arquivo_sem_permissao}' não encontrado para escrita.\")\n",
        "except Exception as e:\n",
        "    print(f\"Erro inesperado ao escrever em '{arquivo_sem_permissao}': {e}\")\n",
        "\n",
        "\n",
        "# Exemplo capturando múltiplos erros específicos e um genérico\n",
        "try:\n",
        "    # Escolha uma operação que pode falhar (ler inexistente ou escrever protegido)\n",
        "    nome_arquivo_teste = arquivo_sem_permissao # ou arquivo_inexistente\n",
        "    modo_teste = \"a\" # Tentar append em arquivo somente leitura\n",
        "\n",
        "    print(f\"\\nTentando '{modo_teste}' em '{nome_arquivo_teste}'...\")\n",
        "    with open(nome_arquivo_teste, modo_teste, encoding=\"utf-8\") as f:\n",
        "        if 'r' in modo_teste:\n",
        "             print(f.read())\n",
        "        if 'w' in modo_teste or 'a' in modo_teste:\n",
        "             f.write(\"Teste.\\n\")\n",
        "    print(\"Operação bem-sucedida (improvável para escrita protegida).\")\n",
        "\n",
        "except FileNotFoundError:\n",
        "    print(f\"ERRO ESPECÍFICO: O arquivo '{nome_arquivo_teste}' não existe.\")\n",
        "except PermissionError:\n",
        "    print(f\"ERRO ESPECÍFICO: Sem permissão para o modo '{modo_teste}' em '{nome_arquivo_teste}'.\")\n",
        "except IsADirectoryError:\n",
        "    print(f\"ERRO ESPECÍFICO: '{nome_arquivo_teste}' é um diretório, não um arquivo.\")\n",
        "except OSError as e: # Captura outros erros de SO/IO\n",
        "    print(f\"ERRO GENÉRICO DE OS/IO: {e}\")\n",
        "except Exception as e: # Captura qualquer outro erro inesperado\n",
        "    print(f\"ERRO INESPERADO GERAL: {e}\")\n",
        "finally:\n",
        "    # Limpeza: remover o arquivo de teste se ele foi criado e bloqueado\n",
        "    try:\n",
        "        if os.path.exists(arquivo_sem_permissao):\n",
        "            os.chmod(arquivo_sem_permissao, stat.S_IWRITE | stat.S_IREAD) # Devolver permissão de escrita\n",
        "            os.remove(arquivo_sem_permissao)\n",
        "            print(f\"\\nArquivo de teste '{arquivo_sem_permissao}' removido.\")\n",
        "    except Exception as e:\n",
        "        print(f\"\\nAviso: Não foi possível remover arquivo de teste: {e}\")\n",
        "\n",
        "\n",
        "# Nota: Usar 'with' elimina a necessidade do 'finally' para fechar o arquivo.\n",
        "# 'finally' ainda é útil para outras limpezas."
      ],
      "outputs": [
        {
          "output_type": "stream",
          "name": "stdout",
          "text": [
            "\n",
            "Arquivo 'arquivo_protegido_teste.txt' criado e tornado somente leitura para teste.\n",
            "\n",
            "Tentando operações com tratamento de erro:\n",
            "Erro tratado: Arquivo 'nao_existe.txt' não encontrado.\n",
            "\n",
            "Tentando 'a' em 'arquivo_protegido_teste.txt'...\n",
            "Operação bem-sucedida (improvável para escrita protegida).\n",
            "\n",
            "Arquivo de teste 'arquivo_protegido_teste.txt' removido.\n"
          ]
        }
      ],
      "execution_count": 49,
      "metadata": {
        "id": "mr4yb5EpU8tp",
        "colab": {
          "base_uri": "https://localhost:8080/"
        },
        "outputId": "7fcd1985-1f5f-4698-cc5c-2da5a08728b7"
      }
    },
    {
      "cell_type": "markdown",
      "source": [
        "**Seção 7: Manipulação de Arquivos Binários**\n",
        "\n",
        "Dados tratados como `bytes`. Modos incluem `'b'` (`'rb'`, `'wb'`, `'ab'`, `'xb'`).²,⁷\n",
        "\n",
        "* **Leitura (`'rb'`)**: `read()` retorna `bytes`."
      ],
      "metadata": {
        "id": "ijOa3v7PU8tq"
      }
    },
    {
      "cell_type": "code",
      "source": [
        "# Leitura binária ('rb') - lendo alguns bytes\n",
        "try:\n",
        "    # Usa o arquivo binário criado anteriormente\n",
        "    with open(\"arquivo_binario.bin\", \"rb\") as f_rb:\n",
        "        primeiros_dois_bytes = f_rb.read(2) # Lê os primeiros 2 bytes\n",
        "        restante = f_rb.read()          # Lê o restante\n",
        "        print(f\"\\nLendo arquivo binário:\")\n",
        "        print(f\"  Primeiros 2 bytes: {primeiros_dois_bytes} (Tipo: {type(primeiros_dois_bytes)})\")\n",
        "        print(f\"  Restante dos bytes: {restante}\")\n",
        "        # Exibindo os valores numéricos dos bytes\n",
        "        print(f\"  Valores numéricos dos primeiros 2 bytes: {[b for b in primeiros_dois_bytes]}\")\n",
        "except FileNotFoundError:\n",
        "    print(\"\\nErro: Execute o exemplo 'wb' da Seção 2 primeiro para criar 'arquivo_binario.bin'.\")\n",
        "except Exception as e:\n",
        "    print(f\"\\nErro ao ler arquivo binário: {e}\")"
      ],
      "outputs": [
        {
          "output_type": "stream",
          "name": "stdout",
          "text": [
            "\n",
            "Lendo arquivo binário:\n",
            "  Primeiros 2 bytes: b'\\x01\\x02' (Tipo: <class 'bytes'>)\n",
            "  Restante dos bytes: b'\\x03\\xff'\n",
            "  Valores numéricos dos primeiros 2 bytes: [1, 2]\n"
          ]
        }
      ],
      "execution_count": 50,
      "metadata": {
        "id": "mQyHIGKkU8tq",
        "colab": {
          "base_uri": "https://localhost:8080/"
        },
        "outputId": "0a85a59a-5fc5-48a8-acba-63e27ed44218"
      }
    },
    {
      "cell_type": "markdown",
      "source": [
        "* **Escrita (`'wb'`)**: `write()` espera `bytes`. Use `.encode()` para converter `str` se necessário, mas geralmente dados binários já são `bytes`."
      ],
      "metadata": {
        "id": "RPNaaQKFU8tr"
      }
    },
    {
      "cell_type": "code",
      "source": [
        "# Escrita binária ('wb') - escrevendo diferentes tipos de dados como bytes\n",
        "try:\n",
        "    with open(\"escrita_binaria.bin\", \"wb\") as f_wb:\n",
        "        # Escrevendo bytes literais\n",
        "        f_wb.write(b'PK\\x03\\x04') # Exemplo (similar a cabeçalho ZIP)\n",
        "\n",
        "        # Escrevendo um inteiro como bytes (ex: 4 bytes, big-endian)\n",
        "        numero_int = 1025 # 0x401\n",
        "        bytes_int = numero_int.to_bytes(4, byteorder='big') # Requer 4 bytes\n",
        "        f_wb.write(bytes_int) # Escreve b'\\x00\\x00\\x04\\x01'\n",
        "\n",
        "        # Escrevendo uma string codificada\n",
        "        texto = \"Olá Binário!\"\n",
        "        bytes_texto = texto.encode('utf-8')\n",
        "        f_wb.write(bytes_texto)\n",
        "\n",
        "    print(\"\\nArquivo 'escrita_binaria.bin' escrito com dados binários diversos.\")\n",
        "    # Use um visualizador hexadecimal para inspecionar 'escrita_binaria.bin'\n",
        "except Exception as e:\n",
        "    print(f\"\\nErro na escrita binária: {e}\")"
      ],
      "outputs": [
        {
          "output_type": "stream",
          "name": "stdout",
          "text": [
            "\n",
            "Arquivo 'escrita_binaria.bin' escrito com dados binários diversos.\n"
          ]
        }
      ],
      "execution_count": 51,
      "metadata": {
        "id": "1Q5MvXALU8tr",
        "colab": {
          "base_uri": "https://localhost:8080/"
        },
        "outputId": "cd849a0d-2046-4806-c8d8-68d50251f2fb"
      }
    },
    {
      "cell_type": "markdown",
      "source": [
        "**Seção 8: Outras Operações Importantes em Arquivos**\n",
        "\n",
        "* **`seek(offset, whence=0)`:** Move o ponteiro do arquivo.⁷\n",
        "    * `whence=0`: A partir do início (padrão).\n",
        "    * `whence=1`: A partir da posição atual.\n",
        "    * `whence=2`: A partir do final (requer modo binário para `offset != 0`)."
      ],
      "metadata": {
        "id": "ZBE2cqBXU8tr"
      }
    },
    {
      "cell_type": "code",
      "source": [
        "# Crie 'seek_tell_exemplo.txt' com \"0123456789abcdef\"\n",
        "print(\"\\nTestando seek() e tell():\")\n",
        "try:\n",
        "    with open(\"seek_tell_exemplo.txt\", \"r+\", encoding=\"utf-8\") as arquivo: # r+ para permitir seek e leitura/escrita\n",
        "        print(f\"Posição inicial: {arquivo.tell()}\") # Saída: 0\n",
        "\n",
        "        # seek(5, 0) -> Vai para o 6º caractere ('5')\n",
        "        arquivo.seek(5)\n",
        "        print(f\"Após seek(5, 0): Posição={arquivo.tell()}, Próximo char='{arquivo.read(1)}'\") # Lê '5'\n",
        "\n",
        "        # seek(3, 1) -> Avança 3 caracteres a partir da posição atual (após ler '5')\n",
        "        arquivo.seek(3, 1)\n",
        "        print(f\"Após seek(3, 1): Posição={arquivo.tell()}, Próximo char='{arquivo.read(1)}'\") # Lê '9'\n",
        "\n",
        "        # seek(-4, 2) -> Vai para 4 caracteres antes do fim (requer modo binário para offset != 0 em whence=2 em alguns S.O.)\n",
        "        # Para modo texto, seek do final só funciona com offset 0 normalmente.\n",
        "        # Vamos reabrir em modo binário para demonstrar whence=2 com offset\n",
        "        arquivo.close()\n",
        "\n",
        "    with open(\"seek_tell_exemplo.txt\", \"rb\") as arquivo_b: # Modo binário\n",
        "          # seek(-4, 2) -> Vai 4 bytes antes do fim ('cdef')\n",
        "          arquivo_b.seek(-4, 2)\n",
        "          print(f\"Após seek(-4, 2) [binário]: Posição={arquivo_b.tell()}, Leitura={arquivo_b.read()}\") # Lê b'cdef'\n",
        "\n",
        "except FileNotFoundError:\n",
        "    print(\"Erro: Crie 'seek_tell_exemplo.txt' com '0123456789abcdef'.\")\n",
        "except Exception as e:\n",
        "    print(f\"Erro com seek/tell: {e}\")"
      ],
      "outputs": [
        {
          "output_type": "stream",
          "name": "stdout",
          "text": [
            "\n",
            "Testando seek() e tell():\n",
            "Erro: Crie 'seek_tell_exemplo.txt' com '0123456789abcdef'.\n"
          ]
        }
      ],
      "execution_count": 52,
      "metadata": {
        "id": "OQe3P5aoU8tr",
        "colab": {
          "base_uri": "https://localhost:8080/"
        },
        "outputId": "b7b0c1c2-d074-4274-c7af-3c8ebb53045a"
      }
    },
    {
      "cell_type": "markdown",
      "source": [
        "* **`tell()`:** Retorna a posição atual do ponteiro.⁷ (Exemplo acima)\n",
        "\n",
        "**Seção 9: Melhores Práticas para Manipulação de Arquivos em Python**\n",
        "\n",
        "* **Usar `with`:** Garante fechamento automático e seguro.⁴,⁷\n",
        "* **Tratar Exceções:** Usar `try...except` para `FileNotFoundError`, `PermissionError`, etc.⁷\n",
        "* **Verificar Existência:** Usar `os.path.exists()` antes de abrir para leitura, se necessário.²"
      ],
      "metadata": {
        "id": "LFkM35mxU8ts"
      }
    },
    {
      "cell_type": "code",
      "source": [
        "import os\n",
        "\n",
        "nome_arquivo_verificar = \"leitura_exemplo.txt\"\n",
        "print(f\"\\nVerificando existência de '{nome_arquivo_verificar}':\")\n",
        "if os.path.exists(nome_arquivo_verificar):\n",
        "    print(\"  Arquivo existe. Abrindo com segurança...\")\n",
        "    try:\n",
        "        with open(nome_arquivo_verificar, \"r\", encoding=\"utf-8\") as f:\n",
        "            print(f\"  Conteúdo inicial: {f.readline().strip()}\")\n",
        "    except Exception as e:\n",
        "        print(f\"  Erro ao ler arquivo existente: {e}\")\n",
        "else:\n",
        "    print(\"  Arquivo não existe. Operação de leitura abortada.\")"
      ],
      "outputs": [
        {
          "output_type": "stream",
          "name": "stdout",
          "text": [
            "\n",
            "Verificando existência de 'leitura_exemplo.txt':\n",
            "  Arquivo não existe. Operação de leitura abortada.\n"
          ]
        }
      ],
      "execution_count": 53,
      "metadata": {
        "id": "nGVRilrDU8ts",
        "colab": {
          "base_uri": "https://localhost:8080/"
        },
        "outputId": "1416aac9-2f63-4e40-dcee-bb2bfd4a71a0"
      }
    },
    {
      "cell_type": "markdown",
      "source": [
        "**Seção 10: Introdução às Estruturas de Controle em Python**\n",
        "\n",
        "Estruturas de controle definem a ordem de execução das instruções.¹⁴ Essenciais para lógica complexa, decisões e repetições.\n",
        "* **Sequenciais:** Execução linear, instrução após instrução.¹⁴\n",
        "* **Seleção (Condicionais):** Executam blocos diferentes baseados em condições (`if`, `elif`, `else`, `match`).¹⁴\n",
        "* **Repetição (Loops):** Executam blocos repetidamente (`for`, `while`).¹⁴\n",
        "\n",
        "**Seção 11: Estruturas de Seleção (Condicionais)**\n",
        "\n",
        "Permitem tomar decisões.\n",
        "\n",
        "* **`if condição:`:** Executa bloco se `condição` for `True`.¹⁵"
      ],
      "metadata": {
        "id": "g0jsStJGU8ts"
      }
    },
    {
      "cell_type": "code",
      "source": [
        "idade = 20\n",
        "print(\"\\nExemplo if:\")\n",
        "if idade >= 18:\n",
        "    print(\"  Maior de idade.\")"
      ],
      "outputs": [
        {
          "output_type": "stream",
          "name": "stdout",
          "text": [
            "\n",
            "Exemplo if:\n",
            "  Maior de idade.\n"
          ]
        }
      ],
      "execution_count": 54,
      "metadata": {
        "id": "yAY7XVQSU8t2",
        "colab": {
          "base_uri": "https://localhost:8080/"
        },
        "outputId": "e80e4493-8044-4bb8-c0fd-a9bd3ed2a3e8"
      }
    },
    {
      "cell_type": "markdown",
      "source": [
        "* **`else:`:** Executa bloco se `if` (e `elif`s) forem `False`.¹⁵"
      ],
      "metadata": {
        "id": "NjKunSdHU8t2"
      }
    },
    {
      "cell_type": "code",
      "source": [
        "temperatura = 15\n",
        "print(\"\\nExemplo if-else:\")\n",
        "if temperatura > 25:\n",
        "    print(\"  Está calor.\")\n",
        "else:\n",
        "    print(\"  Não está calor.\")"
      ],
      "outputs": [
        {
          "output_type": "stream",
          "name": "stdout",
          "text": [
            "\n",
            "Exemplo if-else:\n",
            "  Não está calor.\n"
          ]
        }
      ],
      "execution_count": 55,
      "metadata": {
        "id": "Qtu_4Zh-U8t2",
        "colab": {
          "base_uri": "https://localhost:8080/"
        },
        "outputId": "8c7191f4-84b2-4c8b-d2ec-b538de2dfac2"
      }
    },
    {
      "cell_type": "markdown",
      "source": [
        "* **`elif condição:`:** Verifica condições adicionais se `if`/`elif` anteriores forem `False`.¹⁵"
      ],
      "metadata": {
        "id": "rXtmGzkfU8t3"
      }
    },
    {
      "cell_type": "code",
      "source": [
        "nota = 88\n",
        "print(\"\\nExemplo if-elif-else:\")\n",
        "if nota >= 90:\n",
        "    conceito = \"A\"\n",
        "elif nota >= 80:\n",
        "    conceito = \"B\"\n",
        "elif nota >= 70:\n",
        "    conceito = \"C\"\n",
        "else:\n",
        "    conceito = \"D\"\n",
        "print(f\"  Conceito: {conceito}\") # Saída: B"
      ],
      "outputs": [
        {
          "output_type": "stream",
          "name": "stdout",
          "text": [
            "\n",
            "Exemplo if-elif-else:\n",
            "  Conceito: B\n"
          ]
        }
      ],
      "execution_count": 56,
      "metadata": {
        "id": "2guc5UGkU8t3",
        "colab": {
          "base_uri": "https://localhost:8080/"
        },
        "outputId": "73750939-4510-43d9-a69f-db79a9791e76"
      }
    },
    {
      "cell_type": "markdown",
      "source": [
        "* **`match valor: case padrão:` (Python 3.10+):** Compara `valor` com múltiplos `padrão`(s). Usa `|` para múltiplos literais, `_` para padrão wildcard, `if` para guardas.¹⁵"
      ],
      "metadata": {
        "id": "KWuIxz-FU8t3"
      }
    },
    {
      "cell_type": "code",
      "source": [
        "# Exemplo match...case\n",
        "http_status = 404\n",
        "print(\"\\nExemplo match...case (status HTTP):\")\n",
        "match http_status:\n",
        "    case 200 | 201 | 204:\n",
        "        print(\"  Sucesso.\")\n",
        "    case 400:\n",
        "        print(\"  Requisição inválida.\")\n",
        "    case 404:\n",
        "        print(\"  Não encontrado.\")\n",
        "    case 500 | 503:\n",
        "        print(\"  Erro no servidor.\")\n",
        "    case _: # Padrão wildcard\n",
        "        print(\"  Status desconhecido.\")\n",
        "\n",
        "# Exemplo complexo: Structural Pattern Matching com tuplas/listas\n",
        "ponto = (3, 0) # ou [3, 0]\n",
        "print(\"\\nExemplo match...case (Structural Pattern Matching):\")\n",
        "match ponto:\n",
        "    case (0, 0):\n",
        "        print(\"  Origem\")\n",
        "    case (x, 0) if x > 0: # Padrão com guarda\n",
        "        print(f\"  Eixo X positivo no ponto {x}\")\n",
        "    case (0, y):\n",
        "        print(f\"  Eixo Y no ponto {y}\")\n",
        "    case (x, y):\n",
        "        print(f\"  Ponto genérico ({x}, {y})\")\n",
        "    case _:\n",
        "        print(\"  Não é um ponto válido\")\n",
        "\n",
        "# Exemplo com dicionários\n",
        "acao = {'comando': 'desenhar', 'forma': 'circulo', 'cor': 'vermelho', 'raio': 10}\n",
        "match acao:\n",
        "    case {'comando': 'desenhar', 'forma': 'retangulo', 'largura': l, 'altura': a}:\n",
        "          print(f\"  Desenhar retângulo {l}x{a}\")\n",
        "    case {'comando': 'desenhar', 'forma': 'circulo', 'raio': r, **outros}: # Captura resto com **\n",
        "          print(f\"  Desenhar círculo raio {r}, extras: {outros}\") # extras = {'cor': 'vermelho'}\n",
        "    case {'comando': 'apagar', **params}:\n",
        "          print(f\"  Apagando com parâmetros: {params}\")\n",
        "    case _:\n",
        "          print(\"  Ação desconhecida.\")"
      ],
      "outputs": [
        {
          "output_type": "stream",
          "name": "stdout",
          "text": [
            "\n",
            "Exemplo match...case (status HTTP):\n",
            "  Não encontrado.\n",
            "\n",
            "Exemplo match...case (Structural Pattern Matching):\n",
            "  Eixo X positivo no ponto 3\n",
            "  Desenhar círculo raio 10, extras: {'cor': 'vermelho'}\n"
          ]
        }
      ],
      "execution_count": 57,
      "metadata": {
        "id": "ZM5aCW2hU8t4",
        "colab": {
          "base_uri": "https://localhost:8080/"
        },
        "outputId": "96b6ec3e-1cf1-4aed-f582-c90e596bca9e"
      }
    },
    {
      "cell_type": "markdown",
      "source": [
        "* **`if` Aninhado:** `if` dentro de outro `if`. Usar com moderação para não complicar a leitura.¹⁵"
      ],
      "metadata": {
        "id": "GYp228jsU8t4"
      }
    },
    {
      "cell_type": "code",
      "source": [
        "# Exemplo if aninhado\n",
        "usuario_logado = True\n",
        "eh_admin = False\n",
        "print(\"\\nExemplo if aninhado:\")\n",
        "if usuario_logado:\n",
        "    print(\"  Usuário está logado.\")\n",
        "    if eh_admin:\n",
        "        print(\"  E é administrador.\")\n",
        "    else:\n",
        "        print(\"  Mas não é administrador.\")\n",
        "else:\n",
        "    print(\"  Usuário não está logado.\")"
      ],
      "outputs": [
        {
          "output_type": "stream",
          "name": "stdout",
          "text": [
            "\n",
            "Exemplo if aninhado:\n",
            "  Usuário está logado.\n",
            "  Mas não é administrador.\n"
          ]
        }
      ],
      "execution_count": 58,
      "metadata": {
        "id": "nXXC0SCxU8t4",
        "colab": {
          "base_uri": "https://localhost:8080/"
        },
        "outputId": "8e25fb8b-bb28-4dce-d55f-9521b0688b4c"
      }
    },
    {
      "cell_type": "markdown",
      "source": [
        "**Seção 12: Estruturas de Repetição (Loops)**\n",
        "\n",
        "Executam blocos de código múltiplas vezes.\n",
        "\n",
        "* **`for variavel in iteravel:`:** Itera sobre itens de sequências ou iteráveis.¹⁵ Usa `range()` para sequências numéricas,²⁰ `enumerate()` para índice e valor.²⁰"
      ],
      "metadata": {
        "id": "oCLYkzTwU8t5"
      }
    },
    {
      "cell_type": "code",
      "source": [
        "# Exemplos loop for\n",
        "print(\"\\nExemplos loop for:\")\n",
        "print(\"Iterando lista:\")\n",
        "frutas = [\"maçã\", \"banana\", \"laranja\"]\n",
        "for fruta in frutas:\n",
        "    print(f\"  - {fruta}\")\n",
        "\n",
        "print(\"Usando range(1, 6, 2):\")\n",
        "for i in range(1, 6, 2): # 1, 3, 5\n",
        "    print(f\"  Número: {i}\")\n",
        "\n",
        "print(\"Usando enumerate:\")\n",
        "for indice, fruta in enumerate(frutas, start=1): # Começa índice em 1\n",
        "    print(f\"  {indice}. {fruta}\")"
      ],
      "outputs": [
        {
          "output_type": "stream",
          "name": "stdout",
          "text": [
            "\n",
            "Exemplos loop for:\n",
            "Iterando lista:\n",
            "  - maçã\n",
            "  - banana\n",
            "  - laranja\n",
            "Usando range(1, 6, 2):\n",
            "  Número: 1\n",
            "  Número: 3\n",
            "  Número: 5\n",
            "Usando enumerate:\n",
            "  1. maçã\n",
            "  2. banana\n",
            "  3. laranja\n"
          ]
        }
      ],
      "execution_count": 59,
      "metadata": {
        "id": "JBGO52K3U8t5",
        "colab": {
          "base_uri": "https://localhost:8080/"
        },
        "outputId": "e786cbbf-aca3-4da1-ed84-ef17929694c9"
      }
    },
    {
      "cell_type": "markdown",
      "source": [
        "* **`while condição:`:** Executa enquanto `condição` for `True`. Cuidado com loops infinitos.¹⁵,⁶⁵"
      ],
      "metadata": {
        "id": "ssHS1L-mU8t5"
      }
    },
    {
      "cell_type": "code",
      "source": [
        "# Exemplos loop while\n",
        "print(\"\\nExemplos loop while:\")\n",
        "print(\"Contador até 3:\")\n",
        "contador = 0\n",
        "while contador <= 3:\n",
        "    print(f\"  Contagem: {contador}\")\n",
        "    contador += 1\n",
        "\n",
        "# Input até digitar 'fim'\n",
        "# entrada_usuario = \"\"\n",
        "# print(\"Digite 'fim' para sair:\")\n",
        "# while entrada_usuario.lower() != \"fim\":\n",
        "#     entrada_usuario = input(\"  > \")\n",
        "#     print(f\"    Você digitou: {entrada_usuario}\")\n",
        "# print(\"  Loop de input terminado.\")"
      ],
      "outputs": [
        {
          "output_type": "stream",
          "name": "stdout",
          "text": [
            "\n",
            "Exemplos loop while:\n",
            "Contador até 3:\n",
            "  Contagem: 0\n",
            "  Contagem: 1\n",
            "  Contagem: 2\n",
            "  Contagem: 3\n"
          ]
        }
      ],
      "execution_count": 60,
      "metadata": {
        "id": "-QDh5oUEU8t6",
        "colab": {
          "base_uri": "https://localhost:8080/"
        },
        "outputId": "5b788db7-c9af-45fa-f1e5-f89c5b7b256e"
      }
    },
    {
      "cell_type": "markdown",
      "source": [
        "* **Cláusula `else` em Loops:** Executada se o loop terminar normalmente (sem `break`).¹⁵"
      ],
      "metadata": {
        "id": "gLFnFb_UU8t6"
      }
    },
    {
      "cell_type": "code",
      "source": [
        "# Exemplo else com loop for\n",
        "print(\"\\nLoop for com else:\")\n",
        "for num in [1, 3, 5]:\n",
        "    print(f\"  Verificando {num}\")\n",
        "    if num % 2 == 0:\n",
        "        print(\"  Par encontrado!\")\n",
        "        break\n",
        "else: # Só executa se o loop terminar sem break\n",
        "    print(\"  Nenhum número par encontrado na lista.\")\n",
        "\n",
        "# Exemplo else com loop while\n",
        "print(\"\\nLoop while com else:\")\n",
        "tentativas = 3\n",
        "while tentativas > 0:\n",
        "    print(f\"  Tentativas restantes: {tentativas}\")\n",
        "    # Suponha uma operação que pode falhar ou ter sucesso\n",
        "    sucesso = False # Simular falha nas primeiras\n",
        "    if tentativas == 1: sucesso = True # Simular sucesso na última\n",
        "    if sucesso:\n",
        "        print(\"  Operação bem-sucedida!\")\n",
        "        # break # Se descomentar break, o else NÃO executa\n",
        "    tentativas -= 1\n",
        "else: # Só executa se a condição 'tentativas > 0' se tornar falsa\n",
        "    print(\"  Loop while terminou (talvez sem sucesso total se houve break).\")\n",
        "    # Se não houve break, significa que esgotou tentativas sem sucesso."
      ],
      "outputs": [
        {
          "output_type": "stream",
          "name": "stdout",
          "text": [
            "\n",
            "Loop for com else:\n",
            "  Verificando 1\n",
            "  Verificando 3\n",
            "  Verificando 5\n",
            "  Nenhum número par encontrado na lista.\n",
            "\n",
            "Loop while com else:\n",
            "  Tentativas restantes: 3\n",
            "  Tentativas restantes: 2\n",
            "  Tentativas restantes: 1\n",
            "  Operação bem-sucedida!\n",
            "  Loop while terminou (talvez sem sucesso total se houve break).\n"
          ]
        }
      ],
      "execution_count": 61,
      "metadata": {
        "id": "pQYKHdMnU8t6",
        "colab": {
          "base_uri": "https://localhost:8080/"
        },
        "outputId": "da54a3fc-c756-4562-f8d9-2f5d62575a95"
      }
    },
    {
      "cell_type": "markdown",
      "source": [
        "* **Loops Aninhados:** Loop dentro de outro loop. Útil para matrizes, combinações.¹⁵"
      ],
      "metadata": {
        "id": "X9qsxGHbU8t7"
      }
    },
    {
      "cell_type": "code",
      "source": [
        "# Exemplo loop aninhado (tabuada simples)\n",
        "print(\"\\nLoops Aninhados (Tabuada 2x2):\")\n",
        "for i in range(1, 3): # Linhas 1, 2\n",
        "    print(f\"Tabuada do {i}:\")\n",
        "    for j in range(1, 3): # Colunas 1, 2\n",
        "        print(f\"  {i} x {j} = {i*j}\")\n",
        "\n",
        "# Exemplo complexo: Encontrar pares em lista que somam N\n",
        "numeros = [1, 2, 3, 4, 5, 6]\n",
        "soma_desejada = 7\n",
        "pares_encontrados = []\n",
        "print(f\"\\nEncontrando pares em {numeros} que somam {soma_desejada}:\")\n",
        "for i in range(len(numeros)):\n",
        "    for j in range(i + 1, len(numeros)): # Evita repetir pares (j começa de i+1)\n",
        "        if numeros[i] + numeros[j] == soma_desejada:\n",
        "            par = (numeros[i], numeros[j])\n",
        "            print(f\"  Par encontrado: {par}\")\n",
        "            pares_encontrados.append(par)\n",
        "if not pares_encontrados:\n",
        "    print(\"  Nenhum par encontrado.\")"
      ],
      "outputs": [
        {
          "output_type": "stream",
          "name": "stdout",
          "text": [
            "\n",
            "Loops Aninhados (Tabuada 2x2):\n",
            "Tabuada do 1:\n",
            "  1 x 1 = 1\n",
            "  1 x 2 = 2\n",
            "Tabuada do 2:\n",
            "  2 x 1 = 2\n",
            "  2 x 2 = 4\n",
            "\n",
            "Encontrando pares em [1, 2, 3, 4, 5, 6] que somam 7:\n",
            "  Par encontrado: (1, 6)\n",
            "  Par encontrado: (2, 5)\n",
            "  Par encontrado: (3, 4)\n"
          ]
        }
      ],
      "execution_count": 62,
      "metadata": {
        "id": "hMsXuDNqU8t7",
        "colab": {
          "base_uri": "https://localhost:8080/"
        },
        "outputId": "6ab4b2f4-1d26-4205-efc7-ca643b9b75da"
      }
    },
    {
      "cell_type": "markdown",
      "source": [
        "**Seção 13: Conclusão**\n",
        "\n",
        "Este estudo detalhado explorou os fundamentos da manipulação de arquivos e das estruturas de controle em Python, dois pilares essenciais para qualquer programador. A manipulação de arquivos permite a interação com dados persistentes, enquanto as estruturas de controle possibilitam a criação de lógicas complexas. A função `open()` e a instrução `with` são centrais para o trabalho seguro com arquivos, complementadas pelo tratamento de erros (`try...except`). As estruturas condicionais (`if`, `elif`, `else`, `match`) permitem decisões, e os loops (`for`, `while`) automatizam repetições. Dominar esses conceitos é fundamental para programar em Python de forma eficaz, abrindo caminho para aplicações mais elaboradas e eficientes."
      ],
      "metadata": {
        "id": "1mOLoC7UU8t8"
      }
    }
  ],
  "metadata": {
    "colab": {
      "provenance": []
    },
    "kernelspec": {
      "display_name": "Python 3",
      "name": "python3"
    }
  },
  "nbformat": 4,
  "nbformat_minor": 0
}